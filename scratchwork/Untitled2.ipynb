{
 "cells": [
  {
   "cell_type": "code",
   "execution_count": null,
   "id": "9979c34c-f5e0-4dfc-897c-d590bacc7556",
   "metadata": {},
   "outputs": [],
   "source": []
  },
  {
   "cell_type": "code",
   "execution_count": 1,
   "id": "6db973c5-3212-492b-bd49-60779cadd842",
   "metadata": {},
   "outputs": [],
   "source": [
    "# import packages\n",
    "import xarray as xr; import numpy as np; import pandas as pd\n",
    "import matplotlib.pyplot as plt\n",
    "import netCDF4 as nc\n",
    "import scipy"
   ]
  },
  {
   "cell_type": "code",
   "execution_count": 2,
   "id": "f0858785-a480-4f8c-9c68-02656933da70",
   "metadata": {},
   "outputs": [
    {
     "name": "stdout",
     "output_type": "stream",
     "text": [
      "370\n"
     ]
    }
   ],
   "source": [
    "# load data files\n",
    "filename = 'member0_events.nc'\n",
    "# other ensemble members are saved like this '/glade/work/cassiacai/member1_events.nc'\n",
    "\n",
    "member_ = xr.open_dataset(filename)\n",
    "\n",
    "# How many heatwaves are in this particular ensemble member?\n",
    "ending_val = len(np.unique(member_.labels))\n",
    "print(ending_val-1)"
   ]
  },
  {
   "cell_type": "code",
   "execution_count": null,
   "id": "03d0c936-a08d-4997-a5a0-3168537f12f8",
   "metadata": {},
   "outputs": [],
   "source": [
    "# This cell uses ~ 150 GB of memory and takes ~ 3.5 minutes.\n",
    "full_use_grids = []\n",
    "full_SST_grids = []\n",
    "\n",
    "for i in range(1,ending_val):\n",
    "    mhw_id = i\n",
    "    mhw_event_rel = member_.where(member_.labels==mhw_id, drop=False)   # dimensions are (481, 192, 288) --> (time, lat, lon)\n",
    "    x = mhw_event_rel.SSTA[:,:,:]\n",
    "    full_SST_grids.append(x)\n",
    "    no_nans_x = np.nan_to_num(x) # replace all nans with zeroes\n",
    "    no_nans_x[no_nans_x != 0] = 1 # replace all SSTA values with 1 (for shape comparison)\n",
    "    full_use_grids.append(no_nans_x)"
   ]
  },
  {
   "cell_type": "code",
   "execution_count": null,
   "id": "38dda181-2b6f-4fa9-b0a5-ee05e1e8b737",
   "metadata": {},
   "outputs": [],
   "source": []
  }
 ],
 "metadata": {
  "kernelspec": {
   "display_name": "test-env",
   "language": "python",
   "name": "test-env"
  },
  "language_info": {
   "codemirror_mode": {
    "name": "ipython",
    "version": 3
   },
   "file_extension": ".py",
   "mimetype": "text/x-python",
   "name": "python",
   "nbconvert_exporter": "python",
   "pygments_lexer": "ipython3",
   "version": "3.9.7"
  }
 },
 "nbformat": 4,
 "nbformat_minor": 5
}
