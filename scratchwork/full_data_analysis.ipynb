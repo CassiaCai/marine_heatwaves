{
 "cells": [
  {
   "cell_type": "markdown",
   "id": "5cc85bd9-f012-4a7a-abb2-a9e1514a662e",
   "metadata": {},
   "source": [
    "# Data Analysis\n",
    "In this Jupyter Notebook, we analyze marine heatwave events from the last 40 years of CESM-LE simulations. In the notebook before this one, titled savingensembleruns_last40years.ipynb, we ran Ocetrac on the 100 CESM-LE simulations, setting a radius size 3. "
   ]
  },
  {
   "cell_type": "markdown",
   "id": "90faf5da-419e-4c42-bb27-f173c115d9b0",
   "metadata": {},
   "source": [
    "### Loading in packages"
   ]
  },
  {
   "cell_type": "code",
   "execution_count": 1,
   "id": "9fd13949-0ef3-477b-895e-3522709dcbef",
   "metadata": {},
   "outputs": [],
   "source": [
    "##### LOADING IN PACKAGES #--------------------------------------------------------------\n",
    "import s3fs; import xarray as xr; import numpy as np\n",
    "import pandas as pd; \n",
    "import dask.array as da\n",
    "import ocetrac\n",
    "\n",
    "import matplotlib.pyplot as plt; import cartopy.crs as ccrs\n",
    "\n",
    "import warnings; import expectexception\n",
    "warnings.filterwarnings('ignore')\n",
    "\n",
    "import netCDF4 as nc; import datetime as dt\n",
    "import scipy\n",
    "\n",
    "import intake; import pprint\n",
    "# Allow multiple lines per cell to be displayed without print (default is just last line)\n",
    "from IPython.core.interactiveshell import InteractiveShell\n",
    "InteractiveShell.ast_node_interactivity = \"all\"\n",
    "# Enable more explicit control of DataFrame display (e.g., to omit annoying line numbers)\n",
    "from IPython.display import HTML"
   ]
  },
  {
   "cell_type": "code",
   "execution_count": 6,
   "id": "44989552-0a78-4b6f-90ee-9eb7ee6f6dd2",
   "metadata": {},
   "outputs": [],
   "source": [
    "%matplotlib inline"
   ]
  },
  {
   "cell_type": "markdown",
   "id": "369ab9b3-af00-48d2-8695-2067ecc4db83",
   "metadata": {},
   "source": [
    "### Loading marine heatwave event files and SST anomaly files"
   ]
  },
  {
   "cell_type": "code",
   "execution_count": 7,
   "id": "60c81f34-e8cb-43e0-a9fc-535a144bd1c5",
   "metadata": {},
   "outputs": [
    {
     "name": "stdout",
     "output_type": "stream",
     "text": [
      "CPU times: user 24.4 s, sys: 1.32 s, total: 25.7 s\n",
      "Wall time: 26.9 s\n"
     ]
    }
   ],
   "source": [
    "%%time\n",
    " \n",
    "# Open original collection description file #----------------------------------------------\n",
    "cat_url_orig = '/glade/collections/cmip/catalog/intake-esm-datastore/catalogs/glade-cesm2-le.json'\n",
    "coll_orig = intake.open_esm_datastore(cat_url_orig)"
   ]
  },
  {
   "cell_type": "code",
   "execution_count": 8,
   "id": "485168e4-7546-4141-bb93-d0f942b8dc2d",
   "metadata": {},
   "outputs": [
    {
     "name": "stdout",
     "output_type": "stream",
     "text": [
      "CPU times: user 965 ms, sys: 1.59 ms, total: 966 ms\n",
      "Wall time: 1.02 s\n"
     ]
    }
   ],
   "source": [
    "%%time\n",
    "\n",
    "subset = coll_orig.search(component='atm',variable='SST',frequency='month_1',experiment='historical')\n",
    "filenamechange = list(subset.df.member_id.unique())"
   ]
  },
  {
   "cell_type": "code",
   "execution_count": 9,
   "id": "274bc157-b66b-4c36-9f7c-507af309aa9b",
   "metadata": {},
   "outputs": [
    {
     "name": "stdout",
     "output_type": "stream",
     "text": [
      "CPU times: user 1.52 s, sys: 396 ms, total: 1.92 s\n",
      "Wall time: 10.9 s\n"
     ]
    }
   ],
   "source": [
    "%%time\n",
    "\n",
    "list_of_xarrays = []\n",
    "list_of_xarrays_SSTA = []\n",
    "\n",
    "for i in filenamechange:\n",
    "    \n",
    "    string_head = '/glade/work/cassiacai/' + str(i) + '_rad3_blobs.nc'    \n",
    "    xarray_file = xr.open_dataset(str(string_head))\n",
    "    list_of_xarrays.append(xarray_file)\n",
    "    \n",
    "    string_head_SSTA = '/glade/work/cassiacai/' + str(i) + '_detrended.nc'\n",
    "    xarray_file_SSTA = xr.open_dataset(str(string_head_SSTA))\n",
    "    list_of_xarrays_SSTA.append(xarray_file_SSTA)"
   ]
  },
  {
   "cell_type": "code",
   "execution_count": 10,
   "id": "02e50df3-0d6e-485d-a55d-bc447827c6c3",
   "metadata": {},
   "outputs": [
    {
     "name": "stdout",
     "output_type": "stream",
     "text": [
      "CPU times: user 4.25 s, sys: 11.4 s, total: 15.7 s\n",
      "Wall time: 54.1 s\n"
     ]
    }
   ],
   "source": [
    "%%time\n",
    "\n",
    "concated_xarray = xr.concat(list_of_xarrays, \"new_dim\")"
   ]
  },
  {
   "cell_type": "code",
   "execution_count": 11,
   "id": "78dd4bd1-b9b6-4e90-92e6-73ae29b8087f",
   "metadata": {},
   "outputs": [
    {
     "name": "stdout",
     "output_type": "stream",
     "text": [
      "CPU times: user 4.13 s, sys: 11.3 s, total: 15.5 s\n",
      "Wall time: 36.2 s\n"
     ]
    }
   ],
   "source": [
    "%%time\n",
    "\n",
    "concated_xarray_SSTA = xr.concat(list_of_xarrays_SSTA, \"new_dim\")"
   ]
  },
  {
   "cell_type": "markdown",
   "id": "8a8345b1-c8df-49d0-95a1-76a3f3abbce0",
   "metadata": {},
   "source": [
    "### Combining SSTA and MHW event files"
   ]
  },
  {
   "cell_type": "code",
   "execution_count": 12,
   "id": "b2a855f3-9eca-4f36-8eef-faf27358a213",
   "metadata": {},
   "outputs": [
    {
     "name": "stdout",
     "output_type": "stream",
     "text": [
      "CPU times: user 3.7 ms, sys: 0 ns, total: 3.7 ms\n",
      "Wall time: 3.7 ms\n"
     ]
    }
   ],
   "source": [
    "%%time\n",
    "\n",
    "combined_xarray = xr.combine_by_coords([concated_xarray, concated_xarray_SSTA])\n",
    "combined_xarray['SSTA'] = combined_xarray['__xarray_dataarray_variable__']\n",
    "combined_xarray = combined_xarray.drop(['__xarray_dataarray_variable__'])"
   ]
  },
  {
   "cell_type": "code",
   "execution_count": 13,
   "id": "ccb8ffc9-ec06-4531-9fc0-f8cd7e29cc32",
   "metadata": {},
   "outputs": [
    {
     "data": {
      "text/html": [
       "<div><svg style=\"position: absolute; width: 0; height: 0; overflow: hidden\">\n",
       "<defs>\n",
       "<symbol id=\"icon-database\" viewBox=\"0 0 32 32\">\n",
       "<path d=\"M16 0c-8.837 0-16 2.239-16 5v4c0 2.761 7.163 5 16 5s16-2.239 16-5v-4c0-2.761-7.163-5-16-5z\"></path>\n",
       "<path d=\"M16 17c-8.837 0-16-2.239-16-5v6c0 2.761 7.163 5 16 5s16-2.239 16-5v-6c0 2.761-7.163 5-16 5z\"></path>\n",
       "<path d=\"M16 26c-8.837 0-16-2.239-16-5v6c0 2.761 7.163 5 16 5s16-2.239 16-5v-6c0 2.761-7.163 5-16 5z\"></path>\n",
       "</symbol>\n",
       "<symbol id=\"icon-file-text2\" viewBox=\"0 0 32 32\">\n",
       "<path d=\"M28.681 7.159c-0.694-0.947-1.662-2.053-2.724-3.116s-2.169-2.030-3.116-2.724c-1.612-1.182-2.393-1.319-2.841-1.319h-15.5c-1.378 0-2.5 1.121-2.5 2.5v27c0 1.378 1.122 2.5 2.5 2.5h23c1.378 0 2.5-1.122 2.5-2.5v-19.5c0-0.448-0.137-1.23-1.319-2.841zM24.543 5.457c0.959 0.959 1.712 1.825 2.268 2.543h-4.811v-4.811c0.718 0.556 1.584 1.309 2.543 2.268zM28 29.5c0 0.271-0.229 0.5-0.5 0.5h-23c-0.271 0-0.5-0.229-0.5-0.5v-27c0-0.271 0.229-0.5 0.5-0.5 0 0 15.499-0 15.5 0v7c0 0.552 0.448 1 1 1h7v19.5z\"></path>\n",
       "<path d=\"M23 26h-14c-0.552 0-1-0.448-1-1s0.448-1 1-1h14c0.552 0 1 0.448 1 1s-0.448 1-1 1z\"></path>\n",
       "<path d=\"M23 22h-14c-0.552 0-1-0.448-1-1s0.448-1 1-1h14c0.552 0 1 0.448 1 1s-0.448 1-1 1z\"></path>\n",
       "<path d=\"M23 18h-14c-0.552 0-1-0.448-1-1s0.448-1 1-1h14c0.552 0 1 0.448 1 1s-0.448 1-1 1z\"></path>\n",
       "</symbol>\n",
       "</defs>\n",
       "</svg>\n",
       "<style>/* CSS stylesheet for displaying xarray objects in jupyterlab.\n",
       " *\n",
       " */\n",
       "\n",
       ":root {\n",
       "  --xr-font-color0: var(--jp-content-font-color0, rgba(0, 0, 0, 1));\n",
       "  --xr-font-color2: var(--jp-content-font-color2, rgba(0, 0, 0, 0.54));\n",
       "  --xr-font-color3: var(--jp-content-font-color3, rgba(0, 0, 0, 0.38));\n",
       "  --xr-border-color: var(--jp-border-color2, #e0e0e0);\n",
       "  --xr-disabled-color: var(--jp-layout-color3, #bdbdbd);\n",
       "  --xr-background-color: var(--jp-layout-color0, white);\n",
       "  --xr-background-color-row-even: var(--jp-layout-color1, white);\n",
       "  --xr-background-color-row-odd: var(--jp-layout-color2, #eeeeee);\n",
       "}\n",
       "\n",
       "html[theme=dark],\n",
       "body.vscode-dark {\n",
       "  --xr-font-color0: rgba(255, 255, 255, 1);\n",
       "  --xr-font-color2: rgba(255, 255, 255, 0.54);\n",
       "  --xr-font-color3: rgba(255, 255, 255, 0.38);\n",
       "  --xr-border-color: #1F1F1F;\n",
       "  --xr-disabled-color: #515151;\n",
       "  --xr-background-color: #111111;\n",
       "  --xr-background-color-row-even: #111111;\n",
       "  --xr-background-color-row-odd: #313131;\n",
       "}\n",
       "\n",
       ".xr-wrap {\n",
       "  display: block;\n",
       "  min-width: 300px;\n",
       "  max-width: 700px;\n",
       "}\n",
       "\n",
       ".xr-text-repr-fallback {\n",
       "  /* fallback to plain text repr when CSS is not injected (untrusted notebook) */\n",
       "  display: none;\n",
       "}\n",
       "\n",
       ".xr-header {\n",
       "  padding-top: 6px;\n",
       "  padding-bottom: 6px;\n",
       "  margin-bottom: 4px;\n",
       "  border-bottom: solid 1px var(--xr-border-color);\n",
       "}\n",
       "\n",
       ".xr-header > div,\n",
       ".xr-header > ul {\n",
       "  display: inline;\n",
       "  margin-top: 0;\n",
       "  margin-bottom: 0;\n",
       "}\n",
       "\n",
       ".xr-obj-type,\n",
       ".xr-array-name {\n",
       "  margin-left: 2px;\n",
       "  margin-right: 10px;\n",
       "}\n",
       "\n",
       ".xr-obj-type {\n",
       "  color: var(--xr-font-color2);\n",
       "}\n",
       "\n",
       ".xr-sections {\n",
       "  padding-left: 0 !important;\n",
       "  display: grid;\n",
       "  grid-template-columns: 150px auto auto 1fr 20px 20px;\n",
       "}\n",
       "\n",
       ".xr-section-item {\n",
       "  display: contents;\n",
       "}\n",
       "\n",
       ".xr-section-item input {\n",
       "  display: none;\n",
       "}\n",
       "\n",
       ".xr-section-item input + label {\n",
       "  color: var(--xr-disabled-color);\n",
       "}\n",
       "\n",
       ".xr-section-item input:enabled + label {\n",
       "  cursor: pointer;\n",
       "  color: var(--xr-font-color2);\n",
       "}\n",
       "\n",
       ".xr-section-item input:enabled + label:hover {\n",
       "  color: var(--xr-font-color0);\n",
       "}\n",
       "\n",
       ".xr-section-summary {\n",
       "  grid-column: 1;\n",
       "  color: var(--xr-font-color2);\n",
       "  font-weight: 500;\n",
       "}\n",
       "\n",
       ".xr-section-summary > span {\n",
       "  display: inline-block;\n",
       "  padding-left: 0.5em;\n",
       "}\n",
       "\n",
       ".xr-section-summary-in:disabled + label {\n",
       "  color: var(--xr-font-color2);\n",
       "}\n",
       "\n",
       ".xr-section-summary-in + label:before {\n",
       "  display: inline-block;\n",
       "  content: '►';\n",
       "  font-size: 11px;\n",
       "  width: 15px;\n",
       "  text-align: center;\n",
       "}\n",
       "\n",
       ".xr-section-summary-in:disabled + label:before {\n",
       "  color: var(--xr-disabled-color);\n",
       "}\n",
       "\n",
       ".xr-section-summary-in:checked + label:before {\n",
       "  content: '▼';\n",
       "}\n",
       "\n",
       ".xr-section-summary-in:checked + label > span {\n",
       "  display: none;\n",
       "}\n",
       "\n",
       ".xr-section-summary,\n",
       ".xr-section-inline-details {\n",
       "  padding-top: 4px;\n",
       "  padding-bottom: 4px;\n",
       "}\n",
       "\n",
       ".xr-section-inline-details {\n",
       "  grid-column: 2 / -1;\n",
       "}\n",
       "\n",
       ".xr-section-details {\n",
       "  display: none;\n",
       "  grid-column: 1 / -1;\n",
       "  margin-bottom: 5px;\n",
       "}\n",
       "\n",
       ".xr-section-summary-in:checked ~ .xr-section-details {\n",
       "  display: contents;\n",
       "}\n",
       "\n",
       ".xr-array-wrap {\n",
       "  grid-column: 1 / -1;\n",
       "  display: grid;\n",
       "  grid-template-columns: 20px auto;\n",
       "}\n",
       "\n",
       ".xr-array-wrap > label {\n",
       "  grid-column: 1;\n",
       "  vertical-align: top;\n",
       "}\n",
       "\n",
       ".xr-preview {\n",
       "  color: var(--xr-font-color3);\n",
       "}\n",
       "\n",
       ".xr-array-preview,\n",
       ".xr-array-data {\n",
       "  padding: 0 5px !important;\n",
       "  grid-column: 2;\n",
       "}\n",
       "\n",
       ".xr-array-data,\n",
       ".xr-array-in:checked ~ .xr-array-preview {\n",
       "  display: none;\n",
       "}\n",
       "\n",
       ".xr-array-in:checked ~ .xr-array-data,\n",
       ".xr-array-preview {\n",
       "  display: inline-block;\n",
       "}\n",
       "\n",
       ".xr-dim-list {\n",
       "  display: inline-block !important;\n",
       "  list-style: none;\n",
       "  padding: 0 !important;\n",
       "  margin: 0;\n",
       "}\n",
       "\n",
       ".xr-dim-list li {\n",
       "  display: inline-block;\n",
       "  padding: 0;\n",
       "  margin: 0;\n",
       "}\n",
       "\n",
       ".xr-dim-list:before {\n",
       "  content: '(';\n",
       "}\n",
       "\n",
       ".xr-dim-list:after {\n",
       "  content: ')';\n",
       "}\n",
       "\n",
       ".xr-dim-list li:not(:last-child):after {\n",
       "  content: ',';\n",
       "  padding-right: 5px;\n",
       "}\n",
       "\n",
       ".xr-has-index {\n",
       "  font-weight: bold;\n",
       "}\n",
       "\n",
       ".xr-var-list,\n",
       ".xr-var-item {\n",
       "  display: contents;\n",
       "}\n",
       "\n",
       ".xr-var-item > div,\n",
       ".xr-var-item label,\n",
       ".xr-var-item > .xr-var-name span {\n",
       "  background-color: var(--xr-background-color-row-even);\n",
       "  margin-bottom: 0;\n",
       "}\n",
       "\n",
       ".xr-var-item > .xr-var-name:hover span {\n",
       "  padding-right: 5px;\n",
       "}\n",
       "\n",
       ".xr-var-list > li:nth-child(odd) > div,\n",
       ".xr-var-list > li:nth-child(odd) > label,\n",
       ".xr-var-list > li:nth-child(odd) > .xr-var-name span {\n",
       "  background-color: var(--xr-background-color-row-odd);\n",
       "}\n",
       "\n",
       ".xr-var-name {\n",
       "  grid-column: 1;\n",
       "}\n",
       "\n",
       ".xr-var-dims {\n",
       "  grid-column: 2;\n",
       "}\n",
       "\n",
       ".xr-var-dtype {\n",
       "  grid-column: 3;\n",
       "  text-align: right;\n",
       "  color: var(--xr-font-color2);\n",
       "}\n",
       "\n",
       ".xr-var-preview {\n",
       "  grid-column: 4;\n",
       "}\n",
       "\n",
       ".xr-var-name,\n",
       ".xr-var-dims,\n",
       ".xr-var-dtype,\n",
       ".xr-preview,\n",
       ".xr-attrs dt {\n",
       "  white-space: nowrap;\n",
       "  overflow: hidden;\n",
       "  text-overflow: ellipsis;\n",
       "  padding-right: 10px;\n",
       "}\n",
       "\n",
       ".xr-var-name:hover,\n",
       ".xr-var-dims:hover,\n",
       ".xr-var-dtype:hover,\n",
       ".xr-attrs dt:hover {\n",
       "  overflow: visible;\n",
       "  width: auto;\n",
       "  z-index: 1;\n",
       "}\n",
       "\n",
       ".xr-var-attrs,\n",
       ".xr-var-data {\n",
       "  display: none;\n",
       "  background-color: var(--xr-background-color) !important;\n",
       "  padding-bottom: 5px !important;\n",
       "}\n",
       "\n",
       ".xr-var-attrs-in:checked ~ .xr-var-attrs,\n",
       ".xr-var-data-in:checked ~ .xr-var-data {\n",
       "  display: block;\n",
       "}\n",
       "\n",
       ".xr-var-data > table {\n",
       "  float: right;\n",
       "}\n",
       "\n",
       ".xr-var-name span,\n",
       ".xr-var-data,\n",
       ".xr-attrs {\n",
       "  padding-left: 25px !important;\n",
       "}\n",
       "\n",
       ".xr-attrs,\n",
       ".xr-var-attrs,\n",
       ".xr-var-data {\n",
       "  grid-column: 1 / -1;\n",
       "}\n",
       "\n",
       "dl.xr-attrs {\n",
       "  padding: 0;\n",
       "  margin: 0;\n",
       "  display: grid;\n",
       "  grid-template-columns: 125px auto;\n",
       "}\n",
       "\n",
       ".xr-attrs dt,\n",
       ".xr-attrs dd {\n",
       "  padding: 0;\n",
       "  margin: 0;\n",
       "  float: left;\n",
       "  padding-right: 10px;\n",
       "  width: auto;\n",
       "}\n",
       "\n",
       ".xr-attrs dt {\n",
       "  font-weight: normal;\n",
       "  grid-column: 1;\n",
       "}\n",
       "\n",
       ".xr-attrs dt:hover span {\n",
       "  display: inline-block;\n",
       "  background: var(--xr-background-color);\n",
       "  padding-right: 10px;\n",
       "}\n",
       "\n",
       ".xr-attrs dd {\n",
       "  grid-column: 2;\n",
       "  white-space: pre-wrap;\n",
       "  word-break: break-all;\n",
       "}\n",
       "\n",
       ".xr-icon-database,\n",
       ".xr-icon-file-text2 {\n",
       "  display: inline-block;\n",
       "  vertical-align: middle;\n",
       "  width: 1em;\n",
       "  height: 1.5em !important;\n",
       "  stroke-width: 0;\n",
       "  stroke: currentColor;\n",
       "  fill: currentColor;\n",
       "}\n",
       "</style><pre class='xr-text-repr-fallback'>&lt;xarray.Dataset&gt;\n",
       "Dimensions:    (time: 481, lat: 192, lon: 288, new_dim: 100)\n",
       "Coordinates:\n",
       "  * time       (time) object 1975-01-01 00:00:00 ... 2015-01-01 00:00:00\n",
       "  * lat        (lat) float64 -90.0 -89.06 -88.12 -87.17 ... 88.12 89.06 90.0\n",
       "  * lon        (lon) float64 0.0 1.25 2.5 3.75 5.0 ... 355.0 356.2 357.5 358.8\n",
       "    member_id  (new_dim) &lt;U12 &#x27;r1i1001p1f1&#x27; &#x27;r2i1021p1f1&#x27; ... &#x27;r20i1301p1f2&#x27;\n",
       "    quantile   float64 0.9\n",
       "    month      (time) int64 1 2 3 4 5 6 7 8 9 10 11 ... 3 4 5 6 7 8 9 10 11 12 1\n",
       "Dimensions without coordinates: new_dim\n",
       "Data variables:\n",
       "    labels     (new_dim, time, lat, lon) float64 nan nan nan nan ... nan nan nan\n",
       "    SSTA       (new_dim, time, lat, lon) float64 0.0 0.0 ... -0.007121 -0.007111</pre><div class='xr-wrap' hidden><div class='xr-header'><div class='xr-obj-type'>xarray.Dataset</div></div><ul class='xr-sections'><li class='xr-section-item'><input id='section-00cc7bcd-15f5-4e51-ab4b-f1b8d085bda4' class='xr-section-summary-in' type='checkbox' disabled ><label for='section-00cc7bcd-15f5-4e51-ab4b-f1b8d085bda4' class='xr-section-summary'  title='Expand/collapse section'>Dimensions:</label><div class='xr-section-inline-details'><ul class='xr-dim-list'><li><span class='xr-has-index'>time</span>: 481</li><li><span class='xr-has-index'>lat</span>: 192</li><li><span class='xr-has-index'>lon</span>: 288</li><li><span>new_dim</span>: 100</li></ul></div><div class='xr-section-details'></div></li><li class='xr-section-item'><input id='section-48dc5488-77d7-4f15-ab82-87fff1a39de7' class='xr-section-summary-in' type='checkbox'  checked><label for='section-48dc5488-77d7-4f15-ab82-87fff1a39de7' class='xr-section-summary' >Coordinates: <span>(6)</span></label><div class='xr-section-inline-details'></div><div class='xr-section-details'><ul class='xr-var-list'><li class='xr-var-item'><div class='xr-var-name'><span class='xr-has-index'>time</span></div><div class='xr-var-dims'>(time)</div><div class='xr-var-dtype'>object</div><div class='xr-var-preview xr-preview'>1975-01-01 00:00:00 ... 2015-01-...</div><input id='attrs-c7ba1bc3-3d6a-4036-92b3-69b6356d3e24' class='xr-var-attrs-in' type='checkbox' ><label for='attrs-c7ba1bc3-3d6a-4036-92b3-69b6356d3e24' title='Show/Hide attributes'><svg class='icon xr-icon-file-text2'><use xlink:href='#icon-file-text2'></use></svg></label><input id='data-0e02ad61-e94c-4a35-8b73-97744d8a9043' class='xr-var-data-in' type='checkbox'><label for='data-0e02ad61-e94c-4a35-8b73-97744d8a9043' title='Show/Hide data repr'><svg class='icon xr-icon-database'><use xlink:href='#icon-database'></use></svg></label><div class='xr-var-attrs'><dl class='xr-attrs'><dt><span>long_name :</span></dt><dd>time</dd><dt><span>bounds :</span></dt><dd>time_bnds</dd></dl></div><div class='xr-var-data'><pre>array([cftime.DatetimeNoLeap(1975, 1, 1, 0, 0, 0, 0, has_year_zero=True),\n",
       "       cftime.DatetimeNoLeap(1975, 2, 1, 0, 0, 0, 0, has_year_zero=True),\n",
       "       cftime.DatetimeNoLeap(1975, 3, 1, 0, 0, 0, 0, has_year_zero=True), ...,\n",
       "       cftime.DatetimeNoLeap(2014, 11, 1, 0, 0, 0, 0, has_year_zero=True),\n",
       "       cftime.DatetimeNoLeap(2014, 12, 1, 0, 0, 0, 0, has_year_zero=True),\n",
       "       cftime.DatetimeNoLeap(2015, 1, 1, 0, 0, 0, 0, has_year_zero=True)],\n",
       "      dtype=object)</pre></div></li><li class='xr-var-item'><div class='xr-var-name'><span class='xr-has-index'>lat</span></div><div class='xr-var-dims'>(lat)</div><div class='xr-var-dtype'>float64</div><div class='xr-var-preview xr-preview'>-90.0 -89.06 -88.12 ... 89.06 90.0</div><input id='attrs-6e5f3b9f-5210-4615-a7ce-5bf364056b70' class='xr-var-attrs-in' type='checkbox' ><label for='attrs-6e5f3b9f-5210-4615-a7ce-5bf364056b70' title='Show/Hide attributes'><svg class='icon xr-icon-file-text2'><use xlink:href='#icon-file-text2'></use></svg></label><input id='data-75d59e37-c8e2-41c5-a5a3-86db7c4c5c40' class='xr-var-data-in' type='checkbox'><label for='data-75d59e37-c8e2-41c5-a5a3-86db7c4c5c40' title='Show/Hide data repr'><svg class='icon xr-icon-database'><use xlink:href='#icon-database'></use></svg></label><div class='xr-var-attrs'><dl class='xr-attrs'><dt><span>long_name :</span></dt><dd>latitude</dd><dt><span>units :</span></dt><dd>degrees_north</dd></dl></div><div class='xr-var-data'><pre>array([-90.      , -89.057592, -88.115183, -87.172775, -86.230366, -85.287958,\n",
       "       -84.34555 , -83.403141, -82.460733, -81.518325, -80.575916, -79.633508,\n",
       "       -78.691099, -77.748691, -76.806283, -75.863874, -74.921466, -73.979058,\n",
       "       -73.036649, -72.094241, -71.151832, -70.209424, -69.267016, -68.324607,\n",
       "       -67.382199, -66.439791, -65.497382, -64.554974, -63.612565, -62.670157,\n",
       "       -61.727749, -60.78534 , -59.842932, -58.900524, -57.958115, -57.015707,\n",
       "       -56.073298, -55.13089 , -54.188482, -53.246073, -52.303665, -51.361257,\n",
       "       -50.418848, -49.47644 , -48.534031, -47.591623, -46.649215, -45.706806,\n",
       "       -44.764398, -43.82199 , -42.879581, -41.937173, -40.994764, -40.052356,\n",
       "       -39.109948, -38.167539, -37.225131, -36.282723, -35.340314, -34.397906,\n",
       "       -33.455497, -32.513089, -31.570681, -30.628272, -29.685864, -28.743455,\n",
       "       -27.801047, -26.858639, -25.91623 , -24.973822, -24.031414, -23.089005,\n",
       "       -22.146597, -21.204188, -20.26178 , -19.319372, -18.376963, -17.434555,\n",
       "       -16.492147, -15.549738, -14.60733 , -13.664921, -12.722513, -11.780105,\n",
       "       -10.837696,  -9.895288,  -8.95288 ,  -8.010471,  -7.068063,  -6.125654,\n",
       "        -5.183246,  -4.240838,  -3.298429,  -2.356021,  -1.413613,  -0.471204,\n",
       "         0.471204,   1.413613,   2.356021,   3.298429,   4.240838,   5.183246,\n",
       "         6.125654,   7.068063,   8.010471,   8.95288 ,   9.895288,  10.837696,\n",
       "        11.780105,  12.722513,  13.664921,  14.60733 ,  15.549738,  16.492147,\n",
       "        17.434555,  18.376963,  19.319372,  20.26178 ,  21.204188,  22.146597,\n",
       "        23.089005,  24.031414,  24.973822,  25.91623 ,  26.858639,  27.801047,\n",
       "        28.743455,  29.685864,  30.628272,  31.570681,  32.513089,  33.455497,\n",
       "        34.397906,  35.340314,  36.282723,  37.225131,  38.167539,  39.109948,\n",
       "        40.052356,  40.994764,  41.937173,  42.879581,  43.82199 ,  44.764398,\n",
       "        45.706806,  46.649215,  47.591623,  48.534031,  49.47644 ,  50.418848,\n",
       "        51.361257,  52.303665,  53.246073,  54.188482,  55.13089 ,  56.073298,\n",
       "        57.015707,  57.958115,  58.900524,  59.842932,  60.78534 ,  61.727749,\n",
       "        62.670157,  63.612565,  64.554974,  65.497382,  66.439791,  67.382199,\n",
       "        68.324607,  69.267016,  70.209424,  71.151832,  72.094241,  73.036649,\n",
       "        73.979058,  74.921466,  75.863874,  76.806283,  77.748691,  78.691099,\n",
       "        79.633508,  80.575916,  81.518325,  82.460733,  83.403141,  84.34555 ,\n",
       "        85.287958,  86.230366,  87.172775,  88.115183,  89.057592,  90.      ])</pre></div></li><li class='xr-var-item'><div class='xr-var-name'><span class='xr-has-index'>lon</span></div><div class='xr-var-dims'>(lon)</div><div class='xr-var-dtype'>float64</div><div class='xr-var-preview xr-preview'>0.0 1.25 2.5 ... 356.2 357.5 358.8</div><input id='attrs-53c8186e-1b5e-43ea-9f3c-113692a25f1b' class='xr-var-attrs-in' type='checkbox' ><label for='attrs-53c8186e-1b5e-43ea-9f3c-113692a25f1b' title='Show/Hide attributes'><svg class='icon xr-icon-file-text2'><use xlink:href='#icon-file-text2'></use></svg></label><input id='data-f312e489-fd81-4fee-9624-fff2e0381842' class='xr-var-data-in' type='checkbox'><label for='data-f312e489-fd81-4fee-9624-fff2e0381842' title='Show/Hide data repr'><svg class='icon xr-icon-database'><use xlink:href='#icon-database'></use></svg></label><div class='xr-var-attrs'><dl class='xr-attrs'><dt><span>long_name :</span></dt><dd>longitude</dd><dt><span>units :</span></dt><dd>degrees_east</dd></dl></div><div class='xr-var-data'><pre>array([  0.  ,   1.25,   2.5 , ..., 356.25, 357.5 , 358.75])</pre></div></li><li class='xr-var-item'><div class='xr-var-name'><span>member_id</span></div><div class='xr-var-dims'>(new_dim)</div><div class='xr-var-dtype'>&lt;U12</div><div class='xr-var-preview xr-preview'>&#x27;r1i1001p1f1&#x27; ... &#x27;r20i1301p1f2&#x27;</div><input id='attrs-ce10325d-194b-4414-b739-a2a7bb2fb535' class='xr-var-attrs-in' type='checkbox' disabled><label for='attrs-ce10325d-194b-4414-b739-a2a7bb2fb535' title='Show/Hide attributes'><svg class='icon xr-icon-file-text2'><use xlink:href='#icon-file-text2'></use></svg></label><input id='data-4eff00b7-c5f1-4699-8377-2f928164bdd7' class='xr-var-data-in' type='checkbox'><label for='data-4eff00b7-c5f1-4699-8377-2f928164bdd7' title='Show/Hide data repr'><svg class='icon xr-icon-database'><use xlink:href='#icon-database'></use></svg></label><div class='xr-var-attrs'><dl class='xr-attrs'></dl></div><div class='xr-var-data'><pre>array([&#x27;r1i1001p1f1&#x27;, &#x27;r2i1021p1f1&#x27;, &#x27;r3i1041p1f1&#x27;, &#x27;r4i1061p1f1&#x27;,\n",
       "       &#x27;r5i1081p1f1&#x27;, &#x27;r6i1101p1f1&#x27;, &#x27;r7i1121p1f1&#x27;, &#x27;r8i1141p1f1&#x27;,\n",
       "       &#x27;r9i1161p1f1&#x27;, &#x27;r10i1181p1f1&#x27;, &#x27;r1i1231p1f1&#x27;, &#x27;r2i1231p1f1&#x27;,\n",
       "       &#x27;r3i1231p1f1&#x27;, &#x27;r4i1231p1f1&#x27;, &#x27;r5i1231p1f1&#x27;, &#x27;r6i1231p1f1&#x27;,\n",
       "       &#x27;r7i1231p1f1&#x27;, &#x27;r8i1231p1f1&#x27;, &#x27;r9i1231p1f1&#x27;, &#x27;r10i1231p1f1&#x27;,\n",
       "       &#x27;r1i1251p1f1&#x27;, &#x27;r2i1251p1f1&#x27;, &#x27;r3i1251p1f1&#x27;, &#x27;r4i1251p1f1&#x27;,\n",
       "       &#x27;r5i1251p1f1&#x27;, &#x27;r6i1251p1f1&#x27;, &#x27;r7i1251p1f1&#x27;, &#x27;r8i1251p1f1&#x27;,\n",
       "       &#x27;r9i1251p1f1&#x27;, &#x27;r10i1251p1f1&#x27;, &#x27;r1i1281p1f1&#x27;, &#x27;r2i1281p1f1&#x27;,\n",
       "       &#x27;r3i1281p1f1&#x27;, &#x27;r4i1281p1f1&#x27;, &#x27;r5i1281p1f1&#x27;, &#x27;r6i1281p1f1&#x27;,\n",
       "       &#x27;r7i1281p1f1&#x27;, &#x27;r8i1281p1f1&#x27;, &#x27;r9i1281p1f1&#x27;, &#x27;r10i1281p1f1&#x27;,\n",
       "       &#x27;r1i1301p1f1&#x27;, &#x27;r2i1301p1f1&#x27;, &#x27;r3i1301p1f1&#x27;, &#x27;r4i1301p1f1&#x27;,\n",
       "       &#x27;r5i1301p1f1&#x27;, &#x27;r6i1301p1f1&#x27;, &#x27;r7i1301p1f1&#x27;, &#x27;r8i1301p1f1&#x27;,\n",
       "       &#x27;r9i1301p1f1&#x27;, &#x27;r10i1301p1f1&#x27;, &#x27;r1i1011p1f2&#x27;, &#x27;r2i1031p1f2&#x27;,\n",
       "       &#x27;r3i1051p1f2&#x27;, &#x27;r4i1071p1f2&#x27;, &#x27;r5i1091p1f2&#x27;, &#x27;r6i1111p1f2&#x27;,\n",
       "       &#x27;r7i1131p1f2&#x27;, &#x27;r8i1151p1f2&#x27;, &#x27;r9i1171p1f2&#x27;, &#x27;r10i1191p1f2&#x27;,\n",
       "       &#x27;r11i1231p1f2&#x27;, &#x27;r12i1231p1f2&#x27;, &#x27;r13i1231p1f2&#x27;, &#x27;r14i1231p1f2&#x27;,\n",
       "       &#x27;r15i1231p1f2&#x27;, &#x27;r16i1231p1f2&#x27;, &#x27;r17i1231p1f2&#x27;, &#x27;r18i1231p1f2&#x27;,\n",
       "       &#x27;r19i1231p1f2&#x27;, &#x27;r20i1231p1f2&#x27;, &#x27;r11i1251p1f2&#x27;, &#x27;r12i1251p1f2&#x27;,\n",
       "       &#x27;r13i1251p1f2&#x27;, &#x27;r14i1251p1f2&#x27;, &#x27;r15i1251p1f2&#x27;, &#x27;r16i1251p1f2&#x27;,\n",
       "       &#x27;r17i1251p1f2&#x27;, &#x27;r18i1251p1f2&#x27;, &#x27;r19i1251p1f2&#x27;, &#x27;r20i1251p1f2&#x27;,\n",
       "       &#x27;r11i1281p1f2&#x27;, &#x27;r12i1281p1f2&#x27;, &#x27;r13i1281p1f2&#x27;, &#x27;r14i1281p1f2&#x27;,\n",
       "       &#x27;r15i1281p1f2&#x27;, &#x27;r16i1281p1f2&#x27;, &#x27;r17i1281p1f2&#x27;, &#x27;r18i1281p1f2&#x27;,\n",
       "       &#x27;r19i1281p1f2&#x27;, &#x27;r20i1281p1f2&#x27;, &#x27;r11i1301p1f2&#x27;, &#x27;r12i1301p1f2&#x27;,\n",
       "       &#x27;r13i1301p1f2&#x27;, &#x27;r14i1301p1f2&#x27;, &#x27;r15i1301p1f2&#x27;, &#x27;r16i1301p1f2&#x27;,\n",
       "       &#x27;r17i1301p1f2&#x27;, &#x27;r18i1301p1f2&#x27;, &#x27;r19i1301p1f2&#x27;, &#x27;r20i1301p1f2&#x27;],\n",
       "      dtype=&#x27;&lt;U12&#x27;)</pre></div></li><li class='xr-var-item'><div class='xr-var-name'><span>quantile</span></div><div class='xr-var-dims'>()</div><div class='xr-var-dtype'>float64</div><div class='xr-var-preview xr-preview'>0.9</div><input id='attrs-651f8517-c2d9-41ef-b95c-61a2f3774b01' class='xr-var-attrs-in' type='checkbox' disabled><label for='attrs-651f8517-c2d9-41ef-b95c-61a2f3774b01' title='Show/Hide attributes'><svg class='icon xr-icon-file-text2'><use xlink:href='#icon-file-text2'></use></svg></label><input id='data-205d5ccb-ca3a-4bd5-8a3e-9974aa495412' class='xr-var-data-in' type='checkbox'><label for='data-205d5ccb-ca3a-4bd5-8a3e-9974aa495412' title='Show/Hide data repr'><svg class='icon xr-icon-database'><use xlink:href='#icon-database'></use></svg></label><div class='xr-var-attrs'><dl class='xr-attrs'></dl></div><div class='xr-var-data'><pre>array(0.9)</pre></div></li><li class='xr-var-item'><div class='xr-var-name'><span>month</span></div><div class='xr-var-dims'>(time)</div><div class='xr-var-dtype'>int64</div><div class='xr-var-preview xr-preview'>1 2 3 4 5 6 7 ... 7 8 9 10 11 12 1</div><input id='attrs-78f1af78-4378-42c5-896d-5baa3568a868' class='xr-var-attrs-in' type='checkbox' disabled><label for='attrs-78f1af78-4378-42c5-896d-5baa3568a868' title='Show/Hide attributes'><svg class='icon xr-icon-file-text2'><use xlink:href='#icon-file-text2'></use></svg></label><input id='data-473e7320-3000-49f6-8c81-c0023ffc739a' class='xr-var-data-in' type='checkbox'><label for='data-473e7320-3000-49f6-8c81-c0023ffc739a' title='Show/Hide data repr'><svg class='icon xr-icon-database'><use xlink:href='#icon-database'></use></svg></label><div class='xr-var-attrs'><dl class='xr-attrs'></dl></div><div class='xr-var-data'><pre>array([ 1,  2,  3,  4,  5,  6,  7,  8,  9, 10, 11, 12,  1,  2,  3,  4,  5,\n",
       "        6,  7,  8,  9, 10, 11, 12,  1,  2,  3,  4,  5,  6,  7,  8,  9, 10,\n",
       "       11, 12,  1,  2,  3,  4,  5,  6,  7,  8,  9, 10, 11, 12,  1,  2,  3,\n",
       "        4,  5,  6,  7,  8,  9, 10, 11, 12,  1,  2,  3,  4,  5,  6,  7,  8,\n",
       "        9, 10, 11, 12,  1,  2,  3,  4,  5,  6,  7,  8,  9, 10, 11, 12,  1,\n",
       "        2,  3,  4,  5,  6,  7,  8,  9, 10, 11, 12,  1,  2,  3,  4,  5,  6,\n",
       "        7,  8,  9, 10, 11, 12,  1,  2,  3,  4,  5,  6,  7,  8,  9, 10, 11,\n",
       "       12,  1,  2,  3,  4,  5,  6,  7,  8,  9, 10, 11, 12,  1,  2,  3,  4,\n",
       "        5,  6,  7,  8,  9, 10, 11, 12,  1,  2,  3,  4,  5,  6,  7,  8,  9,\n",
       "       10, 11, 12,  1,  2,  3,  4,  5,  6,  7,  8,  9, 10, 11, 12,  1,  2,\n",
       "        3,  4,  5,  6,  7,  8,  9, 10, 11, 12,  1,  2,  3,  4,  5,  6,  7,\n",
       "        8,  9, 10, 11, 12,  1,  2,  3,  4,  5,  6,  7,  8,  9, 10, 11, 12,\n",
       "        1,  2,  3,  4,  5,  6,  7,  8,  9, 10, 11, 12,  1,  2,  3,  4,  5,\n",
       "        6,  7,  8,  9, 10, 11, 12,  1,  2,  3,  4,  5,  6,  7,  8,  9, 10,\n",
       "       11, 12,  1,  2,  3,  4,  5,  6,  7,  8,  9, 10, 11, 12,  1,  2,  3,\n",
       "        4,  5,  6,  7,  8,  9, 10, 11, 12,  1,  2,  3,  4,  5,  6,  7,  8,\n",
       "        9, 10, 11, 12,  1,  2,  3,  4,  5,  6,  7,  8,  9, 10, 11, 12,  1,\n",
       "        2,  3,  4,  5,  6,  7,  8,  9, 10, 11, 12,  1,  2,  3,  4,  5,  6,\n",
       "        7,  8,  9, 10, 11, 12,  1,  2,  3,  4,  5,  6,  7,  8,  9, 10, 11,\n",
       "       12,  1,  2,  3,  4,  5,  6,  7,  8,  9, 10, 11, 12,  1,  2,  3,  4,\n",
       "        5,  6,  7,  8,  9, 10, 11, 12,  1,  2,  3,  4,  5,  6,  7,  8,  9,\n",
       "       10, 11, 12,  1,  2,  3,  4,  5,  6,  7,  8,  9, 10, 11, 12,  1,  2,\n",
       "        3,  4,  5,  6,  7,  8,  9, 10, 11, 12,  1,  2,  3,  4,  5,  6,  7,\n",
       "        8,  9, 10, 11, 12,  1,  2,  3,  4,  5,  6,  7,  8,  9, 10, 11, 12,\n",
       "        1,  2,  3,  4,  5,  6,  7,  8,  9, 10, 11, 12,  1,  2,  3,  4,  5,\n",
       "        6,  7,  8,  9, 10, 11, 12,  1,  2,  3,  4,  5,  6,  7,  8,  9, 10,\n",
       "       11, 12,  1,  2,  3,  4,  5,  6,  7,  8,  9, 10, 11, 12,  1,  2,  3,\n",
       "        4,  5,  6,  7,  8,  9, 10, 11, 12,  1,  2,  3,  4,  5,  6,  7,  8,\n",
       "        9, 10, 11, 12,  1])</pre></div></li></ul></div></li><li class='xr-section-item'><input id='section-5af74d9d-399c-4d4c-aac2-2a089bc0cec3' class='xr-section-summary-in' type='checkbox'  checked><label for='section-5af74d9d-399c-4d4c-aac2-2a089bc0cec3' class='xr-section-summary' >Data variables: <span>(2)</span></label><div class='xr-section-inline-details'></div><div class='xr-section-details'><ul class='xr-var-list'><li class='xr-var-item'><div class='xr-var-name'><span>labels</span></div><div class='xr-var-dims'>(new_dim, time, lat, lon)</div><div class='xr-var-dtype'>float64</div><div class='xr-var-preview xr-preview'>nan nan nan nan ... nan nan nan nan</div><input id='attrs-c9f0aefc-aa4b-408b-a153-4f48f3cb47a7' class='xr-var-attrs-in' type='checkbox' ><label for='attrs-c9f0aefc-aa4b-408b-a153-4f48f3cb47a7' title='Show/Hide attributes'><svg class='icon xr-icon-file-text2'><use xlink:href='#icon-file-text2'></use></svg></label><input id='data-32579e8b-8ba9-46c5-9f6c-aef2682669a2' class='xr-var-data-in' type='checkbox'><label for='data-32579e8b-8ba9-46c5-9f6c-aef2682669a2' title='Show/Hide data repr'><svg class='icon xr-icon-database'><use xlink:href='#icon-database'></use></svg></label><div class='xr-var-attrs'><dl class='xr-attrs'><dt><span>inital objects identified :</span></dt><dd>5750</dd><dt><span>final objects tracked :</span></dt><dd>370</dd><dt><span>radius :</span></dt><dd>3</dd><dt><span>size quantile threshold :</span></dt><dd>0.75</dd><dt><span>min area :</span></dt><dd>314.0</dd><dt><span>percent area reject :</span></dt><dd>0.2797669497236017</dd><dt><span>percent area accept :</span></dt><dd>0.7202330502763983</dd></dl></div><div class='xr-var-data'><pre>array([[[[nan, nan, nan, ..., nan, nan, nan],\n",
       "         [nan, nan, nan, ..., nan, nan, nan],\n",
       "         [nan, nan, nan, ..., nan, nan, nan],\n",
       "         ...,\n",
       "         [ 2.,  2.,  2., ...,  2.,  2.,  2.],\n",
       "         [ 2.,  2.,  2., ...,  2.,  2.,  2.],\n",
       "         [ 2.,  2.,  2., ...,  2.,  2.,  2.]],\n",
       "\n",
       "        [[nan, nan, nan, ..., nan, nan, nan],\n",
       "         [nan, nan, nan, ..., nan, nan, nan],\n",
       "         [nan, nan, nan, ..., nan, nan, nan],\n",
       "         ...,\n",
       "         [ 2.,  2.,  2., ...,  2.,  2.,  2.],\n",
       "         [ 2.,  2.,  2., ...,  2.,  2.,  2.],\n",
       "         [ 2.,  2.,  2., ...,  2.,  2.,  2.]],\n",
       "\n",
       "        [[nan, nan, nan, ..., nan, nan, nan],\n",
       "         [nan, nan, nan, ..., nan, nan, nan],\n",
       "         [nan, nan, nan, ..., nan, nan, nan],\n",
       "         ...,\n",
       "...\n",
       "         ...,\n",
       "         [nan, nan, nan, ..., nan, nan, nan],\n",
       "         [nan, nan, nan, ..., nan, nan, nan],\n",
       "         [nan, nan, nan, ..., nan, nan, nan]],\n",
       "\n",
       "        [[nan, nan, nan, ..., nan, nan, nan],\n",
       "         [nan, nan, nan, ..., nan, nan, nan],\n",
       "         [nan, nan, nan, ..., nan, nan, nan],\n",
       "         ...,\n",
       "         [nan, nan, nan, ..., nan, nan, nan],\n",
       "         [nan, nan, nan, ..., nan, nan, nan],\n",
       "         [nan, nan, nan, ..., nan, nan, nan]],\n",
       "\n",
       "        [[nan, nan, nan, ..., nan, nan, nan],\n",
       "         [nan, nan, nan, ..., nan, nan, nan],\n",
       "         [nan, nan, nan, ..., nan, nan, nan],\n",
       "         ...,\n",
       "         [nan, nan, nan, ..., nan, nan, nan],\n",
       "         [nan, nan, nan, ..., nan, nan, nan],\n",
       "         [nan, nan, nan, ..., nan, nan, nan]]]])</pre></div></li><li class='xr-var-item'><div class='xr-var-name'><span>SSTA</span></div><div class='xr-var-dims'>(new_dim, time, lat, lon)</div><div class='xr-var-dtype'>float64</div><div class='xr-var-preview xr-preview'>0.0 0.0 0.0 ... -0.007121 -0.007111</div><input id='attrs-652f2f99-732b-440e-b16c-bb5f426afd20' class='xr-var-attrs-in' type='checkbox' disabled><label for='attrs-652f2f99-732b-440e-b16c-bb5f426afd20' title='Show/Hide attributes'><svg class='icon xr-icon-file-text2'><use xlink:href='#icon-file-text2'></use></svg></label><input id='data-fc36886e-5142-4b97-a73a-cf13d224b385' class='xr-var-data-in' type='checkbox'><label for='data-fc36886e-5142-4b97-a73a-cf13d224b385' title='Show/Hide data repr'><svg class='icon xr-icon-database'><use xlink:href='#icon-database'></use></svg></label><div class='xr-var-attrs'><dl class='xr-attrs'></dl></div><div class='xr-var-data'><pre>array([[[[ 0.        ,  0.        ,  0.        , ...,  0.        ,\n",
       "           0.        ,  0.        ],\n",
       "         [ 0.        ,  0.        ,  0.        , ...,  0.        ,\n",
       "           0.        ,  0.        ],\n",
       "         [ 0.        ,  0.        ,  0.        , ...,  0.        ,\n",
       "           0.        ,  0.        ],\n",
       "         ...,\n",
       "         [ 0.04994374,  0.05002564,  0.05010236, ...,  0.04963901,\n",
       "           0.04973285,  0.04981352],\n",
       "         [ 0.0492551 ,  0.04930904,  0.04937081, ...,  0.04904302,\n",
       "           0.04913094,  0.04919421],\n",
       "         [ 0.05066815,  0.05067323,  0.05067541, ...,  0.05064796,\n",
       "           0.0506566 ,  0.05066275]],\n",
       "\n",
       "        [[ 0.        ,  0.        ,  0.        , ...,  0.        ,\n",
       "           0.        ,  0.        ],\n",
       "         [ 0.        ,  0.        ,  0.        , ...,  0.        ,\n",
       "           0.        ,  0.        ],\n",
       "         [ 0.        ,  0.        ,  0.        , ...,  0.        ,\n",
       "           0.        ,  0.        ],\n",
       "...\n",
       "         [ 0.00636873,  0.0064127 ,  0.00646892, ...,  0.00624925,\n",
       "           0.00628351,  0.00631181],\n",
       "         [ 0.00519479,  0.00522833,  0.00523549, ...,  0.00514374,\n",
       "           0.0051705 ,  0.00518622],\n",
       "         [ 0.00461923,  0.00462474,  0.004629  , ...,  0.00460076,\n",
       "           0.00460639,  0.00461484]],\n",
       "\n",
       "        [[ 0.        ,  0.        ,  0.        , ...,  0.        ,\n",
       "           0.        ,  0.        ],\n",
       "         [ 0.        ,  0.        ,  0.        , ...,  0.        ,\n",
       "           0.        ,  0.        ],\n",
       "         [ 0.        ,  0.        ,  0.        , ...,  0.        ,\n",
       "           0.        ,  0.        ],\n",
       "         ...,\n",
       "         [-0.00500285, -0.00491681, -0.004854  , ..., -0.00522977,\n",
       "          -0.0051612 , -0.00509838],\n",
       "         [-0.00647196, -0.00645336, -0.00643271, ..., -0.00656938,\n",
       "          -0.00652785, -0.00652545],\n",
       "         [-0.00710503, -0.00709699, -0.00709172, ..., -0.00712903,\n",
       "          -0.00712145, -0.00711112]]]])</pre></div></li></ul></div></li><li class='xr-section-item'><input id='section-718ca49c-507c-4bb6-94ef-f87eb6e2bda1' class='xr-section-summary-in' type='checkbox' disabled ><label for='section-718ca49c-507c-4bb6-94ef-f87eb6e2bda1' class='xr-section-summary'  title='Expand/collapse section'>Attributes: <span>(0)</span></label><div class='xr-section-inline-details'></div><div class='xr-section-details'><dl class='xr-attrs'></dl></div></li></ul></div></div>"
      ],
      "text/plain": [
       "<xarray.Dataset>\n",
       "Dimensions:    (time: 481, lat: 192, lon: 288, new_dim: 100)\n",
       "Coordinates:\n",
       "  * time       (time) object 1975-01-01 00:00:00 ... 2015-01-01 00:00:00\n",
       "  * lat        (lat) float64 -90.0 -89.06 -88.12 -87.17 ... 88.12 89.06 90.0\n",
       "  * lon        (lon) float64 0.0 1.25 2.5 3.75 5.0 ... 355.0 356.2 357.5 358.8\n",
       "    member_id  (new_dim) <U12 'r1i1001p1f1' 'r2i1021p1f1' ... 'r20i1301p1f2'\n",
       "    quantile   float64 0.9\n",
       "    month      (time) int64 1 2 3 4 5 6 7 8 9 10 11 ... 3 4 5 6 7 8 9 10 11 12 1\n",
       "Dimensions without coordinates: new_dim\n",
       "Data variables:\n",
       "    labels     (new_dim, time, lat, lon) float64 nan nan nan nan ... nan nan nan\n",
       "    SSTA       (new_dim, time, lat, lon) float64 0.0 0.0 ... -0.007121 -0.007111"
      ]
     },
     "execution_count": 13,
     "metadata": {},
     "output_type": "execute_result"
    }
   ],
   "source": [
    "combined_xarray"
   ]
  },
  {
   "cell_type": "markdown",
   "id": "798c019b-ae6a-4151-b40d-69bca044050c",
   "metadata": {},
   "source": [
    "### Setting our area of interest"
   ]
  },
  {
   "cell_type": "code",
   "execution_count": 9,
   "id": "dc171291-6c95-4108-9b3f-1c17443ecf12",
   "metadata": {},
   "outputs": [],
   "source": [
    "# North Pacific latitude and longitude limits (currently, this is a small area)\n",
    "lat_lim_less = 10. # 30. can change lat_lim_less to 10\n",
    "lat_lim_great = 60.\n",
    "\n",
    "lon_lim_less = 200.\n",
    "lon_lim_great = 250."
   ]
  },
  {
   "cell_type": "code",
   "execution_count": 10,
   "id": "2ee12e78-a7f0-4b0a-9d66-0d2f65c0f607",
   "metadata": {},
   "outputs": [
    {
     "name": "stdout",
     "output_type": "stream",
     "text": [
      "CPU times: user 9.59 s, sys: 8.68 s, total: 18.3 s\n",
      "Wall time: 18.7 s\n"
     ]
    }
   ],
   "source": [
    "%%time\n",
    "\n",
    "combined_xarray_limited = combined_xarray.where((combined_xarray.lat >= lat_lim_less) & (combined_xarray.lat <= lat_lim_great) \n",
    "                        &(combined_xarray.lon >= lon_lim_less) & (combined_xarray.lon <= lon_lim_great),drop=True)"
   ]
  },
  {
   "cell_type": "markdown",
   "id": "aea811c1-0073-4d20-bd5d-81681ffd0692",
   "metadata": {},
   "source": [
    "### Pre-processing \n",
    "#### Understanding what we are working with. How many MHW events are we working with?\n",
    "Not necessary to run this part"
   ]
  },
  {
   "cell_type": "code",
   "execution_count": null,
   "id": "87c398c8-d20b-4450-a95b-a568c1bdce37",
   "metadata": {},
   "outputs": [],
   "source": [
    "%%time \n",
    "no_mhw_counts = [] # how many MHW events globally?\n",
    "for i in range(0,100):\n",
    "    member_ = combined_xarray.isel(new_dim = i)\n",
    "    event_member_ = member_.groupby(member_.labels)\n",
    "    no_mhw_counts.append(len(event_member_))"
   ]
  },
  {
   "cell_type": "code",
   "execution_count": 2,
   "id": "af14c5cc-3921-4d08-bf0a-29d9ba488604",
   "metadata": {},
   "outputs": [],
   "source": [
    "# saving it here because the above code takes about 13 minutes to run\n",
    "no_mhw_counts = [370, 349, 391, 360, 338, 330, 382, 354, 388, 323, 370, 173, \n",
    "                 422, 361, 359, 369, 372, 344, 358, 384, 428, 378, 337, 387, \n",
    "                 337, 380, 389, 396, 364, 319, 374, 343, 360, 398, 367, 372, \n",
    "                 381, 361, 397, 384, 387, 434, 359, 319, 377, 407, 336, 348, \n",
    "                 368, 340, 330, 423, 327, 403, 321, 380, 430, 374, 387, 360, \n",
    "                 377, 344, 390, 396, 381, 389, 363, 405, 388, 351, 369, 397, \n",
    "                 426, 325, 433, 351, 385, 406, 359, 383, 385, 387, 339, 366, \n",
    "                 430, 338, 366, 353, 442, 399, 389, 406, 374, 375, 453, 402, \n",
    "                 419, 415, 397, 401]"
   ]
  },
  {
   "cell_type": "code",
   "execution_count": 5,
   "id": "eb186dc1-963b-4616-b365-e319ddcbc730",
   "metadata": {},
   "outputs": [
    {
     "name": "stdout",
     "output_type": "stream",
     "text": [
      "mean:  374.13\n",
      "std:   35.96877951779849\n",
      "max:   453\n",
      "min:   173\n"
     ]
    }
   ],
   "source": [
    "print('mean: ', np.nanmean(no_mhw_counts))\n",
    "print('std:  ', np.std(no_mhw_counts))\n",
    "print('max:  ', np.nanmax(no_mhw_counts))\n",
    "print('min:  ', np.nanmin(no_mhw_counts))"
   ]
  },
  {
   "cell_type": "code",
   "execution_count": null,
   "id": "0079ee8e-7ed0-4b64-be52-2e26551fbd41",
   "metadata": {},
   "outputs": [],
   "source": [
    "%%time \n",
    "no_mhw_counts_lim_reg = [] # how many MHW events in our region of interest? How many different MHW events make any sort of appearance in our region?\n",
    "for i in range(0,100):\n",
    "    member_ = combined_xarray_limited.isel(new_dim = i)\n",
    "    event_member_ = member_.groupby(member_.labels)\n",
    "    no_mhw_counts_lim_reg.append(len(event_member_))"
   ]
  },
  {
   "cell_type": "code",
   "execution_count": null,
   "id": "76f160b2-927d-435a-adc7-32cf2ac22599",
   "metadata": {},
   "outputs": [],
   "source": [
    "# saving it here as well although the above cell takes less than 30 s to run\n",
    "no_mhw_counts_lim_reg = [58, 47, 46, 41, 35, 40, 51, 54, 51, 42, 51, 19, 44, \n",
    "                         47, 48, 35, 44, 43, 47, 50, 54, 42, 42, 48, 33, 50, \n",
    "                         56, 50, 50, 26, 49, 42, 57, 50, 48, 44, 51, 42, 50, \n",
    "                         63, 48, 51, 44, 35, 46, 51, 40, 48, 46, 50, 42, 58, \n",
    "                         39, 47, 39, 44, 48, 45, 44, 44, 55, 45, 48, 47, 58, \n",
    "                         46, 49, 51, 48, 38, 56, 51, 51, 38, 51, 31, 39, 51, \n",
    "                         51, 53, 53, 45, 40, 42, 49, 40, 48, 46, 63, 46, 54, \n",
    "                         41, 53, 44, 66, 61, 55, 64, 55, 47]"
   ]
  },
  {
   "cell_type": "code",
   "execution_count": null,
   "id": "f77e8c5a-62ec-4d05-803e-a9cfbd87b7e7",
   "metadata": {},
   "outputs": [],
   "source": [
    "print('mean: ', np.nanmean(no_mhw_counts_lim_reg))\n",
    "print('std:  ', np.std(no_mhw_counts_lim_reg))"
   ]
  },
  {
   "cell_type": "markdown",
   "id": "3748dcd0-4905-4d6b-88d8-e82e5779f0a7",
   "metadata": {},
   "source": [
    "### Processing"
   ]
  },
  {
   "cell_type": "markdown",
   "id": "56e9ce42-327a-4e9c-b0a1-02190d621482",
   "metadata": {},
   "source": [
    "#### MHW descriptors:\n",
    "\n",
    "    1. Time (when it begins, when it ends, duration)\n",
    "    2. Location (latitudes and longitudes)\n",
    "    3. SSTA (what does the temperature anomaly look like)"
   ]
  },
  {
   "cell_type": "code",
   "execution_count": 14,
   "id": "657073b9-f4bf-443b-8b53-6e3c02e9a13a",
   "metadata": {},
   "outputs": [],
   "source": [
    "member_ = combined_xarray.isel(new_dim = 0) # trying one ensemble member"
   ]
  },
  {
   "cell_type": "code",
   "execution_count": 22,
   "id": "cb23ef8e-6cce-4f30-9aba-61255a52db66",
   "metadata": {},
   "outputs": [],
   "source": [
    "# member_.to_netcdf(\"member0_events.nc\")"
   ]
  },
  {
   "cell_type": "code",
   "execution_count": 16,
   "id": "3ee7f687-a2e7-4b76-a031-08005819e829",
   "metadata": {},
   "outputs": [],
   "source": [
    "event_member_ = member_.groupby(member_.labels)"
   ]
  },
  {
   "cell_type": "code",
   "execution_count": 17,
   "id": "e0017b6e-7b12-4aee-a299-066e40d8ca4f",
   "metadata": {},
   "outputs": [
    {
     "data": {
      "text/plain": [
       "DatasetGroupBy, grouped over 'labels'\n",
       "370 groups with labels 1.0, 2.0, 3.0, ..., 369.0, 370.0."
      ]
     },
     "execution_count": 17,
     "metadata": {},
     "output_type": "execute_result"
    }
   ],
   "source": [
    "event_member_ # for this ensemble member, there are 370 groups"
   ]
  },
  {
   "cell_type": "code",
   "execution_count": 18,
   "id": "532fa2af-904e-4aad-a13f-920df6d05b7e",
   "metadata": {
    "collapsed": true,
    "jupyter": {
     "outputs_hidden": true
    },
    "tags": []
   },
   "outputs": [
    {
     "name": "stdout",
     "output_type": "stream",
     "text": [
      "Label:  1.0\n",
      "Label:  2.0\n",
      "Label:  3.0\n",
      "Label:  4.0\n",
      "Label:  5.0\n",
      "Label:  6.0\n",
      "Label:  7.0\n",
      "Label:  8.0\n",
      "Label:  9.0\n",
      "Label:  10.0\n",
      "Label:  11.0\n",
      "Label:  12.0\n",
      "Label:  13.0\n",
      "Label:  14.0\n",
      "Label:  15.0\n",
      "Label:  16.0\n",
      "Label:  17.0\n",
      "Label:  18.0\n",
      "Label:  19.0\n",
      "Label:  20.0\n",
      "Label:  21.0\n",
      "Label:  22.0\n",
      "Label:  23.0\n",
      "Label:  24.0\n",
      "Label:  25.0\n",
      "Label:  26.0\n",
      "Label:  27.0\n",
      "Label:  28.0\n",
      "Label:  29.0\n",
      "Label:  30.0\n",
      "Label:  31.0\n",
      "Label:  32.0\n",
      "Label:  33.0\n",
      "Label:  34.0\n",
      "Label:  35.0\n",
      "Label:  36.0\n",
      "Label:  37.0\n",
      "Label:  38.0\n",
      "Label:  39.0\n",
      "Label:  40.0\n",
      "Label:  41.0\n",
      "Label:  42.0\n",
      "Label:  43.0\n",
      "Label:  44.0\n",
      "Label:  45.0\n",
      "Label:  46.0\n",
      "Label:  47.0\n",
      "Label:  48.0\n",
      "Label:  49.0\n",
      "Label:  50.0\n",
      "Label:  51.0\n",
      "Label:  52.0\n",
      "Label:  53.0\n",
      "Label:  54.0\n",
      "Label:  55.0\n",
      "Label:  56.0\n",
      "Label:  57.0\n",
      "Label:  58.0\n",
      "Label:  59.0\n",
      "Label:  60.0\n",
      "Label:  61.0\n",
      "Label:  62.0\n",
      "Label:  63.0\n",
      "Label:  64.0\n",
      "Label:  65.0\n",
      "Label:  66.0\n",
      "Label:  67.0\n",
      "Label:  68.0\n",
      "Label:  69.0\n",
      "Label:  70.0\n",
      "Label:  71.0\n",
      "Label:  72.0\n",
      "Label:  73.0\n",
      "Label:  74.0\n",
      "Label:  75.0\n",
      "Label:  76.0\n",
      "Label:  77.0\n",
      "Label:  78.0\n",
      "Label:  79.0\n",
      "Label:  80.0\n",
      "Label:  81.0\n",
      "Label:  82.0\n",
      "Label:  83.0\n",
      "Label:  84.0\n",
      "Label:  85.0\n",
      "Label:  86.0\n",
      "Label:  87.0\n",
      "Label:  88.0\n",
      "Label:  89.0\n",
      "Label:  90.0\n",
      "Label:  91.0\n",
      "Label:  92.0\n",
      "Label:  93.0\n",
      "Label:  94.0\n",
      "Label:  95.0\n",
      "Label:  96.0\n",
      "Label:  97.0\n",
      "Label:  98.0\n",
      "Label:  99.0\n",
      "Label:  100.0\n",
      "Label:  101.0\n",
      "Label:  102.0\n",
      "Label:  103.0\n",
      "Label:  104.0\n",
      "Label:  105.0\n",
      "Label:  106.0\n",
      "Label:  107.0\n",
      "Label:  108.0\n",
      "Label:  109.0\n",
      "Label:  110.0\n",
      "Label:  111.0\n",
      "Label:  112.0\n",
      "Label:  113.0\n",
      "Label:  114.0\n",
      "Label:  115.0\n",
      "Label:  116.0\n",
      "Label:  117.0\n",
      "Label:  118.0\n",
      "Label:  119.0\n",
      "Label:  120.0\n",
      "Label:  121.0\n",
      "Label:  122.0\n",
      "Label:  123.0\n",
      "Label:  124.0\n",
      "Label:  125.0\n",
      "Label:  126.0\n",
      "Label:  127.0\n",
      "Label:  128.0\n",
      "Label:  129.0\n",
      "Label:  130.0\n",
      "Label:  131.0\n",
      "Label:  132.0\n",
      "Label:  133.0\n",
      "Label:  134.0\n",
      "Label:  135.0\n",
      "Label:  136.0\n",
      "Label:  137.0\n",
      "Label:  138.0\n",
      "Label:  139.0\n",
      "Label:  140.0\n",
      "Label:  141.0\n",
      "Label:  142.0\n",
      "Label:  143.0\n",
      "Label:  144.0\n",
      "Label:  145.0\n",
      "Label:  146.0\n",
      "Label:  147.0\n",
      "Label:  148.0\n",
      "Label:  149.0\n",
      "Label:  150.0\n",
      "Label:  151.0\n",
      "Label:  152.0\n",
      "Label:  153.0\n",
      "Label:  154.0\n",
      "Label:  155.0\n",
      "Label:  156.0\n",
      "Label:  157.0\n",
      "Label:  158.0\n",
      "Label:  159.0\n",
      "Label:  160.0\n",
      "Label:  161.0\n",
      "Label:  162.0\n",
      "Label:  163.0\n",
      "Label:  164.0\n",
      "Label:  165.0\n",
      "Label:  166.0\n",
      "Label:  167.0\n",
      "Label:  168.0\n",
      "Label:  169.0\n",
      "Label:  170.0\n",
      "Label:  171.0\n",
      "Label:  172.0\n",
      "Label:  173.0\n",
      "Label:  174.0\n",
      "Label:  175.0\n",
      "Label:  176.0\n",
      "Label:  177.0\n",
      "Label:  178.0\n",
      "Label:  179.0\n",
      "Label:  180.0\n",
      "Label:  181.0\n",
      "Label:  182.0\n",
      "Label:  183.0\n",
      "Label:  184.0\n",
      "Label:  185.0\n",
      "Label:  186.0\n",
      "Label:  187.0\n",
      "Label:  188.0\n",
      "Label:  189.0\n",
      "Label:  190.0\n",
      "Label:  191.0\n",
      "Label:  192.0\n",
      "Label:  193.0\n",
      "Label:  194.0\n",
      "Label:  195.0\n",
      "Label:  196.0\n",
      "Label:  197.0\n",
      "Label:  198.0\n",
      "Label:  199.0\n",
      "Label:  200.0\n",
      "Label:  201.0\n",
      "Label:  202.0\n",
      "Label:  203.0\n",
      "Label:  204.0\n",
      "Label:  205.0\n",
      "Label:  206.0\n",
      "Label:  207.0\n",
      "Label:  208.0\n",
      "Label:  209.0\n",
      "Label:  210.0\n",
      "Label:  211.0\n",
      "Label:  212.0\n",
      "Label:  213.0\n",
      "Label:  214.0\n",
      "Label:  215.0\n",
      "Label:  216.0\n",
      "Label:  217.0\n",
      "Label:  218.0\n",
      "Label:  219.0\n",
      "Label:  220.0\n",
      "Label:  221.0\n",
      "Label:  222.0\n",
      "Label:  223.0\n",
      "Label:  224.0\n",
      "Label:  225.0\n",
      "Label:  226.0\n",
      "Label:  227.0\n",
      "Label:  228.0\n",
      "Label:  229.0\n",
      "Label:  230.0\n",
      "Label:  231.0\n",
      "Label:  232.0\n",
      "Label:  233.0\n",
      "Label:  234.0\n",
      "Label:  235.0\n",
      "Label:  236.0\n",
      "Label:  237.0\n",
      "Label:  238.0\n",
      "Label:  239.0\n",
      "Label:  240.0\n",
      "Label:  241.0\n",
      "Label:  242.0\n",
      "Label:  243.0\n",
      "Label:  244.0\n",
      "Label:  245.0\n",
      "Label:  246.0\n",
      "Label:  247.0\n",
      "Label:  248.0\n",
      "Label:  249.0\n",
      "Label:  250.0\n",
      "Label:  251.0\n",
      "Label:  252.0\n",
      "Label:  253.0\n",
      "Label:  254.0\n",
      "Label:  255.0\n",
      "Label:  256.0\n",
      "Label:  257.0\n",
      "Label:  258.0\n",
      "Label:  259.0\n",
      "Label:  260.0\n",
      "Label:  261.0\n",
      "Label:  262.0\n",
      "Label:  263.0\n",
      "Label:  264.0\n",
      "Label:  265.0\n",
      "Label:  266.0\n",
      "Label:  267.0\n",
      "Label:  268.0\n",
      "Label:  269.0\n",
      "Label:  270.0\n",
      "Label:  271.0\n",
      "Label:  272.0\n",
      "Label:  273.0\n",
      "Label:  274.0\n",
      "Label:  275.0\n",
      "Label:  276.0\n",
      "Label:  277.0\n",
      "Label:  278.0\n",
      "Label:  279.0\n",
      "Label:  280.0\n",
      "Label:  281.0\n",
      "Label:  282.0\n",
      "Label:  283.0\n",
      "Label:  284.0\n",
      "Label:  285.0\n",
      "Label:  286.0\n",
      "Label:  287.0\n",
      "Label:  288.0\n",
      "Label:  289.0\n",
      "Label:  290.0\n",
      "Label:  291.0\n",
      "Label:  292.0\n",
      "Label:  293.0\n",
      "Label:  294.0\n",
      "Label:  295.0\n",
      "Label:  296.0\n",
      "Label:  297.0\n",
      "Label:  298.0\n",
      "Label:  299.0\n",
      "Label:  300.0\n",
      "Label:  301.0\n",
      "Label:  302.0\n",
      "Label:  303.0\n",
      "Label:  304.0\n",
      "Label:  305.0\n",
      "Label:  306.0\n",
      "Label:  307.0\n",
      "Label:  308.0\n",
      "Label:  309.0\n",
      "Label:  310.0\n",
      "Label:  311.0\n",
      "Label:  312.0\n",
      "Label:  313.0\n",
      "Label:  314.0\n",
      "Label:  315.0\n",
      "Label:  316.0\n",
      "Label:  317.0\n",
      "Label:  318.0\n",
      "Label:  319.0\n",
      "Label:  320.0\n",
      "Label:  321.0\n",
      "Label:  322.0\n",
      "Label:  323.0\n",
      "Label:  324.0\n",
      "Label:  325.0\n",
      "Label:  326.0\n",
      "Label:  327.0\n",
      "Label:  328.0\n",
      "Label:  329.0\n",
      "Label:  330.0\n",
      "Label:  331.0\n",
      "Label:  332.0\n",
      "Label:  333.0\n",
      "Label:  334.0\n",
      "Label:  335.0\n",
      "Label:  336.0\n",
      "Label:  337.0\n",
      "Label:  338.0\n",
      "Label:  339.0\n",
      "Label:  340.0\n",
      "Label:  341.0\n",
      "Label:  342.0\n",
      "Label:  343.0\n",
      "Label:  344.0\n",
      "Label:  345.0\n",
      "Label:  346.0\n",
      "Label:  347.0\n",
      "Label:  348.0\n",
      "Label:  349.0\n",
      "Label:  350.0\n",
      "Label:  351.0\n",
      "Label:  352.0\n",
      "Label:  353.0\n",
      "Label:  354.0\n",
      "Label:  355.0\n",
      "Label:  356.0\n",
      "Label:  357.0\n",
      "Label:  358.0\n",
      "Label:  359.0\n",
      "Label:  360.0\n",
      "Label:  361.0\n",
      "Label:  362.0\n",
      "Label:  363.0\n",
      "Label:  364.0\n",
      "Label:  365.0\n",
      "Label:  366.0\n",
      "Label:  367.0\n",
      "Label:  368.0\n",
      "Label:  369.0\n",
      "Label:  370.0\n"
     ]
    }
   ],
   "source": [
    "# ---- remember that y is lat and x is lon\n",
    "\n",
    "t_time_list = []; t_lats = []; t_lons = []; labels_list = []\n",
    "t_mean_SSTA = []; t_max_SSTA = []; t_min_SSTA = []; t_std_SSTA = []; t_sum_SSTA = []\n",
    "t_centroid_list = []; t_com_coord_list = []; t_total_cell_area_list = []\n",
    "t_full_SSTA = []\n",
    "    \n",
    "for l, ent in event_member_: # l is label, ent is the event's descriptors\n",
    "    groupedby_by_time = ent.groupby(ent.time)\n",
    "    print('Label: ', l)\n",
    "    labels_list.append(l)\n",
    "    \n",
    "    time_list = []; lats_list = []; lons_list = []\n",
    "    mean_SSTA = []; max_SSTA = []; min_SSTA = []; std_SSTA = []; sum_SSTA = []\n",
    "    centroid_list = []; com_coord_list = []; total_cell_area_list = []\n",
    "    SSTA_full = []\n",
    "    \n",
    "    for n, gro in groupedby_by_time: # n is the timestep, gro is that timestep's descriptors\n",
    "        \n",
    "        time_list.append(n)\n",
    "        SSTA_full.append(gro.SSTA.values)\n",
    "        mean_SSTA.append(np.nanmean(gro.SSTA))\n",
    "        max_SSTA.append(np.nanmax(gro.SSTA))\n",
    "        min_SSTA.append(np.nanmin(gro.SSTA))\n",
    "        std_SSTA.append(np.std(gro.SSTA))\n",
    "        sum_SSTA.append(np.nansum(gro.SSTA))\n",
    "        \n",
    "        # -------------------------- Spatial \n",
    "        lats = tuple(gro.lat.values); lats_list.append(lats)\n",
    "        lons = tuple(gro.lon.values); lons_list.append(lons)\n",
    "        coord_pairs = list(zip(lats, lons))\n",
    "        \n",
    "        centroid = np.mean(coord_pairs,axis= 0) # geometric mean\n",
    "        centroid_list.append(centroid)\n",
    "        \n",
    "        SSTA_y = [gro.SSTA.item(c)*gro.lat.item(c) for c in np.arange(0, len(lats))]\n",
    "        SSTA_x = [gro.SSTA.item(c)*gro.lon.item(c) for c in np.arange(0, len(lons))]\n",
    "        total_SSTA = np.nansum(gro.SSTA)\n",
    "        \n",
    "        x_com = sum(SSTA_y)/total_SSTA # center of mass \n",
    "        y_com = sum(SSTA_x)/total_SSTA # center of mass\n",
    "        \n",
    "        com_coord = [x_com,y_com]\n",
    "        com_coord_list.append(com_coord)\n",
    "        \n",
    "        y, x = zip(*coord_pairs)        \n",
    "        dlon = [np.cos(y[c]*np.pi/180)*(111*.25) for c in np.arange(0, len(coord_pairs))]\n",
    "        dlat = (111*.25) * np.ones(len(dlon))\n",
    "        cell_area = [np.sum(dlon[c]*dlat[c]) for c in np.arange(0, len(coord_pairs))] # area\n",
    "        total_cell_area = np.sum(cell_area)\n",
    "        total_cell_area_list.append(total_cell_area)\n",
    "        \n",
    "    t_time_list.append(time_list)\n",
    "    t_lats.append(lats_list)\n",
    "    t_lons.append(lons_list)\n",
    "    \n",
    "    t_full_SSTA.append(SSTA_full)\n",
    "    t_mean_SSTA.append(mean_SSTA)\n",
    "    t_max_SSTA.append(max_SSTA)\n",
    "    t_min_SSTA.append(min_SSTA)\n",
    "    t_std_SSTA.append(std_SSTA)\n",
    "    t_sum_SSTA.append(sum_SSTA)\n",
    "    t_centroid_list.append(centroid_list)\n",
    "    t_com_coord_list.append(com_coord_list)\n",
    "    t_total_cell_area_list.append(total_cell_area_list)"
   ]
  },
  {
   "cell_type": "code",
   "execution_count": 17,
   "id": "b07bb399-2fc8-4f52-af05-5e736d23d09f",
   "metadata": {},
   "outputs": [],
   "source": [
    "### -------------------- my lists (keeping track of all my lists from the loop above here\n",
    "# t_time_list\n",
    "# t_lats\n",
    "# t_lons\n",
    "# labels_list\n",
    "# t_full_SSTA\n",
    "# t_mean_SSTA\n",
    "# t_max_SSTA\n",
    "# t_min_SSTA\n",
    "# t_std_SSTA\n",
    "# t_sum_SSTA\n",
    "# t_centroid_list\n",
    "# t_com_coord_list\n",
    "# t_total_cell_area_list"
   ]
  },
  {
   "cell_type": "markdown",
   "id": "d7ff76fe-35d4-4720-b916-7165f94b077e",
   "metadata": {},
   "source": [
    "### Analysis\n",
    "\n",
    "Notes\n",
    "- PCA --> order them by calendar month (starting calendar month)\n",
    "- if I see a pattern --> pattern tracking --> similarity --> Gulf Stream\n",
    "\n",
    "Ideas\n",
    "- How many grid points are not near a mhw?\n",
    "- For each timestep, we can look at the maximum and minimum longitudes and latitudes for extent information (caveat: wrap-around MHWs)\n",
    "- Create a metric for the shape (can look at the perimeter and area. Can do perimeter / area)"
   ]
  },
  {
   "cell_type": "code",
   "execution_count": 17,
   "id": "7c5acfc2-b202-4ca1-bb50-3ca6f50ad67f",
   "metadata": {},
   "outputs": [],
   "source": [
    "ensemble0_data = pd.DataFrame(list(zip(t_time_list, t_lats, t_lons,\n",
    "                            labels_list, t_full_SSTA, t_mean_SSTA,\n",
    "                            t_max_SSTA, t_min_SSTA, t_std_SSTA, \n",
    "                            t_sum_SSTA, t_centroid_list, t_com_coord_list,\n",
    "                            t_total_cell_area_list)), \n",
    "                    columns = ['t_time_list', 't_lats', 't_lons',\n",
    "                              'labels_list', 't_full_SSTA', 't_mean_SSTA',\n",
    "                              't_max_SSTA', 't_min_SSTA', 't_std_SSTA',\n",
    "                              't_sum_SSTA', 't_centroid_list', 't_com_coord_list',\n",
    "                              't_total_cell_area_list'])"
   ]
  },
  {
   "cell_type": "code",
   "execution_count": 19,
   "id": "9669334e-8dd5-45a4-b2d3-923cc795a8cb",
   "metadata": {},
   "outputs": [],
   "source": [
    "ensemble0_data.to_pickle(\"ensemble0_data.pkl\")"
   ]
  },
  {
   "cell_type": "code",
   "execution_count": 3,
   "id": "233effcd-4db9-450c-8f27-071ec9728a2f",
   "metadata": {},
   "outputs": [],
   "source": [
    "output = pd.read_pickle(\"ensemble0_data.pkl\")"
   ]
  },
  {
   "cell_type": "code",
   "execution_count": 19,
   "id": "2099a955-e162-4cd9-a78e-d5dbda5d9960",
   "metadata": {},
   "outputs": [],
   "source": [
    "from sklearn.decomposition import PCA\n",
    "import hoggorm as ho # https://hoggorm.readthedocs.io/en/latest/matrix_corr_coeff.html\n",
    "from scipy import sparse # in case we want to create a sparse matrix \n",
    "from numpy.linalg import norm # for the cosine similarity step\n",
    "from scipy import signal # in case we want to use signal.correlate"
   ]
  },
  {
   "cell_type": "code",
   "execution_count": 20,
   "id": "178c6051-bd1b-4432-8a03-e4c444109a80",
   "metadata": {},
   "outputs": [],
   "source": [
    "ending_val = 15"
   ]
  },
  {
   "cell_type": "code",
   "execution_count": 21,
   "id": "70f62cb7-bdfa-44ad-baaa-834aa15f52b1",
   "metadata": {},
   "outputs": [
    {
     "data": {
      "text/html": [
       "<div><svg style=\"position: absolute; width: 0; height: 0; overflow: hidden\">\n",
       "<defs>\n",
       "<symbol id=\"icon-database\" viewBox=\"0 0 32 32\">\n",
       "<path d=\"M16 0c-8.837 0-16 2.239-16 5v4c0 2.761 7.163 5 16 5s16-2.239 16-5v-4c0-2.761-7.163-5-16-5z\"></path>\n",
       "<path d=\"M16 17c-8.837 0-16-2.239-16-5v6c0 2.761 7.163 5 16 5s16-2.239 16-5v-6c0 2.761-7.163 5-16 5z\"></path>\n",
       "<path d=\"M16 26c-8.837 0-16-2.239-16-5v6c0 2.761 7.163 5 16 5s16-2.239 16-5v-6c0 2.761-7.163 5-16 5z\"></path>\n",
       "</symbol>\n",
       "<symbol id=\"icon-file-text2\" viewBox=\"0 0 32 32\">\n",
       "<path d=\"M28.681 7.159c-0.694-0.947-1.662-2.053-2.724-3.116s-2.169-2.030-3.116-2.724c-1.612-1.182-2.393-1.319-2.841-1.319h-15.5c-1.378 0-2.5 1.121-2.5 2.5v27c0 1.378 1.122 2.5 2.5 2.5h23c1.378 0 2.5-1.122 2.5-2.5v-19.5c0-0.448-0.137-1.23-1.319-2.841zM24.543 5.457c0.959 0.959 1.712 1.825 2.268 2.543h-4.811v-4.811c0.718 0.556 1.584 1.309 2.543 2.268zM28 29.5c0 0.271-0.229 0.5-0.5 0.5h-23c-0.271 0-0.5-0.229-0.5-0.5v-27c0-0.271 0.229-0.5 0.5-0.5 0 0 15.499-0 15.5 0v7c0 0.552 0.448 1 1 1h7v19.5z\"></path>\n",
       "<path d=\"M23 26h-14c-0.552 0-1-0.448-1-1s0.448-1 1-1h14c0.552 0 1 0.448 1 1s-0.448 1-1 1z\"></path>\n",
       "<path d=\"M23 22h-14c-0.552 0-1-0.448-1-1s0.448-1 1-1h14c0.552 0 1 0.448 1 1s-0.448 1-1 1z\"></path>\n",
       "<path d=\"M23 18h-14c-0.552 0-1-0.448-1-1s0.448-1 1-1h14c0.552 0 1 0.448 1 1s-0.448 1-1 1z\"></path>\n",
       "</symbol>\n",
       "</defs>\n",
       "</svg>\n",
       "<style>/* CSS stylesheet for displaying xarray objects in jupyterlab.\n",
       " *\n",
       " */\n",
       "\n",
       ":root {\n",
       "  --xr-font-color0: var(--jp-content-font-color0, rgba(0, 0, 0, 1));\n",
       "  --xr-font-color2: var(--jp-content-font-color2, rgba(0, 0, 0, 0.54));\n",
       "  --xr-font-color3: var(--jp-content-font-color3, rgba(0, 0, 0, 0.38));\n",
       "  --xr-border-color: var(--jp-border-color2, #e0e0e0);\n",
       "  --xr-disabled-color: var(--jp-layout-color3, #bdbdbd);\n",
       "  --xr-background-color: var(--jp-layout-color0, white);\n",
       "  --xr-background-color-row-even: var(--jp-layout-color1, white);\n",
       "  --xr-background-color-row-odd: var(--jp-layout-color2, #eeeeee);\n",
       "}\n",
       "\n",
       "html[theme=dark],\n",
       "body.vscode-dark {\n",
       "  --xr-font-color0: rgba(255, 255, 255, 1);\n",
       "  --xr-font-color2: rgba(255, 255, 255, 0.54);\n",
       "  --xr-font-color3: rgba(255, 255, 255, 0.38);\n",
       "  --xr-border-color: #1F1F1F;\n",
       "  --xr-disabled-color: #515151;\n",
       "  --xr-background-color: #111111;\n",
       "  --xr-background-color-row-even: #111111;\n",
       "  --xr-background-color-row-odd: #313131;\n",
       "}\n",
       "\n",
       ".xr-wrap {\n",
       "  display: block;\n",
       "  min-width: 300px;\n",
       "  max-width: 700px;\n",
       "}\n",
       "\n",
       ".xr-text-repr-fallback {\n",
       "  /* fallback to plain text repr when CSS is not injected (untrusted notebook) */\n",
       "  display: none;\n",
       "}\n",
       "\n",
       ".xr-header {\n",
       "  padding-top: 6px;\n",
       "  padding-bottom: 6px;\n",
       "  margin-bottom: 4px;\n",
       "  border-bottom: solid 1px var(--xr-border-color);\n",
       "}\n",
       "\n",
       ".xr-header > div,\n",
       ".xr-header > ul {\n",
       "  display: inline;\n",
       "  margin-top: 0;\n",
       "  margin-bottom: 0;\n",
       "}\n",
       "\n",
       ".xr-obj-type,\n",
       ".xr-array-name {\n",
       "  margin-left: 2px;\n",
       "  margin-right: 10px;\n",
       "}\n",
       "\n",
       ".xr-obj-type {\n",
       "  color: var(--xr-font-color2);\n",
       "}\n",
       "\n",
       ".xr-sections {\n",
       "  padding-left: 0 !important;\n",
       "  display: grid;\n",
       "  grid-template-columns: 150px auto auto 1fr 20px 20px;\n",
       "}\n",
       "\n",
       ".xr-section-item {\n",
       "  display: contents;\n",
       "}\n",
       "\n",
       ".xr-section-item input {\n",
       "  display: none;\n",
       "}\n",
       "\n",
       ".xr-section-item input + label {\n",
       "  color: var(--xr-disabled-color);\n",
       "}\n",
       "\n",
       ".xr-section-item input:enabled + label {\n",
       "  cursor: pointer;\n",
       "  color: var(--xr-font-color2);\n",
       "}\n",
       "\n",
       ".xr-section-item input:enabled + label:hover {\n",
       "  color: var(--xr-font-color0);\n",
       "}\n",
       "\n",
       ".xr-section-summary {\n",
       "  grid-column: 1;\n",
       "  color: var(--xr-font-color2);\n",
       "  font-weight: 500;\n",
       "}\n",
       "\n",
       ".xr-section-summary > span {\n",
       "  display: inline-block;\n",
       "  padding-left: 0.5em;\n",
       "}\n",
       "\n",
       ".xr-section-summary-in:disabled + label {\n",
       "  color: var(--xr-font-color2);\n",
       "}\n",
       "\n",
       ".xr-section-summary-in + label:before {\n",
       "  display: inline-block;\n",
       "  content: '►';\n",
       "  font-size: 11px;\n",
       "  width: 15px;\n",
       "  text-align: center;\n",
       "}\n",
       "\n",
       ".xr-section-summary-in:disabled + label:before {\n",
       "  color: var(--xr-disabled-color);\n",
       "}\n",
       "\n",
       ".xr-section-summary-in:checked + label:before {\n",
       "  content: '▼';\n",
       "}\n",
       "\n",
       ".xr-section-summary-in:checked + label > span {\n",
       "  display: none;\n",
       "}\n",
       "\n",
       ".xr-section-summary,\n",
       ".xr-section-inline-details {\n",
       "  padding-top: 4px;\n",
       "  padding-bottom: 4px;\n",
       "}\n",
       "\n",
       ".xr-section-inline-details {\n",
       "  grid-column: 2 / -1;\n",
       "}\n",
       "\n",
       ".xr-section-details {\n",
       "  display: none;\n",
       "  grid-column: 1 / -1;\n",
       "  margin-bottom: 5px;\n",
       "}\n",
       "\n",
       ".xr-section-summary-in:checked ~ .xr-section-details {\n",
       "  display: contents;\n",
       "}\n",
       "\n",
       ".xr-array-wrap {\n",
       "  grid-column: 1 / -1;\n",
       "  display: grid;\n",
       "  grid-template-columns: 20px auto;\n",
       "}\n",
       "\n",
       ".xr-array-wrap > label {\n",
       "  grid-column: 1;\n",
       "  vertical-align: top;\n",
       "}\n",
       "\n",
       ".xr-preview {\n",
       "  color: var(--xr-font-color3);\n",
       "}\n",
       "\n",
       ".xr-array-preview,\n",
       ".xr-array-data {\n",
       "  padding: 0 5px !important;\n",
       "  grid-column: 2;\n",
       "}\n",
       "\n",
       ".xr-array-data,\n",
       ".xr-array-in:checked ~ .xr-array-preview {\n",
       "  display: none;\n",
       "}\n",
       "\n",
       ".xr-array-in:checked ~ .xr-array-data,\n",
       ".xr-array-preview {\n",
       "  display: inline-block;\n",
       "}\n",
       "\n",
       ".xr-dim-list {\n",
       "  display: inline-block !important;\n",
       "  list-style: none;\n",
       "  padding: 0 !important;\n",
       "  margin: 0;\n",
       "}\n",
       "\n",
       ".xr-dim-list li {\n",
       "  display: inline-block;\n",
       "  padding: 0;\n",
       "  margin: 0;\n",
       "}\n",
       "\n",
       ".xr-dim-list:before {\n",
       "  content: '(';\n",
       "}\n",
       "\n",
       ".xr-dim-list:after {\n",
       "  content: ')';\n",
       "}\n",
       "\n",
       ".xr-dim-list li:not(:last-child):after {\n",
       "  content: ',';\n",
       "  padding-right: 5px;\n",
       "}\n",
       "\n",
       ".xr-has-index {\n",
       "  font-weight: bold;\n",
       "}\n",
       "\n",
       ".xr-var-list,\n",
       ".xr-var-item {\n",
       "  display: contents;\n",
       "}\n",
       "\n",
       ".xr-var-item > div,\n",
       ".xr-var-item label,\n",
       ".xr-var-item > .xr-var-name span {\n",
       "  background-color: var(--xr-background-color-row-even);\n",
       "  margin-bottom: 0;\n",
       "}\n",
       "\n",
       ".xr-var-item > .xr-var-name:hover span {\n",
       "  padding-right: 5px;\n",
       "}\n",
       "\n",
       ".xr-var-list > li:nth-child(odd) > div,\n",
       ".xr-var-list > li:nth-child(odd) > label,\n",
       ".xr-var-list > li:nth-child(odd) > .xr-var-name span {\n",
       "  background-color: var(--xr-background-color-row-odd);\n",
       "}\n",
       "\n",
       ".xr-var-name {\n",
       "  grid-column: 1;\n",
       "}\n",
       "\n",
       ".xr-var-dims {\n",
       "  grid-column: 2;\n",
       "}\n",
       "\n",
       ".xr-var-dtype {\n",
       "  grid-column: 3;\n",
       "  text-align: right;\n",
       "  color: var(--xr-font-color2);\n",
       "}\n",
       "\n",
       ".xr-var-preview {\n",
       "  grid-column: 4;\n",
       "}\n",
       "\n",
       ".xr-var-name,\n",
       ".xr-var-dims,\n",
       ".xr-var-dtype,\n",
       ".xr-preview,\n",
       ".xr-attrs dt {\n",
       "  white-space: nowrap;\n",
       "  overflow: hidden;\n",
       "  text-overflow: ellipsis;\n",
       "  padding-right: 10px;\n",
       "}\n",
       "\n",
       ".xr-var-name:hover,\n",
       ".xr-var-dims:hover,\n",
       ".xr-var-dtype:hover,\n",
       ".xr-attrs dt:hover {\n",
       "  overflow: visible;\n",
       "  width: auto;\n",
       "  z-index: 1;\n",
       "}\n",
       "\n",
       ".xr-var-attrs,\n",
       ".xr-var-data {\n",
       "  display: none;\n",
       "  background-color: var(--xr-background-color) !important;\n",
       "  padding-bottom: 5px !important;\n",
       "}\n",
       "\n",
       ".xr-var-attrs-in:checked ~ .xr-var-attrs,\n",
       ".xr-var-data-in:checked ~ .xr-var-data {\n",
       "  display: block;\n",
       "}\n",
       "\n",
       ".xr-var-data > table {\n",
       "  float: right;\n",
       "}\n",
       "\n",
       ".xr-var-name span,\n",
       ".xr-var-data,\n",
       ".xr-attrs {\n",
       "  padding-left: 25px !important;\n",
       "}\n",
       "\n",
       ".xr-attrs,\n",
       ".xr-var-attrs,\n",
       ".xr-var-data {\n",
       "  grid-column: 1 / -1;\n",
       "}\n",
       "\n",
       "dl.xr-attrs {\n",
       "  padding: 0;\n",
       "  margin: 0;\n",
       "  display: grid;\n",
       "  grid-template-columns: 125px auto;\n",
       "}\n",
       "\n",
       ".xr-attrs dt,\n",
       ".xr-attrs dd {\n",
       "  padding: 0;\n",
       "  margin: 0;\n",
       "  float: left;\n",
       "  padding-right: 10px;\n",
       "  width: auto;\n",
       "}\n",
       "\n",
       ".xr-attrs dt {\n",
       "  font-weight: normal;\n",
       "  grid-column: 1;\n",
       "}\n",
       "\n",
       ".xr-attrs dt:hover span {\n",
       "  display: inline-block;\n",
       "  background: var(--xr-background-color);\n",
       "  padding-right: 10px;\n",
       "}\n",
       "\n",
       ".xr-attrs dd {\n",
       "  grid-column: 2;\n",
       "  white-space: pre-wrap;\n",
       "  word-break: break-all;\n",
       "}\n",
       "\n",
       ".xr-icon-database,\n",
       ".xr-icon-file-text2 {\n",
       "  display: inline-block;\n",
       "  vertical-align: middle;\n",
       "  width: 1em;\n",
       "  height: 1.5em !important;\n",
       "  stroke-width: 0;\n",
       "  stroke: currentColor;\n",
       "  fill: currentColor;\n",
       "}\n",
       "</style><pre class='xr-text-repr-fallback'>&lt;xarray.Dataset&gt;\n",
       "Dimensions:    (time: 481, lat: 192, lon: 288)\n",
       "Coordinates:\n",
       "  * time       (time) object 1975-01-01 00:00:00 ... 2015-01-01 00:00:00\n",
       "  * lat        (lat) float64 -90.0 -89.06 -88.12 -87.17 ... 88.12 89.06 90.0\n",
       "  * lon        (lon) float64 0.0 1.25 2.5 3.75 5.0 ... 355.0 356.2 357.5 358.8\n",
       "    member_id  &lt;U12 &#x27;r1i1001p1f1&#x27;\n",
       "    quantile   float64 0.9\n",
       "    month      (time) int64 1 2 3 4 5 6 7 8 9 10 11 ... 3 4 5 6 7 8 9 10 11 12 1\n",
       "Data variables:\n",
       "    labels     (time, lat, lon) float64 nan nan nan nan nan ... nan nan nan nan\n",
       "    SSTA       (time, lat, lon) float64 0.0 0.0 0.0 ... -0.0154 -0.01539</pre><div class='xr-wrap' hidden><div class='xr-header'><div class='xr-obj-type'>xarray.Dataset</div></div><ul class='xr-sections'><li class='xr-section-item'><input id='section-3439a9af-9a67-4c09-960f-7b3f638531d0' class='xr-section-summary-in' type='checkbox' disabled ><label for='section-3439a9af-9a67-4c09-960f-7b3f638531d0' class='xr-section-summary'  title='Expand/collapse section'>Dimensions:</label><div class='xr-section-inline-details'><ul class='xr-dim-list'><li><span class='xr-has-index'>time</span>: 481</li><li><span class='xr-has-index'>lat</span>: 192</li><li><span class='xr-has-index'>lon</span>: 288</li></ul></div><div class='xr-section-details'></div></li><li class='xr-section-item'><input id='section-94949ca9-8c94-4f94-b0cb-fabeb502b63d' class='xr-section-summary-in' type='checkbox'  checked><label for='section-94949ca9-8c94-4f94-b0cb-fabeb502b63d' class='xr-section-summary' >Coordinates: <span>(6)</span></label><div class='xr-section-inline-details'></div><div class='xr-section-details'><ul class='xr-var-list'><li class='xr-var-item'><div class='xr-var-name'><span class='xr-has-index'>time</span></div><div class='xr-var-dims'>(time)</div><div class='xr-var-dtype'>object</div><div class='xr-var-preview xr-preview'>1975-01-01 00:00:00 ... 2015-01-...</div><input id='attrs-80e701b8-1c3a-46f1-aa5d-ea28e2b3f9bf' class='xr-var-attrs-in' type='checkbox' ><label for='attrs-80e701b8-1c3a-46f1-aa5d-ea28e2b3f9bf' title='Show/Hide attributes'><svg class='icon xr-icon-file-text2'><use xlink:href='#icon-file-text2'></use></svg></label><input id='data-fb985303-efea-41e2-9b5d-83390ba5bea6' class='xr-var-data-in' type='checkbox'><label for='data-fb985303-efea-41e2-9b5d-83390ba5bea6' title='Show/Hide data repr'><svg class='icon xr-icon-database'><use xlink:href='#icon-database'></use></svg></label><div class='xr-var-attrs'><dl class='xr-attrs'><dt><span>long_name :</span></dt><dd>time</dd><dt><span>bounds :</span></dt><dd>time_bnds</dd></dl></div><div class='xr-var-data'><pre>array([cftime.DatetimeNoLeap(1975, 1, 1, 0, 0, 0, 0, has_year_zero=True),\n",
       "       cftime.DatetimeNoLeap(1975, 2, 1, 0, 0, 0, 0, has_year_zero=True),\n",
       "       cftime.DatetimeNoLeap(1975, 3, 1, 0, 0, 0, 0, has_year_zero=True), ...,\n",
       "       cftime.DatetimeNoLeap(2014, 11, 1, 0, 0, 0, 0, has_year_zero=True),\n",
       "       cftime.DatetimeNoLeap(2014, 12, 1, 0, 0, 0, 0, has_year_zero=True),\n",
       "       cftime.DatetimeNoLeap(2015, 1, 1, 0, 0, 0, 0, has_year_zero=True)],\n",
       "      dtype=object)</pre></div></li><li class='xr-var-item'><div class='xr-var-name'><span class='xr-has-index'>lat</span></div><div class='xr-var-dims'>(lat)</div><div class='xr-var-dtype'>float64</div><div class='xr-var-preview xr-preview'>-90.0 -89.06 -88.12 ... 89.06 90.0</div><input id='attrs-448e3ce3-3a06-4983-bd4b-740f9c3e2bd5' class='xr-var-attrs-in' type='checkbox' ><label for='attrs-448e3ce3-3a06-4983-bd4b-740f9c3e2bd5' title='Show/Hide attributes'><svg class='icon xr-icon-file-text2'><use xlink:href='#icon-file-text2'></use></svg></label><input id='data-6e8b0073-62b2-4317-b496-a1031549881a' class='xr-var-data-in' type='checkbox'><label for='data-6e8b0073-62b2-4317-b496-a1031549881a' title='Show/Hide data repr'><svg class='icon xr-icon-database'><use xlink:href='#icon-database'></use></svg></label><div class='xr-var-attrs'><dl class='xr-attrs'><dt><span>long_name :</span></dt><dd>latitude</dd><dt><span>units :</span></dt><dd>degrees_north</dd></dl></div><div class='xr-var-data'><pre>array([-90.      , -89.057592, -88.115183, -87.172775, -86.230366, -85.287958,\n",
       "       -84.34555 , -83.403141, -82.460733, -81.518325, -80.575916, -79.633508,\n",
       "       -78.691099, -77.748691, -76.806283, -75.863874, -74.921466, -73.979058,\n",
       "       -73.036649, -72.094241, -71.151832, -70.209424, -69.267016, -68.324607,\n",
       "       -67.382199, -66.439791, -65.497382, -64.554974, -63.612565, -62.670157,\n",
       "       -61.727749, -60.78534 , -59.842932, -58.900524, -57.958115, -57.015707,\n",
       "       -56.073298, -55.13089 , -54.188482, -53.246073, -52.303665, -51.361257,\n",
       "       -50.418848, -49.47644 , -48.534031, -47.591623, -46.649215, -45.706806,\n",
       "       -44.764398, -43.82199 , -42.879581, -41.937173, -40.994764, -40.052356,\n",
       "       -39.109948, -38.167539, -37.225131, -36.282723, -35.340314, -34.397906,\n",
       "       -33.455497, -32.513089, -31.570681, -30.628272, -29.685864, -28.743455,\n",
       "       -27.801047, -26.858639, -25.91623 , -24.973822, -24.031414, -23.089005,\n",
       "       -22.146597, -21.204188, -20.26178 , -19.319372, -18.376963, -17.434555,\n",
       "       -16.492147, -15.549738, -14.60733 , -13.664921, -12.722513, -11.780105,\n",
       "       -10.837696,  -9.895288,  -8.95288 ,  -8.010471,  -7.068063,  -6.125654,\n",
       "        -5.183246,  -4.240838,  -3.298429,  -2.356021,  -1.413613,  -0.471204,\n",
       "         0.471204,   1.413613,   2.356021,   3.298429,   4.240838,   5.183246,\n",
       "         6.125654,   7.068063,   8.010471,   8.95288 ,   9.895288,  10.837696,\n",
       "        11.780105,  12.722513,  13.664921,  14.60733 ,  15.549738,  16.492147,\n",
       "        17.434555,  18.376963,  19.319372,  20.26178 ,  21.204188,  22.146597,\n",
       "        23.089005,  24.031414,  24.973822,  25.91623 ,  26.858639,  27.801047,\n",
       "        28.743455,  29.685864,  30.628272,  31.570681,  32.513089,  33.455497,\n",
       "        34.397906,  35.340314,  36.282723,  37.225131,  38.167539,  39.109948,\n",
       "        40.052356,  40.994764,  41.937173,  42.879581,  43.82199 ,  44.764398,\n",
       "        45.706806,  46.649215,  47.591623,  48.534031,  49.47644 ,  50.418848,\n",
       "        51.361257,  52.303665,  53.246073,  54.188482,  55.13089 ,  56.073298,\n",
       "        57.015707,  57.958115,  58.900524,  59.842932,  60.78534 ,  61.727749,\n",
       "        62.670157,  63.612565,  64.554974,  65.497382,  66.439791,  67.382199,\n",
       "        68.324607,  69.267016,  70.209424,  71.151832,  72.094241,  73.036649,\n",
       "        73.979058,  74.921466,  75.863874,  76.806283,  77.748691,  78.691099,\n",
       "        79.633508,  80.575916,  81.518325,  82.460733,  83.403141,  84.34555 ,\n",
       "        85.287958,  86.230366,  87.172775,  88.115183,  89.057592,  90.      ])</pre></div></li><li class='xr-var-item'><div class='xr-var-name'><span class='xr-has-index'>lon</span></div><div class='xr-var-dims'>(lon)</div><div class='xr-var-dtype'>float64</div><div class='xr-var-preview xr-preview'>0.0 1.25 2.5 ... 356.2 357.5 358.8</div><input id='attrs-11a61d71-69f5-4025-8293-095724d1682b' class='xr-var-attrs-in' type='checkbox' ><label for='attrs-11a61d71-69f5-4025-8293-095724d1682b' title='Show/Hide attributes'><svg class='icon xr-icon-file-text2'><use xlink:href='#icon-file-text2'></use></svg></label><input id='data-627d26c5-508a-4fc0-a5cf-1b1878a1ceba' class='xr-var-data-in' type='checkbox'><label for='data-627d26c5-508a-4fc0-a5cf-1b1878a1ceba' title='Show/Hide data repr'><svg class='icon xr-icon-database'><use xlink:href='#icon-database'></use></svg></label><div class='xr-var-attrs'><dl class='xr-attrs'><dt><span>long_name :</span></dt><dd>longitude</dd><dt><span>units :</span></dt><dd>degrees_east</dd></dl></div><div class='xr-var-data'><pre>array([  0.  ,   1.25,   2.5 , ..., 356.25, 357.5 , 358.75])</pre></div></li><li class='xr-var-item'><div class='xr-var-name'><span>member_id</span></div><div class='xr-var-dims'>()</div><div class='xr-var-dtype'>&lt;U12</div><div class='xr-var-preview xr-preview'>&#x27;r1i1001p1f1&#x27;</div><input id='attrs-06342a25-e12e-4922-ad57-263f5a3c1d59' class='xr-var-attrs-in' type='checkbox' disabled><label for='attrs-06342a25-e12e-4922-ad57-263f5a3c1d59' title='Show/Hide attributes'><svg class='icon xr-icon-file-text2'><use xlink:href='#icon-file-text2'></use></svg></label><input id='data-61c78410-bc38-4789-bd70-2cbf449d748c' class='xr-var-data-in' type='checkbox'><label for='data-61c78410-bc38-4789-bd70-2cbf449d748c' title='Show/Hide data repr'><svg class='icon xr-icon-database'><use xlink:href='#icon-database'></use></svg></label><div class='xr-var-attrs'><dl class='xr-attrs'></dl></div><div class='xr-var-data'><pre>array(&#x27;r1i1001p1f1&#x27;, dtype=&#x27;&lt;U12&#x27;)</pre></div></li><li class='xr-var-item'><div class='xr-var-name'><span>quantile</span></div><div class='xr-var-dims'>()</div><div class='xr-var-dtype'>float64</div><div class='xr-var-preview xr-preview'>0.9</div><input id='attrs-9aad375c-ffa2-47cb-a5c4-6a9da97c7638' class='xr-var-attrs-in' type='checkbox' disabled><label for='attrs-9aad375c-ffa2-47cb-a5c4-6a9da97c7638' title='Show/Hide attributes'><svg class='icon xr-icon-file-text2'><use xlink:href='#icon-file-text2'></use></svg></label><input id='data-56dd3026-40a3-490f-9c73-25fc16a68751' class='xr-var-data-in' type='checkbox'><label for='data-56dd3026-40a3-490f-9c73-25fc16a68751' title='Show/Hide data repr'><svg class='icon xr-icon-database'><use xlink:href='#icon-database'></use></svg></label><div class='xr-var-attrs'><dl class='xr-attrs'></dl></div><div class='xr-var-data'><pre>array(0.9)</pre></div></li><li class='xr-var-item'><div class='xr-var-name'><span>month</span></div><div class='xr-var-dims'>(time)</div><div class='xr-var-dtype'>int64</div><div class='xr-var-preview xr-preview'>1 2 3 4 5 6 7 ... 7 8 9 10 11 12 1</div><input id='attrs-c1fd7f70-9241-475e-8f7b-e73026387d0d' class='xr-var-attrs-in' type='checkbox' disabled><label for='attrs-c1fd7f70-9241-475e-8f7b-e73026387d0d' title='Show/Hide attributes'><svg class='icon xr-icon-file-text2'><use xlink:href='#icon-file-text2'></use></svg></label><input id='data-4150e7c8-57f5-4670-9575-ca7cc0dd314a' class='xr-var-data-in' type='checkbox'><label for='data-4150e7c8-57f5-4670-9575-ca7cc0dd314a' title='Show/Hide data repr'><svg class='icon xr-icon-database'><use xlink:href='#icon-database'></use></svg></label><div class='xr-var-attrs'><dl class='xr-attrs'></dl></div><div class='xr-var-data'><pre>array([ 1,  2,  3,  4,  5,  6,  7,  8,  9, 10, 11, 12,  1,  2,  3,  4,  5,\n",
       "        6,  7,  8,  9, 10, 11, 12,  1,  2,  3,  4,  5,  6,  7,  8,  9, 10,\n",
       "       11, 12,  1,  2,  3,  4,  5,  6,  7,  8,  9, 10, 11, 12,  1,  2,  3,\n",
       "        4,  5,  6,  7,  8,  9, 10, 11, 12,  1,  2,  3,  4,  5,  6,  7,  8,\n",
       "        9, 10, 11, 12,  1,  2,  3,  4,  5,  6,  7,  8,  9, 10, 11, 12,  1,\n",
       "        2,  3,  4,  5,  6,  7,  8,  9, 10, 11, 12,  1,  2,  3,  4,  5,  6,\n",
       "        7,  8,  9, 10, 11, 12,  1,  2,  3,  4,  5,  6,  7,  8,  9, 10, 11,\n",
       "       12,  1,  2,  3,  4,  5,  6,  7,  8,  9, 10, 11, 12,  1,  2,  3,  4,\n",
       "        5,  6,  7,  8,  9, 10, 11, 12,  1,  2,  3,  4,  5,  6,  7,  8,  9,\n",
       "       10, 11, 12,  1,  2,  3,  4,  5,  6,  7,  8,  9, 10, 11, 12,  1,  2,\n",
       "        3,  4,  5,  6,  7,  8,  9, 10, 11, 12,  1,  2,  3,  4,  5,  6,  7,\n",
       "        8,  9, 10, 11, 12,  1,  2,  3,  4,  5,  6,  7,  8,  9, 10, 11, 12,\n",
       "        1,  2,  3,  4,  5,  6,  7,  8,  9, 10, 11, 12,  1,  2,  3,  4,  5,\n",
       "        6,  7,  8,  9, 10, 11, 12,  1,  2,  3,  4,  5,  6,  7,  8,  9, 10,\n",
       "       11, 12,  1,  2,  3,  4,  5,  6,  7,  8,  9, 10, 11, 12,  1,  2,  3,\n",
       "        4,  5,  6,  7,  8,  9, 10, 11, 12,  1,  2,  3,  4,  5,  6,  7,  8,\n",
       "        9, 10, 11, 12,  1,  2,  3,  4,  5,  6,  7,  8,  9, 10, 11, 12,  1,\n",
       "        2,  3,  4,  5,  6,  7,  8,  9, 10, 11, 12,  1,  2,  3,  4,  5,  6,\n",
       "        7,  8,  9, 10, 11, 12,  1,  2,  3,  4,  5,  6,  7,  8,  9, 10, 11,\n",
       "       12,  1,  2,  3,  4,  5,  6,  7,  8,  9, 10, 11, 12,  1,  2,  3,  4,\n",
       "        5,  6,  7,  8,  9, 10, 11, 12,  1,  2,  3,  4,  5,  6,  7,  8,  9,\n",
       "       10, 11, 12,  1,  2,  3,  4,  5,  6,  7,  8,  9, 10, 11, 12,  1,  2,\n",
       "        3,  4,  5,  6,  7,  8,  9, 10, 11, 12,  1,  2,  3,  4,  5,  6,  7,\n",
       "        8,  9, 10, 11, 12,  1,  2,  3,  4,  5,  6,  7,  8,  9, 10, 11, 12,\n",
       "        1,  2,  3,  4,  5,  6,  7,  8,  9, 10, 11, 12,  1,  2,  3,  4,  5,\n",
       "        6,  7,  8,  9, 10, 11, 12,  1,  2,  3,  4,  5,  6,  7,  8,  9, 10,\n",
       "       11, 12,  1,  2,  3,  4,  5,  6,  7,  8,  9, 10, 11, 12,  1,  2,  3,\n",
       "        4,  5,  6,  7,  8,  9, 10, 11, 12,  1,  2,  3,  4,  5,  6,  7,  8,\n",
       "        9, 10, 11, 12,  1])</pre></div></li></ul></div></li><li class='xr-section-item'><input id='section-6e770706-025d-445d-9258-58c7deb807fb' class='xr-section-summary-in' type='checkbox'  checked><label for='section-6e770706-025d-445d-9258-58c7deb807fb' class='xr-section-summary' >Data variables: <span>(2)</span></label><div class='xr-section-inline-details'></div><div class='xr-section-details'><ul class='xr-var-list'><li class='xr-var-item'><div class='xr-var-name'><span>labels</span></div><div class='xr-var-dims'>(time, lat, lon)</div><div class='xr-var-dtype'>float64</div><div class='xr-var-preview xr-preview'>nan nan nan nan ... nan nan nan nan</div><input id='attrs-c9fe28d0-3b7a-4bdb-a39e-9ec9ad623df7' class='xr-var-attrs-in' type='checkbox' ><label for='attrs-c9fe28d0-3b7a-4bdb-a39e-9ec9ad623df7' title='Show/Hide attributes'><svg class='icon xr-icon-file-text2'><use xlink:href='#icon-file-text2'></use></svg></label><input id='data-e75b1784-820e-43f5-a006-e9154938e8dd' class='xr-var-data-in' type='checkbox'><label for='data-e75b1784-820e-43f5-a006-e9154938e8dd' title='Show/Hide data repr'><svg class='icon xr-icon-database'><use xlink:href='#icon-database'></use></svg></label><div class='xr-var-attrs'><dl class='xr-attrs'><dt><span>inital objects identified :</span></dt><dd>5750</dd><dt><span>final objects tracked :</span></dt><dd>370</dd><dt><span>radius :</span></dt><dd>3</dd><dt><span>size quantile threshold :</span></dt><dd>0.75</dd><dt><span>min area :</span></dt><dd>314.0</dd><dt><span>percent area reject :</span></dt><dd>0.2797669497236017</dd><dt><span>percent area accept :</span></dt><dd>0.7202330502763983</dd></dl></div><div class='xr-var-data'><pre>array([[[nan, nan, nan, ..., nan, nan, nan],\n",
       "        [nan, nan, nan, ..., nan, nan, nan],\n",
       "        [nan, nan, nan, ..., nan, nan, nan],\n",
       "        ...,\n",
       "        [ 2.,  2.,  2., ...,  2.,  2.,  2.],\n",
       "        [ 2.,  2.,  2., ...,  2.,  2.,  2.],\n",
       "        [ 2.,  2.,  2., ...,  2.,  2.,  2.]],\n",
       "\n",
       "       [[nan, nan, nan, ..., nan, nan, nan],\n",
       "        [nan, nan, nan, ..., nan, nan, nan],\n",
       "        [nan, nan, nan, ..., nan, nan, nan],\n",
       "        ...,\n",
       "        [ 2.,  2.,  2., ...,  2.,  2.,  2.],\n",
       "        [ 2.,  2.,  2., ...,  2.,  2.,  2.],\n",
       "        [ 2.,  2.,  2., ...,  2.,  2.,  2.]],\n",
       "\n",
       "       [[nan, nan, nan, ..., nan, nan, nan],\n",
       "        [nan, nan, nan, ..., nan, nan, nan],\n",
       "        [nan, nan, nan, ..., nan, nan, nan],\n",
       "        ...,\n",
       "...\n",
       "        ...,\n",
       "        [nan, nan, nan, ..., nan, nan, nan],\n",
       "        [nan, nan, nan, ..., nan, nan, nan],\n",
       "        [nan, nan, nan, ..., nan, nan, nan]],\n",
       "\n",
       "       [[nan, nan, nan, ..., nan, nan, nan],\n",
       "        [nan, nan, nan, ..., nan, nan, nan],\n",
       "        [nan, nan, nan, ..., nan, nan, nan],\n",
       "        ...,\n",
       "        [nan, nan, nan, ..., nan, nan, nan],\n",
       "        [nan, nan, nan, ..., nan, nan, nan],\n",
       "        [nan, nan, nan, ..., nan, nan, nan]],\n",
       "\n",
       "       [[nan, nan, nan, ..., nan, nan, nan],\n",
       "        [nan, nan, nan, ..., nan, nan, nan],\n",
       "        [nan, nan, nan, ..., nan, nan, nan],\n",
       "        ...,\n",
       "        [nan, nan, nan, ..., nan, nan, nan],\n",
       "        [nan, nan, nan, ..., nan, nan, nan],\n",
       "        [nan, nan, nan, ..., nan, nan, nan]]])</pre></div></li><li class='xr-var-item'><div class='xr-var-name'><span>SSTA</span></div><div class='xr-var-dims'>(time, lat, lon)</div><div class='xr-var-dtype'>float64</div><div class='xr-var-preview xr-preview'>0.0 0.0 0.0 ... -0.0154 -0.01539</div><input id='attrs-ba33c4f3-b00f-4a8e-a25e-de3a46ef23f2' class='xr-var-attrs-in' type='checkbox' disabled><label for='attrs-ba33c4f3-b00f-4a8e-a25e-de3a46ef23f2' title='Show/Hide attributes'><svg class='icon xr-icon-file-text2'><use xlink:href='#icon-file-text2'></use></svg></label><input id='data-ad46158f-307d-4393-b2e4-588e0dd4d999' class='xr-var-data-in' type='checkbox'><label for='data-ad46158f-307d-4393-b2e4-588e0dd4d999' title='Show/Hide data repr'><svg class='icon xr-icon-database'><use xlink:href='#icon-database'></use></svg></label><div class='xr-var-attrs'><dl class='xr-attrs'></dl></div><div class='xr-var-data'><pre>array([[[ 0.        ,  0.        ,  0.        , ...,  0.        ,\n",
       "          0.        ,  0.        ],\n",
       "        [ 0.        ,  0.        ,  0.        , ...,  0.        ,\n",
       "          0.        ,  0.        ],\n",
       "        [ 0.        ,  0.        ,  0.        , ...,  0.        ,\n",
       "          0.        ,  0.        ],\n",
       "        ...,\n",
       "        [ 0.04994374,  0.05002564,  0.05010236, ...,  0.04963901,\n",
       "          0.04973285,  0.04981352],\n",
       "        [ 0.0492551 ,  0.04930904,  0.04937081, ...,  0.04904302,\n",
       "          0.04913094,  0.04919421],\n",
       "        [ 0.05066815,  0.05067323,  0.05067541, ...,  0.05064796,\n",
       "          0.0506566 ,  0.05066275]],\n",
       "\n",
       "       [[ 0.        ,  0.        ,  0.        , ...,  0.        ,\n",
       "          0.        ,  0.        ],\n",
       "        [ 0.        ,  0.        ,  0.        , ...,  0.        ,\n",
       "          0.        ,  0.        ],\n",
       "        [ 0.        ,  0.        ,  0.        , ...,  0.        ,\n",
       "          0.        ,  0.        ],\n",
       "...\n",
       "        [-0.01199735, -0.01209931, -0.01219365, ..., -0.01166364,\n",
       "         -0.01179694, -0.01187804],\n",
       "        [-0.01125321, -0.01130946, -0.01135644, ..., -0.01112738,\n",
       "         -0.01115943, -0.01120358],\n",
       "        [-0.00890399, -0.0089329 , -0.0089321 , ..., -0.00890958,\n",
       "         -0.00890715, -0.0089052 ]],\n",
       "\n",
       "       [[ 0.        ,  0.        ,  0.        , ...,  0.        ,\n",
       "          0.        ,  0.        ],\n",
       "        [ 0.        ,  0.        ,  0.        , ...,  0.        ,\n",
       "          0.        ,  0.        ],\n",
       "        [ 0.        ,  0.        ,  0.        , ...,  0.        ,\n",
       "          0.        ,  0.        ],\n",
       "        ...,\n",
       "        [-0.01751683, -0.01753501, -0.01757987, ..., -0.01748675,\n",
       "         -0.01749113, -0.01750736],\n",
       "        [-0.01791275, -0.01793457, -0.01797565, ..., -0.01787391,\n",
       "         -0.01786352, -0.01790045],\n",
       "        [-0.01541716, -0.01541132, -0.01540827, ..., -0.01540927,\n",
       "         -0.01540043, -0.01539333]]])</pre></div></li></ul></div></li><li class='xr-section-item'><input id='section-de626fd6-fa26-49b4-ab84-dc2762c194a3' class='xr-section-summary-in' type='checkbox' disabled ><label for='section-de626fd6-fa26-49b4-ab84-dc2762c194a3' class='xr-section-summary'  title='Expand/collapse section'>Attributes: <span>(0)</span></label><div class='xr-section-inline-details'></div><div class='xr-section-details'><dl class='xr-attrs'></dl></div></li></ul></div></div>"
      ],
      "text/plain": [
       "<xarray.Dataset>\n",
       "Dimensions:    (time: 481, lat: 192, lon: 288)\n",
       "Coordinates:\n",
       "  * time       (time) object 1975-01-01 00:00:00 ... 2015-01-01 00:00:00\n",
       "  * lat        (lat) float64 -90.0 -89.06 -88.12 -87.17 ... 88.12 89.06 90.0\n",
       "  * lon        (lon) float64 0.0 1.25 2.5 3.75 5.0 ... 355.0 356.2 357.5 358.8\n",
       "    member_id  <U12 'r1i1001p1f1'\n",
       "    quantile   float64 0.9\n",
       "    month      (time) int64 1 2 3 4 5 6 7 8 9 10 11 ... 3 4 5 6 7 8 9 10 11 12 1\n",
       "Data variables:\n",
       "    labels     (time, lat, lon) float64 nan nan nan nan nan ... nan nan nan nan\n",
       "    SSTA       (time, lat, lon) float64 0.0 0.0 0.0 ... -0.0154 -0.01539"
      ]
     },
     "execution_count": 21,
     "metadata": {},
     "output_type": "execute_result"
    }
   ],
   "source": [
    "member_"
   ]
  },
  {
   "cell_type": "code",
   "execution_count": 20,
   "id": "1a685480-ad68-409b-87c7-1d63a0abae60",
   "metadata": {
    "tags": []
   },
   "outputs": [
    {
     "name": "stdout",
     "output_type": "stream",
     "text": [
      "CPU times: user 910 ms, sys: 853 ms, total: 1.76 s\n",
      "Wall time: 1.83 s\n"
     ]
    }
   ],
   "source": [
    "%%time\n",
    "mhw_event_SSTA_gridded = [] \n",
    "\n",
    "for i in range(1,ending_val): #371 is the total number for the first\n",
    "    mhw_id = i\n",
    "    mhw_event_rel = member_.where(member_.labels==mhw_id, drop=False)   # dimensions are (481, 192, 288) --> (time, lat, lon)\n",
    "    # mhw_event_rel = member_.where(member_.labels==mhw_id, drop=True)  # if drop = True, then dimensions will now be different\n",
    "    mhw_event_SSTA_gridded.append(mhw_event_rel.SSTA)"
   ]
  },
  {
   "cell_type": "code",
   "execution_count": 21,
   "id": "975b0816-e11b-4835-9ee4-886341b428c3",
   "metadata": {},
   "outputs": [
    {
     "name": "stdout",
     "output_type": "stream",
     "text": [
      "14\n"
     ]
    }
   ],
   "source": [
    "print(len(mhw_event_SSTA_gridded))"
   ]
  },
  {
   "cell_type": "code",
   "execution_count": 22,
   "id": "d2b4f820-ffa6-425e-b1f2-1c78a0b0c999",
   "metadata": {
    "tags": []
   },
   "outputs": [
    {
     "name": "stdout",
     "output_type": "stream",
     "text": [
      "CPU times: user 3.11 s, sys: 572 ms, total: 3.68 s\n",
      "Wall time: 3.72 s\n"
     ]
    }
   ],
   "source": [
    "%%time\n",
    "# -------------------------------------------\n",
    "# Convert SSTA to 1 and all nan to 0.\n",
    "# -------------------------------------------\n",
    "full_use_grids = []\n",
    "\n",
    "for i in range(0, ending_val-1):\n",
    "    x = mhw_event_SSTA_gridded[i][:,:,:]\n",
    "    no_nans_x = np.nan_to_num(x) # replace all nans with zeroes\n",
    "    # np.unique(no_nans_x[0]) \n",
    "    no_nans_x[no_nans_x != 0] = 1 # replace all SSTA values with 1 (for shape comparison)\n",
    "    full_use_grids.append(no_nans_x)\n",
    "    # np.unique(no_nans_x[0]) # check it\n",
    "    # print(no_nans_x.shape) # check it"
   ]
  },
  {
   "cell_type": "code",
   "execution_count": 23,
   "id": "28acc9b6-b138-4292-93b8-f1a5f3ab5c07",
   "metadata": {},
   "outputs": [
    {
     "name": "stdout",
     "output_type": "stream",
     "text": [
      "(array([ 9, 10]),)\n",
      "2\n"
     ]
    }
   ],
   "source": [
    "# -------------------------------------------\n",
    "# Let's find which timesteps have a MHW.\n",
    "# -------------------------------------------\n",
    "example_identifier = 4\n",
    "\n",
    "example_MHW = full_use_grids[example_identifier].max(axis=(1,2)) \n",
    "# print(example_MHW)\n",
    "timeswithMHW = np.where(example_MHW == 1)\n",
    "print(timeswithMHW)\n",
    "print(len(timeswithMHW[0]))\n",
    "\n",
    "# for i in range(len(result[0])):\n",
    "#     print(result[0][i])"
   ]
  },
  {
   "cell_type": "code",
   "execution_count": 24,
   "id": "71fd8725-9ec0-4770-a248-2cc5d9017e5e",
   "metadata": {},
   "outputs": [
    {
     "name": "stdout",
     "output_type": "stream",
     "text": [
      "(481, 192, 288)\n",
      "(14, 481, 192, 288)\n",
      "(14, 26597376)\n"
     ]
    }
   ],
   "source": [
    "# -------------------------------------------\n",
    "# Let's reshape our data so that we can use \n",
    "# in our Principal Component Analysis.\n",
    "# -------------------------------------------\n",
    "print(full_use_grids[0].shape) # let's check if our grid is the right shape\n",
    "full_use_grids_asarray = np.asarray(full_use_grids)\n",
    "print(full_use_grids_asarray.shape)\n",
    "reshaped = full_use_grids_asarray.reshape(ending_val-1,-1)\n",
    "print(reshaped.shape)"
   ]
  },
  {
   "cell_type": "code",
   "execution_count": 34,
   "id": "4c90799a-97f2-4af3-b1a6-2d34365e2756",
   "metadata": {},
   "outputs": [
    {
     "data": {
      "text/plain": [
       "PCA(n_components=0.95)"
      ]
     },
     "execution_count": 34,
     "metadata": {},
     "output_type": "execute_result"
    }
   ],
   "source": [
    "######### ------ Principal Component Analysis\n",
    "# -------------------------------------------\n",
    "from sklearn.preprocessing import MinMaxScaler # allows you to set the variance that is supposed to be explained by the generated components.\n",
    "scaler = MinMaxScaler()\n",
    "data_rescaled = scaler.fit_transform(reshaped)\n",
    "\n",
    "# 95% of variance\n",
    "from sklearn.decomposition import PCA\n",
    "pca = PCA(n_components = 0.95)\n",
    "pca.fit(data_rescaled)\n",
    "reduced = pca.transform(data_rescaled)"
   ]
  },
  {
   "cell_type": "code",
   "execution_count": 60,
   "id": "c8278fb7-8ede-49a6-be4a-211fa9dd3e03",
   "metadata": {},
   "outputs": [
    {
     "name": "stdout",
     "output_type": "stream",
     "text": [
      "(6, 26597376)\n",
      "6\n"
     ]
    }
   ],
   "source": [
    "components = pca.components_\n",
    "print(components[:,:].shape)\n",
    "number_components = np.asarray(components[:,:].shape)[0]\n",
    "print(number_components)"
   ]
  },
  {
   "cell_type": "code",
   "execution_count": 36,
   "id": "1a8c4e63-cd7f-41f3-b331-642e9d32283c",
   "metadata": {},
   "outputs": [],
   "source": [
    "nuclear_norm = np.linalg.norm(pca.singular_values_) # is the sum of singular singulars\n",
    "sv_scaled = pca.singular_values_**2/(nuclear_norm**2) \n",
    "# sv_scaled = pca.explained_variance_ratio_\n",
    "sv_total = np.cumsum(pca.singular_values_**2)/(nuclear_norm**2)"
   ]
  },
  {
   "cell_type": "code",
   "execution_count": 46,
   "id": "8911d8d0-a80d-4567-8940-6fcd7976cb97",
   "metadata": {
    "collapsed": true,
    "jupyter": {
     "outputs_hidden": true
    },
    "tags": []
   },
   "outputs": [
    {
     "data": {
      "text/plain": [
       "<AxesSubplot:>"
      ]
     },
     "execution_count": 46,
     "metadata": {},
     "output_type": "execute_result"
    },
    {
     "data": {
      "text/plain": [
       "[<matplotlib.lines.Line2D at 0x2ae0d4e8b3a0>]"
      ]
     },
     "execution_count": 46,
     "metadata": {},
     "output_type": "execute_result"
    },
    {
     "data": {
      "text/plain": [
       "Text(0.5, 0, 'PCA component')"
      ]
     },
     "execution_count": 46,
     "metadata": {},
     "output_type": "execute_result"
    },
    {
     "data": {
      "text/plain": [
       "Text(0, 0.5, 'explained variance ratio')"
      ]
     },
     "execution_count": 46,
     "metadata": {},
     "output_type": "execute_result"
    },
    {
     "data": {
      "text/plain": [
       "<AxesSubplot:>"
      ]
     },
     "execution_count": 46,
     "metadata": {},
     "output_type": "execute_result"
    },
    {
     "data": {
      "text/plain": [
       "[<matplotlib.lines.Line2D at 0x2ae0d43b3f40>]"
      ]
     },
     "execution_count": 46,
     "metadata": {},
     "output_type": "execute_result"
    },
    {
     "data": {
      "text/plain": [
       "<matplotlib.lines.Line2D at 0x2ae0d44bc670>"
      ]
     },
     "execution_count": 46,
     "metadata": {},
     "output_type": "execute_result"
    },
    {
     "data": {
      "text/plain": [
       "<matplotlib.lines.Line2D at 0x2ae0d4523580>"
      ]
     },
     "execution_count": 46,
     "metadata": {},
     "output_type": "execute_result"
    },
    {
     "data": {
      "text/plain": [
       "<matplotlib.lines.Line2D at 0x2ae0d43ab6d0>"
      ]
     },
     "execution_count": 46,
     "metadata": {},
     "output_type": "execute_result"
    },
    {
     "data": {
      "text/plain": [
       "Text(0.5, 0, 'PCA component')"
      ]
     },
     "execution_count": 46,
     "metadata": {},
     "output_type": "execute_result"
    },
    {
     "data": {
      "text/plain": [
       "Text(0, 0.5, 'cumulatiave explained variance ratio')"
      ]
     },
     "execution_count": 46,
     "metadata": {},
     "output_type": "execute_result"
    },
    {
     "data": {
      "image/png": "[encoded data removed]",
      "text/plain": [
       "<Figure size 720x360 with 2 Axes>"
      ]
     },
     "metadata": {
      "needs_background": "light"
     },
     "output_type": "display_data"
    }
   ],
   "source": [
    "# -- Plot the singular values\n",
    "plt.rcParams[\"figure.figsize\"] = (25,6)\n",
    "\n",
    "plt.rcParams[\"figure.figsize\"] = (10,5)\n",
    "\n",
    "plt.subplot(1, 2, 1)\n",
    "plt.plot(sv_scaled, 'blue') # equivalent to pca.explained_variance_ratio_\n",
    "plt.xlabel('PCA component', fontsize=15)\n",
    "plt.ylabel('explained variance ratio', fontsize=15)\n",
    "\n",
    "plt.subplot(1, 2, 2)\n",
    "plt.plot(sv_total, 'blue')\n",
    "plt.axhline(y=0.60,color='black',linestyle = '--',c='gold')\n",
    "plt.axhline(y=0.80,color='black',linestyle = '--', c='orange')\n",
    "plt.axhline(y=0.90,color='black',linestyle = '--',c='red')\n",
    "plt.xlabel('PCA component', fontsize=15)\n",
    "plt.ylabel('cumulatiave explained variance ratio', fontsize=15)\n",
    "\n",
    "plt.show()"
   ]
  },
  {
   "cell_type": "code",
   "execution_count": 62,
   "id": "18a300fd-9b38-43f8-8880-3a1b24b742f6",
   "metadata": {},
   "outputs": [
    {
     "data": {
      "text/plain": [
       "(6, 26597376)"
      ]
     },
     "execution_count": 62,
     "metadata": {},
     "output_type": "execute_result"
    },
    {
     "data": {
      "text/plain": [
       "(6, 481, 192, 288)"
      ]
     },
     "execution_count": 62,
     "metadata": {},
     "output_type": "execute_result"
    }
   ],
   "source": [
    "np.asarray(components[:number_components,:]).shape\n",
    "reshaped_components = pca.components_.reshape((number_components, 481, 192, 288))\n",
    "reshaped_components.shape"
   ]
  },
  {
   "cell_type": "code",
   "execution_count": 86,
   "id": "ed9f01f3-8bd6-4f86-b3b6-9690c7be3795",
   "metadata": {},
   "outputs": [
    {
     "data": {
      "text/plain": [
       "(481,)"
      ]
     },
     "execution_count": 86,
     "metadata": {},
     "output_type": "execute_result"
    },
    {
     "data": {
      "text/plain": [
       "[<matplotlib.lines.Line2D at 0x2ae0d3d29610>]"
      ]
     },
     "execution_count": 86,
     "metadata": {},
     "output_type": "execute_result"
    },
    {
     "data": {
      "text/plain": [
       "[<matplotlib.lines.Line2D at 0x2ae0d3d299d0>]"
      ]
     },
     "execution_count": 86,
     "metadata": {},
     "output_type": "execute_result"
    },
    {
     "data": {
      "text/plain": [
       "[<matplotlib.lines.Line2D at 0x2ae0d3d29d60>]"
      ]
     },
     "execution_count": 86,
     "metadata": {},
     "output_type": "execute_result"
    },
    {
     "data": {
      "text/plain": [
       "[<matplotlib.lines.Line2D at 0x2ae0d3d32130>]"
      ]
     },
     "execution_count": 86,
     "metadata": {},
     "output_type": "execute_result"
    },
    {
     "data": {
      "text/plain": [
       "[<matplotlib.lines.Line2D at 0x2ae0d3d324f0>]"
      ]
     },
     "execution_count": 86,
     "metadata": {},
     "output_type": "execute_result"
    },
    {
     "data": {
      "text/plain": [
       "[<matplotlib.lines.Line2D at 0x2ae0d3d32880>]"
      ]
     },
     "execution_count": 86,
     "metadata": {},
     "output_type": "execute_result"
    },
    {
     "data": {
      "image/png": "[encoded data removed]",
      "text/plain": [
       "<Figure size 720x360 with 1 Axes>"
      ]
     },
     "metadata": {
      "needs_background": "light"
     },
     "output_type": "display_data"
    }
   ],
   "source": [
    "example_MHW = reshaped_components[0].max(axis=(1,2)) \n",
    "example_MHW.shape\n",
    "plt.plot(np.arange(0,481), reshaped_components[0].max(axis=(1,2)) )\n",
    "plt.plot(np.arange(0,481), reshaped_components[1].max(axis=(1,2)) )\n",
    "plt.plot(np.arange(0,481), reshaped_components[2].max(axis=(1,2)) )\n",
    "plt.plot(np.arange(0,481), reshaped_components[3].max(axis=(1,2)) )\n",
    "plt.plot(np.arange(0,481), reshaped_components[4].max(axis=(1,2)) )\n",
    "plt.plot(np.arange(0,481), reshaped_components[5].max(axis=(1,2)) )\n"
   ]
  },
  {
   "cell_type": "code",
   "execution_count": 77,
   "id": "aabee175-efab-4e63-adc4-2e2c113f1978",
   "metadata": {},
   "outputs": [
    {
     "name": "stdout",
     "output_type": "stream",
     "text": [
      "(array([ 0,  1,  2,  3,  4,  5,  6,  7,  8,  9, 10, 11, 12, 13, 14, 15, 16,\n",
      "       17, 18]),)\n",
      "19\n"
     ]
    }
   ],
   "source": [
    "example_identifier = 5\n",
    "\n",
    "example_MHW = reshaped_components[example_identifier].max(axis=(1,2)) \n",
    "# example_MHW\n",
    "# print(example_MHW)\n",
    "timeswithMHW = np.where(example_MHW != 0)\n",
    "print(timeswithMHW)\n",
    "print(len(timeswithMHW[0]))"
   ]
  },
  {
   "cell_type": "code",
   "execution_count": null,
   "id": "104ba7ea-75b2-4150-b741-304545ccd726",
   "metadata": {},
   "outputs": [],
   "source": [
    "fig, axs = plt.subplots(24,5, figsize=(18, 72), facecolor='w', edgecolor='k')\n",
    "\n",
    "fig.subplots_adjust(hspace = .3, wspace=.3)\n",
    "\n",
    "axs = axs.ravel()\n",
    "\n",
    "for i in range(end_time_index-begin_time_index):\n",
    "    mhw_event_slice = mhw_event_rel.__xarray_dataarray_variable__[begin_time_index+i,:,:]\n",
    "    mhw_event_slice = mhw_event_rel.__xarray_dataarray_variable__[begin_time_index+i,:,:]\n",
    "    axs[i].imshow(mhw_event_slice, vmin=0,vmax=5)\n",
    "    axs[i].add_patch(Rectangle((lon_lim_less, lat_lim_less), lon_lim_great - lon_lim_less, lat_lim_great-lat_lim_less,facecolor='None', edgecolor='red'))\n",
    "    axs[i].set_title(str(begin_time_index+i),fontsize=15)"
   ]
  },
  {
   "cell_type": "code",
   "execution_count": 48,
   "id": "e55942ce-a642-40a0-b223-ed2c01671d2d",
   "metadata": {},
   "outputs": [],
   "source": [
    "saving = pca.fit_transform(reshaped)"
   ]
  },
  {
   "cell_type": "code",
   "execution_count": 49,
   "id": "1181cffe-beeb-4914-b987-54e8b0e69040",
   "metadata": {},
   "outputs": [
    {
     "data": {
      "text/plain": [
       "array([[-1.65898951e+01, -1.71856555e+01, -1.58792561e+01,\n",
       "         6.26463855e+01,  3.00188185e+00,  1.63283166e+00],\n",
       "       [ 2.28483166e+02,  1.67899416e+01,  1.00429800e+00,\n",
       "         4.22509382e-01,  1.30584559e-01,  9.00433217e-02],\n",
       "       [-1.79467865e+01, -2.00448043e+01,  8.58338638e+01,\n",
       "         5.50448787e+00,  1.17725524e+00,  7.39595650e-01],\n",
       "       [-1.56544906e+01, -1.54445959e+01, -8.19986169e+00,\n",
       "        -8.69573148e+00, -1.33468145e+01,  3.58830743e+01],\n",
       "       [-1.53785930e+01, -1.49622917e+01, -7.10636016e+00,\n",
       "        -6.38290241e+00, -4.88381656e+00, -6.32392787e+00],\n",
       "       [-3.98250624e+01,  1.70675166e+02,  1.94974474e+00,\n",
       "         7.72394996e-01,  2.31625147e-01,  1.58224433e-01],\n",
       "       [-1.58682181e+01, -1.58276322e+01, -9.27087247e+00,\n",
       "        -1.19452769e+01,  4.43465856e+01,  5.96986323e+00],\n",
       "       [-1.52860621e+01, -1.48035132e+01, -6.79512212e+00,\n",
       "        -5.84861719e+00, -4.01040755e+00, -4.50423394e+00],\n",
       "       [-1.54580881e+01, -1.50998838e+01, -7.39408175e+00,\n",
       "        -6.91995394e+00, -5.99257025e+00, -9.62865753e+00],\n",
       "       [-1.52700715e+01, -1.47762228e+01, -6.74371809e+00,\n",
       "        -5.76463655e+00, -3.88935114e+00, -4.28942007e+00],\n",
       "       [-1.52603310e+01, -1.47596205e+01, -6.71273321e+00,\n",
       "        -5.71456858e+00, -3.81901141e+00, -4.16812785e+00],\n",
       "       [-1.53959126e+01, -1.49921753e+01, -7.16736947e+00,\n",
       "        -6.49313635e+00, -5.08981899e+00, -6.83726244e+00],\n",
       "       [-1.52589791e+01, -1.47573175e+01, -6.70845226e+00,\n",
       "        -5.70768340e+00, -3.80944272e+00, -4.15182211e+00],\n",
       "       [-1.52906758e+01, -1.48113953e+01, -6.81007920e+00,\n",
       "        -5.87327101e+00, -4.04669935e+00, -4.57018079e+00]])"
      ]
     },
     "execution_count": 49,
     "metadata": {},
     "output_type": "execute_result"
    }
   ],
   "source": [
    "saving # what do these coordinates mean"
   ]
  },
  {
   "cell_type": "code",
   "execution_count": null,
   "id": "5d0dcf5e-d1ae-48c7-bc40-975ae32259ef",
   "metadata": {},
   "outputs": [],
   "source": [
    "# 2 and 6\n",
    "\n",
    "def plot_digits(XX, N):  #def plot_digits(XX, N, title): \n",
    "    \"\"\"Small helper function to plot N**2 digits.\"\"\"\n",
    "    fig, ax = plt.subplots(N, N, figsize=(8, 8))\n",
    "    for i in range(N):\n",
    "        for j in range(N):\n",
    "            ax[i,j].imshow(XX[(N)*i+j,:].reshape((16, 16)), cmap=\"Greys\")\n",
    "            ax[i,j].axis(\"off\")\n",
    "            # fig.suptitle(title, fontsize=24)\n",
    "\n",
    "# plot_digits(X_train, 8, \"First 64 Training Features\" )\n",
    "plot_digits(X_train, 8)\n",
    "plt.savefig('first64_training_features.pdf')\n",
    "\n",
    "print(Y_train[0:8**2])\n",
    "\n",
    "plot_digits(components[:16,:], 4)\n",
    "plt.savefig('task1fig2.pdf')"
   ]
  },
  {
   "cell_type": "code",
   "execution_count": null,
   "id": "18a94b95-2d9a-432b-b3a3-4d1af74ae609",
   "metadata": {},
   "outputs": [],
   "source": [
    "plt.imshow(full_use_grids[2][0,:,:])"
   ]
  },
  {
   "cell_type": "code",
   "execution_count": null,
   "id": "eb9bca40-8609-4915-a797-e388575017b1",
   "metadata": {},
   "outputs": [],
   "source": [
    "plt.imshow(full_use_grids[2][1,:,:])"
   ]
  },
  {
   "cell_type": "code",
   "execution_count": null,
   "id": "6a18a8a6-d815-4f47-96d1-0150fa48d355",
   "metadata": {},
   "outputs": [],
   "source": [
    "plt.imshow(full_use_grids[5][9,:,:])"
   ]
  },
  {
   "cell_type": "code",
   "execution_count": null,
   "id": "9f495b3d-42a7-4347-acc7-5d306c551935",
   "metadata": {},
   "outputs": [],
   "source": [
    "plt.imshow(full_use_grids[8][12,:,:])"
   ]
  },
  {
   "cell_type": "code",
   "execution_count": null,
   "id": "ec23f7c6-959d-4195-ac1a-889908076516",
   "metadata": {},
   "outputs": [],
   "source": [
    "# center it\n",
    "# image registration (look through!)"
   ]
  },
  {
   "cell_type": "code",
   "execution_count": null,
   "id": "d698ef87-5508-4210-a824-319d9267052b",
   "metadata": {},
   "outputs": [],
   "source": [
    "temp_array = full_use_grids[8].max(axis=(1,2))\n",
    "print(temp_array)"
   ]
  },
  {
   "cell_type": "code",
   "execution_count": null,
   "id": "ee719b47-a621-4173-96b8-50df8c077e5f",
   "metadata": {},
   "outputs": [],
   "source": [
    "plt.scatter(saving[:,0], saving[:,1],alpha=0.5)\n",
    "plt.xlim(-20,-10)\n",
    "plt.ylim(-20,-10)"
   ]
  },
  {
   "cell_type": "code",
   "execution_count": null,
   "id": "3e263ca6-d070-4b91-8c41-3ccc2ae0dcd6",
   "metadata": {},
   "outputs": [],
   "source": []
  },
  {
   "cell_type": "code",
   "execution_count": null,
   "id": "109be51e-b181-42da-b06c-897028888358",
   "metadata": {},
   "outputs": [],
   "source": [
    "# variance --> explained variance\n",
    "# EOF space -- application"
   ]
  },
  {
   "cell_type": "code",
   "execution_count": null,
   "id": "2a812961-6272-4f30-830b-cc7b7a8c7561",
   "metadata": {},
   "outputs": [],
   "source": [
    "pca.components_.shape"
   ]
  },
  {
   "cell_type": "code",
   "execution_count": null,
   "id": "6e32040a-0f5b-4805-bfb2-48dc843b0030",
   "metadata": {},
   "outputs": [],
   "source": [
    "reshaped_components = pca.components_.reshape((2, 481, 192, 288))"
   ]
  },
  {
   "cell_type": "code",
   "execution_count": null,
   "id": "b1375238-eabc-4dff-98ef-cd14d3b58b96",
   "metadata": {},
   "outputs": [],
   "source": [
    "reshaped_components.shape # two most representative heatwaves"
   ]
  },
  {
   "cell_type": "code",
   "execution_count": null,
   "id": "9fc2cb99-d1a1-44ec-8bfe-35e521f4cf39",
   "metadata": {},
   "outputs": [],
   "source": [
    "plt.imshow(reshaped_components[0,0,:,:])"
   ]
  },
  {
   "cell_type": "code",
   "execution_count": null,
   "id": "ecf50f07-d11d-4bba-a6a1-902a3e07fcd7",
   "metadata": {},
   "outputs": [],
   "source": [
    "plt.imshow(reshaped_components[0,1,:,:])"
   ]
  },
  {
   "cell_type": "code",
   "execution_count": null,
   "id": "18ac57f0-19e6-4f04-8806-4abb78442043",
   "metadata": {},
   "outputs": [],
   "source": [
    "plt.imshow(reshaped_components[0,2,:,:])"
   ]
  },
  {
   "cell_type": "code",
   "execution_count": null,
   "id": "df8390cc-4cef-4fc7-a3f3-cb5605041ed7",
   "metadata": {},
   "outputs": [],
   "source": [
    "plt.imshow(reshaped_components[0,3,:,:])"
   ]
  },
  {
   "cell_type": "code",
   "execution_count": null,
   "id": "7eadbfdc-aca4-4f75-a79a-b3dc9767a600",
   "metadata": {},
   "outputs": [],
   "source": [
    "plt.imshow(reshaped_components[0,4,:,:])"
   ]
  },
  {
   "cell_type": "code",
   "execution_count": null,
   "id": "3ea2d4ce-7be3-4145-8f27-906e869bdb55",
   "metadata": {},
   "outputs": [],
   "source": [
    "plt.imshow(reshaped_components[0,5,:,:])"
   ]
  },
  {
   "cell_type": "code",
   "execution_count": null,
   "id": "f201b8da-fb3d-462f-a444-d2d02e3956f8",
   "metadata": {},
   "outputs": [],
   "source": [
    "plt.imshow(reshaped_components[0,6,:,:])"
   ]
  },
  {
   "cell_type": "code",
   "execution_count": null,
   "id": "202d3513-a679-4907-a37e-5f6c700c5da9",
   "metadata": {},
   "outputs": [],
   "source": [
    "plt.imshow(reshaped_components[0,7,:,:])"
   ]
  },
  {
   "cell_type": "code",
   "execution_count": null,
   "id": "3a7bd489-1270-4dfb-815f-39a31eff92fe",
   "metadata": {},
   "outputs": [],
   "source": [
    "plt.imshow(reshaped_components[0,8,:,:])"
   ]
  },
  {
   "cell_type": "code",
   "execution_count": null,
   "id": "adee1553-c4d6-4d96-9338-c5f2f07c6adc",
   "metadata": {},
   "outputs": [],
   "source": [
    "plt.imshow(reshaped_components[0,9,:,:])"
   ]
  },
  {
   "cell_type": "code",
   "execution_count": null,
   "id": "411a9d41-8a55-4364-a307-56d2946a531e",
   "metadata": {},
   "outputs": [],
   "source": [
    "plt.imshow(reshaped_components[0,10,:,:])"
   ]
  },
  {
   "cell_type": "code",
   "execution_count": null,
   "id": "1ee7ad22-d7dd-48a0-823b-47c7f74e2950",
   "metadata": {},
   "outputs": [],
   "source": [
    "plt.imshow(reshaped_components[0,11,:,:])"
   ]
  },
  {
   "cell_type": "code",
   "execution_count": null,
   "id": "cd25c8cb-08c5-4568-9e10-aaab501bb7aa",
   "metadata": {},
   "outputs": [],
   "source": [
    "plt.imshow(reshaped_components[0,12,:,:])"
   ]
  },
  {
   "cell_type": "code",
   "execution_count": null,
   "id": "0195fcd6-9896-4099-a673-c3ea2229c658",
   "metadata": {
    "tags": []
   },
   "outputs": [],
   "source": [
    "trying = reshaped_components[0].max(axis=(1,2)) \n",
    "print(trying)"
   ]
  },
  {
   "cell_type": "code",
   "execution_count": null,
   "id": "37c37c79-e367-4e4f-b43b-8a2e88aaa47d",
   "metadata": {
    "tags": []
   },
   "outputs": [],
   "source": [
    "trying = reshaped_components[1].max(axis=(1,2)) \n",
    "print(trying)"
   ]
  },
  {
   "cell_type": "code",
   "execution_count": null,
   "id": "8e3866df-d9f1-44a4-af91-ab625e6cebea",
   "metadata": {},
   "outputs": [],
   "source": [
    "plt.imshow(reshaped_components[1,0,:,:],cmap=plt.get_cmap('gray'))"
   ]
  },
  {
   "cell_type": "code",
   "execution_count": null,
   "id": "79480a2c-d417-4de9-bf56-1a56216530bc",
   "metadata": {},
   "outputs": [],
   "source": [
    "plt.imshow(reshaped_components[1,1,:,:],cmap=plt.get_cmap('gray'))"
   ]
  },
  {
   "cell_type": "code",
   "execution_count": null,
   "id": "51b5adb1-f482-47f9-bed8-c5f6615092ce",
   "metadata": {},
   "outputs": [],
   "source": [
    "plt.imshow(reshaped_components[1,2,:,:],cmap=plt.get_cmap('gray'))"
   ]
  },
  {
   "cell_type": "code",
   "execution_count": null,
   "id": "83a15da5-b2a7-498e-8d14-cd2e07868f65",
   "metadata": {},
   "outputs": [],
   "source": [
    "plt.imshow(reshaped_components[1,3,:,:])"
   ]
  },
  {
   "cell_type": "code",
   "execution_count": null,
   "id": "05f33a3a-c788-4092-a161-82d4c4d16427",
   "metadata": {},
   "outputs": [],
   "source": [
    "plt.imshow(reshaped_components[1,4,:,:])"
   ]
  },
  {
   "cell_type": "code",
   "execution_count": null,
   "id": "33a54fe7-dbbc-407a-b9f1-6e3f4c9b1516",
   "metadata": {},
   "outputs": [],
   "source": [
    "plt.imshow(reshaped_components[1,5,:,:])"
   ]
  },
  {
   "cell_type": "code",
   "execution_count": null,
   "id": "64c84b12-f624-4073-8daa-dca4f88329af",
   "metadata": {},
   "outputs": [],
   "source": [
    "plt.imshow(reshaped_components[1,6,:,:])"
   ]
  },
  {
   "cell_type": "code",
   "execution_count": null,
   "id": "8a5af3c6-a0e0-4cfb-aa1f-f64e56817f04",
   "metadata": {},
   "outputs": [],
   "source": [
    "plt.imshow(reshaped_components[1,7,:,:])"
   ]
  },
  {
   "cell_type": "code",
   "execution_count": null,
   "id": "6a09403e-8f9b-4c64-9f98-0c98cf084a1a",
   "metadata": {},
   "outputs": [],
   "source": [
    "plt.imshow(reshaped_components[1,8,:,:])"
   ]
  },
  {
   "cell_type": "code",
   "execution_count": null,
   "id": "17da9ca2-97c3-4b69-8452-a7f404cff68c",
   "metadata": {},
   "outputs": [],
   "source": [
    "# 0 is not here\n",
    "\n",
    "only_longer_mhws = []\n",
    "for i in range(0, ending_val):\n",
    "    temp_array = full_use_grids[i].max(axis=(1,2)) \n",
    "    which_months = np.where(new_array_1 == 1)\n",
    "    \n",
    "    temp_list = []\n",
    "    if np.count_nonzero(temp_array == 1) > 1:\n",
    "        temp_list = []\n",
    "        for j in range(len(which_months[0])):\n",
    "            val = which_months[0][j]\n",
    "            temp_list.append(full_use_grids[i][j,:,:]) # make this faster\n",
    "        # only_longer_mhws.append(full_use_grids[i])\n",
    "        only_longer_mhws.append(temp_list)"
   ]
  },
  {
   "cell_type": "code",
   "execution_count": null,
   "id": "519b7d66-45eb-4983-9864-632dc15a4730",
   "metadata": {},
   "outputs": [],
   "source": [
    "print(len(only_longer_mhws))"
   ]
  },
  {
   "cell_type": "code",
   "execution_count": null,
   "id": "e006749a-ba6f-498a-ad04-6cdffb67bd47",
   "metadata": {},
   "outputs": [],
   "source": [
    "print(len(only_longer_mhws[0]))"
   ]
  },
  {
   "cell_type": "code",
   "execution_count": null,
   "id": "598463e6-66c2-4c30-a232-f93570a39010",
   "metadata": {},
   "outputs": [],
   "source": [
    "plt.imshow(only_longer_mhws[0][0])"
   ]
  },
  {
   "cell_type": "code",
   "execution_count": null,
   "id": "7ab1fc0a-cfe7-4d3a-81f2-c228e951fe52",
   "metadata": {},
   "outputs": [],
   "source": [
    "plt.imshow(only_longer_mhws[5][0])"
   ]
  },
  {
   "cell_type": "code",
   "execution_count": null,
   "id": "80f1d3b8-f4f5-4361-8a78-44f2efa37ea8",
   "metadata": {},
   "outputs": [],
   "source": [
    "plt.imshow(full_use_grids[1][0,:,:])"
   ]
  },
  {
   "cell_type": "code",
   "execution_count": null,
   "id": "5147f196-33af-4c03-957e-2bfbee7790b2",
   "metadata": {},
   "outputs": [],
   "source": [
    "# full_use_grids[0]"
   ]
  },
  {
   "cell_type": "code",
   "execution_count": null,
   "id": "d147d775-1bd1-45b6-a4dd-b6daa7516bda",
   "metadata": {
    "tags": []
   },
   "outputs": [],
   "source": [
    "# -------------------- processing\n",
    "x = mhw_event_SSTA_gridded[1][:,:,:]\n",
    "no_nans_x = np.nan_to_num(x) # replace all nans with zeroes\n",
    "# np.unique(no_nans_x[0]) \n",
    "\n",
    "no_nans_x[no_nans_x != 0] = 1 # replace all SSTA values with 1 (for shape comparison)\n",
    "# np.unique(no_nans_x[0]) # check it\n",
    "print(no_nans_x.shape) # check it"
   ]
  },
  {
   "cell_type": "code",
   "execution_count": null,
   "id": "35306f9f-7bdb-40b5-a537-c88e3c0980ea",
   "metadata": {},
   "outputs": [],
   "source": [
    "corr = signal.correlate(no_nans_x[0:8,:,:], no_nans_x_1[10:18], mode='same')\n",
    "corr /= np.max(corr)\n",
    "corr.shape\n",
    "plt.imshow(corr[1,:,:])"
   ]
  },
  {
   "cell_type": "code",
   "execution_count": null,
   "id": "3bcb0129-f1a1-475e-bdd7-248a97085ad5",
   "metadata": {
    "tags": []
   },
   "outputs": [],
   "source": [
    "no_nans_x"
   ]
  },
  {
   "cell_type": "code",
   "execution_count": null,
   "id": "566c92b5-d258-4ccc-b7e3-d683ffc19731",
   "metadata": {},
   "outputs": [],
   "source": [
    "x_1 = mhw_event_SSTA_gridded[5][:,:,:]\n",
    "no_nans_x_1 = np.nan_to_num(x_1) # replace all nans with zeroes\n",
    "# np.unique(no_nans_x[0]) \n",
    "\n",
    "no_nans_x_1[no_nans_x_1 != 0] = 1 # replace all SSTA values with 1 (for shape comparison)\n",
    "# np.unique(no_nans_x[0]) # check it\n",
    "print(no_nans_x_1.shape) # check it"
   ]
  },
  {
   "cell_type": "code",
   "execution_count": null,
   "id": "489ff110-5945-4993-96a7-dc6f420afd1f",
   "metadata": {},
   "outputs": [],
   "source": [
    "np.allclose(np.linalg.norm(no_nans_x), np.sqrt(np.sum(np.square(no_nans_x)))) "
   ]
  },
  {
   "cell_type": "code",
   "execution_count": null,
   "id": "61e4cf82-12a3-4644-8101-856217b2ea8f",
   "metadata": {},
   "outputs": [],
   "source": [
    "distance = np.linalg.norm(no_nans_x[0,:,:] - no_nans_x_1[10,:,:]) # need to understand this more # check degrees here #l2 norm maybe not # maybe area\n",
    "print(distance)"
   ]
  },
  {
   "cell_type": "code",
   "execution_count": null,
   "id": "7150e35a-2c2b-470d-a4b4-bcef8a2dcb18",
   "metadata": {},
   "outputs": [],
   "source": [
    "plt.imshow(no_nans_x[0,:,:])"
   ]
  },
  {
   "cell_type": "code",
   "execution_count": null,
   "id": "bc8badca-7df9-44b4-8465-49ad565a360b",
   "metadata": {},
   "outputs": [],
   "source": [
    "plt.imshow(no_nans_x_1[10,:,:])"
   ]
  },
  {
   "cell_type": "code",
   "execution_count": null,
   "id": "5859d261-677b-476c-9f26-ca85dccba13a",
   "metadata": {},
   "outputs": [],
   "source": [
    "distance = np.linalg.norm(no_nans_x[0,:,:] - no_nans_x_1[10,:,:]) # need to understand this more # check degrees here \n",
    "print(distance)\n",
    "\n",
    "# another way to calcualte some kind of shape similarity # calcualte lengths of the boundary\n",
    "\n",
    "# fastdtw for marine heatwaves with different lengths (try later today code below)... "
   ]
  },
  {
   "cell_type": "code",
   "execution_count": null,
   "id": "e25e74e9-9b91-4561-ae92-86335e33e565",
   "metadata": {},
   "outputs": [],
   "source": [
    "%%time\n",
    "\n",
    "no_nans_x.max(axis=(1,2))"
   ]
  },
  {
   "cell_type": "code",
   "execution_count": null,
   "id": "4752e020-6481-4a80-937d-ba54b87fa3d8",
   "metadata": {},
   "outputs": [],
   "source": [
    "%%time\n",
    "\n",
    "no_nans_x_1.max(axis=(1,2))"
   ]
  },
  {
   "cell_type": "code",
   "execution_count": null,
   "id": "1efd5d33-10ab-46aa-a925-14064854bb69",
   "metadata": {},
   "outputs": [],
   "source": [
    "no_nans_x_1[11,:,:]"
   ]
  },
  {
   "cell_type": "code",
   "execution_count": null,
   "id": "79191183-22cb-4365-821d-090f6c66d50d",
   "metadata": {},
   "outputs": [],
   "source": [
    "plt.imshow(no_nans_x_1[10,:,:])"
   ]
  },
  {
   "cell_type": "code",
   "execution_count": null,
   "id": "02d0b2c4-ffa5-46ce-ba33-80a0496b8fd7",
   "metadata": {},
   "outputs": [],
   "source": [
    "plt.imshow(no_nans_x_1[11,:,:])"
   ]
  },
  {
   "cell_type": "code",
   "execution_count": null,
   "id": "61fbe96b-5193-4d12-9be2-215ee261c37e",
   "metadata": {},
   "outputs": [],
   "source": [
    "plt.imshow(no_nans_x_1[12,:,:])"
   ]
  },
  {
   "cell_type": "code",
   "execution_count": null,
   "id": "b68f27df-d66f-430a-a27c-a28712cd63a1",
   "metadata": {},
   "outputs": [],
   "source": [
    "plt.imshow(no_nans_x_1[13,:,:])"
   ]
  },
  {
   "cell_type": "code",
   "execution_count": null,
   "id": "db2470fa-30b7-454c-8a69-9316e4580040",
   "metadata": {},
   "outputs": [],
   "source": []
  },
  {
   "cell_type": "code",
   "execution_count": null,
   "id": "7b16b738-a5c9-4e87-87b4-22d20dbd1484",
   "metadata": {},
   "outputs": [],
   "source": [
    "plt.imshow(no_nans_x[1,:,:])"
   ]
  },
  {
   "cell_type": "code",
   "execution_count": null,
   "id": "84d63453-f59a-4c61-b7c5-5ed606c315b0",
   "metadata": {},
   "outputs": [],
   "source": [
    "plt.imshow(no_nans_x[2,:,:])"
   ]
  },
  {
   "cell_type": "code",
   "execution_count": null,
   "id": "79ba076f-2442-43bb-8ee9-a16a59d836e3",
   "metadata": {},
   "outputs": [],
   "source": []
  },
  {
   "cell_type": "code",
   "execution_count": null,
   "id": "d7db3453-9c02-46cd-bbfd-db2f38077751",
   "metadata": {},
   "outputs": [],
   "source": [
    "plt.imshow(no_nans_x[3,:,:])"
   ]
  },
  {
   "cell_type": "code",
   "execution_count": null,
   "id": "f1be8777-8109-4f7e-84de-5837cb87e92e",
   "metadata": {},
   "outputs": [],
   "source": [
    "plt.imshow(no_nans_x[4,:,:])"
   ]
  },
  {
   "cell_type": "code",
   "execution_count": null,
   "id": "298d6fa2-194a-423a-9c5c-6de1dfb7883d",
   "metadata": {},
   "outputs": [],
   "source": [
    "plt.imshow(no_nans_x[5,:,:])"
   ]
  },
  {
   "cell_type": "code",
   "execution_count": null,
   "id": "ffe11279-9886-480f-a556-d60ee1a46958",
   "metadata": {},
   "outputs": [],
   "source": [
    "plt.imshow(no_nans_x[6,:,:])"
   ]
  },
  {
   "cell_type": "code",
   "execution_count": null,
   "id": "a3fcfdb2-ea28-445f-ae4b-27904037abb7",
   "metadata": {},
   "outputs": [],
   "source": [
    "# -------------------- trying a sprase matrix\n",
    "# X_csr_a = sparse.csr_matrix(no_nans_x[0])\n",
    "# X_csr_b = sparse.csr_matrix(no_nans_x[1])\n",
    "\n",
    "# X_csc_a = sparse.csc_matrix(no_nans_x[0]) # compressed column matrix\n",
    "# X_csc_b = sparse.csc_matrix(no_nans_x[1])"
   ]
  },
  {
   "cell_type": "code",
   "execution_count": null,
   "id": "1ec6bbef-48ae-4af1-b2f7-f85723adb20a",
   "metadata": {},
   "outputs": [],
   "source": [
    "rv_results = ho.RVcoeff([no_nans_x[0], no_nans_x[1],no_nans_x[2],no_nans_x[3],no_nans_x[4],no_nans_x[5], no_nans_x[6]])\n",
    "\n",
    "print(rv_results[0, 1])\n",
    "print(rv_results[1, 2])\n",
    "print(rv_results[2, 3])\n",
    "print(rv_results[3, 4])\n",
    "print(rv_results[4, 5])\n",
    "print(rv_results[5, 6])"
   ]
  },
  {
   "cell_type": "code",
   "execution_count": null,
   "id": "81da3366-4926-43be-a419-ecd90bb871e4",
   "metadata": {},
   "outputs": [],
   "source": [
    "rv_results[0]"
   ]
  },
  {
   "cell_type": "code",
   "execution_count": null,
   "id": "2d766d39-be1a-4666-990d-329aca251655",
   "metadata": {},
   "outputs": [],
   "source": [
    "plt.imshow(rv_results)\n",
    "plt.colorbar()"
   ]
  },
  {
   "cell_type": "code",
   "execution_count": null,
   "id": "8f65e88c-f2e0-486c-a176-d8ad909f761b",
   "metadata": {},
   "outputs": [],
   "source": [
    "from sklearn.metrics.pairwise import cosine_similarity\n",
    "from scipy import sparse\n",
    "\n",
    "a = np.random.random((3, 10))\n",
    "b = np.random.random((3, 10))\n",
    "print(a.shape)\n",
    "# Create sparse matrices, which compute faster and give more understandable output\n",
    "# a_sparse, b_sparse = sparse.csr_matrix(a), sparse.csr_matrix(b)\n",
    "\n",
    "# sim_sparse = cosine_similarity(a_sparse, b_sparse, dense_output=False)\n",
    "# print(sim_sparse)"
   ]
  },
  {
   "cell_type": "code",
   "execution_count": null,
   "id": "d1f60023-dbf2-4a64-b3a9-91b0a15814bf",
   "metadata": {},
   "outputs": [],
   "source": [
    "# -------------------- cosine similarity\n",
    "\n",
    "# Cosine similarity is a metric used to measure how\n",
    "# similar the documents are irrespective of their size.\n",
    "# Mathematically, it measures the cosine of the angle\n",
    "# between two vectors projected in a multi-dimensional\n",
    "# space.\n",
    "\n",
    "# The cosine similarity is advantageous because even if\n",
    "# the two similar documents are far apart by the Euclidean\n",
    "# distance (due to the size of the document), chances are\n",
    "# they may still be oriented closer together. The smaller\n",
    "# the angle, higher the cosine similarity.\n",
    "\n",
    "# -----------------------------------------------------\n",
    "\n",
    "A = no_nans_x[0]\n",
    "B = no_nans_x[1]\n",
    "\n",
    "cosine = np.sum(A*B, axis=1)/(norm(A, axis=1)*norm(B, axis=1))\n",
    "#"
   ]
  },
  {
   "cell_type": "code",
   "execution_count": null,
   "id": "fcb3dd52-a445-4655-9df3-27401543aeeb",
   "metadata": {},
   "outputs": [],
   "source": [
    "# generating a sparse matrix\n",
    "one_grid = mhw_event_SSTA_gridded[0].values\n",
    "print(len(one_grid))\n",
    "print(len(one_grid[0]))\n",
    "one_grid\n",
    "# print(len(one_grid[0]))\n",
    "# for i in one_grid[0]:\n",
    "#     np.isfinite(i)\n",
    "# one_grid[0][one_grid[0] == 'nan'] = 0\n",
    "# one_grid[0]\n",
    "# X[X < 0.7] = 0"
   ]
  },
  {
   "cell_type": "code",
   "execution_count": null,
   "id": "f4531592-ea9a-4c30-8a0e-e6be746e421a",
   "metadata": {},
   "outputs": [],
   "source": [
    "nonantime_grids = []\n",
    "for m in range(0, 14):\n",
    "    intermediate_grids = []\n",
    "    for i in range(0,481):\n",
    "        unique_vals = np.unique(mhw_event_SSTA_gridded[m][i,:,:])    \n",
    "        if len(unique_vals) > 1:\n",
    "            intermediate_grids.append(mhw_event_SSTA_gridded[m][i,:,:].values)\n",
    "    nonantime_grids.append(np.asarray(intermediate_grids))"
   ]
  },
  {
   "cell_type": "code",
   "execution_count": null,
   "id": "349c1412-9df1-49e7-b251-417f7cd24292",
   "metadata": {},
   "outputs": [],
   "source": [
    "nonantime_grids[0][0] #.values"
   ]
  },
  {
   "cell_type": "code",
   "execution_count": null,
   "id": "bb0c6ae6-4991-422f-97d2-d75bfc091109",
   "metadata": {},
   "outputs": [],
   "source": [
    "arrayednonantime_grids = np.asarray(nonantime_grids)"
   ]
  },
  {
   "cell_type": "code",
   "execution_count": null,
   "id": "2dfb37b7-745e-40ed-a34b-1b14559c1507",
   "metadata": {},
   "outputs": [],
   "source": [
    "arrayednonantime_grids[0].reshape(len(arrayednonantime_grids[0]), 192*288)"
   ]
  },
  {
   "cell_type": "code",
   "execution_count": null,
   "id": "da3dc0ad-d792-4f7c-ba22-f4220ad54aea",
   "metadata": {},
   "outputs": [],
   "source": [
    "print(len(reshaped_arrayednonantime_grids[0]))"
   ]
  },
  {
   "cell_type": "code",
   "execution_count": null,
   "id": "73506d9f-4f25-4cdb-ac46-ab5829b880e2",
   "metadata": {},
   "outputs": [],
   "source": [
    "# reshaping my arrays (flattening them so that they are 2 dimensional)\n",
    "reshaped_arrayednonantime_grids = []\n",
    "for i in range(len(arrayednonantime_grids)):\n",
    "    reshaped_arrayednonantime_grids.append(arrayednonantime_grids[i].reshape(len(arrayednonantime_grids[i]), 192*288))"
   ]
  },
  {
   "cell_type": "code",
   "execution_count": null,
   "id": "87bc1b45-93f8-4976-8931-878a9e5c186c",
   "metadata": {},
   "outputs": [],
   "source": [
    "reshaped_arrayedfull_grids = []\n",
    "for i in range(len(mhw_event_SSTA_gridded)):\n",
    "    reshaped_arrayedfull_grids.append(mhw_event_SSTA_gridded[i].reshape(len(mhw_event_SSTA_gridded[i]), 192*288))"
   ]
  },
  {
   "cell_type": "code",
   "execution_count": null,
   "id": "9c796fd9-2211-4666-8224-31bf2de1cdca",
   "metadata": {
    "tags": []
   },
   "outputs": [],
   "source": [
    "for i in range(len(arrayednonantime_grids)):\n",
    "    print(reshaped_arrayednonantime_grids[i].shape)\n",
    "print('')\n",
    "for i in range(len(reshaped_arrayedfull_grids)):\n",
    "    print(reshaped_arrayedfull_grids[i].shape)"
   ]
  },
  {
   "cell_type": "code",
   "execution_count": null,
   "id": "be9aad9e-8edf-4785-992a-c0b0987afcff",
   "metadata": {},
   "outputs": [],
   "source": [
    "### trying to calculate similarity\n",
    "# t_time_list\n",
    "# t_lats\n",
    "# t_lons\n",
    "# labels_list\n",
    "# t_full_SSTA\n",
    "# t_mean_SSTA\n",
    "# t_max_SSTA\n",
    "# t_min_SSTA\n",
    "# t_std_SSTA\n",
    "# t_sum_SSTA\n",
    "# t_centroid_list\n",
    "# t_com_coord_list\n",
    "# t_total_cell_area_list"
   ]
  },
  {
   "cell_type": "code",
   "execution_count": null,
   "id": "44f0cd0d-c4fc-4988-842e-faebe9661c3e",
   "metadata": {},
   "outputs": [],
   "source": [
    "print(len(t_lats[0][1]))\n",
    "print(len(t_lons[0][1]))"
   ]
  },
  {
   "cell_type": "code",
   "execution_count": null,
   "id": "788d9bfa-1da8-46c9-9168-4fad008244cf",
   "metadata": {
    "tags": []
   },
   "outputs": [],
   "source": [
    "t_lats[1][1]"
   ]
  },
  {
   "cell_type": "code",
   "execution_count": null,
   "id": "a3550cb9-2534-4198-b2d1-86844b1a8f03",
   "metadata": {
    "tags": []
   },
   "outputs": [],
   "source": [
    "#### calculate similarity (cosine similarity)\n",
    "#### import tensorflow as tf\n",
    "\n",
    "# import numpy as np\n",
    "# from sklearn.metrics.pairwise import cosine_similarity\n",
    "# a = mhw_event_SSTA_gridded[0]\n",
    "# b = mhw_event_SSTA_gridded[1]\n",
    "# # c = np.empty([15000, 24])\n",
    "\n",
    "# # Make an array with the rows of a and same for b\n",
    "# a_splitted=np.split(a, a.shape[0], 0)\n",
    "# b_splitted=np.split(b, b.shape[0], 0)\n",
    "# i=0\n",
    "# for alpha in a_splitted:\n",
    "#     for beta in b_splitted:\n",
    "# #         # Gives a 4x6 matrix\n",
    "#         sim=cosine_similarity(alpha[0],beta[0])\n",
    "# #         print(sim)\n",
    "#         # c[i,:]=sim.ravel()\n",
    "# #         i+=1"
   ]
  },
  {
   "cell_type": "markdown",
   "id": "dfecb0a7-3377-4246-928f-0d3ed4aa8d99",
   "metadata": {},
   "source": [
    "### Continue here"
   ]
  },
  {
   "cell_type": "code",
   "execution_count": null,
   "id": "621aa9d2-3757-4b95-90af-20b5fcdbbdfd",
   "metadata": {
    "tags": []
   },
   "outputs": [],
   "source": [
    "clustering = SpectralClustering(n_clusters=3, assign_labels='discretize', random_state=0).fit(distance_matrix)"
   ]
  },
  {
   "cell_type": "code",
   "execution_count": null,
   "id": "809c95ff-9412-411d-93eb-32a46a77198a",
   "metadata": {
    "tags": []
   },
   "outputs": [],
   "source": [
    "plt.imshow(mhw_event_rel_true_drop.SSTA[0,:,:])\n",
    "plt.show()\n",
    "# plt.imshow(mhw_event_rel_true_drop.SSTA[1,:,:])\n",
    "# plt.show()\n",
    "# plt.imshow(mhw_event_rel_true_drop.SSTA[2,:,:])\n",
    "# plt.show()\n",
    "# plt.imshow(mhw_event_rel_true_drop.SSTA[3,:,:])\n",
    "# plt.show()\n",
    "# plt.imshow(mhw_event_rel_true_drop.SSTA[4,:,:])\n",
    "# plt.show()\n",
    "# plt.imshow(mhw_event_rel_true_drop.SSTA[5,:,:])\n",
    "# plt.show()\n",
    "# plt.imshow(mhw_event_rel_true_drop.SSTA[6,:,:])\n",
    "# plt.show()"
   ]
  },
  {
   "cell_type": "code",
   "execution_count": null,
   "id": "30fbf0f0-4ebf-4d1a-888b-946710206357",
   "metadata": {},
   "outputs": [],
   "source": []
  },
  {
   "cell_type": "code",
   "execution_count": null,
   "id": "6c1e2a97-7b78-4f34-a64f-e1afba0ccd21",
   "metadata": {},
   "outputs": [],
   "source": [
    "xi = np.arange(0,360,0.25)\n",
    "yi = np.arange(-90,90,0.9424083769633569)\n",
    "x, y = np.meshgrid(xi, yi)\n",
    "\n",
    "zi = mlab.griddata(x,y,t_full_SSTA[0][6],xi,yi)\n"
   ]
  },
  {
   "cell_type": "code",
   "execution_count": null,
   "id": "ef4e64d4-2ba9-4e80-b788-5ef1ef9b0022",
   "metadata": {},
   "outputs": [],
   "source": [
    "new_time_list = []\n",
    "\n",
    "for i in range(len(t_time_list)):\n",
    "    new_t_list = list(np.arange(0,len(t_time_list[i])))\n",
    "    zipped = list(zip(new_t_list, t_total_cell_area_list[i]))\n",
    "    new_time_list.append(zipped)"
   ]
  },
  {
   "cell_type": "code",
   "execution_count": null,
   "id": "479a3e15-9e8e-45ea-8333-a4fc0b0e0d54",
   "metadata": {},
   "outputs": [],
   "source": [
    "# dynamic time warping\n",
    "\n",
    "# d = {} # dictionary figure this out (how to index)\n",
    "distances_i = []\n",
    "for i in range(len(new_time_list)):\n",
    "    distance_j = []\n",
    "    for j in range(len(new_time_list)):\n",
    "        distance, path = fastdtw(new_time_list[i], new_time_list[j], dist=euclidean)\n",
    "        # d[(i, j)] = distance\n",
    "        distance_j.append(distance)\n",
    "    distances_i.append(distance_j)"
   ]
  },
  {
   "cell_type": "code",
   "execution_count": null,
   "id": "bc6340d6-2773-4fff-9ce3-c0908a2f7825",
   "metadata": {},
   "outputs": [],
   "source": [
    "distance_matrix = np.array(distances_i)\n",
    "X = distance_matrix"
   ]
  },
  {
   "cell_type": "code",
   "execution_count": null,
   "id": "ce1b32a8-597a-40ca-961b-ca8d5326aa09",
   "metadata": {},
   "outputs": [],
   "source": [
    "from sklearn.manifold import SpectralEmbedding\n",
    "\n",
    "embedding = SpectralEmbedding(n_components=2, affinity='precomputed')\n",
    "X_transformed = embedding.fit_transform(X)\n",
    "X_transformed.shape"
   ]
  },
  {
   "cell_type": "code",
   "execution_count": null,
   "id": "08e975ec-f4d1-4044-9f3c-3c209feb3a01",
   "metadata": {},
   "outputs": [],
   "source": [
    "x_axis = X_transformed[:,0]\n",
    "y_axis = X_transformed[:,1]"
   ]
  },
  {
   "cell_type": "code",
   "execution_count": null,
   "id": "5c96985a-8776-4005-bdbf-39765cdb2c11",
   "metadata": {
    "tags": []
   },
   "outputs": [],
   "source": [
    "annotations=np.arange(0,14)\n",
    "\n",
    "plt.scatter(x_axis, y_axis, c=clustering.labels_)\n",
    "for i, label in enumerate(annotations):\n",
    "    plt.annotate(label, (x_axis[i], y_axis[i]))\n",
    "plt.show()"
   ]
  },
  {
   "cell_type": "code",
   "execution_count": null,
   "id": "3612a6e3-03e7-4c46-b97d-8ae6798a2496",
   "metadata": {},
   "outputs": [],
   "source": [
    "# find a way to show labels\n",
    "# blob_id 3\n",
    "# blob_id 13\n",
    "\n",
    "# go and check the distances first -->"
   ]
  },
  {
   "cell_type": "code",
   "execution_count": null,
   "id": "50f6f19c-8323-4798-913b-ac310d006c07",
   "metadata": {},
   "outputs": [],
   "source": [
    "mhw_id = 6.\n",
    "mhw_event_rel = member_.where(member_.labels==mhw_id, drop=False)\n",
    "mhw_event_rel_true_drop = member_.where(member_.labels==mhw_id, drop=True) # remove the drop so that now I would have a data cube"
   ]
  },
  {
   "cell_type": "code",
   "execution_count": null,
   "id": "72fbe115-2043-422b-a5ce-ae48fd007fc8",
   "metadata": {},
   "outputs": [],
   "source": [
    "mhw_event_rel_true_drop"
   ]
  },
  {
   "cell_type": "code",
   "execution_count": null,
   "id": "21e4be09-b7e0-4be6-affa-b78849da7cd7",
   "metadata": {},
   "outputs": [],
   "source": [
    "new_time_list[1]\n",
    "\n",
    "new_time_list[5]"
   ]
  },
  {
   "cell_type": "code",
   "execution_count": null,
   "id": "0f58de64-f4c2-4d1a-9f3a-794e2b02e393",
   "metadata": {},
   "outputs": [],
   "source": [
    "# PCA --> order them by actual calendar month -\n",
    "# if I see a pattern --> pattern tracking --> similarity --> Gulf Stream"
   ]
  },
  {
   "cell_type": "code",
   "execution_count": null,
   "id": "18676b3c-6310-4706-b8c5-9d41ae047a7b",
   "metadata": {},
   "outputs": [],
   "source": [
    "plt.imshow(mhw_event_rel_true_drop.SSTA[0,:,:])\n",
    "plt.show()\n",
    "plt.imshow(mhw_event_rel_true_drop.SSTA[1,:,:])\n",
    "plt.show()\n",
    "plt.imshow(mhw_event_rel_true_drop.SSTA[2,:,:])\n",
    "plt.show()\n",
    "plt.imshow(mhw_event_rel_true_drop.SSTA[3,:,:])\n",
    "plt.show()\n",
    "plt.imshow(mhw_event_rel_true_drop.SSTA[4,:,:])\n",
    "plt.show()\n",
    "plt.imshow(mhw_event_rel_true_drop.SSTA[5,:,:])\n",
    "plt.show()\n",
    "plt.imshow(mhw_event_rel_true_drop.SSTA[6,:,:])\n",
    "plt.show()"
   ]
  },
  {
   "cell_type": "code",
   "execution_count": null,
   "id": "99c4aedb-64be-4354-a2e8-7a331ebb3d3d",
   "metadata": {},
   "outputs": [],
   "source": [
    "mhw_id = 5.\n",
    "mhw_event_rel = member_.where(member_.labels==mhw_id, drop=False)\n",
    "mhw_event_rel_true_drop = member_.where(member_.labels==mhw_id, drop=True)"
   ]
  },
  {
   "cell_type": "code",
   "execution_count": null,
   "id": "bf789083-ce32-4b9d-8cf5-876e3c35fe58",
   "metadata": {},
   "outputs": [],
   "source": [
    "mhw_event_rel_true_drop"
   ]
  },
  {
   "cell_type": "code",
   "execution_count": null,
   "id": "a3b74885-91be-4525-83d6-3f731a1024d3",
   "metadata": {},
   "outputs": [],
   "source": [
    "plt.imshow(mhw_event_rel_true_drop.SSTA[0,:,:])\n",
    "plt.show()\n",
    "plt.imshow(mhw_event_rel_true_drop.SSTA[1,:,:])\n",
    "plt.show()"
   ]
  },
  {
   "cell_type": "code",
   "execution_count": null,
   "id": "67d8296e-5624-4cd6-955d-6d9d3e964fc4",
   "metadata": {},
   "outputs": [],
   "source": [
    "clustering = SpectralClustering(n_clusters=3, assign_labels='discretize', affinity='precomputed', random_state=0).fit(distance_matrix)"
   ]
  },
  {
   "cell_type": "code",
   "execution_count": null,
   "id": "c56e3863-ee03-4355-bc91-0552168ee8a9",
   "metadata": {},
   "outputs": [],
   "source": [
    "clustering.labels_"
   ]
  },
  {
   "cell_type": "code",
   "execution_count": null,
   "id": "b7498207-d6d6-415a-951f-f81c45721a1e",
   "metadata": {},
   "outputs": [],
   "source": [
    "plt.scatter(x[:,0], x[:,1], c=clustering.labels_)\n",
    "plt.show() "
   ]
  },
  {
   "cell_type": "code",
   "execution_count": null,
   "id": "8ffde838-7fcc-4447-b032-efe02666fc45",
   "metadata": {},
   "outputs": [],
   "source": [
    "# function --> create some kind of gif to scan through the clusters"
   ]
  },
  {
   "cell_type": "code",
   "execution_count": null,
   "id": "53591659-f959-4a08-a519-4a7071cce251",
   "metadata": {
    "tags": []
   },
   "outputs": [],
   "source": [
    "# clustering\n",
    "from sklearn.cluster import SpectralClustering\n",
    "d"
   ]
  },
  {
   "cell_type": "code",
   "execution_count": null,
   "id": "ce30b69f-1b0e-49bc-bc3a-2ed9350e4373",
   "metadata": {},
   "outputs": [],
   "source": [
    "a_zip = list(zip(list(np.arange(0,len(t_time_list[0]))), t_total_cell_area_list[0]))\n",
    "b_zip = list(zip(list(np.arange(0,len(t_time_list[1]))), t_total_cell_area_list[1]))"
   ]
  },
  {
   "cell_type": "code",
   "execution_count": null,
   "id": "29c79d55-f6f5-41f9-b070-000ffaa070bb",
   "metadata": {},
   "outputs": [],
   "source": [
    "# dynamic time warping\n",
    "from scipy.spatial.distance import euclidean\n",
    "from fastdtw import fastdtw\n",
    "\n",
    "distance, path = fastdtw(a_zip, b_zip, dist=euclidean)\n",
    "print(distance)\n",
    "print(path)\n",
    "\n",
    "# run this function over all pairs \n",
    "# using these distances to do clustering --> new measure of similarity\n",
    "# put into array"
   ]
  },
  {
   "cell_type": "code",
   "execution_count": null,
   "id": "00ac15e4-6bf7-4281-9361-f7b477a60bee",
   "metadata": {},
   "outputs": [],
   "source": [
    "help(fastdtw)"
   ]
  },
  {
   "cell_type": "code",
   "execution_count": null,
   "id": "b2ecee3a-e88a-453a-a450-6f1e1fc03e67",
   "metadata": {},
   "outputs": [],
   "source": [
    "mhw_id = 2285.\n",
    "mhw_event_rel = combined_rel.where(combined_rel.labels==mhw_id, drop=False)\n",
    "mhw_event_rel_true_drop = combined_rel.where(combined_rel.labels==mhw_id, drop=True)"
   ]
  },
  {
   "cell_type": "code",
   "execution_count": null,
   "id": "45f073df-12e0-4dc8-a640-669b33ff955c",
   "metadata": {},
   "outputs": [],
   "source": []
  },
  {
   "cell_type": "code",
   "execution_count": null,
   "id": "f9b3c34c-3388-45ed-9757-f32d3d6302e4",
   "metadata": {},
   "outputs": [],
   "source": [
    "ent_full = []  \n",
    "for l, ent in event_member_:"
   ]
  },
  {
   "cell_type": "code",
   "execution_count": null,
   "id": "194efc06-7ccc-4122-9538-e2e0952e97ab",
   "metadata": {},
   "outputs": [],
   "source": []
  },
  {
   "cell_type": "code",
   "execution_count": null,
   "id": "68caf6a1-5f4f-4251-86f0-f1190152de3f",
   "metadata": {},
   "outputs": [],
   "source": [
    "file = event_NEP\n",
    "\n",
    "label_ls = []; time_begin_ls = []; time_end_ls = []; duration_ls = []; \n",
    "intense_mean = []; intense_max = []; intense_min = [];intense_cumu = []\n",
    "coords_ls = []; cell_area_ls = []; lat_ls = []; lon_ls = []\n",
    "\n",
    "for l, ent in file:        \n",
    "    label_ls.append(l)\n",
    "    groupedby_by_time = ent.groupby(ent.time)\n",
    "    time_begin = str(ent.time[0].values); time_begin_ls.append(time_begin)\n",
    "    time_end = str(ent.time[-1].values); time_end_ls.append(time_end)\n",
    "        \n",
    "    duration = len(ent.groupby(\"time\")); duration_ls.append(duration)\n",
    "\n",
    "    temp_intense_mean = []; temp_intense_max = []; temp_intense_min = []; temp_intense_cumu = []\n",
    "    temp_coords = []; temp_cell_area = []; temp_lat = []; temp_lon = []\n",
    "    for n, gro in groupedby_by_time:\n",
    "        lat = gro.lat.values\n",
    "        lon = gro.lon.values\n",
    "        time = gro.time.values\n",
    "                        \n",
    "        intensity_mean_val = gro['SST'].values.mean(); temp_intense_mean.append(intensity_mean_val)\n",
    "        intensity_max_val = gro['SST'].values.max(); temp_intense_max.append(intensity_max_val)\n",
    "        intensity_min_val = gro['SST'].values.min(); temp_intense_min.append(temp_intense_min)\n",
    "        intensity_cumulative_val = gro['SST'].values.sum(); temp_intense_cumu.append(intensity_cumulative_val)\n",
    "\n",
    "        coords = list(zip(lat, lon)); temp_coords.append(coords)\n",
    "        temp_lat.append(lat); temp_lon.append(lon)\n",
    "        y,x=zip(*coords)\n",
    "        dlon = [np.cos(y[c]*np.pi/180)*(111.320*1) for c in np.arange(0, len(coords))]\n",
    "        dlat = (110.574 *1) * np.ones(len(dlon))\n",
    "        cell_area = [np.sum(dlon[c]*dlat[c]) for c in np.arange(0, len(coords))]; temp_cell_area.append(np.sum(cell_area))\n",
    "\n",
    "    intense_mean.append(temp_intense_mean)\n",
    "    intense_max.append(temp_intense_max)\n",
    "    intense_min.append(temp_intense_min) \n",
    "    intense_cumu.append(temp_intense_cumu)\n",
    "    coords_ls.append(temp_coords)\n",
    "    cell_area_ls.append(temp_cell_area)\n",
    "    lat_ls.append(temp_lat)\n",
    "    lon_ls.append(temp_lon)\n",
    "        \n",
    "    begin_dates_list = [dt.datetime.strptime(date, '%Y-%m-%d %H:%M:%S').date() for date in time_begin_ls]\n",
    "    \n",
    "    end_dates_list = [dt.datetime.strptime(date, '%Y-%m-%d %H:%M:%S').date() for date in time_end_ls]\n",
    "\n",
    "my_df = pd.DataFrame(zip(label_ls, begin_dates_list, end_dates_list, duration_ls,\n",
    "                         intense_mean, intense_max, intense_min, intense_cumu,\n",
    "                         coords_ls, cell_area_ls, lat_ls, lon_ls), \n",
    "                     columns = ['label', 'time_begin', 'time_end', 'duration',\n",
    "                                'intense_mean', 'intense_max', 'intense_min','intense_cumu',\n",
    "                                'coords','cell_area','lat','lon'])\n",
    "my_xarray = my_df.to_xarray() "
   ]
  },
  {
   "cell_type": "code",
   "execution_count": null,
   "id": "78bd41d0-5b7b-403f-a140-89f929aa45c1",
   "metadata": {},
   "outputs": [],
   "source": [
    "lens_of_events = []\n",
    "for l, ent in event_member_:\n",
    "    groupedby_by_time = ent.groupby(ent.time)\n",
    "    lens_of_events.append(len(groupedby_by_time))"
   ]
  },
  {
   "cell_type": "code",
   "execution_count": null,
   "id": "e6440c6f-6895-46bb-be9b-de73a4aaf21f",
   "metadata": {},
   "outputs": [],
   "source": [
    "%%time\n",
    "\n",
    "events_full = []\n",
    "for i in range(0,100):\n",
    "    member_ = combined_xarray.isel(new_dim = i)\n",
    "    event_member_ = member_.groupby(member_.labels)\n",
    "    \n",
    "    ent_full = []  \n",
    "    for l, ent in event_member_:\n",
    "        groupedby_by_time = ent.groupby(ent.time)\n",
    "        \n",
    "        gro_full = []\n",
    "        for n, gro in groupedby_by_time:\n",
    "            gro_full.append(gro)\n",
    "        \n",
    "        ent_full.append(gro_full)\n",
    "    events_full.append(ent_full)"
   ]
  },
  {
   "cell_type": "code",
   "execution_count": null,
   "id": "a9deb582-cd9c-44c8-9913-fa4d853541f4",
   "metadata": {},
   "outputs": [],
   "source": [
    "%%time\n",
    "\n",
    "concated_on_time_full = []\n",
    "\n",
    "for i in range(len(events_full[0])):\n",
    "    concated_on_time = xr.concat(events_full[0][i], \"time_dim\")\n",
    "    concated_on_time_full.append(concated_on_time)"
   ]
  },
  {
   "cell_type": "markdown",
   "id": "00bc67ae-b5e5-41bc-97ea-e5f6f5ea7cc7",
   "metadata": {},
   "source": [
    "## ANALYSIS\n",
    "---------------"
   ]
  },
  {
   "cell_type": "markdown",
   "id": "f180b05a-f580-472f-9174-021f9050c819",
   "metadata": {},
   "source": [
    "### Trajectory clustering \n",
    "track how the center of mass of a MHW moves\n",
    "1. https://towardsdatascience.com/gps-trajectory-clustering-with-python-9b0d35660156 \n",
    "2. Clustering Moving Object Trajectories: Integration in CROSS-CPP Analytic Toolbox\n",
    "3. [Continuous Clustering of Moving Objects](https://citeseerx.ist.psu.edu/viewdoc/download?doi=10.1.1.65.8587&rep=rep1&type=pdf)\n",
    "4. Clustering gridded data shapes\n",
    "5. [Comparing trajectory clustering methods (Github repo)](https://github.com/seljukgulcan/comparing-trajectory-clustering-methods)\n",
    "\n",
    "### Self-organizing maps\n",
    "need to understand what this is\n",
    "1. [Beginners Guide to Anomaly Detection Using Self-Organizing Maps](https://www.analyticsvidhya.com/blog/2021/09/beginners-guide-to-anomaly-detection-using-self-organizing-maps/)\n",
    "2. https://pypi.org/project/sklearn-som/\n",
    "\n",
    "### Spatial clustering\n",
    "1. [Spatial Clustering Methods in Data Mining: A Survey](https://www.comp.nus.edu.sg/~atung/publication/gkdbk01.pdf)\n",
    "2. [Spatial clustering of summer temperature maxima from the CNRM-CM5 climate model ensembles & E-OBS over Europe](https://www.sciencedirect.com/science/article/pii/S2212094715300013)\n",
    "\n",
    "### Convolutional Neural Networks\n",
    "1. https://www.analyticsvidhya.com/blog/2021/05/convolutional-neural-networks-cnn/ \n",
    "2. [Predicting clustered weather patterns: A test case for applications of convolutional neural networks to spatio-temporal climate data](https://www.nature.com/articles/s41598-020-57897-9)\n",
    "\n",
    "### Image clustering implementation\n",
    "1. [Image Clustering Implementation with PyTorch](https://towardsdatascience.com/image-clustering-implementation-with-pytorch-587af1d14123)\n",
    "2. [How to cluster images based on visual similarity](https://towardsdatascience.com/how-to-cluster-images-based-on-visual-similarity-cd6e7209fe34)\n",
    "\n",
    "### Other clustering resources\n",
    "1. [dpsom](https://github.com/ratschlab/dpsom): Code associated with ACM-CHIL 21 paper 'T-DPSOM - An Interpretable Clustering Method for Unsupervised Learning of Patient Health States'\n",
    "\n",
    "### tslearn\n",
    "a Python package that provides machine learning tools for the analysis of time series. This package builds on (and hence depends on) scikit-learn, numpy and scipy libraries*\n",
    "- https://tslearn.readthedocs.io/en/stable/gen_modules/clustering/tslearn.clustering.TimeSeriesKMeans.html\n",
    "- https://tslearn.readthedocs.io/en/stable/index.html\n",
    "- https://github.com/tslearn-team/tslearn/\n",
    "- https://tslearn.readthedocs.io/en/stable/user_guide/clustering.html\n",
    "\n",
    "#### Other time series clustering sources\n",
    "- [Time Series Clustering and Dimensionality Reduction](https://towardsdatascience.com/time-series-clustering-and-dimensionality-reduction-5b3b4e84f6a3)\n",
    "- [Deep Time-Series Clustering: A Review (Alqahtani, A.; Ali, M.; Xie, X.; Jones, M.W. Deep Time-Series Clustering: A Review. Electronics 2021, 10, 3001.](https://doi.org/10.3390/electronics10233001)\n",
    "\n",
    "### Other Papers / Resources\n",
    "1. [Predicting climate types for the Continental United States using unsupervised clustering techniques](https://ds153.github.io/files/environmetrics_ds.pdf)\n",
    "2. [An unsupervised learning approach to identifying blocking events: the case of European summer](https://wcd.copernicus.org/preprints/wcd-2021-1/wcd-2021-1-ATC1.pdf)"
   ]
  },
  {
   "cell_type": "code",
   "execution_count": null,
   "id": "360d0a62-3fae-4a7a-9c74-59e17e7e4f18",
   "metadata": {},
   "outputs": [],
   "source": []
  }
 ],
 "metadata": {
  "kernelspec": {
   "display_name": "test-env",
   "language": "python",
   "name": "test-env"
  },
  "language_info": {
   "codemirror_mode": {
    "name": "ipython",
    "version": 3
   },
   "file_extension": ".py",
   "mimetype": "text/x-python",
   "name": "python",
   "nbconvert_exporter": "python",
   "pygments_lexer": "ipython3",
   "version": "3.9.7"
  }
 },
 "nbformat": 4,
 "nbformat_minor": 5
}
