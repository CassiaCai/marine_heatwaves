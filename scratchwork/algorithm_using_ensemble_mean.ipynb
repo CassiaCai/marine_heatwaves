{
 "cells": [
  {
   "cell_type": "markdown",
   "id": "b4b9ae29-4c4e-47ee-b1c6-6b721cf391f9",
   "metadata": {},
   "source": [
    "#### LOADING IN PACKAGES"
   ]
  },
  {
   "cell_type": "code",
   "execution_count": 2,
   "id": "7cb52c74-8e9d-4205-942e-cde1f08db369",
   "metadata": {},
   "outputs": [],
   "source": [
    "import s3fs; import xarray as xr; import numpy as np\n",
    "import pandas as pd; \n",
    "import dask.array as da\n",
    "import ocetrac\n",
    "\n",
    "import matplotlib.pyplot as plt; import cartopy.crs as ccrs\n",
    "\n",
    "import warnings; import expectexception\n",
    "warnings.filterwarnings('ignore')\n",
    "\n",
    "import netCDF4 as nc; import datetime as dt\n",
    "import scipy\n",
    "\n",
    "import intake; import pprint\n",
    "from IPython.core.interactiveshell import InteractiveShell\n",
    "InteractiveShell.ast_node_interactivity = \"all\"\n",
    "# Enable more explicit control of DataFrame display (e.g., to omit annoying line numbers)\n",
    "# from IPython.display import HTML"
   ]
  },
  {
   "cell_type": "markdown",
   "id": "dc093fa4-fc2a-48b7-822c-03bdcd3e865f",
   "metadata": {},
   "source": [
    "#### Dask (Use when really necessary)"
   ]
  },
  {
   "cell_type": "code",
   "execution_count": 2,
   "id": "2b4c4426-ff9c-4925-8813-d6c825bfb737",
   "metadata": {},
   "outputs": [],
   "source": [
    "# import dask"
   ]
  },
  {
   "cell_type": "code",
   "execution_count": 3,
   "id": "74c6adc0-fbc7-4a80-abed-cfdeb9a0c529",
   "metadata": {},
   "outputs": [],
   "source": [
    "# # ONLY RUN THIS CELL ONCE\n",
    "# # NOTE: you may need to change the project number\n",
    "# from dask_jobqueue import PBSCluster\n",
    "# from dask.distributed import Client\n",
    "# proj = 'UWIS0040'\n",
    "\n",
    "# # Setup your PBSCluster\n",
    "# cluster = PBSCluster(\n",
    "#     cores=1, # The number of cores you want\n",
    "#     memory='40GB', # Amount of memory\n",
    "#     processes=1, # How many processes\n",
    "#     queue='casper', # The type of queue to utilize (/glade/u/apps/dav/opt/usr/bin/execcasper)\n",
    "#     local_directory='$TMPDIR', # Use your local directory\n",
    "#     resource_spec='select=1:ncpus=1:mem=20GB', # Specify resources\n",
    "#     project=proj, # Input your project ID here\n",
    "#     walltime='02:00:00', # Amount of wall time\n",
    "#     interface='ib0', # Interface to use\n",
    "# )\n",
    "\n",
    "# # Scale up\n",
    "# #cluster.scale(18)\n",
    "# cluster.adapt(minimum=1,maximum=2)"
   ]
  },
  {
   "cell_type": "code",
   "execution_count": 4,
   "id": "4248c019-4667-4c0a-a2aa-284580909ee1",
   "metadata": {},
   "outputs": [],
   "source": [
    "# # Change your url to the dask dashboard so you can see it\n",
    "# dask.config.set({'distributed.dashboard.link':'https://jupyterhub.hpc.ucar.edu/stable/user/{USER}/proxy/{port}/status'})\n",
    "\n",
    "# # Setup your client\n",
    "# client = Client(cluster)"
   ]
  },
  {
   "cell_type": "code",
   "execution_count": 5,
   "id": "efb1995f-9f45-4842-bc92-da7bafd1bb7e",
   "metadata": {},
   "outputs": [],
   "source": [
    "# client"
   ]
  },
  {
   "cell_type": "code",
   "execution_count": 6,
   "id": "197bcc55-19ae-42f8-a4c3-b61fbaa66fac",
   "metadata": {},
   "outputs": [],
   "source": [
    "# cluster.close()\n",
    "# client.shutdown()"
   ]
  },
  {
   "cell_type": "markdown",
   "id": "be983795-11c8-4af5-9199-5c13f4f5c2b7",
   "metadata": {},
   "source": [
    "### Open original collection description file"
   ]
  },
  {
   "cell_type": "code",
   "execution_count": 7,
   "id": "c1d1eba9-7ed3-4e35-b974-2dc393446611",
   "metadata": {},
   "outputs": [],
   "source": [
    "cat_url_orig = '/glade/collections/cmip/catalog/intake-esm-datastore/catalogs/glade-cesm2-le.json'\n",
    "coll_orig = intake.open_esm_datastore(cat_url_orig)"
   ]
  },
  {
   "cell_type": "code",
   "execution_count": 8,
   "id": "6c3e1f2f-541b-41ff-9aa6-e5ad7514650a",
   "metadata": {},
   "outputs": [
    {
     "name": "stdout",
     "output_type": "stream",
     "text": [
      "100\n"
     ]
    }
   ],
   "source": [
    "subset = coll_orig.search(component='atm',variable='SST',frequency='month_1',experiment='historical')\n",
    "subset_as_df = subset.df\n",
    "grouped_df_subset = subset_as_df.groupby('member_id')\n",
    "print(len(grouped_df_subset))"
   ]
  },
  {
   "cell_type": "markdown",
   "id": "f7ab67f8-51db-4881-89aa-7f2e38bffd06",
   "metadata": {},
   "source": [
    "#### Load ensemble mean file"
   ]
  },
  {
   "cell_type": "code",
   "execution_count": 9,
   "id": "729defd7-5afb-4496-a6c7-d9399112a921",
   "metadata": {},
   "outputs": [
    {
     "data": {
      "text/html": [
       "<div><svg style=\"position: absolute; width: 0; height: 0; overflow: hidden\">\n",
       "<defs>\n",
       "<symbol id=\"icon-database\" viewBox=\"0 0 32 32\">\n",
       "<path d=\"M16 0c-8.837 0-16 2.239-16 5v4c0 2.761 7.163 5 16 5s16-2.239 16-5v-4c0-2.761-7.163-5-16-5z\"></path>\n",
       "<path d=\"M16 17c-8.837 0-16-2.239-16-5v6c0 2.761 7.163 5 16 5s16-2.239 16-5v-6c0 2.761-7.163 5-16 5z\"></path>\n",
       "<path d=\"M16 26c-8.837 0-16-2.239-16-5v6c0 2.761 7.163 5 16 5s16-2.239 16-5v-6c0 2.761-7.163 5-16 5z\"></path>\n",
       "</symbol>\n",
       "<symbol id=\"icon-file-text2\" viewBox=\"0 0 32 32\">\n",
       "<path d=\"M28.681 7.159c-0.694-0.947-1.662-2.053-2.724-3.116s-2.169-2.030-3.116-2.724c-1.612-1.182-2.393-1.319-2.841-1.319h-15.5c-1.378 0-2.5 1.121-2.5 2.5v27c0 1.378 1.122 2.5 2.5 2.5h23c1.378 0 2.5-1.122 2.5-2.5v-19.5c0-0.448-0.137-1.23-1.319-2.841zM24.543 5.457c0.959 0.959 1.712 1.825 2.268 2.543h-4.811v-4.811c0.718 0.556 1.584 1.309 2.543 2.268zM28 29.5c0 0.271-0.229 0.5-0.5 0.5h-23c-0.271 0-0.5-0.229-0.5-0.5v-27c0-0.271 0.229-0.5 0.5-0.5 0 0 15.499-0 15.5 0v7c0 0.552 0.448 1 1 1h7v19.5z\"></path>\n",
       "<path d=\"M23 26h-14c-0.552 0-1-0.448-1-1s0.448-1 1-1h14c0.552 0 1 0.448 1 1s-0.448 1-1 1z\"></path>\n",
       "<path d=\"M23 22h-14c-0.552 0-1-0.448-1-1s0.448-1 1-1h14c0.552 0 1 0.448 1 1s-0.448 1-1 1z\"></path>\n",
       "<path d=\"M23 18h-14c-0.552 0-1-0.448-1-1s0.448-1 1-1h14c0.552 0 1 0.448 1 1s-0.448 1-1 1z\"></path>\n",
       "</symbol>\n",
       "</defs>\n",
       "</svg>\n",
       "<style>/* CSS stylesheet for displaying xarray objects in jupyterlab.\n",
       " *\n",
       " */\n",
       "\n",
       ":root {\n",
       "  --xr-font-color0: var(--jp-content-font-color0, rgba(0, 0, 0, 1));\n",
       "  --xr-font-color2: var(--jp-content-font-color2, rgba(0, 0, 0, 0.54));\n",
       "  --xr-font-color3: var(--jp-content-font-color3, rgba(0, 0, 0, 0.38));\n",
       "  --xr-border-color: var(--jp-border-color2, #e0e0e0);\n",
       "  --xr-disabled-color: var(--jp-layout-color3, #bdbdbd);\n",
       "  --xr-background-color: var(--jp-layout-color0, white);\n",
       "  --xr-background-color-row-even: var(--jp-layout-color1, white);\n",
       "  --xr-background-color-row-odd: var(--jp-layout-color2, #eeeeee);\n",
       "}\n",
       "\n",
       "html[theme=dark],\n",
       "body.vscode-dark {\n",
       "  --xr-font-color0: rgba(255, 255, 255, 1);\n",
       "  --xr-font-color2: rgba(255, 255, 255, 0.54);\n",
       "  --xr-font-color3: rgba(255, 255, 255, 0.38);\n",
       "  --xr-border-color: #1F1F1F;\n",
       "  --xr-disabled-color: #515151;\n",
       "  --xr-background-color: #111111;\n",
       "  --xr-background-color-row-even: #111111;\n",
       "  --xr-background-color-row-odd: #313131;\n",
       "}\n",
       "\n",
       ".xr-wrap {\n",
       "  display: block;\n",
       "  min-width: 300px;\n",
       "  max-width: 700px;\n",
       "}\n",
       "\n",
       ".xr-text-repr-fallback {\n",
       "  /* fallback to plain text repr when CSS is not injected (untrusted notebook) */\n",
       "  display: none;\n",
       "}\n",
       "\n",
       ".xr-header {\n",
       "  padding-top: 6px;\n",
       "  padding-bottom: 6px;\n",
       "  margin-bottom: 4px;\n",
       "  border-bottom: solid 1px var(--xr-border-color);\n",
       "}\n",
       "\n",
       ".xr-header > div,\n",
       ".xr-header > ul {\n",
       "  display: inline;\n",
       "  margin-top: 0;\n",
       "  margin-bottom: 0;\n",
       "}\n",
       "\n",
       ".xr-obj-type,\n",
       ".xr-array-name {\n",
       "  margin-left: 2px;\n",
       "  margin-right: 10px;\n",
       "}\n",
       "\n",
       ".xr-obj-type {\n",
       "  color: var(--xr-font-color2);\n",
       "}\n",
       "\n",
       ".xr-sections {\n",
       "  padding-left: 0 !important;\n",
       "  display: grid;\n",
       "  grid-template-columns: 150px auto auto 1fr 20px 20px;\n",
       "}\n",
       "\n",
       ".xr-section-item {\n",
       "  display: contents;\n",
       "}\n",
       "\n",
       ".xr-section-item input {\n",
       "  display: none;\n",
       "}\n",
       "\n",
       ".xr-section-item input + label {\n",
       "  color: var(--xr-disabled-color);\n",
       "}\n",
       "\n",
       ".xr-section-item input:enabled + label {\n",
       "  cursor: pointer;\n",
       "  color: var(--xr-font-color2);\n",
       "}\n",
       "\n",
       ".xr-section-item input:enabled + label:hover {\n",
       "  color: var(--xr-font-color0);\n",
       "}\n",
       "\n",
       ".xr-section-summary {\n",
       "  grid-column: 1;\n",
       "  color: var(--xr-font-color2);\n",
       "  font-weight: 500;\n",
       "}\n",
       "\n",
       ".xr-section-summary > span {\n",
       "  display: inline-block;\n",
       "  padding-left: 0.5em;\n",
       "}\n",
       "\n",
       ".xr-section-summary-in:disabled + label {\n",
       "  color: var(--xr-font-color2);\n",
       "}\n",
       "\n",
       ".xr-section-summary-in + label:before {\n",
       "  display: inline-block;\n",
       "  content: '►';\n",
       "  font-size: 11px;\n",
       "  width: 15px;\n",
       "  text-align: center;\n",
       "}\n",
       "\n",
       ".xr-section-summary-in:disabled + label:before {\n",
       "  color: var(--xr-disabled-color);\n",
       "}\n",
       "\n",
       ".xr-section-summary-in:checked + label:before {\n",
       "  content: '▼';\n",
       "}\n",
       "\n",
       ".xr-section-summary-in:checked + label > span {\n",
       "  display: none;\n",
       "}\n",
       "\n",
       ".xr-section-summary,\n",
       ".xr-section-inline-details {\n",
       "  padding-top: 4px;\n",
       "  padding-bottom: 4px;\n",
       "}\n",
       "\n",
       ".xr-section-inline-details {\n",
       "  grid-column: 2 / -1;\n",
       "}\n",
       "\n",
       ".xr-section-details {\n",
       "  display: none;\n",
       "  grid-column: 1 / -1;\n",
       "  margin-bottom: 5px;\n",
       "}\n",
       "\n",
       ".xr-section-summary-in:checked ~ .xr-section-details {\n",
       "  display: contents;\n",
       "}\n",
       "\n",
       ".xr-array-wrap {\n",
       "  grid-column: 1 / -1;\n",
       "  display: grid;\n",
       "  grid-template-columns: 20px auto;\n",
       "}\n",
       "\n",
       ".xr-array-wrap > label {\n",
       "  grid-column: 1;\n",
       "  vertical-align: top;\n",
       "}\n",
       "\n",
       ".xr-preview {\n",
       "  color: var(--xr-font-color3);\n",
       "}\n",
       "\n",
       ".xr-array-preview,\n",
       ".xr-array-data {\n",
       "  padding: 0 5px !important;\n",
       "  grid-column: 2;\n",
       "}\n",
       "\n",
       ".xr-array-data,\n",
       ".xr-array-in:checked ~ .xr-array-preview {\n",
       "  display: none;\n",
       "}\n",
       "\n",
       ".xr-array-in:checked ~ .xr-array-data,\n",
       ".xr-array-preview {\n",
       "  display: inline-block;\n",
       "}\n",
       "\n",
       ".xr-dim-list {\n",
       "  display: inline-block !important;\n",
       "  list-style: none;\n",
       "  padding: 0 !important;\n",
       "  margin: 0;\n",
       "}\n",
       "\n",
       ".xr-dim-list li {\n",
       "  display: inline-block;\n",
       "  padding: 0;\n",
       "  margin: 0;\n",
       "}\n",
       "\n",
       ".xr-dim-list:before {\n",
       "  content: '(';\n",
       "}\n",
       "\n",
       ".xr-dim-list:after {\n",
       "  content: ')';\n",
       "}\n",
       "\n",
       ".xr-dim-list li:not(:last-child):after {\n",
       "  content: ',';\n",
       "  padding-right: 5px;\n",
       "}\n",
       "\n",
       ".xr-has-index {\n",
       "  font-weight: bold;\n",
       "}\n",
       "\n",
       ".xr-var-list,\n",
       ".xr-var-item {\n",
       "  display: contents;\n",
       "}\n",
       "\n",
       ".xr-var-item > div,\n",
       ".xr-var-item label,\n",
       ".xr-var-item > .xr-var-name span {\n",
       "  background-color: var(--xr-background-color-row-even);\n",
       "  margin-bottom: 0;\n",
       "}\n",
       "\n",
       ".xr-var-item > .xr-var-name:hover span {\n",
       "  padding-right: 5px;\n",
       "}\n",
       "\n",
       ".xr-var-list > li:nth-child(odd) > div,\n",
       ".xr-var-list > li:nth-child(odd) > label,\n",
       ".xr-var-list > li:nth-child(odd) > .xr-var-name span {\n",
       "  background-color: var(--xr-background-color-row-odd);\n",
       "}\n",
       "\n",
       ".xr-var-name {\n",
       "  grid-column: 1;\n",
       "}\n",
       "\n",
       ".xr-var-dims {\n",
       "  grid-column: 2;\n",
       "}\n",
       "\n",
       ".xr-var-dtype {\n",
       "  grid-column: 3;\n",
       "  text-align: right;\n",
       "  color: var(--xr-font-color2);\n",
       "}\n",
       "\n",
       ".xr-var-preview {\n",
       "  grid-column: 4;\n",
       "}\n",
       "\n",
       ".xr-var-name,\n",
       ".xr-var-dims,\n",
       ".xr-var-dtype,\n",
       ".xr-preview,\n",
       ".xr-attrs dt {\n",
       "  white-space: nowrap;\n",
       "  overflow: hidden;\n",
       "  text-overflow: ellipsis;\n",
       "  padding-right: 10px;\n",
       "}\n",
       "\n",
       ".xr-var-name:hover,\n",
       ".xr-var-dims:hover,\n",
       ".xr-var-dtype:hover,\n",
       ".xr-attrs dt:hover {\n",
       "  overflow: visible;\n",
       "  width: auto;\n",
       "  z-index: 1;\n",
       "}\n",
       "\n",
       ".xr-var-attrs,\n",
       ".xr-var-data {\n",
       "  display: none;\n",
       "  background-color: var(--xr-background-color) !important;\n",
       "  padding-bottom: 5px !important;\n",
       "}\n",
       "\n",
       ".xr-var-attrs-in:checked ~ .xr-var-attrs,\n",
       ".xr-var-data-in:checked ~ .xr-var-data {\n",
       "  display: block;\n",
       "}\n",
       "\n",
       ".xr-var-data > table {\n",
       "  float: right;\n",
       "}\n",
       "\n",
       ".xr-var-name span,\n",
       ".xr-var-data,\n",
       ".xr-attrs {\n",
       "  padding-left: 25px !important;\n",
       "}\n",
       "\n",
       ".xr-attrs,\n",
       ".xr-var-attrs,\n",
       ".xr-var-data {\n",
       "  grid-column: 1 / -1;\n",
       "}\n",
       "\n",
       "dl.xr-attrs {\n",
       "  padding: 0;\n",
       "  margin: 0;\n",
       "  display: grid;\n",
       "  grid-template-columns: 125px auto;\n",
       "}\n",
       "\n",
       ".xr-attrs dt,\n",
       ".xr-attrs dd {\n",
       "  padding: 0;\n",
       "  margin: 0;\n",
       "  float: left;\n",
       "  padding-right: 10px;\n",
       "  width: auto;\n",
       "}\n",
       "\n",
       ".xr-attrs dt {\n",
       "  font-weight: normal;\n",
       "  grid-column: 1;\n",
       "}\n",
       "\n",
       ".xr-attrs dt:hover span {\n",
       "  display: inline-block;\n",
       "  background: var(--xr-background-color);\n",
       "  padding-right: 10px;\n",
       "}\n",
       "\n",
       ".xr-attrs dd {\n",
       "  grid-column: 2;\n",
       "  white-space: pre-wrap;\n",
       "  word-break: break-all;\n",
       "}\n",
       "\n",
       ".xr-icon-database,\n",
       ".xr-icon-file-text2 {\n",
       "  display: inline-block;\n",
       "  vertical-align: middle;\n",
       "  width: 1em;\n",
       "  height: 1.5em !important;\n",
       "  stroke-width: 0;\n",
       "  stroke: currentColor;\n",
       "  fill: currentColor;\n",
       "}\n",
       "</style><pre class='xr-text-repr-fallback'>&lt;xarray.Dataset&gt;\n",
       "Dimensions:  (lat: 192, lon: 288, time: 1980)\n",
       "Coordinates:\n",
       "  * lat      (lat) float64 -90.0 -89.06 -88.12 -87.17 ... 87.17 88.12 89.06 90.0\n",
       "  * lon      (lon) float64 0.0 1.25 2.5 3.75 5.0 ... 355.0 356.2 357.5 358.8\n",
       "  * time     (time) object 1850-02-01 00:00:00 ... 2015-01-01 00:00:00\n",
       "Data variables:\n",
       "    SST      (time, lat, lon) float32 ...</pre><div class='xr-wrap' hidden><div class='xr-header'><div class='xr-obj-type'>xarray.Dataset</div></div><ul class='xr-sections'><li class='xr-section-item'><input id='section-b106a7ea-e92f-4543-bd9c-20394f147fed' class='xr-section-summary-in' type='checkbox' disabled ><label for='section-b106a7ea-e92f-4543-bd9c-20394f147fed' class='xr-section-summary'  title='Expand/collapse section'>Dimensions:</label><div class='xr-section-inline-details'><ul class='xr-dim-list'><li><span class='xr-has-index'>lat</span>: 192</li><li><span class='xr-has-index'>lon</span>: 288</li><li><span class='xr-has-index'>time</span>: 1980</li></ul></div><div class='xr-section-details'></div></li><li class='xr-section-item'><input id='section-8ac75de2-08b4-4126-811d-8d155c14af11' class='xr-section-summary-in' type='checkbox'  checked><label for='section-8ac75de2-08b4-4126-811d-8d155c14af11' class='xr-section-summary' >Coordinates: <span>(3)</span></label><div class='xr-section-inline-details'></div><div class='xr-section-details'><ul class='xr-var-list'><li class='xr-var-item'><div class='xr-var-name'><span class='xr-has-index'>lat</span></div><div class='xr-var-dims'>(lat)</div><div class='xr-var-dtype'>float64</div><div class='xr-var-preview xr-preview'>-90.0 -89.06 -88.12 ... 89.06 90.0</div><input id='attrs-2ed27659-e6d6-481a-b8da-86e1a4204a9b' class='xr-var-attrs-in' type='checkbox' ><label for='attrs-2ed27659-e6d6-481a-b8da-86e1a4204a9b' title='Show/Hide attributes'><svg class='icon xr-icon-file-text2'><use xlink:href='#icon-file-text2'></use></svg></label><input id='data-c863b3b2-75ff-446c-a7f7-5d5ad4560d16' class='xr-var-data-in' type='checkbox'><label for='data-c863b3b2-75ff-446c-a7f7-5d5ad4560d16' title='Show/Hide data repr'><svg class='icon xr-icon-database'><use xlink:href='#icon-database'></use></svg></label><div class='xr-var-attrs'><dl class='xr-attrs'><dt><span>long_name :</span></dt><dd>latitude</dd><dt><span>units :</span></dt><dd>degrees_north</dd></dl></div><div class='xr-var-data'><pre>array([-90.      , -89.057592, -88.115183, -87.172775, -86.230366, -85.287958,\n",
       "       -84.34555 , -83.403141, -82.460733, -81.518325, -80.575916, -79.633508,\n",
       "       -78.691099, -77.748691, -76.806283, -75.863874, -74.921466, -73.979058,\n",
       "       -73.036649, -72.094241, -71.151832, -70.209424, -69.267016, -68.324607,\n",
       "       -67.382199, -66.439791, -65.497382, -64.554974, -63.612565, -62.670157,\n",
       "       -61.727749, -60.78534 , -59.842932, -58.900524, -57.958115, -57.015707,\n",
       "       -56.073298, -55.13089 , -54.188482, -53.246073, -52.303665, -51.361257,\n",
       "       -50.418848, -49.47644 , -48.534031, -47.591623, -46.649215, -45.706806,\n",
       "       -44.764398, -43.82199 , -42.879581, -41.937173, -40.994764, -40.052356,\n",
       "       -39.109948, -38.167539, -37.225131, -36.282723, -35.340314, -34.397906,\n",
       "       -33.455497, -32.513089, -31.570681, -30.628272, -29.685864, -28.743455,\n",
       "       -27.801047, -26.858639, -25.91623 , -24.973822, -24.031414, -23.089005,\n",
       "       -22.146597, -21.204188, -20.26178 , -19.319372, -18.376963, -17.434555,\n",
       "       -16.492147, -15.549738, -14.60733 , -13.664921, -12.722513, -11.780105,\n",
       "       -10.837696,  -9.895288,  -8.95288 ,  -8.010471,  -7.068063,  -6.125654,\n",
       "        -5.183246,  -4.240838,  -3.298429,  -2.356021,  -1.413613,  -0.471204,\n",
       "         0.471204,   1.413613,   2.356021,   3.298429,   4.240838,   5.183246,\n",
       "         6.125654,   7.068063,   8.010471,   8.95288 ,   9.895288,  10.837696,\n",
       "        11.780105,  12.722513,  13.664921,  14.60733 ,  15.549738,  16.492147,\n",
       "        17.434555,  18.376963,  19.319372,  20.26178 ,  21.204188,  22.146597,\n",
       "        23.089005,  24.031414,  24.973822,  25.91623 ,  26.858639,  27.801047,\n",
       "        28.743455,  29.685864,  30.628272,  31.570681,  32.513089,  33.455497,\n",
       "        34.397906,  35.340314,  36.282723,  37.225131,  38.167539,  39.109948,\n",
       "        40.052356,  40.994764,  41.937173,  42.879581,  43.82199 ,  44.764398,\n",
       "        45.706806,  46.649215,  47.591623,  48.534031,  49.47644 ,  50.418848,\n",
       "        51.361257,  52.303665,  53.246073,  54.188482,  55.13089 ,  56.073298,\n",
       "        57.015707,  57.958115,  58.900524,  59.842932,  60.78534 ,  61.727749,\n",
       "        62.670157,  63.612565,  64.554974,  65.497382,  66.439791,  67.382199,\n",
       "        68.324607,  69.267016,  70.209424,  71.151832,  72.094241,  73.036649,\n",
       "        73.979058,  74.921466,  75.863874,  76.806283,  77.748691,  78.691099,\n",
       "        79.633508,  80.575916,  81.518325,  82.460733,  83.403141,  84.34555 ,\n",
       "        85.287958,  86.230366,  87.172775,  88.115183,  89.057592,  90.      ])</pre></div></li><li class='xr-var-item'><div class='xr-var-name'><span class='xr-has-index'>lon</span></div><div class='xr-var-dims'>(lon)</div><div class='xr-var-dtype'>float64</div><div class='xr-var-preview xr-preview'>0.0 1.25 2.5 ... 356.2 357.5 358.8</div><input id='attrs-c5c11836-e472-4a95-8c9e-ba625cb33d76' class='xr-var-attrs-in' type='checkbox' ><label for='attrs-c5c11836-e472-4a95-8c9e-ba625cb33d76' title='Show/Hide attributes'><svg class='icon xr-icon-file-text2'><use xlink:href='#icon-file-text2'></use></svg></label><input id='data-93f15eb4-f1ff-467d-b6bd-4df4740a7949' class='xr-var-data-in' type='checkbox'><label for='data-93f15eb4-f1ff-467d-b6bd-4df4740a7949' title='Show/Hide data repr'><svg class='icon xr-icon-database'><use xlink:href='#icon-database'></use></svg></label><div class='xr-var-attrs'><dl class='xr-attrs'><dt><span>long_name :</span></dt><dd>longitude</dd><dt><span>units :</span></dt><dd>degrees_east</dd></dl></div><div class='xr-var-data'><pre>array([  0.  ,   1.25,   2.5 , ..., 356.25, 357.5 , 358.75])</pre></div></li><li class='xr-var-item'><div class='xr-var-name'><span class='xr-has-index'>time</span></div><div class='xr-var-dims'>(time)</div><div class='xr-var-dtype'>object</div><div class='xr-var-preview xr-preview'>1850-02-01 00:00:00 ... 2015-01-...</div><input id='attrs-20f4fe48-af65-4ca5-ac80-cc974792dfc1' class='xr-var-attrs-in' type='checkbox' ><label for='attrs-20f4fe48-af65-4ca5-ac80-cc974792dfc1' title='Show/Hide attributes'><svg class='icon xr-icon-file-text2'><use xlink:href='#icon-file-text2'></use></svg></label><input id='data-e07031be-066c-4c89-9233-b091fe1e1028' class='xr-var-data-in' type='checkbox'><label for='data-e07031be-066c-4c89-9233-b091fe1e1028' title='Show/Hide data repr'><svg class='icon xr-icon-database'><use xlink:href='#icon-database'></use></svg></label><div class='xr-var-attrs'><dl class='xr-attrs'><dt><span>long_name :</span></dt><dd>time</dd><dt><span>bounds :</span></dt><dd>time_bnds</dd></dl></div><div class='xr-var-data'><pre>array([cftime.DatetimeNoLeap(1850, 2, 1, 0, 0, 0, 0, has_year_zero=True),\n",
       "       cftime.DatetimeNoLeap(1850, 3, 1, 0, 0, 0, 0, has_year_zero=True),\n",
       "       cftime.DatetimeNoLeap(1850, 4, 1, 0, 0, 0, 0, has_year_zero=True), ...,\n",
       "       cftime.DatetimeNoLeap(2014, 11, 1, 0, 0, 0, 0, has_year_zero=True),\n",
       "       cftime.DatetimeNoLeap(2014, 12, 1, 0, 0, 0, 0, has_year_zero=True),\n",
       "       cftime.DatetimeNoLeap(2015, 1, 1, 0, 0, 0, 0, has_year_zero=True)],\n",
       "      dtype=object)</pre></div></li></ul></div></li><li class='xr-section-item'><input id='section-0e786d97-1d87-472d-973f-a26749cd4e13' class='xr-section-summary-in' type='checkbox'  checked><label for='section-0e786d97-1d87-472d-973f-a26749cd4e13' class='xr-section-summary' >Data variables: <span>(1)</span></label><div class='xr-section-inline-details'></div><div class='xr-section-details'><ul class='xr-var-list'><li class='xr-var-item'><div class='xr-var-name'><span>SST</span></div><div class='xr-var-dims'>(time, lat, lon)</div><div class='xr-var-dtype'>float32</div><div class='xr-var-preview xr-preview'>...</div><input id='attrs-e213ae1a-92d8-4553-aad0-765665eb72e1' class='xr-var-attrs-in' type='checkbox' disabled><label for='attrs-e213ae1a-92d8-4553-aad0-765665eb72e1' title='Show/Hide attributes'><svg class='icon xr-icon-file-text2'><use xlink:href='#icon-file-text2'></use></svg></label><input id='data-54180af8-661d-40c6-a128-4918a4a6178b' class='xr-var-data-in' type='checkbox'><label for='data-54180af8-661d-40c6-a128-4918a4a6178b' title='Show/Hide data repr'><svg class='icon xr-icon-database'><use xlink:href='#icon-database'></use></svg></label><div class='xr-var-attrs'><dl class='xr-attrs'></dl></div><div class='xr-var-data'><pre>[109486080 values with dtype=float32]</pre></div></li></ul></div></li><li class='xr-section-item'><input id='section-1cb3f538-9eb3-4de8-a3c4-046f906b2c28' class='xr-section-summary-in' type='checkbox' disabled ><label for='section-1cb3f538-9eb3-4de8-a3c4-046f906b2c28' class='xr-section-summary'  title='Expand/collapse section'>Attributes: <span>(0)</span></label><div class='xr-section-inline-details'></div><div class='xr-section-details'><dl class='xr-attrs'></dl></div></li></ul></div></div>"
      ],
      "text/plain": [
       "<xarray.Dataset>\n",
       "Dimensions:  (lat: 192, lon: 288, time: 1980)\n",
       "Coordinates:\n",
       "  * lat      (lat) float64 -90.0 -89.06 -88.12 -87.17 ... 87.17 88.12 89.06 90.0\n",
       "  * lon      (lon) float64 0.0 1.25 2.5 3.75 5.0 ... 355.0 356.2 357.5 358.8\n",
       "  * time     (time) object 1850-02-01 00:00:00 ... 2015-01-01 00:00:00\n",
       "Data variables:\n",
       "    SST      (time, lat, lon) float32 ..."
      ]
     },
     "execution_count": 9,
     "metadata": {},
     "output_type": "execute_result"
    }
   ],
   "source": [
    "ensemble_mean = xr.open_dataset('/glade/work/cassiacai/ensemble_mean.nc')\n",
    "# ensemble_mean = xr.open_dataset('/glade/work/cassiacai/ensemble_mean.nc', chunks = {})\n",
    "ensemble_mean"
   ]
  },
  {
   "cell_type": "markdown",
   "id": "16c72a17-bb28-4213-b8f3-acaaf34aae9c",
   "metadata": {},
   "source": [
    "#### Make new netCDF files for SST and SSTA "
   ]
  },
  {
   "cell_type": "code",
   "execution_count": 10,
   "id": "3b00f3d2-5199-4872-9b23-99ab7147251f",
   "metadata": {},
   "outputs": [],
   "source": [
    "# SST_full = []; SSTA_full = []\n",
    "\n",
    "# i = 1\n",
    "# for l, ent in grouped_df_subset:\n",
    "#     if i < 11:\n",
    "#         print(i, l)\n",
    "#         subset = coll_orig.search(component='atm',variable='SST',frequency='month_1',experiment='historical',member_id=l)\n",
    "#     #     subset.df\n",
    "#         dsets = subset.to_dataset_dict(zarr_kwargs={\"consolidated\": True}, storage_options={\"anon\": True})\n",
    "#         key = list(dsets.keys())[0]\n",
    "#         ds = dsets[str(key)]\n",
    "#         SSTA_now = ds.SST.isel(member_id=0) - ensemble_mean; SSTA_full.append(SSTA_now.load())\n",
    "#         SST_now = ds.SST.isel(member_id=0); SST_full.append(SSTA_now.load())\n",
    "#         i+= 1"
   ]
  },
  {
   "cell_type": "code",
   "execution_count": 11,
   "id": "c56aaebf-991e-4de5-811f-a1b002561f39",
   "metadata": {},
   "outputs": [],
   "source": [
    "# %%time\n",
    "# ensemble_mean = sum(SST_full)/100\n",
    "# ensemble_mean\n",
    "\n",
    "# ensemble_mean.to_netcdf('ensemble_mean.nc')\n",
    "# ensemble_mean.close()"
   ]
  },
  {
   "cell_type": "code",
   "execution_count": 12,
   "id": "d392ba00-097c-4f7f-853c-4c24e27bfc95",
   "metadata": {},
   "outputs": [],
   "source": [
    "# %%time\n",
    "# newfile = xr.concat([SST_full[0], SST_full[17], SST_full[34], SST_full[51],\n",
    "#                     SST_full[1], SST_full[18], SST_full[35], SST_full[52],\n",
    "#                     SST_full[2], SST_full[19], SST_full[36], SST_full[53],\n",
    "#                     SST_full[3], SST_full[20], SST_full[37], SST_full[54], \n",
    "#                     SST_full[4], SST_full[21], SST_full[38], SST_full[55],\n",
    "#                     SST_full[5], SST_full[22], SST_full[39], SST_full[56], \n",
    "#                     SST_full[6], SST_full[23], SST_full[40], SST_full[57], \n",
    "#                     SST_full[7], SST_full[24], SST_full[41], SST_full[58],\n",
    "#                     SST_full[8], SST_full[25], SST_full[42], SST_full[59],\n",
    "#                     SST_full[9], SST_full[26], SST_full[43], SST_full[60],\n",
    "#                     SST_full[10], SST_full[27], SST_full[44], SST_full[61],\n",
    "#                     SST_full[11], SST_full[28], SST_full[45], SST_full[62],\n",
    "#                     SST_full[12], SST_full[29], SST_full[46], SST_full[63], \n",
    "#                     SST_full[13], SST_full[30], SST_full[47], SST_full[64],\n",
    "#                     SST_full[14], SST_full[31], SST_full[48], SST_full[65],\n",
    "#                     SST_full[15], SST_full[32], SST_full[49], SST_full[66], \n",
    "#                     SST_full[16], SST_full[33], SST_full[50], SST_full[67],\n",
    "#                     SST_full[68], SST_full[69], SST_full[70], SST_full[71],\n",
    "#                     SST_full[72], SST_full[73], SST_full[74], SST_full[75],\n",
    "#                     SST_full[76], SST_full[77], SST_full[78], SST_full[79],\n",
    "#                     SST_full[80], SST_full[81], SST_full[82], SST_full[83],\n",
    "#                     SST_full[84], SST_full[85], SST_full[86], SST_full[87],\n",
    "#                     SST_full[88], SST_full[89], SST_full[90], SST_full[91],\n",
    "#                     SST_full[92], SST_full[93], SST_full[94], SST_full[95],\n",
    "#                     SST_full[96], SST_full[97], SST_full[98], SST_full[99],\n",
    "#                     ],dim='member_id')\n",
    "# print(newfile)"
   ]
  },
  {
   "cell_type": "code",
   "execution_count": 13,
   "id": "29b77dce-ec63-46c6-bc0f-4314e8d68680",
   "metadata": {},
   "outputs": [],
   "source": [
    "# newfile = xr.concat([SST_full[0], SST_full[1], SST_full[2], SST_full[3],\n",
    "#                     SST_full[4], SST_full[5], SST_full[6], SST_full[7],\n",
    "#                     SST_full[8], SST_full[9]],dim='member_id')"
   ]
  },
  {
   "cell_type": "code",
   "execution_count": 14,
   "id": "63d309ee-aafe-4d67-a72b-1ba1e6a6d79d",
   "metadata": {},
   "outputs": [],
   "source": [
    "# newfile.to_netcdf('SST_first10.nc')"
   ]
  },
  {
   "cell_type": "code",
   "execution_count": 15,
   "id": "687af474-b28f-41cb-89eb-669dff17bef1",
   "metadata": {},
   "outputs": [],
   "source": [
    "# newfile.to_netcdf('SSTA_full.nc')\n",
    "# newfile.to_netcdf('SST_full.nc')\n",
    "# newfile.close()\n",
    "# print ('finished saving')\n",
    "\n",
    "# newfile.to_netcdf('SSTA_full.nc', encoding={'dis': {'zlib': True}})"
   ]
  },
  {
   "cell_type": "markdown",
   "id": "54f6ed2c-fa82-47ca-b6e8-0afbc0c4607a",
   "metadata": {},
   "source": [
    "#### Load SST and SSTA files"
   ]
  },
  {
   "cell_type": "code",
   "execution_count": 16,
   "id": "8acb14c3-6209-415b-be97-4040e6114c78",
   "metadata": {},
   "outputs": [],
   "source": [
    "# M = np.array(1,101,1,dtype='int')\n",
    "# M = xr.DataArray(M, dims=['M'], coords={'M':M})\n",
    "# ds_mf = xr.open_mfdataset('/glade/work/cassiacai/SSTA_full.nc', concat_dim = M, combine='nested')"
   ]
  },
  {
   "cell_type": "code",
   "execution_count": 3,
   "id": "f97ce9e1-a78b-4a98-b7a5-6311c1198bcf",
   "metadata": {},
   "outputs": [],
   "source": [
    "# SST_full = xr.open_dataset('/glade/work/cassiacai/SST_full.nc')\n",
    "# print(SST_full)\n",
    "SST_full = xr.open_dataset('SST_first10.nc')\n",
    "SSTA_full = xr.open_dataset('/glade/work/cassiacai/SSTA_full.nc')"
   ]
  },
  {
   "cell_type": "code",
   "execution_count": 10,
   "id": "339c715f-0f95-410f-921b-6efefe5de6f6",
   "metadata": {},
   "outputs": [
    {
     "data": {
      "text/plain": [
       "<matplotlib.collections.QuadMesh at 0x2aaedd1c9f40>"
      ]
     },
     "execution_count": 10,
     "metadata": {},
     "output_type": "execute_result"
    },
    {
     "data": {
      "image/png": "[encoded data removed]",
      "text/plain": [
       "<Figure size 432x288 with 2 Axes>"
      ]
     },
     "metadata": {
      "needs_background": "light"
     },
     "output_type": "display_data"
    }
   ],
   "source": [
    "SST_full.SST[1,0,:,:].plot()\n",
    "plt.show()"
   ]
  },
  {
   "cell_type": "markdown",
   "id": "6b52f85b-14c1-42d3-aa51-0c7205f59419",
   "metadata": {},
   "source": [
    "#### Decompose SST"
   ]
  },
  {
   "cell_type": "code",
   "execution_count": 25,
   "id": "7a202ac9-5dcd-45ef-a41a-d44522ab3c79",
   "metadata": {},
   "outputs": [
    {
     "data": {
      "text/html": [
       "<div><svg style=\"position: absolute; width: 0; height: 0; overflow: hidden\">\n",
       "<defs>\n",
       "<symbol id=\"icon-database\" viewBox=\"0 0 32 32\">\n",
       "<path d=\"M16 0c-8.837 0-16 2.239-16 5v4c0 2.761 7.163 5 16 5s16-2.239 16-5v-4c0-2.761-7.163-5-16-5z\"></path>\n",
       "<path d=\"M16 17c-8.837 0-16-2.239-16-5v6c0 2.761 7.163 5 16 5s16-2.239 16-5v-6c0 2.761-7.163 5-16 5z\"></path>\n",
       "<path d=\"M16 26c-8.837 0-16-2.239-16-5v6c0 2.761 7.163 5 16 5s16-2.239 16-5v-6c0 2.761-7.163 5-16 5z\"></path>\n",
       "</symbol>\n",
       "<symbol id=\"icon-file-text2\" viewBox=\"0 0 32 32\">\n",
       "<path d=\"M28.681 7.159c-0.694-0.947-1.662-2.053-2.724-3.116s-2.169-2.030-3.116-2.724c-1.612-1.182-2.393-1.319-2.841-1.319h-15.5c-1.378 0-2.5 1.121-2.5 2.5v27c0 1.378 1.122 2.5 2.5 2.5h23c1.378 0 2.5-1.122 2.5-2.5v-19.5c0-0.448-0.137-1.23-1.319-2.841zM24.543 5.457c0.959 0.959 1.712 1.825 2.268 2.543h-4.811v-4.811c0.718 0.556 1.584 1.309 2.543 2.268zM28 29.5c0 0.271-0.229 0.5-0.5 0.5h-23c-0.271 0-0.5-0.229-0.5-0.5v-27c0-0.271 0.229-0.5 0.5-0.5 0 0 15.499-0 15.5 0v7c0 0.552 0.448 1 1 1h7v19.5z\"></path>\n",
       "<path d=\"M23 26h-14c-0.552 0-1-0.448-1-1s0.448-1 1-1h14c0.552 0 1 0.448 1 1s-0.448 1-1 1z\"></path>\n",
       "<path d=\"M23 22h-14c-0.552 0-1-0.448-1-1s0.448-1 1-1h14c0.552 0 1 0.448 1 1s-0.448 1-1 1z\"></path>\n",
       "<path d=\"M23 18h-14c-0.552 0-1-0.448-1-1s0.448-1 1-1h14c0.552 0 1 0.448 1 1s-0.448 1-1 1z\"></path>\n",
       "</symbol>\n",
       "</defs>\n",
       "</svg>\n",
       "<style>/* CSS stylesheet for displaying xarray objects in jupyterlab.\n",
       " *\n",
       " */\n",
       "\n",
       ":root {\n",
       "  --xr-font-color0: var(--jp-content-font-color0, rgba(0, 0, 0, 1));\n",
       "  --xr-font-color2: var(--jp-content-font-color2, rgba(0, 0, 0, 0.54));\n",
       "  --xr-font-color3: var(--jp-content-font-color3, rgba(0, 0, 0, 0.38));\n",
       "  --xr-border-color: var(--jp-border-color2, #e0e0e0);\n",
       "  --xr-disabled-color: var(--jp-layout-color3, #bdbdbd);\n",
       "  --xr-background-color: var(--jp-layout-color0, white);\n",
       "  --xr-background-color-row-even: var(--jp-layout-color1, white);\n",
       "  --xr-background-color-row-odd: var(--jp-layout-color2, #eeeeee);\n",
       "}\n",
       "\n",
       "html[theme=dark],\n",
       "body.vscode-dark {\n",
       "  --xr-font-color0: rgba(255, 255, 255, 1);\n",
       "  --xr-font-color2: rgba(255, 255, 255, 0.54);\n",
       "  --xr-font-color3: rgba(255, 255, 255, 0.38);\n",
       "  --xr-border-color: #1F1F1F;\n",
       "  --xr-disabled-color: #515151;\n",
       "  --xr-background-color: #111111;\n",
       "  --xr-background-color-row-even: #111111;\n",
       "  --xr-background-color-row-odd: #313131;\n",
       "}\n",
       "\n",
       ".xr-wrap {\n",
       "  display: block;\n",
       "  min-width: 300px;\n",
       "  max-width: 700px;\n",
       "}\n",
       "\n",
       ".xr-text-repr-fallback {\n",
       "  /* fallback to plain text repr when CSS is not injected (untrusted notebook) */\n",
       "  display: none;\n",
       "}\n",
       "\n",
       ".xr-header {\n",
       "  padding-top: 6px;\n",
       "  padding-bottom: 6px;\n",
       "  margin-bottom: 4px;\n",
       "  border-bottom: solid 1px var(--xr-border-color);\n",
       "}\n",
       "\n",
       ".xr-header > div,\n",
       ".xr-header > ul {\n",
       "  display: inline;\n",
       "  margin-top: 0;\n",
       "  margin-bottom: 0;\n",
       "}\n",
       "\n",
       ".xr-obj-type,\n",
       ".xr-array-name {\n",
       "  margin-left: 2px;\n",
       "  margin-right: 10px;\n",
       "}\n",
       "\n",
       ".xr-obj-type {\n",
       "  color: var(--xr-font-color2);\n",
       "}\n",
       "\n",
       ".xr-sections {\n",
       "  padding-left: 0 !important;\n",
       "  display: grid;\n",
       "  grid-template-columns: 150px auto auto 1fr 20px 20px;\n",
       "}\n",
       "\n",
       ".xr-section-item {\n",
       "  display: contents;\n",
       "}\n",
       "\n",
       ".xr-section-item input {\n",
       "  display: none;\n",
       "}\n",
       "\n",
       ".xr-section-item input + label {\n",
       "  color: var(--xr-disabled-color);\n",
       "}\n",
       "\n",
       ".xr-section-item input:enabled + label {\n",
       "  cursor: pointer;\n",
       "  color: var(--xr-font-color2);\n",
       "}\n",
       "\n",
       ".xr-section-item input:enabled + label:hover {\n",
       "  color: var(--xr-font-color0);\n",
       "}\n",
       "\n",
       ".xr-section-summary {\n",
       "  grid-column: 1;\n",
       "  color: var(--xr-font-color2);\n",
       "  font-weight: 500;\n",
       "}\n",
       "\n",
       ".xr-section-summary > span {\n",
       "  display: inline-block;\n",
       "  padding-left: 0.5em;\n",
       "}\n",
       "\n",
       ".xr-section-summary-in:disabled + label {\n",
       "  color: var(--xr-font-color2);\n",
       "}\n",
       "\n",
       ".xr-section-summary-in + label:before {\n",
       "  display: inline-block;\n",
       "  content: '►';\n",
       "  font-size: 11px;\n",
       "  width: 15px;\n",
       "  text-align: center;\n",
       "}\n",
       "\n",
       ".xr-section-summary-in:disabled + label:before {\n",
       "  color: var(--xr-disabled-color);\n",
       "}\n",
       "\n",
       ".xr-section-summary-in:checked + label:before {\n",
       "  content: '▼';\n",
       "}\n",
       "\n",
       ".xr-section-summary-in:checked + label > span {\n",
       "  display: none;\n",
       "}\n",
       "\n",
       ".xr-section-summary,\n",
       ".xr-section-inline-details {\n",
       "  padding-top: 4px;\n",
       "  padding-bottom: 4px;\n",
       "}\n",
       "\n",
       ".xr-section-inline-details {\n",
       "  grid-column: 2 / -1;\n",
       "}\n",
       "\n",
       ".xr-section-details {\n",
       "  display: none;\n",
       "  grid-column: 1 / -1;\n",
       "  margin-bottom: 5px;\n",
       "}\n",
       "\n",
       ".xr-section-summary-in:checked ~ .xr-section-details {\n",
       "  display: contents;\n",
       "}\n",
       "\n",
       ".xr-array-wrap {\n",
       "  grid-column: 1 / -1;\n",
       "  display: grid;\n",
       "  grid-template-columns: 20px auto;\n",
       "}\n",
       "\n",
       ".xr-array-wrap > label {\n",
       "  grid-column: 1;\n",
       "  vertical-align: top;\n",
       "}\n",
       "\n",
       ".xr-preview {\n",
       "  color: var(--xr-font-color3);\n",
       "}\n",
       "\n",
       ".xr-array-preview,\n",
       ".xr-array-data {\n",
       "  padding: 0 5px !important;\n",
       "  grid-column: 2;\n",
       "}\n",
       "\n",
       ".xr-array-data,\n",
       ".xr-array-in:checked ~ .xr-array-preview {\n",
       "  display: none;\n",
       "}\n",
       "\n",
       ".xr-array-in:checked ~ .xr-array-data,\n",
       ".xr-array-preview {\n",
       "  display: inline-block;\n",
       "}\n",
       "\n",
       ".xr-dim-list {\n",
       "  display: inline-block !important;\n",
       "  list-style: none;\n",
       "  padding: 0 !important;\n",
       "  margin: 0;\n",
       "}\n",
       "\n",
       ".xr-dim-list li {\n",
       "  display: inline-block;\n",
       "  padding: 0;\n",
       "  margin: 0;\n",
       "}\n",
       "\n",
       ".xr-dim-list:before {\n",
       "  content: '(';\n",
       "}\n",
       "\n",
       ".xr-dim-list:after {\n",
       "  content: ')';\n",
       "}\n",
       "\n",
       ".xr-dim-list li:not(:last-child):after {\n",
       "  content: ',';\n",
       "  padding-right: 5px;\n",
       "}\n",
       "\n",
       ".xr-has-index {\n",
       "  font-weight: bold;\n",
       "}\n",
       "\n",
       ".xr-var-list,\n",
       ".xr-var-item {\n",
       "  display: contents;\n",
       "}\n",
       "\n",
       ".xr-var-item > div,\n",
       ".xr-var-item label,\n",
       ".xr-var-item > .xr-var-name span {\n",
       "  background-color: var(--xr-background-color-row-even);\n",
       "  margin-bottom: 0;\n",
       "}\n",
       "\n",
       ".xr-var-item > .xr-var-name:hover span {\n",
       "  padding-right: 5px;\n",
       "}\n",
       "\n",
       ".xr-var-list > li:nth-child(odd) > div,\n",
       ".xr-var-list > li:nth-child(odd) > label,\n",
       ".xr-var-list > li:nth-child(odd) > .xr-var-name span {\n",
       "  background-color: var(--xr-background-color-row-odd);\n",
       "}\n",
       "\n",
       ".xr-var-name {\n",
       "  grid-column: 1;\n",
       "}\n",
       "\n",
       ".xr-var-dims {\n",
       "  grid-column: 2;\n",
       "}\n",
       "\n",
       ".xr-var-dtype {\n",
       "  grid-column: 3;\n",
       "  text-align: right;\n",
       "  color: var(--xr-font-color2);\n",
       "}\n",
       "\n",
       ".xr-var-preview {\n",
       "  grid-column: 4;\n",
       "}\n",
       "\n",
       ".xr-var-name,\n",
       ".xr-var-dims,\n",
       ".xr-var-dtype,\n",
       ".xr-preview,\n",
       ".xr-attrs dt {\n",
       "  white-space: nowrap;\n",
       "  overflow: hidden;\n",
       "  text-overflow: ellipsis;\n",
       "  padding-right: 10px;\n",
       "}\n",
       "\n",
       ".xr-var-name:hover,\n",
       ".xr-var-dims:hover,\n",
       ".xr-var-dtype:hover,\n",
       ".xr-attrs dt:hover {\n",
       "  overflow: visible;\n",
       "  width: auto;\n",
       "  z-index: 1;\n",
       "}\n",
       "\n",
       ".xr-var-attrs,\n",
       ".xr-var-data {\n",
       "  display: none;\n",
       "  background-color: var(--xr-background-color) !important;\n",
       "  padding-bottom: 5px !important;\n",
       "}\n",
       "\n",
       ".xr-var-attrs-in:checked ~ .xr-var-attrs,\n",
       ".xr-var-data-in:checked ~ .xr-var-data {\n",
       "  display: block;\n",
       "}\n",
       "\n",
       ".xr-var-data > table {\n",
       "  float: right;\n",
       "}\n",
       "\n",
       ".xr-var-name span,\n",
       ".xr-var-data,\n",
       ".xr-attrs {\n",
       "  padding-left: 25px !important;\n",
       "}\n",
       "\n",
       ".xr-attrs,\n",
       ".xr-var-attrs,\n",
       ".xr-var-data {\n",
       "  grid-column: 1 / -1;\n",
       "}\n",
       "\n",
       "dl.xr-attrs {\n",
       "  padding: 0;\n",
       "  margin: 0;\n",
       "  display: grid;\n",
       "  grid-template-columns: 125px auto;\n",
       "}\n",
       "\n",
       ".xr-attrs dt,\n",
       ".xr-attrs dd {\n",
       "  padding: 0;\n",
       "  margin: 0;\n",
       "  float: left;\n",
       "  padding-right: 10px;\n",
       "  width: auto;\n",
       "}\n",
       "\n",
       ".xr-attrs dt {\n",
       "  font-weight: normal;\n",
       "  grid-column: 1;\n",
       "}\n",
       "\n",
       ".xr-attrs dt:hover span {\n",
       "  display: inline-block;\n",
       "  background: var(--xr-background-color);\n",
       "  padding-right: 10px;\n",
       "}\n",
       "\n",
       ".xr-attrs dd {\n",
       "  grid-column: 2;\n",
       "  white-space: pre-wrap;\n",
       "  word-break: break-all;\n",
       "}\n",
       "\n",
       ".xr-icon-database,\n",
       ".xr-icon-file-text2 {\n",
       "  display: inline-block;\n",
       "  vertical-align: middle;\n",
       "  width: 1em;\n",
       "  height: 1.5em !important;\n",
       "  stroke-width: 0;\n",
       "  stroke: currentColor;\n",
       "  fill: currentColor;\n",
       "}\n",
       "</style><pre class='xr-text-repr-fallback'>&lt;xarray.DataArray &#x27;SST&#x27; (member_id: 10, time: 1980, lat: 192, lon: 288)&gt;\n",
       "array([[[[  0.     ,   0.     ,   0.     , ...,   0.     ,   0.     ,\n",
       "            0.     ],\n",
       "         [  0.     ,   0.     ,   0.     , ...,   0.     ,   0.     ,\n",
       "            0.     ],\n",
       "         [  0.     ,   0.     ,   0.     , ...,   0.     ,   0.     ,\n",
       "            0.     ],\n",
       "         ...,\n",
       "         [271.34473, 271.34473, 271.34476, ..., 271.3447 , 271.3447 ,\n",
       "          271.34473],\n",
       "         [271.34967, 271.34967, 271.3497 , ..., 271.3496 , 271.3496 ,\n",
       "          271.34964],\n",
       "         [271.35263, 271.35263, 271.35263, ..., 271.35263, 271.35263,\n",
       "          271.35263]],\n",
       "\n",
       "        [[  0.     ,   0.     ,   0.     , ...,   0.     ,   0.     ,\n",
       "            0.     ],\n",
       "         [  0.     ,   0.     ,   0.     , ...,   0.     ,   0.     ,\n",
       "            0.     ],\n",
       "         [  0.     ,   0.     ,   0.     , ...,   0.     ,   0.     ,\n",
       "            0.     ],\n",
       "...\n",
       "         [271.40964, 271.40967, 271.4097 , ..., 271.40952, 271.40955,\n",
       "          271.4096 ],\n",
       "         [271.41492, 271.41495, 271.41498, ..., 271.41483, 271.41486,\n",
       "          271.4149 ],\n",
       "         [271.41818, 271.41818, 271.41818, ..., 271.41818, 271.41818,\n",
       "          271.41818]],\n",
       "\n",
       "        [[  0.     ,   0.     ,   0.     , ...,   0.     ,   0.     ,\n",
       "            0.     ],\n",
       "         [  0.     ,   0.     ,   0.     , ...,   0.     ,   0.     ,\n",
       "            0.     ],\n",
       "         [  0.     ,   0.     ,   0.     , ...,   0.     ,   0.     ,\n",
       "            0.     ],\n",
       "         ...,\n",
       "         [271.39856, 271.3986 , 271.39862, ..., 271.39847, 271.3985 ,\n",
       "          271.39856],\n",
       "         [271.4036 , 271.40363, 271.40366, ..., 271.4035 , 271.40353,\n",
       "          271.40356],\n",
       "         [271.40616, 271.40616, 271.40616, ..., 271.40616, 271.40616,\n",
       "          271.40616]]]], dtype=float32)\n",
       "Coordinates:\n",
       "  * lat        (lat) float64 -90.0 -89.06 -88.12 -87.17 ... 88.12 89.06 90.0\n",
       "  * lon        (lon) float64 0.0 1.25 2.5 3.75 5.0 ... 355.0 356.2 357.5 358.8\n",
       "  * time       (time) object 1850-02-01 00:00:00 ... 2015-01-01 00:00:00\n",
       "  * member_id  (member_id) object &#x27;r10i1181p1f1&#x27; ... &#x27;r11i1301p1f2&#x27;\n",
       "Attributes:\n",
       "    units:         K\n",
       "    long_name:     sea surface temperature\n",
       "    cell_methods:  time: mean</pre><div class='xr-wrap' hidden><div class='xr-header'><div class='xr-obj-type'>xarray.DataArray</div><div class='xr-array-name'>'SST'</div><ul class='xr-dim-list'><li><span class='xr-has-index'>member_id</span>: 10</li><li><span class='xr-has-index'>time</span>: 1980</li><li><span class='xr-has-index'>lat</span>: 192</li><li><span class='xr-has-index'>lon</span>: 288</li></ul></div><ul class='xr-sections'><li class='xr-section-item'><div class='xr-array-wrap'><input id='section-4a235f79-37f9-4974-b533-eb881e46bedd' class='xr-array-in' type='checkbox' checked><label for='section-4a235f79-37f9-4974-b533-eb881e46bedd' title='Show/hide data repr'><svg class='icon xr-icon-database'><use xlink:href='#icon-database'></use></svg></label><div class='xr-array-preview xr-preview'><span>0.0 0.0 0.0 0.0 0.0 0.0 0.0 ... 271.4 271.4 271.4 271.4 271.4 271.4</span></div><div class='xr-array-data'><pre>array([[[[  0.     ,   0.     ,   0.     , ...,   0.     ,   0.     ,\n",
       "            0.     ],\n",
       "         [  0.     ,   0.     ,   0.     , ...,   0.     ,   0.     ,\n",
       "            0.     ],\n",
       "         [  0.     ,   0.     ,   0.     , ...,   0.     ,   0.     ,\n",
       "            0.     ],\n",
       "         ...,\n",
       "         [271.34473, 271.34473, 271.34476, ..., 271.3447 , 271.3447 ,\n",
       "          271.34473],\n",
       "         [271.34967, 271.34967, 271.3497 , ..., 271.3496 , 271.3496 ,\n",
       "          271.34964],\n",
       "         [271.35263, 271.35263, 271.35263, ..., 271.35263, 271.35263,\n",
       "          271.35263]],\n",
       "\n",
       "        [[  0.     ,   0.     ,   0.     , ...,   0.     ,   0.     ,\n",
       "            0.     ],\n",
       "         [  0.     ,   0.     ,   0.     , ...,   0.     ,   0.     ,\n",
       "            0.     ],\n",
       "         [  0.     ,   0.     ,   0.     , ...,   0.     ,   0.     ,\n",
       "            0.     ],\n",
       "...\n",
       "         [271.40964, 271.40967, 271.4097 , ..., 271.40952, 271.40955,\n",
       "          271.4096 ],\n",
       "         [271.41492, 271.41495, 271.41498, ..., 271.41483, 271.41486,\n",
       "          271.4149 ],\n",
       "         [271.41818, 271.41818, 271.41818, ..., 271.41818, 271.41818,\n",
       "          271.41818]],\n",
       "\n",
       "        [[  0.     ,   0.     ,   0.     , ...,   0.     ,   0.     ,\n",
       "            0.     ],\n",
       "         [  0.     ,   0.     ,   0.     , ...,   0.     ,   0.     ,\n",
       "            0.     ],\n",
       "         [  0.     ,   0.     ,   0.     , ...,   0.     ,   0.     ,\n",
       "            0.     ],\n",
       "         ...,\n",
       "         [271.39856, 271.3986 , 271.39862, ..., 271.39847, 271.3985 ,\n",
       "          271.39856],\n",
       "         [271.4036 , 271.40363, 271.40366, ..., 271.4035 , 271.40353,\n",
       "          271.40356],\n",
       "         [271.40616, 271.40616, 271.40616, ..., 271.40616, 271.40616,\n",
       "          271.40616]]]], dtype=float32)</pre></div></div></li><li class='xr-section-item'><input id='section-f42682b6-fa57-4470-a80d-bd274e84a038' class='xr-section-summary-in' type='checkbox'  checked><label for='section-f42682b6-fa57-4470-a80d-bd274e84a038' class='xr-section-summary' >Coordinates: <span>(4)</span></label><div class='xr-section-inline-details'></div><div class='xr-section-details'><ul class='xr-var-list'><li class='xr-var-item'><div class='xr-var-name'><span class='xr-has-index'>lat</span></div><div class='xr-var-dims'>(lat)</div><div class='xr-var-dtype'>float64</div><div class='xr-var-preview xr-preview'>-90.0 -89.06 -88.12 ... 89.06 90.0</div><input id='attrs-69433199-85d1-415a-b1b4-780a63b88235' class='xr-var-attrs-in' type='checkbox' ><label for='attrs-69433199-85d1-415a-b1b4-780a63b88235' title='Show/Hide attributes'><svg class='icon xr-icon-file-text2'><use xlink:href='#icon-file-text2'></use></svg></label><input id='data-b11013ae-a19f-471a-b351-5b99d045d5ec' class='xr-var-data-in' type='checkbox'><label for='data-b11013ae-a19f-471a-b351-5b99d045d5ec' title='Show/Hide data repr'><svg class='icon xr-icon-database'><use xlink:href='#icon-database'></use></svg></label><div class='xr-var-attrs'><dl class='xr-attrs'><dt><span>long_name :</span></dt><dd>latitude</dd><dt><span>units :</span></dt><dd>degrees_north</dd></dl></div><div class='xr-var-data'><pre>array([-90.      , -89.057592, -88.115183, -87.172775, -86.230366, -85.287958,\n",
       "       -84.34555 , -83.403141, -82.460733, -81.518325, -80.575916, -79.633508,\n",
       "       -78.691099, -77.748691, -76.806283, -75.863874, -74.921466, -73.979058,\n",
       "       -73.036649, -72.094241, -71.151832, -70.209424, -69.267016, -68.324607,\n",
       "       -67.382199, -66.439791, -65.497382, -64.554974, -63.612565, -62.670157,\n",
       "       -61.727749, -60.78534 , -59.842932, -58.900524, -57.958115, -57.015707,\n",
       "       -56.073298, -55.13089 , -54.188482, -53.246073, -52.303665, -51.361257,\n",
       "       -50.418848, -49.47644 , -48.534031, -47.591623, -46.649215, -45.706806,\n",
       "       -44.764398, -43.82199 , -42.879581, -41.937173, -40.994764, -40.052356,\n",
       "       -39.109948, -38.167539, -37.225131, -36.282723, -35.340314, -34.397906,\n",
       "       -33.455497, -32.513089, -31.570681, -30.628272, -29.685864, -28.743455,\n",
       "       -27.801047, -26.858639, -25.91623 , -24.973822, -24.031414, -23.089005,\n",
       "       -22.146597, -21.204188, -20.26178 , -19.319372, -18.376963, -17.434555,\n",
       "       -16.492147, -15.549738, -14.60733 , -13.664921, -12.722513, -11.780105,\n",
       "       -10.837696,  -9.895288,  -8.95288 ,  -8.010471,  -7.068063,  -6.125654,\n",
       "        -5.183246,  -4.240838,  -3.298429,  -2.356021,  -1.413613,  -0.471204,\n",
       "         0.471204,   1.413613,   2.356021,   3.298429,   4.240838,   5.183246,\n",
       "         6.125654,   7.068063,   8.010471,   8.95288 ,   9.895288,  10.837696,\n",
       "        11.780105,  12.722513,  13.664921,  14.60733 ,  15.549738,  16.492147,\n",
       "        17.434555,  18.376963,  19.319372,  20.26178 ,  21.204188,  22.146597,\n",
       "        23.089005,  24.031414,  24.973822,  25.91623 ,  26.858639,  27.801047,\n",
       "        28.743455,  29.685864,  30.628272,  31.570681,  32.513089,  33.455497,\n",
       "        34.397906,  35.340314,  36.282723,  37.225131,  38.167539,  39.109948,\n",
       "        40.052356,  40.994764,  41.937173,  42.879581,  43.82199 ,  44.764398,\n",
       "        45.706806,  46.649215,  47.591623,  48.534031,  49.47644 ,  50.418848,\n",
       "        51.361257,  52.303665,  53.246073,  54.188482,  55.13089 ,  56.073298,\n",
       "        57.015707,  57.958115,  58.900524,  59.842932,  60.78534 ,  61.727749,\n",
       "        62.670157,  63.612565,  64.554974,  65.497382,  66.439791,  67.382199,\n",
       "        68.324607,  69.267016,  70.209424,  71.151832,  72.094241,  73.036649,\n",
       "        73.979058,  74.921466,  75.863874,  76.806283,  77.748691,  78.691099,\n",
       "        79.633508,  80.575916,  81.518325,  82.460733,  83.403141,  84.34555 ,\n",
       "        85.287958,  86.230366,  87.172775,  88.115183,  89.057592,  90.      ])</pre></div></li><li class='xr-var-item'><div class='xr-var-name'><span class='xr-has-index'>lon</span></div><div class='xr-var-dims'>(lon)</div><div class='xr-var-dtype'>float64</div><div class='xr-var-preview xr-preview'>0.0 1.25 2.5 ... 356.2 357.5 358.8</div><input id='attrs-1eaf0d8b-40a2-4c79-846b-afaa0208cb70' class='xr-var-attrs-in' type='checkbox' ><label for='attrs-1eaf0d8b-40a2-4c79-846b-afaa0208cb70' title='Show/Hide attributes'><svg class='icon xr-icon-file-text2'><use xlink:href='#icon-file-text2'></use></svg></label><input id='data-80f73b78-cafb-43bb-ab9e-818ad9272bb0' class='xr-var-data-in' type='checkbox'><label for='data-80f73b78-cafb-43bb-ab9e-818ad9272bb0' title='Show/Hide data repr'><svg class='icon xr-icon-database'><use xlink:href='#icon-database'></use></svg></label><div class='xr-var-attrs'><dl class='xr-attrs'><dt><span>long_name :</span></dt><dd>longitude</dd><dt><span>units :</span></dt><dd>degrees_east</dd></dl></div><div class='xr-var-data'><pre>array([  0.  ,   1.25,   2.5 , ..., 356.25, 357.5 , 358.75])</pre></div></li><li class='xr-var-item'><div class='xr-var-name'><span class='xr-has-index'>time</span></div><div class='xr-var-dims'>(time)</div><div class='xr-var-dtype'>object</div><div class='xr-var-preview xr-preview'>1850-02-01 00:00:00 ... 2015-01-...</div><input id='attrs-9f1a82b4-ae03-4ac2-9553-a7f1694228ad' class='xr-var-attrs-in' type='checkbox' ><label for='attrs-9f1a82b4-ae03-4ac2-9553-a7f1694228ad' title='Show/Hide attributes'><svg class='icon xr-icon-file-text2'><use xlink:href='#icon-file-text2'></use></svg></label><input id='data-2d781917-e9ba-452e-960e-acb7ac58e122' class='xr-var-data-in' type='checkbox'><label for='data-2d781917-e9ba-452e-960e-acb7ac58e122' title='Show/Hide data repr'><svg class='icon xr-icon-database'><use xlink:href='#icon-database'></use></svg></label><div class='xr-var-attrs'><dl class='xr-attrs'><dt><span>long_name :</span></dt><dd>time</dd><dt><span>bounds :</span></dt><dd>time_bnds</dd></dl></div><div class='xr-var-data'><pre>array([cftime.DatetimeNoLeap(1850, 2, 1, 0, 0, 0, 0, has_year_zero=True),\n",
       "       cftime.DatetimeNoLeap(1850, 3, 1, 0, 0, 0, 0, has_year_zero=True),\n",
       "       cftime.DatetimeNoLeap(1850, 4, 1, 0, 0, 0, 0, has_year_zero=True), ...,\n",
       "       cftime.DatetimeNoLeap(2014, 11, 1, 0, 0, 0, 0, has_year_zero=True),\n",
       "       cftime.DatetimeNoLeap(2014, 12, 1, 0, 0, 0, 0, has_year_zero=True),\n",
       "       cftime.DatetimeNoLeap(2015, 1, 1, 0, 0, 0, 0, has_year_zero=True)],\n",
       "      dtype=object)</pre></div></li><li class='xr-var-item'><div class='xr-var-name'><span class='xr-has-index'>member_id</span></div><div class='xr-var-dims'>(member_id)</div><div class='xr-var-dtype'>object</div><div class='xr-var-preview xr-preview'>&#x27;r10i1181p1f1&#x27; ... &#x27;r11i1301p1f2&#x27;</div><input id='attrs-537aa1ff-f24c-4124-ae79-e0cacf285e82' class='xr-var-attrs-in' type='checkbox' disabled><label for='attrs-537aa1ff-f24c-4124-ae79-e0cacf285e82' title='Show/Hide attributes'><svg class='icon xr-icon-file-text2'><use xlink:href='#icon-file-text2'></use></svg></label><input id='data-e3055459-d547-4e6e-bee6-903946a3fc32' class='xr-var-data-in' type='checkbox'><label for='data-e3055459-d547-4e6e-bee6-903946a3fc32' title='Show/Hide data repr'><svg class='icon xr-icon-database'><use xlink:href='#icon-database'></use></svg></label><div class='xr-var-attrs'><dl class='xr-attrs'></dl></div><div class='xr-var-data'><pre>array([&#x27;r10i1181p1f1&#x27;, &#x27;r10i1191p1f2&#x27;, &#x27;r10i1231p1f1&#x27;, &#x27;r10i1251p1f1&#x27;,\n",
       "       &#x27;r10i1281p1f1&#x27;, &#x27;r10i1301p1f1&#x27;, &#x27;r11i1231p1f2&#x27;, &#x27;r11i1251p1f2&#x27;,\n",
       "       &#x27;r11i1281p1f2&#x27;, &#x27;r11i1301p1f2&#x27;], dtype=object)</pre></div></li></ul></div></li><li class='xr-section-item'><input id='section-89729d5d-32fc-48b9-8956-d0a4f0c9ad6d' class='xr-section-summary-in' type='checkbox'  checked><label for='section-89729d5d-32fc-48b9-8956-d0a4f0c9ad6d' class='xr-section-summary' >Attributes: <span>(3)</span></label><div class='xr-section-inline-details'></div><div class='xr-section-details'><dl class='xr-attrs'><dt><span>units :</span></dt><dd>K</dd><dt><span>long_name :</span></dt><dd>sea surface temperature</dd><dt><span>cell_methods :</span></dt><dd>time: mean</dd></dl></div></li></ul></div></div>"
      ],
      "text/plain": [
       "<xarray.DataArray 'SST' (member_id: 10, time: 1980, lat: 192, lon: 288)>\n",
       "array([[[[  0.     ,   0.     ,   0.     , ...,   0.     ,   0.     ,\n",
       "            0.     ],\n",
       "         [  0.     ,   0.     ,   0.     , ...,   0.     ,   0.     ,\n",
       "            0.     ],\n",
       "         [  0.     ,   0.     ,   0.     , ...,   0.     ,   0.     ,\n",
       "            0.     ],\n",
       "         ...,\n",
       "         [271.34473, 271.34473, 271.34476, ..., 271.3447 , 271.3447 ,\n",
       "          271.34473],\n",
       "         [271.34967, 271.34967, 271.3497 , ..., 271.3496 , 271.3496 ,\n",
       "          271.34964],\n",
       "         [271.35263, 271.35263, 271.35263, ..., 271.35263, 271.35263,\n",
       "          271.35263]],\n",
       "\n",
       "        [[  0.     ,   0.     ,   0.     , ...,   0.     ,   0.     ,\n",
       "            0.     ],\n",
       "         [  0.     ,   0.     ,   0.     , ...,   0.     ,   0.     ,\n",
       "            0.     ],\n",
       "         [  0.     ,   0.     ,   0.     , ...,   0.     ,   0.     ,\n",
       "            0.     ],\n",
       "...\n",
       "         [271.40964, 271.40967, 271.4097 , ..., 271.40952, 271.40955,\n",
       "          271.4096 ],\n",
       "         [271.41492, 271.41495, 271.41498, ..., 271.41483, 271.41486,\n",
       "          271.4149 ],\n",
       "         [271.41818, 271.41818, 271.41818, ..., 271.41818, 271.41818,\n",
       "          271.41818]],\n",
       "\n",
       "        [[  0.     ,   0.     ,   0.     , ...,   0.     ,   0.     ,\n",
       "            0.     ],\n",
       "         [  0.     ,   0.     ,   0.     , ...,   0.     ,   0.     ,\n",
       "            0.     ],\n",
       "         [  0.     ,   0.     ,   0.     , ...,   0.     ,   0.     ,\n",
       "            0.     ],\n",
       "         ...,\n",
       "         [271.39856, 271.3986 , 271.39862, ..., 271.39847, 271.3985 ,\n",
       "          271.39856],\n",
       "         [271.4036 , 271.40363, 271.40366, ..., 271.4035 , 271.40353,\n",
       "          271.40356],\n",
       "         [271.40616, 271.40616, 271.40616, ..., 271.40616, 271.40616,\n",
       "          271.40616]]]], dtype=float32)\n",
       "Coordinates:\n",
       "  * lat        (lat) float64 -90.0 -89.06 -88.12 -87.17 ... 88.12 89.06 90.0\n",
       "  * lon        (lon) float64 0.0 1.25 2.5 3.75 5.0 ... 355.0 356.2 357.5 358.8\n",
       "  * time       (time) object 1850-02-01 00:00:00 ... 2015-01-01 00:00:00\n",
       "  * member_id  (member_id) object 'r10i1181p1f1' ... 'r11i1301p1f2'\n",
       "Attributes:\n",
       "    units:         K\n",
       "    long_name:     sea surface temperature\n",
       "    cell_methods:  time: mean"
      ]
     },
     "execution_count": 25,
     "metadata": {},
     "output_type": "execute_result"
    }
   ],
   "source": [
    "sst = SST_full.SST\n",
    "sst.load()\n",
    "\n",
    "### Decompose SST maps into mean, trend, annual, and semi-annual harmonics\n",
    "## Use least-squares regression and solve for model coefficients\n",
    "dyr = sst.time.dt.year + (sst.time.dt.month-0.5)/12\n",
    "\n",
    "# Our 6 coefficient model is composed of the mean, trend, annual sine and cosine harmonics, & semi-annual sine and cosine harmonics\n",
    "model = np.array([np.ones(len(dyr))] + [dyr-np.mean(dyr)] + [np.sin(2*np.pi*dyr)] + [np.cos(2*np.pi*dyr)] + [np.sin(4*np.pi*dyr)] + [np.cos(4*np.pi*dyr)])\n",
    "\n",
    "# Take the pseudo-inverse of model to 'solve' least-squares problem\n",
    "pmodel = np.linalg.pinv(model)\n",
    "\n",
    "# Convert model and pmodel to xaray DataArray\n",
    "model_da = xr.DataArray(model.T, dims=['time','coeff'], coords={'time':sst.time.values, 'coeff':np.arange(1,7,1)}) \n",
    "pmodel_da = xr.DataArray(pmodel.T, dims=['coeff','time'], coords={'coeff':np.arange(1,7,1), 'time':sst.time.values})"
   ]
  },
  {
   "cell_type": "code",
   "execution_count": 26,
   "id": "a1f022e2-692e-446c-9d16-ff9ec8cde584",
   "metadata": {},
   "outputs": [],
   "source": [
    "# resulting coefficients of the model\n",
    "sst_mod = xr.DataArray(pmodel_da.dot(sst), dims=['coeff','member_id','lat', 'lon'], coords={'coeff':np.arange(1,7,1), 'member_id':np.arange(0,10,1),'lat':sst.lat.values, 'lon':sst.lon.values})"
   ]
  },
  {
   "cell_type": "code",
   "execution_count": 59,
   "id": "ac32c89b-a482-4a4f-9dce-651f70e0c879",
   "metadata": {},
   "outputs": [
    {
     "name": "stdout",
     "output_type": "stream",
     "text": [
      "(10, 1980, 192, 288)\n"
     ]
    }
   ],
   "source": [
    "transposed = model_da.dot(sst_mod).transpose(\"member_id\", \"time\", \"lat\",\"lon\")\n",
    "print(transposed.shape)"
   ]
  },
  {
   "cell_type": "code",
   "execution_count": 60,
   "id": "4fdaec1e-8973-476e-9dc4-6f708f9d61d3",
   "metadata": {},
   "outputs": [
    {
     "name": "stdout",
     "output_type": "stream",
     "text": [
      "(10, 1980, 192, 288)\n"
     ]
    }
   ],
   "source": [
    "print(sst.shape)"
   ]
  },
  {
   "cell_type": "code",
   "execution_count": 61,
   "id": "2d0740e5-fb80-4b43-8309-d143fa667ce2",
   "metadata": {},
   "outputs": [],
   "source": [
    "ssta_notrend = sst[0,:,:,:]-transposed[0,:,:,:] #this is anomalies\n",
    "# ssta_notrend = sst-transposed #this is anomalies"
   ]
  },
  {
   "cell_type": "code",
   "execution_count": 62,
   "id": "8153f569-ddc5-4dda-b720-4557ef223c23",
   "metadata": {},
   "outputs": [
    {
     "data": {
      "text/plain": [
       "(1980, 192, 288)"
      ]
     },
     "execution_count": 62,
     "metadata": {},
     "output_type": "execute_result"
    }
   ],
   "source": [
    "ssta_notrend.shape"
   ]
  },
  {
   "cell_type": "code",
   "execution_count": 63,
   "id": "e65af765-d9a5-4ec7-8954-522943ba286d",
   "metadata": {},
   "outputs": [],
   "source": [
    "detrended = ssta_notrend"
   ]
  },
  {
   "cell_type": "code",
   "execution_count": 89,
   "id": "2c875005-bbf1-4fa7-9869-8f505bbcd9b1",
   "metadata": {},
   "outputs": [],
   "source": [
    "ssta_notrend.to_netcdf(\"ssta_notrend_re_itself_ens0.nc\")"
   ]
  },
  {
   "cell_type": "markdown",
   "id": "b4444ca9-1830-4c55-83b0-2e9db85ce3f4",
   "metadata": {},
   "source": [
    "#### Using ensemble mean"
   ]
  },
  {
   "cell_type": "code",
   "execution_count": 70,
   "id": "73e3d1ac-8e74-40c0-9d49-061c5d68aab7",
   "metadata": {},
   "outputs": [],
   "source": [
    "first_10_members = SSTA_full.isel(member_id = [0,1,2,3,4,5,6,7,8,9])"
   ]
  },
  {
   "cell_type": "code",
   "execution_count": 9,
   "id": "bbe35a40-f5c9-4b00-96f2-cf0b99741321",
   "metadata": {},
   "outputs": [
    {
     "data": {
      "text/plain": [
       "(10, 1980, 192, 288)"
      ]
     },
     "execution_count": 9,
     "metadata": {},
     "output_type": "execute_result"
    },
    {
     "data": {
      "text/plain": [
       "<matplotlib.collections.QuadMesh at 0x2b2e3c6e4100>"
      ]
     },
     "execution_count": 9,
     "metadata": {},
     "output_type": "execute_result"
    },
    {
     "data": {
      "image/png": "[encoded data removed]",
      "text/plain": [
       "<Figure size 432x288 with 2 Axes>"
      ]
     },
     "metadata": {
      "needs_background": "light"
     },
     "output_type": "display_data"
    }
   ],
   "source": [
    "first_10_members.SST.shape\n",
    "first_10_members.SST[0,1950,:,:].plot()"
   ]
  },
  {
   "cell_type": "code",
   "execution_count": 72,
   "id": "cafa5982-8477-4b4a-bbfd-efd5296f79a6",
   "metadata": {},
   "outputs": [
    {
     "data": {
      "text/html": [
       "<div><svg style=\"position: absolute; width: 0; height: 0; overflow: hidden\">\n",
       "<defs>\n",
       "<symbol id=\"icon-database\" viewBox=\"0 0 32 32\">\n",
       "<path d=\"M16 0c-8.837 0-16 2.239-16 5v4c0 2.761 7.163 5 16 5s16-2.239 16-5v-4c0-2.761-7.163-5-16-5z\"></path>\n",
       "<path d=\"M16 17c-8.837 0-16-2.239-16-5v6c0 2.761 7.163 5 16 5s16-2.239 16-5v-6c0 2.761-7.163 5-16 5z\"></path>\n",
       "<path d=\"M16 26c-8.837 0-16-2.239-16-5v6c0 2.761 7.163 5 16 5s16-2.239 16-5v-6c0 2.761-7.163 5-16 5z\"></path>\n",
       "</symbol>\n",
       "<symbol id=\"icon-file-text2\" viewBox=\"0 0 32 32\">\n",
       "<path d=\"M28.681 7.159c-0.694-0.947-1.662-2.053-2.724-3.116s-2.169-2.030-3.116-2.724c-1.612-1.182-2.393-1.319-2.841-1.319h-15.5c-1.378 0-2.5 1.121-2.5 2.5v27c0 1.378 1.122 2.5 2.5 2.5h23c1.378 0 2.5-1.122 2.5-2.5v-19.5c0-0.448-0.137-1.23-1.319-2.841zM24.543 5.457c0.959 0.959 1.712 1.825 2.268 2.543h-4.811v-4.811c0.718 0.556 1.584 1.309 2.543 2.268zM28 29.5c0 0.271-0.229 0.5-0.5 0.5h-23c-0.271 0-0.5-0.229-0.5-0.5v-27c0-0.271 0.229-0.5 0.5-0.5 0 0 15.499-0 15.5 0v7c0 0.552 0.448 1 1 1h7v19.5z\"></path>\n",
       "<path d=\"M23 26h-14c-0.552 0-1-0.448-1-1s0.448-1 1-1h14c0.552 0 1 0.448 1 1s-0.448 1-1 1z\"></path>\n",
       "<path d=\"M23 22h-14c-0.552 0-1-0.448-1-1s0.448-1 1-1h14c0.552 0 1 0.448 1 1s-0.448 1-1 1z\"></path>\n",
       "<path d=\"M23 18h-14c-0.552 0-1-0.448-1-1s0.448-1 1-1h14c0.552 0 1 0.448 1 1s-0.448 1-1 1z\"></path>\n",
       "</symbol>\n",
       "</defs>\n",
       "</svg>\n",
       "<style>/* CSS stylesheet for displaying xarray objects in jupyterlab.\n",
       " *\n",
       " */\n",
       "\n",
       ":root {\n",
       "  --xr-font-color0: var(--jp-content-font-color0, rgba(0, 0, 0, 1));\n",
       "  --xr-font-color2: var(--jp-content-font-color2, rgba(0, 0, 0, 0.54));\n",
       "  --xr-font-color3: var(--jp-content-font-color3, rgba(0, 0, 0, 0.38));\n",
       "  --xr-border-color: var(--jp-border-color2, #e0e0e0);\n",
       "  --xr-disabled-color: var(--jp-layout-color3, #bdbdbd);\n",
       "  --xr-background-color: var(--jp-layout-color0, white);\n",
       "  --xr-background-color-row-even: var(--jp-layout-color1, white);\n",
       "  --xr-background-color-row-odd: var(--jp-layout-color2, #eeeeee);\n",
       "}\n",
       "\n",
       "html[theme=dark],\n",
       "body.vscode-dark {\n",
       "  --xr-font-color0: rgba(255, 255, 255, 1);\n",
       "  --xr-font-color2: rgba(255, 255, 255, 0.54);\n",
       "  --xr-font-color3: rgba(255, 255, 255, 0.38);\n",
       "  --xr-border-color: #1F1F1F;\n",
       "  --xr-disabled-color: #515151;\n",
       "  --xr-background-color: #111111;\n",
       "  --xr-background-color-row-even: #111111;\n",
       "  --xr-background-color-row-odd: #313131;\n",
       "}\n",
       "\n",
       ".xr-wrap {\n",
       "  display: block;\n",
       "  min-width: 300px;\n",
       "  max-width: 700px;\n",
       "}\n",
       "\n",
       ".xr-text-repr-fallback {\n",
       "  /* fallback to plain text repr when CSS is not injected (untrusted notebook) */\n",
       "  display: none;\n",
       "}\n",
       "\n",
       ".xr-header {\n",
       "  padding-top: 6px;\n",
       "  padding-bottom: 6px;\n",
       "  margin-bottom: 4px;\n",
       "  border-bottom: solid 1px var(--xr-border-color);\n",
       "}\n",
       "\n",
       ".xr-header > div,\n",
       ".xr-header > ul {\n",
       "  display: inline;\n",
       "  margin-top: 0;\n",
       "  margin-bottom: 0;\n",
       "}\n",
       "\n",
       ".xr-obj-type,\n",
       ".xr-array-name {\n",
       "  margin-left: 2px;\n",
       "  margin-right: 10px;\n",
       "}\n",
       "\n",
       ".xr-obj-type {\n",
       "  color: var(--xr-font-color2);\n",
       "}\n",
       "\n",
       ".xr-sections {\n",
       "  padding-left: 0 !important;\n",
       "  display: grid;\n",
       "  grid-template-columns: 150px auto auto 1fr 20px 20px;\n",
       "}\n",
       "\n",
       ".xr-section-item {\n",
       "  display: contents;\n",
       "}\n",
       "\n",
       ".xr-section-item input {\n",
       "  display: none;\n",
       "}\n",
       "\n",
       ".xr-section-item input + label {\n",
       "  color: var(--xr-disabled-color);\n",
       "}\n",
       "\n",
       ".xr-section-item input:enabled + label {\n",
       "  cursor: pointer;\n",
       "  color: var(--xr-font-color2);\n",
       "}\n",
       "\n",
       ".xr-section-item input:enabled + label:hover {\n",
       "  color: var(--xr-font-color0);\n",
       "}\n",
       "\n",
       ".xr-section-summary {\n",
       "  grid-column: 1;\n",
       "  color: var(--xr-font-color2);\n",
       "  font-weight: 500;\n",
       "}\n",
       "\n",
       ".xr-section-summary > span {\n",
       "  display: inline-block;\n",
       "  padding-left: 0.5em;\n",
       "}\n",
       "\n",
       ".xr-section-summary-in:disabled + label {\n",
       "  color: var(--xr-font-color2);\n",
       "}\n",
       "\n",
       ".xr-section-summary-in + label:before {\n",
       "  display: inline-block;\n",
       "  content: '►';\n",
       "  font-size: 11px;\n",
       "  width: 15px;\n",
       "  text-align: center;\n",
       "}\n",
       "\n",
       ".xr-section-summary-in:disabled + label:before {\n",
       "  color: var(--xr-disabled-color);\n",
       "}\n",
       "\n",
       ".xr-section-summary-in:checked + label:before {\n",
       "  content: '▼';\n",
       "}\n",
       "\n",
       ".xr-section-summary-in:checked + label > span {\n",
       "  display: none;\n",
       "}\n",
       "\n",
       ".xr-section-summary,\n",
       ".xr-section-inline-details {\n",
       "  padding-top: 4px;\n",
       "  padding-bottom: 4px;\n",
       "}\n",
       "\n",
       ".xr-section-inline-details {\n",
       "  grid-column: 2 / -1;\n",
       "}\n",
       "\n",
       ".xr-section-details {\n",
       "  display: none;\n",
       "  grid-column: 1 / -1;\n",
       "  margin-bottom: 5px;\n",
       "}\n",
       "\n",
       ".xr-section-summary-in:checked ~ .xr-section-details {\n",
       "  display: contents;\n",
       "}\n",
       "\n",
       ".xr-array-wrap {\n",
       "  grid-column: 1 / -1;\n",
       "  display: grid;\n",
       "  grid-template-columns: 20px auto;\n",
       "}\n",
       "\n",
       ".xr-array-wrap > label {\n",
       "  grid-column: 1;\n",
       "  vertical-align: top;\n",
       "}\n",
       "\n",
       ".xr-preview {\n",
       "  color: var(--xr-font-color3);\n",
       "}\n",
       "\n",
       ".xr-array-preview,\n",
       ".xr-array-data {\n",
       "  padding: 0 5px !important;\n",
       "  grid-column: 2;\n",
       "}\n",
       "\n",
       ".xr-array-data,\n",
       ".xr-array-in:checked ~ .xr-array-preview {\n",
       "  display: none;\n",
       "}\n",
       "\n",
       ".xr-array-in:checked ~ .xr-array-data,\n",
       ".xr-array-preview {\n",
       "  display: inline-block;\n",
       "}\n",
       "\n",
       ".xr-dim-list {\n",
       "  display: inline-block !important;\n",
       "  list-style: none;\n",
       "  padding: 0 !important;\n",
       "  margin: 0;\n",
       "}\n",
       "\n",
       ".xr-dim-list li {\n",
       "  display: inline-block;\n",
       "  padding: 0;\n",
       "  margin: 0;\n",
       "}\n",
       "\n",
       ".xr-dim-list:before {\n",
       "  content: '(';\n",
       "}\n",
       "\n",
       ".xr-dim-list:after {\n",
       "  content: ')';\n",
       "}\n",
       "\n",
       ".xr-dim-list li:not(:last-child):after {\n",
       "  content: ',';\n",
       "  padding-right: 5px;\n",
       "}\n",
       "\n",
       ".xr-has-index {\n",
       "  font-weight: bold;\n",
       "}\n",
       "\n",
       ".xr-var-list,\n",
       ".xr-var-item {\n",
       "  display: contents;\n",
       "}\n",
       "\n",
       ".xr-var-item > div,\n",
       ".xr-var-item label,\n",
       ".xr-var-item > .xr-var-name span {\n",
       "  background-color: var(--xr-background-color-row-even);\n",
       "  margin-bottom: 0;\n",
       "}\n",
       "\n",
       ".xr-var-item > .xr-var-name:hover span {\n",
       "  padding-right: 5px;\n",
       "}\n",
       "\n",
       ".xr-var-list > li:nth-child(odd) > div,\n",
       ".xr-var-list > li:nth-child(odd) > label,\n",
       ".xr-var-list > li:nth-child(odd) > .xr-var-name span {\n",
       "  background-color: var(--xr-background-color-row-odd);\n",
       "}\n",
       "\n",
       ".xr-var-name {\n",
       "  grid-column: 1;\n",
       "}\n",
       "\n",
       ".xr-var-dims {\n",
       "  grid-column: 2;\n",
       "}\n",
       "\n",
       ".xr-var-dtype {\n",
       "  grid-column: 3;\n",
       "  text-align: right;\n",
       "  color: var(--xr-font-color2);\n",
       "}\n",
       "\n",
       ".xr-var-preview {\n",
       "  grid-column: 4;\n",
       "}\n",
       "\n",
       ".xr-var-name,\n",
       ".xr-var-dims,\n",
       ".xr-var-dtype,\n",
       ".xr-preview,\n",
       ".xr-attrs dt {\n",
       "  white-space: nowrap;\n",
       "  overflow: hidden;\n",
       "  text-overflow: ellipsis;\n",
       "  padding-right: 10px;\n",
       "}\n",
       "\n",
       ".xr-var-name:hover,\n",
       ".xr-var-dims:hover,\n",
       ".xr-var-dtype:hover,\n",
       ".xr-attrs dt:hover {\n",
       "  overflow: visible;\n",
       "  width: auto;\n",
       "  z-index: 1;\n",
       "}\n",
       "\n",
       ".xr-var-attrs,\n",
       ".xr-var-data {\n",
       "  display: none;\n",
       "  background-color: var(--xr-background-color) !important;\n",
       "  padding-bottom: 5px !important;\n",
       "}\n",
       "\n",
       ".xr-var-attrs-in:checked ~ .xr-var-attrs,\n",
       ".xr-var-data-in:checked ~ .xr-var-data {\n",
       "  display: block;\n",
       "}\n",
       "\n",
       ".xr-var-data > table {\n",
       "  float: right;\n",
       "}\n",
       "\n",
       ".xr-var-name span,\n",
       ".xr-var-data,\n",
       ".xr-attrs {\n",
       "  padding-left: 25px !important;\n",
       "}\n",
       "\n",
       ".xr-attrs,\n",
       ".xr-var-attrs,\n",
       ".xr-var-data {\n",
       "  grid-column: 1 / -1;\n",
       "}\n",
       "\n",
       "dl.xr-attrs {\n",
       "  padding: 0;\n",
       "  margin: 0;\n",
       "  display: grid;\n",
       "  grid-template-columns: 125px auto;\n",
       "}\n",
       "\n",
       ".xr-attrs dt,\n",
       ".xr-attrs dd {\n",
       "  padding: 0;\n",
       "  margin: 0;\n",
       "  float: left;\n",
       "  padding-right: 10px;\n",
       "  width: auto;\n",
       "}\n",
       "\n",
       ".xr-attrs dt {\n",
       "  font-weight: normal;\n",
       "  grid-column: 1;\n",
       "}\n",
       "\n",
       ".xr-attrs dt:hover span {\n",
       "  display: inline-block;\n",
       "  background: var(--xr-background-color);\n",
       "  padding-right: 10px;\n",
       "}\n",
       "\n",
       ".xr-attrs dd {\n",
       "  grid-column: 2;\n",
       "  white-space: pre-wrap;\n",
       "  word-break: break-all;\n",
       "}\n",
       "\n",
       ".xr-icon-database,\n",
       ".xr-icon-file-text2 {\n",
       "  display: inline-block;\n",
       "  vertical-align: middle;\n",
       "  width: 1em;\n",
       "  height: 1.5em !important;\n",
       "  stroke-width: 0;\n",
       "  stroke: currentColor;\n",
       "  fill: currentColor;\n",
       "}\n",
       "</style><pre class='xr-text-repr-fallback'>&lt;xarray.Dataset&gt;\n",
       "Dimensions:    (lat: 192, lon: 288, time: 1980, member_id: 10)\n",
       "Coordinates:\n",
       "  * lat        (lat) float64 -90.0 -89.06 -88.12 -87.17 ... 88.12 89.06 90.0\n",
       "  * lon        (lon) float64 0.0 1.25 2.5 3.75 5.0 ... 355.0 356.2 357.5 358.8\n",
       "  * time       (time) object 1850-02-01 00:00:00 ... 2015-01-01 00:00:00\n",
       "  * member_id  (member_id) object &#x27;r10i1181p1f1&#x27; ... &#x27;r11i1301p1f2&#x27;\n",
       "Data variables:\n",
       "    SST        (member_id, time, lat, lon) float32 0.0 0.0 0.0 ... 271.4 271.4</pre><div class='xr-wrap' hidden><div class='xr-header'><div class='xr-obj-type'>xarray.Dataset</div></div><ul class='xr-sections'><li class='xr-section-item'><input id='section-14e69b10-4b28-452e-93b6-c2cc940c4ab3' class='xr-section-summary-in' type='checkbox' disabled ><label for='section-14e69b10-4b28-452e-93b6-c2cc940c4ab3' class='xr-section-summary'  title='Expand/collapse section'>Dimensions:</label><div class='xr-section-inline-details'><ul class='xr-dim-list'><li><span class='xr-has-index'>lat</span>: 192</li><li><span class='xr-has-index'>lon</span>: 288</li><li><span class='xr-has-index'>time</span>: 1980</li><li><span class='xr-has-index'>member_id</span>: 10</li></ul></div><div class='xr-section-details'></div></li><li class='xr-section-item'><input id='section-fc676774-f34c-4692-bfa8-3609718d9a2a' class='xr-section-summary-in' type='checkbox'  checked><label for='section-fc676774-f34c-4692-bfa8-3609718d9a2a' class='xr-section-summary' >Coordinates: <span>(4)</span></label><div class='xr-section-inline-details'></div><div class='xr-section-details'><ul class='xr-var-list'><li class='xr-var-item'><div class='xr-var-name'><span class='xr-has-index'>lat</span></div><div class='xr-var-dims'>(lat)</div><div class='xr-var-dtype'>float64</div><div class='xr-var-preview xr-preview'>-90.0 -89.06 -88.12 ... 89.06 90.0</div><input id='attrs-22a8614e-dd2a-4b97-b9d1-f2e958c8b68f' class='xr-var-attrs-in' type='checkbox' ><label for='attrs-22a8614e-dd2a-4b97-b9d1-f2e958c8b68f' title='Show/Hide attributes'><svg class='icon xr-icon-file-text2'><use xlink:href='#icon-file-text2'></use></svg></label><input id='data-f167362f-9640-4570-bd1d-ef1de2b2c249' class='xr-var-data-in' type='checkbox'><label for='data-f167362f-9640-4570-bd1d-ef1de2b2c249' title='Show/Hide data repr'><svg class='icon xr-icon-database'><use xlink:href='#icon-database'></use></svg></label><div class='xr-var-attrs'><dl class='xr-attrs'><dt><span>long_name :</span></dt><dd>latitude</dd><dt><span>units :</span></dt><dd>degrees_north</dd></dl></div><div class='xr-var-data'><pre>array([-90.      , -89.057592, -88.115183, -87.172775, -86.230366, -85.287958,\n",
       "       -84.34555 , -83.403141, -82.460733, -81.518325, -80.575916, -79.633508,\n",
       "       -78.691099, -77.748691, -76.806283, -75.863874, -74.921466, -73.979058,\n",
       "       -73.036649, -72.094241, -71.151832, -70.209424, -69.267016, -68.324607,\n",
       "       -67.382199, -66.439791, -65.497382, -64.554974, -63.612565, -62.670157,\n",
       "       -61.727749, -60.78534 , -59.842932, -58.900524, -57.958115, -57.015707,\n",
       "       -56.073298, -55.13089 , -54.188482, -53.246073, -52.303665, -51.361257,\n",
       "       -50.418848, -49.47644 , -48.534031, -47.591623, -46.649215, -45.706806,\n",
       "       -44.764398, -43.82199 , -42.879581, -41.937173, -40.994764, -40.052356,\n",
       "       -39.109948, -38.167539, -37.225131, -36.282723, -35.340314, -34.397906,\n",
       "       -33.455497, -32.513089, -31.570681, -30.628272, -29.685864, -28.743455,\n",
       "       -27.801047, -26.858639, -25.91623 , -24.973822, -24.031414, -23.089005,\n",
       "       -22.146597, -21.204188, -20.26178 , -19.319372, -18.376963, -17.434555,\n",
       "       -16.492147, -15.549738, -14.60733 , -13.664921, -12.722513, -11.780105,\n",
       "       -10.837696,  -9.895288,  -8.95288 ,  -8.010471,  -7.068063,  -6.125654,\n",
       "        -5.183246,  -4.240838,  -3.298429,  -2.356021,  -1.413613,  -0.471204,\n",
       "         0.471204,   1.413613,   2.356021,   3.298429,   4.240838,   5.183246,\n",
       "         6.125654,   7.068063,   8.010471,   8.95288 ,   9.895288,  10.837696,\n",
       "        11.780105,  12.722513,  13.664921,  14.60733 ,  15.549738,  16.492147,\n",
       "        17.434555,  18.376963,  19.319372,  20.26178 ,  21.204188,  22.146597,\n",
       "        23.089005,  24.031414,  24.973822,  25.91623 ,  26.858639,  27.801047,\n",
       "        28.743455,  29.685864,  30.628272,  31.570681,  32.513089,  33.455497,\n",
       "        34.397906,  35.340314,  36.282723,  37.225131,  38.167539,  39.109948,\n",
       "        40.052356,  40.994764,  41.937173,  42.879581,  43.82199 ,  44.764398,\n",
       "        45.706806,  46.649215,  47.591623,  48.534031,  49.47644 ,  50.418848,\n",
       "        51.361257,  52.303665,  53.246073,  54.188482,  55.13089 ,  56.073298,\n",
       "        57.015707,  57.958115,  58.900524,  59.842932,  60.78534 ,  61.727749,\n",
       "        62.670157,  63.612565,  64.554974,  65.497382,  66.439791,  67.382199,\n",
       "        68.324607,  69.267016,  70.209424,  71.151832,  72.094241,  73.036649,\n",
       "        73.979058,  74.921466,  75.863874,  76.806283,  77.748691,  78.691099,\n",
       "        79.633508,  80.575916,  81.518325,  82.460733,  83.403141,  84.34555 ,\n",
       "        85.287958,  86.230366,  87.172775,  88.115183,  89.057592,  90.      ])</pre></div></li><li class='xr-var-item'><div class='xr-var-name'><span class='xr-has-index'>lon</span></div><div class='xr-var-dims'>(lon)</div><div class='xr-var-dtype'>float64</div><div class='xr-var-preview xr-preview'>0.0 1.25 2.5 ... 356.2 357.5 358.8</div><input id='attrs-e5e0cb1e-4bcd-4708-96c0-571dd7a634e9' class='xr-var-attrs-in' type='checkbox' ><label for='attrs-e5e0cb1e-4bcd-4708-96c0-571dd7a634e9' title='Show/Hide attributes'><svg class='icon xr-icon-file-text2'><use xlink:href='#icon-file-text2'></use></svg></label><input id='data-ce518921-8199-48c1-9a29-2b89b61a57e6' class='xr-var-data-in' type='checkbox'><label for='data-ce518921-8199-48c1-9a29-2b89b61a57e6' title='Show/Hide data repr'><svg class='icon xr-icon-database'><use xlink:href='#icon-database'></use></svg></label><div class='xr-var-attrs'><dl class='xr-attrs'><dt><span>long_name :</span></dt><dd>longitude</dd><dt><span>units :</span></dt><dd>degrees_east</dd></dl></div><div class='xr-var-data'><pre>array([  0.  ,   1.25,   2.5 , ..., 356.25, 357.5 , 358.75])</pre></div></li><li class='xr-var-item'><div class='xr-var-name'><span class='xr-has-index'>time</span></div><div class='xr-var-dims'>(time)</div><div class='xr-var-dtype'>object</div><div class='xr-var-preview xr-preview'>1850-02-01 00:00:00 ... 2015-01-...</div><input id='attrs-4a282e15-df9a-4c49-bd15-26fb89ea4c63' class='xr-var-attrs-in' type='checkbox' ><label for='attrs-4a282e15-df9a-4c49-bd15-26fb89ea4c63' title='Show/Hide attributes'><svg class='icon xr-icon-file-text2'><use xlink:href='#icon-file-text2'></use></svg></label><input id='data-2b949711-976c-4441-8a77-6dc40af550a9' class='xr-var-data-in' type='checkbox'><label for='data-2b949711-976c-4441-8a77-6dc40af550a9' title='Show/Hide data repr'><svg class='icon xr-icon-database'><use xlink:href='#icon-database'></use></svg></label><div class='xr-var-attrs'><dl class='xr-attrs'><dt><span>long_name :</span></dt><dd>time</dd><dt><span>bounds :</span></dt><dd>time_bnds</dd></dl></div><div class='xr-var-data'><pre>array([cftime.DatetimeNoLeap(1850, 2, 1, 0, 0, 0, 0, has_year_zero=True),\n",
       "       cftime.DatetimeNoLeap(1850, 3, 1, 0, 0, 0, 0, has_year_zero=True),\n",
       "       cftime.DatetimeNoLeap(1850, 4, 1, 0, 0, 0, 0, has_year_zero=True), ...,\n",
       "       cftime.DatetimeNoLeap(2014, 11, 1, 0, 0, 0, 0, has_year_zero=True),\n",
       "       cftime.DatetimeNoLeap(2014, 12, 1, 0, 0, 0, 0, has_year_zero=True),\n",
       "       cftime.DatetimeNoLeap(2015, 1, 1, 0, 0, 0, 0, has_year_zero=True)],\n",
       "      dtype=object)</pre></div></li><li class='xr-var-item'><div class='xr-var-name'><span class='xr-has-index'>member_id</span></div><div class='xr-var-dims'>(member_id)</div><div class='xr-var-dtype'>object</div><div class='xr-var-preview xr-preview'>&#x27;r10i1181p1f1&#x27; ... &#x27;r11i1301p1f2&#x27;</div><input id='attrs-024ab3a9-c0a0-4aa3-bf71-fb787b2ae143' class='xr-var-attrs-in' type='checkbox' disabled><label for='attrs-024ab3a9-c0a0-4aa3-bf71-fb787b2ae143' title='Show/Hide attributes'><svg class='icon xr-icon-file-text2'><use xlink:href='#icon-file-text2'></use></svg></label><input id='data-7121e657-c8c9-4672-bea5-8c2cd34e5313' class='xr-var-data-in' type='checkbox'><label for='data-7121e657-c8c9-4672-bea5-8c2cd34e5313' title='Show/Hide data repr'><svg class='icon xr-icon-database'><use xlink:href='#icon-database'></use></svg></label><div class='xr-var-attrs'><dl class='xr-attrs'></dl></div><div class='xr-var-data'><pre>array([&#x27;r10i1181p1f1&#x27;, &#x27;r10i1191p1f2&#x27;, &#x27;r10i1231p1f1&#x27;, &#x27;r10i1251p1f1&#x27;,\n",
       "       &#x27;r10i1281p1f1&#x27;, &#x27;r10i1301p1f1&#x27;, &#x27;r11i1231p1f2&#x27;, &#x27;r11i1251p1f2&#x27;,\n",
       "       &#x27;r11i1281p1f2&#x27;, &#x27;r11i1301p1f2&#x27;], dtype=object)</pre></div></li></ul></div></li><li class='xr-section-item'><input id='section-91406c79-4806-41f8-8cd5-04fb38708da8' class='xr-section-summary-in' type='checkbox'  checked><label for='section-91406c79-4806-41f8-8cd5-04fb38708da8' class='xr-section-summary' >Data variables: <span>(1)</span></label><div class='xr-section-inline-details'></div><div class='xr-section-details'><ul class='xr-var-list'><li class='xr-var-item'><div class='xr-var-name'><span>SST</span></div><div class='xr-var-dims'>(member_id, time, lat, lon)</div><div class='xr-var-dtype'>float32</div><div class='xr-var-preview xr-preview'>0.0 0.0 0.0 ... 271.4 271.4 271.4</div><input id='attrs-e22c0aca-0f5c-4686-b12e-83aad0edb53f' class='xr-var-attrs-in' type='checkbox' ><label for='attrs-e22c0aca-0f5c-4686-b12e-83aad0edb53f' title='Show/Hide attributes'><svg class='icon xr-icon-file-text2'><use xlink:href='#icon-file-text2'></use></svg></label><input id='data-17619d34-9eb9-4ac8-976f-8f1099db0316' class='xr-var-data-in' type='checkbox'><label for='data-17619d34-9eb9-4ac8-976f-8f1099db0316' title='Show/Hide data repr'><svg class='icon xr-icon-database'><use xlink:href='#icon-database'></use></svg></label><div class='xr-var-attrs'><dl class='xr-attrs'><dt><span>units :</span></dt><dd>K</dd><dt><span>long_name :</span></dt><dd>sea surface temperature</dd><dt><span>cell_methods :</span></dt><dd>time: mean</dd></dl></div><div class='xr-var-data'><pre>array([[[[  0.     ,   0.     ,   0.     , ...,   0.     ,   0.     ,\n",
       "            0.     ],\n",
       "         [  0.     ,   0.     ,   0.     , ...,   0.     ,   0.     ,\n",
       "            0.     ],\n",
       "         [  0.     ,   0.     ,   0.     , ...,   0.     ,   0.     ,\n",
       "            0.     ],\n",
       "         ...,\n",
       "         [271.34473, 271.34473, 271.34476, ..., 271.3447 , 271.3447 ,\n",
       "          271.34473],\n",
       "         [271.34967, 271.34967, 271.3497 , ..., 271.3496 , 271.3496 ,\n",
       "          271.34964],\n",
       "         [271.35263, 271.35263, 271.35263, ..., 271.35263, 271.35263,\n",
       "          271.35263]],\n",
       "\n",
       "        [[  0.     ,   0.     ,   0.     , ...,   0.     ,   0.     ,\n",
       "            0.     ],\n",
       "         [  0.     ,   0.     ,   0.     , ...,   0.     ,   0.     ,\n",
       "            0.     ],\n",
       "         [  0.     ,   0.     ,   0.     , ...,   0.     ,   0.     ,\n",
       "            0.     ],\n",
       "...\n",
       "         [271.40964, 271.40967, 271.4097 , ..., 271.40952, 271.40955,\n",
       "          271.4096 ],\n",
       "         [271.41492, 271.41495, 271.41498, ..., 271.41483, 271.41486,\n",
       "          271.4149 ],\n",
       "         [271.41818, 271.41818, 271.41818, ..., 271.41818, 271.41818,\n",
       "          271.41818]],\n",
       "\n",
       "        [[  0.     ,   0.     ,   0.     , ...,   0.     ,   0.     ,\n",
       "            0.     ],\n",
       "         [  0.     ,   0.     ,   0.     , ...,   0.     ,   0.     ,\n",
       "            0.     ],\n",
       "         [  0.     ,   0.     ,   0.     , ...,   0.     ,   0.     ,\n",
       "            0.     ],\n",
       "         ...,\n",
       "         [271.39856, 271.3986 , 271.39862, ..., 271.39847, 271.3985 ,\n",
       "          271.39856],\n",
       "         [271.4036 , 271.40363, 271.40366, ..., 271.4035 , 271.40353,\n",
       "          271.40356],\n",
       "         [271.40616, 271.40616, 271.40616, ..., 271.40616, 271.40616,\n",
       "          271.40616]]]], dtype=float32)</pre></div></li></ul></div></li><li class='xr-section-item'><input id='section-155eb2b9-fe9b-446e-8cb1-3d1bd12435cb' class='xr-section-summary-in' type='checkbox' disabled ><label for='section-155eb2b9-fe9b-446e-8cb1-3d1bd12435cb' class='xr-section-summary'  title='Expand/collapse section'>Attributes: <span>(0)</span></label><div class='xr-section-inline-details'></div><div class='xr-section-details'><dl class='xr-attrs'></dl></div></li></ul></div></div>"
      ],
      "text/plain": [
       "<xarray.Dataset>\n",
       "Dimensions:    (lat: 192, lon: 288, time: 1980, member_id: 10)\n",
       "Coordinates:\n",
       "  * lat        (lat) float64 -90.0 -89.06 -88.12 -87.17 ... 88.12 89.06 90.0\n",
       "  * lon        (lon) float64 0.0 1.25 2.5 3.75 5.0 ... 355.0 356.2 357.5 358.8\n",
       "  * time       (time) object 1850-02-01 00:00:00 ... 2015-01-01 00:00:00\n",
       "  * member_id  (member_id) object 'r10i1181p1f1' ... 'r11i1301p1f2'\n",
       "Data variables:\n",
       "    SST        (member_id, time, lat, lon) float32 0.0 0.0 0.0 ... 271.4 271.4"
      ]
     },
     "execution_count": 72,
     "metadata": {},
     "output_type": "execute_result"
    }
   ],
   "source": [
    "first_10_members_SST = SST_full.isel(member_id = [0,1,2,3,4,5,6,7,8,9])\n",
    "first_10_members_SST"
   ]
  },
  {
   "cell_type": "code",
   "execution_count": 11,
   "id": "18aaa652-5677-40a1-9fc9-9d941a75d741",
   "metadata": {},
   "outputs": [
    {
     "data": {
      "text/plain": [
       "(10, 1980, 192, 288)"
      ]
     },
     "execution_count": 11,
     "metadata": {},
     "output_type": "execute_result"
    },
    {
     "data": {
      "text/plain": [
       "<matplotlib.collections.QuadMesh at 0x2b2e4484b940>"
      ]
     },
     "execution_count": 11,
     "metadata": {},
     "output_type": "execute_result"
    },
    {
     "data": {
      "image/png": "[encoded data removed]",
      "text/plain": [
       "<Figure size 432x288 with 2 Axes>"
      ]
     },
     "metadata": {
      "needs_background": "light"
     },
     "output_type": "display_data"
    }
   ],
   "source": [
    "first_10_members_SST.SST.shape\n",
    "first_10_members_SST.SST[0,1950,:,:].plot()"
   ]
  },
  {
   "cell_type": "code",
   "execution_count": 12,
   "id": "6e82f8d7-697c-4659-af51-0c3a68ca5933",
   "metadata": {},
   "outputs": [],
   "source": [
    "## Trying to crop (we can crop later)\n",
    "# %%time\n",
    "# SSTA_full_new = SSTA_full.where((SSTA_full.lat >= 39.109948) & (SSTA_full.lat <= 50.418848) \n",
    "#                         &(SSTA_full.lon >= 200.0) & (SSTA_full.lon <= 236.),drop=True)\n",
    "\n",
    "# SST_full_new = SST_full.where((SST_full.lat >= 39.109948) & (SST_full.lat <= 50.418848) \n",
    "#                         &(SST_full.lon >= 200.0) & (SST_full.lon <= 236.),drop=True)"
   ]
  },
  {
   "cell_type": "code",
   "execution_count": null,
   "id": "40388c2e-821f-4308-b98b-7b0d65938f71",
   "metadata": {},
   "outputs": [],
   "source": [
    "detrended = first_10_members.SST"
   ]
  },
  {
   "cell_type": "markdown",
   "id": "3d9d4a43-6c33-4201-af9e-55642b094699",
   "metadata": {},
   "source": [
    "##### After choosing which way to detrend:"
   ]
  },
  {
   "cell_type": "code",
   "execution_count": 64,
   "id": "f6500c52-d82c-485f-a928-3856dda3979c",
   "metadata": {},
   "outputs": [],
   "source": [
    "if detrended.chunks:\n",
    "    detrended = detrended.chunk({'time': -1})"
   ]
  },
  {
   "cell_type": "code",
   "execution_count": 65,
   "id": "ecaadc81-6fd3-4fa6-91a6-21d4a3a95d48",
   "metadata": {},
   "outputs": [
    {
     "name": "stdout",
     "output_type": "stream",
     "text": [
      "CPU times: user 43.8 s, sys: 1.36 s, total: 45.1 s\n",
      "Wall time: 47 s\n"
     ]
    }
   ],
   "source": [
    "%%time\n",
    "threshold = detrended.groupby('time.month').quantile(0.9,dim=('time')) \n",
    "features_ssta = detrended.where(detrended.groupby('time.month')>=threshold, other=np.nan)"
   ]
  },
  {
   "cell_type": "code",
   "execution_count": 66,
   "id": "83605648-a20d-4c04-b664-422639969358",
   "metadata": {},
   "outputs": [
    {
     "name": "stdout",
     "output_type": "stream",
     "text": [
      "CPU times: user 931 µs, sys: 0 ns, total: 931 µs\n",
      "Wall time: 940 µs\n"
     ]
    }
   ],
   "source": [
    "%%time\n",
    "features_ssta= features_ssta[:,:,:].load()"
   ]
  },
  {
   "cell_type": "code",
   "execution_count": 67,
   "id": "74c35d5e-e847-4e65-a968-75c8196fc061",
   "metadata": {},
   "outputs": [
    {
     "name": "stdout",
     "output_type": "stream",
     "text": [
      "CPU times: user 384 ms, sys: 399 ms, total: 783 ms\n",
      "Wall time: 799 ms\n"
     ]
    }
   ],
   "source": [
    "%%time\n",
    "full_mask_land = features_ssta\n",
    "full_masked = full_mask_land.where(full_mask_land != 0)\n",
    "binary_out_afterlandmask=np.isfinite(full_masked)"
   ]
  },
  {
   "cell_type": "code",
   "execution_count": 68,
   "id": "d1cc4528-3882-4912-9209-d47c7c0253e4",
   "metadata": {},
   "outputs": [
    {
     "name": "stdout",
     "output_type": "stream",
     "text": [
      "CPU times: user 272 ms, sys: 427 ms, total: 699 ms\n",
      "Wall time: 736 ms\n"
     ]
    }
   ],
   "source": [
    "%%time\n",
    "full_mask_land = features_ssta\n",
    "full_masked = full_mask_land.where(full_mask_land != 0)"
   ]
  },
  {
   "cell_type": "code",
   "execution_count": 81,
   "id": "42889c0d-2432-48c4-8d14-c531d23ede34",
   "metadata": {},
   "outputs": [
    {
     "name": "stdout",
     "output_type": "stream",
     "text": [
      "CPU times: user 64.1 ms, sys: 39.9 ms, total: 104 ms\n",
      "Wall time: 107 ms\n"
     ]
    }
   ],
   "source": [
    "%%time\n",
    "# mask = np.isfinite(first_10_members_SST.SST) #with ensemble mean\n",
    "mask = np.isfinite(first_10_members_SST.isel(member_id = 0).SST) "
   ]
  },
  {
   "cell_type": "code",
   "execution_count": 84,
   "id": "1ebddca2-bee1-4bc7-849c-8e40faa380b8",
   "metadata": {},
   "outputs": [
    {
     "data": {
      "text/plain": [
       "<matplotlib.collections.QuadMesh at 0x2b8187009a00>"
      ]
     },
     "execution_count": 84,
     "metadata": {},
     "output_type": "execute_result"
    },
    {
     "data": {
      "image/png": "[encoded data removed]",
      "text/plain": [
       "<Figure size 432x288 with 2 Axes>"
      ]
     },
     "metadata": {
      "needs_background": "light"
     },
     "output_type": "display_data"
    }
   ],
   "source": [
    "# binary_out_afterlandmask[6,1960,:,:].plot() #with ensemble mean\n",
    "binary_out_afterlandmask[1960,:,:].plot()"
   ]
  },
  {
   "cell_type": "code",
   "execution_count": 85,
   "id": "ff13c855-8077-479c-a0e9-ea144201603d",
   "metadata": {},
   "outputs": [
    {
     "data": {
      "text/plain": [
       "<matplotlib.collections.QuadMesh at 0x2b818711e3d0>"
      ]
     },
     "execution_count": 85,
     "metadata": {},
     "output_type": "execute_result"
    },
    {
     "data": {
      "image/png": "[encoded data removed]",
      "text/plain": [
       "<Figure size 432x288 with 2 Axes>"
      ]
     },
     "metadata": {
      "needs_background": "light"
     },
     "output_type": "display_data"
    }
   ],
   "source": [
    "# mask[0,1960,:,:].plot()\n",
    "mask[1960,:,:].plot()"
   ]
  },
  {
   "cell_type": "code",
   "execution_count": 21,
   "id": "57a1b4dc-3cc1-4737-99a4-1857bf0a4f4b",
   "metadata": {},
   "outputs": [
    {
     "data": {
      "text/plain": [
       "<matplotlib.collections.QuadMesh at 0x2b2eca5b6250>"
      ]
     },
     "execution_count": 21,
     "metadata": {},
     "output_type": "execute_result"
    },
    {
     "name": "stdout",
     "output_type": "stream",
     "text": [
      "(192, 288)\n",
      "197.66042\n"
     ]
    },
    {
     "data": {
      "image/png": "[encoded data removed]",
      "text/plain": [
       "<Figure size 432x288 with 2 Axes>"
      ]
     },
     "metadata": {
      "needs_background": "light"
     },
     "output_type": "display_data"
    }
   ],
   "source": [
    "first_10_members_SST.SST[0,1960,:,:].plot()\n",
    "print(first_10_members_SST.SST[0,1960,:,:].shape)\n",
    "print(np.nanmean(first_10_members_SST.SST[0,1960,:,:]))"
   ]
  },
  {
   "cell_type": "code",
   "execution_count": 43,
   "id": "31158b44-c9b9-41e4-a665-5b424f6b9271",
   "metadata": {},
   "outputs": [
    {
     "name": "stdout",
     "output_type": "stream",
     "text": [
      "minimum area: 40.0\n",
      "inital objects identified \t 17762\n",
      "final objects tracked \t 4443\n",
      "CPU times: user 4min 34s, sys: 2min 54s, total: 7min 29s\n",
      "Wall time: 7min 39s\n"
     ]
    }
   ],
   "source": [
    "%%time\n",
    "Tracker = ocetrac.Tracker(binary_out_afterlandmask[9,:,:,:], mask[9,:,:,:], radius=4, min_size_quartile=0., timedim = 'time', xdim = 'lon', ydim='lat', positive=True)\n",
    "blobs = Tracker.track()"
   ]
  },
  {
   "cell_type": "code",
   "execution_count": 86,
   "id": "b5a8899f-3795-420d-8d7f-5e6043608642",
   "metadata": {},
   "outputs": [
    {
     "name": "stdout",
     "output_type": "stream",
     "text": [
      "minimum area: 40.0\n",
      "inital objects identified \t 7401\n",
      "final objects tracked \t 1574\n",
      "CPU times: user 2min 45s, sys: 1min 40s, total: 4min 25s\n",
      "Wall time: 4min 34s\n"
     ]
    }
   ],
   "source": [
    "%%time\n",
    "Tracker = ocetrac.Tracker(binary_out_afterlandmask[:,:,:], mask[:,:,:], radius=4, min_size_quartile=0., timedim = 'time', xdim = 'lon', ydim='lat', positive=True)\n",
    "blobs = Tracker.track()"
   ]
  },
  {
   "cell_type": "code",
   "execution_count": 87,
   "id": "eab196ab-8851-4dbd-8a58-297e4c5d78e2",
   "metadata": {},
   "outputs": [
    {
     "data": {
      "text/plain": [
       "{'inital objects identified': 7401,\n",
       " 'final objects tracked': 1574,\n",
       " 'radius': 4,\n",
       " 'size quantile threshold': 0.0,\n",
       " 'min area': 40.0,\n",
       " 'percent area reject': 4.986747717939576e-05,\n",
       " 'percent area accept': 0.9999501325228206}"
      ]
     },
     "execution_count": 87,
     "metadata": {},
     "output_type": "execute_result"
    }
   ],
   "source": [
    "blobs.attrs"
   ]
  },
  {
   "cell_type": "code",
   "execution_count": 88,
   "id": "6bc9eada-12cc-4b3d-b20a-832de26b3417",
   "metadata": {},
   "outputs": [],
   "source": [
    "blobs.to_netcdf(\"blobs_ens_0_rad4_relitself.nc\")"
   ]
  },
  {
   "cell_type": "code",
   "execution_count": 55,
   "id": "a0bb7cae-05dc-43dc-8380-92a4ba0b5e4b",
   "metadata": {},
   "outputs": [
    {
     "data": {
      "text/plain": [
       "<Figure size 1152x216 with 0 Axes>"
      ]
     },
     "execution_count": 55,
     "metadata": {},
     "output_type": "execute_result"
    },
    {
     "data": {
      "text/plain": [
       "<matplotlib.collections.QuadMesh at 0x2ba481675940>"
      ]
     },
     "execution_count": 55,
     "metadata": {},
     "output_type": "execute_result"
    },
    {
     "data": {
      "text/plain": [
       "<matplotlib.collections.QuadMesh at 0x2ba481701c70>"
      ]
     },
     "execution_count": 55,
     "metadata": {},
     "output_type": "execute_result"
    },
    {
     "data": {
      "image/png": "[encoded data removed]",
      "text/plain": [
       "<Figure size 1152x216 with 4 Axes>"
      ]
     },
     "metadata": {
      "needs_background": "light"
     },
     "output_type": "display_data"
    }
   ],
   "source": [
    "from matplotlib.colors import ListedColormap\n",
    "maxl = int(np.nanmax(blobs.values))\n",
    "cm = ListedColormap(np.random.random(size=(maxl, 3)).tolist())\n",
    "\n",
    "timed = 1760\n",
    "plt.figure(figsize=(16,3))\n",
    "ax1 = plt.subplot(121)\n",
    "blobs.isel(time=timed).plot(cmap= cm)\n",
    "# features_ssta.isel(time=timed).where(features_ssta.isel(time=timed)==0.0).plot.contourf(colors='k', add_colorbar=False)\n",
    "\n",
    "ax2 = plt.subplot(122); \n",
    "full_masked[0,timed,:,:].plot(levels=[0.0,0.25,0.50,0.75,1.0,1.25,1.50,1.75,2.0,2.25,2.5],cmap='Reds')\n",
    "# features_ssta.isel(time=timed).where(features_ssta.isel(time=timed)==0.0).plot.contourf(colors='k', add_colorbar=False)\n",
    "plt.show()"
   ]
  },
  {
   "cell_type": "markdown",
   "id": "cfd0e171-983b-44ef-b392-8b9b43854020",
   "metadata": {},
   "source": [
    "## Code from before "
   ]
  },
  {
   "cell_type": "code",
   "execution_count": 35,
   "id": "00feb386-7162-47ad-9a25-508a1df617cd",
   "metadata": {},
   "outputs": [],
   "source": [
    "detrended = SSTA_full.SST.isel(member_id=0)"
   ]
  },
  {
   "cell_type": "code",
   "execution_count": 36,
   "id": "f0ad99fb-abfc-4441-95c6-b5290a04e434",
   "metadata": {},
   "outputs": [],
   "source": [
    "if detrended.chunks:\n",
    "    detrended = detrended.chunk({'time': -1})"
   ]
  },
  {
   "cell_type": "code",
   "execution_count": 37,
   "id": "05a210a3-ce67-4f4f-8f31-52c83bc30720",
   "metadata": {},
   "outputs": [],
   "source": [
    "threshold = detrended.groupby('time.month').quantile(0.9,dim=('time')) \n",
    "features_ssta = detrended.where(detrended.groupby('time.month')>=threshold, other=np.nan)"
   ]
  },
  {
   "cell_type": "code",
   "execution_count": null,
   "id": "a9863360-f374-48aa-b4e2-0e33a491780a",
   "metadata": {},
   "outputs": [],
   "source": [
    "%%time\n",
    "features_ssta= features_ssta[:,:,:].load()"
   ]
  },
  {
   "cell_type": "code",
   "execution_count": null,
   "id": "d2ab3bb9-845e-4cf2-82df-177839d882e9",
   "metadata": {},
   "outputs": [],
   "source": [
    "timed = 300\n",
    "full_mask_land = features_ssta\n",
    "full_masked = full_mask_land.where(full_mask_land != 0)\n",
    "binary_out_afterlandmask=np.isfinite(full_masked)\n",
    "\n",
    "binary_out_afterlandmask[timed,:,:].plot()"
   ]
  },
  {
   "cell_type": "code",
   "execution_count": null,
   "id": "46b81ffb-b02d-478c-ad8a-181191f7c53f",
   "metadata": {},
   "outputs": [],
   "source": [
    "full_mask_land = features_ssta\n",
    "full_masked = full_mask_land.where(full_mask_land != 0)"
   ]
  },
  {
   "cell_type": "code",
   "execution_count": null,
   "id": "ae3d801f-3706-4a25-86ff-f753d8e819bf",
   "metadata": {},
   "outputs": [],
   "source": [
    "full_masked[300,:,:].plot()"
   ]
  },
  {
   "cell_type": "code",
   "execution_count": null,
   "id": "e93b2a33-2b1b-41b8-acce-6777de316022",
   "metadata": {},
   "outputs": [],
   "source": [
    "SST_full.SST.isel(time=0, member_id=0)"
   ]
  },
  {
   "cell_type": "code",
   "execution_count": null,
   "id": "39f79f44-8761-468c-b142-53d3527595bb",
   "metadata": {},
   "outputs": [],
   "source": [
    "mask = np.isfinite(SST_full.SST.isel(time=0, member_id=0)) \n",
    "mask.plot()"
   ]
  },
  {
   "cell_type": "code",
   "execution_count": null,
   "id": "62cf2e78-0a01-4a13-9662-b8c5f2307c74",
   "metadata": {},
   "outputs": [],
   "source": [
    "mask"
   ]
  },
  {
   "cell_type": "code",
   "execution_count": null,
   "id": "1e92e50c-6b53-4502-a024-431c0f49a526",
   "metadata": {},
   "outputs": [],
   "source": [
    "newmask_1 = SST_full.SST.isel(member_id=0)\n",
    "newmask = newmask_1.where(newmask_1 != 0)"
   ]
  },
  {
   "cell_type": "code",
   "execution_count": null,
   "id": "601c7c4c-250c-4c3a-9119-f528665a162c",
   "metadata": {},
   "outputs": [],
   "source": [
    "newmask[timed,:,:].plot()"
   ]
  },
  {
   "cell_type": "code",
   "execution_count": null,
   "id": "972d71ed-a1d1-45ad-b9b2-6fef8c4ed82e",
   "metadata": {},
   "outputs": [],
   "source": [
    "binary_out_afterlandmask.shape\n",
    "mask.shape"
   ]
  },
  {
   "cell_type": "code",
   "execution_count": null,
   "id": "31eef29b-de3c-4f0a-9432-53d7dca2fbec",
   "metadata": {},
   "outputs": [],
   "source": [
    "# %%time\n",
    "Tracker = ocetrac.Tracker(binary_out_afterlandmask[:,:,:], mask, radius=6, min_size_quartile=0., timedim = 'time', xdim = 'lon', ydim='lat', positive=True)\n",
    "blobs = Tracker.track()"
   ]
  },
  {
   "cell_type": "code",
   "execution_count": null,
   "id": "5185614d-a7a8-4efc-91e6-99e796d72dc3",
   "metadata": {},
   "outputs": [],
   "source": [
    "blobs.attrs"
   ]
  }
 ],
 "metadata": {
  "kernelspec": {
   "display_name": "test-env",
   "language": "python",
   "name": "test-env"
  },
  "language_info": {
   "codemirror_mode": {
    "name": "ipython",
    "version": 3
   },
   "file_extension": ".py",
   "mimetype": "text/x-python",
   "name": "python",
   "nbconvert_exporter": "python",
   "pygments_lexer": "ipython3",
   "version": "3.9.7"
  }
 },
 "nbformat": 4,
 "nbformat_minor": 5
}
