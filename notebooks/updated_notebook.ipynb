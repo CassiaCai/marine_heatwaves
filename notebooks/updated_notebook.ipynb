{
 "cells": [
  {
   "cell_type": "markdown",
   "id": "a867e50e-1709-4c59-a8e7-ee6f34e064cc",
   "metadata": {},
   "source": [
    "## Developing an open-source pipeline to characterize the spatio-temporal evolution of marine heatwaves using the output of multiple object tracking\n",
    "\n",
    "### Analysis Workflow\n",
    "\n",
    "#### Introduction\n",
    "\n",
    "In this Jupyter notebook, we summarize marine heatwave features. Our planned workflow is the following: (1) load dataset, (2) apply Ocetrac on dataset (we can change the radius and quartile for each simulation so that we generate several different sets of MHWs, which we will later try to define which set is useful), (3) from Ocetrac, we get a set of marine heatwave events and we define and summarize features, and (4) calculate feature distances, and (5) clustering with (5a) visual analysis and (5b) numerical analysis (stability). \n",
    "\n",
    "#### Note that in this notebook, we work with a smaller dataset\n",
    "\n",
    "- Have applied Ocetrac to all ensemble members\n",
    "- Collected marine heatwave events with an imprint in the northeast Pacific Ocean that last longer than 2 months and covers at least 25% of our pre-defined region.\n",
    "- We now work with a dataset of 1131 heatwaves.\n",
    "\n",
    "However, the script to load the entire dataset is also included in this notebook. This code is commented out. "
   ]
  },
  {
   "cell_type": "code",
   "execution_count": 1,
   "id": "3bf693af-15e8-4c6c-8407-cf72adf8a92d",
   "metadata": {},
   "outputs": [],
   "source": [
    "##### LOADING IN PACKAGES #--------------------------------------------------------------\n",
    "import s3fs; import xarray as xr; import numpy as np\n",
    "import pandas as pd; \n",
    "import dask.array as da\n",
    "import ocetrac\n",
    "\n",
    "import matplotlib.pyplot as plt; import cartopy.crs as ccrs\n",
    "\n",
    "import warnings; import expectexception\n",
    "warnings.filterwarnings('ignore')\n",
    "\n",
    "import netCDF4 as nc; import datetime as dt\n",
    "import scipy\n",
    "\n",
    "import intake; import pprint\n",
    "# Allow multiple lines per cell to be displayed without print (default is just last line)\n",
    "from IPython.core.interactiveshell import InteractiveShell\n",
    "InteractiveShell.ast_node_interactivity = \"all\"\n",
    "# Enable more explicit control of DataFrame display (e.g., to omit annoying line numbers)\n",
    "from IPython.display import HTML"
   ]
  },
  {
   "cell_type": "markdown",
   "id": "25b054d0-2738-4917-bad5-bb63fa74508e",
   "metadata": {},
   "source": [
    "### (1) Load and save the dataset"
   ]
  },
  {
   "cell_type": "code",
   "execution_count": 5,
   "id": "c38b1129-576a-46ce-9b5f-fef89164d4cb",
   "metadata": {},
   "outputs": [],
   "source": [
    "## Open original collection description file #----------------------------------------------\n",
    "# cat_url_orig = '/glade/collections/cmip/catalog/intake-esm-datastore/catalogs/glade-cesm2-le.json'\n",
    "# coll_orig = intake.open_esm_datastore(cat_url_orig)"
   ]
  },
  {
   "cell_type": "code",
   "execution_count": 6,
   "id": "3d8e3578-f057-4bcb-8668-7b766855de75",
   "metadata": {},
   "outputs": [],
   "source": [
    "# subset = coll_orig.search(component='atm',variable='SST',frequency='month_1',experiment='historical')\n",
    "# member_id_list = subset.df.member_id.unique()\n",
    "# print(member_id_list)"
   ]
  },
  {
   "cell_type": "code",
   "execution_count": 7,
   "id": "328d0b54-f381-4665-a158-899fb610302f",
   "metadata": {},
   "outputs": [],
   "source": [
    "## for i in range(50,len(member_id_list)):\n",
    "# for i in range(0,50):\n",
    "# for i in range(5): # trying to see if this works\n",
    "#     subset = coll_orig.search(component='atm',variable='SST',frequency='month_1',experiment='historical',member_id= str(member_id_list[i]))\n",
    "#     dsets = subset.to_dataset_dict(zarr_kwargs={\"consolidated\": True}, storage_options={\"anon\": True})\n",
    "#     ds = dsets['atm.historical.cam.h0.cmip6.SST'] # before 50\n",
    "#     # ds = dsets['atm.historical.cam.h0.smbb.SST'] # after 50 # Ask Liz\n",
    "#     SST = ds.SST.isel(member_id=0)\n",
    "#     SST.load()\n",
    "    \n",
    "#     ###### DETRENDING \n",
    "#     dyr = SST.time.dt.year + (SST.time.dt.month-0.5)/12\n",
    "#     # Our 6 coefficient model is composed of the mean, trend, annual sine and cosine harmonics, & semi-annual sine and cosine harmonics\n",
    "#     model = np.array([np.ones(len(dyr))] + [dyr-np.mean(dyr)] + [np.sin(2*np.pi*dyr)] + [np.cos(2*np.pi*dyr)] + [np.sin(4*np.pi*dyr)] + [np.cos(4*np.pi*dyr)])\n",
    "#     # Take the pseudo-inverse of model to 'solve' least-squares problem\n",
    "#     pmodel = np.linalg.pinv(model)\n",
    "#     model_da = xr.DataArray(model.T, dims=['time','coeff'], coords={'time':SST.time.values[-481:], 'coeff':np.arange(1,7,1)}) \n",
    "#     pmodel_da = xr.DataArray(pmodel.T, dims=['coeff','time'], coords={'coeff':np.arange(1,7,1), 'time':SST.time.values[-481:]})\n",
    "#     # resulting coefficients of the model\n",
    "#     sst_mod = xr.DataArray(pmodel_da.dot(SST), dims=['coeff','lat','lon'], coords={'coeff':np.arange(1,7,1), 'lat':SST.lat.values, 'lon':SST.lon.values})\n",
    "#     # Construct mean, trend, and seasonal cycle\n",
    "#     mean = model_da[:,0].dot(sst_mod[0,:,:])\n",
    "#     trend = model_da[:,1].dot(sst_mod[1,:,:])\n",
    "#     seas = model_da[:,2:].dot(sst_mod[2:,:,:])\n",
    "#     # compute anomalies by removing all  the model coefficients \n",
    "#     ssta_notrend = SST-model_da.dot(sst_mod) #this is anomalies\n",
    "#     detrended = ssta_notrend\n",
    "#     detrended.to_netcdf('/glade/work/cassiacai/'+str(member_id_list[i])+'_detrended.nc')\n",
    "    \n",
    "#     ###### THRESHOLD and FEATURES\n",
    "#     if detrended.chunks:\n",
    "#         detrended = detrended.chunk({'time': -1})\n",
    "#     threshold = detrended.groupby('time.month').quantile(0.9,dim=('time')) \n",
    "#     # can change 0.9 to another value depending on threshold\n",
    "#     features_ssta = detrended.where(detrended.groupby('time.month')>=threshold, other=np.nan)\n",
    "#     features_ssta = features_ssta[:,:,:].load()\n",
    "#     ##### MASKING\n",
    "#     full_mask_land = features_ssta\n",
    "#     full_masked = full_mask_land.where(full_mask_land != 0)\n",
    "#     binary_out_afterlandmask=np.isfinite(full_masked)\n",
    "    \n",
    "#     newmask = np.isfinite(ds.SST[0,:,:,:][:])\n",
    "    \n",
    "#     Tracker = ocetrac.Tracker(binary_out_afterlandmask[:,:,:], newmask, radius=3, min_size_quartile=0.75, timedim = 'time', xdim = 'lon', ydim='lat', positive=True)\n",
    "#     # we define the minimum radius above as well as the minimum size quartile\n",
    "#     blobs = Tracker.track()\n",
    "#     blobs.attrs\n",
    "#     mo = Tracker._morphological_operations()\n",
    "#     blobs.to_netcdf('/glade/work/cassiacai/'+str(member_id_list[i])+'_rad3_blobs.nc')"
   ]
  },
  {
   "cell_type": "code",
   "execution_count": 8,
   "id": "6064e973-899b-481c-b6b7-2f4bdce80dcf",
   "metadata": {},
   "outputs": [],
   "source": [
    "# Open original collection description file #----------------------------------------------\n",
    "# cat_url_orig = '/glade/collections/cmip/catalog/intake-esm-datastore/catalogs/glade-cesm2-le.json'\n",
    "# coll_orig = intake.open_esm_datastore(cat_url_orig)\n",
    "\n",
    "# subset = coll_orig.search(component='atm',variable='SST',frequency='month_1',experiment='historical')\n",
    "# filenamechange = list(subset.df.member_id.unique())\n",
    "\n",
    "# list_of_xarrays = []\n",
    "# list_of_xarrays_SSTA = []\n",
    "\n",
    "# for i in filenamechange:\n",
    "    \n",
    "#     string_head = '/glade/work/cassiacai/' + str(i) + '_rad3_blobs.nc'    \n",
    "#     xarray_file = xr.open_dataset(str(string_head))\n",
    "#     list_of_xarrays.append(xarray_file)\n",
    "    \n",
    "#     string_head_SSTA = '/glade/work/cassiacai/' + str(i) + '_detrended.nc'\n",
    "#     xarray_file_SSTA = xr.open_dataset(str(string_head_SSTA))\n",
    "#     list_of_xarrays_SSTA.append(xarray_file_SSTA)\n",
    "\n",
    "# concated_xarray = xr.concat(list_of_xarrays, \"new_dim\")\n",
    "# concated_xarray_SSTA = xr.concat(list_of_xarrays_SSTA, \"new_dim\")\n",
    "\n",
    "# combined_xarray = xr.combine_by_coords([concated_xarray, concated_xarray_SSTA])\n",
    "# combined_xarray['SSTA'] = combined_xarray['__xarray_dataarray_variable__']\n",
    "# combined_xarray = combined_xarray.drop(['__xarray_dataarray_variable__'])\n",
    "\n",
    "# for i in range(100):\n",
    "#     member_ = combined_xarray.isel(new_dim = i)\n",
    "#     member_.to_netcdf('/glade/work/cassiacai/member'+str(i)+'_events.nc')"
   ]
  },
  {
   "cell_type": "markdown",
   "id": "65fb2eff-b8e7-440c-a167-350f56a411c7",
   "metadata": {},
   "source": [
    "##### From here, we begin using a smaller dataset.\n",
    "We look at marine heatwave events from the last 40 years of CESM-LE simulations after running Ocetrac on the 100 CESM-LE simulations, setting a radius size 3. We currently will also work with only one ensemble member."
   ]
  },
  {
   "cell_type": "code",
   "execution_count": 27,
   "id": "812b11c2-8383-4a7d-b691-6c3abc9a30fa",
   "metadata": {},
   "outputs": [
    {
     "name": "stdout",
     "output_type": "stream",
     "text": [
      "CPU times: user 2min 3s, sys: 1min 42s, total: 3min 46s\n",
      "Wall time: 3min 53s\n"
     ]
    }
   ],
   "source": [
    "%%time\n",
    "\n",
    "kept_heatwaves_all = []\n",
    "for ens_memb in range(0,1):\n",
    "    filename = '/glade/work/cassiacai/member{}_events.nc'.format(ens_memb)\n",
    "    member_ = xr.open_dataset(filename)\n",
    "    ending_val = len(np.unique(member_.labels))\n",
    "    \n",
    "    # kept_heatwaves = []\n",
    "    for i in range(1,ending_val):\n",
    "        mhw_id = i\n",
    "        mhw_event_rel = member_.where(member_.labels==mhw_id, drop=False)\n",
    "        x = mhw_event_rel.SSTA[:,:,:]\n",
    "        no_nans_x = np.nan_to_num(x)\n",
    "        no_nans_x[no_nans_x != 0] = 1\n",
    "        \n",
    "        sum_of_one = no_nans_x.sum(axis=(0))\n",
    "        event_len = np.nanmax(sum_of_one)\n",
    "        \n",
    "        if np.nanmax(sum_of_one) > 2: \n",
    "            array_of_interest = np.copy(sum_of_one[:,:])\n",
    "            array_of_interest[array_of_interest != 0] = 1\n",
    "            if np.nansum(array_of_interest) / (42*53*0.01) >= 0: \n",
    "                mhw_event_sel = member_.where(member_.labels==i, drop=False)\n",
    "                # kept_heatwaves.append(mhw_event_sel)\n",
    "                kept_heatwaves_all.append(mhw_event_sel)"
   ]
  },
  {
   "cell_type": "code",
   "execution_count": null,
   "id": "5b6adfa7-84e0-4a06-b1f1-5b5aa3e39874",
   "metadata": {},
   "outputs": [],
   "source": [
    "concated_kept_heatwaves_xarray = xr.concat(kept_heatwaves_all, \"heatwave_label\")"
   ]
  },
  {
   "cell_type": "code",
   "execution_count": null,
   "id": "a354b13b-80a3-4af7-b172-d5d0a7b575ec",
   "metadata": {},
   "outputs": [],
   "source": [
    "concated_kept_heatwaves_xarray"
   ]
  }
 ],
 "metadata": {
  "kernelspec": {
   "display_name": "test-env",
   "language": "python",
   "name": "test-env"
  },
  "language_info": {
   "codemirror_mode": {
    "name": "ipython",
    "version": 3
   },
   "file_extension": ".py",
   "mimetype": "text/x-python",
   "name": "python",
   "nbconvert_exporter": "python",
   "pygments_lexer": "ipython3",
   "version": "3.9.7"
  }
 },
 "nbformat": 4,
 "nbformat_minor": 5
}
