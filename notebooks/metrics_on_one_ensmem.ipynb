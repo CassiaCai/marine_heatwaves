{
 "cells": [
  {
   "cell_type": "code",
   "execution_count": 3,
   "id": "4a20cc22-f10d-41bf-9a70-40495e6acd6d",
   "metadata": {},
   "outputs": [],
   "source": [
    "# Load packages\n",
    "import s3fs; import xarray as xr; import numpy as np\n",
    "import pandas as pd; import dask.array as da; import ocetrac\n",
    "import matplotlib.pyplot as plt; import cartopy.crs as ccrs\n",
    "import warnings; import expectexception\n",
    "warnings.filterwarnings('ignore')\n",
    "import netCDF4 as nc; import datetime as dt; import scipy\n",
    "import intake; import pprint\n",
    "# Allow multiple lines per cell to be displayed without print (default is just last line)\n",
    "from IPython.core.interactiveshell import InteractiveShell\n",
    "InteractiveShell.ast_node_interactivity = \"all\"\n",
    "# Enable more explicit control of DataFrame display (e.g., to omit annoying line numbers)\n",
    "from IPython.display import HTML"
   ]
  },
  {
   "cell_type": "code",
   "execution_count": 4,
   "id": "a0e2d33b-ad13-4639-b53f-6869b5d81878",
   "metadata": {},
   "outputs": [],
   "source": [
    "# load my functions\n",
    "from functions import *"
   ]
  },
  {
   "cell_type": "code",
   "execution_count": 3,
   "id": "626b381d-c39f-4336-958b-8e2cab7dfada",
   "metadata": {},
   "outputs": [],
   "source": [
    "# for magic functions\n",
    "%load_ext memory_profiler\n",
    "%load_ext line_profiler"
   ]
  },
  {
   "cell_type": "code",
   "execution_count": null,
   "id": "91f000e0-ce7c-409d-81d7-45b0c189e01f",
   "metadata": {},
   "outputs": [],
   "source": [
    "# in order to run use apply_ocetrac_to_CESM2LE, we need this cell first\n",
    "cat_url_orig = '/glade/collections/cmip/catalog/intake-esm-datastore/catalogs/glade-cesm2-le.json'\n",
    "coll_orig = intake.open_esm_datastore(cat_url_orig)\n",
    "subset = coll_orig.search(component='atm',variable='SST',frequency='month_1',experiment='historical')\n",
    "member_id_list = subset.df.member_id.unique()"
   ]
  },
  {
   "cell_type": "code",
   "execution_count": 5,
   "id": "a110dbe9-1fe8-4065-82c7-260315e7b274",
   "metadata": {},
   "outputs": [],
   "source": [
    "ensemble_member_val = 0\n",
    "radius_val = 3"
   ]
  },
  {
   "cell_type": "code",
   "execution_count": null,
   "id": "a62836a8-2e4a-40d3-87a1-93968f2697f5",
   "metadata": {
    "tags": []
   },
   "outputs": [],
   "source": [
    "%%time\n",
    "detrended,blobs = apply_ocetrac_to_CESM2LE(ensemble_member_val, 0.9, radius_val, 0.75, start_val=0, end_val=1980) # ~ 6.5 minutes per ensemble member\n",
    "SSTA_and_events = create_events_file(detrended, blobs)\n",
    "SSTA_and_events.to_netcdf('SSTA_and_events_{}_{}.nc'.format(ensemble_member_val, radius_val))"
   ]
  },
  {
   "cell_type": "code",
   "execution_count": null,
   "id": "677fa8fe-da1a-4752-af01-6c4cd1744f8d",
   "metadata": {},
   "outputs": [],
   "source": [
    "SSTA_and_events"
   ]
  },
  {
   "cell_type": "code",
   "execution_count": 6,
   "id": "1a68edbc-117e-4541-89ae-d5de09d88415",
   "metadata": {},
   "outputs": [
    {
     "name": "stdout",
     "output_type": "stream",
     "text": [
      "CPU times: user 43.3 ms, sys: 146 µs, total: 43.5 ms\n",
      "Wall time: 45.4 ms\n"
     ]
    }
   ],
   "source": [
    "%%time\n",
    "# load in nino indices\n",
    "nino34_first50 = xr.open_dataset('/glade/u/home/cassiacai/marine_heatwaves/data/nino34_first50.nc')\n",
    "nino34_last50 = xr.open_dataset('/glade/u/home/cassiacai/marine_heatwaves/data/nino34_last50.nc')\n",
    "\n",
    "nino4_first50 = xr.open_dataset('/glade/u/home/cassiacai/marine_heatwaves/data/nino4_first50.nc')\n",
    "nino4_last50 = xr.open_dataset('/glade/u/home/cassiacai/marine_heatwaves/data/nino4_last50.nc')\n",
    "\n",
    "# rename nino file variables\n",
    "nino34_first50['nino34_ind'] = nino34_first50['SST']\n",
    "nino34_first50 = nino34_first50.drop(['SST'])\n",
    "\n",
    "nino4_first50['nino4_ind'] = nino4_first50['SST']\n",
    "nino4_first50 = nino4_first50.drop(['SST'])\n",
    "\n",
    "# nino indices for our specific ensemble member\n",
    "nino34_ens0 = nino34_first50.nino34_ind[ensemble_member_val,:]\n",
    "nino4_ens0 = nino4_first50.nino4_ind[ensemble_member_val,:]"
   ]
  },
  {
   "cell_type": "code",
   "execution_count": 7,
   "id": "06c21816-a3a0-4974-90e2-162016802f6a",
   "metadata": {},
   "outputs": [
    {
     "name": "stdout",
     "output_type": "stream",
     "text": [
      "CPU times: user 1.4 ms, sys: 0 ns, total: 1.4 ms\n",
      "Wall time: 6.65 ms\n"
     ]
    }
   ],
   "source": [
    "%%time\n",
    "# load our land mask file\n",
    "land_mask = np.load('/glade/u/home/cassiacai/marine_heatwaves/data/SST_land.npy')\n",
    "land_mask[land_mask > 0] = np.nan\n",
    "land_mask[land_mask == 0.] = 1"
   ]
  },
  {
   "cell_type": "code",
   "execution_count": 8,
   "id": "1c8d0273-c5b2-4851-addd-be23912b5232",
   "metadata": {},
   "outputs": [
    {
     "name": "stdout",
     "output_type": "stream",
     "text": [
      "There are 1203 mhws in this ensemble member!\n"
     ]
    }
   ],
   "source": [
    "SSTA_and_events =  xr.open_dataset('SSTA_and_events_0_3.nc')\n",
    "total_no_mhws = number_of_mhws(SSTA_and_events)\n",
    "print('There are', total_no_mhws, 'mhws in this ensemble member!')"
   ]
  },
  {
   "cell_type": "code",
   "execution_count": 9,
   "id": "83de201d-3a97-4ef5-9423-97bcdfe6c439",
   "metadata": {},
   "outputs": [],
   "source": [
    "# on one marine heatwave\n",
    "mhw_id = 35\n",
    "event_file = SSTA_and_events"
   ]
  },
  {
   "cell_type": "code",
   "execution_count": 16,
   "id": "1c7cba7a-8cb9-42a6-8270-4aa0576faac1",
   "metadata": {},
   "outputs": [],
   "source": [
    "duration = calc_duration(event_file, mhw_id)\n",
    "cumulative_intensity, cumulative_intensity_monthly = calc_cumulativeintensity(event_file, mhw_id)\n",
    "mean_intensity, mean_intensity_monthly = calc_meanintensity(event_file, mhw_id)\n",
    "max_intensity, max_intensity_monthly = calc_maximumintensity(event_file, mhw_id)\n",
    "std_intensity, std_intensity_monthly = calc_stdintensity(event_file, mhw_id)\n",
    "coords_full, spatial_extents, max_spatial_extent, max_spatial_extent_time, mean_spatial_extent, cumulative_spatial_extent = calc_spatialextent(event_file, mhw_id)\n",
    "perimeters = calc_perimeter(event_file, mhw_id)\n",
    "percperivarea = calc_percperimetervsarea(spatial_extents, perimeters)\n",
    "perc_sharedarea_ls = calc_compltodeform(coords_full, spatial_extents)\n",
    "deform = calc_deform(perc_sharedarea_ls)\n",
    "perc_imoverchull = perc_imoverchull(event_file, mhw_id)"
   ]
  },
  {
   "cell_type": "code",
   "execution_count": null,
   "id": "f4c2807d-1204-42cf-96b5-3a40958efe9d",
   "metadata": {
    "tags": []
   },
   "outputs": [],
   "source": [
    "%%time\n",
    "\n",
    "cintensmonth_dict= {}\n",
    "cintens_dict = {}\n",
    "for mhw_id in range(1,total_no_mhws): #total_no_mhws\n",
    "    print(mhw_id)\n",
    "    cumulative_intensity, cumulative_intensity_monthly = calc_cumulativeintensity(event_file, mhw_id)\n",
    "    cintensmonth_dict[str(mhw_id)] = cumulative_intensity_monthly.tolist()\n",
    "    cintens_dict[str(mhw_id)] = cumulative_intensity\n",
    "\n",
    "# np.savez('cintensmonth',**cintensmonth_dict)\n",
    "# np.savez('cintens',**cintens_dict)\n",
    "\n",
    "# newfile = np.load('cintens.npz')\n",
    "# for key in newfile.keys():\n",
    "#     print(key)\n",
    "    \n",
    "# import json\n",
    "# with open(\"your_json_file\", \"w\") as fp:\n",
    "#     json.dump(cintensmonth_dict,fp) \n",
    "\n",
    "cumulative_intensity_ls = []\n",
    "cumulative_intensity_monthly_ls = []\n",
    "\n",
    "for mhw_id in range(1,10): #total_no_mhws\n",
    "    cumulative_intensity, cumulative_intensity_monthly = calc_cumulativeintensity(event_file, mhw_id)\n",
    "    cumulative_intensity_ls.append(cumulative_intensity)\n",
    "    cumulative_intensity_monthly_ls.append(cumulative_intensity_monthly_ls)"
   ]
  },
  {
   "cell_type": "code",
   "execution_count": 320,
   "id": "db2c3ee7-be3b-4fa5-9af8-2624599461fa",
   "metadata": {
    "tags": []
   },
   "outputs": [
    {
     "data": {
      "text/plain": [
       "array([11., 12., 13.])"
      ]
     },
     "execution_count": 320,
     "metadata": {},
     "output_type": "execute_result"
    }
   ],
   "source": [
    "np.unique(append_east)\n",
    "\n",
    "# append_east = append_east.where(append_east != 11.)\n",
    "\n",
    "# append_east.plot.imshow(figsize=(10,5)); \n",
    "\n",
    "# centroid = _get_centroids(append_east)\n",
    "# lon = [i[1] for i in centroid]; print(lon)\n",
    "# lat = [i[0] for i in centroid]; print(lat)\n",
    "\n",
    "# plt.pcolor(append_east,cmap='Greys')\n",
    "# plt.scatter(lon, lat)\n",
    "# plt.colorbar()"
   ]
  },
  {
   "cell_type": "code",
   "execution_count": 323,
   "id": "5996a513-03f2-4b63-ae4d-b23e43689d4b",
   "metadata": {
    "collapsed": true,
    "jupyter": {
     "outputs_hidden": true
    },
    "tags": []
   },
   "outputs": [
    {
     "data": {
      "text/html": [
       "<div><svg style=\"position: absolute; width: 0; height: 0; overflow: hidden\">\n",
       "<defs>\n",
       "<symbol id=\"icon-database\" viewBox=\"0 0 32 32\">\n",
       "<path d=\"M16 0c-8.837 0-16 2.239-16 5v4c0 2.761 7.163 5 16 5s16-2.239 16-5v-4c0-2.761-7.163-5-16-5z\"></path>\n",
       "<path d=\"M16 17c-8.837 0-16-2.239-16-5v6c0 2.761 7.163 5 16 5s16-2.239 16-5v-6c0 2.761-7.163 5-16 5z\"></path>\n",
       "<path d=\"M16 26c-8.837 0-16-2.239-16-5v6c0 2.761 7.163 5 16 5s16-2.239 16-5v-6c0 2.761-7.163 5-16 5z\"></path>\n",
       "</symbol>\n",
       "<symbol id=\"icon-file-text2\" viewBox=\"0 0 32 32\">\n",
       "<path d=\"M28.681 7.159c-0.694-0.947-1.662-2.053-2.724-3.116s-2.169-2.030-3.116-2.724c-1.612-1.182-2.393-1.319-2.841-1.319h-15.5c-1.378 0-2.5 1.121-2.5 2.5v27c0 1.378 1.122 2.5 2.5 2.5h23c1.378 0 2.5-1.122 2.5-2.5v-19.5c0-0.448-0.137-1.23-1.319-2.841zM24.543 5.457c0.959 0.959 1.712 1.825 2.268 2.543h-4.811v-4.811c0.718 0.556 1.584 1.309 2.543 2.268zM28 29.5c0 0.271-0.229 0.5-0.5 0.5h-23c-0.271 0-0.5-0.229-0.5-0.5v-27c0-0.271 0.229-0.5 0.5-0.5 0 0 15.499-0 15.5 0v7c0 0.552 0.448 1 1 1h7v19.5z\"></path>\n",
       "<path d=\"M23 26h-14c-0.552 0-1-0.448-1-1s0.448-1 1-1h14c0.552 0 1 0.448 1 1s-0.448 1-1 1z\"></path>\n",
       "<path d=\"M23 22h-14c-0.552 0-1-0.448-1-1s0.448-1 1-1h14c0.552 0 1 0.448 1 1s-0.448 1-1 1z\"></path>\n",
       "<path d=\"M23 18h-14c-0.552 0-1-0.448-1-1s0.448-1 1-1h14c0.552 0 1 0.448 1 1s-0.448 1-1 1z\"></path>\n",
       "</symbol>\n",
       "</defs>\n",
       "</svg>\n",
       "<style>/* CSS stylesheet for displaying xarray objects in jupyterlab.\n",
       " *\n",
       " */\n",
       "\n",
       ":root {\n",
       "  --xr-font-color0: var(--jp-content-font-color0, rgba(0, 0, 0, 1));\n",
       "  --xr-font-color2: var(--jp-content-font-color2, rgba(0, 0, 0, 0.54));\n",
       "  --xr-font-color3: var(--jp-content-font-color3, rgba(0, 0, 0, 0.38));\n",
       "  --xr-border-color: var(--jp-border-color2, #e0e0e0);\n",
       "  --xr-disabled-color: var(--jp-layout-color3, #bdbdbd);\n",
       "  --xr-background-color: var(--jp-layout-color0, white);\n",
       "  --xr-background-color-row-even: var(--jp-layout-color1, white);\n",
       "  --xr-background-color-row-odd: var(--jp-layout-color2, #eeeeee);\n",
       "}\n",
       "\n",
       "html[theme=dark],\n",
       "body.vscode-dark {\n",
       "  --xr-font-color0: rgba(255, 255, 255, 1);\n",
       "  --xr-font-color2: rgba(255, 255, 255, 0.54);\n",
       "  --xr-font-color3: rgba(255, 255, 255, 0.38);\n",
       "  --xr-border-color: #1F1F1F;\n",
       "  --xr-disabled-color: #515151;\n",
       "  --xr-background-color: #111111;\n",
       "  --xr-background-color-row-even: #111111;\n",
       "  --xr-background-color-row-odd: #313131;\n",
       "}\n",
       "\n",
       ".xr-wrap {\n",
       "  display: block;\n",
       "  min-width: 300px;\n",
       "  max-width: 700px;\n",
       "}\n",
       "\n",
       ".xr-text-repr-fallback {\n",
       "  /* fallback to plain text repr when CSS is not injected (untrusted notebook) */\n",
       "  display: none;\n",
       "}\n",
       "\n",
       ".xr-header {\n",
       "  padding-top: 6px;\n",
       "  padding-bottom: 6px;\n",
       "  margin-bottom: 4px;\n",
       "  border-bottom: solid 1px var(--xr-border-color);\n",
       "}\n",
       "\n",
       ".xr-header > div,\n",
       ".xr-header > ul {\n",
       "  display: inline;\n",
       "  margin-top: 0;\n",
       "  margin-bottom: 0;\n",
       "}\n",
       "\n",
       ".xr-obj-type,\n",
       ".xr-array-name {\n",
       "  margin-left: 2px;\n",
       "  margin-right: 10px;\n",
       "}\n",
       "\n",
       ".xr-obj-type {\n",
       "  color: var(--xr-font-color2);\n",
       "}\n",
       "\n",
       ".xr-sections {\n",
       "  padding-left: 0 !important;\n",
       "  display: grid;\n",
       "  grid-template-columns: 150px auto auto 1fr 20px 20px;\n",
       "}\n",
       "\n",
       ".xr-section-item {\n",
       "  display: contents;\n",
       "}\n",
       "\n",
       ".xr-section-item input {\n",
       "  display: none;\n",
       "}\n",
       "\n",
       ".xr-section-item input + label {\n",
       "  color: var(--xr-disabled-color);\n",
       "}\n",
       "\n",
       ".xr-section-item input:enabled + label {\n",
       "  cursor: pointer;\n",
       "  color: var(--xr-font-color2);\n",
       "}\n",
       "\n",
       ".xr-section-item input:enabled + label:hover {\n",
       "  color: var(--xr-font-color0);\n",
       "}\n",
       "\n",
       ".xr-section-summary {\n",
       "  grid-column: 1;\n",
       "  color: var(--xr-font-color2);\n",
       "  font-weight: 500;\n",
       "}\n",
       "\n",
       ".xr-section-summary > span {\n",
       "  display: inline-block;\n",
       "  padding-left: 0.5em;\n",
       "}\n",
       "\n",
       ".xr-section-summary-in:disabled + label {\n",
       "  color: var(--xr-font-color2);\n",
       "}\n",
       "\n",
       ".xr-section-summary-in + label:before {\n",
       "  display: inline-block;\n",
       "  content: '►';\n",
       "  font-size: 11px;\n",
       "  width: 15px;\n",
       "  text-align: center;\n",
       "}\n",
       "\n",
       ".xr-section-summary-in:disabled + label:before {\n",
       "  color: var(--xr-disabled-color);\n",
       "}\n",
       "\n",
       ".xr-section-summary-in:checked + label:before {\n",
       "  content: '▼';\n",
       "}\n",
       "\n",
       ".xr-section-summary-in:checked + label > span {\n",
       "  display: none;\n",
       "}\n",
       "\n",
       ".xr-section-summary,\n",
       ".xr-section-inline-details {\n",
       "  padding-top: 4px;\n",
       "  padding-bottom: 4px;\n",
       "}\n",
       "\n",
       ".xr-section-inline-details {\n",
       "  grid-column: 2 / -1;\n",
       "}\n",
       "\n",
       ".xr-section-details {\n",
       "  display: none;\n",
       "  grid-column: 1 / -1;\n",
       "  margin-bottom: 5px;\n",
       "}\n",
       "\n",
       ".xr-section-summary-in:checked ~ .xr-section-details {\n",
       "  display: contents;\n",
       "}\n",
       "\n",
       ".xr-array-wrap {\n",
       "  grid-column: 1 / -1;\n",
       "  display: grid;\n",
       "  grid-template-columns: 20px auto;\n",
       "}\n",
       "\n",
       ".xr-array-wrap > label {\n",
       "  grid-column: 1;\n",
       "  vertical-align: top;\n",
       "}\n",
       "\n",
       ".xr-preview {\n",
       "  color: var(--xr-font-color3);\n",
       "}\n",
       "\n",
       ".xr-array-preview,\n",
       ".xr-array-data {\n",
       "  padding: 0 5px !important;\n",
       "  grid-column: 2;\n",
       "}\n",
       "\n",
       ".xr-array-data,\n",
       ".xr-array-in:checked ~ .xr-array-preview {\n",
       "  display: none;\n",
       "}\n",
       "\n",
       ".xr-array-in:checked ~ .xr-array-data,\n",
       ".xr-array-preview {\n",
       "  display: inline-block;\n",
       "}\n",
       "\n",
       ".xr-dim-list {\n",
       "  display: inline-block !important;\n",
       "  list-style: none;\n",
       "  padding: 0 !important;\n",
       "  margin: 0;\n",
       "}\n",
       "\n",
       ".xr-dim-list li {\n",
       "  display: inline-block;\n",
       "  padding: 0;\n",
       "  margin: 0;\n",
       "}\n",
       "\n",
       ".xr-dim-list:before {\n",
       "  content: '(';\n",
       "}\n",
       "\n",
       ".xr-dim-list:after {\n",
       "  content: ')';\n",
       "}\n",
       "\n",
       ".xr-dim-list li:not(:last-child):after {\n",
       "  content: ',';\n",
       "  padding-right: 5px;\n",
       "}\n",
       "\n",
       ".xr-has-index {\n",
       "  font-weight: bold;\n",
       "}\n",
       "\n",
       ".xr-var-list,\n",
       ".xr-var-item {\n",
       "  display: contents;\n",
       "}\n",
       "\n",
       ".xr-var-item > div,\n",
       ".xr-var-item label,\n",
       ".xr-var-item > .xr-var-name span {\n",
       "  background-color: var(--xr-background-color-row-even);\n",
       "  margin-bottom: 0;\n",
       "}\n",
       "\n",
       ".xr-var-item > .xr-var-name:hover span {\n",
       "  padding-right: 5px;\n",
       "}\n",
       "\n",
       ".xr-var-list > li:nth-child(odd) > div,\n",
       ".xr-var-list > li:nth-child(odd) > label,\n",
       ".xr-var-list > li:nth-child(odd) > .xr-var-name span {\n",
       "  background-color: var(--xr-background-color-row-odd);\n",
       "}\n",
       "\n",
       ".xr-var-name {\n",
       "  grid-column: 1;\n",
       "}\n",
       "\n",
       ".xr-var-dims {\n",
       "  grid-column: 2;\n",
       "}\n",
       "\n",
       ".xr-var-dtype {\n",
       "  grid-column: 3;\n",
       "  text-align: right;\n",
       "  color: var(--xr-font-color2);\n",
       "}\n",
       "\n",
       ".xr-var-preview {\n",
       "  grid-column: 4;\n",
       "}\n",
       "\n",
       ".xr-var-name,\n",
       ".xr-var-dims,\n",
       ".xr-var-dtype,\n",
       ".xr-preview,\n",
       ".xr-attrs dt {\n",
       "  white-space: nowrap;\n",
       "  overflow: hidden;\n",
       "  text-overflow: ellipsis;\n",
       "  padding-right: 10px;\n",
       "}\n",
       "\n",
       ".xr-var-name:hover,\n",
       ".xr-var-dims:hover,\n",
       ".xr-var-dtype:hover,\n",
       ".xr-attrs dt:hover {\n",
       "  overflow: visible;\n",
       "  width: auto;\n",
       "  z-index: 1;\n",
       "}\n",
       "\n",
       ".xr-var-attrs,\n",
       ".xr-var-data {\n",
       "  display: none;\n",
       "  background-color: var(--xr-background-color) !important;\n",
       "  padding-bottom: 5px !important;\n",
       "}\n",
       "\n",
       ".xr-var-attrs-in:checked ~ .xr-var-attrs,\n",
       ".xr-var-data-in:checked ~ .xr-var-data {\n",
       "  display: block;\n",
       "}\n",
       "\n",
       ".xr-var-data > table {\n",
       "  float: right;\n",
       "}\n",
       "\n",
       ".xr-var-name span,\n",
       ".xr-var-data,\n",
       ".xr-attrs {\n",
       "  padding-left: 25px !important;\n",
       "}\n",
       "\n",
       ".xr-attrs,\n",
       ".xr-var-attrs,\n",
       ".xr-var-data {\n",
       "  grid-column: 1 / -1;\n",
       "}\n",
       "\n",
       "dl.xr-attrs {\n",
       "  padding: 0;\n",
       "  margin: 0;\n",
       "  display: grid;\n",
       "  grid-template-columns: 125px auto;\n",
       "}\n",
       "\n",
       ".xr-attrs dt,\n",
       ".xr-attrs dd {\n",
       "  padding: 0;\n",
       "  margin: 0;\n",
       "  float: left;\n",
       "  padding-right: 10px;\n",
       "  width: auto;\n",
       "}\n",
       "\n",
       ".xr-attrs dt {\n",
       "  font-weight: normal;\n",
       "  grid-column: 1;\n",
       "}\n",
       "\n",
       ".xr-attrs dt:hover span {\n",
       "  display: inline-block;\n",
       "  background: var(--xr-background-color);\n",
       "  padding-right: 10px;\n",
       "}\n",
       "\n",
       ".xr-attrs dd {\n",
       "  grid-column: 2;\n",
       "  white-space: pre-wrap;\n",
       "  word-break: break-all;\n",
       "}\n",
       "\n",
       ".xr-icon-database,\n",
       ".xr-icon-file-text2 {\n",
       "  display: inline-block;\n",
       "  vertical-align: middle;\n",
       "  width: 1em;\n",
       "  height: 1.5em !important;\n",
       "  stroke-width: 0;\n",
       "  stroke: currentColor;\n",
       "  fill: currentColor;\n",
       "}\n",
       "</style><pre class='xr-text-repr-fallback'>&lt;xarray.DataArray (lat: 192, lon: 288)&gt;\n",
       "array([[ True,  True,  True, ...,  True,  True,  True],\n",
       "       [ True,  True,  True, ...,  True,  True,  True],\n",
       "       [ True,  True,  True, ...,  True,  True,  True],\n",
       "       ...,\n",
       "       [False, False, False, ..., False, False, False],\n",
       "       [False, False, False, ..., False, False, False],\n",
       "       [False, False, False, ..., False, False, False]])\n",
       "Coordinates:\n",
       "  * lat        (lat) float64 -90.0 -89.06 -88.12 -87.17 ... 88.12 89.06 90.0\n",
       "  * lon        (lon) float64 180.0 181.2 182.5 183.8 ... 535.1 536.4 537.6 538.9\n",
       "    time       object 1853-02-01 00:00:00\n",
       "    member_id  &lt;U11 &#x27;r2i1021p1f1&#x27;\n",
       "    quantile   float64 0.9\n",
       "    month      int64 2</pre><div class='xr-wrap' hidden><div class='xr-header'><div class='xr-obj-type'>xarray.DataArray</div><div class='xr-array-name'></div><ul class='xr-dim-list'><li><span class='xr-has-index'>lat</span>: 192</li><li><span class='xr-has-index'>lon</span>: 288</li></ul></div><ul class='xr-sections'><li class='xr-section-item'><div class='xr-array-wrap'><input id='section-b3193931-c1f1-4434-833b-13411bc3daaf' class='xr-array-in' type='checkbox' checked><label for='section-b3193931-c1f1-4434-833b-13411bc3daaf' title='Show/hide data repr'><svg class='icon xr-icon-database'><use xlink:href='#icon-database'></use></svg></label><div class='xr-array-preview xr-preview'><span>True True True True True True ... True False False False False False</span></div><div class='xr-array-data'><pre>array([[ True,  True,  True, ...,  True,  True,  True],\n",
       "       [ True,  True,  True, ...,  True,  True,  True],\n",
       "       [ True,  True,  True, ...,  True,  True,  True],\n",
       "       ...,\n",
       "       [False, False, False, ..., False, False, False],\n",
       "       [False, False, False, ..., False, False, False],\n",
       "       [False, False, False, ..., False, False, False]])</pre></div></div></li><li class='xr-section-item'><input id='section-41bda2c8-3399-47fd-9794-97bc61d39e8b' class='xr-section-summary-in' type='checkbox'  checked><label for='section-41bda2c8-3399-47fd-9794-97bc61d39e8b' class='xr-section-summary' >Coordinates: <span>(6)</span></label><div class='xr-section-inline-details'></div><div class='xr-section-details'><ul class='xr-var-list'><li class='xr-var-item'><div class='xr-var-name'><span class='xr-has-index'>lat</span></div><div class='xr-var-dims'>(lat)</div><div class='xr-var-dtype'>float64</div><div class='xr-var-preview xr-preview'>-90.0 -89.06 -88.12 ... 89.06 90.0</div><input id='attrs-76cb22a0-975a-4a3e-950a-bd43bc897822' class='xr-var-attrs-in' type='checkbox' ><label for='attrs-76cb22a0-975a-4a3e-950a-bd43bc897822' title='Show/Hide attributes'><svg class='icon xr-icon-file-text2'><use xlink:href='#icon-file-text2'></use></svg></label><input id='data-b9ae844d-e297-4252-9087-6ffa332e7d35' class='xr-var-data-in' type='checkbox'><label for='data-b9ae844d-e297-4252-9087-6ffa332e7d35' title='Show/Hide data repr'><svg class='icon xr-icon-database'><use xlink:href='#icon-database'></use></svg></label><div class='xr-var-attrs'><dl class='xr-attrs'><dt><span>long_name :</span></dt><dd>latitude</dd><dt><span>units :</span></dt><dd>degrees_north</dd></dl></div><div class='xr-var-data'><pre>array([-90.      , -89.057592, -88.115183, -87.172775, -86.230366, -85.287958,\n",
       "       -84.34555 , -83.403141, -82.460733, -81.518325, -80.575916, -79.633508,\n",
       "       -78.691099, -77.748691, -76.806283, -75.863874, -74.921466, -73.979058,\n",
       "       -73.036649, -72.094241, -71.151832, -70.209424, -69.267016, -68.324607,\n",
       "       -67.382199, -66.439791, -65.497382, -64.554974, -63.612565, -62.670157,\n",
       "       -61.727749, -60.78534 , -59.842932, -58.900524, -57.958115, -57.015707,\n",
       "       -56.073298, -55.13089 , -54.188482, -53.246073, -52.303665, -51.361257,\n",
       "       -50.418848, -49.47644 , -48.534031, -47.591623, -46.649215, -45.706806,\n",
       "       -44.764398, -43.82199 , -42.879581, -41.937173, -40.994764, -40.052356,\n",
       "       -39.109948, -38.167539, -37.225131, -36.282723, -35.340314, -34.397906,\n",
       "       -33.455497, -32.513089, -31.570681, -30.628272, -29.685864, -28.743455,\n",
       "       -27.801047, -26.858639, -25.91623 , -24.973822, -24.031414, -23.089005,\n",
       "       -22.146597, -21.204188, -20.26178 , -19.319372, -18.376963, -17.434555,\n",
       "       -16.492147, -15.549738, -14.60733 , -13.664921, -12.722513, -11.780105,\n",
       "       -10.837696,  -9.895288,  -8.95288 ,  -8.010471,  -7.068063,  -6.125654,\n",
       "        -5.183246,  -4.240838,  -3.298429,  -2.356021,  -1.413613,  -0.471204,\n",
       "         0.471204,   1.413613,   2.356021,   3.298429,   4.240838,   5.183246,\n",
       "         6.125654,   7.068063,   8.010471,   8.95288 ,   9.895288,  10.837696,\n",
       "        11.780105,  12.722513,  13.664921,  14.60733 ,  15.549738,  16.492147,\n",
       "        17.434555,  18.376963,  19.319372,  20.26178 ,  21.204188,  22.146597,\n",
       "        23.089005,  24.031414,  24.973822,  25.91623 ,  26.858639,  27.801047,\n",
       "        28.743455,  29.685864,  30.628272,  31.570681,  32.513089,  33.455497,\n",
       "        34.397906,  35.340314,  36.282723,  37.225131,  38.167539,  39.109948,\n",
       "        40.052356,  40.994764,  41.937173,  42.879581,  43.82199 ,  44.764398,\n",
       "        45.706806,  46.649215,  47.591623,  48.534031,  49.47644 ,  50.418848,\n",
       "        51.361257,  52.303665,  53.246073,  54.188482,  55.13089 ,  56.073298,\n",
       "        57.015707,  57.958115,  58.900524,  59.842932,  60.78534 ,  61.727749,\n",
       "        62.670157,  63.612565,  64.554974,  65.497382,  66.439791,  67.382199,\n",
       "        68.324607,  69.267016,  70.209424,  71.151832,  72.094241,  73.036649,\n",
       "        73.979058,  74.921466,  75.863874,  76.806283,  77.748691,  78.691099,\n",
       "        79.633508,  80.575916,  81.518325,  82.460733,  83.403141,  84.34555 ,\n",
       "        85.287958,  86.230366,  87.172775,  88.115183,  89.057592,  90.      ])</pre></div></li><li class='xr-var-item'><div class='xr-var-name'><span class='xr-has-index'>lon</span></div><div class='xr-var-dims'>(lon)</div><div class='xr-var-dtype'>float64</div><div class='xr-var-preview xr-preview'>180.0 181.2 182.5 ... 537.6 538.9</div><input id='attrs-12c1ba58-cadc-4e9b-acc0-f6050f1f94b3' class='xr-var-attrs-in' type='checkbox' ><label for='attrs-12c1ba58-cadc-4e9b-acc0-f6050f1f94b3' title='Show/Hide attributes'><svg class='icon xr-icon-file-text2'><use xlink:href='#icon-file-text2'></use></svg></label><input id='data-55324ca2-067c-4200-8278-104f47a72603' class='xr-var-data-in' type='checkbox'><label for='data-55324ca2-067c-4200-8278-104f47a72603' title='Show/Hide data repr'><svg class='icon xr-icon-database'><use xlink:href='#icon-database'></use></svg></label><div class='xr-var-attrs'><dl class='xr-attrs'><dt><span>long_name :</span></dt><dd>longitude</dd><dt><span>units :</span></dt><dd>degrees_east</dd></dl></div><div class='xr-var-data'><pre>array([180.   , 181.25 , 182.5  , ..., 536.375, 537.625, 538.875])</pre></div></li><li class='xr-var-item'><div class='xr-var-name'><span>time</span></div><div class='xr-var-dims'>()</div><div class='xr-var-dtype'>object</div><div class='xr-var-preview xr-preview'>1853-02-01 00:00:00</div><input id='attrs-c31b0ff1-8118-4678-9cd5-2044dca7d087' class='xr-var-attrs-in' type='checkbox' ><label for='attrs-c31b0ff1-8118-4678-9cd5-2044dca7d087' title='Show/Hide attributes'><svg class='icon xr-icon-file-text2'><use xlink:href='#icon-file-text2'></use></svg></label><input id='data-69432509-e5ad-45e3-b8fc-0b61a7c9c385' class='xr-var-data-in' type='checkbox'><label for='data-69432509-e5ad-45e3-b8fc-0b61a7c9c385' title='Show/Hide data repr'><svg class='icon xr-icon-database'><use xlink:href='#icon-database'></use></svg></label><div class='xr-var-attrs'><dl class='xr-attrs'><dt><span>long_name :</span></dt><dd>time</dd><dt><span>bounds :</span></dt><dd>time_bnds</dd></dl></div><div class='xr-var-data'><pre>array(cftime.DatetimeNoLeap(1853, 2, 1, 0, 0, 0, 0, has_year_zero=True),\n",
       "      dtype=object)</pre></div></li><li class='xr-var-item'><div class='xr-var-name'><span>member_id</span></div><div class='xr-var-dims'>()</div><div class='xr-var-dtype'>&lt;U11</div><div class='xr-var-preview xr-preview'>&#x27;r2i1021p1f1&#x27;</div><input id='attrs-f0ac4cf1-0ef2-45a4-a6fc-b967bc4499f9' class='xr-var-attrs-in' type='checkbox' disabled><label for='attrs-f0ac4cf1-0ef2-45a4-a6fc-b967bc4499f9' title='Show/Hide attributes'><svg class='icon xr-icon-file-text2'><use xlink:href='#icon-file-text2'></use></svg></label><input id='data-07c62ead-fd7a-4964-a8bb-7eee8dad74df' class='xr-var-data-in' type='checkbox'><label for='data-07c62ead-fd7a-4964-a8bb-7eee8dad74df' title='Show/Hide data repr'><svg class='icon xr-icon-database'><use xlink:href='#icon-database'></use></svg></label><div class='xr-var-attrs'><dl class='xr-attrs'></dl></div><div class='xr-var-data'><pre>array(&#x27;r2i1021p1f1&#x27;, dtype=&#x27;&lt;U11&#x27;)</pre></div></li><li class='xr-var-item'><div class='xr-var-name'><span>quantile</span></div><div class='xr-var-dims'>()</div><div class='xr-var-dtype'>float64</div><div class='xr-var-preview xr-preview'>0.9</div><input id='attrs-95264093-e8d6-49b4-bf7a-e2533afd1704' class='xr-var-attrs-in' type='checkbox' disabled><label for='attrs-95264093-e8d6-49b4-bf7a-e2533afd1704' title='Show/Hide attributes'><svg class='icon xr-icon-file-text2'><use xlink:href='#icon-file-text2'></use></svg></label><input id='data-bdc953f3-c277-4b4c-a933-ce61aa7f813b' class='xr-var-data-in' type='checkbox'><label for='data-bdc953f3-c277-4b4c-a933-ce61aa7f813b' title='Show/Hide data repr'><svg class='icon xr-icon-database'><use xlink:href='#icon-database'></use></svg></label><div class='xr-var-attrs'><dl class='xr-attrs'></dl></div><div class='xr-var-data'><pre>array(0.9)</pre></div></li><li class='xr-var-item'><div class='xr-var-name'><span>month</span></div><div class='xr-var-dims'>()</div><div class='xr-var-dtype'>int64</div><div class='xr-var-preview xr-preview'>2</div><input id='attrs-dda23f5e-8516-4439-9f73-30e206fd943d' class='xr-var-attrs-in' type='checkbox' disabled><label for='attrs-dda23f5e-8516-4439-9f73-30e206fd943d' title='Show/Hide attributes'><svg class='icon xr-icon-file-text2'><use xlink:href='#icon-file-text2'></use></svg></label><input id='data-2f09e3d3-14a4-4cb4-9797-a421b8b856c1' class='xr-var-data-in' type='checkbox'><label for='data-2f09e3d3-14a4-4cb4-9797-a421b8b856c1' title='Show/Hide data repr'><svg class='icon xr-icon-database'><use xlink:href='#icon-database'></use></svg></label><div class='xr-var-attrs'><dl class='xr-attrs'></dl></div><div class='xr-var-data'><pre>array(2)</pre></div></li></ul></div></li><li class='xr-section-item'><input id='section-bfbea5be-de81-4f42-afcf-f706db01d57c' class='xr-section-summary-in' type='checkbox' disabled ><label for='section-bfbea5be-de81-4f42-afcf-f706db01d57c' class='xr-section-summary'  title='Expand/collapse section'>Attributes: <span>(0)</span></label><div class='xr-section-inline-details'></div><div class='xr-section-details'><dl class='xr-attrs'></dl></div></li></ul></div></div>"
      ],
      "text/plain": [
       "<xarray.DataArray (lat: 192, lon: 288)>\n",
       "array([[ True,  True,  True, ...,  True,  True,  True],\n",
       "       [ True,  True,  True, ...,  True,  True,  True],\n",
       "       [ True,  True,  True, ...,  True,  True,  True],\n",
       "       ...,\n",
       "       [False, False, False, ..., False, False, False],\n",
       "       [False, False, False, ..., False, False, False],\n",
       "       [False, False, False, ..., False, False, False]])\n",
       "Coordinates:\n",
       "  * lat        (lat) float64 -90.0 -89.06 -88.12 -87.17 ... 88.12 89.06 90.0\n",
       "  * lon        (lon) float64 180.0 181.2 182.5 183.8 ... 535.1 536.4 537.6 538.9\n",
       "    time       object 1853-02-01 00:00:00\n",
       "    member_id  <U11 'r2i1021p1f1'\n",
       "    quantile   float64 0.9\n",
       "    month      int64 2"
      ]
     },
     "execution_count": 323,
     "metadata": {},
     "output_type": "execute_result"
    }
   ],
   "source": [
    "append_east == 11.\n",
    "\n",
    "# append_east = append_east.where(replace==True, other=0)\n",
    "# np.unique(append_east)"
   ]
  },
  {
   "cell_type": "code",
   "execution_count": 331,
   "id": "e2eb0a37-bde7-41d1-8968-f87f3e12774e",
   "metadata": {},
   "outputs": [
    {
     "data": {
      "text/html": [
       "<div><svg style=\"position: absolute; width: 0; height: 0; overflow: hidden\">\n",
       "<defs>\n",
       "<symbol id=\"icon-database\" viewBox=\"0 0 32 32\">\n",
       "<path d=\"M16 0c-8.837 0-16 2.239-16 5v4c0 2.761 7.163 5 16 5s16-2.239 16-5v-4c0-2.761-7.163-5-16-5z\"></path>\n",
       "<path d=\"M16 17c-8.837 0-16-2.239-16-5v6c0 2.761 7.163 5 16 5s16-2.239 16-5v-6c0 2.761-7.163 5-16 5z\"></path>\n",
       "<path d=\"M16 26c-8.837 0-16-2.239-16-5v6c0 2.761 7.163 5 16 5s16-2.239 16-5v-6c0 2.761-7.163 5-16 5z\"></path>\n",
       "</symbol>\n",
       "<symbol id=\"icon-file-text2\" viewBox=\"0 0 32 32\">\n",
       "<path d=\"M28.681 7.159c-0.694-0.947-1.662-2.053-2.724-3.116s-2.169-2.030-3.116-2.724c-1.612-1.182-2.393-1.319-2.841-1.319h-15.5c-1.378 0-2.5 1.121-2.5 2.5v27c0 1.378 1.122 2.5 2.5 2.5h23c1.378 0 2.5-1.122 2.5-2.5v-19.5c0-0.448-0.137-1.23-1.319-2.841zM24.543 5.457c0.959 0.959 1.712 1.825 2.268 2.543h-4.811v-4.811c0.718 0.556 1.584 1.309 2.543 2.268zM28 29.5c0 0.271-0.229 0.5-0.5 0.5h-23c-0.271 0-0.5-0.229-0.5-0.5v-27c0-0.271 0.229-0.5 0.5-0.5 0 0 15.499-0 15.5 0v7c0 0.552 0.448 1 1 1h7v19.5z\"></path>\n",
       "<path d=\"M23 26h-14c-0.552 0-1-0.448-1-1s0.448-1 1-1h14c0.552 0 1 0.448 1 1s-0.448 1-1 1z\"></path>\n",
       "<path d=\"M23 22h-14c-0.552 0-1-0.448-1-1s0.448-1 1-1h14c0.552 0 1 0.448 1 1s-0.448 1-1 1z\"></path>\n",
       "<path d=\"M23 18h-14c-0.552 0-1-0.448-1-1s0.448-1 1-1h14c0.552 0 1 0.448 1 1s-0.448 1-1 1z\"></path>\n",
       "</symbol>\n",
       "</defs>\n",
       "</svg>\n",
       "<style>/* CSS stylesheet for displaying xarray objects in jupyterlab.\n",
       " *\n",
       " */\n",
       "\n",
       ":root {\n",
       "  --xr-font-color0: var(--jp-content-font-color0, rgba(0, 0, 0, 1));\n",
       "  --xr-font-color2: var(--jp-content-font-color2, rgba(0, 0, 0, 0.54));\n",
       "  --xr-font-color3: var(--jp-content-font-color3, rgba(0, 0, 0, 0.38));\n",
       "  --xr-border-color: var(--jp-border-color2, #e0e0e0);\n",
       "  --xr-disabled-color: var(--jp-layout-color3, #bdbdbd);\n",
       "  --xr-background-color: var(--jp-layout-color0, white);\n",
       "  --xr-background-color-row-even: var(--jp-layout-color1, white);\n",
       "  --xr-background-color-row-odd: var(--jp-layout-color2, #eeeeee);\n",
       "}\n",
       "\n",
       "html[theme=dark],\n",
       "body.vscode-dark {\n",
       "  --xr-font-color0: rgba(255, 255, 255, 1);\n",
       "  --xr-font-color2: rgba(255, 255, 255, 0.54);\n",
       "  --xr-font-color3: rgba(255, 255, 255, 0.38);\n",
       "  --xr-border-color: #1F1F1F;\n",
       "  --xr-disabled-color: #515151;\n",
       "  --xr-background-color: #111111;\n",
       "  --xr-background-color-row-even: #111111;\n",
       "  --xr-background-color-row-odd: #313131;\n",
       "}\n",
       "\n",
       ".xr-wrap {\n",
       "  display: block;\n",
       "  min-width: 300px;\n",
       "  max-width: 700px;\n",
       "}\n",
       "\n",
       ".xr-text-repr-fallback {\n",
       "  /* fallback to plain text repr when CSS is not injected (untrusted notebook) */\n",
       "  display: none;\n",
       "}\n",
       "\n",
       ".xr-header {\n",
       "  padding-top: 6px;\n",
       "  padding-bottom: 6px;\n",
       "  margin-bottom: 4px;\n",
       "  border-bottom: solid 1px var(--xr-border-color);\n",
       "}\n",
       "\n",
       ".xr-header > div,\n",
       ".xr-header > ul {\n",
       "  display: inline;\n",
       "  margin-top: 0;\n",
       "  margin-bottom: 0;\n",
       "}\n",
       "\n",
       ".xr-obj-type,\n",
       ".xr-array-name {\n",
       "  margin-left: 2px;\n",
       "  margin-right: 10px;\n",
       "}\n",
       "\n",
       ".xr-obj-type {\n",
       "  color: var(--xr-font-color2);\n",
       "}\n",
       "\n",
       ".xr-sections {\n",
       "  padding-left: 0 !important;\n",
       "  display: grid;\n",
       "  grid-template-columns: 150px auto auto 1fr 20px 20px;\n",
       "}\n",
       "\n",
       ".xr-section-item {\n",
       "  display: contents;\n",
       "}\n",
       "\n",
       ".xr-section-item input {\n",
       "  display: none;\n",
       "}\n",
       "\n",
       ".xr-section-item input + label {\n",
       "  color: var(--xr-disabled-color);\n",
       "}\n",
       "\n",
       ".xr-section-item input:enabled + label {\n",
       "  cursor: pointer;\n",
       "  color: var(--xr-font-color2);\n",
       "}\n",
       "\n",
       ".xr-section-item input:enabled + label:hover {\n",
       "  color: var(--xr-font-color0);\n",
       "}\n",
       "\n",
       ".xr-section-summary {\n",
       "  grid-column: 1;\n",
       "  color: var(--xr-font-color2);\n",
       "  font-weight: 500;\n",
       "}\n",
       "\n",
       ".xr-section-summary > span {\n",
       "  display: inline-block;\n",
       "  padding-left: 0.5em;\n",
       "}\n",
       "\n",
       ".xr-section-summary-in:disabled + label {\n",
       "  color: var(--xr-font-color2);\n",
       "}\n",
       "\n",
       ".xr-section-summary-in + label:before {\n",
       "  display: inline-block;\n",
       "  content: '►';\n",
       "  font-size: 11px;\n",
       "  width: 15px;\n",
       "  text-align: center;\n",
       "}\n",
       "\n",
       ".xr-section-summary-in:disabled + label:before {\n",
       "  color: var(--xr-disabled-color);\n",
       "}\n",
       "\n",
       ".xr-section-summary-in:checked + label:before {\n",
       "  content: '▼';\n",
       "}\n",
       "\n",
       ".xr-section-summary-in:checked + label > span {\n",
       "  display: none;\n",
       "}\n",
       "\n",
       ".xr-section-summary,\n",
       ".xr-section-inline-details {\n",
       "  padding-top: 4px;\n",
       "  padding-bottom: 4px;\n",
       "}\n",
       "\n",
       ".xr-section-inline-details {\n",
       "  grid-column: 2 / -1;\n",
       "}\n",
       "\n",
       ".xr-section-details {\n",
       "  display: none;\n",
       "  grid-column: 1 / -1;\n",
       "  margin-bottom: 5px;\n",
       "}\n",
       "\n",
       ".xr-section-summary-in:checked ~ .xr-section-details {\n",
       "  display: contents;\n",
       "}\n",
       "\n",
       ".xr-array-wrap {\n",
       "  grid-column: 1 / -1;\n",
       "  display: grid;\n",
       "  grid-template-columns: 20px auto;\n",
       "}\n",
       "\n",
       ".xr-array-wrap > label {\n",
       "  grid-column: 1;\n",
       "  vertical-align: top;\n",
       "}\n",
       "\n",
       ".xr-preview {\n",
       "  color: var(--xr-font-color3);\n",
       "}\n",
       "\n",
       ".xr-array-preview,\n",
       ".xr-array-data {\n",
       "  padding: 0 5px !important;\n",
       "  grid-column: 2;\n",
       "}\n",
       "\n",
       ".xr-array-data,\n",
       ".xr-array-in:checked ~ .xr-array-preview {\n",
       "  display: none;\n",
       "}\n",
       "\n",
       ".xr-array-in:checked ~ .xr-array-data,\n",
       ".xr-array-preview {\n",
       "  display: inline-block;\n",
       "}\n",
       "\n",
       ".xr-dim-list {\n",
       "  display: inline-block !important;\n",
       "  list-style: none;\n",
       "  padding: 0 !important;\n",
       "  margin: 0;\n",
       "}\n",
       "\n",
       ".xr-dim-list li {\n",
       "  display: inline-block;\n",
       "  padding: 0;\n",
       "  margin: 0;\n",
       "}\n",
       "\n",
       ".xr-dim-list:before {\n",
       "  content: '(';\n",
       "}\n",
       "\n",
       ".xr-dim-list:after {\n",
       "  content: ')';\n",
       "}\n",
       "\n",
       ".xr-dim-list li:not(:last-child):after {\n",
       "  content: ',';\n",
       "  padding-right: 5px;\n",
       "}\n",
       "\n",
       ".xr-has-index {\n",
       "  font-weight: bold;\n",
       "}\n",
       "\n",
       ".xr-var-list,\n",
       ".xr-var-item {\n",
       "  display: contents;\n",
       "}\n",
       "\n",
       ".xr-var-item > div,\n",
       ".xr-var-item label,\n",
       ".xr-var-item > .xr-var-name span {\n",
       "  background-color: var(--xr-background-color-row-even);\n",
       "  margin-bottom: 0;\n",
       "}\n",
       "\n",
       ".xr-var-item > .xr-var-name:hover span {\n",
       "  padding-right: 5px;\n",
       "}\n",
       "\n",
       ".xr-var-list > li:nth-child(odd) > div,\n",
       ".xr-var-list > li:nth-child(odd) > label,\n",
       ".xr-var-list > li:nth-child(odd) > .xr-var-name span {\n",
       "  background-color: var(--xr-background-color-row-odd);\n",
       "}\n",
       "\n",
       ".xr-var-name {\n",
       "  grid-column: 1;\n",
       "}\n",
       "\n",
       ".xr-var-dims {\n",
       "  grid-column: 2;\n",
       "}\n",
       "\n",
       ".xr-var-dtype {\n",
       "  grid-column: 3;\n",
       "  text-align: right;\n",
       "  color: var(--xr-font-color2);\n",
       "}\n",
       "\n",
       ".xr-var-preview {\n",
       "  grid-column: 4;\n",
       "}\n",
       "\n",
       ".xr-var-name,\n",
       ".xr-var-dims,\n",
       ".xr-var-dtype,\n",
       ".xr-preview,\n",
       ".xr-attrs dt {\n",
       "  white-space: nowrap;\n",
       "  overflow: hidden;\n",
       "  text-overflow: ellipsis;\n",
       "  padding-right: 10px;\n",
       "}\n",
       "\n",
       ".xr-var-name:hover,\n",
       ".xr-var-dims:hover,\n",
       ".xr-var-dtype:hover,\n",
       ".xr-attrs dt:hover {\n",
       "  overflow: visible;\n",
       "  width: auto;\n",
       "  z-index: 1;\n",
       "}\n",
       "\n",
       ".xr-var-attrs,\n",
       ".xr-var-data {\n",
       "  display: none;\n",
       "  background-color: var(--xr-background-color) !important;\n",
       "  padding-bottom: 5px !important;\n",
       "}\n",
       "\n",
       ".xr-var-attrs-in:checked ~ .xr-var-attrs,\n",
       ".xr-var-data-in:checked ~ .xr-var-data {\n",
       "  display: block;\n",
       "}\n",
       "\n",
       ".xr-var-data > table {\n",
       "  float: right;\n",
       "}\n",
       "\n",
       ".xr-var-name span,\n",
       ".xr-var-data,\n",
       ".xr-attrs {\n",
       "  padding-left: 25px !important;\n",
       "}\n",
       "\n",
       ".xr-attrs,\n",
       ".xr-var-attrs,\n",
       ".xr-var-data {\n",
       "  grid-column: 1 / -1;\n",
       "}\n",
       "\n",
       "dl.xr-attrs {\n",
       "  padding: 0;\n",
       "  margin: 0;\n",
       "  display: grid;\n",
       "  grid-template-columns: 125px auto;\n",
       "}\n",
       "\n",
       ".xr-attrs dt,\n",
       ".xr-attrs dd {\n",
       "  padding: 0;\n",
       "  margin: 0;\n",
       "  float: left;\n",
       "  padding-right: 10px;\n",
       "  width: auto;\n",
       "}\n",
       "\n",
       ".xr-attrs dt {\n",
       "  font-weight: normal;\n",
       "  grid-column: 1;\n",
       "}\n",
       "\n",
       ".xr-attrs dt:hover span {\n",
       "  display: inline-block;\n",
       "  background: var(--xr-background-color);\n",
       "  padding-right: 10px;\n",
       "}\n",
       "\n",
       ".xr-attrs dd {\n",
       "  grid-column: 2;\n",
       "  white-space: pre-wrap;\n",
       "  word-break: break-all;\n",
       "}\n",
       "\n",
       ".xr-icon-database,\n",
       ".xr-icon-file-text2 {\n",
       "  display: inline-block;\n",
       "  vertical-align: middle;\n",
       "  width: 1em;\n",
       "  height: 1.5em !important;\n",
       "  stroke-width: 0;\n",
       "  stroke: currentColor;\n",
       "  fill: currentColor;\n",
       "}\n",
       "</style><pre class='xr-text-repr-fallback'>&lt;xarray.DataArray (lat: 192, lon: 288)&gt;\n",
       "array([[11., 11., 11., ..., 11., 11., 11.],\n",
       "       [11., 11., 11., ..., 11., 11., 11.],\n",
       "       [11., 11., 11., ..., 11., 11., 11.],\n",
       "       ...,\n",
       "       [12., 12., 12., ..., 12., 12., 12.],\n",
       "       [12., 12., 12., ..., 12., 12., 12.],\n",
       "       [12., 12., 12., ..., 12., 12., 12.]])\n",
       "Coordinates:\n",
       "  * lat        (lat) float64 -90.0 -89.06 -88.12 -87.17 ... 88.12 89.06 90.0\n",
       "  * lon        (lon) float64 180.0 181.2 182.5 183.8 ... 535.1 536.4 537.6 538.9\n",
       "    time       object 1853-02-01 00:00:00\n",
       "    member_id  &lt;U11 &#x27;r2i1021p1f1&#x27;\n",
       "    quantile   float64 0.9\n",
       "    month      int64 2</pre><div class='xr-wrap' hidden><div class='xr-header'><div class='xr-obj-type'>xarray.DataArray</div><div class='xr-array-name'></div><ul class='xr-dim-list'><li><span class='xr-has-index'>lat</span>: 192</li><li><span class='xr-has-index'>lon</span>: 288</li></ul></div><ul class='xr-sections'><li class='xr-section-item'><div class='xr-array-wrap'><input id='section-e85e3e43-9841-4e4c-8aef-6f7023d74cd4' class='xr-array-in' type='checkbox' checked><label for='section-e85e3e43-9841-4e4c-8aef-6f7023d74cd4' title='Show/hide data repr'><svg class='icon xr-icon-database'><use xlink:href='#icon-database'></use></svg></label><div class='xr-array-preview xr-preview'><span>11.0 11.0 11.0 11.0 11.0 11.0 11.0 ... 11.0 12.0 12.0 12.0 12.0 12.0</span></div><div class='xr-array-data'><pre>array([[11., 11., 11., ..., 11., 11., 11.],\n",
       "       [11., 11., 11., ..., 11., 11., 11.],\n",
       "       [11., 11., 11., ..., 11., 11., 11.],\n",
       "       ...,\n",
       "       [12., 12., 12., ..., 12., 12., 12.],\n",
       "       [12., 12., 12., ..., 12., 12., 12.],\n",
       "       [12., 12., 12., ..., 12., 12., 12.]])</pre></div></div></li><li class='xr-section-item'><input id='section-800db0c4-4bbf-4787-a2a9-e6d38546177d' class='xr-section-summary-in' type='checkbox'  checked><label for='section-800db0c4-4bbf-4787-a2a9-e6d38546177d' class='xr-section-summary' >Coordinates: <span>(6)</span></label><div class='xr-section-inline-details'></div><div class='xr-section-details'><ul class='xr-var-list'><li class='xr-var-item'><div class='xr-var-name'><span class='xr-has-index'>lat</span></div><div class='xr-var-dims'>(lat)</div><div class='xr-var-dtype'>float64</div><div class='xr-var-preview xr-preview'>-90.0 -89.06 -88.12 ... 89.06 90.0</div><input id='attrs-a27e5db4-9062-4f83-bd1c-e7a11431cc4f' class='xr-var-attrs-in' type='checkbox' ><label for='attrs-a27e5db4-9062-4f83-bd1c-e7a11431cc4f' title='Show/Hide attributes'><svg class='icon xr-icon-file-text2'><use xlink:href='#icon-file-text2'></use></svg></label><input id='data-1400b0c1-ff28-49e1-84b9-e44297c7db73' class='xr-var-data-in' type='checkbox'><label for='data-1400b0c1-ff28-49e1-84b9-e44297c7db73' title='Show/Hide data repr'><svg class='icon xr-icon-database'><use xlink:href='#icon-database'></use></svg></label><div class='xr-var-attrs'><dl class='xr-attrs'><dt><span>long_name :</span></dt><dd>latitude</dd><dt><span>units :</span></dt><dd>degrees_north</dd></dl></div><div class='xr-var-data'><pre>array([-90.      , -89.057592, -88.115183, -87.172775, -86.230366, -85.287958,\n",
       "       -84.34555 , -83.403141, -82.460733, -81.518325, -80.575916, -79.633508,\n",
       "       -78.691099, -77.748691, -76.806283, -75.863874, -74.921466, -73.979058,\n",
       "       -73.036649, -72.094241, -71.151832, -70.209424, -69.267016, -68.324607,\n",
       "       -67.382199, -66.439791, -65.497382, -64.554974, -63.612565, -62.670157,\n",
       "       -61.727749, -60.78534 , -59.842932, -58.900524, -57.958115, -57.015707,\n",
       "       -56.073298, -55.13089 , -54.188482, -53.246073, -52.303665, -51.361257,\n",
       "       -50.418848, -49.47644 , -48.534031, -47.591623, -46.649215, -45.706806,\n",
       "       -44.764398, -43.82199 , -42.879581, -41.937173, -40.994764, -40.052356,\n",
       "       -39.109948, -38.167539, -37.225131, -36.282723, -35.340314, -34.397906,\n",
       "       -33.455497, -32.513089, -31.570681, -30.628272, -29.685864, -28.743455,\n",
       "       -27.801047, -26.858639, -25.91623 , -24.973822, -24.031414, -23.089005,\n",
       "       -22.146597, -21.204188, -20.26178 , -19.319372, -18.376963, -17.434555,\n",
       "       -16.492147, -15.549738, -14.60733 , -13.664921, -12.722513, -11.780105,\n",
       "       -10.837696,  -9.895288,  -8.95288 ,  -8.010471,  -7.068063,  -6.125654,\n",
       "        -5.183246,  -4.240838,  -3.298429,  -2.356021,  -1.413613,  -0.471204,\n",
       "         0.471204,   1.413613,   2.356021,   3.298429,   4.240838,   5.183246,\n",
       "         6.125654,   7.068063,   8.010471,   8.95288 ,   9.895288,  10.837696,\n",
       "        11.780105,  12.722513,  13.664921,  14.60733 ,  15.549738,  16.492147,\n",
       "        17.434555,  18.376963,  19.319372,  20.26178 ,  21.204188,  22.146597,\n",
       "        23.089005,  24.031414,  24.973822,  25.91623 ,  26.858639,  27.801047,\n",
       "        28.743455,  29.685864,  30.628272,  31.570681,  32.513089,  33.455497,\n",
       "        34.397906,  35.340314,  36.282723,  37.225131,  38.167539,  39.109948,\n",
       "        40.052356,  40.994764,  41.937173,  42.879581,  43.82199 ,  44.764398,\n",
       "        45.706806,  46.649215,  47.591623,  48.534031,  49.47644 ,  50.418848,\n",
       "        51.361257,  52.303665,  53.246073,  54.188482,  55.13089 ,  56.073298,\n",
       "        57.015707,  57.958115,  58.900524,  59.842932,  60.78534 ,  61.727749,\n",
       "        62.670157,  63.612565,  64.554974,  65.497382,  66.439791,  67.382199,\n",
       "        68.324607,  69.267016,  70.209424,  71.151832,  72.094241,  73.036649,\n",
       "        73.979058,  74.921466,  75.863874,  76.806283,  77.748691,  78.691099,\n",
       "        79.633508,  80.575916,  81.518325,  82.460733,  83.403141,  84.34555 ,\n",
       "        85.287958,  86.230366,  87.172775,  88.115183,  89.057592,  90.      ])</pre></div></li><li class='xr-var-item'><div class='xr-var-name'><span class='xr-has-index'>lon</span></div><div class='xr-var-dims'>(lon)</div><div class='xr-var-dtype'>float64</div><div class='xr-var-preview xr-preview'>180.0 181.2 182.5 ... 537.6 538.9</div><input id='attrs-f8e18b3b-a9f2-47a8-b006-d996a1cf9c00' class='xr-var-attrs-in' type='checkbox' ><label for='attrs-f8e18b3b-a9f2-47a8-b006-d996a1cf9c00' title='Show/Hide attributes'><svg class='icon xr-icon-file-text2'><use xlink:href='#icon-file-text2'></use></svg></label><input id='data-ab60ebfa-b549-4ed9-bf1f-af950e35f534' class='xr-var-data-in' type='checkbox'><label for='data-ab60ebfa-b549-4ed9-bf1f-af950e35f534' title='Show/Hide data repr'><svg class='icon xr-icon-database'><use xlink:href='#icon-database'></use></svg></label><div class='xr-var-attrs'><dl class='xr-attrs'><dt><span>long_name :</span></dt><dd>longitude</dd><dt><span>units :</span></dt><dd>degrees_east</dd></dl></div><div class='xr-var-data'><pre>array([180.   , 181.25 , 182.5  , ..., 536.375, 537.625, 538.875])</pre></div></li><li class='xr-var-item'><div class='xr-var-name'><span>time</span></div><div class='xr-var-dims'>()</div><div class='xr-var-dtype'>object</div><div class='xr-var-preview xr-preview'>1853-02-01 00:00:00</div><input id='attrs-6975bb3e-1332-4dac-990f-6c6f222eba17' class='xr-var-attrs-in' type='checkbox' ><label for='attrs-6975bb3e-1332-4dac-990f-6c6f222eba17' title='Show/Hide attributes'><svg class='icon xr-icon-file-text2'><use xlink:href='#icon-file-text2'></use></svg></label><input id='data-535163c8-8703-41ec-82a8-90e8ffb44246' class='xr-var-data-in' type='checkbox'><label for='data-535163c8-8703-41ec-82a8-90e8ffb44246' title='Show/Hide data repr'><svg class='icon xr-icon-database'><use xlink:href='#icon-database'></use></svg></label><div class='xr-var-attrs'><dl class='xr-attrs'><dt><span>long_name :</span></dt><dd>time</dd><dt><span>bounds :</span></dt><dd>time_bnds</dd></dl></div><div class='xr-var-data'><pre>array(cftime.DatetimeNoLeap(1853, 2, 1, 0, 0, 0, 0, has_year_zero=True),\n",
       "      dtype=object)</pre></div></li><li class='xr-var-item'><div class='xr-var-name'><span>member_id</span></div><div class='xr-var-dims'>()</div><div class='xr-var-dtype'>&lt;U11</div><div class='xr-var-preview xr-preview'>&#x27;r2i1021p1f1&#x27;</div><input id='attrs-2dd14787-405e-46fd-b8ba-07914142b0b4' class='xr-var-attrs-in' type='checkbox' disabled><label for='attrs-2dd14787-405e-46fd-b8ba-07914142b0b4' title='Show/Hide attributes'><svg class='icon xr-icon-file-text2'><use xlink:href='#icon-file-text2'></use></svg></label><input id='data-245f8981-5efc-4b2b-a53b-e9a1a746d672' class='xr-var-data-in' type='checkbox'><label for='data-245f8981-5efc-4b2b-a53b-e9a1a746d672' title='Show/Hide data repr'><svg class='icon xr-icon-database'><use xlink:href='#icon-database'></use></svg></label><div class='xr-var-attrs'><dl class='xr-attrs'></dl></div><div class='xr-var-data'><pre>array(&#x27;r2i1021p1f1&#x27;, dtype=&#x27;&lt;U11&#x27;)</pre></div></li><li class='xr-var-item'><div class='xr-var-name'><span>quantile</span></div><div class='xr-var-dims'>()</div><div class='xr-var-dtype'>float64</div><div class='xr-var-preview xr-preview'>0.9</div><input id='attrs-388482d9-bca4-411f-a3fa-a6a2d7dc2925' class='xr-var-attrs-in' type='checkbox' disabled><label for='attrs-388482d9-bca4-411f-a3fa-a6a2d7dc2925' title='Show/Hide attributes'><svg class='icon xr-icon-file-text2'><use xlink:href='#icon-file-text2'></use></svg></label><input id='data-42ab3762-fa77-43f1-957a-67bd065d2398' class='xr-var-data-in' type='checkbox'><label for='data-42ab3762-fa77-43f1-957a-67bd065d2398' title='Show/Hide data repr'><svg class='icon xr-icon-database'><use xlink:href='#icon-database'></use></svg></label><div class='xr-var-attrs'><dl class='xr-attrs'></dl></div><div class='xr-var-data'><pre>array(0.9)</pre></div></li><li class='xr-var-item'><div class='xr-var-name'><span>month</span></div><div class='xr-var-dims'>()</div><div class='xr-var-dtype'>int64</div><div class='xr-var-preview xr-preview'>2</div><input id='attrs-53cdc3e3-b127-4b6f-83c1-d466339fe1dd' class='xr-var-attrs-in' type='checkbox' disabled><label for='attrs-53cdc3e3-b127-4b6f-83c1-d466339fe1dd' title='Show/Hide attributes'><svg class='icon xr-icon-file-text2'><use xlink:href='#icon-file-text2'></use></svg></label><input id='data-a2111490-28dc-4682-b539-c5acc5951bbf' class='xr-var-data-in' type='checkbox'><label for='data-a2111490-28dc-4682-b539-c5acc5951bbf' title='Show/Hide data repr'><svg class='icon xr-icon-database'><use xlink:href='#icon-database'></use></svg></label><div class='xr-var-attrs'><dl class='xr-attrs'></dl></div><div class='xr-var-data'><pre>array(2)</pre></div></li></ul></div></li><li class='xr-section-item'><input id='section-55354628-3847-4f73-b018-966300e5ae03' class='xr-section-summary-in' type='checkbox' disabled ><label for='section-55354628-3847-4f73-b018-966300e5ae03' class='xr-section-summary'  title='Expand/collapse section'>Attributes: <span>(0)</span></label><div class='xr-section-inline-details'></div><div class='xr-section-details'><dl class='xr-attrs'></dl></div></li></ul></div></div>"
      ],
      "text/plain": [
       "<xarray.DataArray (lat: 192, lon: 288)>\n",
       "array([[11., 11., 11., ..., 11., 11., 11.],\n",
       "       [11., 11., 11., ..., 11., 11., 11.],\n",
       "       [11., 11., 11., ..., 11., 11., 11.],\n",
       "       ...,\n",
       "       [12., 12., 12., ..., 12., 12., 12.],\n",
       "       [12., 12., 12., ..., 12., 12., 12.],\n",
       "       [12., 12., 12., ..., 12., 12., 12.]])\n",
       "Coordinates:\n",
       "  * lat        (lat) float64 -90.0 -89.06 -88.12 -87.17 ... 88.12 89.06 90.0\n",
       "  * lon        (lon) float64 180.0 181.2 182.5 183.8 ... 535.1 536.4 537.6 538.9\n",
       "    time       object 1853-02-01 00:00:00\n",
       "    member_id  <U11 'r2i1021p1f1'\n",
       "    quantile   float64 0.9\n",
       "    month      int64 2"
      ]
     },
     "execution_count": 331,
     "metadata": {},
     "output_type": "execute_result"
    }
   ],
   "source": [
    "append_east\n"
   ]
  },
  {
   "cell_type": "code",
   "execution_count": 339,
   "id": "3acaa96d-4161-45c5-b9c3-c938c69f9636",
   "metadata": {},
   "outputs": [
    {
     "data": {
      "text/html": [
       "<div><svg style=\"position: absolute; width: 0; height: 0; overflow: hidden\">\n",
       "<defs>\n",
       "<symbol id=\"icon-database\" viewBox=\"0 0 32 32\">\n",
       "<path d=\"M16 0c-8.837 0-16 2.239-16 5v4c0 2.761 7.163 5 16 5s16-2.239 16-5v-4c0-2.761-7.163-5-16-5z\"></path>\n",
       "<path d=\"M16 17c-8.837 0-16-2.239-16-5v6c0 2.761 7.163 5 16 5s16-2.239 16-5v-6c0 2.761-7.163 5-16 5z\"></path>\n",
       "<path d=\"M16 26c-8.837 0-16-2.239-16-5v6c0 2.761 7.163 5 16 5s16-2.239 16-5v-6c0 2.761-7.163 5-16 5z\"></path>\n",
       "</symbol>\n",
       "<symbol id=\"icon-file-text2\" viewBox=\"0 0 32 32\">\n",
       "<path d=\"M28.681 7.159c-0.694-0.947-1.662-2.053-2.724-3.116s-2.169-2.030-3.116-2.724c-1.612-1.182-2.393-1.319-2.841-1.319h-15.5c-1.378 0-2.5 1.121-2.5 2.5v27c0 1.378 1.122 2.5 2.5 2.5h23c1.378 0 2.5-1.122 2.5-2.5v-19.5c0-0.448-0.137-1.23-1.319-2.841zM24.543 5.457c0.959 0.959 1.712 1.825 2.268 2.543h-4.811v-4.811c0.718 0.556 1.584 1.309 2.543 2.268zM28 29.5c0 0.271-0.229 0.5-0.5 0.5h-23c-0.271 0-0.5-0.229-0.5-0.5v-27c0-0.271 0.229-0.5 0.5-0.5 0 0 15.499-0 15.5 0v7c0 0.552 0.448 1 1 1h7v19.5z\"></path>\n",
       "<path d=\"M23 26h-14c-0.552 0-1-0.448-1-1s0.448-1 1-1h14c0.552 0 1 0.448 1 1s-0.448 1-1 1z\"></path>\n",
       "<path d=\"M23 22h-14c-0.552 0-1-0.448-1-1s0.448-1 1-1h14c0.552 0 1 0.448 1 1s-0.448 1-1 1z\"></path>\n",
       "<path d=\"M23 18h-14c-0.552 0-1-0.448-1-1s0.448-1 1-1h14c0.552 0 1 0.448 1 1s-0.448 1-1 1z\"></path>\n",
       "</symbol>\n",
       "</defs>\n",
       "</svg>\n",
       "<style>/* CSS stylesheet for displaying xarray objects in jupyterlab.\n",
       " *\n",
       " */\n",
       "\n",
       ":root {\n",
       "  --xr-font-color0: var(--jp-content-font-color0, rgba(0, 0, 0, 1));\n",
       "  --xr-font-color2: var(--jp-content-font-color2, rgba(0, 0, 0, 0.54));\n",
       "  --xr-font-color3: var(--jp-content-font-color3, rgba(0, 0, 0, 0.38));\n",
       "  --xr-border-color: var(--jp-border-color2, #e0e0e0);\n",
       "  --xr-disabled-color: var(--jp-layout-color3, #bdbdbd);\n",
       "  --xr-background-color: var(--jp-layout-color0, white);\n",
       "  --xr-background-color-row-even: var(--jp-layout-color1, white);\n",
       "  --xr-background-color-row-odd: var(--jp-layout-color2, #eeeeee);\n",
       "}\n",
       "\n",
       "html[theme=dark],\n",
       "body.vscode-dark {\n",
       "  --xr-font-color0: rgba(255, 255, 255, 1);\n",
       "  --xr-font-color2: rgba(255, 255, 255, 0.54);\n",
       "  --xr-font-color3: rgba(255, 255, 255, 0.38);\n",
       "  --xr-border-color: #1F1F1F;\n",
       "  --xr-disabled-color: #515151;\n",
       "  --xr-background-color: #111111;\n",
       "  --xr-background-color-row-even: #111111;\n",
       "  --xr-background-color-row-odd: #313131;\n",
       "}\n",
       "\n",
       ".xr-wrap {\n",
       "  display: block;\n",
       "  min-width: 300px;\n",
       "  max-width: 700px;\n",
       "}\n",
       "\n",
       ".xr-text-repr-fallback {\n",
       "  /* fallback to plain text repr when CSS is not injected (untrusted notebook) */\n",
       "  display: none;\n",
       "}\n",
       "\n",
       ".xr-header {\n",
       "  padding-top: 6px;\n",
       "  padding-bottom: 6px;\n",
       "  margin-bottom: 4px;\n",
       "  border-bottom: solid 1px var(--xr-border-color);\n",
       "}\n",
       "\n",
       ".xr-header > div,\n",
       ".xr-header > ul {\n",
       "  display: inline;\n",
       "  margin-top: 0;\n",
       "  margin-bottom: 0;\n",
       "}\n",
       "\n",
       ".xr-obj-type,\n",
       ".xr-array-name {\n",
       "  margin-left: 2px;\n",
       "  margin-right: 10px;\n",
       "}\n",
       "\n",
       ".xr-obj-type {\n",
       "  color: var(--xr-font-color2);\n",
       "}\n",
       "\n",
       ".xr-sections {\n",
       "  padding-left: 0 !important;\n",
       "  display: grid;\n",
       "  grid-template-columns: 150px auto auto 1fr 20px 20px;\n",
       "}\n",
       "\n",
       ".xr-section-item {\n",
       "  display: contents;\n",
       "}\n",
       "\n",
       ".xr-section-item input {\n",
       "  display: none;\n",
       "}\n",
       "\n",
       ".xr-section-item input + label {\n",
       "  color: var(--xr-disabled-color);\n",
       "}\n",
       "\n",
       ".xr-section-item input:enabled + label {\n",
       "  cursor: pointer;\n",
       "  color: var(--xr-font-color2);\n",
       "}\n",
       "\n",
       ".xr-section-item input:enabled + label:hover {\n",
       "  color: var(--xr-font-color0);\n",
       "}\n",
       "\n",
       ".xr-section-summary {\n",
       "  grid-column: 1;\n",
       "  color: var(--xr-font-color2);\n",
       "  font-weight: 500;\n",
       "}\n",
       "\n",
       ".xr-section-summary > span {\n",
       "  display: inline-block;\n",
       "  padding-left: 0.5em;\n",
       "}\n",
       "\n",
       ".xr-section-summary-in:disabled + label {\n",
       "  color: var(--xr-font-color2);\n",
       "}\n",
       "\n",
       ".xr-section-summary-in + label:before {\n",
       "  display: inline-block;\n",
       "  content: '►';\n",
       "  font-size: 11px;\n",
       "  width: 15px;\n",
       "  text-align: center;\n",
       "}\n",
       "\n",
       ".xr-section-summary-in:disabled + label:before {\n",
       "  color: var(--xr-disabled-color);\n",
       "}\n",
       "\n",
       ".xr-section-summary-in:checked + label:before {\n",
       "  content: '▼';\n",
       "}\n",
       "\n",
       ".xr-section-summary-in:checked + label > span {\n",
       "  display: none;\n",
       "}\n",
       "\n",
       ".xr-section-summary,\n",
       ".xr-section-inline-details {\n",
       "  padding-top: 4px;\n",
       "  padding-bottom: 4px;\n",
       "}\n",
       "\n",
       ".xr-section-inline-details {\n",
       "  grid-column: 2 / -1;\n",
       "}\n",
       "\n",
       ".xr-section-details {\n",
       "  display: none;\n",
       "  grid-column: 1 / -1;\n",
       "  margin-bottom: 5px;\n",
       "}\n",
       "\n",
       ".xr-section-summary-in:checked ~ .xr-section-details {\n",
       "  display: contents;\n",
       "}\n",
       "\n",
       ".xr-array-wrap {\n",
       "  grid-column: 1 / -1;\n",
       "  display: grid;\n",
       "  grid-template-columns: 20px auto;\n",
       "}\n",
       "\n",
       ".xr-array-wrap > label {\n",
       "  grid-column: 1;\n",
       "  vertical-align: top;\n",
       "}\n",
       "\n",
       ".xr-preview {\n",
       "  color: var(--xr-font-color3);\n",
       "}\n",
       "\n",
       ".xr-array-preview,\n",
       ".xr-array-data {\n",
       "  padding: 0 5px !important;\n",
       "  grid-column: 2;\n",
       "}\n",
       "\n",
       ".xr-array-data,\n",
       ".xr-array-in:checked ~ .xr-array-preview {\n",
       "  display: none;\n",
       "}\n",
       "\n",
       ".xr-array-in:checked ~ .xr-array-data,\n",
       ".xr-array-preview {\n",
       "  display: inline-block;\n",
       "}\n",
       "\n",
       ".xr-dim-list {\n",
       "  display: inline-block !important;\n",
       "  list-style: none;\n",
       "  padding: 0 !important;\n",
       "  margin: 0;\n",
       "}\n",
       "\n",
       ".xr-dim-list li {\n",
       "  display: inline-block;\n",
       "  padding: 0;\n",
       "  margin: 0;\n",
       "}\n",
       "\n",
       ".xr-dim-list:before {\n",
       "  content: '(';\n",
       "}\n",
       "\n",
       ".xr-dim-list:after {\n",
       "  content: ')';\n",
       "}\n",
       "\n",
       ".xr-dim-list li:not(:last-child):after {\n",
       "  content: ',';\n",
       "  padding-right: 5px;\n",
       "}\n",
       "\n",
       ".xr-has-index {\n",
       "  font-weight: bold;\n",
       "}\n",
       "\n",
       ".xr-var-list,\n",
       ".xr-var-item {\n",
       "  display: contents;\n",
       "}\n",
       "\n",
       ".xr-var-item > div,\n",
       ".xr-var-item label,\n",
       ".xr-var-item > .xr-var-name span {\n",
       "  background-color: var(--xr-background-color-row-even);\n",
       "  margin-bottom: 0;\n",
       "}\n",
       "\n",
       ".xr-var-item > .xr-var-name:hover span {\n",
       "  padding-right: 5px;\n",
       "}\n",
       "\n",
       ".xr-var-list > li:nth-child(odd) > div,\n",
       ".xr-var-list > li:nth-child(odd) > label,\n",
       ".xr-var-list > li:nth-child(odd) > .xr-var-name span {\n",
       "  background-color: var(--xr-background-color-row-odd);\n",
       "}\n",
       "\n",
       ".xr-var-name {\n",
       "  grid-column: 1;\n",
       "}\n",
       "\n",
       ".xr-var-dims {\n",
       "  grid-column: 2;\n",
       "}\n",
       "\n",
       ".xr-var-dtype {\n",
       "  grid-column: 3;\n",
       "  text-align: right;\n",
       "  color: var(--xr-font-color2);\n",
       "}\n",
       "\n",
       ".xr-var-preview {\n",
       "  grid-column: 4;\n",
       "}\n",
       "\n",
       ".xr-var-name,\n",
       ".xr-var-dims,\n",
       ".xr-var-dtype,\n",
       ".xr-preview,\n",
       ".xr-attrs dt {\n",
       "  white-space: nowrap;\n",
       "  overflow: hidden;\n",
       "  text-overflow: ellipsis;\n",
       "  padding-right: 10px;\n",
       "}\n",
       "\n",
       ".xr-var-name:hover,\n",
       ".xr-var-dims:hover,\n",
       ".xr-var-dtype:hover,\n",
       ".xr-attrs dt:hover {\n",
       "  overflow: visible;\n",
       "  width: auto;\n",
       "  z-index: 1;\n",
       "}\n",
       "\n",
       ".xr-var-attrs,\n",
       ".xr-var-data {\n",
       "  display: none;\n",
       "  background-color: var(--xr-background-color) !important;\n",
       "  padding-bottom: 5px !important;\n",
       "}\n",
       "\n",
       ".xr-var-attrs-in:checked ~ .xr-var-attrs,\n",
       ".xr-var-data-in:checked ~ .xr-var-data {\n",
       "  display: block;\n",
       "}\n",
       "\n",
       ".xr-var-data > table {\n",
       "  float: right;\n",
       "}\n",
       "\n",
       ".xr-var-name span,\n",
       ".xr-var-data,\n",
       ".xr-attrs {\n",
       "  padding-left: 25px !important;\n",
       "}\n",
       "\n",
       ".xr-attrs,\n",
       ".xr-var-attrs,\n",
       ".xr-var-data {\n",
       "  grid-column: 1 / -1;\n",
       "}\n",
       "\n",
       "dl.xr-attrs {\n",
       "  padding: 0;\n",
       "  margin: 0;\n",
       "  display: grid;\n",
       "  grid-template-columns: 125px auto;\n",
       "}\n",
       "\n",
       ".xr-attrs dt,\n",
       ".xr-attrs dd {\n",
       "  padding: 0;\n",
       "  margin: 0;\n",
       "  float: left;\n",
       "  padding-right: 10px;\n",
       "  width: auto;\n",
       "}\n",
       "\n",
       ".xr-attrs dt {\n",
       "  font-weight: normal;\n",
       "  grid-column: 1;\n",
       "}\n",
       "\n",
       ".xr-attrs dt:hover span {\n",
       "  display: inline-block;\n",
       "  background: var(--xr-background-color);\n",
       "  padding-right: 10px;\n",
       "}\n",
       "\n",
       ".xr-attrs dd {\n",
       "  grid-column: 2;\n",
       "  white-space: pre-wrap;\n",
       "  word-break: break-all;\n",
       "}\n",
       "\n",
       ".xr-icon-database,\n",
       ".xr-icon-file-text2 {\n",
       "  display: inline-block;\n",
       "  vertical-align: middle;\n",
       "  width: 1em;\n",
       "  height: 1.5em !important;\n",
       "  stroke-width: 0;\n",
       "  stroke: currentColor;\n",
       "  fill: currentColor;\n",
       "}\n",
       "</style><pre class='xr-text-repr-fallback'>&lt;xarray.DataArray (lat: 192, lon: 288)&gt;\n",
       "array([[11., 11., 11., ..., 11., 11., 11.],\n",
       "       [11., 11., 11., ..., 11., 11., 11.],\n",
       "       [11., 11., 11., ..., 11., 11., 11.],\n",
       "       ...,\n",
       "       [12., 12., 12., ..., 12., 12., 12.],\n",
       "       [12., 12., 12., ..., 12., 12., 12.],\n",
       "       [12., 12., 12., ..., 12., 12., 12.]])\n",
       "Coordinates:\n",
       "  * lat        (lat) float64 -90.0 -89.06 -88.12 -87.17 ... 88.12 89.06 90.0\n",
       "  * lon        (lon) float64 180.0 181.2 182.5 183.8 ... 535.1 536.4 537.6 538.9\n",
       "    time       object 1853-02-01 00:00:00\n",
       "    member_id  &lt;U11 &#x27;r2i1021p1f1&#x27;\n",
       "    quantile   float64 0.9\n",
       "    month      int64 2</pre><div class='xr-wrap' hidden><div class='xr-header'><div class='xr-obj-type'>xarray.DataArray</div><div class='xr-array-name'></div><ul class='xr-dim-list'><li><span class='xr-has-index'>lat</span>: 192</li><li><span class='xr-has-index'>lon</span>: 288</li></ul></div><ul class='xr-sections'><li class='xr-section-item'><div class='xr-array-wrap'><input id='section-5d6ee85e-7a3a-4f21-be62-94d4c695dd1c' class='xr-array-in' type='checkbox' checked><label for='section-5d6ee85e-7a3a-4f21-be62-94d4c695dd1c' title='Show/hide data repr'><svg class='icon xr-icon-database'><use xlink:href='#icon-database'></use></svg></label><div class='xr-array-preview xr-preview'><span>11.0 11.0 11.0 11.0 11.0 11.0 11.0 ... 11.0 12.0 12.0 12.0 12.0 12.0</span></div><div class='xr-array-data'><pre>array([[11., 11., 11., ..., 11., 11., 11.],\n",
       "       [11., 11., 11., ..., 11., 11., 11.],\n",
       "       [11., 11., 11., ..., 11., 11., 11.],\n",
       "       ...,\n",
       "       [12., 12., 12., ..., 12., 12., 12.],\n",
       "       [12., 12., 12., ..., 12., 12., 12.],\n",
       "       [12., 12., 12., ..., 12., 12., 12.]])</pre></div></div></li><li class='xr-section-item'><input id='section-a183c7ff-c325-48fc-9993-2275f095a4ad' class='xr-section-summary-in' type='checkbox'  checked><label for='section-a183c7ff-c325-48fc-9993-2275f095a4ad' class='xr-section-summary' >Coordinates: <span>(6)</span></label><div class='xr-section-inline-details'></div><div class='xr-section-details'><ul class='xr-var-list'><li class='xr-var-item'><div class='xr-var-name'><span class='xr-has-index'>lat</span></div><div class='xr-var-dims'>(lat)</div><div class='xr-var-dtype'>float64</div><div class='xr-var-preview xr-preview'>-90.0 -89.06 -88.12 ... 89.06 90.0</div><input id='attrs-9f1e678b-74b2-49dd-ba73-4ae9b7b7637f' class='xr-var-attrs-in' type='checkbox' ><label for='attrs-9f1e678b-74b2-49dd-ba73-4ae9b7b7637f' title='Show/Hide attributes'><svg class='icon xr-icon-file-text2'><use xlink:href='#icon-file-text2'></use></svg></label><input id='data-b80f08f0-75c0-4845-b2bf-c0066566f40e' class='xr-var-data-in' type='checkbox'><label for='data-b80f08f0-75c0-4845-b2bf-c0066566f40e' title='Show/Hide data repr'><svg class='icon xr-icon-database'><use xlink:href='#icon-database'></use></svg></label><div class='xr-var-attrs'><dl class='xr-attrs'><dt><span>long_name :</span></dt><dd>latitude</dd><dt><span>units :</span></dt><dd>degrees_north</dd></dl></div><div class='xr-var-data'><pre>array([-90.      , -89.057592, -88.115183, -87.172775, -86.230366, -85.287958,\n",
       "       -84.34555 , -83.403141, -82.460733, -81.518325, -80.575916, -79.633508,\n",
       "       -78.691099, -77.748691, -76.806283, -75.863874, -74.921466, -73.979058,\n",
       "       -73.036649, -72.094241, -71.151832, -70.209424, -69.267016, -68.324607,\n",
       "       -67.382199, -66.439791, -65.497382, -64.554974, -63.612565, -62.670157,\n",
       "       -61.727749, -60.78534 , -59.842932, -58.900524, -57.958115, -57.015707,\n",
       "       -56.073298, -55.13089 , -54.188482, -53.246073, -52.303665, -51.361257,\n",
       "       -50.418848, -49.47644 , -48.534031, -47.591623, -46.649215, -45.706806,\n",
       "       -44.764398, -43.82199 , -42.879581, -41.937173, -40.994764, -40.052356,\n",
       "       -39.109948, -38.167539, -37.225131, -36.282723, -35.340314, -34.397906,\n",
       "       -33.455497, -32.513089, -31.570681, -30.628272, -29.685864, -28.743455,\n",
       "       -27.801047, -26.858639, -25.91623 , -24.973822, -24.031414, -23.089005,\n",
       "       -22.146597, -21.204188, -20.26178 , -19.319372, -18.376963, -17.434555,\n",
       "       -16.492147, -15.549738, -14.60733 , -13.664921, -12.722513, -11.780105,\n",
       "       -10.837696,  -9.895288,  -8.95288 ,  -8.010471,  -7.068063,  -6.125654,\n",
       "        -5.183246,  -4.240838,  -3.298429,  -2.356021,  -1.413613,  -0.471204,\n",
       "         0.471204,   1.413613,   2.356021,   3.298429,   4.240838,   5.183246,\n",
       "         6.125654,   7.068063,   8.010471,   8.95288 ,   9.895288,  10.837696,\n",
       "        11.780105,  12.722513,  13.664921,  14.60733 ,  15.549738,  16.492147,\n",
       "        17.434555,  18.376963,  19.319372,  20.26178 ,  21.204188,  22.146597,\n",
       "        23.089005,  24.031414,  24.973822,  25.91623 ,  26.858639,  27.801047,\n",
       "        28.743455,  29.685864,  30.628272,  31.570681,  32.513089,  33.455497,\n",
       "        34.397906,  35.340314,  36.282723,  37.225131,  38.167539,  39.109948,\n",
       "        40.052356,  40.994764,  41.937173,  42.879581,  43.82199 ,  44.764398,\n",
       "        45.706806,  46.649215,  47.591623,  48.534031,  49.47644 ,  50.418848,\n",
       "        51.361257,  52.303665,  53.246073,  54.188482,  55.13089 ,  56.073298,\n",
       "        57.015707,  57.958115,  58.900524,  59.842932,  60.78534 ,  61.727749,\n",
       "        62.670157,  63.612565,  64.554974,  65.497382,  66.439791,  67.382199,\n",
       "        68.324607,  69.267016,  70.209424,  71.151832,  72.094241,  73.036649,\n",
       "        73.979058,  74.921466,  75.863874,  76.806283,  77.748691,  78.691099,\n",
       "        79.633508,  80.575916,  81.518325,  82.460733,  83.403141,  84.34555 ,\n",
       "        85.287958,  86.230366,  87.172775,  88.115183,  89.057592,  90.      ])</pre></div></li><li class='xr-var-item'><div class='xr-var-name'><span class='xr-has-index'>lon</span></div><div class='xr-var-dims'>(lon)</div><div class='xr-var-dtype'>float64</div><div class='xr-var-preview xr-preview'>180.0 181.2 182.5 ... 537.6 538.9</div><input id='attrs-cb238717-ad25-4282-8494-ee3b9d4abb0d' class='xr-var-attrs-in' type='checkbox' ><label for='attrs-cb238717-ad25-4282-8494-ee3b9d4abb0d' title='Show/Hide attributes'><svg class='icon xr-icon-file-text2'><use xlink:href='#icon-file-text2'></use></svg></label><input id='data-0538ae22-83a0-4400-a64b-cf08a6d0e0a4' class='xr-var-data-in' type='checkbox'><label for='data-0538ae22-83a0-4400-a64b-cf08a6d0e0a4' title='Show/Hide data repr'><svg class='icon xr-icon-database'><use xlink:href='#icon-database'></use></svg></label><div class='xr-var-attrs'><dl class='xr-attrs'><dt><span>long_name :</span></dt><dd>longitude</dd><dt><span>units :</span></dt><dd>degrees_east</dd></dl></div><div class='xr-var-data'><pre>array([180.   , 181.25 , 182.5  , ..., 536.375, 537.625, 538.875])</pre></div></li><li class='xr-var-item'><div class='xr-var-name'><span>time</span></div><div class='xr-var-dims'>()</div><div class='xr-var-dtype'>object</div><div class='xr-var-preview xr-preview'>1853-02-01 00:00:00</div><input id='attrs-cf56e8c3-c799-453d-9ddb-cf500410ff5e' class='xr-var-attrs-in' type='checkbox' ><label for='attrs-cf56e8c3-c799-453d-9ddb-cf500410ff5e' title='Show/Hide attributes'><svg class='icon xr-icon-file-text2'><use xlink:href='#icon-file-text2'></use></svg></label><input id='data-e3d193c7-b092-4f33-a9a2-20dcc514e69f' class='xr-var-data-in' type='checkbox'><label for='data-e3d193c7-b092-4f33-a9a2-20dcc514e69f' title='Show/Hide data repr'><svg class='icon xr-icon-database'><use xlink:href='#icon-database'></use></svg></label><div class='xr-var-attrs'><dl class='xr-attrs'><dt><span>long_name :</span></dt><dd>time</dd><dt><span>bounds :</span></dt><dd>time_bnds</dd></dl></div><div class='xr-var-data'><pre>array(cftime.DatetimeNoLeap(1853, 2, 1, 0, 0, 0, 0, has_year_zero=True),\n",
       "      dtype=object)</pre></div></li><li class='xr-var-item'><div class='xr-var-name'><span>member_id</span></div><div class='xr-var-dims'>()</div><div class='xr-var-dtype'>&lt;U11</div><div class='xr-var-preview xr-preview'>&#x27;r2i1021p1f1&#x27;</div><input id='attrs-9cec3b10-7d9c-4928-97ec-6b68eb484638' class='xr-var-attrs-in' type='checkbox' disabled><label for='attrs-9cec3b10-7d9c-4928-97ec-6b68eb484638' title='Show/Hide attributes'><svg class='icon xr-icon-file-text2'><use xlink:href='#icon-file-text2'></use></svg></label><input id='data-3a45368a-328a-4164-9f31-a12eb56b200b' class='xr-var-data-in' type='checkbox'><label for='data-3a45368a-328a-4164-9f31-a12eb56b200b' title='Show/Hide data repr'><svg class='icon xr-icon-database'><use xlink:href='#icon-database'></use></svg></label><div class='xr-var-attrs'><dl class='xr-attrs'></dl></div><div class='xr-var-data'><pre>array(&#x27;r2i1021p1f1&#x27;, dtype=&#x27;&lt;U11&#x27;)</pre></div></li><li class='xr-var-item'><div class='xr-var-name'><span>quantile</span></div><div class='xr-var-dims'>()</div><div class='xr-var-dtype'>float64</div><div class='xr-var-preview xr-preview'>0.9</div><input id='attrs-ba10ecf5-c9dd-420e-ab02-d578cc065917' class='xr-var-attrs-in' type='checkbox' disabled><label for='attrs-ba10ecf5-c9dd-420e-ab02-d578cc065917' title='Show/Hide attributes'><svg class='icon xr-icon-file-text2'><use xlink:href='#icon-file-text2'></use></svg></label><input id='data-fa194cc1-d537-4979-8b57-874802df3094' class='xr-var-data-in' type='checkbox'><label for='data-fa194cc1-d537-4979-8b57-874802df3094' title='Show/Hide data repr'><svg class='icon xr-icon-database'><use xlink:href='#icon-database'></use></svg></label><div class='xr-var-attrs'><dl class='xr-attrs'></dl></div><div class='xr-var-data'><pre>array(0.9)</pre></div></li><li class='xr-var-item'><div class='xr-var-name'><span>month</span></div><div class='xr-var-dims'>()</div><div class='xr-var-dtype'>int64</div><div class='xr-var-preview xr-preview'>2</div><input id='attrs-726cae6b-f4df-4f58-bb2a-4f627c417752' class='xr-var-attrs-in' type='checkbox' disabled><label for='attrs-726cae6b-f4df-4f58-bb2a-4f627c417752' title='Show/Hide attributes'><svg class='icon xr-icon-file-text2'><use xlink:href='#icon-file-text2'></use></svg></label><input id='data-2c59d70c-c1c8-4f38-ae01-02eb77e0a149' class='xr-var-data-in' type='checkbox'><label for='data-2c59d70c-c1c8-4f38-ae01-02eb77e0a149' title='Show/Hide data repr'><svg class='icon xr-icon-database'><use xlink:href='#icon-database'></use></svg></label><div class='xr-var-attrs'><dl class='xr-attrs'></dl></div><div class='xr-var-data'><pre>array(2)</pre></div></li></ul></div></li><li class='xr-section-item'><input id='section-c8921ef7-fc4e-42ac-b3a2-3f552cde176f' class='xr-section-summary-in' type='checkbox' disabled ><label for='section-c8921ef7-fc4e-42ac-b3a2-3f552cde176f' class='xr-section-summary'  title='Expand/collapse section'>Attributes: <span>(0)</span></label><div class='xr-section-inline-details'></div><div class='xr-section-details'><dl class='xr-attrs'></dl></div></li></ul></div></div>"
      ],
      "text/plain": [
       "<xarray.DataArray (lat: 192, lon: 288)>\n",
       "array([[11., 11., 11., ..., 11., 11., 11.],\n",
       "       [11., 11., 11., ..., 11., 11., 11.],\n",
       "       [11., 11., 11., ..., 11., 11., 11.],\n",
       "       ...,\n",
       "       [12., 12., 12., ..., 12., 12., 12.],\n",
       "       [12., 12., 12., ..., 12., 12., 12.],\n",
       "       [12., 12., 12., ..., 12., 12., 12.]])\n",
       "Coordinates:\n",
       "  * lat        (lat) float64 -90.0 -89.06 -88.12 -87.17 ... 88.12 89.06 90.0\n",
       "  * lon        (lon) float64 180.0 181.2 182.5 183.8 ... 535.1 536.4 537.6 538.9\n",
       "    time       object 1853-02-01 00:00:00\n",
       "    member_id  <U11 'r2i1021p1f1'\n",
       "    quantile   float64 0.9\n",
       "    month      int64 2"
      ]
     },
     "execution_count": 339,
     "metadata": {},
     "output_type": "execute_result"
    }
   ],
   "source": [
    "append_east"
   ]
  },
  {
   "cell_type": "code",
   "execution_count": 1,
   "id": "2f641d66-01c9-4ccd-931a-8d6a4c7da0c2",
   "metadata": {},
   "outputs": [
    {
     "ename": "NameError",
     "evalue": "name 'all_timesteps' is not defined",
     "output_type": "error",
     "traceback": [
      "\u001b[0;31m---------------------------------------------------------------------------\u001b[0m",
      "\u001b[0;31mNameError\u001b[0m                                 Traceback (most recent call last)",
      "\u001b[0;32m/glade/scratch/cassiacai/ipykernel_129434/3968784965.py\u001b[0m in \u001b[0;36m<module>\u001b[0;34m\u001b[0m\n\u001b[0;32m----> 1\u001b[0;31m \u001b[0mall_timesteps\u001b[0m\u001b[0;34m[\u001b[0m\u001b[0;36m0\u001b[0m\u001b[0;34m,\u001b[0m\u001b[0;34m:\u001b[0m\u001b[0;34m,\u001b[0m\u001b[0;34m:\u001b[0m\u001b[0;34m]\u001b[0m\u001b[0;34m.\u001b[0m\u001b[0mplot\u001b[0m\u001b[0;34m.\u001b[0m\u001b[0mimshow\u001b[0m\u001b[0;34m(\u001b[0m\u001b[0;34m)\u001b[0m\u001b[0;34m\u001b[0m\u001b[0;34m\u001b[0m\u001b[0m\n\u001b[0m",
      "\u001b[0;31mNameError\u001b[0m: name 'all_timesteps' is not defined"
     ]
    }
   ],
   "source": [
    "all_timesteps[0,:,:].plot.imshow()"
   ]
  },
  {
   "cell_type": "code",
   "execution_count": 329,
   "id": "de76879d-f4b1-4006-a86b-3de2509b1d1d",
   "metadata": {},
   "outputs": [
    {
     "data": {
      "text/plain": [
       "<matplotlib.image.AxesImage at 0x2b7d6e5bb4f0>"
      ]
     },
     "execution_count": 329,
     "metadata": {},
     "output_type": "execute_result"
    },
    {
     "data": {
      "text/plain": [
       "<matplotlib.lines.Line2D at 0x2b7d6e082820>"
      ]
     },
     "execution_count": 329,
     "metadata": {},
     "output_type": "execute_result"
    },
    {
     "data": {
      "image/png": "[encoded data removed]",
      "text/plain": [
       "<Figure size 720x360 with 2 Axes>"
      ]
     },
     "metadata": {
      "needs_background": "light"
     },
     "output_type": "display_data"
    },
    {
     "data": {
      "text/plain": [
       "<matplotlib.image.AxesImage at 0x2b7d6e669a60>"
      ]
     },
     "execution_count": 329,
     "metadata": {},
     "output_type": "execute_result"
    },
    {
     "data": {
      "text/plain": [
       "<matplotlib.lines.Line2D at 0x2b7d6e0f91c0>"
      ]
     },
     "execution_count": 329,
     "metadata": {},
     "output_type": "execute_result"
    },
    {
     "data": {
      "image/png": "[encoded data removed]",
      "text/plain": [
       "<Figure size 720x360 with 2 Axes>"
      ]
     },
     "metadata": {
      "needs_background": "light"
     },
     "output_type": "display_data"
    },
    {
     "data": {
      "text/plain": [
       "<matplotlib.image.AxesImage at 0x2b7d6e741c10>"
      ]
     },
     "execution_count": 329,
     "metadata": {},
     "output_type": "execute_result"
    },
    {
     "data": {
      "text/plain": [
       "<matplotlib.lines.Line2D at 0x2b7d6e712fd0>"
      ]
     },
     "execution_count": 329,
     "metadata": {},
     "output_type": "execute_result"
    },
    {
     "data": {
      "image/png": "[encoded data removed]",
      "text/plain": [
       "<Figure size 720x360 with 2 Axes>"
      ]
     },
     "metadata": {
      "needs_background": "light"
     },
     "output_type": "display_data"
    },
    {
     "data": {
      "text/plain": [
       "<matplotlib.image.AxesImage at 0x2b7d6e80c250>"
      ]
     },
     "execution_count": 329,
     "metadata": {},
     "output_type": "execute_result"
    },
    {
     "data": {
      "text/plain": [
       "<matplotlib.collections.PathCollection at 0x2b7d6e720eb0>"
      ]
     },
     "execution_count": 329,
     "metadata": {},
     "output_type": "execute_result"
    },
    {
     "data": {
      "image/png": "[encoded data removed]",
      "text/plain": [
       "<Figure size 720x360 with 2 Axes>"
      ]
     },
     "metadata": {
      "needs_background": "light"
     },
     "output_type": "display_data"
    },
    {
     "name": "stdout",
     "output_type": "stream",
     "text": [
      "[(-5.18324607329843, 363.875), (73.97905759162303, 265.0), (79.63350785340315, 407.625)]\n"
     ]
    }
   ],
   "source": [
    "from skimage.measure import label as label_np\n",
    "\n",
    "for_one_mhw = SSTA_and_events.where(SSTA_and_events.labels==mhw_id, drop=False)\n",
    "mhw_when = np.argwhere(for_one_mhw.labels.max(axis=(1,2)).values > 0.)\n",
    "first_timestep = mhw_when[0][0]\n",
    "timesteps_to_choose_from = np.arange(first_timestep, first_timestep+duration)\n",
    "\n",
    "all_timesteps = for_one_mhw.labels[timesteps_to_choose_from,:,:]\n",
    "\n",
    "timestep = 4\n",
    "# let us try one timestep\n",
    "all_timesteps[timestep,:,:].plot.imshow(figsize=(10,5)); plt.axvline(x=180); plt.show() #1\n",
    "\n",
    "sub_labels = _get_labels(all_timesteps)\n",
    "\n",
    "def _get_labels(binary_images):\n",
    "    '''function used to label binary images at each time step using skimage.measure.label'''\n",
    "    blobs_labels = label_np(binary_images, background=0)\n",
    "    return blobs_labels\n",
    "\n",
    "sub_labels = xr.DataArray(sub_labels, dims=all_timesteps.dims, coords=all_timesteps.coords)\n",
    "sub_labels = sub_labels.where(sub_labels>0, drop=False, other=np.nan)\n",
    "\n",
    "sub_labels[timestep,:,:].plot.imshow(figsize=(10,5)); plt.axvline(x=180); plt.show()\n",
    "\n",
    "for p in range(1, sub_labels.shape[0]):\n",
    "    sub_labels[p,:,:] = sub_labels[p,:,:].values + sub_labels[p-1,:,:].max().values\n",
    "\n",
    "sub_labels[timestep,:,:].plot.imshow(figsize=(10,5)); plt.axvline(x=180); plt.show()\n",
    "\n",
    "centroid = []\n",
    "# for s in np.arange(0, sub_labels_wrapped.shape[0]):\n",
    "lx = sub_labels.isel(time=timestep)\n",
    "east = lx.where(lx.lon < 180, drop=True)\n",
    "east['lon'] = np.arange(360.125, 540.125, 1.25) # this value is related to your grid resolution\n",
    "    # east['lon'] = np.arange(360.125, 540.125, .25)\n",
    "append_east = xr.concat([lx.where(lx.lon >= 180, drop=True), east], dim=\"lon\")\n",
    "centroid = _get_centroids(append_east)\n",
    "append_east.plot.imshow(figsize=(10,5)); \n",
    "plt.scatter(lon, lat, c='red')\n",
    "plt.show()\n",
    "print(centroid)"
   ]
  },
  {
   "cell_type": "code",
   "execution_count": null,
   "id": "cfc8a97f-11ac-4db4-845b-3cf11b9476dd",
   "metadata": {},
   "outputs": [],
   "source": []
  },
  {
   "cell_type": "code",
   "execution_count": 327,
   "id": "518b9830-f5d6-43cf-bc51-781929868fd5",
   "metadata": {},
   "outputs": [
    {
     "name": "stdout",
     "output_type": "stream",
     "text": [
      "[363.875, 265.0, 407.625]\n",
      "[-5.18324607329843, 73.97905759162303, 79.63350785340315]\n"
     ]
    }
   ],
   "source": [
    "lon = [i[1] for i in centroid]; print(lon)\n",
    "lat = [i[0] for i in centroid]; print(lat)"
   ]
  },
  {
   "cell_type": "code",
   "execution_count": 237,
   "id": "8e09329f-85ad-41a8-96a0-463d7c7b2ab8",
   "metadata": {},
   "outputs": [
    {
     "name": "stdout",
     "output_type": "stream",
     "text": [
      "[11. 13.]\n",
      "(0, 11.0)\n",
      "[11. 12.]\n",
      "[False  True]\n"
     ]
    },
    {
     "data": {
      "text/plain": [
       "<matplotlib.collections.PolyCollection at 0x2b7d62385430>"
      ]
     },
     "execution_count": 237,
     "metadata": {},
     "output_type": "execute_result"
    },
    {
     "data": {
      "image/png": "[encoded data removed]",
      "text/plain": [
       "<Figure size 432x288 with 1 Axes>"
      ]
     },
     "metadata": {
      "needs_background": "light"
     },
     "output_type": "display_data"
    },
    {
     "data": {
      "text/plain": [
       "<matplotlib.collections.PolyCollection at 0x2b7d63f87fd0>"
      ]
     },
     "execution_count": 237,
     "metadata": {},
     "output_type": "execute_result"
    },
    {
     "data": {
      "image/png": "[encoded data removed]",
      "text/plain": [
       "<Figure size 432x288 with 1 Axes>"
      ]
     },
     "metadata": {
      "needs_background": "light"
     },
     "output_type": "display_data"
    },
    {
     "data": {
      "text/plain": [
       "<matplotlib.collections.PolyCollection at 0x2b7d5eb34e20>"
      ]
     },
     "execution_count": 237,
     "metadata": {},
     "output_type": "execute_result"
    },
    {
     "data": {
      "image/png": "[encoded data removed]",
      "text/plain": [
       "<Figure size 432x288 with 1 Axes>"
      ]
     },
     "metadata": {
      "needs_background": "light"
     },
     "output_type": "display_data"
    },
    {
     "name": "stdout",
     "output_type": "stream",
     "text": [
      "(1, 13.0)\n",
      "[12.]\n",
      "[False]\n"
     ]
    },
    {
     "data": {
      "text/plain": [
       "<matplotlib.collections.PolyCollection at 0x2b7d51754f70>"
      ]
     },
     "execution_count": 237,
     "metadata": {},
     "output_type": "execute_result"
    },
    {
     "data": {
      "image/png": "[encoded data removed]",
      "text/plain": [
       "<Figure size 432x288 with 1 Axes>"
      ]
     },
     "metadata": {
      "needs_background": "light"
     },
     "output_type": "display_data"
    },
    {
     "data": {
      "text/plain": [
       "<matplotlib.collections.PolyCollection at 0x2b7d550972b0>"
      ]
     },
     "execution_count": 237,
     "metadata": {},
     "output_type": "execute_result"
    },
    {
     "data": {
      "image/png": "[encoded data removed]",
      "text/plain": [
       "<Figure size 432x288 with 1 Axes>"
      ]
     },
     "metadata": {
      "needs_background": "light"
     },
     "output_type": "display_data"
    },
    {
     "data": {
      "text/plain": [
       "<matplotlib.collections.PolyCollection at 0x2b7d57c5d8b0>"
      ]
     },
     "execution_count": 237,
     "metadata": {},
     "output_type": "execute_result"
    },
    {
     "data": {
      "image/png": "[encoded data removed]",
      "text/plain": [
       "<Figure size 432x288 with 1 Axes>"
      ]
     },
     "metadata": {
      "needs_background": "light"
     },
     "output_type": "display_data"
    }
   ],
   "source": [
    "labels = sub_labels[timestep:(timestep+1),:,:]\n",
    "\n",
    "first_column = labels[..., 0]\n",
    "last_column = labels[..., -1]\n",
    "\n",
    "stacked = first_column.stack(z=['time','lat'])\n",
    "unique_first = np.unique(stacked[stacked.notnull()])\n",
    "print(unique_first)\n",
    "for i in enumerate(unique_first):\n",
    "    print(i)\n",
    "    first = np.where(first_column == i[1])\n",
    "    last = last_column[first[0], first[1]]\n",
    "    stacked = last.stack(z=['time','lat'])\n",
    "    bad_labels = np.unique(stacked[stacked.notnull()])\n",
    "    print(bad_labels)\n",
    "    replace = np.isin(labels, bad_labels)\n",
    "    print(np.unique(replace))\n",
    "    plt.pcolor(replace[0,:,:]); plt.show()\n",
    "    labels = labels.where(replace==False, other=i[1])\n",
    "    plt.pcolor(labels[0,:,:]); plt.show()\n",
    "\n",
    "    labels = labels.fillna(0)\n",
    "    labels_wrapped = np.unique(labels, return_inverse=True)[1].reshape(labels.shape)\n",
    "    plt.pcolor(labels_wrapped[0,:,:]); plt.show()\n",
    "#     labels_wrapped = xr.DataArray(labels_wrapped, dims=labels.dims, coords=labels.coords)\n",
    "\n",
    "    # return labels_wrapped\n"
   ]
  },
  {
   "cell_type": "code",
   "execution_count": 222,
   "id": "81fc98a0-fb28-40d2-895c-ff0aa9d9502b",
   "metadata": {},
   "outputs": [
    {
     "ename": "IndexError",
     "evalue": "too many indices",
     "output_type": "error",
     "traceback": [
      "\u001b[0;31m---------------------------------------------------------------------------\u001b[0m",
      "\u001b[0;31mIndexError\u001b[0m                                Traceback (most recent call last)",
      "\u001b[0;32m/glade/scratch/cassiacai/ipykernel_7723/3719773273.py\u001b[0m in \u001b[0;36m<module>\u001b[0;34m\u001b[0m\n\u001b[0;32m----> 1\u001b[0;31m \u001b[0mlast_column\u001b[0m\u001b[0;34m[\u001b[0m\u001b[0mfirst\u001b[0m\u001b[0;34m[\u001b[0m\u001b[0;36m0\u001b[0m\u001b[0;34m]\u001b[0m\u001b[0;34m,\u001b[0m\u001b[0;34m:\u001b[0m\u001b[0;34m]\u001b[0m\u001b[0;34m\u001b[0m\u001b[0;34m\u001b[0m\u001b[0m\n\u001b[0m",
      "\u001b[0;32m~/miniconda3/envs/test-env/lib/python3.9/site-packages/xarray/core/dataarray.py\u001b[0m in \u001b[0;36m__getitem__\u001b[0;34m(self, key)\u001b[0m\n\u001b[1;32m    748\u001b[0m         \u001b[0;32melse\u001b[0m\u001b[0;34m:\u001b[0m\u001b[0;34m\u001b[0m\u001b[0;34m\u001b[0m\u001b[0m\n\u001b[1;32m    749\u001b[0m             \u001b[0;31m# xarray-style array indexing\u001b[0m\u001b[0;34m\u001b[0m\u001b[0;34m\u001b[0m\u001b[0m\n\u001b[0;32m--> 750\u001b[0;31m             \u001b[0;32mreturn\u001b[0m \u001b[0mself\u001b[0m\u001b[0;34m.\u001b[0m\u001b[0misel\u001b[0m\u001b[0;34m(\u001b[0m\u001b[0mindexers\u001b[0m\u001b[0;34m=\u001b[0m\u001b[0mself\u001b[0m\u001b[0;34m.\u001b[0m\u001b[0m_item_key_to_dict\u001b[0m\u001b[0;34m(\u001b[0m\u001b[0mkey\u001b[0m\u001b[0;34m)\u001b[0m\u001b[0;34m)\u001b[0m\u001b[0;34m\u001b[0m\u001b[0;34m\u001b[0m\u001b[0m\n\u001b[0m\u001b[1;32m    751\u001b[0m \u001b[0;34m\u001b[0m\u001b[0m\n\u001b[1;32m    752\u001b[0m     \u001b[0;32mdef\u001b[0m \u001b[0m__setitem__\u001b[0m\u001b[0;34m(\u001b[0m\u001b[0mself\u001b[0m\u001b[0;34m,\u001b[0m \u001b[0mkey\u001b[0m\u001b[0;34m:\u001b[0m \u001b[0mAny\u001b[0m\u001b[0;34m,\u001b[0m \u001b[0mvalue\u001b[0m\u001b[0;34m:\u001b[0m \u001b[0mAny\u001b[0m\u001b[0;34m)\u001b[0m \u001b[0;34m->\u001b[0m \u001b[0;32mNone\u001b[0m\u001b[0;34m:\u001b[0m\u001b[0;34m\u001b[0m\u001b[0;34m\u001b[0m\u001b[0m\n",
      "\u001b[0;32m~/miniconda3/envs/test-env/lib/python3.9/site-packages/xarray/core/dataarray.py\u001b[0m in \u001b[0;36m_item_key_to_dict\u001b[0;34m(self, key)\u001b[0m\n\u001b[1;32m    712\u001b[0m         \u001b[0;32mif\u001b[0m \u001b[0mutils\u001b[0m\u001b[0;34m.\u001b[0m\u001b[0mis_dict_like\u001b[0m\u001b[0;34m(\u001b[0m\u001b[0mkey\u001b[0m\u001b[0;34m)\u001b[0m\u001b[0;34m:\u001b[0m\u001b[0;34m\u001b[0m\u001b[0;34m\u001b[0m\u001b[0m\n\u001b[1;32m    713\u001b[0m             \u001b[0;32mreturn\u001b[0m \u001b[0mkey\u001b[0m\u001b[0;34m\u001b[0m\u001b[0;34m\u001b[0m\u001b[0m\n\u001b[0;32m--> 714\u001b[0;31m         \u001b[0mkey\u001b[0m \u001b[0;34m=\u001b[0m \u001b[0mindexing\u001b[0m\u001b[0;34m.\u001b[0m\u001b[0mexpanded_indexer\u001b[0m\u001b[0;34m(\u001b[0m\u001b[0mkey\u001b[0m\u001b[0;34m,\u001b[0m \u001b[0mself\u001b[0m\u001b[0;34m.\u001b[0m\u001b[0mndim\u001b[0m\u001b[0;34m)\u001b[0m\u001b[0;34m\u001b[0m\u001b[0;34m\u001b[0m\u001b[0m\n\u001b[0m\u001b[1;32m    715\u001b[0m         \u001b[0;32mreturn\u001b[0m \u001b[0mdict\u001b[0m\u001b[0;34m(\u001b[0m\u001b[0mzip\u001b[0m\u001b[0;34m(\u001b[0m\u001b[0mself\u001b[0m\u001b[0;34m.\u001b[0m\u001b[0mdims\u001b[0m\u001b[0;34m,\u001b[0m \u001b[0mkey\u001b[0m\u001b[0;34m)\u001b[0m\u001b[0;34m)\u001b[0m\u001b[0;34m\u001b[0m\u001b[0;34m\u001b[0m\u001b[0m\n\u001b[1;32m    716\u001b[0m \u001b[0;34m\u001b[0m\u001b[0m\n",
      "\u001b[0;32m~/miniconda3/envs/test-env/lib/python3.9/site-packages/xarray/core/indexing.py\u001b[0m in \u001b[0;36mexpanded_indexer\u001b[0;34m(key, ndim)\u001b[0m\n\u001b[1;32m     44\u001b[0m             \u001b[0mnew_key\u001b[0m\u001b[0;34m.\u001b[0m\u001b[0mappend\u001b[0m\u001b[0;34m(\u001b[0m\u001b[0mk\u001b[0m\u001b[0;34m)\u001b[0m\u001b[0;34m\u001b[0m\u001b[0;34m\u001b[0m\u001b[0m\n\u001b[1;32m     45\u001b[0m     \u001b[0;32mif\u001b[0m \u001b[0mlen\u001b[0m\u001b[0;34m(\u001b[0m\u001b[0mnew_key\u001b[0m\u001b[0;34m)\u001b[0m \u001b[0;34m>\u001b[0m \u001b[0mndim\u001b[0m\u001b[0;34m:\u001b[0m\u001b[0;34m\u001b[0m\u001b[0;34m\u001b[0m\u001b[0m\n\u001b[0;32m---> 46\u001b[0;31m         \u001b[0;32mraise\u001b[0m \u001b[0mIndexError\u001b[0m\u001b[0;34m(\u001b[0m\u001b[0;34m\"too many indices\"\u001b[0m\u001b[0;34m)\u001b[0m\u001b[0;34m\u001b[0m\u001b[0;34m\u001b[0m\u001b[0m\n\u001b[0m\u001b[1;32m     47\u001b[0m     \u001b[0mnew_key\u001b[0m\u001b[0;34m.\u001b[0m\u001b[0mextend\u001b[0m\u001b[0;34m(\u001b[0m\u001b[0;34m(\u001b[0m\u001b[0mndim\u001b[0m \u001b[0;34m-\u001b[0m \u001b[0mlen\u001b[0m\u001b[0;34m(\u001b[0m\u001b[0mnew_key\u001b[0m\u001b[0;34m)\u001b[0m\u001b[0;34m)\u001b[0m \u001b[0;34m*\u001b[0m \u001b[0;34m[\u001b[0m\u001b[0mslice\u001b[0m\u001b[0;34m(\u001b[0m\u001b[0;32mNone\u001b[0m\u001b[0;34m)\u001b[0m\u001b[0;34m]\u001b[0m\u001b[0;34m)\u001b[0m\u001b[0;34m\u001b[0m\u001b[0;34m\u001b[0m\u001b[0m\n\u001b[1;32m     48\u001b[0m     \u001b[0;32mreturn\u001b[0m \u001b[0mtuple\u001b[0m\u001b[0;34m(\u001b[0m\u001b[0mnew_key\u001b[0m\u001b[0;34m)\u001b[0m\u001b[0;34m\u001b[0m\u001b[0;34m\u001b[0m\u001b[0m\n",
      "\u001b[0;31mIndexError\u001b[0m: too many indices"
     ]
    }
   ],
   "source": [
    "last_column[first[0],:]"
   ]
  },
  {
   "cell_type": "code",
   "execution_count": 206,
   "id": "64c8b3bf-ad3c-45bc-956c-a3fe38a81602",
   "metadata": {},
   "outputs": [
    {
     "data": {
      "text/plain": [
       "<matplotlib.image.AxesImage at 0x2b7d4e1651c0>"
      ]
     },
     "execution_count": 206,
     "metadata": {},
     "output_type": "execute_result"
    },
    {
     "data": {
      "image/png": "[encoded data removed]",
      "text/plain": [
       "<Figure size 432x288 with 2 Axes>"
      ]
     },
     "metadata": {
      "needs_background": "light"
     },
     "output_type": "display_data"
    },
    {
     "name": "stdout",
     "output_type": "stream",
     "text": [
      "[11. 12. 13.]\n",
      "[30.]\n"
     ]
    },
    {
     "data": {
      "text/plain": [
       "<matplotlib.image.AxesImage at 0x2b7d4e21c130>"
      ]
     },
     "execution_count": 206,
     "metadata": {},
     "output_type": "execute_result"
    },
    {
     "data": {
      "image/png": "[encoded data removed]",
      "text/plain": [
       "<Figure size 432x288 with 2 Axes>"
      ]
     },
     "metadata": {
      "needs_background": "light"
     },
     "output_type": "display_data"
    },
    {
     "data": {
      "text/plain": [
       "<matplotlib.collections.PolyCollection at 0x2b7d4e2ddfd0>"
      ]
     },
     "execution_count": 206,
     "metadata": {},
     "output_type": "execute_result"
    },
    {
     "data": {
      "image/png": "[encoded data removed]",
      "text/plain": [
       "<Figure size 432x288 with 1 Axes>"
      ]
     },
     "metadata": {
      "needs_background": "light"
     },
     "output_type": "display_data"
    }
   ],
   "source": [
    "labels[timestep,:,:].plot.imshow(); plt.show()\n",
    "print(np.unique(labels[timestep,:,:]))\n",
    "\n",
    "bad_labels = np.unique(stacked[stacked.notnull()])\n",
    "print(bad_labels)\n",
    "labels[timestep,:,:].plot.imshow(); plt.show()\n",
    "\n",
    "plt.pcolor(replace[timestep])"
   ]
  },
  {
   "cell_type": "code",
   "execution_count": 160,
   "id": "34d40012-fd71-4cad-81e7-1fe68a9730f1",
   "metadata": {},
   "outputs": [
    {
     "name": "stdout",
     "output_type": "stream",
     "text": [
      "[[(32.5130890052356, 340.0)], [(-1.4136125654450267, 360.125), (57.95811518324607, 293.75)], [(-0.4712041884816759, 358.75), (82.46073298429319, 402.625)], [(-0.4712041884816759, 358.75), (80.57591623036649, 403.875)], [(-1.4136125654450267, 358.75), (79.63350785340315, 407.625)], [(-1.4136125654450267, 358.75), (79.63350785340315, 411.375)], [(-4.240837696335079, 362.625), (77.74869109947645, 305.0)], [(-1.4136125654450267, 358.75), (81.51832460732984, 412.625)], [(0.4712041884816749, 360.125)], [(-0.4712041884816759, 358.75), (69.26701570680628, 375.125)]]\n"
     ]
    }
   ],
   "source": [
    "sub_labels = _get_labels(all_timesteps)\n",
    "sub_labels = xr.DataArray(sub_labels, dims=all_timesteps.dims, coords=all_timesteps.coords)\n",
    "sub_labels = sub_labels.where(sub_labels>0, drop=False, other=np.nan) \n",
    "\n",
    "# The labels are repeated each time step, therefore we relabel them to be consecutive\n",
    "for p in range(1, sub_labels.shape[0]):\n",
    "        sub_labels[p,:,:] = sub_labels[p,:,:].values + sub_labels[p-1,:,:].max().values\n",
    "sub_labels_wrapped = _wrap(sub_labels)\n",
    "\n",
    "centroid = []\n",
    "for s in np.arange(0, sub_labels_wrapped.shape[0]):\n",
    "    lx = sub_labels_wrapped.isel(time=s)\n",
    "    east = lx.where(lx.lon < 180, drop=True)\n",
    "    east['lon'] = np.arange(360.125, 540.125, 1.25) # this value is related to your grid resolution\n",
    "    # east['lon'] = np.arange(360.125, 540.125, .25)\n",
    "    append_east = xr.concat([lx.where(lx.lon >= 180, drop=True), east], dim=\"lon\")\n",
    "    centroid.append(_get_centroids(append_east))\n",
    "\n",
    "print(centroid)"
   ]
  },
  {
   "cell_type": "code",
   "execution_count": 143,
   "id": "24147bcf-39d2-4141-94d6-cb76dc4132b1",
   "metadata": {
    "collapsed": true,
    "jupyter": {
     "outputs_hidden": true
    },
    "tags": []
   },
   "outputs": [
    {
     "data": {
      "text/plain": [
       "<matplotlib.image.AxesImage at 0x2b7d0c329fd0>"
      ]
     },
     "execution_count": 143,
     "metadata": {},
     "output_type": "execute_result"
    },
    {
     "data": {
      "image/png": "[encoded data removed]",
      "text/plain": [
       "<Figure size 432x288 with 2 Axes>"
      ]
     },
     "metadata": {
      "needs_background": "light"
     },
     "output_type": "display_data"
    },
    {
     "name": "stdout",
     "output_type": "stream",
     "text": [
      "<xarray.DataArray 'lon' (lon: 144)>\n",
      "array([  0.  ,   1.25,   2.5 ,   3.75,   5.  ,   6.25,   7.5 ,   8.75,  10.  ,\n",
      "        11.25,  12.5 ,  13.75,  15.  ,  16.25,  17.5 ,  18.75,  20.  ,  21.25,\n",
      "        22.5 ,  23.75,  25.  ,  26.25,  27.5 ,  28.75,  30.  ,  31.25,  32.5 ,\n",
      "        33.75,  35.  ,  36.25,  37.5 ,  38.75,  40.  ,  41.25,  42.5 ,  43.75,\n",
      "        45.  ,  46.25,  47.5 ,  48.75,  50.  ,  51.25,  52.5 ,  53.75,  55.  ,\n",
      "        56.25,  57.5 ,  58.75,  60.  ,  61.25,  62.5 ,  63.75,  65.  ,  66.25,\n",
      "        67.5 ,  68.75,  70.  ,  71.25,  72.5 ,  73.75,  75.  ,  76.25,  77.5 ,\n",
      "        78.75,  80.  ,  81.25,  82.5 ,  83.75,  85.  ,  86.25,  87.5 ,  88.75,\n",
      "        90.  ,  91.25,  92.5 ,  93.75,  95.  ,  96.25,  97.5 ,  98.75, 100.  ,\n",
      "       101.25, 102.5 , 103.75, 105.  , 106.25, 107.5 , 108.75, 110.  , 111.25,\n",
      "       112.5 , 113.75, 115.  , 116.25, 117.5 , 118.75, 120.  , 121.25, 122.5 ,\n",
      "       123.75, 125.  , 126.25, 127.5 , 128.75, 130.  , 131.25, 132.5 , 133.75,\n",
      "       135.  , 136.25, 137.5 , 138.75, 140.  , 141.25, 142.5 , 143.75, 145.  ,\n",
      "       146.25, 147.5 , 148.75, 150.  , 151.25, 152.5 , 153.75, 155.  , 156.25,\n",
      "       157.5 , 158.75, 160.  , 161.25, 162.5 , 163.75, 165.  , 166.25, 167.5 ,\n",
      "       168.75, 170.  , 171.25, 172.5 , 173.75, 175.  , 176.25, 177.5 , 178.75])\n",
      "Coordinates:\n",
      "  * lon        (lon) float64 0.0 1.25 2.5 3.75 5.0 ... 175.0 176.2 177.5 178.8\n",
      "    time       object 1852-10-01 00:00:00\n",
      "    member_id  <U11 'r2i1021p1f1'\n",
      "    quantile   float64 0.9\n",
      "    month      int64 10\n",
      "Attributes:\n",
      "    long_name:  longitude\n",
      "    units:      degrees_east\n",
      "<xarray.DataArray 'lon' (lon: 144)>\n",
      "array([360.  , 361.25, 362.5 , 363.75, 365.  , 366.25, 367.5 , 368.75, 370.  ,\n",
      "       371.25, 372.5 , 373.75, 375.  , 376.25, 377.5 , 378.75, 380.  , 381.25,\n",
      "       382.5 , 383.75, 385.  , 386.25, 387.5 , 388.75, 390.  , 391.25, 392.5 ,\n",
      "       393.75, 395.  , 396.25, 397.5 , 398.75, 400.  , 401.25, 402.5 , 403.75,\n",
      "       405.  , 406.25, 407.5 , 408.75, 410.  , 411.25, 412.5 , 413.75, 415.  ,\n",
      "       416.25, 417.5 , 418.75, 420.  , 421.25, 422.5 , 423.75, 425.  , 426.25,\n",
      "       427.5 , 428.75, 430.  , 431.25, 432.5 , 433.75, 435.  , 436.25, 437.5 ,\n",
      "       438.75, 440.  , 441.25, 442.5 , 443.75, 445.  , 446.25, 447.5 , 448.75,\n",
      "       450.  , 451.25, 452.5 , 453.75, 455.  , 456.25, 457.5 , 458.75, 460.  ,\n",
      "       461.25, 462.5 , 463.75, 465.  , 466.25, 467.5 , 468.75, 470.  , 471.25,\n",
      "       472.5 , 473.75, 475.  , 476.25, 477.5 , 478.75, 480.  , 481.25, 482.5 ,\n",
      "       483.75, 485.  , 486.25, 487.5 , 488.75, 490.  , 491.25, 492.5 , 493.75,\n",
      "       495.  , 496.25, 497.5 , 498.75, 500.  , 501.25, 502.5 , 503.75, 505.  ,\n",
      "       506.25, 507.5 , 508.75, 510.  , 511.25, 512.5 , 513.75, 515.  , 516.25,\n",
      "       517.5 , 518.75, 520.  , 521.25, 522.5 , 523.75, 525.  , 526.25, 527.5 ,\n",
      "       528.75, 530.  , 531.25, 532.5 , 533.75, 535.  , 536.25, 537.5 , 538.75])\n",
      "Coordinates:\n",
      "  * lon        (lon) float64 360.0 361.2 362.5 363.8 ... 535.0 536.2 537.5 538.8\n",
      "    time       object 1852-10-01 00:00:00\n",
      "    member_id  <U11 'r2i1021p1f1'\n",
      "    quantile   float64 0.9\n",
      "    month      int64 10\n",
      "*******\n",
      "<xarray.DataArray (lat: 192, lon: 288)>\n",
      "array([[0., 0., 0., ..., 0., 0., 0.],\n",
      "       [0., 0., 0., ..., 0., 0., 0.],\n",
      "       [0., 0., 0., ..., 0., 0., 0.],\n",
      "       ...,\n",
      "       [0., 0., 0., ..., 0., 0., 0.],\n",
      "       [0., 0., 0., ..., 0., 0., 0.],\n",
      "       [0., 0., 0., ..., 0., 0., 0.]])\n",
      "Coordinates:\n",
      "  * lat        (lat) float64 -90.0 -89.06 -88.12 -87.17 ... 88.12 89.06 90.0\n",
      "  * lon        (lon) float64 180.0 181.2 182.5 183.8 ... 535.0 536.2 537.5 538.8\n",
      "    time       object 1852-10-01 00:00:00\n",
      "    member_id  <U11 'r2i1021p1f1'\n",
      "    quantile   float64 0.9\n",
      "    month      int64 10\n"
     ]
    },
    {
     "data": {
      "text/plain": [
       "<matplotlib.image.AxesImage at 0x2b7d0c3a4ee0>"
      ]
     },
     "execution_count": 143,
     "metadata": {},
     "output_type": "execute_result"
    },
    {
     "data": {
      "image/png": "[encoded data removed]",
      "text/plain": [
       "<Figure size 432x288 with 2 Axes>"
      ]
     },
     "metadata": {
      "needs_background": "light"
     },
     "output_type": "display_data"
    },
    {
     "data": {
      "text/plain": [
       "<matplotlib.image.AxesImage at 0x2b7d0c45e820>"
      ]
     },
     "execution_count": 143,
     "metadata": {},
     "output_type": "execute_result"
    },
    {
     "data": {
      "image/png": "[encoded data removed]",
      "text/plain": [
       "<Figure size 432x288 with 2 Axes>"
      ]
     },
     "metadata": {
      "needs_background": "light"
     },
     "output_type": "display_data"
    },
    {
     "name": "stdout",
     "output_type": "stream",
     "text": [
      "[(32.5130890052356, 340.0)]\n"
     ]
    }
   ],
   "source": [
    "lx = sub_labels_wrapped.isel(time=0)\n",
    "lx.plot.imshow()\n",
    "plt.show()\n",
    "east = lx.where(lx.lon < 180, drop=True)\n",
    "print(east['lon'])\n",
    "east['lon'] = np.arange(360, 540, 1.25)\n",
    "print(east['lon'])\n",
    "append_east = xr.concat([lx.where(lx.lon >= 180, drop=True), east], dim=\"lon\")\n",
    "print('*******')\n",
    "print(append_east)\n",
    "east.plot.imshow()\n",
    "plt.show()\n",
    "append_east.plot.imshow()\n",
    "plt.show()\n",
    "value = _get_centroids(append_east)\n",
    "print(value)"
   ]
  },
  {
   "cell_type": "code",
   "execution_count": 141,
   "id": "618cff98-c0d7-4d2a-a1bd-4fbdc00d42c2",
   "metadata": {
    "collapsed": true,
    "jupyter": {
     "outputs_hidden": true
    },
    "tags": []
   },
   "outputs": [
    {
     "data": {
      "text/plain": [
       "<matplotlib.image.AxesImage at 0x2b7d10fdde20>"
      ]
     },
     "execution_count": 141,
     "metadata": {},
     "output_type": "execute_result"
    },
    {
     "data": {
      "text/plain": [
       "<matplotlib.lines.Line2D at 0x2b7d117b98b0>"
      ]
     },
     "execution_count": 141,
     "metadata": {},
     "output_type": "execute_result"
    },
    {
     "data": {
      "text/plain": [
       "<matplotlib.lines.Line2D at 0x2b7d119c7e50>"
      ]
     },
     "execution_count": 141,
     "metadata": {},
     "output_type": "execute_result"
    },
    {
     "data": {
      "image/png": "[encoded data removed]",
      "text/plain": [
       "<Figure size 432x288 with 2 Axes>"
      ]
     },
     "metadata": {
      "needs_background": "light"
     },
     "output_type": "display_data"
    },
    {
     "name": "stdout",
     "output_type": "stream",
     "text": [
      "[(32.5130890052356, 340.0)]\n"
     ]
    },
    {
     "data": {
      "text/plain": [
       "<matplotlib.image.AxesImage at 0x2b7d10ac90a0>"
      ]
     },
     "execution_count": 141,
     "metadata": {},
     "output_type": "execute_result"
    },
    {
     "data": {
      "text/plain": [
       "<matplotlib.lines.Line2D at 0x2b7d10e61b20>"
      ]
     },
     "execution_count": 141,
     "metadata": {},
     "output_type": "execute_result"
    },
    {
     "data": {
      "text/plain": [
       "<matplotlib.lines.Line2D at 0x2b7d10e63280>"
      ]
     },
     "execution_count": 141,
     "metadata": {},
     "output_type": "execute_result"
    },
    {
     "data": {
      "text/plain": [
       "<matplotlib.lines.Line2D at 0x2b7d119689a0>"
      ]
     },
     "execution_count": 141,
     "metadata": {},
     "output_type": "execute_result"
    },
    {
     "data": {
      "image/png": "[encoded data removed]",
      "text/plain": [
       "<Figure size 432x288 with 2 Axes>"
      ]
     },
     "metadata": {
      "needs_background": "light"
     },
     "output_type": "display_data"
    }
   ],
   "source": [
    "append_east.plot.imshow()\n",
    "plt.axvline(x=340)\n",
    "plt.axhline(y=32.5130890052356)\n",
    "plt.show()\n",
    "value = _get_centroids(append_east)\n",
    "print(value)\n",
    "\n",
    "sub_labels_wrapped[0].plot.imshow()\n",
    "plt.axvline(x=340/2)\n",
    "plt.axvline(x=177,c='red')\n",
    "\n",
    "plt.axhline(y=32.5130890052356)\n",
    "# plt.show()\n",
    "# value = _get_centroids(append_east)\n",
    "# print(value)"
   ]
  },
  {
   "cell_type": "code",
   "execution_count": 69,
   "id": "e20d3dfd-15e2-40a3-b155-619e4c50cf95",
   "metadata": {},
   "outputs": [
    {
     "name": "stdout",
     "output_type": "stream",
     "text": [
      "(-1.4136125654450267, 57.95811518324607)\n",
      "(0.25, 293.75)\n"
     ]
    }
   ],
   "source": [
    "x_val = list(zip(*centroid[1]))[0]\n",
    "print(x_val)\n",
    "y_val = list(zip(*centroid[1]))[1]\n",
    "print(y_val)"
   ]
  },
  {
   "cell_type": "code",
   "execution_count": 150,
   "id": "a90a80e1-3077-40a9-a585-5c011037e708",
   "metadata": {},
   "outputs": [
    {
     "data": {
      "text/plain": [
       "<matplotlib.collections.PolyCollection at 0x2b7d82ebabe0>"
      ]
     },
     "execution_count": 150,
     "metadata": {},
     "output_type": "execute_result"
    },
    {
     "data": {
      "image/png": "[encoded data removed]",
      "text/plain": [
       "<Figure size 432x288 with 1 Axes>"
      ]
     },
     "metadata": {
      "needs_background": "light"
     },
     "output_type": "display_data"
    }
   ],
   "source": [
    "plt.pcolor(sub_labels_wrapped[5,:,:])\n",
    "# plt.scatter(centroid[0][0][1],centroid[0][0][0])\n"
   ]
  },
  {
   "cell_type": "code",
   "execution_count": 115,
   "id": "589c6bc8-b01e-4b03-bba1-8c1a5a949170",
   "metadata": {},
   "outputs": [
    {
     "data": {
      "text/plain": [
       "<matplotlib.image.AxesImage at 0x2b7d108880a0>"
      ]
     },
     "execution_count": 115,
     "metadata": {},
     "output_type": "execute_result"
    },
    {
     "data": {
      "image/png": "[encoded data removed]",
      "text/plain": [
       "<Figure size 432x288 with 2 Axes>"
      ]
     },
     "metadata": {
      "needs_background": "light"
     },
     "output_type": "display_data"
    }
   ],
   "source": [
    "sub_labels = _get_labels(all_timesteps)\n",
    "sub_labels = xr.DataArray(sub_labels, dims=all_timesteps.dims, coords=all_timesteps.coords)\n",
    "sub_labels = sub_labels.where(sub_labels>0, drop=False, other=np.nan) \n",
    "\n",
    "# The labels are repeated each time step, therefore we relabel them to be consecutive\n",
    "for p in range(1, sub_labels.shape[0]):\n",
    "    sub_labels[p,:,:] = sub_labels[p,:,:].values + sub_labels[p-1,:,:].max().values\n",
    "    \n",
    "sub_labels_wrapped = _wrap(sub_labels)\n",
    "sub_labels_wrapped[0].plot.imshow()\n",
    "# centroid = []\n",
    "# for s in np.arange(0, sub_labels_wrapped.shape[0]):\n",
    "#     lx = sub_labels_wrapped.isel(time=s)\n",
    "#     east = lx.where(lx.lon < 180, drop=True)\n",
    "#     east['lon'] = np.arange(360.125, 540.125, 1.25)\n",
    "#     append_east = xr.concat([lx.where(lx.lon >= 180, drop=True), east], dim=\"lon\")\n",
    "#     centroid.append(_get_centroids(append_east))\n",
    "# print(centroid)\n",
    "# plt.pcolor(sub_labels[0,:,:])\n",
    "# plt.show()\n",
    "\n",
    "# sub_labels_wrapped = _wrap(sub_labels)\n",
    "# plt.pcolor(sub_labels_wrapped[0,:,:])\n",
    "# plt.show()"
   ]
  },
  {
   "cell_type": "code",
   "execution_count": 107,
   "id": "766f606b-3cb6-42d7-b3db-ea42709bf7cb",
   "metadata": {},
   "outputs": [
    {
     "data": {
      "text/plain": [
       "<matplotlib.image.AxesImage at 0x2b7d106cde50>"
      ]
     },
     "execution_count": 107,
     "metadata": {},
     "output_type": "execute_result"
    },
    {
     "data": {
      "image/png": "[encoded data removed]",
      "text/plain": [
       "<Figure size 432x288 with 2 Axes>"
      ]
     },
     "metadata": {
      "needs_background": "light"
     },
     "output_type": "display_data"
    }
   ],
   "source": [
    "sub_labels_wrapped[1].plot.imshow()\n",
    "props = regionprops(sub_labels.astype('int'))\n"
   ]
  },
  {
   "cell_type": "code",
   "execution_count": 103,
   "id": "6e57cac3-689d-40aa-bdf7-d21b03045a9f",
   "metadata": {},
   "outputs": [
    {
     "name": "stdout",
     "output_type": "stream",
     "text": [
      "[(-1.4136125654450267, 178.75), (57.95811518324607, 207.5)]\n"
     ]
    },
    {
     "data": {
      "text/plain": [
       "<matplotlib.image.AxesImage at 0x2b7d105581c0>"
      ]
     },
     "execution_count": 103,
     "metadata": {},
     "output_type": "execute_result"
    },
    {
     "data": {
      "text/plain": [
       "<matplotlib.collections.PathCollection at 0x2b7d10446d00>"
      ]
     },
     "execution_count": 103,
     "metadata": {},
     "output_type": "execute_result"
    },
    {
     "data": {
      "image/png": "[encoded data removed]",
      "text/plain": [
       "<Figure size 432x288 with 2 Axes>"
      ]
     },
     "metadata": {
      "needs_background": "light"
     },
     "output_type": "display_data"
    }
   ],
   "source": [
    "sub_labels = sub_labels_wrapped[1]\n",
    "\n",
    "props = regionprops(sub_labels.astype('int'))\n",
    "centroids = [(float(sub_labels.lat[round(p.centroid[0])].values),float(sub_labels.lon[round(p.centroid[1])].values)) for p in props]\n",
    "print(centroids)\n",
    "\n",
    "sub_labels.plot.imshow()\n",
    "plt.scatter(centroids[0][1], centroids[0][0])\n",
    "plt.show()"
   ]
  },
  {
   "cell_type": "code",
   "execution_count": 102,
   "id": "5bca5a66-c74e-4f36-8979-9e4a4b7cd95d",
   "metadata": {},
   "outputs": [
    {
     "name": "stdout",
     "output_type": "stream",
     "text": [
      "(32.5130890052356, 177.5)\n",
      "177.5\n",
      "[(32.5130890052356, 177.5)]\n"
     ]
    }
   ],
   "source": [
    "for i in range(0,len(centroids)):\n",
    "    print(centroids[i])\n",
    "    print(centroids[i][1])\n",
    "    if centroids[i][1] >= 359.875:\n",
    "        centroids[i] = (centroids[i][0], list(centroids[i])[1] - 359.875)\n",
    "print(centroids)"
   ]
  },
  {
   "cell_type": "code",
   "execution_count": 110,
   "id": "4f887265-61d1-4f0d-a69a-e6df1f2b2daa",
   "metadata": {},
   "outputs": [
    {
     "name": "stdout",
     "output_type": "stream",
     "text": [
      "[[(32.5130890052356, 340.0)], [(-1.4136125654450267, 360.125), (57.95811518324607, 293.75)], [(-0.4712041884816759, 358.75), (82.46073298429319, 402.625)], [(-0.4712041884816759, 358.75), (80.57591623036649, 403.875)], [(-1.4136125654450267, 358.75), (79.63350785340315, 407.625)], [(-1.4136125654450267, 358.75), (79.63350785340315, 411.375)], [(-4.240837696335079, 362.625), (77.74869109947645, 305.0)], [(-1.4136125654450267, 358.75), (81.51832460732984, 412.625)], [(0.4712041884816749, 360.125)], [(-0.4712041884816759, 358.75), (69.26701570680628, 375.125)]]\n"
     ]
    }
   ],
   "source": [
    "def _get_centroids(sub_labels):\n",
    "    '''This function uses skimage.measure.regionprops to find the centroids of objects assigned \n",
    "    to each unique label'''\n",
    "    props = regionprops(sub_labels.astype('int'))\n",
    "    centroids = [(float(sub_labels.lat[round(p.centroid[0])].values),\n",
    "                  float(sub_labels.lon[round(p.centroid[1])].values)) for p in props]\n",
    "    # for i in range(0,len(centroids)):\n",
    "    #     if centroids[i][1] >= 359.875:\n",
    "    #         centroids[i] = (centroids[i][0], list(centroids[i])[1] - 359.875)\n",
    "    return centroids\n",
    "\n",
    "centroid = []\n",
    "for s in np.arange(0, sub_labels_wrapped.shape[0]):\n",
    "    lx = sub_labels_wrapped.isel(time=s)\n",
    "    east = lx.where(lx.lon < 180, drop=True)\n",
    "    east['lon'] = np.arange(360.125, 540.125, 1.25)\n",
    "    # east['lon'] = np.arange(360.125, 540.125, .25)\n",
    "    append_east = xr.concat([lx.where(lx.lon >= 180, drop=True), east], dim=\"lon\")\n",
    "    centroid.append(_get_centroids(append_east))\n",
    "\n",
    "print(centroid)"
   ]
  },
  {
   "cell_type": "code",
   "execution_count": null,
   "id": "9821795b-d1cd-46f5-8604-0d9d24ab1857",
   "metadata": {},
   "outputs": [],
   "source": [
    "sub_labels = _get_labels(image)\n",
    "# plt.pcolor(blobs_labels)\n",
    "# plt.colorbar()\n",
    "# plt.show()\n",
    "# print(blobs_labels)\n",
    "# sub_labels = blobs_labels"
   ]
  },
  {
   "cell_type": "code",
   "execution_count": null,
   "id": "72883dc1-250f-46bb-a7b4-7a088458c40d",
   "metadata": {
    "tags": []
   },
   "outputs": [],
   "source": [
    "sub_labels = xr.DataArray(sub_labels, dims=image.dims, coords=image.coords)\n",
    "sub_labels = sub_labels.where(sub_labels>0, drop=False, other=np.nan) "
   ]
  },
  {
   "cell_type": "code",
   "execution_count": null,
   "id": "0238b859-a5e5-4d08-8e55-1a38da66d701",
   "metadata": {},
   "outputs": [],
   "source": [
    "wrapped_labels = _wrap(sub_labels)"
   ]
  },
  {
   "cell_type": "code",
   "execution_count": null,
   "id": "67dc3ef1-1415-4e55-bb79-58050bcdb7dc",
   "metadata": {},
   "outputs": [],
   "source": [
    "labels = sub_labels\n",
    "# first_column = labels[..., 0]"
   ]
  },
  {
   "cell_type": "code",
   "execution_count": 20,
   "id": "899fb8ca-8368-4563-848c-e4439d81ffce",
   "metadata": {},
   "outputs": [],
   "source": [
    "def _get_labels(binary_images):\n",
    "    '''function used to label binary images at each time step using skimage.measure.label'''\n",
    "    blobs_labels = label_np(binary_images, background=0)\n",
    "    return blobs_labels\n",
    "\n",
    "def _wrap(labels):\n",
    "    ''' Impose periodic boundary and wrap labels, then reorder the labels'''\n",
    "    first_column = labels[..., 0]\n",
    "    last_column = labels[..., -1]\n",
    "\n",
    "    stacked = first_column.stack(z=['time','lat'])\n",
    "    unique_first = np.unique(stacked[stacked.notnull()])\n",
    "\n",
    "    # This loop iterates over the unique values in the first column, finds the location of those values in \n",
    "    # the first columnm and then uses that index to replace the values in the last column with the first column value\n",
    "    for i in enumerate(unique_first):\n",
    "        first = np.where(first_column == i[1])\n",
    "        last = last_column[first[0], first[1]]\n",
    "        stacked = last.stack(z=['time','lat'])\n",
    "        bad_labels = np.unique(stacked[stacked.notnull()])\n",
    "        replace = np.isin(labels, bad_labels)\n",
    "        labels = labels.where(replace==False, other=i[1])\n",
    "\n",
    "    labels = labels.fillna(0)\n",
    "    labels_wrapped = np.unique(labels, return_inverse=True)[1].reshape(labels.shape)\n",
    "    labels_wrapped = xr.DataArray(labels_wrapped, dims=labels.dims, coords=labels.coords)\n",
    "\n",
    "    return labels_wrapped"
   ]
  },
  {
   "cell_type": "code",
   "execution_count": null,
   "id": "28958218-1be2-41f0-a16a-535ff8fd1d1a",
   "metadata": {},
   "outputs": [],
   "source": [
    "centroids = _get_centroids(wrapped_labels)\n",
    "centroids"
   ]
  },
  {
   "cell_type": "code",
   "execution_count": 36,
   "id": "bd72d3ad-096a-4755-b223-c9ce1641d490",
   "metadata": {},
   "outputs": [],
   "source": [
    "def _get_centroids(sub_labels):\n",
    "    '''This function uses skimage.measure.regionprops to find the centroids of objects assigned \n",
    "    to each unique label'''\n",
    "    props = regionprops(sub_labels.astype('int'))\n",
    "    centroids = [(float(sub_labels.lat[round(p.centroid[0])].values),\n",
    "                  float(sub_labels.lon[round(p.centroid[1])].values)) for p in props]\n",
    "    for i in range(0,len(centroids)):\n",
    "        if centroids[i][1] >= 359.875:\n",
    "            centroids[i] = (centroids[i][0], list(centroids[i])[1] - 359.875)\n",
    "    return centroids\n",
    "\n",
    "def _wrap(labels):\n",
    "    ''' Impose periodic boundary and wrap labels, then reorder the labels'''\n",
    "    first_column = labels[..., 0]\n",
    "    last_column = labels[..., -1]\n",
    "\n",
    "    stacked = first_column.stack(z=['time','lat'])\n",
    "    unique_first = np.unique(stacked[stacked.notnull()])\n",
    "\n",
    "    # This loop iterates over the unique values in the first column, finds the location of those values in \n",
    "    # the first columnm and then uses that index to replace the values in the last column with the first column value\n",
    "    for i in enumerate(unique_first):\n",
    "        first = np.where(first_column == i[1])\n",
    "        last = last_column[first[0], first[1]]\n",
    "        stacked = last.stack(z=['time','lat'])\n",
    "        bad_labels = np.unique(stacked[stacked.notnull()])\n",
    "        replace = np.isin(labels, bad_labels)\n",
    "        labels = labels.where(replace==False, other=i[1])\n",
    "\n",
    "    labels = labels.fillna(0)\n",
    "    labels_wrapped = np.unique(labels, return_inverse=True)[1].reshape(labels.shape)\n",
    "    labels_wrapped = xr.DataArray(labels_wrapped, dims=labels.dims, coords=labels.coords)\n",
    "\n",
    "    return labels_wrapped"
   ]
  },
  {
   "cell_type": "code",
   "execution_count": null,
   "id": "40a2126b-2552-4885-9741-dd3cd321cd5d",
   "metadata": {},
   "outputs": [],
   "source": [
    "np.arange(360.125, 540.125, 1.25).shape"
   ]
  },
  {
   "cell_type": "code",
   "execution_count": null,
   "id": "c8dd449a-c1ab-4df5-ba2e-0712de6e9a08",
   "metadata": {},
   "outputs": [],
   "source": [
    "plt.pcolor(sub_labels[0,:,:].values)\n",
    "plt.colorbar()\n",
    "plt.show()"
   ]
  },
  {
   "cell_type": "code",
   "execution_count": null,
   "id": "a3d6af0a-7e46-47d9-88e1-860e3a504784",
   "metadata": {},
   "outputs": [],
   "source": [
    "sub_labels = xr.DataArray(sub_labels, dims=image.dims, coords=image.coords)\n",
    "sub_labels = sub_labels.where(sub_labels>0, drop=False, other=np.nan) \n",
    "\n",
    "# The labels are repeated each time step, therefore we relabel them to be consecutive\n",
    "sub_labels[:,:] = sub_labels[:,:].values + sub_labels[p-1,:,:].max().values\n",
    "\n",
    "sub_labels_wrapped = _wrap(sub_labels)\n",
    "# sub_labels_wrapped.isel(time=1)\n",
    "# east = lx.where(lx.lon < 180, drop=True)\n",
    "# east.shape\n",
    "# east['lon'] = np.arange(360.125, 540.125, 1.25)\n",
    "# append_east = xr.concat([lx.where(lx.lon >= 180, drop=True), east], dim=\"lon\")\n",
    "# _get_centroids(append_east)\n",
    "#     mhw = _get_intensity_area(event, ssta, mhw)\n",
    "\n",
    "centroid = []\n",
    "for s in np.arange(0, sub_labels_wrapped.shape[0]):\n",
    "    lx = sub_labels_wrapped.isel(time=s)\n",
    "    east = lx.where(lx.lon < 180, drop=True)\n",
    "    east['lon'] = np.arange(360.125, 540.125, 1.25)\n",
    "    # east['lon'] = np.arange(360.125, 540.125, .25)\n",
    "    append_east = xr.concat([lx.where(lx.lon >= 180, drop=True), east], dim=\"lon\")\n",
    "    centroid.append(_get_centroids(append_east))\n",
    "    # mhw['centroid'].append(centroid)"
   ]
  },
  {
   "cell_type": "code",
   "execution_count": null,
   "id": "3c5bc8eb-0cf5-45db-a0d5-27b3163461e5",
   "metadata": {},
   "outputs": [],
   "source": [
    "centroid"
   ]
  },
  {
   "cell_type": "code",
   "execution_count": null,
   "id": "034eebf5-54a2-4645-9577-2c52301a12ae",
   "metadata": {
    "tags": []
   },
   "outputs": [],
   "source": [
    "for_one_mhw = SSTA_and_events.where(SSTA_and_events.labels==mhw_id, drop=False)\n",
    "mhw_when = np.argwhere(for_one_mhw.labels.max(axis=(1,2)).values > 0.)\n",
    "first_timestep = mhw_when[0][0]\n",
    "image = for_one_mhw.labels[first_timestep,:,:]\n",
    "plt.pcolor(image)\n",
    "plt.colorbar()\n",
    "plt.show()\n",
    "image = [image == mhw_id][0]\n",
    "image_flt = img_as_float(image.copy())\n",
    "plt.pcolor(image_flt)\n",
    "plt.colorbar()\n",
    "plt.show()"
   ]
  },
  {
   "cell_type": "code",
   "execution_count": null,
   "id": "21c9e286-d424-4f83-ba01-cce553f7d697",
   "metadata": {},
   "outputs": [],
   "source": []
  },
  {
   "cell_type": "code",
   "execution_count": null,
   "id": "3f2485f2-5b60-4cf9-97e1-8c6eae553537",
   "metadata": {},
   "outputs": [],
   "source": [
    "######## Not necessary to run this cell\n",
    "# previously \n",
    "\n",
    "# took about 36 minutes\n",
    "initialization_SSTA_ar = np.zeros((no_mhws,192,288))\n",
    "duration_ar = np.zeros((no_mhws))\n",
    "initialization_when_ar = np.zeros((no_mhws))\n",
    "\n",
    "for mhw_id in range(1,no_mhws): # no_mhws  \n",
    "    for_one_mhw = SSTA_and_events.where(SSTA_and_events.labels==mhw_id, drop=False)\n",
    "    \n",
    "    mhw_when = np.argwhere(for_one_mhw.labels.max(axis=(1,2)).values > 0.)\n",
    "    first_timestep = mhw_when[0][0]\n",
    "    initialization_when_ar[mhw_id] = first_timestep\n",
    "    initialization_SSTA_ar[mhw_id,:,:] = for_one_mhw.SSTA[first_timestep,:,:].values\n",
    "    \n",
    "    duration = calc_duration(SSTA_and_events, mhw_id)\n",
    "    duration_ar[mhw_id] = duration\n",
    "    \n",
    "# np.save('initialization_SSTA_ar_0.npy', initialization_SSTA_ar)    \n",
    "# initialization_SSTA_ar_0 = np.load('initialization_SSTA_ar_0.npy')\n",
    "\n",
    "# np.save('duration_ar_0.npy', duration_ar)    \n",
    "# duration_ar_0 = np.load('duration_ar_0.npy')\n",
    "\n",
    "# np.save('initialization_when_ar_0.npy', initialization_when_ar)    \n",
    "# initialization_when_ar_0 = np.load('initialization_when_ar_0.npy')\n",
    "\n",
    "initialization_SSTA_ar_0 = np.load('initialization_SSTA_ar_0.npy')\n",
    "duration_ar_0 = np.load('duration_ar_0.npy')\n",
    "initialization_when_ar_0 = np.load('initialization_when_ar_0.npy')"
   ]
  },
  {
   "cell_type": "code",
   "execution_count": 13,
   "id": "9d88bb9a-fd4b-47b7-895c-7bb998ee2a65",
   "metadata": {},
   "outputs": [],
   "source": [
    "# functions\n",
    "def number_of_mhws(event_file):\n",
    "    return len(np.unique(event_file.labels)) - 1\n",
    "\n",
    "def calc_duration(event_file, mhw_id):\n",
    "    return len(event_file.where(event_file.labels==mhw_id, drop=True).time)\n",
    "\n",
    "def calc_cumulativeintensity(event_file, mhw_id):\n",
    "    for_one_mhw = event_file.where(event_file.labels==mhw_id, drop=True)\n",
    "    cumulative_intensity = np.nansum(for_one_mhw.SSTA)\n",
    "    cumulative_intensity_monthly = for_one_mhw.SSTA.sum(axis=(1,2)).values\n",
    "    return cumulative_intensity, cumulative_intensity_monthly\n",
    "\n",
    "def calc_meanintensity(event_file, mhw_id):\n",
    "    for_one_mhw = event_file.where(event_file.labels==mhw_id, drop=True)\n",
    "    mean_intensity = np.nanmean(for_one_mhw.SSTA)\n",
    "    mean_intensity_monthly = for_one_mhw.SSTA.mean(axis=(1,2)).values\n",
    "    return mean_intensity, mean_intensity_monthly\n",
    "\n",
    "def calc_maximumintensity(event_file, mhw_id):\n",
    "    for_one_mhw = event_file.where(event_file.labels==mhw_id, drop=True)\n",
    "    max_intensity = np.nanmax(for_one_mhw.SSTA)\n",
    "    max_intensity_monthly = for_one_mhw.SSTA.max(axis=(1,2)).values\n",
    "    return max_intensity, max_intensity_monthly\n",
    "\n",
    "def calc_stdintensity(event_file, mhw_id):\n",
    "    for_one_mhw = event_file.where(event_file.labels==mhw_id, drop=True)\n",
    "    std_intensity = np.nanstd(for_one_mhw.SSTA)\n",
    "    std_intensity_monthly = for_one_mhw.SSTA.std(axis=(1,2)).values\n",
    "    return std_intensity, std_intensity_monthly\n",
    "\n",
    "def calc_spatialextent(event_file, mhw_id):\n",
    "    for_one_mhw = event_file.where(event_file.labels==mhw_id, drop=True)\n",
    "    spatial_extents = []\n",
    "    coords_full = []\n",
    "    for i in range(len(for_one_mhw.time)):\n",
    "        for_onetimestep_stacked = for_one_mhw.labels[i,:,:].stack(zipcoords=['lat','lon'])\n",
    "        intermed = for_onetimestep_stacked[for_onetimestep_stacked.notnull()].zipcoords.values\n",
    "        lats = [x[0] for x in intermed]; lons = [x[1] for x in intermed]\n",
    "        coords = list(zip(lats, lons))\n",
    "        coords_full.append(coords)\n",
    "        y,x=zip(*coords)\n",
    "        dlon = [np.cos(y[c]*np.pi/180)*(111.320*1) for c in np.arange(0, len(coords))]; dlat = (110.574 *1) * np.ones(len(dlon))\n",
    "        area = np.sum(dlon*dlat)\n",
    "        spatial_extents.append(area)\n",
    "    max_spatial_extent = np.max(spatial_extents)\n",
    "    max_spatial_extent_time = np.argmax(spatial_extents)\n",
    "    mean_spatial_extent = np.mean(spatial_extents)\n",
    "    cumulative_spatial_extent = np.sum(spatial_extents)\n",
    "    return coords_full, spatial_extents, max_spatial_extent, max_spatial_extent_time, mean_spatial_extent, cumulative_spatial_extent\n",
    "\n",
    "def initialization(event_file, mhw_id):\n",
    "    for_one_mhw = event_file.where(event_file.labels==mhw_id, drop=False)\n",
    "    mhw_when = np.argwhere(for_one_mhw.labels.max(axis=(1,2)).values > 0.)\n",
    "    first_timestep = mhw_when[0][0]\n",
    "    bymonth = np.resize(np.arange(1,13),12*166)[1:-11]\n",
    "    month = bymonth[first_timestep]\n",
    "    return first_timestep, for_one_mhw.SSTA[first_timestep,:,:].values, month\n",
    "\n",
    "from skimage.measure import find_contours\n",
    "from haversine import haversine, Unit\n",
    "from scipy.interpolate import interp1d\n",
    "\n",
    "def calc_perimeter(event_file, mhw_id):\n",
    "    for_one_mhw = event_file.where(event_file.labels==mhw_id, drop=False)\n",
    "    first_timestep, first_array, month = initialization(event_file, mhw_id)\n",
    "    timesteps_to_choose_from = np.arange(first_timestep, first_timestep+duration)\n",
    "\n",
    "    convert_long_range = interp1d([0,360],[-180,180])\n",
    "    perimeter_ls = []\n",
    "    for i in timesteps_to_choose_from:\n",
    "        bw = for_one_mhw.labels[i,:,:].values > 0\n",
    "        contours = find_contours(bw)\n",
    "        distance_ls = []\n",
    "        for contour_num in range(len(contours)):\n",
    "            latitudes = for_one_mhw.lat.values[contours[contour_num][:,0].astype(int)]\n",
    "            longitudes = for_one_mhw.lon.values[contours[contour_num][:,1].astype(int)]    \n",
    "            coords = list(zip(latitudes, convert_long_range(longitudes)))\n",
    "\n",
    "            for i in range(len(coords)-1):\n",
    "                distance = haversine(coords[i], coords[i+1],Unit.KILOMETERS)\n",
    "                distance_ls.append(distance)\n",
    "            distance_ls.append(haversine(coords[len(coords)-1], coords[0],Unit.KILOMETERS))\n",
    "        perimeter = np.sum(distance_ls)\n",
    "        perimeter_ls.append(perimeter)\n",
    "    return perimeter_ls  \n",
    "\n",
    "def calc_percperimetervsarea(spatial_extents, perimeters):\n",
    "    return (np.asarray(perimeters)/np.asarray(spatial_extents))*100\n",
    "\n",
    "def convert_from_timeres_to_months(time_step):\n",
    "    bymonth = np.resize(np.arange(1,13),12*166)[1:-11]\n",
    "    month = bymonth[first_timestep]\n",
    "    return month\n",
    "\n",
    "def calc_compltodeform(coords_full, spatial_extents):\n",
    "    perc_sharedarea_ls = []\n",
    "    for i in range(len(coords_full)-1):\n",
    "        a_set = set(coords_full[i])\n",
    "        b_set = set(coords_full[i+1])\n",
    "        if a_set & b_set:\n",
    "            coords = a_set & b_set\n",
    "            y,x=zip(*coords)\n",
    "            dlon = [np.cos(y[c]*np.pi/180)*(111.320*1) for c in np.arange(0, len(coords))]; dlat = (110.574 *1) * np.ones(len(dlon))\n",
    "            sharedarea = np.sum(dlon*dlat)\n",
    "            perc_sharedarea_ls.append((sharedarea/ (spatial_extents[i] + spatial_extents[i+1]))*100)\n",
    "        else:\n",
    "            sharedareaarea = 0\n",
    "            perc_sharedarea_ls.append((sharedarea/ (spatial_extents[i] + spatial_extents[i+1]))*100)\n",
    "    return perc_sharedarea_ls\n",
    "\n",
    "def calc_deform(perc_sharedarea_ls):\n",
    "    return np.asarray(100 - np.asarray(perc_sharedarea_ls))\n",
    "\n",
    "def calc_whenlargesmall(spatial_extents):\n",
    "    when_large = (np.argmax(spatial_extents) / len(spatial_extents))*100\n",
    "    when_small = (np.argmin(spatial_extents) / len(spatial_extents))*100\n",
    "    return when_large, when_small\n",
    "\n",
    "def cross_correlation_spat(event_file, mhw_id):\n",
    "    for_one_mhw = event_file.where(event_file.labels==mhw_id, drop=False)\n",
    "    first_timestep, first_array, month = initialization(event_file, mhw_id)\n",
    "    timesteps_to_choose_from = np.arange(first_timestep, first_timestep+duration)\n",
    "    cc_image_array = np.zeros((len(timesteps_to_choose_from), 192,288))    \n",
    "\n",
    "    for i in range(len(timesteps_to_choose_from[:-1])):\n",
    "        image = for_one_mhw.SSTA[timesteps_to_choose_from[i],:,:].values\n",
    "        image = np.nan_to_num(image)\n",
    "        offset_image = for_one_mhw.SSTA[timesteps_to_choose_from[i+1],:,:].values\n",
    "        offset_image = np.nan_to_num(offset_image)\n",
    "        image_product = np.fft.fft2(image) * np.fft.fft2(offset_image).conj()\n",
    "        cc_image = np.fft.fftshift(np.fft.ifft2(image_product))\n",
    "        cc_image_array[i,:,:] = np.real(cc_image)\n",
    "    return cc_image_array\n",
    "\n",
    "from skimage.morphology import convex_hull_image\n",
    "from skimage import img_as_float\n",
    "\n",
    "def perc_imoverchull(event_file, mhw_id):\n",
    "    for_one_mhw = event_file.where(event_file.labels==mhw_id, drop=True)\n",
    "    perc_imoverchull_ls = []\n",
    "    for i in range(len(for_one_mhw.time)):\n",
    "        image = for_one_mhw.labels[i].values\n",
    "        image = [image == mhw_id][0]\n",
    "        chull = convex_hull_image(image)\n",
    "        chull_asflt = img_as_float(chull.copy())\n",
    "        image_asflt = img_as_float(image.copy())\n",
    "        perc_imoverchull = np.sum(image_asflt)/np.sum(chull_asflt)*100\n",
    "        perc_imoverchull_ls.append(perc_imoverchull)\n",
    "    return perc_imoverchull_ls"
   ]
  },
  {
   "cell_type": "code",
   "execution_count": null,
   "id": "40ceb900-0d84-4558-999b-c1805d5d1903",
   "metadata": {},
   "outputs": [],
   "source": []
  }
 ],
 "metadata": {
  "kernelspec": {
   "display_name": "test-env",
   "language": "python",
   "name": "test-env"
  },
  "language_info": {
   "codemirror_mode": {
    "name": "ipython",
    "version": 3
   },
   "file_extension": ".py",
   "mimetype": "text/x-python",
   "name": "python",
   "nbconvert_exporter": "python",
   "pygments_lexer": "ipython3",
   "version": "3.9.7"
  }
 },
 "nbformat": 4,
 "nbformat_minor": 5
}
