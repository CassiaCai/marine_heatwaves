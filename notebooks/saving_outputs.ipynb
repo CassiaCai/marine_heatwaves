{
 "cells": [
  {
   "cell_type": "code",
   "execution_count": 1,
   "id": "644a3b85-aec2-43bb-a816-98c5eafa42c7",
   "metadata": {},
   "outputs": [],
   "source": [
    "import numpy as np; import xarray as xr\n",
    "import netCDF4 as nc; import h5netcdf\n",
    "import matplotlib.pyplot as plt"
   ]
  },
  {
   "cell_type": "code",
   "execution_count": 2,
   "id": "a6082fa4-0336-4f60-b589-3bda487ea979",
   "metadata": {},
   "outputs": [
    {
     "name": "stdout",
     "output_type": "stream",
     "text": [
      "/glade/u/home/cassiacai/marine_heatwaves/notebooks\n"
     ]
    }
   ],
   "source": [
    "# get into correct directory\n",
    "# we should be in /glade/u/home/cassiacai/marine_heatwaves/mhw_library where functions.py is located\n",
    "!pwd"
   ]
  },
  {
   "cell_type": "code",
   "execution_count": 3,
   "id": "5354327a-b087-4ec9-8359-e30f74dbce3c",
   "metadata": {},
   "outputs": [
    {
     "name": "stdout",
     "output_type": "stream",
     "text": [
      "/glade/u/home/cassiacai/marine_heatwaves\n"
     ]
    }
   ],
   "source": [
    "cd .."
   ]
  },
  {
   "cell_type": "code",
   "execution_count": 4,
   "id": "4d44cad4-c3a2-48e8-85f9-576940d1f6d0",
   "metadata": {},
   "outputs": [
    {
     "name": "stdout",
     "output_type": "stream",
     "text": [
      "/glade/u/home/cassiacai/marine_heatwaves/mhw_library\n"
     ]
    }
   ],
   "source": [
    "cd mhw_library"
   ]
  },
  {
   "cell_type": "code",
   "execution_count": 5,
   "id": "600a22cf-1ab4-4f01-95fb-50d9be6767b9",
   "metadata": {},
   "outputs": [],
   "source": [
    "import functions as measures"
   ]
  },
  {
   "cell_type": "code",
   "execution_count": 6,
   "id": "22ca269a-4d07-45f6-9828-e00145e9636a",
   "metadata": {},
   "outputs": [
    {
     "name": "stdout",
     "output_type": "stream",
     "text": [
      "18\n",
      "['calc_centroids_per_timestep', 'calc_com_per_timestep', 'calc_compltodeform', 'calc_cross_correlation_spat', 'calc_cumulativeintensity', 'calc_deform', 'calc_displacement', 'calc_duration', 'calc_initialization', 'calc_maximumintensity', 'calc_meanintensity', 'calc_number_of_mhws', 'calc_perc_imoverchull', 'calc_percperimetervsarea', 'calc_perimeter', 'calc_spatialextent', 'calc_stdintensity', 'calc_whenlargesmall']\n"
     ]
    }
   ],
   "source": [
    "my_functions = [x for x in dir(measures) if 'calc' in x]\n",
    "print(len(my_functions))\n",
    "print(my_functions)"
   ]
  },
  {
   "cell_type": "code",
   "execution_count": 7,
   "id": "5273ea7c-98dc-4ea7-981f-bf1f3e695939",
   "metadata": {},
   "outputs": [],
   "source": [
    "data_path = '/glade/u/home/cassiacai/marine_heatwaves/notebooks/SSTA_and_events_0_3.nc'\n",
    "event_file =  xr.open_dataset(data_path)"
   ]
  },
  {
   "cell_type": "code",
   "execution_count": 8,
   "id": "b03d467b-b107-46fa-b91c-4d0523375c82",
   "metadata": {},
   "outputs": [],
   "source": [
    "no_mhws = measures.calc_number_of_mhws(event_file)"
   ]
  },
  {
   "cell_type": "code",
   "execution_count": 16,
   "id": "4796fb83-3c07-441f-a358-4de263af86df",
   "metadata": {},
   "outputs": [
    {
     "data": {
      "text/plain": [
       "1"
      ]
     },
     "execution_count": 16,
     "metadata": {},
     "output_type": "execute_result"
    }
   ],
   "source": [
    "mhw_id = 1\n",
    "measures.calc_duration(event_file , mhw_id)"
   ]
  },
  {
   "cell_type": "code",
   "execution_count": 25,
   "id": "817dc96a-d1b9-4086-8388-fc90ba3f7740",
   "metadata": {},
   "outputs": [
    {
     "name": "stdout",
     "output_type": "stream",
     "text": [
      "CPU times: user 45min 25s, sys: 38min 6s, total: 1h 23min 32s\n",
      "Wall time: 1h 25min 12s\n"
     ]
    }
   ],
   "source": [
    "%%time\n",
    "\n",
    "len_arr = no_mhws+1\n",
    "\n",
    "duration_arr = np.zeros(len_arr)\n",
    "cumulative_intensity_arr = np.zeros(len_arr)\n",
    "mean_intensity_arr = np.zeros(len_arr)\n",
    "max_intensity_arr = np.zeros(len_arr)\n",
    "std_intensity_arr = np.zeros(len_arr)\n",
    "cumulative_spatial_extent_arr = np.zeros(len_arr)\n",
    "mean_spatial_extent_arr = np.zeros(len_arr)\n",
    "max_spatial_extent_time_arr = np.zeros(len_arr)\n",
    "max_spatial_extent_arr = np.zeros(len_arr)\n",
    "first_timestep_arr = np.zeros(len_arr)\n",
    "month_arr = np.zeros(len_arr)\n",
    "\n",
    "for mhw_id in range(1,len_arr):\n",
    "    # duration\n",
    "    duration_arr[mhw_id] = measures.calc_duration(event_file , mhw_id)\n",
    "    # cumulative intensity\n",
    "    cumulative_intensity, cumulative_intensity_monthly = measures.calc_cumulativeintensity(event_file, mhw_id)\n",
    "    cumulative_intensity_arr[mhw_id] = cumulative_intensity\n",
    "    # mean intensity\n",
    "    mean_intensity, mean_intensity_monthly = measures.calc_meanintensity(event_file, mhw_id)\n",
    "    mean_intensity_arr[mhw_id] = mean_intensity\n",
    "    # max intensity\n",
    "    max_intensity, max_intensity_monthly = measures.calc_maximumintensity(event_file, mhw_id)\n",
    "    max_intensity_arr[mhw_id] = max_intensity\n",
    "    # std intensity\n",
    "    std_intensity, std_intensity_monthly = measures.calc_stdintensity(event_file, mhw_id)\n",
    "    std_intensity_arr[mhw_id] = std_intensity\n",
    "    # cumulative spatial extent, mean spatial extent, max spatial extent time, max spatial extent\n",
    "    coords_full, spatial_extents, max_spatial_extent, max_spatial_extent_time, mean_spatial_extent, cumulative_spatial_extent = measures.calc_spatialextent(event_file, mhw_id)\n",
    "    cumulative_spatial_extent_arr[mhw_id] = cumulative_spatial_extent\n",
    "    mean_spatial_extent_arr[mhw_id] = mean_spatial_extent\n",
    "    max_spatial_extent_time_arr[mhw_id] = max_spatial_extent_time\n",
    "    max_spatial_extent_arr[mhw_id] = max_spatial_extent\n",
    "    # first timestep, month\n",
    "    first_timestep, image, month = measures.calc_initialization(event_file, mhw_id)\n",
    "    first_timestep_arr[mhw_id] = first_timestep\n",
    "    month_arr[mhw_id] = month"
   ]
  },
  {
   "cell_type": "code",
   "execution_count": 26,
   "id": "6d152e50-3ce8-4244-a525-553a091d246e",
   "metadata": {
    "tags": []
   },
   "outputs": [],
   "source": [
    "dict1 = {\n",
    "        'duration':duration_arr[1:], \n",
    "        'c_intensity':cumulative_intensity_arr[1:],\n",
    "        'mean_intensity':mean_intensity_arr[1:],\n",
    "        'max_intensity':max_intensity_arr[1:],\n",
    "        'std_intensity':std_intensity_arr[1:],\n",
    "        'c_spatial_extent':cumulative_spatial_extent_arr[1:],\n",
    "        'mean_spatial_extent':mean_spatial_extent_arr[1:],\n",
    "        'max_spatial_extent_time':max_spatial_extent_time_arr[1:],\n",
    "        'max_spatial_extent':max_spatial_extent_arr[1:],\n",
    "        'first_timestep':first_timestep_arr[1:],\n",
    "        'month_arr':month_arr[1:],\n",
    "        }"
   ]
  },
  {
   "cell_type": "code",
   "execution_count": 28,
   "id": "66058a88-0b60-44d3-89be-83bc7c7ed947",
   "metadata": {},
   "outputs": [],
   "source": [
    "import pandas as pd"
   ]
  },
  {
   "cell_type": "code",
   "execution_count": 29,
   "id": "bf95a12a-9508-4c26-96e7-ea7a3d9e181a",
   "metadata": {},
   "outputs": [],
   "source": [
    "one_valued_df = pd.DataFrame(\n",
    "    {\n",
    "        'duration':duration_arr[1:], \n",
    "        'c_intensity':cumulative_intensity_arr[1:],\n",
    "        'mean_intensity':mean_intensity_arr[1:],\n",
    "        'max_intensity':max_intensity_arr[1:],\n",
    "        'std_intensity':std_intensity_arr[1:],\n",
    "        'c_spatial_extent':cumulative_spatial_extent_arr[1:],\n",
    "        'mean_spatial_extent':mean_spatial_extent_arr[1:],\n",
    "        'max_spatial_extent_time':max_spatial_extent_time_arr[1:],\n",
    "        'max_spatial_extent':max_spatial_extent_arr[1:],\n",
    "        'first_timestep':first_timestep_arr[1:],\n",
    "        'month':month_arr[1:],\n",
    "    })"
   ]
  },
  {
   "cell_type": "code",
   "execution_count": 31,
   "id": "f52e961c-8471-4fa1-9883-acafd13cd6ae",
   "metadata": {},
   "outputs": [
    {
     "data": {
      "text/plain": [
       "{'duration': array([  1.,   5.,   4., ...,   1., 165.,   1.]),\n",
       " 'c_intensity': array([4.09156590e+02, 6.72780985e+02, 8.11918784e+01, ...,\n",
       "        4.51462257e+02, 1.22843303e+06, 7.69996865e+02]),\n",
       " 'mean_intensity': array([0.82491248, 0.0902093 , 0.04938679, ..., 1.29358813, 1.01185381,\n",
       "        1.10631734]),\n",
       " 'max_intensity': array([0.82491248, 0.0902093 , 0.04938679, ..., 1.29358813, 1.01185381,\n",
       "        1.10631734]),\n",
       " 'std_intensity': array([0.15739198, 0.82280792, 0.17161211, ..., 0.27812979, 0.65852269,\n",
       "        0.3376835 ]),\n",
       " 'c_spatial_extent': array([5.60525740e+06, 2.55336212e+07, 4.20808859e+06, ...,\n",
       "        3.14729674e+06, 1.04733020e+10, 6.83698342e+06]),\n",
       " 'mean_spatial_extent': array([ 5605257.40142575,  5106724.24495593,  1052022.14794926, ...,\n",
       "         3147296.74370021, 63474557.72646505,  6836983.41657473]),\n",
       " 'max_spatial_extent_time': array([  0.,   2.,   1., ...,   0., 158.,   0.]),\n",
       " 'max_spatial_extent': array([5.60525740e+06, 5.51097735e+06, 1.12158162e+06, ...,\n",
       "        3.14729674e+06, 1.33129452e+08, 6.83698342e+06]),\n",
       " 'first_timestep': array([   0.,    0.,    0., ..., 1968., 1815., 1979.]),\n",
       " 'month_arr': array([2., 2., 2., ..., 2., 5., 1.])}"
      ]
     },
     "execution_count": 31,
     "metadata": {},
     "output_type": "execute_result"
    }
   ],
   "source": [
    "dict1"
   ]
  },
  {
   "cell_type": "code",
   "execution_count": 32,
   "id": "7939dc8a-5e04-40cb-bad0-f216e8cdc8a7",
   "metadata": {
    "collapsed": true,
    "jupyter": {
     "outputs_hidden": true
    },
    "tags": []
   },
   "outputs": [
    {
     "ename": "TypeError",
     "evalue": "Object of type ndarray is not JSON serializable",
     "output_type": "error",
     "traceback": [
      "\u001b[0;31m---------------------------------------------------------------------------\u001b[0m",
      "\u001b[0;31mTypeError\u001b[0m                                 Traceback (most recent call last)",
      "Input \u001b[0;32mIn [32]\u001b[0m, in \u001b[0;36m<cell line: 4>\u001b[0;34m()\u001b[0m\n\u001b[1;32m      1\u001b[0m \u001b[38;5;28;01mimport\u001b[39;00m \u001b[38;5;21;01mjson\u001b[39;00m \n\u001b[1;32m      3\u001b[0m \u001b[38;5;66;03m# Serializing json  \u001b[39;00m\n\u001b[0;32m----> 4\u001b[0m json_object \u001b[38;5;241m=\u001b[39m \u001b[43mjson\u001b[49m\u001b[38;5;241;43m.\u001b[39;49m\u001b[43mdumps\u001b[49m\u001b[43m(\u001b[49m\u001b[43mdict1\u001b[49m\u001b[43m,\u001b[49m\u001b[43m \u001b[49m\u001b[43mindent\u001b[49m\u001b[43m \u001b[49m\u001b[38;5;241;43m=\u001b[39;49m\u001b[43m \u001b[49m\u001b[38;5;241;43m4\u001b[39;49m\u001b[43m)\u001b[49m\n",
      "File \u001b[0;32m/ncar/usr/jupyterhub.hpc.ucar.edu/jupyterhub-20220511/lib/python3.9/json/__init__.py:234\u001b[0m, in \u001b[0;36mdumps\u001b[0;34m(obj, skipkeys, ensure_ascii, check_circular, allow_nan, cls, indent, separators, default, sort_keys, **kw)\u001b[0m\n\u001b[1;32m    232\u001b[0m \u001b[38;5;28;01mif\u001b[39;00m \u001b[38;5;28mcls\u001b[39m \u001b[38;5;129;01mis\u001b[39;00m \u001b[38;5;28;01mNone\u001b[39;00m:\n\u001b[1;32m    233\u001b[0m     \u001b[38;5;28mcls\u001b[39m \u001b[38;5;241m=\u001b[39m JSONEncoder\n\u001b[0;32m--> 234\u001b[0m \u001b[38;5;28;01mreturn\u001b[39;00m \u001b[38;5;28;43mcls\u001b[39;49m\u001b[43m(\u001b[49m\n\u001b[1;32m    235\u001b[0m \u001b[43m    \u001b[49m\u001b[43mskipkeys\u001b[49m\u001b[38;5;241;43m=\u001b[39;49m\u001b[43mskipkeys\u001b[49m\u001b[43m,\u001b[49m\u001b[43m \u001b[49m\u001b[43mensure_ascii\u001b[49m\u001b[38;5;241;43m=\u001b[39;49m\u001b[43mensure_ascii\u001b[49m\u001b[43m,\u001b[49m\n\u001b[1;32m    236\u001b[0m \u001b[43m    \u001b[49m\u001b[43mcheck_circular\u001b[49m\u001b[38;5;241;43m=\u001b[39;49m\u001b[43mcheck_circular\u001b[49m\u001b[43m,\u001b[49m\u001b[43m \u001b[49m\u001b[43mallow_nan\u001b[49m\u001b[38;5;241;43m=\u001b[39;49m\u001b[43mallow_nan\u001b[49m\u001b[43m,\u001b[49m\u001b[43m \u001b[49m\u001b[43mindent\u001b[49m\u001b[38;5;241;43m=\u001b[39;49m\u001b[43mindent\u001b[49m\u001b[43m,\u001b[49m\n\u001b[1;32m    237\u001b[0m \u001b[43m    \u001b[49m\u001b[43mseparators\u001b[49m\u001b[38;5;241;43m=\u001b[39;49m\u001b[43mseparators\u001b[49m\u001b[43m,\u001b[49m\u001b[43m \u001b[49m\u001b[43mdefault\u001b[49m\u001b[38;5;241;43m=\u001b[39;49m\u001b[43mdefault\u001b[49m\u001b[43m,\u001b[49m\u001b[43m \u001b[49m\u001b[43msort_keys\u001b[49m\u001b[38;5;241;43m=\u001b[39;49m\u001b[43msort_keys\u001b[49m\u001b[43m,\u001b[49m\n\u001b[1;32m    238\u001b[0m \u001b[43m    \u001b[49m\u001b[38;5;241;43m*\u001b[39;49m\u001b[38;5;241;43m*\u001b[39;49m\u001b[43mkw\u001b[49m\u001b[43m)\u001b[49m\u001b[38;5;241;43m.\u001b[39;49m\u001b[43mencode\u001b[49m\u001b[43m(\u001b[49m\u001b[43mobj\u001b[49m\u001b[43m)\u001b[49m\n",
      "File \u001b[0;32m/ncar/usr/jupyterhub.hpc.ucar.edu/jupyterhub-20220511/lib/python3.9/json/encoder.py:201\u001b[0m, in \u001b[0;36mJSONEncoder.encode\u001b[0;34m(self, o)\u001b[0m\n\u001b[1;32m    199\u001b[0m chunks \u001b[38;5;241m=\u001b[39m \u001b[38;5;28mself\u001b[39m\u001b[38;5;241m.\u001b[39miterencode(o, _one_shot\u001b[38;5;241m=\u001b[39m\u001b[38;5;28;01mTrue\u001b[39;00m)\n\u001b[1;32m    200\u001b[0m \u001b[38;5;28;01mif\u001b[39;00m \u001b[38;5;129;01mnot\u001b[39;00m \u001b[38;5;28misinstance\u001b[39m(chunks, (\u001b[38;5;28mlist\u001b[39m, \u001b[38;5;28mtuple\u001b[39m)):\n\u001b[0;32m--> 201\u001b[0m     chunks \u001b[38;5;241m=\u001b[39m \u001b[38;5;28;43mlist\u001b[39;49m\u001b[43m(\u001b[49m\u001b[43mchunks\u001b[49m\u001b[43m)\u001b[49m\n\u001b[1;32m    202\u001b[0m \u001b[38;5;28;01mreturn\u001b[39;00m \u001b[38;5;124m'\u001b[39m\u001b[38;5;124m'\u001b[39m\u001b[38;5;241m.\u001b[39mjoin(chunks)\n",
      "File \u001b[0;32m/ncar/usr/jupyterhub.hpc.ucar.edu/jupyterhub-20220511/lib/python3.9/json/encoder.py:431\u001b[0m, in \u001b[0;36m_make_iterencode.<locals>._iterencode\u001b[0;34m(o, _current_indent_level)\u001b[0m\n\u001b[1;32m    429\u001b[0m     \u001b[38;5;28;01myield from\u001b[39;00m _iterencode_list(o, _current_indent_level)\n\u001b[1;32m    430\u001b[0m \u001b[38;5;28;01melif\u001b[39;00m \u001b[38;5;28misinstance\u001b[39m(o, \u001b[38;5;28mdict\u001b[39m):\n\u001b[0;32m--> 431\u001b[0m     \u001b[38;5;28;01myield from\u001b[39;00m _iterencode_dict(o, _current_indent_level)\n\u001b[1;32m    432\u001b[0m \u001b[38;5;28;01melse\u001b[39;00m:\n\u001b[1;32m    433\u001b[0m     \u001b[38;5;28;01mif\u001b[39;00m markers \u001b[38;5;129;01mis\u001b[39;00m \u001b[38;5;129;01mnot\u001b[39;00m \u001b[38;5;28;01mNone\u001b[39;00m:\n",
      "File \u001b[0;32m/ncar/usr/jupyterhub.hpc.ucar.edu/jupyterhub-20220511/lib/python3.9/json/encoder.py:405\u001b[0m, in \u001b[0;36m_make_iterencode.<locals>._iterencode_dict\u001b[0;34m(dct, _current_indent_level)\u001b[0m\n\u001b[1;32m    403\u001b[0m         \u001b[38;5;28;01melse\u001b[39;00m:\n\u001b[1;32m    404\u001b[0m             chunks \u001b[38;5;241m=\u001b[39m _iterencode(value, _current_indent_level)\n\u001b[0;32m--> 405\u001b[0m         \u001b[38;5;28;01myield from\u001b[39;00m chunks\n\u001b[1;32m    406\u001b[0m \u001b[38;5;28;01mif\u001b[39;00m newline_indent \u001b[38;5;129;01mis\u001b[39;00m \u001b[38;5;129;01mnot\u001b[39;00m \u001b[38;5;28;01mNone\u001b[39;00m:\n\u001b[1;32m    407\u001b[0m     _current_indent_level \u001b[38;5;241m-\u001b[39m\u001b[38;5;241m=\u001b[39m \u001b[38;5;241m1\u001b[39m\n",
      "File \u001b[0;32m/ncar/usr/jupyterhub.hpc.ucar.edu/jupyterhub-20220511/lib/python3.9/json/encoder.py:438\u001b[0m, in \u001b[0;36m_make_iterencode.<locals>._iterencode\u001b[0;34m(o, _current_indent_level)\u001b[0m\n\u001b[1;32m    436\u001b[0m         \u001b[38;5;28;01mraise\u001b[39;00m \u001b[38;5;167;01mValueError\u001b[39;00m(\u001b[38;5;124m\"\u001b[39m\u001b[38;5;124mCircular reference detected\u001b[39m\u001b[38;5;124m\"\u001b[39m)\n\u001b[1;32m    437\u001b[0m     markers[markerid] \u001b[38;5;241m=\u001b[39m o\n\u001b[0;32m--> 438\u001b[0m o \u001b[38;5;241m=\u001b[39m \u001b[43m_default\u001b[49m\u001b[43m(\u001b[49m\u001b[43mo\u001b[49m\u001b[43m)\u001b[49m\n\u001b[1;32m    439\u001b[0m \u001b[38;5;28;01myield from\u001b[39;00m _iterencode(o, _current_indent_level)\n\u001b[1;32m    440\u001b[0m \u001b[38;5;28;01mif\u001b[39;00m markers \u001b[38;5;129;01mis\u001b[39;00m \u001b[38;5;129;01mnot\u001b[39;00m \u001b[38;5;28;01mNone\u001b[39;00m:\n",
      "File \u001b[0;32m/ncar/usr/jupyterhub.hpc.ucar.edu/jupyterhub-20220511/lib/python3.9/json/encoder.py:179\u001b[0m, in \u001b[0;36mJSONEncoder.default\u001b[0;34m(self, o)\u001b[0m\n\u001b[1;32m    160\u001b[0m \u001b[38;5;28;01mdef\u001b[39;00m \u001b[38;5;21mdefault\u001b[39m(\u001b[38;5;28mself\u001b[39m, o):\n\u001b[1;32m    161\u001b[0m     \u001b[38;5;124;03m\"\"\"Implement this method in a subclass such that it returns\u001b[39;00m\n\u001b[1;32m    162\u001b[0m \u001b[38;5;124;03m    a serializable object for ``o``, or calls the base implementation\u001b[39;00m\n\u001b[1;32m    163\u001b[0m \u001b[38;5;124;03m    (to raise a ``TypeError``).\u001b[39;00m\n\u001b[0;32m   (...)\u001b[0m\n\u001b[1;32m    177\u001b[0m \n\u001b[1;32m    178\u001b[0m \u001b[38;5;124;03m    \"\"\"\u001b[39;00m\n\u001b[0;32m--> 179\u001b[0m     \u001b[38;5;28;01mraise\u001b[39;00m \u001b[38;5;167;01mTypeError\u001b[39;00m(\u001b[38;5;124mf\u001b[39m\u001b[38;5;124m'\u001b[39m\u001b[38;5;124mObject of type \u001b[39m\u001b[38;5;132;01m{\u001b[39;00mo\u001b[38;5;241m.\u001b[39m\u001b[38;5;18m__class__\u001b[39m\u001b[38;5;241m.\u001b[39m\u001b[38;5;18m__name__\u001b[39m\u001b[38;5;132;01m}\u001b[39;00m\u001b[38;5;124m \u001b[39m\u001b[38;5;124m'\u001b[39m\n\u001b[1;32m    180\u001b[0m                     \u001b[38;5;124mf\u001b[39m\u001b[38;5;124m'\u001b[39m\u001b[38;5;124mis not JSON serializable\u001b[39m\u001b[38;5;124m'\u001b[39m)\n",
      "\u001b[0;31mTypeError\u001b[0m: Object of type ndarray is not JSON serializable"
     ]
    }
   ],
   "source": [
    "import json \n",
    "      \n",
    "# Serializing json  \n",
    "json_object = json.dumps(dict1, indent = 4) "
   ]
  },
  {
   "cell_type": "code",
   "execution_count": null,
   "id": "ea41b2ba-bb67-42ba-8968-775fed02ffb4",
   "metadata": {},
   "outputs": [],
   "source": [
    "print(json_object)"
   ]
  },
  {
   "cell_type": "code",
   "execution_count": 30,
   "id": "165cb216-cd2c-4781-a8b0-aa56ff35cce1",
   "metadata": {},
   "outputs": [],
   "source": [
    "# one_valued_df.to_csv('ens0_rad3_oneval.csv')"
   ]
  },
  {
   "cell_type": "code",
   "execution_count": null,
   "id": "6204bbb0-7807-4376-911d-1af752e50818",
   "metadata": {},
   "outputs": [],
   "source": [
    "#2d images\n",
    "# - initialization\n",
    "# - cumulative intensity\n",
    "# - mhw where\n",
    "# - largest spatial extent\n",
    "\n"
   ]
  },
  {
   "cell_type": "markdown",
   "id": "ad55c7c7-133e-431d-8e0e-1f2d2ee1170c",
   "metadata": {},
   "source": [
    "### scratchwork below"
   ]
  },
  {
   "cell_type": "code",
   "execution_count": null,
   "id": "6b71a481-bc9e-4963-bb02-af68fba8a0db",
   "metadata": {},
   "outputs": [],
   "source": [
    "def number_of_mhws(event_file):\n",
    "    return len(np.unique(event_file.labels)) - 1\n",
    "\n",
    "def calc_duration(event_file, mhw_id):\n",
    "    return len(event_file.where(event_file.labels==mhw_id, drop=True).time)\n",
    "\n",
    "def calc_cumulativeintensity(event_file, mhw_id):\n",
    "    for_one_mhw = event_file.where(event_file.labels==mhw_id, drop=True)\n",
    "    cumulative_intensity = for_one_mhw.SSTA.sum()\n",
    "    cumulative_intensity_monthly = for_one_mhw.SSTA.sum(axis=(1,2))\n",
    "    return cumulative_intensity, cumulative_intensity_monthly #cumulative_intensity_monthly.values"
   ]
  },
  {
   "cell_type": "code",
   "execution_count": null,
   "id": "c1594c24-8f25-40a4-831a-f0a2803aa070",
   "metadata": {},
   "outputs": [],
   "source": [
    "durations = np.zeros(no_mhws)\n",
    "for mhw_id in range(1,no_mhws):\n",
    "    durations[mhw_id] = calc_duration(event_file, mhw_id)"
   ]
  },
  {
   "cell_type": "code",
   "execution_count": null,
   "id": "067753e8-74bb-4d23-9b63-ec41d65b8ad6",
   "metadata": {},
   "outputs": [],
   "source": [
    "cumulative_intensity_ls = np.zeros(no_mhws)\n",
    "cumulative_intensity_monthly_ls = []\n",
    "for mhw_id in range(1,no_mhws):\n",
    "    cumulative_intensity, cumulative_intensity_monthly = calc_cumulativeintensity(event_file, mhw_id)\n",
    "    cumulative_intensity_ls[mhw_id] = cumulative_intensity\n",
    "    cumulative_intensity_monthly_ls.append(cumulative_intensity_monthly)"
   ]
  }
 ],
 "metadata": {
  "kernelspec": {
   "display_name": "Python 3 (ipykernel)",
   "language": "python",
   "name": "python3"
  },
  "language_info": {
   "codemirror_mode": {
    "name": "ipython",
    "version": 3
   },
   "file_extension": ".py",
   "mimetype": "text/x-python",
   "name": "python",
   "nbconvert_exporter": "python",
   "pygments_lexer": "ipython3",
   "version": "3.9.12"
  }
 },
 "nbformat": 4,
 "nbformat_minor": 5
}
