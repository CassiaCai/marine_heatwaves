{
 "cells": [
  {
   "cell_type": "code",
   "execution_count": 4,
   "metadata": {},
   "outputs": [
    {
     "name": "stdout",
     "output_type": "stream",
     "text": [
      "/Users/cassiacai/Desktop/marine_heatwaves\n"
     ]
    }
   ],
   "source": [
    "cd .. "
   ]
  },
  {
   "cell_type": "code",
   "execution_count": 5,
   "metadata": {},
   "outputs": [],
   "source": [
    "from mhw_library.datageneration import toy_example, toy_example_withsplit, toy_example_into_full_time, const_toy_example, combined_events\n",
    "\n",
    "import xarray as xr\n",
    "import numpy as np\n",
    "import pandas as pd\n",
    "import scipy.stats\n",
    "import matplotlib.pyplot as plt"
   ]
  },
  {
   "cell_type": "code",
   "execution_count": 34,
   "metadata": {},
   "outputs": [
    {
     "name": "stdout",
     "output_type": "stream",
     "text": [
      "(100, 100, 481, 40)\n",
      "(100, 100, 481, 40)\n"
     ]
    }
   ],
   "source": [
    "# generate our dataset of toy examples\n",
    "events_list = []\n",
    "const_events_list = []\n",
    "for i in range(40):\n",
    "    toy_array = toy_example_withsplit(np.random.randint(5,20),100,100,np.random.randint(3,5),np.random.randint(0.25,1.25))\n",
    "    const_toy_array = const_toy_example(toy_array, i)\n",
    "    toy_array_ft = toy_example_into_full_time(481,toy_array)\n",
    "    const_toy_array_ft = toy_example_into_full_time(481,const_toy_array)\n",
    "    events_list.append(toy_array_ft)\n",
    "    const_events_list.append(const_toy_array_ft)\n",
    "all_events = combined_events(events_list)\n",
    "all_const_events = combined_events(const_events_list)\n",
    "print(all_events.shape)\n",
    "print(all_const_events.shape)"
   ]
  },
  {
   "cell_type": "code",
   "execution_count": 53,
   "metadata": {},
   "outputs": [],
   "source": [
    "# make into same format as the output that we use\n",
    "lat_ = np.arange(0,100)\n",
    "lon_ = np.arange(0,100)\n",
    "time_ = np.arange(0,481)\n",
    "labels_ = np.arange(0,40)"
   ]
  },
  {
   "cell_type": "code",
   "execution_count": 54,
   "metadata": {},
   "outputs": [],
   "source": [
    "# Make into Dataset\n",
    "data_xr = xr.DataArray(all_events,\n",
    "coords={'lat': lat_,'lon': lon_,'time': time_, 'heatwave_label': labels_}, \n",
    "dims=[\"lat\", \"lon\", \"time\", \"heatwave_label\"])\n",
    "\n",
    "data_xr[\"labels\"] =(['lat', 'lon', 'time', \"heatwave_label\"],  all_const_events)"
   ]
  },
  {
   "cell_type": "code",
   "execution_count": 55,
   "metadata": {},
   "outputs": [],
   "source": [
    "data_xr[\"labels\"] =(['lat', 'lon', 'time', \"heatwave_label\"],  all_const_events)"
   ]
  },
  {
   "cell_type": "code",
   "execution_count": 59,
   "metadata": {},
   "outputs": [],
   "source": [
    "data_xr[\"SSTA\"] =(['lat', 'lon', 'time', \"heatwave_label\"],  all_events)"
   ]
  },
  {
   "cell_type": "code",
   "execution_count": 61,
   "metadata": {
    "tags": []
   },
   "outputs": [],
   "source": [
    "newone = data_xr.to_dataset"
   ]
  },
  {
   "cell_type": "code",
   "execution_count": 65,
   "metadata": {},
   "outputs": [],
   "source": [
    "from datetime import datetime\n",
    "\n",
    "# define data with variable attributes\n",
    "data_vars = {'velocity':(['time'], [9.8,19.6,29.4,39.2], \n",
    "                         {'units': 'm/s', \n",
    "                          'long_name':'free-fall velocity'})}\n",
    "\n",
    "# define coordinates\n",
    "coords = {'time': (['time'], [1,2,3,4])}\n",
    "\n",
    "# define global attributes\n",
    "attrs = {'creation_date':datetime.now(), \n",
    "         'author':'Jane Doe', \n",
    "         'email':'address@email.com'}\n",
    "\n",
    "# create dataset\n",
    "ds = xr.Dataset(data_vars=data_vars, \n",
    "                coords=coords, \n",
    "                attrs=attrs)"
   ]
  },
  {
   "cell_type": "code",
   "execution_count": null,
   "metadata": {},
   "outputs": [],
   "source": []
  }
 ],
 "metadata": {
  "interpreter": {
   "hash": "8ab49b4140988098c4216be751505513b6054a8bf0e9d967aa840199d92b2cee"
  },
  "kernelspec": {
   "display_name": "myenv",
   "language": "python",
   "name": "myenv"
  },
  "language_info": {
   "codemirror_mode": {
    "name": "ipython",
    "version": 3
   },
   "file_extension": ".py",
   "mimetype": "text/x-python",
   "name": "python",
   "nbconvert_exporter": "python",
   "pygments_lexer": "ipython3",
   "version": "3.6.13"
  }
 },
 "nbformat": 4,
 "nbformat_minor": 4
}
