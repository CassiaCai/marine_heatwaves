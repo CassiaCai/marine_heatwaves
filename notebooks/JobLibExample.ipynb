{
 "cells": [
  {
   "cell_type": "code",
   "execution_count": 3,
   "id": "fc358459-ba7a-42d8-84ef-5e7b8178f60f",
   "metadata": {},
   "outputs": [
    {
     "name": "stdout",
     "output_type": "stream",
     "text": [
      "Defaulting to user installation because normal site-packages is not writeable\n",
      "Requirement already satisfied: joblib in ./.local/lib/python3.9/site-packages (1.2.0)\n"
     ]
    }
   ],
   "source": [
    "!pip install joblib"
   ]
  },
  {
   "cell_type": "code",
   "execution_count": 4,
   "id": "66f6bf30-75a1-492a-90c8-d90dcfe52b03",
   "metadata": {},
   "outputs": [],
   "source": [
    "from joblib import Parallel, delayed"
   ]
  },
  {
   "cell_type": "code",
   "execution_count": 6,
   "id": "31a327d5-3bea-41b1-b4ee-e828d0b6c87e",
   "metadata": {},
   "outputs": [],
   "source": [
    "import numpy as np\n",
    "import xarray as xr"
   ]
  },
  {
   "cell_type": "code",
   "execution_count": 7,
   "id": "17a22e74-9d8c-49a8-9342-21acb203a9e4",
   "metadata": {},
   "outputs": [],
   "source": [
    "data_path = '/glade/u/home/cassiacai/marine_heatwaves/notebooks/SSTA_and_events_0_3.nc'"
   ]
  },
  {
   "cell_type": "code",
   "execution_count": 8,
   "id": "03abd7af-e8c1-416e-981b-a87857bedb93",
   "metadata": {},
   "outputs": [],
   "source": [
    "# read as dask array when chunks are specified\n",
    "events = xr.open_dataset(data_path)"
   ]
  },
  {
   "cell_type": "code",
   "execution_count": 17,
   "id": "4d2836ab-8b37-4a33-8eee-eedecd841e1a",
   "metadata": {},
   "outputs": [],
   "source": [
    "# simple function returning one scalar\n",
    "def calc_cumulativeintensity(events, mhw_id):\n",
    "    cumulative_intensity = np.nansum(events.where(events.labels==mhw_id, drop=True).SSTA)\n",
    "    return cumulative_intensity"
   ]
  },
  {
   "cell_type": "markdown",
   "id": "fb4f569c-dbf1-488a-be00-4d156a8d6d17",
   "metadata": {},
   "source": [
    "**Run without parallelization:**"
   ]
  },
  {
   "cell_type": "code",
   "execution_count": 18,
   "id": "bd227790-0ea8-4b9f-998e-dbfd59281627",
   "metadata": {},
   "outputs": [
    {
     "name": "stdout",
     "output_type": "stream",
     "text": [
      "CPU times: user 5min 57s, sys: 4min 10s, total: 10min 7s\n",
      "Wall time: 10min 7s\n"
     ]
    }
   ],
   "source": [
    "%%time\n",
    "measures = [calc_cumulativeintensity(events, mhw_id) for mhw_id in list(range(1,1203))]"
   ]
  },
  {
   "cell_type": "markdown",
   "id": "9950634c-ced3-4474-8ecb-f0c39ea840d0",
   "metadata": {},
   "source": [
    "**Run with parallelization:**"
   ]
  },
  {
   "cell_type": "code",
   "execution_count": 19,
   "id": "f66dd542-6bb3-4510-918d-2de62b7a9759",
   "metadata": {},
   "outputs": [
    {
     "name": "stdout",
     "output_type": "stream",
     "text": [
      "CPU times: user 6min 41s, sys: 4min 18s, total: 10min 59s\n",
      "Wall time: 1min 27s\n"
     ]
    }
   ],
   "source": [
    "%%time\n",
    "measures = Parallel(n_jobs=8, require=\"sharedmem\")(delayed(calc_cumulativeintensity)(events, mhw_id) for mhw_id in list(range(1,1203)))"
   ]
  },
  {
   "cell_type": "code",
   "execution_count": null,
   "id": "2ecd1e14-14ca-416f-986b-74eab847b554",
   "metadata": {},
   "outputs": [],
   "source": []
  }
 ],
 "metadata": {
  "kernelspec": {
   "display_name": "Python 3 (ipykernel)",
   "language": "python",
   "name": "python3"
  },
  "language_info": {
   "codemirror_mode": {
    "name": "ipython",
    "version": 3
   },
   "file_extension": ".py",
   "mimetype": "text/x-python",
   "name": "python",
   "nbconvert_exporter": "python",
   "pygments_lexer": "ipython3",
   "version": "3.9.12"
  }
 },
 "nbformat": 4,
 "nbformat_minor": 5
}
