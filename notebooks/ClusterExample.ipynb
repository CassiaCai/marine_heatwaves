{
 "cells": [
  {
   "cell_type": "markdown",
   "id": "eb40764d-d1cc-4ff4-9305-b9783672460e",
   "metadata": {},
   "source": [
    "### Parallel Computation of Measures \n",
    "\n",
    "This notebook provides an example of setting up a PBSCluster and running applying a measure function on the list of MHWs in events data array."
   ]
  },
  {
   "cell_type": "markdown",
   "id": "e5f1c915-0136-4a31-9a04-75251350fd78",
   "metadata": {},
   "source": [
    "#### Setting Up Cluster"
   ]
  },
  {
   "cell_type": "code",
   "execution_count": 1,
   "id": "bcb04d4f-ccfc-43e3-9820-402b1e42e3d6",
   "metadata": {},
   "outputs": [
    {
     "name": "stdout",
     "output_type": "stream",
     "text": [
      "Note: you may need to restart the kernel to use updated packages.\n"
     ]
    }
   ],
   "source": [
    "pip install dask-jobqueue --quiet"
   ]
  },
  {
   "cell_type": "code",
   "execution_count": 39,
   "id": "6f7ddbef-652c-4837-bb49-fd2a941a9dcc",
   "metadata": {},
   "outputs": [
    {
     "name": "stdout",
     "output_type": "stream",
     "text": [
      "Note: you may need to restart the kernel to use updated packages.\n"
     ]
    }
   ],
   "source": [
    "pip install xarray --quiet"
   ]
  },
  {
   "cell_type": "code",
   "execution_count": 43,
   "id": "cd299df8-fdd1-46cb-a6da-63eab40710f6",
   "metadata": {},
   "outputs": [],
   "source": [
    "# pip install netcdf4"
   ]
  },
  {
   "cell_type": "code",
   "execution_count": 1,
   "id": "15b29d2c-c8bb-4d33-a7e2-9b071bf8ddac",
   "metadata": {},
   "outputs": [],
   "source": [
    "import dask"
   ]
  },
  {
   "cell_type": "code",
   "execution_count": 2,
   "id": "3114cb9c-4aa3-484c-b047-b6364e477ea3",
   "metadata": {},
   "outputs": [],
   "source": [
    "from dask_jobqueue import PBSCluster"
   ]
  },
  {
   "cell_type": "code",
   "execution_count": 3,
   "id": "4052633d-28bf-4ee8-93ef-d166339121bd",
   "metadata": {},
   "outputs": [],
   "source": [
    "from dask.distributed import Client"
   ]
  },
  {
   "cell_type": "code",
   "execution_count": 4,
   "id": "6a09e162-860f-4fd2-ae25-fa63c004ffc5",
   "metadata": {},
   "outputs": [],
   "source": [
    "from dask import delayed"
   ]
  },
  {
   "cell_type": "code",
   "execution_count": 5,
   "id": "4cfdc76b-e53a-4c5d-b540-240eb3a8c072",
   "metadata": {},
   "outputs": [],
   "source": [
    "import numpy as np\n",
    "import xarray as xr"
   ]
  },
  {
   "cell_type": "code",
   "execution_count": 6,
   "id": "b4881bf3-b946-47c6-95d1-3c253312d4cb",
   "metadata": {},
   "outputs": [
    {
     "name": "stderr",
     "output_type": "stream",
     "text": [
      "/glade/u/home/vstaneva/.local/lib/python3.9/site-packages/dask_jobqueue/pbs.py:82: FutureWarning: project has been renamed to account as this kwarg was used wit -A option. You are still using it (please also check config files). If you did not set account yet, project will be respected for now, but it will be removed in a future release. If you already set account, project is ignored and you can remove it.\n",
      "  warnings.warn(warn, FutureWarning)\n",
      "/ncar/usr/jupyterhub.hpc.ucar.edu/jupyterhub-20220511/lib/python3.9/site-packages/distributed/node.py:177: UserWarning: Port 8787 is already in use.\n",
      "Perhaps you already have a cluster running?\n",
      "Hosting the HTTP server on port 39216 instead\n",
      "  warnings.warn(\n"
     ]
    }
   ],
   "source": [
    "# Setup your PBSCluster\n",
    "cluster = PBSCluster(\n",
    "    cores=4, # The number of cores you want\n",
    "    memory='32GB', # Amount of memory\n",
    "    processes=1, # How many processes\n",
    "    queue='casper', # The type of queue to utilize (/glade/u/apps/dav/opt/usr/bin/execcasper)\n",
    "    local_directory='$TMPDIR', # Use your local directory\n",
    "    resource_spec='select=1:ncpus=6:mem=32GB', # Specify resources\n",
    "    project='UWIS0040', # Input your project ID here\n",
    "    walltime='02:00:00', # Amount of wall time\n",
    "    interface='ib0', # Interface to use\n",
    ")"
   ]
  },
  {
   "cell_type": "code",
   "execution_count": 7,
   "id": "fae3ae11-4f33-492c-86d8-790af5878e9c",
   "metadata": {},
   "outputs": [
    {
     "name": "stderr",
     "output_type": "stream",
     "text": [
      "/glade/u/home/vstaneva/.local/lib/python3.9/site-packages/dask_jobqueue/pbs.py:82: FutureWarning: project has been renamed to account as this kwarg was used wit -A option. You are still using it (please also check config files). If you did not set account yet, project will be respected for now, but it will be removed in a future release. If you already set account, project is ignored and you can remove it.\n",
      "  warnings.warn(warn, FutureWarning)\n"
     ]
    }
   ],
   "source": [
    "# Scale up\n",
    "cluster.scale(4)"
   ]
  },
  {
   "cell_type": "code",
   "execution_count": 8,
   "id": "9e24df84-a9c2-4e5f-a0aa-4416f0ea7c4b",
   "metadata": {},
   "outputs": [
    {
     "data": {
      "application/vnd.jupyter.widget-view+json": {
       "model_id": "7e1161e20c6c4aa6ab9c5cf17c76f786",
       "version_major": 2,
       "version_minor": 0
      },
      "text/plain": [
       "Tab(children=(HTML(value='<div class=\"jp-RenderedHTMLCommon jp-RenderedHTML jp-mod-trusted jp-OutputArea-outpu…"
      ]
     },
     "metadata": {},
     "output_type": "display_data"
    }
   ],
   "source": [
    "cluster"
   ]
  },
  {
   "cell_type": "code",
   "execution_count": 9,
   "id": "d592bc7c-0d05-4fe7-8fdf-c8c0bd475391",
   "metadata": {},
   "outputs": [],
   "source": [
    "# Change your url to the dask dashboard so you can see it\n",
    "dask.config.set({'distributed.dashboard.link':'https://jupyterhub.hpc.ucar.edu/stable/user/{USER}/proxy/{port}/status'})\n",
    "\n",
    "# Setup your client\n",
    "client = Client(cluster)"
   ]
  },
  {
   "cell_type": "markdown",
   "id": "ce8755ce-9cfb-42ca-8ae4-58c40706111d",
   "metadata": {},
   "source": [
    "#### Reading Data"
   ]
  },
  {
   "cell_type": "code",
   "execution_count": 10,
   "id": "41132402-2dea-406e-b31b-56bd2a0b45cf",
   "metadata": {},
   "outputs": [],
   "source": [
    "data_path = '/glade/u/home/cassiacai/marine_heatwaves/notebooks/SSTA_and_events_0_3.nc'"
   ]
  },
  {
   "cell_type": "code",
   "execution_count": 11,
   "id": "03250693-e0fa-4dca-8f32-ce58efbef72c",
   "metadata": {},
   "outputs": [],
   "source": [
    "# read as dask array when chunks are specified\n",
    "events = xr.open_dataset(data_path, chunks={'lat': -1, 'lon': -1, 'time': 20})"
   ]
  },
  {
   "cell_type": "code",
   "execution_count": 12,
   "id": "a69685cb-2797-4248-add9-f89c2281879d",
   "metadata": {},
   "outputs": [],
   "source": [
    "# read in ram\n",
    "# events = xr.open_dataset(data_path)"
   ]
  },
  {
   "cell_type": "code",
   "execution_count": 13,
   "id": "9b843f89-9f80-4be2-a330-5733d2f53ee6",
   "metadata": {},
   "outputs": [
    {
     "data": {
      "text/plain": [
       "dask.array.core.Array"
      ]
     },
     "execution_count": 13,
     "metadata": {},
     "output_type": "execute_result"
    }
   ],
   "source": [
    "type(events.SSTA.data)"
   ]
  },
  {
   "cell_type": "code",
   "execution_count": 31,
   "id": "fac274f6-c98c-4ef1-a869-4e564f9d7212",
   "metadata": {},
   "outputs": [
    {
     "data": {
      "text/html": [
       "<table>\n",
       "    <tr>\n",
       "        <td>\n",
       "            <table>\n",
       "                <thead>\n",
       "                    <tr>\n",
       "                        <td> </td>\n",
       "                        <th> Array </th>\n",
       "                        <th> Chunk </th>\n",
       "                    </tr>\n",
       "                </thead>\n",
       "                <tbody>\n",
       "                    \n",
       "                    <tr>\n",
       "                        <th> Bytes </th>\n",
       "                        <td> 835.31 MiB </td>\n",
       "                        <td> 8.44 MiB </td>\n",
       "                    </tr>\n",
       "                    \n",
       "                    <tr>\n",
       "                        <th> Shape </th>\n",
       "                        <td> (1980, 192, 288) </td>\n",
       "                        <td> (20, 192, 288) </td>\n",
       "                    </tr>\n",
       "                    <tr>\n",
       "                        <th> Count </th>\n",
       "                        <td> 99 Tasks </td>\n",
       "                        <td> 99 Chunks </td>\n",
       "                    </tr>\n",
       "                    <tr>\n",
       "                    <th> Type </th>\n",
       "                    <td> float64 </td>\n",
       "                    <td> numpy.ndarray </td>\n",
       "                    </tr>\n",
       "                </tbody>\n",
       "            </table>\n",
       "        </td>\n",
       "        <td>\n",
       "        <svg width=\"171\" height=\"159\" style=\"stroke:rgb(0,0,0);stroke-width:1\" >\n",
       "\n",
       "  <!-- Horizontal lines -->\n",
       "  <line x1=\"10\" y1=\"0\" x2=\"80\" y2=\"70\" style=\"stroke-width:2\" />\n",
       "  <line x1=\"10\" y1=\"38\" x2=\"80\" y2=\"109\" style=\"stroke-width:2\" />\n",
       "\n",
       "  <!-- Vertical lines -->\n",
       "  <line x1=\"10\" y1=\"0\" x2=\"10\" y2=\"38\" style=\"stroke-width:2\" />\n",
       "  <line x1=\"13\" y1=\"3\" x2=\"13\" y2=\"41\" />\n",
       "  <line x1=\"17\" y1=\"7\" x2=\"17\" y2=\"45\" />\n",
       "  <line x1=\"20\" y1=\"10\" x2=\"20\" y2=\"49\" />\n",
       "  <line x1=\"24\" y1=\"14\" x2=\"24\" y2=\"52\" />\n",
       "  <line x1=\"28\" y1=\"18\" x2=\"28\" y2=\"56\" />\n",
       "  <line x1=\"32\" y1=\"22\" x2=\"32\" y2=\"60\" />\n",
       "  <line x1=\"35\" y1=\"25\" x2=\"35\" y2=\"64\" />\n",
       "  <line x1=\"39\" y1=\"29\" x2=\"39\" y2=\"67\" />\n",
       "  <line x1=\"42\" y1=\"32\" x2=\"42\" y2=\"71\" />\n",
       "  <line x1=\"47\" y1=\"37\" x2=\"47\" y2=\"75\" />\n",
       "  <line x1=\"50\" y1=\"40\" x2=\"50\" y2=\"79\" />\n",
       "  <line x1=\"54\" y1=\"44\" x2=\"54\" y2=\"82\" />\n",
       "  <line x1=\"57\" y1=\"47\" x2=\"57\" y2=\"86\" />\n",
       "  <line x1=\"61\" y1=\"51\" x2=\"61\" y2=\"89\" />\n",
       "  <line x1=\"65\" y1=\"55\" x2=\"65\" y2=\"94\" />\n",
       "  <line x1=\"69\" y1=\"59\" x2=\"69\" y2=\"97\" />\n",
       "  <line x1=\"72\" y1=\"62\" x2=\"72\" y2=\"101\" />\n",
       "  <line x1=\"76\" y1=\"66\" x2=\"76\" y2=\"104\" />\n",
       "  <line x1=\"80\" y1=\"70\" x2=\"80\" y2=\"109\" style=\"stroke-width:2\" />\n",
       "\n",
       "  <!-- Colored Rectangle -->\n",
       "  <polygon points=\"10.0,0.0 80.58823529411765,70.58823529411765 80.58823529411765,109.01386754281697 10.0,38.42563224869931\" style=\"fill:#8B4903A0;stroke-width:0\"/>\n",
       "\n",
       "  <!-- Horizontal lines -->\n",
       "  <line x1=\"10\" y1=\"0\" x2=\"50\" y2=\"0\" style=\"stroke-width:2\" />\n",
       "  <line x1=\"13\" y1=\"3\" x2=\"54\" y2=\"3\" />\n",
       "  <line x1=\"17\" y1=\"7\" x2=\"57\" y2=\"7\" />\n",
       "  <line x1=\"20\" y1=\"10\" x2=\"61\" y2=\"10\" />\n",
       "  <line x1=\"24\" y1=\"14\" x2=\"64\" y2=\"14\" />\n",
       "  <line x1=\"28\" y1=\"18\" x2=\"69\" y2=\"18\" />\n",
       "  <line x1=\"32\" y1=\"22\" x2=\"72\" y2=\"22\" />\n",
       "  <line x1=\"35\" y1=\"25\" x2=\"76\" y2=\"25\" />\n",
       "  <line x1=\"39\" y1=\"29\" x2=\"79\" y2=\"29\" />\n",
       "  <line x1=\"42\" y1=\"32\" x2=\"83\" y2=\"32\" />\n",
       "  <line x1=\"47\" y1=\"37\" x2=\"87\" y2=\"37\" />\n",
       "  <line x1=\"50\" y1=\"40\" x2=\"91\" y2=\"40\" />\n",
       "  <line x1=\"54\" y1=\"44\" x2=\"94\" y2=\"44\" />\n",
       "  <line x1=\"57\" y1=\"47\" x2=\"98\" y2=\"47\" />\n",
       "  <line x1=\"61\" y1=\"51\" x2=\"101\" y2=\"51\" />\n",
       "  <line x1=\"65\" y1=\"55\" x2=\"106\" y2=\"55\" />\n",
       "  <line x1=\"69\" y1=\"59\" x2=\"109\" y2=\"59\" />\n",
       "  <line x1=\"72\" y1=\"62\" x2=\"113\" y2=\"62\" />\n",
       "  <line x1=\"76\" y1=\"66\" x2=\"116\" y2=\"66\" />\n",
       "  <line x1=\"80\" y1=\"70\" x2=\"121\" y2=\"70\" style=\"stroke-width:2\" />\n",
       "\n",
       "  <!-- Vertical lines -->\n",
       "  <line x1=\"10\" y1=\"0\" x2=\"80\" y2=\"70\" style=\"stroke-width:2\" />\n",
       "  <line x1=\"50\" y1=\"0\" x2=\"121\" y2=\"70\" style=\"stroke-width:2\" />\n",
       "\n",
       "  <!-- Colored Rectangle -->\n",
       "  <polygon points=\"10.0,0.0 50.55686029983001,0.0 121.14509559394766,70.58823529411765 80.58823529411765,70.58823529411765\" style=\"fill:#8B4903A0;stroke-width:0\"/>\n",
       "\n",
       "  <!-- Horizontal lines -->\n",
       "  <line x1=\"80\" y1=\"70\" x2=\"121\" y2=\"70\" style=\"stroke-width:2\" />\n",
       "  <line x1=\"80\" y1=\"109\" x2=\"121\" y2=\"109\" style=\"stroke-width:2\" />\n",
       "\n",
       "  <!-- Vertical lines -->\n",
       "  <line x1=\"80\" y1=\"70\" x2=\"80\" y2=\"109\" style=\"stroke-width:2\" />\n",
       "  <line x1=\"121\" y1=\"70\" x2=\"121\" y2=\"109\" style=\"stroke-width:2\" />\n",
       "\n",
       "  <!-- Colored Rectangle -->\n",
       "  <polygon points=\"80.58823529411765,70.58823529411765 121.14509559394766,70.58823529411765 121.14509559394766,109.01386754281697 80.58823529411765,109.01386754281697\" style=\"fill:#ECB172A0;stroke-width:0\"/>\n",
       "\n",
       "  <!-- Text -->\n",
       "  <text x=\"100.866665\" y=\"129.013868\" font-size=\"1.0rem\" font-weight=\"100\" text-anchor=\"middle\" >288</text>\n",
       "  <text x=\"141.145096\" y=\"89.801051\" font-size=\"1.0rem\" font-weight=\"100\" text-anchor=\"middle\" transform=\"rotate(-90,141.145096,89.801051)\">192</text>\n",
       "  <text x=\"35.294118\" y=\"93.719750\" font-size=\"1.0rem\" font-weight=\"100\" text-anchor=\"middle\" transform=\"rotate(45,35.294118,93.719750)\">1980</text>\n",
       "</svg>\n",
       "        </td>\n",
       "    </tr>\n",
       "</table>"
      ],
      "text/plain": [
       "dask.array<open_dataset-652df775531f39fef5c2e3dd6907e5f0SSTA, shape=(1980, 192, 288), dtype=float64, chunksize=(20, 192, 288), chunktype=numpy.ndarray>"
      ]
     },
     "execution_count": 31,
     "metadata": {},
     "output_type": "execute_result"
    }
   ],
   "source": [
    "events.SSTA.data"
   ]
  },
  {
   "cell_type": "code",
   "execution_count": 14,
   "id": "27486e72-bc99-4037-94ec-466c56d43245",
   "metadata": {},
   "outputs": [
    {
     "data": {
      "text/plain": [
       "Frozen({'time': (20, 20, 20, 20, 20, 20, 20, 20, 20, 20, 20, 20, 20, 20, 20, 20, 20, 20, 20, 20, 20, 20, 20, 20, 20, 20, 20, 20, 20, 20, 20, 20, 20, 20, 20, 20, 20, 20, 20, 20, 20, 20, 20, 20, 20, 20, 20, 20, 20, 20, 20, 20, 20, 20, 20, 20, 20, 20, 20, 20, 20, 20, 20, 20, 20, 20, 20, 20, 20, 20, 20, 20, 20, 20, 20, 20, 20, 20, 20, 20, 20, 20, 20, 20, 20, 20, 20, 20, 20, 20, 20, 20, 20, 20, 20, 20, 20, 20, 20), 'lat': (192,), 'lon': (288,)})"
      ]
     },
     "execution_count": 14,
     "metadata": {},
     "output_type": "execute_result"
    }
   ],
   "source": [
    "events.chunks"
   ]
  },
  {
   "cell_type": "code",
   "execution_count": 15,
   "id": "be14f456-9ee1-4aaa-a1ef-8cd5c2d2229c",
   "metadata": {},
   "outputs": [],
   "source": [
    "# we will persist the data on the cluster so we do not have to read it multiple times\n",
    "events = events.persist()"
   ]
  },
  {
   "cell_type": "markdown",
   "id": "40e8cb8f-684a-4d6d-bf08-4281d9c15be7",
   "metadata": {},
   "source": [
    "Test with a simple function which returns a scalar output."
   ]
  },
  {
   "cell_type": "code",
   "execution_count": 16,
   "id": "13ec1c60-6f62-40b1-83d1-cb949400efbb",
   "metadata": {},
   "outputs": [],
   "source": [
    "@dask.delayed\n",
    "def calc_cumulativeintensity(event_file, mhw_id):\n",
    "    # for_one_mhw = event_file.where(event_file.labels==mhw_id, drop=True)\n",
    "    # cumulative_intensity = np.nansum(for_one_mhw.SSTA)\n",
    "    cumulative_intensity = np.nansum(event_file.where(event_file.labels==mhw_id, drop=True).SSTA)\n",
    "    #cumulative_intensity_monthly = for_one_mhw.SSTA.sum(axis=(1,2)).values\n",
    "    return cumulative_intensity"
   ]
  },
  {
   "cell_type": "code",
   "execution_count": 17,
   "id": "3016dcd6-d10e-4a26-8e99-1c81a139b571",
   "metadata": {},
   "outputs": [],
   "source": [
    "# obtaining the labels ids (they are 0-1203 so we do not compute them every time)\n",
    "# mhw_ids = np.unique(events.labels.data)\n",
    "# mhw_ids = np.unique(events.labels.data).compute()"
   ]
  },
  {
   "cell_type": "code",
   "execution_count": 18,
   "id": "a00ac585-02e5-4ee9-bb9f-c5330480e597",
   "metadata": {},
   "outputs": [],
   "source": [
    "# np.nanmax(mhw_ids)"
   ]
  },
  {
   "cell_type": "code",
   "execution_count": 19,
   "id": "472022a2-a294-4e15-bc9f-c2270e1ea88d",
   "metadata": {},
   "outputs": [],
   "source": [
    "# output = calc_cumulativeintensity(events, mhw_ids[0])"
   ]
  },
  {
   "cell_type": "code",
   "execution_count": 20,
   "id": "4127895a-a349-422c-a6cb-3f0518e513fd",
   "metadata": {},
   "outputs": [],
   "source": [
    "# output.compute()"
   ]
  },
  {
   "cell_type": "code",
   "execution_count": null,
   "id": "5535b126-7863-4287-82aa-bb561124f622",
   "metadata": {},
   "outputs": [],
   "source": []
  },
  {
   "cell_type": "code",
   "execution_count": 21,
   "id": "664633da-5b24-4232-b0b1-4dc8d2f40c40",
   "metadata": {},
   "outputs": [],
   "source": [
    "# events_scattered = client.scatter(events)"
   ]
  },
  {
   "cell_type": "markdown",
   "id": "d7bcc5a5-5c8a-4f4d-8b22-7ea724cbe227",
   "metadata": {},
   "source": [
    "Create a list of delayed objects for every heatwave:"
   ]
  },
  {
   "cell_type": "code",
   "execution_count": 22,
   "id": "e01f4ccb-aab3-4958-a23c-6571bb605aa9",
   "metadata": {},
   "outputs": [],
   "source": [
    "# measures = [calc_cumulativeintensity(events, i) for i in mhw_ids[:50]]"
   ]
  },
  {
   "cell_type": "code",
   "execution_count": 23,
   "id": "b6d8852f-d199-4c43-963f-5cbf639391a9",
   "metadata": {},
   "outputs": [],
   "source": [
    "measures = [calc_cumulativeintensity(events, i) for i in range(1203)]"
   ]
  },
  {
   "cell_type": "code",
   "execution_count": 24,
   "id": "fadd31cc-8b22-4d4f-a5a3-07c825f9b565",
   "metadata": {},
   "outputs": [],
   "source": [
    "# measures"
   ]
  },
  {
   "cell_type": "code",
   "execution_count": null,
   "id": "89125c1b-aa48-42d8-934a-30a81b7b6399",
   "metadata": {},
   "outputs": [],
   "source": []
  },
  {
   "cell_type": "code",
   "execution_count": null,
   "id": "b5072592-3370-48ba-8a5d-1916fae0b894",
   "metadata": {},
   "outputs": [],
   "source": []
  },
  {
   "cell_type": "code",
   "execution_count": 25,
   "id": "3253442c-79fc-4de7-bc53-267e44ab149c",
   "metadata": {},
   "outputs": [
    {
     "name": "stdout",
     "output_type": "stream",
     "text": [
      "CPU times: user 53.6 s, sys: 1.83 s, total: 55.4 s\n",
      "Wall time: 2min 21s\n"
     ]
    }
   ],
   "source": [
    "%%time\n",
    "output = dask.compute(measures)"
   ]
  },
  {
   "cell_type": "code",
   "execution_count": 29,
   "id": "7e5425b6-2256-4c0c-96d5-4d0739ee4e27",
   "metadata": {},
   "outputs": [
    {
     "data": {
      "text/plain": [
       "1203"
      ]
     },
     "execution_count": 29,
     "metadata": {},
     "output_type": "execute_result"
    }
   ],
   "source": [
    "len(output[0])"
   ]
  },
  {
   "cell_type": "code",
   "execution_count": null,
   "id": "09f5945f-262d-4db5-bf34-c268b79712c7",
   "metadata": {},
   "outputs": [],
   "source": []
  },
  {
   "cell_type": "code",
   "execution_count": null,
   "id": "0a248241-db60-4da0-80ba-98c981b4c4d7",
   "metadata": {},
   "outputs": [],
   "source": []
  },
  {
   "cell_type": "code",
   "execution_count": null,
   "id": "12a23c46-8a4a-4ec6-b168-c2cc3dee816c",
   "metadata": {},
   "outputs": [],
   "source": []
  },
  {
   "cell_type": "code",
   "execution_count": null,
   "id": "db50b1c4-16ab-482f-be08-0247e259dd87",
   "metadata": {},
   "outputs": [],
   "source": []
  }
 ],
 "metadata": {
  "kernelspec": {
   "display_name": "Python 3 (ipykernel)",
   "language": "python",
   "name": "python3"
  },
  "language_info": {
   "codemirror_mode": {
    "name": "ipython",
    "version": 3
   },
   "file_extension": ".py",
   "mimetype": "text/x-python",
   "name": "python",
   "nbconvert_exporter": "python",
   "pygments_lexer": "ipython3",
   "version": "3.9.12"
  }
 },
 "nbformat": 4,
 "nbformat_minor": 5
}
