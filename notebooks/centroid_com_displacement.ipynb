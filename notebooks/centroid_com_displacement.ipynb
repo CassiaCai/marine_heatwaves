{
 "cells": [
  {
   "cell_type": "code",
   "execution_count": 13,
   "id": "3f724326-a851-4495-83ff-be3e5444385a",
   "metadata": {},
   "outputs": [],
   "source": [
    "# import s3fs; import xarray as xr; import numpy as np\n",
    "# import pandas as pd; import dask.array as da; import ocetrac\n",
    "# import matplotlib.pyplot as plt; import cartopy.crs as ccrs\n",
    "# import warnings; import expectexception\n",
    "# warnings.filterwarnings('ignore')\n",
    "# import netCDF4 as nc; import datetime as dt; import scipy\n",
    "# import intake; import pprint\n",
    "# # Allow multiple lines per cell to be displayed without print (default is just last line)\n",
    "# from IPython.core.interactiveshell import InteractiveShell\n",
    "# InteractiveShell.ast_node_interactivity = \"all\"\n",
    "# # Enable more explicit control of DataFrame display (e.g., to omit annoying line numbers)\n",
    "# from IPython.display import HTML"
   ]
  },
  {
   "cell_type": "code",
   "execution_count": 1,
   "id": "b82989b6-2983-4b70-9891-aac6fdd24a8d",
   "metadata": {},
   "outputs": [
    {
     "data": {
      "text/plain": [
       "'0.19.3'"
      ]
     },
     "execution_count": 1,
     "metadata": {},
     "output_type": "execute_result"
    }
   ],
   "source": [
    "# !pip install scikit-image==0.19.3\n",
    "# del skimage\n",
    "# import imp\n",
    "import skimage\n",
    "skimage.__version__"
   ]
  },
  {
   "cell_type": "code",
   "execution_count": 30,
   "id": "63839f60-9cfe-4574-9b69-3a2a4367a11d",
   "metadata": {},
   "outputs": [],
   "source": [
    "import importlib\n",
    "import xarray as xr\n",
    "import netCDF4 as nc\n",
    "import h5netcdf\n",
    "from skimage.measure import regionprops\n",
    "import numpy as np\n",
    "import matplotlib.pyplot as plt\n",
    "# imp.reload(xr)\n",
    "\n",
    "## ============================================================ below is something Valentina tried\n",
    "# events = event_file\n",
    "# for i in range(len(events.time)):\n",
    "#     im = events.isel(time=0).SSTA.data\n",
    "#     mask = xr.where(events.isel(time=i).SSTA>0, 1, 0).data\n",
    "#     properties = regionprops(mask, im)\n",
    "#     for prop in properties:\n",
    "#         print(prop.centroid_weighted)"
   ]
  },
  {
   "cell_type": "code",
   "execution_count": 14,
   "id": "801f4bbb-d2c8-4ca0-ae0a-dcbc2db1dc7e",
   "metadata": {},
   "outputs": [],
   "source": [
    "event_file =  xr.open_dataset('SSTA_and_events_0_3.nc')"
   ]
  },
  {
   "cell_type": "code",
   "execution_count": 44,
   "id": "fecf23b2-b7ed-4fa9-bdba-0a3d1f737f14",
   "metadata": {},
   "outputs": [],
   "source": [
    "from skimage.measure import label as label_np\n",
    "from skimage.measure import regionprops\n",
    "\n",
    "def _get_labels(binary_images):\n",
    "    '''function used to label binary images at each time step using skimage.measure.label'''\n",
    "    blobs_labels = label_np(binary_images, background=0)\n",
    "    return blobs_labels\n",
    "\n",
    "def _get_centroids(sub_labels):\n",
    "    '''This function uses skimage.measure.regionprops to find the centroids of objects assigned \n",
    "    to each unique label'''\n",
    "    props = regionprops(sub_labels.astype('int'))\n",
    "    centroids = [(float(sub_labels.lat[round(p.centroid[0])].values),\n",
    "                  float(sub_labels.lon[round(p.centroid[1])].values)) for p in props]\n",
    "    for i in range(0,len(centroids)):\n",
    "        if centroids[i][1] >= 359.75:\n",
    "            centroids[i] = (centroids[i][0], list(centroids[i])[1] - 359.75)\n",
    "    return centroids\n",
    "\n",
    "def forOneMHW_labels_only(event_file, mhw_id):\n",
    "    for_one_mhw = event_file.where(event_file.labels==mhw_id, drop=False)\n",
    "    mhw_when = np.argwhere(for_one_mhw.labels.max(axis=(1,2)).values > 0.)\n",
    "    first_timestep = mhw_when[0][0]\n",
    "    duration = calc_duration(event_file, mhw_id)\n",
    "    timesteps_to_choose_from = np.arange(first_timestep, first_timestep+duration)\n",
    "    forOneMHW_only_timesteps = for_one_mhw.labels[timesteps_to_choose_from,:,:]\n",
    "    return forOneMHW_only_timesteps\n",
    "\n",
    "def forOneMHW_SSTA_only(event_file, mhw_id):\n",
    "    for_one_mhw = event_file.where(event_file.labels==mhw_id, drop=False)\n",
    "    mhw_when = np.argwhere(for_one_mhw.labels.max(axis=(1,2)).values > 0.)\n",
    "    first_timestep = mhw_when[0][0]\n",
    "    duration = calc_duration(event_file, mhw_id)\n",
    "    timesteps_to_choose_from = np.arange(first_timestep, first_timestep+duration)\n",
    "    forOneMHW_only_timesteps = for_one_mhw.SSTA[timesteps_to_choose_from,:,:]\n",
    "    return forOneMHW_only_timesteps\n",
    "\n",
    "def centroids_per_timestep(for_one_mhw_only, timestep):\n",
    "    # Step 1. We start with one timestep and get all the sublabels\n",
    "    timestep_of_interest = forOneMHW_onlylabels_timesteps[timestep,:,:]\n",
    "    get_sub_lbs = timestep_of_interest\n",
    "    sub_labels = _get_labels(get_sub_lbs)\n",
    "    sub_labels = xr.DataArray(sub_labels, dims=get_sub_lbs.dims, coords=get_sub_lbs.coords)\n",
    "    sub_labels = sub_labels.where(timestep_of_interest>0, drop=False, other=np.nan)\n",
    "\n",
    "    # Step 2. We get all the labels on the edges\n",
    "    edge_right_sub_labels_ = sub_labels[:,-1:]\n",
    "    edge_right_sub_labels = np.unique(np.unique(edge_right_sub_labels_)[~np.isnan(np.unique(edge_right_sub_labels_))])\n",
    "    edge_left_sub_labels_ = sub_labels[:,:1]\n",
    "    edge_left_sub_labels = np.unique(np.unique(edge_left_sub_labels_)[~np.isnan(np.unique(edge_left_sub_labels_))])\n",
    "\n",
    "    edge_labels = np.unique(np.concatenate((edge_right_sub_labels, edge_left_sub_labels)))\n",
    "    nonedgecases = np.setdiff1d(np.unique(sub_labels), edge_labels)\n",
    "    nonedgecases = np.unique(nonedgecases[~np.isnan(nonedgecases)])\n",
    "\n",
    "    centroid_list = []\n",
    "    for i in nonedgecases:\n",
    "        sub_labels_nonedgecases = sub_labels.where(sub_labels==i, drop=False, other=np.nan)\n",
    "        centroid_list.append(_get_centroids(sub_labels_nonedgecases))\n",
    "\n",
    "    for i in edge_left_sub_labels:\n",
    "        sub_labels_left = sub_labels.where(sub_labels==i, drop=True)\n",
    "        lon_edge = sub_labels_left[:,-1:].lon.item()\n",
    "        sub_labels_left.coords['lon'] = (sub_labels_left.coords['lon'] + 360) \n",
    "        for j in edge_right_sub_labels:\n",
    "            sub_labels_right = sub_labels.where(sub_labels==j, drop=False, other=np.nan)\n",
    "            east = sub_labels_right.where(sub_labels_right.lon > lon_edge, drop=True)\n",
    "            append_east = xr.concat([east.where(east.lon >= lon_edge, drop=True), sub_labels_left], dim=\"lon\")\n",
    "            append_east_binarized = xr.where(append_east > 0, 1, np.nan)\n",
    "            sub_labels = _get_labels(append_east_binarized)\n",
    "            sub_labels = xr.DataArray(sub_labels, dims=append_east_binarized.dims, coords=append_east_binarized.coords)\n",
    "            sub_labels = sub_labels.where(append_east_binarized>0, drop=False, other=np.nan)\n",
    "            centroid_list.append(_get_centroids(sub_labels))\n",
    "\n",
    "    flat_centroid_list = list(set([item for sublist in centroid_list for item in sublist]))\n",
    "\n",
    "    y_val = list(zip(*flat_centroid_list))[0]\n",
    "    x_val = list(zip(*flat_centroid_list))[1]\n",
    "\n",
    "    return flat_centroid_list\n",
    "\n",
    "def _get_weighted_centroids(sub_labels, intensity, sub_labels_with_coords):\n",
    "    '''This function uses skimage.measure.regionprops to find the weighted centroids of objects assigned \n",
    "    to each unique label'''\n",
    "    props = regionprops(sub_labels, intensity, )\n",
    "    w_centroids = [(float(sub_labels_with_coords.lat[round(p.centroid_weighted[0])].values),\n",
    "                  float(sub_labels_with_coords.lon[round(p.centroid_weighted[1])].values)) for p in props]\n",
    "    for i in range(0,len(w_centroids)):\n",
    "        if w_centroids[i][1] >= 359.75:\n",
    "            w_centroids[i] = (w_centroids[i][0], list(w_centroids[i])[1] - 359.75)\n",
    "    return w_centroids"
   ]
  },
  {
   "cell_type": "code",
   "execution_count": 23,
   "id": "a91f82c5-b683-484a-87f4-4c84e25207b9",
   "metadata": {},
   "outputs": [],
   "source": [
    "# sub_labels_nonedgecases_labels = xr.where(sub_labels_nonedgecases_labels == -9223372036854775808, 1, 0.)\n",
    "# print(sub_labels_nonedgecases_labels.astype(int).data)\n",
    "# sub_labels_nonedgecases = xr.where(sub_labels_nonedgecases_labels.isnull(), 0., sub_labels_nonedgecases)\n",
    "# sub_labels_nonedgecases.plot.imshow(); plt.show()"
   ]
  },
  {
   "cell_type": "code",
   "execution_count": 24,
   "id": "ddcae824-525c-4d31-a6fa-7644f42ebf60",
   "metadata": {},
   "outputs": [],
   "source": [
    "# sub_labels_nonedgecases = sub_labels_nonedgecases.fillna(0)\n",
    "# sub_labels_nonedgecases.plot.imshow(); plt.show()"
   ]
  },
  {
   "cell_type": "code",
   "execution_count": 25,
   "id": "9b3025e9-059d-408c-96a9-bb29d604ce62",
   "metadata": {},
   "outputs": [],
   "source": [
    "# sub_labels_nonedgecases_labels = sub_labels_nonedgecases_labels.fillna(0)\n",
    "# sub_labels_nonedgecases_labels.plot.imshow(); plt.show()"
   ]
  },
  {
   "cell_type": "code",
   "execution_count": 26,
   "id": "c919fba3-57a1-4ae2-8dbb-a71454aa1a0a",
   "metadata": {},
   "outputs": [],
   "source": [
    "# props = regionprops(sub_labels_nonedgecases_labels.data.astype(int), sub_labels_nonedgecases.data)\n",
    "# props[0].centroid_weighted"
   ]
  },
  {
   "cell_type": "code",
   "execution_count": 91,
   "id": "1997cea1-4802-4ab9-b18a-ad07c0a1f3e6",
   "metadata": {},
   "outputs": [],
   "source": [
    "mhw_id = 35\n",
    "timestep = 2"
   ]
  },
  {
   "cell_type": "code",
   "execution_count": 92,
   "id": "8bdbd790-29bd-4435-a605-2f4bdcdcd316",
   "metadata": {},
   "outputs": [
    {
     "name": "stdout",
     "output_type": "stream",
     "text": [
      "[(75.86387434554973, 258.75), (24.031413612565444, 180.0)]\n"
     ]
    },
    {
     "data": {
      "image/png": "[encoded data removed]",
      "text/plain": [
       "<Figure size 432x288 with 2 Axes>"
      ]
     },
     "metadata": {
      "needs_background": "light"
     },
     "output_type": "display_data"
    }
   ],
   "source": [
    "forOneMHW_onlylabels_timesteps = forOneMHW_labels_only(event_file, mhw_id)\n",
    "# calculate centoids\n",
    "flat_centroid_list = centroids_per_timestep(forOneMHW_onlylabels_timesteps, timestep)\n",
    "print(flat_centroid_list)\n",
    "y_val = list(zip(*flat_centroid_list))[0]; x_val = list(zip(*flat_centroid_list))[1]\n",
    "forOneMHW_onlylabels_timesteps[timestep,:,:].plot.imshow(); plt.scatter(x_val, y_val, c='red'); plt.show()"
   ]
  },
  {
   "cell_type": "code",
   "execution_count": 34,
   "id": "6aa4e209-c7b4-49b0-9a6b-b6182d41e6d2",
   "metadata": {},
   "outputs": [],
   "source": [
    "forOneMHW_onlySSTA_timesteps = forOneMHW_SSTA_only(event_file, mhw_id)"
   ]
  },
  {
   "cell_type": "code",
   "execution_count": 35,
   "id": "4d77d7e8-8eda-472d-a8f0-cf1a73f34eb1",
   "metadata": {},
   "outputs": [],
   "source": [
    "# centroid_list = center_of_masses_per_timestep(forOneMHW_onlylabels_timesteps, forOneMHW_onlySSTA_timesteps, timestep)\n",
    "# print(centroid_list)\n",
    "# y_val = list(zip(*centroid_list))[0]; x_val = list(zip(*centroid_list))[1]\n",
    "# forOneMHW_onlySSTA_timesteps[timestep,:,:].plot.imshow(vmin=0, vmax=8, cmap='Reds'); plt.scatter(x_val, y_val, c='red'); plt.show()"
   ]
  },
  {
   "cell_type": "code",
   "execution_count": 99,
   "id": "cd259246-555b-49c5-afc4-f43a95898c7b",
   "metadata": {},
   "outputs": [],
   "source": [
    "def make_array_approp(array1, array2):\n",
    "    return xr.where(array1.isnull(), 0., array2)"
   ]
  },
  {
   "cell_type": "code",
   "execution_count": 154,
   "id": "5e489578-b466-45b3-82f2-5d63b6abbe45",
   "metadata": {},
   "outputs": [],
   "source": [
    "timestep_of_interest = forOneMHW_onlylabels_timesteps[timestep,:,:]\n",
    "SSTA_in_timestep = forOneMHW_onlySSTA_timesteps[timestep,:,:]\n",
    "get_sub_lbs = timestep_of_interest\n",
    "sub_labels = _get_labels(get_sub_lbs)\n",
    "sub_labels = xr.DataArray(sub_labels, dims=get_sub_lbs.dims, coords=get_sub_lbs.coords)\n",
    "sub_labels = sub_labels.where(timestep_of_interest>0, drop=False, other=np.nan)"
   ]
  },
  {
   "cell_type": "code",
   "execution_count": 158,
   "id": "9a1db608-5a36-4978-ac4e-604c230d2060",
   "metadata": {},
   "outputs": [
    {
     "name": "stdout",
     "output_type": "stream",
     "text": [
      "[3.]\n",
      "[4.]\n"
     ]
    }
   ],
   "source": [
    "# label_in_timesteps = forOneMHW_onlylabels_timesteps[timestep,:,:]\n",
    "# get_sub_lbs = timestep_of_interest\n",
    "# SSTA_in_timestep = forOneMHW_onlySSTA_timesteps[timestep,:,:]\n",
    "# sub_labels = _get_labels(label_in_timesteps)\n",
    "# sub_labels = xr.DataArray(sub_labels, dims=get_sub_lbs.dims, coords=get_sub_lbs.coords)\n",
    "# sub_labels = sub_labels.where(timestep>0, drop=False, other=np.nan)\n",
    "\n",
    "edge_right_sub_labels = np.unique(np.unique(sub_labels[:,-1:])[~np.isnan(np.unique(sub_labels[:,-1:]))])\n",
    "edge_left_sub_labels = np.unique(np.unique(sub_labels[:,:1])[~np.isnan(np.unique(sub_labels[:,:1]))])\n",
    "edge_labels = np.unique(np.concatenate((edge_right_sub_labels, edge_left_sub_labels)))\n",
    "nonedgecases = np.setdiff1d(np.unique(sub_labels), edge_labels)\n",
    "nonedgecases = np.unique(nonedgecases[~np.isnan(nonedgecases)])\n",
    "\n",
    "print(edge_right_sub_labels)\n",
    "print(edge_left_sub_labels)"
   ]
  },
  {
   "cell_type": "code",
   "execution_count": 163,
   "id": "eecb04ec-b0f1-4418-ab42-3836c2ba8f18",
   "metadata": {},
   "outputs": [
    {
     "name": "stdout",
     "output_type": "stream",
     "text": [
      "[[(24.973821989528794, 182.5)]]\n",
      "4.0\n"
     ]
    },
    {
     "data": {
      "image/png": "[encoded data removed]",
      "text/plain": [
       "<Figure size 432x288 with 2 Axes>"
      ]
     },
     "metadata": {
      "needs_background": "light"
     },
     "output_type": "display_data"
    },
    {
     "data": {
      "image/png": "[encoded data removed]",
      "text/plain": [
       "<Figure size 432x288 with 2 Axes>"
      ]
     },
     "metadata": {
      "needs_background": "light"
     },
     "output_type": "display_data"
    },
    {
     "data": {
      "image/png": "[encoded data removed]",
      "text/plain": [
       "<Figure size 432x288 with 2 Axes>"
      ]
     },
     "metadata": {
      "needs_background": "light"
     },
     "output_type": "display_data"
    }
   ],
   "source": [
    "centroid_list = []\n",
    "for i in nonedgecases:\n",
    "    sub_labels_nonedgecases = xr.where(sub_labels==i, SSTA_in_timestep, np.nan)\n",
    "    sub_labels_nonedgecases_labels = sub_labels.where(sub_labels==i, drop=False, other=np.nan)\n",
    "    \n",
    "    sub_labels_nonedgecases = make_array_approp(sub_labels_nonedgecases_labels, sub_labels_nonedgecases).data\n",
    "    sub_labels_nonedgecases_lbs_wcoord = make_array_approp(sub_labels_nonedgecases_labels, sub_labels_nonedgecases_labels)\n",
    "    sub_labels_nonedgecases_labels = sub_labels_nonedgecases_labels.data.astype(int)\n",
    "    centroid_list.append(_get_weighted_centroids(sub_labels_nonedgecases_labels,sub_labels_nonedgecases, sub_labels_nonedgecases_lbs_wcoord))\n",
    "print(centroid_list)\n",
    "for i in edge_left_sub_labels:\n",
    "    sub_labels_left = sub_labels.where(sub_labels==i, drop=True)\n",
    "    lon_edge = sub_labels_left[:,-1:].lon.item()\n",
    "    if lon_edge < 358.75:\n",
    "        print(i)\n",
    "        SSTA_left = SSTA_in_timestep.where((SSTA_in_timestep.lon <= lon_edge), drop=True)\n",
    "        sub_labels_left.coords['lon'] = (sub_labels_left.coords['lon'] + 360) \n",
    "        SSTA_left.coords['lon'] = (SSTA_left.coords['lon'] + 360) \n",
    "        SSTA_left.plot.imshow(); plt.show()\n",
    "        for j in edge_right_sub_labels:\n",
    "            sub_labels_right = sub_labels.where(sub_labels==j, drop=False, other=np.nan)\n",
    "            east = sub_labels_right.where(sub_labels_right.lon > lon_edge, drop=True)\n",
    "            east.plot.imshow(); plt.show()\n",
    "            append_east = xr.concat([east.where(east.lon >= lon_edge, drop=True), sub_labels_left], dim=\"lon\")\n",
    "            append_east = xr.where(append_east > 0, 1.0, np.nan)\n",
    "            append_east.plot.imshow(); plt.show()\n",
    "            SSTA_append_east = xr.where(append_east == 1.0, SST)"
   ]
  },
  {
   "cell_type": "code",
   "execution_count": 77,
   "id": "55c0158d-6e35-4ee7-9086-2f5dfa6fb0c9",
   "metadata": {},
   "outputs": [
    {
     "data": {
      "image/png": "[encoded data removed]",
      "text/plain": [
       "<Figure size 432x288 with 2 Axes>"
      ]
     },
     "metadata": {
      "needs_background": "light"
     },
     "output_type": "display_data"
    },
    {
     "data": {
      "image/png": "[encoded data removed]",
      "text/plain": [
       "<Figure size 432x288 with 2 Axes>"
      ]
     },
     "metadata": {
      "needs_background": "light"
     },
     "output_type": "display_data"
    },
    {
     "data": {
      "image/png": "[encoded data removed]",
      "text/plain": [
       "<Figure size 432x288 with 2 Axes>"
      ]
     },
     "metadata": {
      "needs_background": "light"
     },
     "output_type": "display_data"
    },
    {
     "data": {
      "image/png": "[encoded data removed]",
      "text/plain": [
       "<Figure size 432x288 with 2 Axes>"
      ]
     },
     "metadata": {
      "needs_background": "light"
     },
     "output_type": "display_data"
    },
    {
     "data": {
      "image/png": "[encoded data removed]",
      "text/plain": [
       "<Figure size 432x288 with 2 Axes>"
      ]
     },
     "metadata": {
      "needs_background": "light"
     },
     "output_type": "display_data"
    },
    {
     "data": {
      "image/png": "[encoded data removed]",
      "text/plain": [
       "<Figure size 432x288 with 2 Axes>"
      ]
     },
     "metadata": {
      "needs_background": "light"
     },
     "output_type": "display_data"
    },
    {
     "data": {
      "image/png": "[encoded data removed]",
      "text/plain": [
       "<Figure size 432x288 with 2 Axes>"
      ]
     },
     "metadata": {
      "needs_background": "light"
     },
     "output_type": "display_data"
    },
    {
     "data": {
      "image/png": "[encoded data removed]",
      "text/plain": [
       "<Figure size 432x288 with 2 Axes>"
      ]
     },
     "metadata": {
      "needs_background": "light"
     },
     "output_type": "display_data"
    }
   ],
   "source": [
    "all_timesteps = forOneMHW_onlylabels_timesteps[:,:,:]\n",
    "get_sub_lbs = all_timesteps[timestep,:,:]\n",
    "SSTA_in_timestep = forOneMHW_onlySSTA_timesteps[timestep,:,:]\n",
    "sub_labels = _get_labels(get_sub_lbs)\n",
    "sub_labels = xr.DataArray(sub_labels, dims=get_sub_lbs.dims, coords=get_sub_lbs.coords)\n",
    "sub_labels = sub_labels.where(timestep>0, drop=False, other=np.nan)\n",
    "\n",
    "edge_right_sub_labels_ = sub_labels[:,-1:]\n",
    "edge_right_sub_labels = np.unique(np.unique(edge_right_sub_labels_)[~np.isnan(np.unique(edge_right_sub_labels_))])\n",
    "edge_left_sub_labels_ = sub_labels[:,:1]\n",
    "edge_left_sub_labels = np.unique(np.unique(edge_left_sub_labels_)[~np.isnan(np.unique(edge_left_sub_labels_))])\n",
    "\n",
    "edge_labels = np.unique(np.concatenate((edge_right_sub_labels, edge_left_sub_labels)))\n",
    "nonedgecases = np.setdiff1d(np.unique(sub_labels), edge_labels)\n",
    "nonedgecases = np.unique(nonedgecases[~np.isnan(nonedgecases)])\n",
    "\n",
    "centroid_list = []\n",
    "for i in nonedgecases:\n",
    "    sub_labels_nonedgecases = xr.where(sub_labels==i, SSTA_in_timestep, np.nan)\n",
    "    sub_labels_nonedgecases_labels = sub_labels.where(sub_labels==i, drop=False, other=np.nan)\n",
    "    \n",
    "    sub_labels_nonedgecases = xr.where(sub_labels_nonedgecases_labels.isnull(), 0., sub_labels_nonedgecases).data\n",
    "    sub_labels_nonedgecases_labels_withlat = xr.where(sub_labels_nonedgecases_labels.isnull(), 0., sub_labels_nonedgecases_labels)\n",
    "    sub_labels_nonedgecases_labels = sub_labels_nonedgecases_labels.data.astype(int)\n",
    "    centroid_list.append(_get_weighted_centroids(sub_labels_nonedgecases_labels,sub_labels_nonedgecases, sub_labels_nonedgecases_labels_withlat))\n",
    "\n",
    "for i in edge_left_sub_labels:\n",
    "    sub_labels_left = sub_labels.where(sub_labels==i, drop=True)\n",
    "    lon_edge = sub_labels_left[:,-1:].lon.item()\n",
    "    SSTA_left = SSTA_in_timestep.where((SSTA_in_timestep.lon <= lon_edge), drop=True)\n",
    "    SSTA_in_timestep.where(mask_lon, drop=True)    \n",
    "    sub_labels_left.coords['lon'] = (sub_labels_left.coords['lon'] + 360) \n",
    "    SSTA_left.coords['lon'] = (SSTA_left.coords['lon'] + 360) \n",
    "    for j in edge_right_sub_labels:\n",
    "        sub_labels_right = sub_labels.where(sub_labels==j, drop=False, other=np.nan)\n",
    "        # east = sub_labels_right.where(sub_labels_right.lon > lon_edge, drop=True)\n",
    "#             east.plot.imshow(); plt.show()\n",
    "        append_east = xr.concat([east.where(east.lon >= lon_edge, drop=True), sub_labels_left], dim=\"lon\")\n",
    "        append_east.plot.imshow(); plt.show()\n",
    "          # append_east_binarized = xr.where(append_east > 0, 1, np.nan)\n",
    "\n",
    "#             sub_labels_right = xr.where(sub_labels==j, SSTA_in_timestep, np.nan)\n",
    "#             east = sub_labels_right.where(sub_labels_right.lon > lon_edge, drop=True)\n",
    "#             append_east = xr.concat([east.where(east.lon >= lon_edge, drop=True), SSTA_left], dim=\"lon\")\n",
    "            \n",
    "#     for i in edge_left_sub_labels:\n",
    "#         sub_labels_left = sub_labels.where(sub_labels==i, drop=True)\n",
    "#         lon_edge = sub_labels_left[:,-1:].lon.item()\n",
    "#         sub_labels_left.coords['lon'] = (sub_labels_left.coords['lon'] + 360) \n",
    "#         for j in edge_right_sub_labels:\n",
    "#             sub_labels_right = sub_labels.where(sub_labels==j, drop=False, other=np.nan)\n",
    "#             east = sub_labels_right.where(sub_labels_right.lon > lon_edge, drop=True)\n",
    "#             append_east = xr.concat([east.where(east.lon >= lon_edge, drop=True), sub_labels_left], dim=\"lon\")\n",
    "#             append_east_binarized = xr.where(append_east > 0, 1, np.nan)\n",
    "#             sub_labels = _get_labels(append_east_binarized)\n",
    "#             sub_labels = xr.DataArray(sub_labels, dims=append_east_binarized.dims, coords=append_east_binarized.coords)\n",
    "#             sub_labels = sub_labels.where(append_east_binarized>0, drop=False, other=np.nan)\n",
    "#             centroid_list.append(_get_centroids(sub_labels))"
   ]
  },
  {
   "cell_type": "code",
   "execution_count": 59,
   "id": "97fc5768-973a-4bb6-bf47-28ab5a0e8d57",
   "metadata": {},
   "outputs": [
    {
     "data": {
      "image/png": "[encoded data removed]",
      "text/plain": [
       "<Figure size 432x288 with 2 Axes>"
      ]
     },
     "metadata": {
      "needs_background": "light"
     },
     "output_type": "display_data"
    },
    {
     "data": {
      "image/png": "[encoded data removed]",
      "text/plain": [
       "<Figure size 432x288 with 2 Axes>"
      ]
     },
     "metadata": {
      "needs_background": "light"
     },
     "output_type": "display_data"
    }
   ],
   "source": [
    "SSTA_left.plot.imshow(); plt.show()\n",
    "SSTA_left.plot.imshow(); plt.show()"
   ]
  },
  {
   "cell_type": "code",
   "execution_count": 23,
   "id": "5ee80b96-fe08-404e-9b61-0035075efa50",
   "metadata": {},
   "outputs": [],
   "source": [
    "def center_of_masses_per_timestep(for_one_mhw_only_labels, for_one_mhw_only_SSTA, timestep):\n",
    "    all_timesteps = forOneMHW_onlylabels_timesteps[:,:,:]\n",
    "    get_sub_lbs = all_timesteps[timestep,:,:]\n",
    "    SSTA_in_timestep = forOneMHW_onlySSTA_timesteps[timestep,:,:]\n",
    "    sub_labels = _get_labels(get_sub_lbs)\n",
    "    sub_labels = xr.DataArray(sub_labels, dims=get_sub_lbs.dims, coords=get_sub_lbs.coords)\n",
    "    sub_labels = sub_labels.where(timestep_of_interest>0, drop=False, other=np.nan)\n",
    "\n",
    "    edge_right_sub_labels_ = sub_labels[:,-1:]\n",
    "    edge_right_sub_labels = np.unique(np.unique(edge_right_sub_labels_)[~np.isnan(np.unique(edge_right_sub_labels_))])\n",
    "    edge_left_sub_labels_ = sub_labels[:,:1]\n",
    "    edge_left_sub_labels = np.unique(np.unique(edge_left_sub_labels_)[~np.isnan(np.unique(edge_left_sub_labels_))])\n",
    "\n",
    "    edge_labels = np.unique(np.concatenate((edge_right_sub_labels, edge_left_sub_labels)))\n",
    "    nonedgecases = np.setdiff1d(np.unique(sub_labels), edge_labels)\n",
    "    nonedgecases = np.unique(nonedgecases[~np.isnan(nonedgecases)])\n",
    "\n",
    "    centroid_list = []\n",
    "    for i in nonedgecases:\n",
    "        sub_labels_nonedgecases = xr.where(sub_labels==i, SSTA_in_timestep, np.nan)\n",
    "        sub_labels_nonedgecases_labels = sub_labels.where(sub_labels==i, drop=False, other=np.nan)\n",
    "        x = sub_labels_nonedgecases.lon\n",
    "        y = sub_labels_nonedgecases.lat\n",
    "\n",
    "        (X,Y) = np.meshgrid(x,y)\n",
    "        img = sub_labels_nonedgecases\n",
    "        x_coord = (X*img).sum() / img.sum().astype(\"float\")\n",
    "        y_coord = (Y*img).sum() / img.sum().astype(\"float\")\n",
    "        coord = tuple([y_coord.item(), x_coord.item()])\n",
    "        centroid_list.append(coord)\n",
    "\n",
    "    for i in edge_left_sub_labels:\n",
    "        sub_labels_left = sub_labels.where(sub_labels==i, drop=True)\n",
    "        lon_edge = sub_labels_left[:,-1:].lon.item()\n",
    "        mask_lon = (SSTA_in_timestep.lon <= lon_edge)\n",
    "        SSTA_left = SSTA_in_timestep.where(mask_lon, drop=True)\n",
    "        SSTA_in_timestep.where(mask_lon, drop=True)    \n",
    "        sub_labels_left.coords['lon'] = (sub_labels_left.coords['lon'] + 360) \n",
    "        SSTA_left.coords['lon'] = (SSTA_left.coords['lon'] + 360) \n",
    "        for j in edge_right_sub_labels:\n",
    "            sub_labels_right = sub_labels.where(sub_labels==j, drop=False, other=np.nan)\n",
    "            east = sub_labels_right.where(sub_labels_right.lon > lon_edge, drop=True)\n",
    "            append_east = xr.concat([east.where(east.lon >= lon_edge, drop=True), sub_labels_left], dim=\"lon\")\n",
    "            append_east_binarized = xr.where(append_east > 0, 1, np.nan)\n",
    "\n",
    "            sub_labels_right = xr.where(sub_labels==j, SSTA_in_timestep, np.nan)\n",
    "            east = sub_labels_right.where(sub_labels_right.lon > lon_edge, drop=True)\n",
    "            append_east = xr.concat([east.where(east.lon >= lon_edge, drop=True), SSTA_left], dim=\"lon\")\n",
    "\n",
    "            x = append_east.lon\n",
    "            y = append_east.lat\n",
    "            (X,Y) = np.meshgrid(x,y)\n",
    "            img = append_east\n",
    "            x_coord = (X*img).sum() / img.sum().astype(\"float\")\n",
    "            if x_coord > 360:\n",
    "                x_coord = x_coord - 360\n",
    "            y_coord = (Y*img).sum() / img.sum().astype(\"float\")\n",
    "            coord = tuple([y_coord.item(), x_coord.item()])\n",
    "            centroid_list.append(coord)\n",
    "    return centroid_list"
   ]
  },
  {
   "cell_type": "code",
   "execution_count": 18,
   "id": "88a3573e-728b-46bf-8d31-6226e3e912f2",
   "metadata": {
    "tags": []
   },
   "outputs": [
    {
     "data": {
      "text/html": [
       "<div><svg style=\"position: absolute; width: 0; height: 0; overflow: hidden\">\n",
       "<defs>\n",
       "<symbol id=\"icon-database\" viewBox=\"0 0 32 32\">\n",
       "<path d=\"M16 0c-8.837 0-16 2.239-16 5v4c0 2.761 7.163 5 16 5s16-2.239 16-5v-4c0-2.761-7.163-5-16-5z\"></path>\n",
       "<path d=\"M16 17c-8.837 0-16-2.239-16-5v6c0 2.761 7.163 5 16 5s16-2.239 16-5v-6c0 2.761-7.163 5-16 5z\"></path>\n",
       "<path d=\"M16 26c-8.837 0-16-2.239-16-5v6c0 2.761 7.163 5 16 5s16-2.239 16-5v-6c0 2.761-7.163 5-16 5z\"></path>\n",
       "</symbol>\n",
       "<symbol id=\"icon-file-text2\" viewBox=\"0 0 32 32\">\n",
       "<path d=\"M28.681 7.159c-0.694-0.947-1.662-2.053-2.724-3.116s-2.169-2.030-3.116-2.724c-1.612-1.182-2.393-1.319-2.841-1.319h-15.5c-1.378 0-2.5 1.121-2.5 2.5v27c0 1.378 1.122 2.5 2.5 2.5h23c1.378 0 2.5-1.122 2.5-2.5v-19.5c0-0.448-0.137-1.23-1.319-2.841zM24.543 5.457c0.959 0.959 1.712 1.825 2.268 2.543h-4.811v-4.811c0.718 0.556 1.584 1.309 2.543 2.268zM28 29.5c0 0.271-0.229 0.5-0.5 0.5h-23c-0.271 0-0.5-0.229-0.5-0.5v-27c0-0.271 0.229-0.5 0.5-0.5 0 0 15.499-0 15.5 0v7c0 0.552 0.448 1 1 1h7v19.5z\"></path>\n",
       "<path d=\"M23 26h-14c-0.552 0-1-0.448-1-1s0.448-1 1-1h14c0.552 0 1 0.448 1 1s-0.448 1-1 1z\"></path>\n",
       "<path d=\"M23 22h-14c-0.552 0-1-0.448-1-1s0.448-1 1-1h14c0.552 0 1 0.448 1 1s-0.448 1-1 1z\"></path>\n",
       "<path d=\"M23 18h-14c-0.552 0-1-0.448-1-1s0.448-1 1-1h14c0.552 0 1 0.448 1 1s-0.448 1-1 1z\"></path>\n",
       "</symbol>\n",
       "</defs>\n",
       "</svg>\n",
       "<style>/* CSS stylesheet for displaying xarray objects in jupyterlab.\n",
       " *\n",
       " */\n",
       "\n",
       ":root {\n",
       "  --xr-font-color0: var(--jp-content-font-color0, rgba(0, 0, 0, 1));\n",
       "  --xr-font-color2: var(--jp-content-font-color2, rgba(0, 0, 0, 0.54));\n",
       "  --xr-font-color3: var(--jp-content-font-color3, rgba(0, 0, 0, 0.38));\n",
       "  --xr-border-color: var(--jp-border-color2, #e0e0e0);\n",
       "  --xr-disabled-color: var(--jp-layout-color3, #bdbdbd);\n",
       "  --xr-background-color: var(--jp-layout-color0, white);\n",
       "  --xr-background-color-row-even: var(--jp-layout-color1, white);\n",
       "  --xr-background-color-row-odd: var(--jp-layout-color2, #eeeeee);\n",
       "}\n",
       "\n",
       "html[theme=dark],\n",
       "body.vscode-dark {\n",
       "  --xr-font-color0: rgba(255, 255, 255, 1);\n",
       "  --xr-font-color2: rgba(255, 255, 255, 0.54);\n",
       "  --xr-font-color3: rgba(255, 255, 255, 0.38);\n",
       "  --xr-border-color: #1F1F1F;\n",
       "  --xr-disabled-color: #515151;\n",
       "  --xr-background-color: #111111;\n",
       "  --xr-background-color-row-even: #111111;\n",
       "  --xr-background-color-row-odd: #313131;\n",
       "}\n",
       "\n",
       ".xr-wrap {\n",
       "  display: block;\n",
       "  min-width: 300px;\n",
       "  max-width: 700px;\n",
       "}\n",
       "\n",
       ".xr-text-repr-fallback {\n",
       "  /* fallback to plain text repr when CSS is not injected (untrusted notebook) */\n",
       "  display: none;\n",
       "}\n",
       "\n",
       ".xr-header {\n",
       "  padding-top: 6px;\n",
       "  padding-bottom: 6px;\n",
       "  margin-bottom: 4px;\n",
       "  border-bottom: solid 1px var(--xr-border-color);\n",
       "}\n",
       "\n",
       ".xr-header > div,\n",
       ".xr-header > ul {\n",
       "  display: inline;\n",
       "  margin-top: 0;\n",
       "  margin-bottom: 0;\n",
       "}\n",
       "\n",
       ".xr-obj-type,\n",
       ".xr-array-name {\n",
       "  margin-left: 2px;\n",
       "  margin-right: 10px;\n",
       "}\n",
       "\n",
       ".xr-obj-type {\n",
       "  color: var(--xr-font-color2);\n",
       "}\n",
       "\n",
       ".xr-sections {\n",
       "  padding-left: 0 !important;\n",
       "  display: grid;\n",
       "  grid-template-columns: 150px auto auto 1fr 20px 20px;\n",
       "}\n",
       "\n",
       ".xr-section-item {\n",
       "  display: contents;\n",
       "}\n",
       "\n",
       ".xr-section-item input {\n",
       "  display: none;\n",
       "}\n",
       "\n",
       ".xr-section-item input + label {\n",
       "  color: var(--xr-disabled-color);\n",
       "}\n",
       "\n",
       ".xr-section-item input:enabled + label {\n",
       "  cursor: pointer;\n",
       "  color: var(--xr-font-color2);\n",
       "}\n",
       "\n",
       ".xr-section-item input:enabled + label:hover {\n",
       "  color: var(--xr-font-color0);\n",
       "}\n",
       "\n",
       ".xr-section-summary {\n",
       "  grid-column: 1;\n",
       "  color: var(--xr-font-color2);\n",
       "  font-weight: 500;\n",
       "}\n",
       "\n",
       ".xr-section-summary > span {\n",
       "  display: inline-block;\n",
       "  padding-left: 0.5em;\n",
       "}\n",
       "\n",
       ".xr-section-summary-in:disabled + label {\n",
       "  color: var(--xr-font-color2);\n",
       "}\n",
       "\n",
       ".xr-section-summary-in + label:before {\n",
       "  display: inline-block;\n",
       "  content: '►';\n",
       "  font-size: 11px;\n",
       "  width: 15px;\n",
       "  text-align: center;\n",
       "}\n",
       "\n",
       ".xr-section-summary-in:disabled + label:before {\n",
       "  color: var(--xr-disabled-color);\n",
       "}\n",
       "\n",
       ".xr-section-summary-in:checked + label:before {\n",
       "  content: '▼';\n",
       "}\n",
       "\n",
       ".xr-section-summary-in:checked + label > span {\n",
       "  display: none;\n",
       "}\n",
       "\n",
       ".xr-section-summary,\n",
       ".xr-section-inline-details {\n",
       "  padding-top: 4px;\n",
       "  padding-bottom: 4px;\n",
       "}\n",
       "\n",
       ".xr-section-inline-details {\n",
       "  grid-column: 2 / -1;\n",
       "}\n",
       "\n",
       ".xr-section-details {\n",
       "  display: none;\n",
       "  grid-column: 1 / -1;\n",
       "  margin-bottom: 5px;\n",
       "}\n",
       "\n",
       ".xr-section-summary-in:checked ~ .xr-section-details {\n",
       "  display: contents;\n",
       "}\n",
       "\n",
       ".xr-array-wrap {\n",
       "  grid-column: 1 / -1;\n",
       "  display: grid;\n",
       "  grid-template-columns: 20px auto;\n",
       "}\n",
       "\n",
       ".xr-array-wrap > label {\n",
       "  grid-column: 1;\n",
       "  vertical-align: top;\n",
       "}\n",
       "\n",
       ".xr-preview {\n",
       "  color: var(--xr-font-color3);\n",
       "}\n",
       "\n",
       ".xr-array-preview,\n",
       ".xr-array-data {\n",
       "  padding: 0 5px !important;\n",
       "  grid-column: 2;\n",
       "}\n",
       "\n",
       ".xr-array-data,\n",
       ".xr-array-in:checked ~ .xr-array-preview {\n",
       "  display: none;\n",
       "}\n",
       "\n",
       ".xr-array-in:checked ~ .xr-array-data,\n",
       ".xr-array-preview {\n",
       "  display: inline-block;\n",
       "}\n",
       "\n",
       ".xr-dim-list {\n",
       "  display: inline-block !important;\n",
       "  list-style: none;\n",
       "  padding: 0 !important;\n",
       "  margin: 0;\n",
       "}\n",
       "\n",
       ".xr-dim-list li {\n",
       "  display: inline-block;\n",
       "  padding: 0;\n",
       "  margin: 0;\n",
       "}\n",
       "\n",
       ".xr-dim-list:before {\n",
       "  content: '(';\n",
       "}\n",
       "\n",
       ".xr-dim-list:after {\n",
       "  content: ')';\n",
       "}\n",
       "\n",
       ".xr-dim-list li:not(:last-child):after {\n",
       "  content: ',';\n",
       "  padding-right: 5px;\n",
       "}\n",
       "\n",
       ".xr-has-index {\n",
       "  font-weight: bold;\n",
       "}\n",
       "\n",
       ".xr-var-list,\n",
       ".xr-var-item {\n",
       "  display: contents;\n",
       "}\n",
       "\n",
       ".xr-var-item > div,\n",
       ".xr-var-item label,\n",
       ".xr-var-item > .xr-var-name span {\n",
       "  background-color: var(--xr-background-color-row-even);\n",
       "  margin-bottom: 0;\n",
       "}\n",
       "\n",
       ".xr-var-item > .xr-var-name:hover span {\n",
       "  padding-right: 5px;\n",
       "}\n",
       "\n",
       ".xr-var-list > li:nth-child(odd) > div,\n",
       ".xr-var-list > li:nth-child(odd) > label,\n",
       ".xr-var-list > li:nth-child(odd) > .xr-var-name span {\n",
       "  background-color: var(--xr-background-color-row-odd);\n",
       "}\n",
       "\n",
       ".xr-var-name {\n",
       "  grid-column: 1;\n",
       "}\n",
       "\n",
       ".xr-var-dims {\n",
       "  grid-column: 2;\n",
       "}\n",
       "\n",
       ".xr-var-dtype {\n",
       "  grid-column: 3;\n",
       "  text-align: right;\n",
       "  color: var(--xr-font-color2);\n",
       "}\n",
       "\n",
       ".xr-var-preview {\n",
       "  grid-column: 4;\n",
       "}\n",
       "\n",
       ".xr-var-name,\n",
       ".xr-var-dims,\n",
       ".xr-var-dtype,\n",
       ".xr-preview,\n",
       ".xr-attrs dt {\n",
       "  white-space: nowrap;\n",
       "  overflow: hidden;\n",
       "  text-overflow: ellipsis;\n",
       "  padding-right: 10px;\n",
       "}\n",
       "\n",
       ".xr-var-name:hover,\n",
       ".xr-var-dims:hover,\n",
       ".xr-var-dtype:hover,\n",
       ".xr-attrs dt:hover {\n",
       "  overflow: visible;\n",
       "  width: auto;\n",
       "  z-index: 1;\n",
       "}\n",
       "\n",
       ".xr-var-attrs,\n",
       ".xr-var-data {\n",
       "  display: none;\n",
       "  background-color: var(--xr-background-color) !important;\n",
       "  padding-bottom: 5px !important;\n",
       "}\n",
       "\n",
       ".xr-var-attrs-in:checked ~ .xr-var-attrs,\n",
       ".xr-var-data-in:checked ~ .xr-var-data {\n",
       "  display: block;\n",
       "}\n",
       "\n",
       ".xr-var-data > table {\n",
       "  float: right;\n",
       "}\n",
       "\n",
       ".xr-var-name span,\n",
       ".xr-var-data,\n",
       ".xr-attrs {\n",
       "  padding-left: 25px !important;\n",
       "}\n",
       "\n",
       ".xr-attrs,\n",
       ".xr-var-attrs,\n",
       ".xr-var-data {\n",
       "  grid-column: 1 / -1;\n",
       "}\n",
       "\n",
       "dl.xr-attrs {\n",
       "  padding: 0;\n",
       "  margin: 0;\n",
       "  display: grid;\n",
       "  grid-template-columns: 125px auto;\n",
       "}\n",
       "\n",
       ".xr-attrs dt,\n",
       ".xr-attrs dd {\n",
       "  padding: 0;\n",
       "  margin: 0;\n",
       "  float: left;\n",
       "  padding-right: 10px;\n",
       "  width: auto;\n",
       "}\n",
       "\n",
       ".xr-attrs dt {\n",
       "  font-weight: normal;\n",
       "  grid-column: 1;\n",
       "}\n",
       "\n",
       ".xr-attrs dt:hover span {\n",
       "  display: inline-block;\n",
       "  background: var(--xr-background-color);\n",
       "  padding-right: 10px;\n",
       "}\n",
       "\n",
       ".xr-attrs dd {\n",
       "  grid-column: 2;\n",
       "  white-space: pre-wrap;\n",
       "  word-break: break-all;\n",
       "}\n",
       "\n",
       ".xr-icon-database,\n",
       ".xr-icon-file-text2 {\n",
       "  display: inline-block;\n",
       "  vertical-align: middle;\n",
       "  width: 1em;\n",
       "  height: 1.5em !important;\n",
       "  stroke-width: 0;\n",
       "  stroke: currentColor;\n",
       "  fill: currentColor;\n",
       "}\n",
       "</style><pre class='xr-text-repr-fallback'>&lt;xarray.DataArray &#x27;SSTA&#x27; (lat: 192, lon: 70)&gt;\n",
       "array([[nan, nan, nan, ..., nan, nan, nan],\n",
       "       [nan, nan, nan, ..., nan, nan, nan],\n",
       "       [nan, nan, nan, ..., nan, nan, nan],\n",
       "       ...,\n",
       "       [nan, nan, nan, ..., nan, nan, nan],\n",
       "       [nan, nan, nan, ..., nan, nan, nan],\n",
       "       [nan, nan, nan, ..., nan, nan, nan]])\n",
       "Coordinates:\n",
       "  * lat        (lat) float64 -90.0 -89.06 -88.12 -87.17 ... 88.12 89.06 90.0\n",
       "  * lon        (lon) float64 0.0 1.25 2.5 3.75 5.0 ... 82.5 83.75 85.0 86.25\n",
       "    time       object 1852-12-01 00:00:00\n",
       "    member_id  &lt;U11 &#x27;r2i1021p1f1&#x27;\n",
       "    quantile   float64 0.9\n",
       "    month      int64 12</pre><div class='xr-wrap' hidden><div class='xr-header'><div class='xr-obj-type'>xarray.DataArray</div><div class='xr-array-name'>'SSTA'</div><ul class='xr-dim-list'><li><span class='xr-has-index'>lat</span>: 192</li><li><span class='xr-has-index'>lon</span>: 70</li></ul></div><ul class='xr-sections'><li class='xr-section-item'><div class='xr-array-wrap'><input id='section-0fdfd687-6800-4177-8834-d4356aab2cdb' class='xr-array-in' type='checkbox' checked><label for='section-0fdfd687-6800-4177-8834-d4356aab2cdb' title='Show/hide data repr'><svg class='icon xr-icon-database'><use xlink:href='#icon-database'></use></svg></label><div class='xr-array-preview xr-preview'><span>nan nan nan nan nan nan nan nan ... nan nan nan nan nan nan nan nan</span></div><div class='xr-array-data'><pre>array([[nan, nan, nan, ..., nan, nan, nan],\n",
       "       [nan, nan, nan, ..., nan, nan, nan],\n",
       "       [nan, nan, nan, ..., nan, nan, nan],\n",
       "       ...,\n",
       "       [nan, nan, nan, ..., nan, nan, nan],\n",
       "       [nan, nan, nan, ..., nan, nan, nan],\n",
       "       [nan, nan, nan, ..., nan, nan, nan]])</pre></div></div></li><li class='xr-section-item'><input id='section-0a6a95ed-11c0-4a06-a101-28e396788039' class='xr-section-summary-in' type='checkbox'  checked><label for='section-0a6a95ed-11c0-4a06-a101-28e396788039' class='xr-section-summary' >Coordinates: <span>(6)</span></label><div class='xr-section-inline-details'></div><div class='xr-section-details'><ul class='xr-var-list'><li class='xr-var-item'><div class='xr-var-name'><span class='xr-has-index'>lat</span></div><div class='xr-var-dims'>(lat)</div><div class='xr-var-dtype'>float64</div><div class='xr-var-preview xr-preview'>-90.0 -89.06 -88.12 ... 89.06 90.0</div><input id='attrs-7805c6a2-4ec8-4892-9b01-32057c200426' class='xr-var-attrs-in' type='checkbox' ><label for='attrs-7805c6a2-4ec8-4892-9b01-32057c200426' title='Show/Hide attributes'><svg class='icon xr-icon-file-text2'><use xlink:href='#icon-file-text2'></use></svg></label><input id='data-5c3e63c0-5817-4df4-a619-39e8996a89f3' class='xr-var-data-in' type='checkbox'><label for='data-5c3e63c0-5817-4df4-a619-39e8996a89f3' title='Show/Hide data repr'><svg class='icon xr-icon-database'><use xlink:href='#icon-database'></use></svg></label><div class='xr-var-attrs'><dl class='xr-attrs'><dt><span>long_name :</span></dt><dd>latitude</dd><dt><span>units :</span></dt><dd>degrees_north</dd></dl></div><div class='xr-var-data'><pre>array([-90.      , -89.057592, -88.115183, -87.172775, -86.230366, -85.287958,\n",
       "       -84.34555 , -83.403141, -82.460733, -81.518325, -80.575916, -79.633508,\n",
       "       -78.691099, -77.748691, -76.806283, -75.863874, -74.921466, -73.979058,\n",
       "       -73.036649, -72.094241, -71.151832, -70.209424, -69.267016, -68.324607,\n",
       "       -67.382199, -66.439791, -65.497382, -64.554974, -63.612565, -62.670157,\n",
       "       -61.727749, -60.78534 , -59.842932, -58.900524, -57.958115, -57.015707,\n",
       "       -56.073298, -55.13089 , -54.188482, -53.246073, -52.303665, -51.361257,\n",
       "       -50.418848, -49.47644 , -48.534031, -47.591623, -46.649215, -45.706806,\n",
       "       -44.764398, -43.82199 , -42.879581, -41.937173, -40.994764, -40.052356,\n",
       "       -39.109948, -38.167539, -37.225131, -36.282723, -35.340314, -34.397906,\n",
       "       -33.455497, -32.513089, -31.570681, -30.628272, -29.685864, -28.743455,\n",
       "       -27.801047, -26.858639, -25.91623 , -24.973822, -24.031414, -23.089005,\n",
       "       -22.146597, -21.204188, -20.26178 , -19.319372, -18.376963, -17.434555,\n",
       "       -16.492147, -15.549738, -14.60733 , -13.664921, -12.722513, -11.780105,\n",
       "       -10.837696,  -9.895288,  -8.95288 ,  -8.010471,  -7.068063,  -6.125654,\n",
       "        -5.183246,  -4.240838,  -3.298429,  -2.356021,  -1.413613,  -0.471204,\n",
       "         0.471204,   1.413613,   2.356021,   3.298429,   4.240838,   5.183246,\n",
       "         6.125654,   7.068063,   8.010471,   8.95288 ,   9.895288,  10.837696,\n",
       "        11.780105,  12.722513,  13.664921,  14.60733 ,  15.549738,  16.492147,\n",
       "        17.434555,  18.376963,  19.319372,  20.26178 ,  21.204188,  22.146597,\n",
       "        23.089005,  24.031414,  24.973822,  25.91623 ,  26.858639,  27.801047,\n",
       "        28.743455,  29.685864,  30.628272,  31.570681,  32.513089,  33.455497,\n",
       "        34.397906,  35.340314,  36.282723,  37.225131,  38.167539,  39.109948,\n",
       "        40.052356,  40.994764,  41.937173,  42.879581,  43.82199 ,  44.764398,\n",
       "        45.706806,  46.649215,  47.591623,  48.534031,  49.47644 ,  50.418848,\n",
       "        51.361257,  52.303665,  53.246073,  54.188482,  55.13089 ,  56.073298,\n",
       "        57.015707,  57.958115,  58.900524,  59.842932,  60.78534 ,  61.727749,\n",
       "        62.670157,  63.612565,  64.554974,  65.497382,  66.439791,  67.382199,\n",
       "        68.324607,  69.267016,  70.209424,  71.151832,  72.094241,  73.036649,\n",
       "        73.979058,  74.921466,  75.863874,  76.806283,  77.748691,  78.691099,\n",
       "        79.633508,  80.575916,  81.518325,  82.460733,  83.403141,  84.34555 ,\n",
       "        85.287958,  86.230366,  87.172775,  88.115183,  89.057592,  90.      ])</pre></div></li><li class='xr-var-item'><div class='xr-var-name'><span class='xr-has-index'>lon</span></div><div class='xr-var-dims'>(lon)</div><div class='xr-var-dtype'>float64</div><div class='xr-var-preview xr-preview'>0.0 1.25 2.5 ... 83.75 85.0 86.25</div><input id='attrs-c709e8d1-513a-40c2-b71d-a6ce71aeb0b0' class='xr-var-attrs-in' type='checkbox' ><label for='attrs-c709e8d1-513a-40c2-b71d-a6ce71aeb0b0' title='Show/Hide attributes'><svg class='icon xr-icon-file-text2'><use xlink:href='#icon-file-text2'></use></svg></label><input id='data-5183c6ec-c57a-49a1-a331-4488c1b011dd' class='xr-var-data-in' type='checkbox'><label for='data-5183c6ec-c57a-49a1-a331-4488c1b011dd' title='Show/Hide data repr'><svg class='icon xr-icon-database'><use xlink:href='#icon-database'></use></svg></label><div class='xr-var-attrs'><dl class='xr-attrs'><dt><span>long_name :</span></dt><dd>longitude</dd><dt><span>units :</span></dt><dd>degrees_east</dd></dl></div><div class='xr-var-data'><pre>array([ 0.  ,  1.25,  2.5 ,  3.75,  5.  ,  6.25,  7.5 ,  8.75, 10.  , 11.25,\n",
       "       12.5 , 13.75, 15.  , 16.25, 17.5 , 18.75, 20.  , 21.25, 22.5 , 23.75,\n",
       "       25.  , 26.25, 27.5 , 28.75, 30.  , 31.25, 32.5 , 33.75, 35.  , 36.25,\n",
       "       37.5 , 38.75, 40.  , 41.25, 42.5 , 43.75, 45.  , 46.25, 47.5 , 48.75,\n",
       "       50.  , 51.25, 52.5 , 53.75, 55.  , 56.25, 57.5 , 58.75, 60.  , 61.25,\n",
       "       62.5 , 63.75, 65.  , 66.25, 67.5 , 68.75, 70.  , 71.25, 72.5 , 73.75,\n",
       "       75.  , 76.25, 77.5 , 78.75, 80.  , 81.25, 82.5 , 83.75, 85.  , 86.25])</pre></div></li><li class='xr-var-item'><div class='xr-var-name'><span>time</span></div><div class='xr-var-dims'>()</div><div class='xr-var-dtype'>object</div><div class='xr-var-preview xr-preview'>1852-12-01 00:00:00</div><input id='attrs-723a409a-8f80-43ad-959a-1267abe521df' class='xr-var-attrs-in' type='checkbox' ><label for='attrs-723a409a-8f80-43ad-959a-1267abe521df' title='Show/Hide attributes'><svg class='icon xr-icon-file-text2'><use xlink:href='#icon-file-text2'></use></svg></label><input id='data-4165a504-2e27-408f-b074-4a1d37aa02ba' class='xr-var-data-in' type='checkbox'><label for='data-4165a504-2e27-408f-b074-4a1d37aa02ba' title='Show/Hide data repr'><svg class='icon xr-icon-database'><use xlink:href='#icon-database'></use></svg></label><div class='xr-var-attrs'><dl class='xr-attrs'><dt><span>long_name :</span></dt><dd>time</dd><dt><span>bounds :</span></dt><dd>time_bnds</dd></dl></div><div class='xr-var-data'><pre>array(cftime.DatetimeNoLeap(1852, 12, 1, 0, 0, 0, 0, has_year_zero=True),\n",
       "      dtype=object)</pre></div></li><li class='xr-var-item'><div class='xr-var-name'><span>member_id</span></div><div class='xr-var-dims'>()</div><div class='xr-var-dtype'>&lt;U11</div><div class='xr-var-preview xr-preview'>&#x27;r2i1021p1f1&#x27;</div><input id='attrs-f6edea16-f0dd-4d29-abdb-30c201ee792f' class='xr-var-attrs-in' type='checkbox' disabled><label for='attrs-f6edea16-f0dd-4d29-abdb-30c201ee792f' title='Show/Hide attributes'><svg class='icon xr-icon-file-text2'><use xlink:href='#icon-file-text2'></use></svg></label><input id='data-520fae88-97d5-491f-95e9-e9aa16587722' class='xr-var-data-in' type='checkbox'><label for='data-520fae88-97d5-491f-95e9-e9aa16587722' title='Show/Hide data repr'><svg class='icon xr-icon-database'><use xlink:href='#icon-database'></use></svg></label><div class='xr-var-attrs'><dl class='xr-attrs'></dl></div><div class='xr-var-data'><pre>array(&#x27;r2i1021p1f1&#x27;, dtype=&#x27;&lt;U11&#x27;)</pre></div></li><li class='xr-var-item'><div class='xr-var-name'><span>quantile</span></div><div class='xr-var-dims'>()</div><div class='xr-var-dtype'>float64</div><div class='xr-var-preview xr-preview'>0.9</div><input id='attrs-60f3ebed-1c10-4ada-99e2-acb6c7fb6509' class='xr-var-attrs-in' type='checkbox' disabled><label for='attrs-60f3ebed-1c10-4ada-99e2-acb6c7fb6509' title='Show/Hide attributes'><svg class='icon xr-icon-file-text2'><use xlink:href='#icon-file-text2'></use></svg></label><input id='data-dd3b96a7-a3af-4ec7-a498-f06a325e93db' class='xr-var-data-in' type='checkbox'><label for='data-dd3b96a7-a3af-4ec7-a498-f06a325e93db' title='Show/Hide data repr'><svg class='icon xr-icon-database'><use xlink:href='#icon-database'></use></svg></label><div class='xr-var-attrs'><dl class='xr-attrs'></dl></div><div class='xr-var-data'><pre>array(0.9)</pre></div></li><li class='xr-var-item'><div class='xr-var-name'><span>month</span></div><div class='xr-var-dims'>()</div><div class='xr-var-dtype'>int64</div><div class='xr-var-preview xr-preview'>12</div><input id='attrs-3c768a85-dc6f-434d-b5ad-329c979ab305' class='xr-var-attrs-in' type='checkbox' disabled><label for='attrs-3c768a85-dc6f-434d-b5ad-329c979ab305' title='Show/Hide attributes'><svg class='icon xr-icon-file-text2'><use xlink:href='#icon-file-text2'></use></svg></label><input id='data-8f1cd66f-dfb3-40f5-8367-bfcbe902fcc1' class='xr-var-data-in' type='checkbox'><label for='data-8f1cd66f-dfb3-40f5-8367-bfcbe902fcc1' title='Show/Hide data repr'><svg class='icon xr-icon-database'><use xlink:href='#icon-database'></use></svg></label><div class='xr-var-attrs'><dl class='xr-attrs'></dl></div><div class='xr-var-data'><pre>array(12)</pre></div></li></ul></div></li><li class='xr-section-item'><input id='section-8057f60a-7d89-4f07-8f89-a3570bd53f05' class='xr-section-summary-in' type='checkbox' disabled ><label for='section-8057f60a-7d89-4f07-8f89-a3570bd53f05' class='xr-section-summary'  title='Expand/collapse section'>Attributes: <span>(0)</span></label><div class='xr-section-inline-details'></div><div class='xr-section-details'><dl class='xr-attrs'></dl></div></li></ul></div></div>"
      ],
      "text/plain": [
       "<xarray.DataArray 'SSTA' (lat: 192, lon: 70)>\n",
       "array([[nan, nan, nan, ..., nan, nan, nan],\n",
       "       [nan, nan, nan, ..., nan, nan, nan],\n",
       "       [nan, nan, nan, ..., nan, nan, nan],\n",
       "       ...,\n",
       "       [nan, nan, nan, ..., nan, nan, nan],\n",
       "       [nan, nan, nan, ..., nan, nan, nan],\n",
       "       [nan, nan, nan, ..., nan, nan, nan]])\n",
       "Coordinates:\n",
       "  * lat        (lat) float64 -90.0 -89.06 -88.12 -87.17 ... 88.12 89.06 90.0\n",
       "  * lon        (lon) float64 0.0 1.25 2.5 3.75 5.0 ... 82.5 83.75 85.0 86.25\n",
       "    time       object 1852-12-01 00:00:00\n",
       "    member_id  <U11 'r2i1021p1f1'\n",
       "    quantile   float64 0.9\n",
       "    month      int64 12"
      ]
     },
     "execution_count": 18,
     "metadata": {},
     "output_type": "execute_result"
    },
    {
     "name": "stdout",
     "output_type": "stream",
     "text": [
      "(205.6678040825295, 60.35933978716709)\n",
      "[(182.0432409364366, 24.919445951082455), (205.6678040825295, 60.35933978716709)]\n"
     ]
    }
   ],
   "source": [
    "all_timesteps = forOneMHW_onlylabels_timesteps[:,:,:]\n",
    "timestep_of_interest = all_timesteps[timestep,:,:]\n",
    "SSTA_in_timestep = forOneMHW_onlySSTA_timesteps[timestep,:,:]\n",
    "\n",
    "get_sub_lbs = timestep_of_interest\n",
    "sub_labels = _get_labels(get_sub_lbs)\n",
    "sub_labels = xr.DataArray(sub_labels, dims=get_sub_lbs.dims, coords=get_sub_lbs.coords)\n",
    "sub_labels = sub_labels.where(timestep_of_interest>0, drop=False, other=np.nan)\n",
    "\n",
    "edge_right_sub_labels_ = sub_labels[:,-1:]\n",
    "edge_right_sub_labels = np.unique(np.unique(edge_right_sub_labels_)[~np.isnan(np.unique(edge_right_sub_labels_))])\n",
    "edge_left_sub_labels_ = sub_labels[:,:1]\n",
    "edge_left_sub_labels = np.unique(np.unique(edge_left_sub_labels_)[~np.isnan(np.unique(edge_left_sub_labels_))])\n",
    "\n",
    "edge_labels = np.unique(np.concatenate((edge_right_sub_labels, edge_left_sub_labels)))\n",
    "nonedgecases = np.setdiff1d(np.unique(sub_labels), edge_labels)\n",
    "nonedgecases = np.unique(nonedgecases[~np.isnan(nonedgecases)])\n",
    "\n",
    "centroid_list = []\n",
    "for i in nonedgecases:\n",
    "    sub_labels_nonedgecases = xr.where(sub_labels==i, SSTA_in_timestep, np.nan)\n",
    "    sub_labels_nonedgecases_labels = sub_labels.where(sub_labels==i, drop=False, other=np.nan)\n",
    "    x = sub_labels_nonedgecases.lon\n",
    "    y = sub_labels_nonedgecases.lat\n",
    "\n",
    "    (X,Y) = np.meshgrid(x,y)\n",
    "    img = sub_labels_nonedgecases\n",
    "    x_coord = (X*img).sum() / img.sum().astype(\"float\")\n",
    "    y_coord = (Y*img).sum() / img.sum().astype(\"float\")\n",
    "    coord = tuple([x_coord.item(), y_coord.item()])\n",
    "    centroid_list.append(coord)\n",
    "\n",
    "for i in edge_left_sub_labels:\n",
    "    sub_labels_left = sub_labels.where(sub_labels==i, drop=True)\n",
    "    lon_edge = sub_labels_left[:,-1:].lon.item()\n",
    "    mask_lon = (SSTA_in_timestep.lon <= lon_edge)\n",
    "    SSTA_left = SSTA_in_timestep.where(mask_lon, drop=True)\n",
    "    SSTA_in_timestep.where(mask_lon, drop=True)    \n",
    "    sub_labels_left.coords['lon'] = (sub_labels_left.coords['lon'] + 360) \n",
    "    SSTA_left.coords['lon'] = (SSTA_left.coords['lon'] + 360) \n",
    "    for j in edge_right_sub_labels:\n",
    "        sub_labels_right = sub_labels.where(sub_labels==j, drop=False, other=np.nan)\n",
    "        east = sub_labels_right.where(sub_labels_right.lon > lon_edge, drop=True)\n",
    "        append_east = xr.concat([east.where(east.lon >= lon_edge, drop=True), sub_labels_left], dim=\"lon\")\n",
    "        append_east_binarized = xr.where(append_east > 0, 1, np.nan)\n",
    "            \n",
    "        sub_labels_right = xr.where(sub_labels==j, SSTA_in_timestep, np.nan)\n",
    "        east = sub_labels_right.where(sub_labels_right.lon > lon_edge, drop=True)\n",
    "        append_east = xr.concat([east.where(east.lon >= lon_edge, drop=True), SSTA_left], dim=\"lon\")\n",
    "        \n",
    "        x = append_east.lon\n",
    "        y = append_east.lat\n",
    "        (X,Y) = np.meshgrid(x,y)\n",
    "        img = append_east\n",
    "        x_coord = (X*img).sum() / img.sum().astype(\"float\")\n",
    "        if x_coord > 360:\n",
    "            x_coord = x_coord - 360\n",
    "        y_coord = (Y*img).sum() / img.sum().astype(\"float\")\n",
    "        coord = tuple([x_coord.item(), y_coord.item()])\n",
    "        centroid_list.append(coord)\n",
    "print(centroid_list)"
   ]
  },
  {
   "cell_type": "code",
   "execution_count": 469,
   "id": "cff0e924-c88c-4f33-afe8-dabb2c1ea13c",
   "metadata": {},
   "outputs": [
    {
     "data": {
      "text/plain": [
       "<matplotlib.image.AxesImage at 0x2b97fbaa6a60>"
      ]
     },
     "execution_count": 469,
     "metadata": {},
     "output_type": "execute_result"
    },
    {
     "data": {
      "text/plain": [
       "<matplotlib.collections.PathCollection at 0x2b97fb585eb0>"
      ]
     },
     "execution_count": 469,
     "metadata": {},
     "output_type": "execute_result"
    },
    {
     "data": {
      "image/png": "[encoded data removed]",
      "text/plain": [
       "<Figure size 432x288 with 2 Axes>"
      ]
     },
     "metadata": {
      "needs_background": "light"
     },
     "output_type": "display_data"
    }
   ],
   "source": [
    "y_val = list(zip(*centroid_list))[1]\n",
    "x_val = list(zip(*centroid_list))[0]\n",
    "\n",
    "timestep_of_interest.plot.imshow(); plt.scatter(x_val, y_val, c='red'); plt.show()"
   ]
  },
  {
   "cell_type": "code",
   "execution_count": 475,
   "id": "62b6a1cf-99e2-44e8-9527-375ee42be9e1",
   "metadata": {},
   "outputs": [
    {
     "data": {
      "text/plain": [
       "<matplotlib.image.AxesImage at 0x2b97fcfe0370>"
      ]
     },
     "execution_count": 475,
     "metadata": {},
     "output_type": "execute_result"
    },
    {
     "data": {
      "image/png": "[encoded data removed]",
      "text/plain": [
       "<Figure size 432x288 with 2 Axes>"
      ]
     },
     "metadata": {
      "needs_background": "light"
     },
     "output_type": "display_data"
    }
   ],
   "source": [
    "append_east.plot.imshow(vmin=0, vmax=8); plt.show()"
   ]
  },
  {
   "cell_type": "code",
   "execution_count": 466,
   "id": "cdceb2a2-1179-493c-b653-33f41ff24065",
   "metadata": {},
   "outputs": [
    {
     "data": {
      "text/plain": [
       "[(182.0432409364366, 24.919445951082455),\n",
       " (118.16780408252949, 60.35933978716709)]"
      ]
     },
     "execution_count": 466,
     "metadata": {},
     "output_type": "execute_result"
    }
   ],
   "source": [
    "(X,Y) = np.meshgrid(x,y)\n",
    "img = append_east\n",
    "x_coord = (X*img).sum() / img.sum().astype(\"float\")\n",
    "y_coord = (Y*img).sum() / img.sum().astype(\"float\")\n",
    "coord = tuple([x_coord.item(), y_coord.item()])"
   ]
  },
  {
   "cell_type": "code",
   "execution_count": 368,
   "id": "2ec55650-bbe2-453c-9b97-a87976ee481a",
   "metadata": {},
   "outputs": [
    {
     "data": {
      "text/html": [
       "<div><svg style=\"position: absolute; width: 0; height: 0; overflow: hidden\">\n",
       "<defs>\n",
       "<symbol id=\"icon-database\" viewBox=\"0 0 32 32\">\n",
       "<path d=\"M16 0c-8.837 0-16 2.239-16 5v4c0 2.761 7.163 5 16 5s16-2.239 16-5v-4c0-2.761-7.163-5-16-5z\"></path>\n",
       "<path d=\"M16 17c-8.837 0-16-2.239-16-5v6c0 2.761 7.163 5 16 5s16-2.239 16-5v-6c0 2.761-7.163 5-16 5z\"></path>\n",
       "<path d=\"M16 26c-8.837 0-16-2.239-16-5v6c0 2.761 7.163 5 16 5s16-2.239 16-5v-6c0 2.761-7.163 5-16 5z\"></path>\n",
       "</symbol>\n",
       "<symbol id=\"icon-file-text2\" viewBox=\"0 0 32 32\">\n",
       "<path d=\"M28.681 7.159c-0.694-0.947-1.662-2.053-2.724-3.116s-2.169-2.030-3.116-2.724c-1.612-1.182-2.393-1.319-2.841-1.319h-15.5c-1.378 0-2.5 1.121-2.5 2.5v27c0 1.378 1.122 2.5 2.5 2.5h23c1.378 0 2.5-1.122 2.5-2.5v-19.5c0-0.448-0.137-1.23-1.319-2.841zM24.543 5.457c0.959 0.959 1.712 1.825 2.268 2.543h-4.811v-4.811c0.718 0.556 1.584 1.309 2.543 2.268zM28 29.5c0 0.271-0.229 0.5-0.5 0.5h-23c-0.271 0-0.5-0.229-0.5-0.5v-27c0-0.271 0.229-0.5 0.5-0.5 0 0 15.499-0 15.5 0v7c0 0.552 0.448 1 1 1h7v19.5z\"></path>\n",
       "<path d=\"M23 26h-14c-0.552 0-1-0.448-1-1s0.448-1 1-1h14c0.552 0 1 0.448 1 1s-0.448 1-1 1z\"></path>\n",
       "<path d=\"M23 22h-14c-0.552 0-1-0.448-1-1s0.448-1 1-1h14c0.552 0 1 0.448 1 1s-0.448 1-1 1z\"></path>\n",
       "<path d=\"M23 18h-14c-0.552 0-1-0.448-1-1s0.448-1 1-1h14c0.552 0 1 0.448 1 1s-0.448 1-1 1z\"></path>\n",
       "</symbol>\n",
       "</defs>\n",
       "</svg>\n",
       "<style>/* CSS stylesheet for displaying xarray objects in jupyterlab.\n",
       " *\n",
       " */\n",
       "\n",
       ":root {\n",
       "  --xr-font-color0: var(--jp-content-font-color0, rgba(0, 0, 0, 1));\n",
       "  --xr-font-color2: var(--jp-content-font-color2, rgba(0, 0, 0, 0.54));\n",
       "  --xr-font-color3: var(--jp-content-font-color3, rgba(0, 0, 0, 0.38));\n",
       "  --xr-border-color: var(--jp-border-color2, #e0e0e0);\n",
       "  --xr-disabled-color: var(--jp-layout-color3, #bdbdbd);\n",
       "  --xr-background-color: var(--jp-layout-color0, white);\n",
       "  --xr-background-color-row-even: var(--jp-layout-color1, white);\n",
       "  --xr-background-color-row-odd: var(--jp-layout-color2, #eeeeee);\n",
       "}\n",
       "\n",
       "html[theme=dark],\n",
       "body.vscode-dark {\n",
       "  --xr-font-color0: rgba(255, 255, 255, 1);\n",
       "  --xr-font-color2: rgba(255, 255, 255, 0.54);\n",
       "  --xr-font-color3: rgba(255, 255, 255, 0.38);\n",
       "  --xr-border-color: #1F1F1F;\n",
       "  --xr-disabled-color: #515151;\n",
       "  --xr-background-color: #111111;\n",
       "  --xr-background-color-row-even: #111111;\n",
       "  --xr-background-color-row-odd: #313131;\n",
       "}\n",
       "\n",
       ".xr-wrap {\n",
       "  display: block;\n",
       "  min-width: 300px;\n",
       "  max-width: 700px;\n",
       "}\n",
       "\n",
       ".xr-text-repr-fallback {\n",
       "  /* fallback to plain text repr when CSS is not injected (untrusted notebook) */\n",
       "  display: none;\n",
       "}\n",
       "\n",
       ".xr-header {\n",
       "  padding-top: 6px;\n",
       "  padding-bottom: 6px;\n",
       "  margin-bottom: 4px;\n",
       "  border-bottom: solid 1px var(--xr-border-color);\n",
       "}\n",
       "\n",
       ".xr-header > div,\n",
       ".xr-header > ul {\n",
       "  display: inline;\n",
       "  margin-top: 0;\n",
       "  margin-bottom: 0;\n",
       "}\n",
       "\n",
       ".xr-obj-type,\n",
       ".xr-array-name {\n",
       "  margin-left: 2px;\n",
       "  margin-right: 10px;\n",
       "}\n",
       "\n",
       ".xr-obj-type {\n",
       "  color: var(--xr-font-color2);\n",
       "}\n",
       "\n",
       ".xr-sections {\n",
       "  padding-left: 0 !important;\n",
       "  display: grid;\n",
       "  grid-template-columns: 150px auto auto 1fr 20px 20px;\n",
       "}\n",
       "\n",
       ".xr-section-item {\n",
       "  display: contents;\n",
       "}\n",
       "\n",
       ".xr-section-item input {\n",
       "  display: none;\n",
       "}\n",
       "\n",
       ".xr-section-item input + label {\n",
       "  color: var(--xr-disabled-color);\n",
       "}\n",
       "\n",
       ".xr-section-item input:enabled + label {\n",
       "  cursor: pointer;\n",
       "  color: var(--xr-font-color2);\n",
       "}\n",
       "\n",
       ".xr-section-item input:enabled + label:hover {\n",
       "  color: var(--xr-font-color0);\n",
       "}\n",
       "\n",
       ".xr-section-summary {\n",
       "  grid-column: 1;\n",
       "  color: var(--xr-font-color2);\n",
       "  font-weight: 500;\n",
       "}\n",
       "\n",
       ".xr-section-summary > span {\n",
       "  display: inline-block;\n",
       "  padding-left: 0.5em;\n",
       "}\n",
       "\n",
       ".xr-section-summary-in:disabled + label {\n",
       "  color: var(--xr-font-color2);\n",
       "}\n",
       "\n",
       ".xr-section-summary-in + label:before {\n",
       "  display: inline-block;\n",
       "  content: '►';\n",
       "  font-size: 11px;\n",
       "  width: 15px;\n",
       "  text-align: center;\n",
       "}\n",
       "\n",
       ".xr-section-summary-in:disabled + label:before {\n",
       "  color: var(--xr-disabled-color);\n",
       "}\n",
       "\n",
       ".xr-section-summary-in:checked + label:before {\n",
       "  content: '▼';\n",
       "}\n",
       "\n",
       ".xr-section-summary-in:checked + label > span {\n",
       "  display: none;\n",
       "}\n",
       "\n",
       ".xr-section-summary,\n",
       ".xr-section-inline-details {\n",
       "  padding-top: 4px;\n",
       "  padding-bottom: 4px;\n",
       "}\n",
       "\n",
       ".xr-section-inline-details {\n",
       "  grid-column: 2 / -1;\n",
       "}\n",
       "\n",
       ".xr-section-details {\n",
       "  display: none;\n",
       "  grid-column: 1 / -1;\n",
       "  margin-bottom: 5px;\n",
       "}\n",
       "\n",
       ".xr-section-summary-in:checked ~ .xr-section-details {\n",
       "  display: contents;\n",
       "}\n",
       "\n",
       ".xr-array-wrap {\n",
       "  grid-column: 1 / -1;\n",
       "  display: grid;\n",
       "  grid-template-columns: 20px auto;\n",
       "}\n",
       "\n",
       ".xr-array-wrap > label {\n",
       "  grid-column: 1;\n",
       "  vertical-align: top;\n",
       "}\n",
       "\n",
       ".xr-preview {\n",
       "  color: var(--xr-font-color3);\n",
       "}\n",
       "\n",
       ".xr-array-preview,\n",
       ".xr-array-data {\n",
       "  padding: 0 5px !important;\n",
       "  grid-column: 2;\n",
       "}\n",
       "\n",
       ".xr-array-data,\n",
       ".xr-array-in:checked ~ .xr-array-preview {\n",
       "  display: none;\n",
       "}\n",
       "\n",
       ".xr-array-in:checked ~ .xr-array-data,\n",
       ".xr-array-preview {\n",
       "  display: inline-block;\n",
       "}\n",
       "\n",
       ".xr-dim-list {\n",
       "  display: inline-block !important;\n",
       "  list-style: none;\n",
       "  padding: 0 !important;\n",
       "  margin: 0;\n",
       "}\n",
       "\n",
       ".xr-dim-list li {\n",
       "  display: inline-block;\n",
       "  padding: 0;\n",
       "  margin: 0;\n",
       "}\n",
       "\n",
       ".xr-dim-list:before {\n",
       "  content: '(';\n",
       "}\n",
       "\n",
       ".xr-dim-list:after {\n",
       "  content: ')';\n",
       "}\n",
       "\n",
       ".xr-dim-list li:not(:last-child):after {\n",
       "  content: ',';\n",
       "  padding-right: 5px;\n",
       "}\n",
       "\n",
       ".xr-has-index {\n",
       "  font-weight: bold;\n",
       "}\n",
       "\n",
       ".xr-var-list,\n",
       ".xr-var-item {\n",
       "  display: contents;\n",
       "}\n",
       "\n",
       ".xr-var-item > div,\n",
       ".xr-var-item label,\n",
       ".xr-var-item > .xr-var-name span {\n",
       "  background-color: var(--xr-background-color-row-even);\n",
       "  margin-bottom: 0;\n",
       "}\n",
       "\n",
       ".xr-var-item > .xr-var-name:hover span {\n",
       "  padding-right: 5px;\n",
       "}\n",
       "\n",
       ".xr-var-list > li:nth-child(odd) > div,\n",
       ".xr-var-list > li:nth-child(odd) > label,\n",
       ".xr-var-list > li:nth-child(odd) > .xr-var-name span {\n",
       "  background-color: var(--xr-background-color-row-odd);\n",
       "}\n",
       "\n",
       ".xr-var-name {\n",
       "  grid-column: 1;\n",
       "}\n",
       "\n",
       ".xr-var-dims {\n",
       "  grid-column: 2;\n",
       "}\n",
       "\n",
       ".xr-var-dtype {\n",
       "  grid-column: 3;\n",
       "  text-align: right;\n",
       "  color: var(--xr-font-color2);\n",
       "}\n",
       "\n",
       ".xr-var-preview {\n",
       "  grid-column: 4;\n",
       "}\n",
       "\n",
       ".xr-var-name,\n",
       ".xr-var-dims,\n",
       ".xr-var-dtype,\n",
       ".xr-preview,\n",
       ".xr-attrs dt {\n",
       "  white-space: nowrap;\n",
       "  overflow: hidden;\n",
       "  text-overflow: ellipsis;\n",
       "  padding-right: 10px;\n",
       "}\n",
       "\n",
       ".xr-var-name:hover,\n",
       ".xr-var-dims:hover,\n",
       ".xr-var-dtype:hover,\n",
       ".xr-attrs dt:hover {\n",
       "  overflow: visible;\n",
       "  width: auto;\n",
       "  z-index: 1;\n",
       "}\n",
       "\n",
       ".xr-var-attrs,\n",
       ".xr-var-data {\n",
       "  display: none;\n",
       "  background-color: var(--xr-background-color) !important;\n",
       "  padding-bottom: 5px !important;\n",
       "}\n",
       "\n",
       ".xr-var-attrs-in:checked ~ .xr-var-attrs,\n",
       ".xr-var-data-in:checked ~ .xr-var-data {\n",
       "  display: block;\n",
       "}\n",
       "\n",
       ".xr-var-data > table {\n",
       "  float: right;\n",
       "}\n",
       "\n",
       ".xr-var-name span,\n",
       ".xr-var-data,\n",
       ".xr-attrs {\n",
       "  padding-left: 25px !important;\n",
       "}\n",
       "\n",
       ".xr-attrs,\n",
       ".xr-var-attrs,\n",
       ".xr-var-data {\n",
       "  grid-column: 1 / -1;\n",
       "}\n",
       "\n",
       "dl.xr-attrs {\n",
       "  padding: 0;\n",
       "  margin: 0;\n",
       "  display: grid;\n",
       "  grid-template-columns: 125px auto;\n",
       "}\n",
       "\n",
       ".xr-attrs dt,\n",
       ".xr-attrs dd {\n",
       "  padding: 0;\n",
       "  margin: 0;\n",
       "  float: left;\n",
       "  padding-right: 10px;\n",
       "  width: auto;\n",
       "}\n",
       "\n",
       ".xr-attrs dt {\n",
       "  font-weight: normal;\n",
       "  grid-column: 1;\n",
       "}\n",
       "\n",
       ".xr-attrs dt:hover span {\n",
       "  display: inline-block;\n",
       "  background: var(--xr-background-color);\n",
       "  padding-right: 10px;\n",
       "}\n",
       "\n",
       ".xr-attrs dd {\n",
       "  grid-column: 2;\n",
       "  white-space: pre-wrap;\n",
       "  word-break: break-all;\n",
       "}\n",
       "\n",
       ".xr-icon-database,\n",
       ".xr-icon-file-text2 {\n",
       "  display: inline-block;\n",
       "  vertical-align: middle;\n",
       "  width: 1em;\n",
       "  height: 1.5em !important;\n",
       "  stroke-width: 0;\n",
       "  stroke: currentColor;\n",
       "  fill: currentColor;\n",
       "}\n",
       "</style><pre class='xr-text-repr-fallback'>&lt;xarray.DataArray (lat: 192, lon: 288)&gt;\n",
       "array([[nan, nan, nan, ..., nan, nan, nan],\n",
       "       [nan, nan, nan, ..., nan, nan, nan],\n",
       "       [nan, nan, nan, ..., nan, nan, nan],\n",
       "       ...,\n",
       "       [nan, nan, nan, ..., nan, nan, nan],\n",
       "       [nan, nan, nan, ..., nan, nan, nan],\n",
       "       [nan, nan, nan, ..., nan, nan, nan]])\n",
       "Coordinates:\n",
       "  * lat        (lat) float64 -90.0 -89.06 -88.12 -87.17 ... 88.12 89.06 90.0\n",
       "  * lon        (lon) float64 87.5 88.75 90.0 91.25 ... 442.5 443.8 445.0 446.2\n",
       "    time       object 1852-12-01 00:00:00\n",
       "    member_id  &lt;U11 &#x27;r2i1021p1f1&#x27;\n",
       "    quantile   float64 0.9\n",
       "    month      int64 12</pre><div class='xr-wrap' hidden><div class='xr-header'><div class='xr-obj-type'>xarray.DataArray</div><div class='xr-array-name'></div><ul class='xr-dim-list'><li><span class='xr-has-index'>lat</span>: 192</li><li><span class='xr-has-index'>lon</span>: 288</li></ul></div><ul class='xr-sections'><li class='xr-section-item'><div class='xr-array-wrap'><input id='section-691dc6d4-9d08-4d3c-a90c-8b5f805a431f' class='xr-array-in' type='checkbox' checked><label for='section-691dc6d4-9d08-4d3c-a90c-8b5f805a431f' title='Show/hide data repr'><svg class='icon xr-icon-database'><use xlink:href='#icon-database'></use></svg></label><div class='xr-array-preview xr-preview'><span>nan nan nan nan nan nan nan nan ... nan nan nan nan nan nan nan nan</span></div><div class='xr-array-data'><pre>array([[nan, nan, nan, ..., nan, nan, nan],\n",
       "       [nan, nan, nan, ..., nan, nan, nan],\n",
       "       [nan, nan, nan, ..., nan, nan, nan],\n",
       "       ...,\n",
       "       [nan, nan, nan, ..., nan, nan, nan],\n",
       "       [nan, nan, nan, ..., nan, nan, nan],\n",
       "       [nan, nan, nan, ..., nan, nan, nan]])</pre></div></div></li><li class='xr-section-item'><input id='section-29395c21-8094-48e3-b29e-5f38ab4f368a' class='xr-section-summary-in' type='checkbox'  checked><label for='section-29395c21-8094-48e3-b29e-5f38ab4f368a' class='xr-section-summary' >Coordinates: <span>(6)</span></label><div class='xr-section-inline-details'></div><div class='xr-section-details'><ul class='xr-var-list'><li class='xr-var-item'><div class='xr-var-name'><span class='xr-has-index'>lat</span></div><div class='xr-var-dims'>(lat)</div><div class='xr-var-dtype'>float64</div><div class='xr-var-preview xr-preview'>-90.0 -89.06 -88.12 ... 89.06 90.0</div><input id='attrs-af4523c8-d362-4e95-8587-050e9727de0b' class='xr-var-attrs-in' type='checkbox' ><label for='attrs-af4523c8-d362-4e95-8587-050e9727de0b' title='Show/Hide attributes'><svg class='icon xr-icon-file-text2'><use xlink:href='#icon-file-text2'></use></svg></label><input id='data-c45d61ad-7568-4ce3-84ab-aadfb4173962' class='xr-var-data-in' type='checkbox'><label for='data-c45d61ad-7568-4ce3-84ab-aadfb4173962' title='Show/Hide data repr'><svg class='icon xr-icon-database'><use xlink:href='#icon-database'></use></svg></label><div class='xr-var-attrs'><dl class='xr-attrs'><dt><span>long_name :</span></dt><dd>latitude</dd><dt><span>units :</span></dt><dd>degrees_north</dd></dl></div><div class='xr-var-data'><pre>array([-90.      , -89.057592, -88.115183, -87.172775, -86.230366, -85.287958,\n",
       "       -84.34555 , -83.403141, -82.460733, -81.518325, -80.575916, -79.633508,\n",
       "       -78.691099, -77.748691, -76.806283, -75.863874, -74.921466, -73.979058,\n",
       "       -73.036649, -72.094241, -71.151832, -70.209424, -69.267016, -68.324607,\n",
       "       -67.382199, -66.439791, -65.497382, -64.554974, -63.612565, -62.670157,\n",
       "       -61.727749, -60.78534 , -59.842932, -58.900524, -57.958115, -57.015707,\n",
       "       -56.073298, -55.13089 , -54.188482, -53.246073, -52.303665, -51.361257,\n",
       "       -50.418848, -49.47644 , -48.534031, -47.591623, -46.649215, -45.706806,\n",
       "       -44.764398, -43.82199 , -42.879581, -41.937173, -40.994764, -40.052356,\n",
       "       -39.109948, -38.167539, -37.225131, -36.282723, -35.340314, -34.397906,\n",
       "       -33.455497, -32.513089, -31.570681, -30.628272, -29.685864, -28.743455,\n",
       "       -27.801047, -26.858639, -25.91623 , -24.973822, -24.031414, -23.089005,\n",
       "       -22.146597, -21.204188, -20.26178 , -19.319372, -18.376963, -17.434555,\n",
       "       -16.492147, -15.549738, -14.60733 , -13.664921, -12.722513, -11.780105,\n",
       "       -10.837696,  -9.895288,  -8.95288 ,  -8.010471,  -7.068063,  -6.125654,\n",
       "        -5.183246,  -4.240838,  -3.298429,  -2.356021,  -1.413613,  -0.471204,\n",
       "         0.471204,   1.413613,   2.356021,   3.298429,   4.240838,   5.183246,\n",
       "         6.125654,   7.068063,   8.010471,   8.95288 ,   9.895288,  10.837696,\n",
       "        11.780105,  12.722513,  13.664921,  14.60733 ,  15.549738,  16.492147,\n",
       "        17.434555,  18.376963,  19.319372,  20.26178 ,  21.204188,  22.146597,\n",
       "        23.089005,  24.031414,  24.973822,  25.91623 ,  26.858639,  27.801047,\n",
       "        28.743455,  29.685864,  30.628272,  31.570681,  32.513089,  33.455497,\n",
       "        34.397906,  35.340314,  36.282723,  37.225131,  38.167539,  39.109948,\n",
       "        40.052356,  40.994764,  41.937173,  42.879581,  43.82199 ,  44.764398,\n",
       "        45.706806,  46.649215,  47.591623,  48.534031,  49.47644 ,  50.418848,\n",
       "        51.361257,  52.303665,  53.246073,  54.188482,  55.13089 ,  56.073298,\n",
       "        57.015707,  57.958115,  58.900524,  59.842932,  60.78534 ,  61.727749,\n",
       "        62.670157,  63.612565,  64.554974,  65.497382,  66.439791,  67.382199,\n",
       "        68.324607,  69.267016,  70.209424,  71.151832,  72.094241,  73.036649,\n",
       "        73.979058,  74.921466,  75.863874,  76.806283,  77.748691,  78.691099,\n",
       "        79.633508,  80.575916,  81.518325,  82.460733,  83.403141,  84.34555 ,\n",
       "        85.287958,  86.230366,  87.172775,  88.115183,  89.057592,  90.      ])</pre></div></li><li class='xr-var-item'><div class='xr-var-name'><span class='xr-has-index'>lon</span></div><div class='xr-var-dims'>(lon)</div><div class='xr-var-dtype'>float64</div><div class='xr-var-preview xr-preview'>87.5 88.75 90.0 ... 445.0 446.2</div><input id='attrs-34fae74c-d6d7-4795-b518-6eab833620fa' class='xr-var-attrs-in' type='checkbox' ><label for='attrs-34fae74c-d6d7-4795-b518-6eab833620fa' title='Show/Hide attributes'><svg class='icon xr-icon-file-text2'><use xlink:href='#icon-file-text2'></use></svg></label><input id='data-880ba632-d58d-46a1-8393-b916a3a0d02d' class='xr-var-data-in' type='checkbox'><label for='data-880ba632-d58d-46a1-8393-b916a3a0d02d' title='Show/Hide data repr'><svg class='icon xr-icon-database'><use xlink:href='#icon-database'></use></svg></label><div class='xr-var-attrs'><dl class='xr-attrs'><dt><span>long_name :</span></dt><dd>longitude</dd><dt><span>units :</span></dt><dd>degrees_east</dd></dl></div><div class='xr-var-data'><pre>array([ 87.5 ,  88.75,  90.  , ..., 443.75, 445.  , 446.25])</pre></div></li><li class='xr-var-item'><div class='xr-var-name'><span>time</span></div><div class='xr-var-dims'>()</div><div class='xr-var-dtype'>object</div><div class='xr-var-preview xr-preview'>1852-12-01 00:00:00</div><input id='attrs-81bba35b-40aa-4325-9eb2-97798151e136' class='xr-var-attrs-in' type='checkbox' ><label for='attrs-81bba35b-40aa-4325-9eb2-97798151e136' title='Show/Hide attributes'><svg class='icon xr-icon-file-text2'><use xlink:href='#icon-file-text2'></use></svg></label><input id='data-f19f6ce8-957a-4f4e-ad76-384565df0eb8' class='xr-var-data-in' type='checkbox'><label for='data-f19f6ce8-957a-4f4e-ad76-384565df0eb8' title='Show/Hide data repr'><svg class='icon xr-icon-database'><use xlink:href='#icon-database'></use></svg></label><div class='xr-var-attrs'><dl class='xr-attrs'><dt><span>long_name :</span></dt><dd>time</dd><dt><span>bounds :</span></dt><dd>time_bnds</dd></dl></div><div class='xr-var-data'><pre>array(cftime.DatetimeNoLeap(1852, 12, 1, 0, 0, 0, 0, has_year_zero=True),\n",
       "      dtype=object)</pre></div></li><li class='xr-var-item'><div class='xr-var-name'><span>member_id</span></div><div class='xr-var-dims'>()</div><div class='xr-var-dtype'>&lt;U11</div><div class='xr-var-preview xr-preview'>&#x27;r2i1021p1f1&#x27;</div><input id='attrs-290de493-1577-48f3-9838-103931d5f162' class='xr-var-attrs-in' type='checkbox' disabled><label for='attrs-290de493-1577-48f3-9838-103931d5f162' title='Show/Hide attributes'><svg class='icon xr-icon-file-text2'><use xlink:href='#icon-file-text2'></use></svg></label><input id='data-fa1e2961-df5c-4fb6-a022-1c38df80eda9' class='xr-var-data-in' type='checkbox'><label for='data-fa1e2961-df5c-4fb6-a022-1c38df80eda9' title='Show/Hide data repr'><svg class='icon xr-icon-database'><use xlink:href='#icon-database'></use></svg></label><div class='xr-var-attrs'><dl class='xr-attrs'></dl></div><div class='xr-var-data'><pre>array(&#x27;r2i1021p1f1&#x27;, dtype=&#x27;&lt;U11&#x27;)</pre></div></li><li class='xr-var-item'><div class='xr-var-name'><span>quantile</span></div><div class='xr-var-dims'>()</div><div class='xr-var-dtype'>float64</div><div class='xr-var-preview xr-preview'>0.9</div><input id='attrs-4ab47726-d408-4873-be9a-9a04d9199554' class='xr-var-attrs-in' type='checkbox' disabled><label for='attrs-4ab47726-d408-4873-be9a-9a04d9199554' title='Show/Hide attributes'><svg class='icon xr-icon-file-text2'><use xlink:href='#icon-file-text2'></use></svg></label><input id='data-22778f9a-0896-405a-8adc-b1c27e7c5bcc' class='xr-var-data-in' type='checkbox'><label for='data-22778f9a-0896-405a-8adc-b1c27e7c5bcc' title='Show/Hide data repr'><svg class='icon xr-icon-database'><use xlink:href='#icon-database'></use></svg></label><div class='xr-var-attrs'><dl class='xr-attrs'></dl></div><div class='xr-var-data'><pre>array(0.9)</pre></div></li><li class='xr-var-item'><div class='xr-var-name'><span>month</span></div><div class='xr-var-dims'>()</div><div class='xr-var-dtype'>int64</div><div class='xr-var-preview xr-preview'>12</div><input id='attrs-e744f6d7-1513-4bf1-a308-acac248323f4' class='xr-var-attrs-in' type='checkbox' disabled><label for='attrs-e744f6d7-1513-4bf1-a308-acac248323f4' title='Show/Hide attributes'><svg class='icon xr-icon-file-text2'><use xlink:href='#icon-file-text2'></use></svg></label><input id='data-4fba6701-0052-494d-bcfe-e6207b738bd5' class='xr-var-data-in' type='checkbox'><label for='data-4fba6701-0052-494d-bcfe-e6207b738bd5' title='Show/Hide data repr'><svg class='icon xr-icon-database'><use xlink:href='#icon-database'></use></svg></label><div class='xr-var-attrs'><dl class='xr-attrs'></dl></div><div class='xr-var-data'><pre>array(12)</pre></div></li></ul></div></li><li class='xr-section-item'><input id='section-3065ce6e-c707-4e8a-87a5-9062043288d5' class='xr-section-summary-in' type='checkbox' disabled ><label for='section-3065ce6e-c707-4e8a-87a5-9062043288d5' class='xr-section-summary'  title='Expand/collapse section'>Attributes: <span>(0)</span></label><div class='xr-section-inline-details'></div><div class='xr-section-details'><dl class='xr-attrs'></dl></div></li></ul></div></div>"
      ],
      "text/plain": [
       "<xarray.DataArray (lat: 192, lon: 288)>\n",
       "array([[nan, nan, nan, ..., nan, nan, nan],\n",
       "       [nan, nan, nan, ..., nan, nan, nan],\n",
       "       [nan, nan, nan, ..., nan, nan, nan],\n",
       "       ...,\n",
       "       [nan, nan, nan, ..., nan, nan, nan],\n",
       "       [nan, nan, nan, ..., nan, nan, nan],\n",
       "       [nan, nan, nan, ..., nan, nan, nan]])\n",
       "Coordinates:\n",
       "  * lat        (lat) float64 -90.0 -89.06 -88.12 -87.17 ... 88.12 89.06 90.0\n",
       "  * lon        (lon) float64 87.5 88.75 90.0 91.25 ... 442.5 443.8 445.0 446.2\n",
       "    time       object 1852-12-01 00:00:00\n",
       "    member_id  <U11 'r2i1021p1f1'\n",
       "    quantile   float64 0.9\n",
       "    month      int64 12"
      ]
     },
     "execution_count": 368,
     "metadata": {},
     "output_type": "execute_result"
    }
   ],
   "source": [
    "append_east_binarized"
   ]
  },
  {
   "cell_type": "code",
   "execution_count": 389,
   "id": "af70608e-98fe-4ec0-a8c5-a11b525ca92b",
   "metadata": {},
   "outputs": [
    {
     "data": {
      "text/plain": [
       "array(39.10994764)"
      ]
     },
     "execution_count": 389,
     "metadata": {},
     "output_type": "execute_result"
    }
   ],
   "source": [
    "append_east.lat[round(center_of_mass[1])].values"
   ]
  },
  {
   "cell_type": "code",
   "execution_count": 370,
   "id": "c2f6f344-34c5-44e7-bef2-e38ab08fbcfe",
   "metadata": {},
   "outputs": [
    {
     "data": {
      "text/plain": [
       "<matplotlib.image.AxesImage at 0x2b97f8ed7ee0>"
      ]
     },
     "execution_count": 370,
     "metadata": {},
     "output_type": "execute_result"
    },
    {
     "data": {
      "image/png": "[encoded data removed]",
      "text/plain": [
       "<Figure size 432x288 with 2 Axes>"
      ]
     },
     "metadata": {
      "needs_background": "light"
     },
     "output_type": "display_data"
    }
   ],
   "source": [
    "append_east_binarized.plot.imshow(); plt.show()"
   ]
  },
  {
   "cell_type": "code",
   "execution_count": 375,
   "id": "8144589e-fd7c-492b-905d-e96566f769c2",
   "metadata": {},
   "outputs": [
    {
     "data": {
      "text/plain": [
       "array([-9223372036854775808,                    1])"
      ]
     },
     "execution_count": 375,
     "metadata": {},
     "output_type": "execute_result"
    },
    {
     "data": {
      "text/plain": [
       "<matplotlib.image.AxesImage at 0x2b97fa1e29a0>"
      ]
     },
     "execution_count": 375,
     "metadata": {},
     "output_type": "execute_result"
    },
    {
     "data": {
      "image/png": "[encoded data removed]",
      "text/plain": [
       "<Figure size 432x288 with 2 Axes>"
      ]
     },
     "metadata": {
      "needs_background": "light"
     },
     "output_type": "display_data"
    }
   ],
   "source": [
    "np.unique(append_east_binarized.astype('int'))\n",
    "binary = xr.where(append_east_binarized==1.0, 1, 0)\n",
    "binary.plot.imshow(); plt.show()"
   ]
  },
  {
   "cell_type": "code",
   "execution_count": 382,
   "id": "b648407f-cc7f-40c2-b932-742d1db43a09",
   "metadata": {},
   "outputs": [
    {
     "data": {
      "text/plain": [
       "<matplotlib.image.AxesImage at 0x2b97f9900e50>"
      ]
     },
     "execution_count": 382,
     "metadata": {},
     "output_type": "execute_result"
    },
    {
     "data": {
      "image/png": "[encoded data removed]",
      "text/plain": [
       "<Figure size 432x288 with 2 Axes>"
      ]
     },
     "metadata": {
      "needs_background": "light"
     },
     "output_type": "display_data"
    }
   ],
   "source": [
    "append_east = xr.where(append_east_binarized is not np.nan, append_east, 0)\n",
    "append_east.plot.imshow(); plt.show()"
   ]
  },
  {
   "cell_type": "code",
   "execution_count": 398,
   "id": "a13b22c1-5fbe-423e-aa51-1d1846368ada",
   "metadata": {},
   "outputs": [
    {
     "name": "stdout",
     "output_type": "stream",
     "text": [
      "[0]\n"
     ]
    },
    {
     "ename": "TypeError",
     "evalue": "'numpy.float64' object is not iterable",
     "output_type": "error",
     "traceback": [
      "\u001b[0;31m---------------------------------------------------------------------------\u001b[0m",
      "\u001b[0;31mTypeError\u001b[0m                                 Traceback (most recent call last)",
      "\u001b[0;32m/glade/scratch/cassiacai/ipykernel_226084/2450683959.py\u001b[0m in \u001b[0;36m<module>\u001b[0;34m\u001b[0m\n\u001b[1;32m      4\u001b[0m \u001b[0mappend_east\u001b[0m \u001b[0;34m=\u001b[0m \u001b[0mxr\u001b[0m\u001b[0;34m.\u001b[0m\u001b[0mwhere\u001b[0m\u001b[0;34m(\u001b[0m\u001b[0mappend_east\u001b[0m \u001b[0;34m==\u001b[0m \u001b[0;34m-\u001b[0m\u001b[0;36m9223372036854775808\u001b[0m\u001b[0;34m,\u001b[0m \u001b[0mappend_east\u001b[0m\u001b[0;34m,\u001b[0m \u001b[0;36m0\u001b[0m\u001b[0;34m)\u001b[0m\u001b[0;34m\u001b[0m\u001b[0;34m\u001b[0m\u001b[0m\n\u001b[1;32m      5\u001b[0m \u001b[0mprint\u001b[0m\u001b[0;34m(\u001b[0m\u001b[0mnp\u001b[0m\u001b[0;34m.\u001b[0m\u001b[0munique\u001b[0m\u001b[0;34m(\u001b[0m\u001b[0mappend_east\u001b[0m\u001b[0;34m)\u001b[0m\u001b[0;34m)\u001b[0m\u001b[0;34m\u001b[0m\u001b[0;34m\u001b[0m\u001b[0m\n\u001b[0;32m----> 6\u001b[0;31m \u001b[0mndimage\u001b[0m\u001b[0;34m.\u001b[0m\u001b[0mmeasurements\u001b[0m\u001b[0;34m.\u001b[0m\u001b[0mcenter_of_mass\u001b[0m\u001b[0;34m(\u001b[0m\u001b[0mappend_east\u001b[0m\u001b[0;34m)\u001b[0m\u001b[0;34m\u001b[0m\u001b[0;34m\u001b[0m\u001b[0m\n\u001b[0m",
      "\u001b[0;32m~/miniconda3/envs/test-env/lib/python3.9/site-packages/scipy/ndimage/measurements.py\u001b[0m in \u001b[0;36mcenter_of_mass\u001b[0;34m(input, labels, index)\u001b[0m\n\u001b[1;32m   1410\u001b[0m         \u001b[0;32mreturn\u001b[0m \u001b[0mtuple\u001b[0m\u001b[0;34m(\u001b[0m\u001b[0mresults\u001b[0m\u001b[0;34m)\u001b[0m\u001b[0;34m\u001b[0m\u001b[0;34m\u001b[0m\u001b[0m\n\u001b[1;32m   1411\u001b[0m \u001b[0;34m\u001b[0m\u001b[0m\n\u001b[0;32m-> 1412\u001b[0;31m     \u001b[0;32mreturn\u001b[0m \u001b[0;34m[\u001b[0m\u001b[0mtuple\u001b[0m\u001b[0;34m(\u001b[0m\u001b[0mv\u001b[0m\u001b[0;34m)\u001b[0m \u001b[0;32mfor\u001b[0m \u001b[0mv\u001b[0m \u001b[0;32min\u001b[0m \u001b[0mnumpy\u001b[0m\u001b[0;34m.\u001b[0m\u001b[0marray\u001b[0m\u001b[0;34m(\u001b[0m\u001b[0mresults\u001b[0m\u001b[0;34m)\u001b[0m\u001b[0;34m.\u001b[0m\u001b[0mT\u001b[0m\u001b[0;34m]\u001b[0m\u001b[0;34m\u001b[0m\u001b[0;34m\u001b[0m\u001b[0m\n\u001b[0m\u001b[1;32m   1413\u001b[0m \u001b[0;34m\u001b[0m\u001b[0m\n\u001b[1;32m   1414\u001b[0m \u001b[0;34m\u001b[0m\u001b[0m\n",
      "\u001b[0;32m~/miniconda3/envs/test-env/lib/python3.9/site-packages/scipy/ndimage/measurements.py\u001b[0m in \u001b[0;36m<listcomp>\u001b[0;34m(.0)\u001b[0m\n\u001b[1;32m   1410\u001b[0m         \u001b[0;32mreturn\u001b[0m \u001b[0mtuple\u001b[0m\u001b[0;34m(\u001b[0m\u001b[0mresults\u001b[0m\u001b[0;34m)\u001b[0m\u001b[0;34m\u001b[0m\u001b[0;34m\u001b[0m\u001b[0m\n\u001b[1;32m   1411\u001b[0m \u001b[0;34m\u001b[0m\u001b[0m\n\u001b[0;32m-> 1412\u001b[0;31m     \u001b[0;32mreturn\u001b[0m \u001b[0;34m[\u001b[0m\u001b[0mtuple\u001b[0m\u001b[0;34m(\u001b[0m\u001b[0mv\u001b[0m\u001b[0;34m)\u001b[0m \u001b[0;32mfor\u001b[0m \u001b[0mv\u001b[0m \u001b[0;32min\u001b[0m \u001b[0mnumpy\u001b[0m\u001b[0;34m.\u001b[0m\u001b[0marray\u001b[0m\u001b[0;34m(\u001b[0m\u001b[0mresults\u001b[0m\u001b[0;34m)\u001b[0m\u001b[0;34m.\u001b[0m\u001b[0mT\u001b[0m\u001b[0;34m]\u001b[0m\u001b[0;34m\u001b[0m\u001b[0;34m\u001b[0m\u001b[0m\n\u001b[0m\u001b[1;32m   1413\u001b[0m \u001b[0;34m\u001b[0m\u001b[0m\n\u001b[1;32m   1414\u001b[0m \u001b[0;34m\u001b[0m\u001b[0m\n",
      "\u001b[0;31mTypeError\u001b[0m: 'numpy.float64' object is not iterable"
     ]
    }
   ],
   "source": [
    "# append_east.mean()\n",
    "append_east = xr.where(append_east_binarized is not np.nan, append_east, 0)\n",
    "append_east = (append_east*1000).astype(int)\n",
    "append_east = xr.where(append_east == -9223372036854775808, append_east, 0)\n",
    "print(np.unique(append_east))\n",
    "ndimage.measurements.center_of_mass(append_east)"
   ]
  },
  {
   "cell_type": "code",
   "execution_count": 387,
   "id": "bb63903f-c9e8-4fee-b45b-12bb8ad52fcc",
   "metadata": {},
   "outputs": [
    {
     "data": {
      "text/plain": [
       "(175.90976645435245, 136.56758669497523)"
      ]
     },
     "execution_count": 387,
     "metadata": {},
     "output_type": "execute_result"
    }
   ],
   "source": [
    "# append_east\n",
    "properties = regionprops(binary, append_east)\n",
    "center_of_mass = properties[0].centroid\n",
    "center_of_mass\n",
    "# center_of_mass\n",
    "# print(properties[0].weighted_centroid)\n",
    "# weighted_center_of_mass = properties[0].weighted_centroid"
   ]
  },
  {
   "cell_type": "code",
   "execution_count": 331,
   "id": "753bc1de-d01b-47b1-8e8c-60c3ae217cf4",
   "metadata": {},
   "outputs": [
    {
     "data": {
      "text/plain": [
       "<matplotlib.image.AxesImage at 0x2b97fb560670>"
      ]
     },
     "execution_count": 331,
     "metadata": {},
     "output_type": "execute_result"
    },
    {
     "data": {
      "image/png": "[encoded data removed]",
      "text/plain": [
       "<Figure size 432x288 with 2 Axes>"
      ]
     },
     "metadata": {
      "needs_background": "light"
     },
     "output_type": "display_data"
    },
    {
     "data": {
      "text/plain": [
       "<matplotlib.image.AxesImage at 0x2b97fb37bdf0>"
      ]
     },
     "execution_count": 331,
     "metadata": {},
     "output_type": "execute_result"
    },
    {
     "data": {
      "image/png": "[encoded data removed]",
      "text/plain": [
       "<Figure size 432x288 with 2 Axes>"
      ]
     },
     "metadata": {
      "needs_background": "light"
     },
     "output_type": "display_data"
    }
   ],
   "source": [
    "sub_labels_nonedgecases.plot.imshow(); plt.show()\n",
    "append_east.plot.imshow(vmin=-1, vmax=8.); plt.show()"
   ]
  },
  {
   "cell_type": "code",
   "execution_count": 356,
   "id": "e7e0439a-91c3-4c27-8dd6-59c03f57a202",
   "metadata": {},
   "outputs": [
    {
     "name": "stdout",
     "output_type": "stream",
     "text": [
      "lon_edge:  86.25\n"
     ]
    },
    {
     "data": {
      "text/plain": [
       "<matplotlib.image.AxesImage at 0x2b97f8887070>"
      ]
     },
     "execution_count": 356,
     "metadata": {},
     "output_type": "execute_result"
    },
    {
     "data": {
      "text/plain": [
       "<matplotlib.lines.Line2D at 0x2b97f398e670>"
      ]
     },
     "execution_count": 356,
     "metadata": {},
     "output_type": "execute_result"
    },
    {
     "data": {
      "image/png": "[encoded data removed]",
      "text/plain": [
       "<Figure size 432x288 with 2 Axes>"
      ]
     },
     "metadata": {
      "needs_background": "light"
     },
     "output_type": "display_data"
    },
    {
     "name": "stdout",
     "output_type": "stream",
     "text": [
      "[(26.858638743455497, 185.0), (75.86387434554973, 258.75)]\n"
     ]
    },
    {
     "data": {
      "text/plain": [
       "<matplotlib.image.AxesImage at 0x2b97f8ed4fa0>"
      ]
     },
     "execution_count": 356,
     "metadata": {},
     "output_type": "execute_result"
    },
    {
     "data": {
      "text/plain": [
       "<matplotlib.collections.PathCollection at 0x2b97f98a7c40>"
      ]
     },
     "execution_count": 356,
     "metadata": {},
     "output_type": "execute_result"
    },
    {
     "data": {
      "image/png": "[encoded data removed]",
      "text/plain": [
       "<Figure size 432x288 with 2 Axes>"
      ]
     },
     "metadata": {
      "needs_background": "light"
     },
     "output_type": "display_data"
    }
   ],
   "source": [
    "for i in edge_left_sub_labels:\n",
    "    sub_labels_left = sub_labels.where(sub_labels==i, drop=True)\n",
    "    lon_edge = sub_labels_left[:,-1:].lon.item()\n",
    "    print('lon_edge: ',lon_edge)\n",
    "    sub_labels_left.coords['lon'] = (sub_labels_left.coords['lon'] + 360) \n",
    "    for j in edge_right_sub_labels:\n",
    "        sub_labels_right = sub_labels.where(sub_labels==j, drop=False, other=np.nan)\n",
    "        east = sub_labels_right.where(sub_labels_right.lon > lon_edge, drop=True)\n",
    "        append_east = xr.concat([east.where(east.lon >= lon_edge, drop=True), sub_labels_left], dim=\"lon\")\n",
    "        append_east.plot.imshow(); plt.axvline(lon_edge); plt.show()\n",
    "        append_east_binarized = xr.where(append_east > 0, 1, np.nan)\n",
    "        sub_labels = _get_labels(append_east_binarized)\n",
    "        sub_labels = xr.DataArray(sub_labels, dims=append_east_binarized.dims, coords=append_east_binarized.coords)\n",
    "        sub_labels = sub_labels.where(append_east_binarized>0, drop=False, other=np.nan)\n",
    "        centroid_list.append(_get_centroids(sub_labels))\n",
    "\n",
    "flat_centroid_list = list(set([item for sublist in centroid_list for item in sublist]))\n",
    "print(flat_centroid_list)\n",
    "\n",
    "y_val = list(zip(*flat_centroid_list))[0]\n",
    "x_val = list(zip(*flat_centroid_list))[1]\n",
    "\n",
    "timestep_of_interest.plot.imshow(); plt.scatter(x_val, y_val, c='red'); plt.show()"
   ]
  },
  {
   "cell_type": "code",
   "execution_count": null,
   "id": "c086f381-b112-4b72-9fb8-6751857e3741",
   "metadata": {},
   "outputs": [],
   "source": []
  },
  {
   "cell_type": "code",
   "execution_count": null,
   "id": "0687f3f3-5ef3-45d2-953f-df87e2a9968e",
   "metadata": {},
   "outputs": [],
   "source": []
  },
  {
   "cell_type": "code",
   "execution_count": null,
   "id": "0a8b47e1-948a-4d26-bca6-f3577ff6e562",
   "metadata": {},
   "outputs": [],
   "source": []
  },
  {
   "cell_type": "code",
   "execution_count": 23,
   "id": "f083ed46-359f-481e-af62-37b193e4f4b9",
   "metadata": {},
   "outputs": [],
   "source": [
    "for_one_mhw = SSTA_and_events.where(SSTA_and_events.labels==mhw_id, drop=False)\n",
    "mhw_when = np.argwhere(for_one_mhw.labels.max(axis=(1,2)).values > 0.)\n",
    "first_timestep = mhw_when[0][0]\n",
    "timesteps_to_choose_from = np.arange(first_timestep, first_timestep+duration)\n",
    "\n",
    "all_timesteps = for_one_mhw.labels[timesteps_to_choose_from,:,:]\n",
    "\n",
    "timestep = 2"
   ]
  },
  {
   "cell_type": "code",
   "execution_count": null,
   "id": "a0cc796f-b5b4-46fc-8fa3-a4896577deb0",
   "metadata": {},
   "outputs": [],
   "source": [
    "# on one marine heatwave\n",
    "mhw_id = 35\n",
    "event_file = SSTA_and_events\n",
    "\n",
    "duration = calc_duration(event_file, mhw_id)\n",
    "\n",
    "for_one_mhw = SSTA_and_events.where(SSTA_and_events.labels==mhw_id, drop=False)\n",
    "mhw_when = np.argwhere(for_one_mhw.labels.max(axis=(1,2)).values > 0.)\n",
    "first_timestep = mhw_when[0][0]\n",
    "timesteps_to_choose_from = np.arange(first_timestep, first_timestep+duration)\n",
    "all_timesteps = for_one_mhw.labels[timesteps_to_choose_from,:,:]"
   ]
  },
  {
   "cell_type": "code",
   "execution_count": 357,
   "id": "c65c41b1-41d6-4ba5-9107-2115a1d11183",
   "metadata": {},
   "outputs": [
    {
     "name": "stdout",
     "output_type": "stream",
     "text": [
      "[ 2.  3.  4. nan]\n"
     ]
    },
    {
     "data": {
      "text/plain": [
       "<matplotlib.image.AxesImage at 0x2b97f8a17c70>"
      ]
     },
     "execution_count": 357,
     "metadata": {},
     "output_type": "execute_result"
    },
    {
     "data": {
      "image/png": "[encoded data removed]",
      "text/plain": [
       "<Figure size 432x288 with 2 Axes>"
      ]
     },
     "metadata": {
      "needs_background": "light"
     },
     "output_type": "display_data"
    },
    {
     "name": "stdout",
     "output_type": "stream",
     "text": [
      "lon_edge:  86.25\n"
     ]
    },
    {
     "data": {
      "text/plain": [
       "<matplotlib.image.AxesImage at 0x2b97f3c29340>"
      ]
     },
     "execution_count": 357,
     "metadata": {},
     "output_type": "execute_result"
    },
    {
     "data": {
      "text/plain": [
       "<matplotlib.lines.Line2D at 0x2b97f905a790>"
      ]
     },
     "execution_count": 357,
     "metadata": {},
     "output_type": "execute_result"
    },
    {
     "data": {
      "image/png": "[encoded data removed]",
      "text/plain": [
       "<Figure size 432x288 with 2 Axes>"
      ]
     },
     "metadata": {
      "needs_background": "light"
     },
     "output_type": "display_data"
    },
    {
     "name": "stdout",
     "output_type": "stream",
     "text": [
      "[(75.86387434554973, 258.75), (24.031413612565444, 180.0)]\n"
     ]
    },
    {
     "data": {
      "text/plain": [
       "<matplotlib.image.AxesImage at 0x2b97f928df70>"
      ]
     },
     "execution_count": 357,
     "metadata": {},
     "output_type": "execute_result"
    },
    {
     "data": {
      "text/plain": [
       "<matplotlib.collections.PathCollection at 0x2b97f71b2190>"
      ]
     },
     "execution_count": 357,
     "metadata": {},
     "output_type": "execute_result"
    },
    {
     "data": {
      "image/png": "[encoded data removed]",
      "text/plain": [
       "<Figure size 432x288 with 2 Axes>"
      ]
     },
     "metadata": {
      "needs_background": "light"
     },
     "output_type": "display_data"
    }
   ],
   "source": [
    "# Step 1. We start with one timestep and get all the sublabels\n",
    "timestep_of_interest = all_timesteps[2,:,:]\n",
    "get_sub_lbs = timestep_of_interest\n",
    "sub_labels = _get_labels(get_sub_lbs)\n",
    "sub_labels = xr.DataArray(sub_labels, dims=get_sub_lbs.dims, coords=get_sub_lbs.coords)\n",
    "sub_labels = sub_labels.where(timestep_of_interest>0, drop=False, other=np.nan)\n",
    "print(np.unique(sub_labels))\n",
    "\n",
    "sub_labels.plot.imshow(); plt.show()\n",
    "\n",
    "# Step 2. We get all the labels on the edges\n",
    "edge_right_sub_labels_ = sub_labels[:,-1:]\n",
    "edge_right_sub_labels = np.unique(np.unique(edge_right_sub_labels_)[~np.isnan(np.unique(edge_right_sub_labels_))])\n",
    "edge_left_sub_labels_ = sub_labels[:,:1]\n",
    "edge_left_sub_labels = np.unique(np.unique(edge_left_sub_labels_)[~np.isnan(np.unique(edge_left_sub_labels_))])\n",
    "\n",
    "edge_labels = np.unique(np.concatenate((edge_right_sub_labels, edge_left_sub_labels)))\n",
    "nonedgecases = np.setdiff1d(np.unique(sub_labels), edge_labels)\n",
    "nonedgecases = np.unique(nonedgecases[~np.isnan(nonedgecases)])\n",
    "\n",
    "centroid_list = []\n",
    "for i in nonedgecases:\n",
    "    sub_labels_nonedgecases = sub_labels.where(sub_labels==i, drop=False, other=np.nan)\n",
    "    centroid_list.append(_get_centroids(sub_labels_nonedgecases))\n",
    "\n",
    "for i in edge_left_sub_labels:\n",
    "    sub_labels_left = sub_labels.where(sub_labels==i, drop=True)\n",
    "    lon_edge = sub_labels_left[:,-1:].lon.item()\n",
    "    print('lon_edge: ',lon_edge)\n",
    "    sub_labels_left.coords['lon'] = (sub_labels_left.coords['lon'] + 360) \n",
    "    for j in edge_right_sub_labels:\n",
    "        sub_labels_right = sub_labels.where(sub_labels==j, drop=False, other=np.nan)\n",
    "        east = sub_labels_right.where(sub_labels_right.lon > lon_edge, drop=True)\n",
    "        append_east = xr.concat([east.where(east.lon >= lon_edge, drop=True), sub_labels_left], dim=\"lon\")\n",
    "        append_east.plot.imshow(); plt.axvline(lon_edge); plt.show()\n",
    "        append_east_binarized = xr.where(append_east > 0, 1, np.nan)\n",
    "        sub_labels = _get_labels(append_east_binarized)\n",
    "        sub_labels = xr.DataArray(sub_labels, dims=append_east_binarized.dims, coords=append_east_binarized.coords)\n",
    "        sub_labels = sub_labels.where(append_east_binarized>0, drop=False, other=np.nan)\n",
    "        centroid_list.append(_get_centroids(sub_labels))\n",
    "\n",
    "flat_centroid_list = list(set([item for sublist in centroid_list for item in sublist]))\n",
    "print(flat_centroid_list)\n",
    "\n",
    "y_val = list(zip(*flat_centroid_list))[0]\n",
    "x_val = list(zip(*flat_centroid_list))[1]\n",
    "\n",
    "timestep_of_interest.plot.imshow(); plt.scatter(x_val, y_val, c='red'); plt.show()"
   ]
  },
  {
   "cell_type": "code",
   "execution_count": 155,
   "id": "e8a545db-cc14-4410-b961-5032c202029e",
   "metadata": {},
   "outputs": [
    {
     "name": "stdout",
     "output_type": "stream",
     "text": [
      "[ 2.  3.  4. nan]\n"
     ]
    },
    {
     "data": {
      "text/plain": [
       "<matplotlib.image.AxesImage at 0x2b97f6b31b20>"
      ]
     },
     "execution_count": 155,
     "metadata": {},
     "output_type": "execute_result"
    },
    {
     "data": {
      "image/png": "[encoded data removed]",
      "text/plain": [
       "<Figure size 432x288 with 2 Axes>"
      ]
     },
     "metadata": {
      "needs_background": "light"
     },
     "output_type": "display_data"
    },
    {
     "ename": "ValueError",
     "evalue": "shape mismatch: objects cannot be broadcast to a single shape",
     "output_type": "error",
     "traceback": [
      "\u001b[0;31m---------------------------------------------------------------------------\u001b[0m",
      "\u001b[0;31mValueError\u001b[0m                                Traceback (most recent call last)",
      "\u001b[0;32m/glade/scratch/cassiacai/ipykernel_226084/1324672727.py\u001b[0m in \u001b[0;36m<module>\u001b[0;34m\u001b[0m\n\u001b[1;32m     20\u001b[0m \u001b[0;34m\u001b[0m\u001b[0m\n\u001b[1;32m     21\u001b[0m \u001b[0;34m\u001b[0m\u001b[0m\n\u001b[0;32m---> 22\u001b[0;31m \u001b[0msub_labels_nonedgecases\u001b[0m \u001b[0;34m=\u001b[0m \u001b[0msub_labels\u001b[0m\u001b[0;34m.\u001b[0m\u001b[0mwhere\u001b[0m\u001b[0;34m(\u001b[0m\u001b[0msub_labels\u001b[0m\u001b[0;34m==\u001b[0m\u001b[0;34m[\u001b[0m\u001b[0;36m2.\u001b[0m\u001b[0;34m,\u001b[0m \u001b[0;36m3.\u001b[0m\u001b[0;34m]\u001b[0m\u001b[0;34m,\u001b[0m \u001b[0mdrop\u001b[0m\u001b[0;34m=\u001b[0m\u001b[0;32mFalse\u001b[0m\u001b[0;34m,\u001b[0m \u001b[0mother\u001b[0m\u001b[0;34m=\u001b[0m\u001b[0mnp\u001b[0m\u001b[0;34m.\u001b[0m\u001b[0mnan\u001b[0m\u001b[0;34m)\u001b[0m\u001b[0;34m\u001b[0m\u001b[0;34m\u001b[0m\u001b[0m\n\u001b[0m\u001b[1;32m     23\u001b[0m \u001b[0msub_labels_nonedgecases\u001b[0m\u001b[0;34m.\u001b[0m\u001b[0mplot\u001b[0m\u001b[0;34m.\u001b[0m\u001b[0mimshow\u001b[0m\u001b[0;34m(\u001b[0m\u001b[0;34m)\u001b[0m\u001b[0;34m;\u001b[0m \u001b[0mplt\u001b[0m\u001b[0;34m.\u001b[0m\u001b[0mshow\u001b[0m\u001b[0;34m(\u001b[0m\u001b[0;34m)\u001b[0m\u001b[0;34m\u001b[0m\u001b[0;34m\u001b[0m\u001b[0m\n\u001b[1;32m     24\u001b[0m \u001b[0;31m# centroid_wrap = _get_centroids(sub_labels_nonedgecases)\u001b[0m\u001b[0;34m\u001b[0m\u001b[0;34m\u001b[0m\u001b[0m\n",
      "\u001b[0;32m~/miniconda3/envs/test-env/lib/python3.9/site-packages/xarray/core/_typed_ops.py\u001b[0m in \u001b[0;36m__eq__\u001b[0;34m(self, other)\u001b[0m\n\u001b[1;32m    246\u001b[0m \u001b[0;34m\u001b[0m\u001b[0m\n\u001b[1;32m    247\u001b[0m     \u001b[0;32mdef\u001b[0m \u001b[0m__eq__\u001b[0m\u001b[0;34m(\u001b[0m\u001b[0mself\u001b[0m\u001b[0;34m,\u001b[0m \u001b[0mother\u001b[0m\u001b[0;34m)\u001b[0m\u001b[0;34m:\u001b[0m\u001b[0;34m\u001b[0m\u001b[0;34m\u001b[0m\u001b[0m\n\u001b[0;32m--> 248\u001b[0;31m         \u001b[0;32mreturn\u001b[0m \u001b[0mself\u001b[0m\u001b[0;34m.\u001b[0m\u001b[0m_binary_op\u001b[0m\u001b[0;34m(\u001b[0m\u001b[0mother\u001b[0m\u001b[0;34m,\u001b[0m \u001b[0mnputils\u001b[0m\u001b[0;34m.\u001b[0m\u001b[0marray_eq\u001b[0m\u001b[0;34m)\u001b[0m\u001b[0;34m\u001b[0m\u001b[0;34m\u001b[0m\u001b[0m\n\u001b[0m\u001b[1;32m    249\u001b[0m \u001b[0;34m\u001b[0m\u001b[0m\n\u001b[1;32m    250\u001b[0m     \u001b[0;32mdef\u001b[0m \u001b[0m__ne__\u001b[0m\u001b[0;34m(\u001b[0m\u001b[0mself\u001b[0m\u001b[0;34m,\u001b[0m \u001b[0mother\u001b[0m\u001b[0;34m)\u001b[0m\u001b[0;34m:\u001b[0m\u001b[0;34m\u001b[0m\u001b[0;34m\u001b[0m\u001b[0m\n",
      "\u001b[0;32m~/miniconda3/envs/test-env/lib/python3.9/site-packages/xarray/core/dataarray.py\u001b[0m in \u001b[0;36m_binary_op\u001b[0;34m(self, other, f, reflexive)\u001b[0m\n\u001b[1;32m   3062\u001b[0m \u001b[0;34m\u001b[0m\u001b[0m\n\u001b[1;32m   3063\u001b[0m         variable = (\n\u001b[0;32m-> 3064\u001b[0;31m             \u001b[0mf\u001b[0m\u001b[0;34m(\u001b[0m\u001b[0mself\u001b[0m\u001b[0;34m.\u001b[0m\u001b[0mvariable\u001b[0m\u001b[0;34m,\u001b[0m \u001b[0mother_variable\u001b[0m\u001b[0;34m)\u001b[0m\u001b[0;34m\u001b[0m\u001b[0;34m\u001b[0m\u001b[0m\n\u001b[0m\u001b[1;32m   3065\u001b[0m             \u001b[0;32mif\u001b[0m \u001b[0;32mnot\u001b[0m \u001b[0mreflexive\u001b[0m\u001b[0;34m\u001b[0m\u001b[0;34m\u001b[0m\u001b[0m\n\u001b[1;32m   3066\u001b[0m             \u001b[0;32melse\u001b[0m \u001b[0mf\u001b[0m\u001b[0;34m(\u001b[0m\u001b[0mother_variable\u001b[0m\u001b[0;34m,\u001b[0m \u001b[0mself\u001b[0m\u001b[0;34m.\u001b[0m\u001b[0mvariable\u001b[0m\u001b[0;34m)\u001b[0m\u001b[0;34m\u001b[0m\u001b[0;34m\u001b[0m\u001b[0m\n",
      "\u001b[0;32m~/miniconda3/envs/test-env/lib/python3.9/site-packages/xarray/core/nputils.py\u001b[0m in \u001b[0;36marray_eq\u001b[0;34m(self, other)\u001b[0m\n\u001b[1;32m     71\u001b[0m     \u001b[0;32mwith\u001b[0m \u001b[0mwarnings\u001b[0m\u001b[0;34m.\u001b[0m\u001b[0mcatch_warnings\u001b[0m\u001b[0;34m(\u001b[0m\u001b[0;34m)\u001b[0m\u001b[0;34m:\u001b[0m\u001b[0;34m\u001b[0m\u001b[0;34m\u001b[0m\u001b[0m\n\u001b[1;32m     72\u001b[0m         \u001b[0mwarnings\u001b[0m\u001b[0;34m.\u001b[0m\u001b[0mfilterwarnings\u001b[0m\u001b[0;34m(\u001b[0m\u001b[0;34m\"ignore\"\u001b[0m\u001b[0;34m,\u001b[0m \u001b[0;34mr\"elementwise comparison failed\"\u001b[0m\u001b[0;34m)\u001b[0m\u001b[0;34m\u001b[0m\u001b[0;34m\u001b[0m\u001b[0m\n\u001b[0;32m---> 73\u001b[0;31m         \u001b[0;32mreturn\u001b[0m \u001b[0m_ensure_bool_is_ndarray\u001b[0m\u001b[0;34m(\u001b[0m\u001b[0mself\u001b[0m \u001b[0;34m==\u001b[0m \u001b[0mother\u001b[0m\u001b[0;34m,\u001b[0m \u001b[0mself\u001b[0m\u001b[0;34m,\u001b[0m \u001b[0mother\u001b[0m\u001b[0;34m)\u001b[0m\u001b[0;34m\u001b[0m\u001b[0;34m\u001b[0m\u001b[0m\n\u001b[0m\u001b[1;32m     74\u001b[0m \u001b[0;34m\u001b[0m\u001b[0m\n\u001b[1;32m     75\u001b[0m \u001b[0;34m\u001b[0m\u001b[0m\n",
      "\u001b[0;32m~/miniconda3/envs/test-env/lib/python3.9/site-packages/xarray/core/_typed_ops.py\u001b[0m in \u001b[0;36m__eq__\u001b[0;34m(self, other)\u001b[0m\n\u001b[1;32m    436\u001b[0m \u001b[0;34m\u001b[0m\u001b[0m\n\u001b[1;32m    437\u001b[0m     \u001b[0;32mdef\u001b[0m \u001b[0m__eq__\u001b[0m\u001b[0;34m(\u001b[0m\u001b[0mself\u001b[0m\u001b[0;34m,\u001b[0m \u001b[0mother\u001b[0m\u001b[0;34m)\u001b[0m\u001b[0;34m:\u001b[0m\u001b[0;34m\u001b[0m\u001b[0;34m\u001b[0m\u001b[0m\n\u001b[0;32m--> 438\u001b[0;31m         \u001b[0;32mreturn\u001b[0m \u001b[0mself\u001b[0m\u001b[0;34m.\u001b[0m\u001b[0m_binary_op\u001b[0m\u001b[0;34m(\u001b[0m\u001b[0mother\u001b[0m\u001b[0;34m,\u001b[0m \u001b[0mnputils\u001b[0m\u001b[0;34m.\u001b[0m\u001b[0marray_eq\u001b[0m\u001b[0;34m)\u001b[0m\u001b[0;34m\u001b[0m\u001b[0;34m\u001b[0m\u001b[0m\n\u001b[0m\u001b[1;32m    439\u001b[0m \u001b[0;34m\u001b[0m\u001b[0m\n\u001b[1;32m    440\u001b[0m     \u001b[0;32mdef\u001b[0m \u001b[0m__ne__\u001b[0m\u001b[0;34m(\u001b[0m\u001b[0mself\u001b[0m\u001b[0;34m,\u001b[0m \u001b[0mother\u001b[0m\u001b[0;34m)\u001b[0m\u001b[0;34m:\u001b[0m\u001b[0;34m\u001b[0m\u001b[0;34m\u001b[0m\u001b[0m\n",
      "\u001b[0;32m~/miniconda3/envs/test-env/lib/python3.9/site-packages/xarray/core/variable.py\u001b[0m in \u001b[0;36m_binary_op\u001b[0;34m(self, other, f, reflexive)\u001b[0m\n\u001b[1;32m   2368\u001b[0m         \u001b[0;32mwith\u001b[0m \u001b[0mnp\u001b[0m\u001b[0;34m.\u001b[0m\u001b[0merrstate\u001b[0m\u001b[0;34m(\u001b[0m\u001b[0mall\u001b[0m\u001b[0;34m=\u001b[0m\u001b[0;34m\"ignore\"\u001b[0m\u001b[0;34m)\u001b[0m\u001b[0;34m:\u001b[0m\u001b[0;34m\u001b[0m\u001b[0;34m\u001b[0m\u001b[0m\n\u001b[1;32m   2369\u001b[0m             new_data = (\n\u001b[0;32m-> 2370\u001b[0;31m                 \u001b[0mf\u001b[0m\u001b[0;34m(\u001b[0m\u001b[0mself_data\u001b[0m\u001b[0;34m,\u001b[0m \u001b[0mother_data\u001b[0m\u001b[0;34m)\u001b[0m \u001b[0;32mif\u001b[0m \u001b[0;32mnot\u001b[0m \u001b[0mreflexive\u001b[0m \u001b[0;32melse\u001b[0m \u001b[0mf\u001b[0m\u001b[0;34m(\u001b[0m\u001b[0mother_data\u001b[0m\u001b[0;34m,\u001b[0m \u001b[0mself_data\u001b[0m\u001b[0;34m)\u001b[0m\u001b[0;34m\u001b[0m\u001b[0;34m\u001b[0m\u001b[0m\n\u001b[0m\u001b[1;32m   2371\u001b[0m             )\n\u001b[1;32m   2372\u001b[0m         \u001b[0mresult\u001b[0m \u001b[0;34m=\u001b[0m \u001b[0mVariable\u001b[0m\u001b[0;34m(\u001b[0m\u001b[0mdims\u001b[0m\u001b[0;34m,\u001b[0m \u001b[0mnew_data\u001b[0m\u001b[0;34m,\u001b[0m \u001b[0mattrs\u001b[0m\u001b[0;34m=\u001b[0m\u001b[0mattrs\u001b[0m\u001b[0;34m)\u001b[0m\u001b[0;34m\u001b[0m\u001b[0;34m\u001b[0m\u001b[0m\n",
      "\u001b[0;32m~/miniconda3/envs/test-env/lib/python3.9/site-packages/xarray/core/nputils.py\u001b[0m in \u001b[0;36marray_eq\u001b[0;34m(self, other)\u001b[0m\n\u001b[1;32m     71\u001b[0m     \u001b[0;32mwith\u001b[0m \u001b[0mwarnings\u001b[0m\u001b[0;34m.\u001b[0m\u001b[0mcatch_warnings\u001b[0m\u001b[0;34m(\u001b[0m\u001b[0;34m)\u001b[0m\u001b[0;34m:\u001b[0m\u001b[0;34m\u001b[0m\u001b[0;34m\u001b[0m\u001b[0m\n\u001b[1;32m     72\u001b[0m         \u001b[0mwarnings\u001b[0m\u001b[0;34m.\u001b[0m\u001b[0mfilterwarnings\u001b[0m\u001b[0;34m(\u001b[0m\u001b[0;34m\"ignore\"\u001b[0m\u001b[0;34m,\u001b[0m \u001b[0;34mr\"elementwise comparison failed\"\u001b[0m\u001b[0;34m)\u001b[0m\u001b[0;34m\u001b[0m\u001b[0;34m\u001b[0m\u001b[0m\n\u001b[0;32m---> 73\u001b[0;31m         \u001b[0;32mreturn\u001b[0m \u001b[0m_ensure_bool_is_ndarray\u001b[0m\u001b[0;34m(\u001b[0m\u001b[0mself\u001b[0m \u001b[0;34m==\u001b[0m \u001b[0mother\u001b[0m\u001b[0;34m,\u001b[0m \u001b[0mself\u001b[0m\u001b[0;34m,\u001b[0m \u001b[0mother\u001b[0m\u001b[0;34m)\u001b[0m\u001b[0;34m\u001b[0m\u001b[0;34m\u001b[0m\u001b[0m\n\u001b[0m\u001b[1;32m     74\u001b[0m \u001b[0;34m\u001b[0m\u001b[0m\n\u001b[1;32m     75\u001b[0m \u001b[0;34m\u001b[0m\u001b[0m\n",
      "\u001b[0;32m~/miniconda3/envs/test-env/lib/python3.9/site-packages/xarray/core/nputils.py\u001b[0m in \u001b[0;36m_ensure_bool_is_ndarray\u001b[0;34m(result, *args)\u001b[0m\n\u001b[1;32m     62\u001b[0m     \u001b[0;31m# cases\u001b[0m\u001b[0;34m\u001b[0m\u001b[0;34m\u001b[0m\u001b[0m\n\u001b[1;32m     63\u001b[0m     \u001b[0;32mif\u001b[0m \u001b[0misinstance\u001b[0m\u001b[0;34m(\u001b[0m\u001b[0mresult\u001b[0m\u001b[0;34m,\u001b[0m \u001b[0mbool\u001b[0m\u001b[0;34m)\u001b[0m\u001b[0;34m:\u001b[0m\u001b[0;34m\u001b[0m\u001b[0;34m\u001b[0m\u001b[0m\n\u001b[0;32m---> 64\u001b[0;31m         \u001b[0mshape\u001b[0m \u001b[0;34m=\u001b[0m \u001b[0mnp\u001b[0m\u001b[0;34m.\u001b[0m\u001b[0mbroadcast\u001b[0m\u001b[0;34m(\u001b[0m\u001b[0;34m*\u001b[0m\u001b[0margs\u001b[0m\u001b[0;34m)\u001b[0m\u001b[0;34m.\u001b[0m\u001b[0mshape\u001b[0m\u001b[0;34m\u001b[0m\u001b[0;34m\u001b[0m\u001b[0m\n\u001b[0m\u001b[1;32m     65\u001b[0m         \u001b[0mconstructor\u001b[0m \u001b[0;34m=\u001b[0m \u001b[0mnp\u001b[0m\u001b[0;34m.\u001b[0m\u001b[0mones\u001b[0m \u001b[0;32mif\u001b[0m \u001b[0mresult\u001b[0m \u001b[0;32melse\u001b[0m \u001b[0mnp\u001b[0m\u001b[0;34m.\u001b[0m\u001b[0mzeros\u001b[0m\u001b[0;34m\u001b[0m\u001b[0;34m\u001b[0m\u001b[0m\n\u001b[1;32m     66\u001b[0m         \u001b[0mresult\u001b[0m \u001b[0;34m=\u001b[0m \u001b[0mconstructor\u001b[0m\u001b[0;34m(\u001b[0m\u001b[0mshape\u001b[0m\u001b[0;34m,\u001b[0m \u001b[0mdtype\u001b[0m\u001b[0;34m=\u001b[0m\u001b[0mbool\u001b[0m\u001b[0;34m)\u001b[0m\u001b[0;34m\u001b[0m\u001b[0;34m\u001b[0m\u001b[0m\n",
      "\u001b[0;31mValueError\u001b[0m: shape mismatch: objects cannot be broadcast to a single shape"
     ]
    }
   ],
   "source": [
    "# Step 1. We start with one timestep and get all the sublabels\n",
    "timestep_of_interest = all_timesteps[2,:,:]\n",
    "get_sub_lbs = timestep_of_interest\n",
    "sub_labels = _get_labels(get_sub_lbs)\n",
    "sub_labels = xr.DataArray(sub_labels, dims=get_sub_lbs.dims, coords=get_sub_lbs.coords)\n",
    "sub_labels = sub_labels.where(timestep_of_interest>0, drop=False, other=np.nan)\n",
    "print(np.unique(sub_labels))\n",
    "\n",
    "sub_labels.plot.imshow(); plt.show()\n",
    "\n",
    "# Step 2. We get all the labels on the edges\n",
    "edge_right_sub_labels_ = sub_labels[:,-1:]\n",
    "edge_right_sub_labels = np.unique(edge_right_sub_labels_)\n",
    "edge_left_sub_labels_ = sub_labels[:,:1]\n",
    "edge_left_sub_labels = np.unique(edge_left_sub_labels_)\n",
    "\n",
    "edge_labels = np.unique(np.concatenate((edge_right_sub_labels, edge_left_sub_labels)))\n",
    "nonedgecases = np.setdiff1d(np.unique(sub_labels), edge_labels)\n",
    "nonedgecases = np.unique(nonedgecases[~np.isnan(nonedgecases)])\n",
    "\n",
    "# sub_labels_nonedgecases.plot.imshow(); plt.scatter(x_val, y_val, c='red'); plt.show()\n",
    "\n",
    "# checking_if_we_have_multiple = np.nan_to_num(edge_right_sub_labels_.values) + np.nan_to_num(edge_left_sub_labels_.values)\n",
    "# for i in edge_right_sub_labels_:\n",
    "    \n",
    "# sub_labels_4 = sub_labels.where(sub_labels==4, drop=True)\n",
    "# lon_edge = sub_labels_4[:,-1:].lon.item()\n",
    "\n",
    "# sub_labels_4.coords['lon'] = (sub_labels_4.coords['lon'] + 360) \n",
    "\n",
    "# sub_labels_3 = sub_labels.where(sub_labels==3, drop=False, other=np.nan)\n",
    "\n",
    "# east = sub_labels_3.where(sub_labels_3.lon > lon_edge, drop=True)\n",
    "# east.plot.imshow(); plt.show()\n",
    "\n",
    "# append_east = xr.concat([east.where(east.lon >= lon_edge, drop=True), sub_labels_4], dim=\"lon\")\n",
    "# append_east.plot.imshow(); plt.show()\n",
    "\n",
    "# # make everything into one label\n",
    "# # append_east_binarized = append_east.where((np.isnan(append_east)==True),1)\n",
    "# append_east_binarized = xr.where(append_east > 0, 1, np.nan)\n",
    "# np.unique(append_east_binarized)\n",
    "# append_east_binarized.plot.imshow(); plt.show()\n",
    "\n",
    "# # get sublabels\n",
    "# sub_labels = _get_labels(append_east_binarized)\n",
    "# sub_labels = xr.DataArray(sub_labels, dims=append_east_binarized.dims, coords=append_east_binarized.coords)\n",
    "# sub_labels = sub_labels.where(append_east_binarized>0, drop=False, other=np.nan)\n",
    "# print(np.unique(sub_labels))\n",
    "\n",
    "# centroid_wrap = _get_centroids(sub_labels)\n",
    "# print(centroid_wrap)\n",
    "\n",
    "# y_val = list(zip(*centroid_wrap))[0]\n",
    "# x_val = list(zip(*centroid_wrap))[1]\n",
    "\n",
    "# sub_labels.plot.imshow(); plt.scatter(x_val, y_val, c='red'); plt.show()"
   ]
  },
  {
   "cell_type": "code",
   "execution_count": 45,
   "id": "fecab659-8a60-41ef-98d7-714ee380d445",
   "metadata": {},
   "outputs": [
    {
     "data": {
      "text/plain": [
       "array([[1, 1, 1, ..., 1, 1, 1],\n",
       "       [1, 1, 1, ..., 1, 1, 1],\n",
       "       [1, 1, 1, ..., 1, 1, 1],\n",
       "       ...,\n",
       "       [1, 1, 1, ..., 5, 5, 5],\n",
       "       [1, 1, 1, ..., 5, 5, 5],\n",
       "       [1, 1, 1, ..., 5, 5, 5]])"
      ]
     },
     "execution_count": 45,
     "metadata": {},
     "output_type": "execute_result"
    }
   ],
   "source": [
    "lx = all_timesteps.isel(time=timestep)\n",
    "east = lx.where(lx.lon < 180, drop=True)\n",
    "east['lon'] = np.arange(360.25, 540.25, 1.25) # this value is related to your grid resolution\n",
    "append_east = xr.concat([lx.where(lx.lon >= 180, drop=True), east], dim=\"lon\")\n",
    "\n",
    "append_east.plot.imshow(figsize=(10,5))\n",
    "all_timesteps[timestep,:,:].plot.imshow(figsize=(10,5))"
   ]
  },
  {
   "cell_type": "code",
   "execution_count": 14,
   "id": "95619ac1-ee2c-44cb-98f0-02fc7d558373",
   "metadata": {
    "tags": []
   },
   "outputs": [],
   "source": [
    "all_timesteps = all_timesteps.pad(lon=(144, 144), )"
   ]
  },
  {
   "cell_type": "code",
   "execution_count": 16,
   "id": "93e73a9e-4794-46d5-a09c-2ec6c8e55d25",
   "metadata": {
    "collapsed": true,
    "jupyter": {
     "outputs_hidden": true
    },
    "tags": []
   },
   "outputs": [
    {
     "ename": "ValueError",
     "evalue": "Axis limits cannot be NaN or Inf",
     "output_type": "error",
     "traceback": [
      "\u001b[0;31m---------------------------------------------------------------------------\u001b[0m",
      "\u001b[0;31mValueError\u001b[0m                                Traceback (most recent call last)",
      "\u001b[0;32m/glade/scratch/cassiacai/ipykernel_226084/4009764675.py\u001b[0m in \u001b[0;36m<module>\u001b[0;34m\u001b[0m\n\u001b[0;32m----> 1\u001b[0;31m \u001b[0mall_timesteps\u001b[0m\u001b[0;34m[\u001b[0m\u001b[0mtimestep\u001b[0m\u001b[0;34m,\u001b[0m\u001b[0;34m:\u001b[0m\u001b[0;34m,\u001b[0m\u001b[0;34m:\u001b[0m\u001b[0;34m]\u001b[0m\u001b[0;34m.\u001b[0m\u001b[0mplot\u001b[0m\u001b[0;34m.\u001b[0m\u001b[0mimshow\u001b[0m\u001b[0;34m(\u001b[0m\u001b[0;34m)\u001b[0m\u001b[0;34m\u001b[0m\u001b[0;34m\u001b[0m\u001b[0m\n\u001b[0m",
      "\u001b[0;32m~/miniconda3/envs/test-env/lib/python3.9/site-packages/xarray/plot/plot.py\u001b[0m in \u001b[0;36mplotmethod\u001b[0;34m(_PlotMethods_obj, x, y, figsize, size, aspect, ax, row, col, col_wrap, xincrease, yincrease, add_colorbar, add_labels, vmin, vmax, cmap, colors, center, robust, extend, levels, infer_intervals, subplot_kws, cbar_ax, cbar_kwargs, xscale, yscale, xticks, yticks, xlim, ylim, norm, **kwargs)\u001b[0m\n\u001b[1;32m   1306\u001b[0m         \u001b[0;32mfor\u001b[0m \u001b[0marg\u001b[0m \u001b[0;32min\u001b[0m \u001b[0;34m[\u001b[0m\u001b[0;34m\"_PlotMethods_obj\"\u001b[0m\u001b[0;34m,\u001b[0m \u001b[0;34m\"newplotfunc\"\u001b[0m\u001b[0;34m,\u001b[0m \u001b[0;34m\"kwargs\"\u001b[0m\u001b[0;34m]\u001b[0m\u001b[0;34m:\u001b[0m\u001b[0;34m\u001b[0m\u001b[0;34m\u001b[0m\u001b[0m\n\u001b[1;32m   1307\u001b[0m             \u001b[0;32mdel\u001b[0m \u001b[0mallargs\u001b[0m\u001b[0;34m[\u001b[0m\u001b[0marg\u001b[0m\u001b[0;34m]\u001b[0m\u001b[0;34m\u001b[0m\u001b[0;34m\u001b[0m\u001b[0m\n\u001b[0;32m-> 1308\u001b[0;31m         \u001b[0;32mreturn\u001b[0m \u001b[0mnewplotfunc\u001b[0m\u001b[0;34m(\u001b[0m\u001b[0;34m**\u001b[0m\u001b[0mallargs\u001b[0m\u001b[0;34m)\u001b[0m\u001b[0;34m\u001b[0m\u001b[0;34m\u001b[0m\u001b[0m\n\u001b[0m\u001b[1;32m   1309\u001b[0m \u001b[0;34m\u001b[0m\u001b[0m\n\u001b[1;32m   1310\u001b[0m     \u001b[0;31m# Add to class _PlotMethods\u001b[0m\u001b[0;34m\u001b[0m\u001b[0;34m\u001b[0m\u001b[0m\n",
      "\u001b[0;32m~/miniconda3/envs/test-env/lib/python3.9/site-packages/xarray/plot/plot.py\u001b[0m in \u001b[0;36mnewplotfunc\u001b[0;34m(darray, x, y, figsize, size, aspect, ax, row, col, col_wrap, xincrease, yincrease, add_colorbar, add_labels, vmin, vmax, cmap, center, robust, extend, levels, infer_intervals, colors, subplot_kws, cbar_ax, cbar_kwargs, xscale, yscale, xticks, yticks, xlim, ylim, norm, **kwargs)\u001b[0m\n\u001b[1;32m   1208\u001b[0m         \u001b[0max\u001b[0m \u001b[0;34m=\u001b[0m \u001b[0mget_axis\u001b[0m\u001b[0;34m(\u001b[0m\u001b[0mfigsize\u001b[0m\u001b[0;34m,\u001b[0m \u001b[0msize\u001b[0m\u001b[0;34m,\u001b[0m \u001b[0maspect\u001b[0m\u001b[0;34m,\u001b[0m \u001b[0max\u001b[0m\u001b[0;34m,\u001b[0m \u001b[0;34m**\u001b[0m\u001b[0msubplot_kws\u001b[0m\u001b[0;34m)\u001b[0m\u001b[0;34m\u001b[0m\u001b[0;34m\u001b[0m\u001b[0m\n\u001b[1;32m   1209\u001b[0m \u001b[0;34m\u001b[0m\u001b[0m\n\u001b[0;32m-> 1210\u001b[0;31m         primitive = plotfunc(\n\u001b[0m\u001b[1;32m   1211\u001b[0m             \u001b[0mxplt\u001b[0m\u001b[0;34m,\u001b[0m\u001b[0;34m\u001b[0m\u001b[0;34m\u001b[0m\u001b[0m\n\u001b[1;32m   1212\u001b[0m             \u001b[0myplt\u001b[0m\u001b[0;34m,\u001b[0m\u001b[0;34m\u001b[0m\u001b[0;34m\u001b[0m\u001b[0m\n",
      "\u001b[0;32m~/miniconda3/envs/test-env/lib/python3.9/site-packages/xarray/plot/plot.py\u001b[0m in \u001b[0;36mimshow\u001b[0;34m(x, y, z, ax, **kwargs)\u001b[0m\n\u001b[1;32m   1394\u001b[0m         \u001b[0mz\u001b[0m\u001b[0;34m[\u001b[0m\u001b[0mnp\u001b[0m\u001b[0;34m.\u001b[0m\u001b[0many\u001b[0m\u001b[0;34m(\u001b[0m\u001b[0mz\u001b[0m\u001b[0;34m.\u001b[0m\u001b[0mmask\u001b[0m\u001b[0;34m,\u001b[0m \u001b[0maxis\u001b[0m\u001b[0;34m=\u001b[0m\u001b[0;34m-\u001b[0m\u001b[0;36m1\u001b[0m\u001b[0;34m)\u001b[0m\u001b[0;34m,\u001b[0m \u001b[0;34m-\u001b[0m\u001b[0;36m1\u001b[0m\u001b[0;34m]\u001b[0m \u001b[0;34m=\u001b[0m \u001b[0;36m0\u001b[0m\u001b[0;34m\u001b[0m\u001b[0;34m\u001b[0m\u001b[0m\n\u001b[1;32m   1395\u001b[0m \u001b[0;34m\u001b[0m\u001b[0m\n\u001b[0;32m-> 1396\u001b[0;31m     \u001b[0mprimitive\u001b[0m \u001b[0;34m=\u001b[0m \u001b[0max\u001b[0m\u001b[0;34m.\u001b[0m\u001b[0mimshow\u001b[0m\u001b[0;34m(\u001b[0m\u001b[0mz\u001b[0m\u001b[0;34m,\u001b[0m \u001b[0;34m**\u001b[0m\u001b[0mdefaults\u001b[0m\u001b[0;34m)\u001b[0m\u001b[0;34m\u001b[0m\u001b[0;34m\u001b[0m\u001b[0m\n\u001b[0m\u001b[1;32m   1397\u001b[0m \u001b[0;34m\u001b[0m\u001b[0m\n\u001b[1;32m   1398\u001b[0m     \u001b[0;31m# If x or y are strings the ticklabels have been replaced with\u001b[0m\u001b[0;34m\u001b[0m\u001b[0;34m\u001b[0m\u001b[0m\n",
      "\u001b[0;32m~/miniconda3/envs/test-env/lib/python3.9/site-packages/matplotlib/__init__.py\u001b[0m in \u001b[0;36minner\u001b[0;34m(ax, data, *args, **kwargs)\u001b[0m\n\u001b[1;32m   1359\u001b[0m     \u001b[0;32mdef\u001b[0m \u001b[0minner\u001b[0m\u001b[0;34m(\u001b[0m\u001b[0max\u001b[0m\u001b[0;34m,\u001b[0m \u001b[0;34m*\u001b[0m\u001b[0margs\u001b[0m\u001b[0;34m,\u001b[0m \u001b[0mdata\u001b[0m\u001b[0;34m=\u001b[0m\u001b[0;32mNone\u001b[0m\u001b[0;34m,\u001b[0m \u001b[0;34m**\u001b[0m\u001b[0mkwargs\u001b[0m\u001b[0;34m)\u001b[0m\u001b[0;34m:\u001b[0m\u001b[0;34m\u001b[0m\u001b[0;34m\u001b[0m\u001b[0m\n\u001b[1;32m   1360\u001b[0m         \u001b[0;32mif\u001b[0m \u001b[0mdata\u001b[0m \u001b[0;32mis\u001b[0m \u001b[0;32mNone\u001b[0m\u001b[0;34m:\u001b[0m\u001b[0;34m\u001b[0m\u001b[0;34m\u001b[0m\u001b[0m\n\u001b[0;32m-> 1361\u001b[0;31m             \u001b[0;32mreturn\u001b[0m \u001b[0mfunc\u001b[0m\u001b[0;34m(\u001b[0m\u001b[0max\u001b[0m\u001b[0;34m,\u001b[0m \u001b[0;34m*\u001b[0m\u001b[0mmap\u001b[0m\u001b[0;34m(\u001b[0m\u001b[0msanitize_sequence\u001b[0m\u001b[0;34m,\u001b[0m \u001b[0margs\u001b[0m\u001b[0;34m)\u001b[0m\u001b[0;34m,\u001b[0m \u001b[0;34m**\u001b[0m\u001b[0mkwargs\u001b[0m\u001b[0;34m)\u001b[0m\u001b[0;34m\u001b[0m\u001b[0;34m\u001b[0m\u001b[0m\n\u001b[0m\u001b[1;32m   1362\u001b[0m \u001b[0;34m\u001b[0m\u001b[0m\n\u001b[1;32m   1363\u001b[0m         \u001b[0mbound\u001b[0m \u001b[0;34m=\u001b[0m \u001b[0mnew_sig\u001b[0m\u001b[0;34m.\u001b[0m\u001b[0mbind\u001b[0m\u001b[0;34m(\u001b[0m\u001b[0max\u001b[0m\u001b[0;34m,\u001b[0m \u001b[0;34m*\u001b[0m\u001b[0margs\u001b[0m\u001b[0;34m,\u001b[0m \u001b[0;34m**\u001b[0m\u001b[0mkwargs\u001b[0m\u001b[0;34m)\u001b[0m\u001b[0;34m\u001b[0m\u001b[0;34m\u001b[0m\u001b[0m\n",
      "\u001b[0;32m~/miniconda3/envs/test-env/lib/python3.9/site-packages/matplotlib/axes/_axes.py\u001b[0m in \u001b[0;36mimshow\u001b[0;34m(self, X, cmap, norm, aspect, interpolation, alpha, vmin, vmax, origin, extent, filternorm, filterrad, resample, url, **kwargs)\u001b[0m\n\u001b[1;32m   5617\u001b[0m         \u001b[0;31m# update ax.dataLim, and, if autoscaling, set viewLim\u001b[0m\u001b[0;34m\u001b[0m\u001b[0;34m\u001b[0m\u001b[0m\n\u001b[1;32m   5618\u001b[0m         \u001b[0;31m# to tightly fit the image, regardless of dataLim.\u001b[0m\u001b[0;34m\u001b[0m\u001b[0;34m\u001b[0m\u001b[0m\n\u001b[0;32m-> 5619\u001b[0;31m         \u001b[0mim\u001b[0m\u001b[0;34m.\u001b[0m\u001b[0mset_extent\u001b[0m\u001b[0;34m(\u001b[0m\u001b[0mim\u001b[0m\u001b[0;34m.\u001b[0m\u001b[0mget_extent\u001b[0m\u001b[0;34m(\u001b[0m\u001b[0;34m)\u001b[0m\u001b[0;34m)\u001b[0m\u001b[0;34m\u001b[0m\u001b[0;34m\u001b[0m\u001b[0m\n\u001b[0m\u001b[1;32m   5620\u001b[0m \u001b[0;34m\u001b[0m\u001b[0m\n\u001b[1;32m   5621\u001b[0m         \u001b[0mself\u001b[0m\u001b[0;34m.\u001b[0m\u001b[0madd_image\u001b[0m\u001b[0;34m(\u001b[0m\u001b[0mim\u001b[0m\u001b[0;34m)\u001b[0m\u001b[0;34m\u001b[0m\u001b[0;34m\u001b[0m\u001b[0m\n",
      "\u001b[0;32m~/miniconda3/envs/test-env/lib/python3.9/site-packages/matplotlib/image.py\u001b[0m in \u001b[0;36mset_extent\u001b[0;34m(self, extent)\u001b[0m\n\u001b[1;32m    954\u001b[0m         \u001b[0mself\u001b[0m\u001b[0;34m.\u001b[0m\u001b[0msticky_edges\u001b[0m\u001b[0;34m.\u001b[0m\u001b[0my\u001b[0m\u001b[0;34m[\u001b[0m\u001b[0;34m:\u001b[0m\u001b[0;34m]\u001b[0m \u001b[0;34m=\u001b[0m \u001b[0;34m[\u001b[0m\u001b[0mymin\u001b[0m\u001b[0;34m,\u001b[0m \u001b[0mymax\u001b[0m\u001b[0;34m]\u001b[0m\u001b[0;34m\u001b[0m\u001b[0;34m\u001b[0m\u001b[0m\n\u001b[1;32m    955\u001b[0m         \u001b[0;32mif\u001b[0m \u001b[0mself\u001b[0m\u001b[0;34m.\u001b[0m\u001b[0maxes\u001b[0m\u001b[0;34m.\u001b[0m\u001b[0m_autoscaleXon\u001b[0m\u001b[0;34m:\u001b[0m\u001b[0;34m\u001b[0m\u001b[0;34m\u001b[0m\u001b[0m\n\u001b[0;32m--> 956\u001b[0;31m             \u001b[0mself\u001b[0m\u001b[0;34m.\u001b[0m\u001b[0maxes\u001b[0m\u001b[0;34m.\u001b[0m\u001b[0mset_xlim\u001b[0m\u001b[0;34m(\u001b[0m\u001b[0;34m(\u001b[0m\u001b[0mxmin\u001b[0m\u001b[0;34m,\u001b[0m \u001b[0mxmax\u001b[0m\u001b[0;34m)\u001b[0m\u001b[0;34m,\u001b[0m \u001b[0mauto\u001b[0m\u001b[0;34m=\u001b[0m\u001b[0;32mNone\u001b[0m\u001b[0;34m)\u001b[0m\u001b[0;34m\u001b[0m\u001b[0;34m\u001b[0m\u001b[0m\n\u001b[0m\u001b[1;32m    957\u001b[0m         \u001b[0;32mif\u001b[0m \u001b[0mself\u001b[0m\u001b[0;34m.\u001b[0m\u001b[0maxes\u001b[0m\u001b[0;34m.\u001b[0m\u001b[0m_autoscaleYon\u001b[0m\u001b[0;34m:\u001b[0m\u001b[0;34m\u001b[0m\u001b[0;34m\u001b[0m\u001b[0m\n\u001b[1;32m    958\u001b[0m             \u001b[0mself\u001b[0m\u001b[0;34m.\u001b[0m\u001b[0maxes\u001b[0m\u001b[0;34m.\u001b[0m\u001b[0mset_ylim\u001b[0m\u001b[0;34m(\u001b[0m\u001b[0;34m(\u001b[0m\u001b[0mymin\u001b[0m\u001b[0;34m,\u001b[0m \u001b[0mymax\u001b[0m\u001b[0;34m)\u001b[0m\u001b[0;34m,\u001b[0m \u001b[0mauto\u001b[0m\u001b[0;34m=\u001b[0m\u001b[0;32mNone\u001b[0m\u001b[0;34m)\u001b[0m\u001b[0;34m\u001b[0m\u001b[0;34m\u001b[0m\u001b[0m\n",
      "\u001b[0;32m~/miniconda3/envs/test-env/lib/python3.9/site-packages/matplotlib/axes/_base.py\u001b[0m in \u001b[0;36mset_xlim\u001b[0;34m(self, left, right, emit, auto, xmin, xmax)\u001b[0m\n\u001b[1;32m   3520\u001b[0m \u001b[0;34m\u001b[0m\u001b[0m\n\u001b[1;32m   3521\u001b[0m         \u001b[0mself\u001b[0m\u001b[0;34m.\u001b[0m\u001b[0m_process_unit_info\u001b[0m\u001b[0;34m(\u001b[0m\u001b[0;34m[\u001b[0m\u001b[0;34m(\u001b[0m\u001b[0;34m\"x\"\u001b[0m\u001b[0;34m,\u001b[0m \u001b[0;34m(\u001b[0m\u001b[0mleft\u001b[0m\u001b[0;34m,\u001b[0m \u001b[0mright\u001b[0m\u001b[0;34m)\u001b[0m\u001b[0;34m)\u001b[0m\u001b[0;34m]\u001b[0m\u001b[0;34m,\u001b[0m \u001b[0mconvert\u001b[0m\u001b[0;34m=\u001b[0m\u001b[0;32mFalse\u001b[0m\u001b[0;34m)\u001b[0m\u001b[0;34m\u001b[0m\u001b[0;34m\u001b[0m\u001b[0m\n\u001b[0;32m-> 3522\u001b[0;31m         \u001b[0mleft\u001b[0m \u001b[0;34m=\u001b[0m \u001b[0mself\u001b[0m\u001b[0;34m.\u001b[0m\u001b[0m_validate_converted_limits\u001b[0m\u001b[0;34m(\u001b[0m\u001b[0mleft\u001b[0m\u001b[0;34m,\u001b[0m \u001b[0mself\u001b[0m\u001b[0;34m.\u001b[0m\u001b[0mconvert_xunits\u001b[0m\u001b[0;34m)\u001b[0m\u001b[0;34m\u001b[0m\u001b[0;34m\u001b[0m\u001b[0m\n\u001b[0m\u001b[1;32m   3523\u001b[0m         \u001b[0mright\u001b[0m \u001b[0;34m=\u001b[0m \u001b[0mself\u001b[0m\u001b[0;34m.\u001b[0m\u001b[0m_validate_converted_limits\u001b[0m\u001b[0;34m(\u001b[0m\u001b[0mright\u001b[0m\u001b[0;34m,\u001b[0m \u001b[0mself\u001b[0m\u001b[0;34m.\u001b[0m\u001b[0mconvert_xunits\u001b[0m\u001b[0;34m)\u001b[0m\u001b[0;34m\u001b[0m\u001b[0;34m\u001b[0m\u001b[0m\n\u001b[1;32m   3524\u001b[0m \u001b[0;34m\u001b[0m\u001b[0m\n",
      "\u001b[0;32m~/miniconda3/envs/test-env/lib/python3.9/site-packages/matplotlib/axes/_base.py\u001b[0m in \u001b[0;36m_validate_converted_limits\u001b[0;34m(self, limit, convert)\u001b[0m\n\u001b[1;32m   3437\u001b[0m             if (isinstance(converted_limit, Real)\n\u001b[1;32m   3438\u001b[0m                     and not np.isfinite(converted_limit)):\n\u001b[0;32m-> 3439\u001b[0;31m                 \u001b[0;32mraise\u001b[0m \u001b[0mValueError\u001b[0m\u001b[0;34m(\u001b[0m\u001b[0;34m\"Axis limits cannot be NaN or Inf\"\u001b[0m\u001b[0;34m)\u001b[0m\u001b[0;34m\u001b[0m\u001b[0;34m\u001b[0m\u001b[0m\n\u001b[0m\u001b[1;32m   3440\u001b[0m             \u001b[0;32mreturn\u001b[0m \u001b[0mconverted_limit\u001b[0m\u001b[0;34m\u001b[0m\u001b[0;34m\u001b[0m\u001b[0m\n\u001b[1;32m   3441\u001b[0m \u001b[0;34m\u001b[0m\u001b[0m\n",
      "\u001b[0;31mValueError\u001b[0m: Axis limits cannot be NaN or Inf"
     ]
    },
    {
     "data": {
      "image/png": "[encoded data removed]",
      "text/plain": [
       "<Figure size 432x288 with 1 Axes>"
      ]
     },
     "metadata": {
      "needs_background": "light"
     },
     "output_type": "display_data"
    }
   ],
   "source": [
    "all_timesteps[timestep,:,:].plot.imshow()"
   ]
  },
  {
   "cell_type": "code",
   "execution_count": 11,
   "id": "8661595f-825f-4f68-94da-a32ca061edf2",
   "metadata": {
    "collapsed": true,
    "jupyter": {
     "outputs_hidden": true
    },
    "tags": []
   },
   "outputs": [
    {
     "data": {
      "text/html": [
       "<div><svg style=\"position: absolute; width: 0; height: 0; overflow: hidden\">\n",
       "<defs>\n",
       "<symbol id=\"icon-database\" viewBox=\"0 0 32 32\">\n",
       "<path d=\"M16 0c-8.837 0-16 2.239-16 5v4c0 2.761 7.163 5 16 5s16-2.239 16-5v-4c0-2.761-7.163-5-16-5z\"></path>\n",
       "<path d=\"M16 17c-8.837 0-16-2.239-16-5v6c0 2.761 7.163 5 16 5s16-2.239 16-5v-6c0 2.761-7.163 5-16 5z\"></path>\n",
       "<path d=\"M16 26c-8.837 0-16-2.239-16-5v6c0 2.761 7.163 5 16 5s16-2.239 16-5v-6c0 2.761-7.163 5-16 5z\"></path>\n",
       "</symbol>\n",
       "<symbol id=\"icon-file-text2\" viewBox=\"0 0 32 32\">\n",
       "<path d=\"M28.681 7.159c-0.694-0.947-1.662-2.053-2.724-3.116s-2.169-2.030-3.116-2.724c-1.612-1.182-2.393-1.319-2.841-1.319h-15.5c-1.378 0-2.5 1.121-2.5 2.5v27c0 1.378 1.122 2.5 2.5 2.5h23c1.378 0 2.5-1.122 2.5-2.5v-19.5c0-0.448-0.137-1.23-1.319-2.841zM24.543 5.457c0.959 0.959 1.712 1.825 2.268 2.543h-4.811v-4.811c0.718 0.556 1.584 1.309 2.543 2.268zM28 29.5c0 0.271-0.229 0.5-0.5 0.5h-23c-0.271 0-0.5-0.229-0.5-0.5v-27c0-0.271 0.229-0.5 0.5-0.5 0 0 15.499-0 15.5 0v7c0 0.552 0.448 1 1 1h7v19.5z\"></path>\n",
       "<path d=\"M23 26h-14c-0.552 0-1-0.448-1-1s0.448-1 1-1h14c0.552 0 1 0.448 1 1s-0.448 1-1 1z\"></path>\n",
       "<path d=\"M23 22h-14c-0.552 0-1-0.448-1-1s0.448-1 1-1h14c0.552 0 1 0.448 1 1s-0.448 1-1 1z\"></path>\n",
       "<path d=\"M23 18h-14c-0.552 0-1-0.448-1-1s0.448-1 1-1h14c0.552 0 1 0.448 1 1s-0.448 1-1 1z\"></path>\n",
       "</symbol>\n",
       "</defs>\n",
       "</svg>\n",
       "<style>/* CSS stylesheet for displaying xarray objects in jupyterlab.\n",
       " *\n",
       " */\n",
       "\n",
       ":root {\n",
       "  --xr-font-color0: var(--jp-content-font-color0, rgba(0, 0, 0, 1));\n",
       "  --xr-font-color2: var(--jp-content-font-color2, rgba(0, 0, 0, 0.54));\n",
       "  --xr-font-color3: var(--jp-content-font-color3, rgba(0, 0, 0, 0.38));\n",
       "  --xr-border-color: var(--jp-border-color2, #e0e0e0);\n",
       "  --xr-disabled-color: var(--jp-layout-color3, #bdbdbd);\n",
       "  --xr-background-color: var(--jp-layout-color0, white);\n",
       "  --xr-background-color-row-even: var(--jp-layout-color1, white);\n",
       "  --xr-background-color-row-odd: var(--jp-layout-color2, #eeeeee);\n",
       "}\n",
       "\n",
       "html[theme=dark],\n",
       "body.vscode-dark {\n",
       "  --xr-font-color0: rgba(255, 255, 255, 1);\n",
       "  --xr-font-color2: rgba(255, 255, 255, 0.54);\n",
       "  --xr-font-color3: rgba(255, 255, 255, 0.38);\n",
       "  --xr-border-color: #1F1F1F;\n",
       "  --xr-disabled-color: #515151;\n",
       "  --xr-background-color: #111111;\n",
       "  --xr-background-color-row-even: #111111;\n",
       "  --xr-background-color-row-odd: #313131;\n",
       "}\n",
       "\n",
       ".xr-wrap {\n",
       "  display: block;\n",
       "  min-width: 300px;\n",
       "  max-width: 700px;\n",
       "}\n",
       "\n",
       ".xr-text-repr-fallback {\n",
       "  /* fallback to plain text repr when CSS is not injected (untrusted notebook) */\n",
       "  display: none;\n",
       "}\n",
       "\n",
       ".xr-header {\n",
       "  padding-top: 6px;\n",
       "  padding-bottom: 6px;\n",
       "  margin-bottom: 4px;\n",
       "  border-bottom: solid 1px var(--xr-border-color);\n",
       "}\n",
       "\n",
       ".xr-header > div,\n",
       ".xr-header > ul {\n",
       "  display: inline;\n",
       "  margin-top: 0;\n",
       "  margin-bottom: 0;\n",
       "}\n",
       "\n",
       ".xr-obj-type,\n",
       ".xr-array-name {\n",
       "  margin-left: 2px;\n",
       "  margin-right: 10px;\n",
       "}\n",
       "\n",
       ".xr-obj-type {\n",
       "  color: var(--xr-font-color2);\n",
       "}\n",
       "\n",
       ".xr-sections {\n",
       "  padding-left: 0 !important;\n",
       "  display: grid;\n",
       "  grid-template-columns: 150px auto auto 1fr 20px 20px;\n",
       "}\n",
       "\n",
       ".xr-section-item {\n",
       "  display: contents;\n",
       "}\n",
       "\n",
       ".xr-section-item input {\n",
       "  display: none;\n",
       "}\n",
       "\n",
       ".xr-section-item input + label {\n",
       "  color: var(--xr-disabled-color);\n",
       "}\n",
       "\n",
       ".xr-section-item input:enabled + label {\n",
       "  cursor: pointer;\n",
       "  color: var(--xr-font-color2);\n",
       "}\n",
       "\n",
       ".xr-section-item input:enabled + label:hover {\n",
       "  color: var(--xr-font-color0);\n",
       "}\n",
       "\n",
       ".xr-section-summary {\n",
       "  grid-column: 1;\n",
       "  color: var(--xr-font-color2);\n",
       "  font-weight: 500;\n",
       "}\n",
       "\n",
       ".xr-section-summary > span {\n",
       "  display: inline-block;\n",
       "  padding-left: 0.5em;\n",
       "}\n",
       "\n",
       ".xr-section-summary-in:disabled + label {\n",
       "  color: var(--xr-font-color2);\n",
       "}\n",
       "\n",
       ".xr-section-summary-in + label:before {\n",
       "  display: inline-block;\n",
       "  content: '►';\n",
       "  font-size: 11px;\n",
       "  width: 15px;\n",
       "  text-align: center;\n",
       "}\n",
       "\n",
       ".xr-section-summary-in:disabled + label:before {\n",
       "  color: var(--xr-disabled-color);\n",
       "}\n",
       "\n",
       ".xr-section-summary-in:checked + label:before {\n",
       "  content: '▼';\n",
       "}\n",
       "\n",
       ".xr-section-summary-in:checked + label > span {\n",
       "  display: none;\n",
       "}\n",
       "\n",
       ".xr-section-summary,\n",
       ".xr-section-inline-details {\n",
       "  padding-top: 4px;\n",
       "  padding-bottom: 4px;\n",
       "}\n",
       "\n",
       ".xr-section-inline-details {\n",
       "  grid-column: 2 / -1;\n",
       "}\n",
       "\n",
       ".xr-section-details {\n",
       "  display: none;\n",
       "  grid-column: 1 / -1;\n",
       "  margin-bottom: 5px;\n",
       "}\n",
       "\n",
       ".xr-section-summary-in:checked ~ .xr-section-details {\n",
       "  display: contents;\n",
       "}\n",
       "\n",
       ".xr-array-wrap {\n",
       "  grid-column: 1 / -1;\n",
       "  display: grid;\n",
       "  grid-template-columns: 20px auto;\n",
       "}\n",
       "\n",
       ".xr-array-wrap > label {\n",
       "  grid-column: 1;\n",
       "  vertical-align: top;\n",
       "}\n",
       "\n",
       ".xr-preview {\n",
       "  color: var(--xr-font-color3);\n",
       "}\n",
       "\n",
       ".xr-array-preview,\n",
       ".xr-array-data {\n",
       "  padding: 0 5px !important;\n",
       "  grid-column: 2;\n",
       "}\n",
       "\n",
       ".xr-array-data,\n",
       ".xr-array-in:checked ~ .xr-array-preview {\n",
       "  display: none;\n",
       "}\n",
       "\n",
       ".xr-array-in:checked ~ .xr-array-data,\n",
       ".xr-array-preview {\n",
       "  display: inline-block;\n",
       "}\n",
       "\n",
       ".xr-dim-list {\n",
       "  display: inline-block !important;\n",
       "  list-style: none;\n",
       "  padding: 0 !important;\n",
       "  margin: 0;\n",
       "}\n",
       "\n",
       ".xr-dim-list li {\n",
       "  display: inline-block;\n",
       "  padding: 0;\n",
       "  margin: 0;\n",
       "}\n",
       "\n",
       ".xr-dim-list:before {\n",
       "  content: '(';\n",
       "}\n",
       "\n",
       ".xr-dim-list:after {\n",
       "  content: ')';\n",
       "}\n",
       "\n",
       ".xr-dim-list li:not(:last-child):after {\n",
       "  content: ',';\n",
       "  padding-right: 5px;\n",
       "}\n",
       "\n",
       ".xr-has-index {\n",
       "  font-weight: bold;\n",
       "}\n",
       "\n",
       ".xr-var-list,\n",
       ".xr-var-item {\n",
       "  display: contents;\n",
       "}\n",
       "\n",
       ".xr-var-item > div,\n",
       ".xr-var-item label,\n",
       ".xr-var-item > .xr-var-name span {\n",
       "  background-color: var(--xr-background-color-row-even);\n",
       "  margin-bottom: 0;\n",
       "}\n",
       "\n",
       ".xr-var-item > .xr-var-name:hover span {\n",
       "  padding-right: 5px;\n",
       "}\n",
       "\n",
       ".xr-var-list > li:nth-child(odd) > div,\n",
       ".xr-var-list > li:nth-child(odd) > label,\n",
       ".xr-var-list > li:nth-child(odd) > .xr-var-name span {\n",
       "  background-color: var(--xr-background-color-row-odd);\n",
       "}\n",
       "\n",
       ".xr-var-name {\n",
       "  grid-column: 1;\n",
       "}\n",
       "\n",
       ".xr-var-dims {\n",
       "  grid-column: 2;\n",
       "}\n",
       "\n",
       ".xr-var-dtype {\n",
       "  grid-column: 3;\n",
       "  text-align: right;\n",
       "  color: var(--xr-font-color2);\n",
       "}\n",
       "\n",
       ".xr-var-preview {\n",
       "  grid-column: 4;\n",
       "}\n",
       "\n",
       ".xr-var-name,\n",
       ".xr-var-dims,\n",
       ".xr-var-dtype,\n",
       ".xr-preview,\n",
       ".xr-attrs dt {\n",
       "  white-space: nowrap;\n",
       "  overflow: hidden;\n",
       "  text-overflow: ellipsis;\n",
       "  padding-right: 10px;\n",
       "}\n",
       "\n",
       ".xr-var-name:hover,\n",
       ".xr-var-dims:hover,\n",
       ".xr-var-dtype:hover,\n",
       ".xr-attrs dt:hover {\n",
       "  overflow: visible;\n",
       "  width: auto;\n",
       "  z-index: 1;\n",
       "}\n",
       "\n",
       ".xr-var-attrs,\n",
       ".xr-var-data {\n",
       "  display: none;\n",
       "  background-color: var(--xr-background-color) !important;\n",
       "  padding-bottom: 5px !important;\n",
       "}\n",
       "\n",
       ".xr-var-attrs-in:checked ~ .xr-var-attrs,\n",
       ".xr-var-data-in:checked ~ .xr-var-data {\n",
       "  display: block;\n",
       "}\n",
       "\n",
       ".xr-var-data > table {\n",
       "  float: right;\n",
       "}\n",
       "\n",
       ".xr-var-name span,\n",
       ".xr-var-data,\n",
       ".xr-attrs {\n",
       "  padding-left: 25px !important;\n",
       "}\n",
       "\n",
       ".xr-attrs,\n",
       ".xr-var-attrs,\n",
       ".xr-var-data {\n",
       "  grid-column: 1 / -1;\n",
       "}\n",
       "\n",
       "dl.xr-attrs {\n",
       "  padding: 0;\n",
       "  margin: 0;\n",
       "  display: grid;\n",
       "  grid-template-columns: 125px auto;\n",
       "}\n",
       "\n",
       ".xr-attrs dt,\n",
       ".xr-attrs dd {\n",
       "  padding: 0;\n",
       "  margin: 0;\n",
       "  float: left;\n",
       "  padding-right: 10px;\n",
       "  width: auto;\n",
       "}\n",
       "\n",
       ".xr-attrs dt {\n",
       "  font-weight: normal;\n",
       "  grid-column: 1;\n",
       "}\n",
       "\n",
       ".xr-attrs dt:hover span {\n",
       "  display: inline-block;\n",
       "  background: var(--xr-background-color);\n",
       "  padding-right: 10px;\n",
       "}\n",
       "\n",
       ".xr-attrs dd {\n",
       "  grid-column: 2;\n",
       "  white-space: pre-wrap;\n",
       "  word-break: break-all;\n",
       "}\n",
       "\n",
       ".xr-icon-database,\n",
       ".xr-icon-file-text2 {\n",
       "  display: inline-block;\n",
       "  vertical-align: middle;\n",
       "  width: 1em;\n",
       "  height: 1.5em !important;\n",
       "  stroke-width: 0;\n",
       "  stroke: currentColor;\n",
       "  fill: currentColor;\n",
       "}\n",
       "</style><pre class='xr-text-repr-fallback'>&lt;xarray.DataArray &#x27;labels&#x27; (time: 10, lat: 192, lon: 288)&gt;\n",
       "array([[[nan, nan, nan, ..., nan, nan, nan],\n",
       "        [nan, nan, nan, ..., nan, nan, nan],\n",
       "        [nan, nan, nan, ..., nan, nan, nan],\n",
       "        ...,\n",
       "        [nan, nan, nan, ..., nan, nan, nan],\n",
       "        [nan, nan, nan, ..., nan, nan, nan],\n",
       "        [nan, nan, nan, ..., nan, nan, nan]],\n",
       "\n",
       "       [[nan, nan, nan, ..., nan, nan, nan],\n",
       "        [nan, nan, nan, ..., nan, nan, nan],\n",
       "        [nan, nan, nan, ..., nan, nan, nan],\n",
       "        ...,\n",
       "        [nan, nan, nan, ..., nan, nan, nan],\n",
       "        [nan, nan, nan, ..., nan, nan, nan],\n",
       "        [nan, nan, nan, ..., nan, nan, nan]],\n",
       "\n",
       "       [[nan, nan, nan, ..., nan, nan, nan],\n",
       "        [nan, nan, nan, ..., nan, nan, nan],\n",
       "        [nan, nan, nan, ..., nan, nan, nan],\n",
       "        ...,\n",
       "...\n",
       "        ...,\n",
       "        [35., 35., 35., ..., 35., 35., 35.],\n",
       "        [35., 35., 35., ..., 35., 35., 35.],\n",
       "        [35., 35., 35., ..., 35., 35., 35.]],\n",
       "\n",
       "       [[nan, nan, nan, ..., nan, nan, nan],\n",
       "        [nan, nan, nan, ..., nan, nan, nan],\n",
       "        [nan, nan, nan, ..., nan, nan, nan],\n",
       "        ...,\n",
       "        [35., 35., 35., ..., 35., 35., 35.],\n",
       "        [35., 35., 35., ..., 35., 35., 35.],\n",
       "        [35., 35., 35., ..., 35., 35., 35.]],\n",
       "\n",
       "       [[nan, nan, nan, ..., nan, nan, nan],\n",
       "        [nan, nan, nan, ..., nan, nan, nan],\n",
       "        [nan, nan, nan, ..., nan, nan, nan],\n",
       "        ...,\n",
       "        [nan, nan, nan, ..., nan, nan, nan],\n",
       "        [nan, nan, nan, ..., nan, nan, nan],\n",
       "        [nan, nan, nan, ..., nan, nan, nan]]])\n",
       "Coordinates:\n",
       "  * lat        (lat) float64 -90.0 -89.06 -88.12 -87.17 ... 88.12 89.06 90.0\n",
       "  * lon        (lon) float64 0.0 1.25 2.5 3.75 5.0 ... 355.0 356.2 357.5 358.8\n",
       "  * time       (time) object 1852-10-01 00:00:00 ... 1853-07-01 00:00:00\n",
       "    member_id  &lt;U11 &#x27;r2i1021p1f1&#x27;\n",
       "    quantile   float64 0.9\n",
       "    month      (time) int64 10 11 12 1 2 3 4 5 6 7\n",
       "Attributes:\n",
       "    inital objects identified:  21386\n",
       "    final objects tracked:      1203\n",
       "    radius:                     3\n",
       "    size quantile threshold:    0.75\n",
       "    min area:                   349.0\n",
       "    percent area reject:        0.27032961568982916\n",
       "    percent area accept:        0.7296703843101708</pre><div class='xr-wrap' hidden><div class='xr-header'><div class='xr-obj-type'>xarray.DataArray</div><div class='xr-array-name'>'labels'</div><ul class='xr-dim-list'><li><span class='xr-has-index'>time</span>: 10</li><li><span class='xr-has-index'>lat</span>: 192</li><li><span class='xr-has-index'>lon</span>: 288</li></ul></div><ul class='xr-sections'><li class='xr-section-item'><div class='xr-array-wrap'><input id='section-17386e77-2899-488f-a304-0baeb4fb85e1' class='xr-array-in' type='checkbox' checked><label for='section-17386e77-2899-488f-a304-0baeb4fb85e1' title='Show/hide data repr'><svg class='icon xr-icon-database'><use xlink:href='#icon-database'></use></svg></label><div class='xr-array-preview xr-preview'><span>nan nan nan nan nan nan nan nan ... nan nan nan nan nan nan nan nan</span></div><div class='xr-array-data'><pre>array([[[nan, nan, nan, ..., nan, nan, nan],\n",
       "        [nan, nan, nan, ..., nan, nan, nan],\n",
       "        [nan, nan, nan, ..., nan, nan, nan],\n",
       "        ...,\n",
       "        [nan, nan, nan, ..., nan, nan, nan],\n",
       "        [nan, nan, nan, ..., nan, nan, nan],\n",
       "        [nan, nan, nan, ..., nan, nan, nan]],\n",
       "\n",
       "       [[nan, nan, nan, ..., nan, nan, nan],\n",
       "        [nan, nan, nan, ..., nan, nan, nan],\n",
       "        [nan, nan, nan, ..., nan, nan, nan],\n",
       "        ...,\n",
       "        [nan, nan, nan, ..., nan, nan, nan],\n",
       "        [nan, nan, nan, ..., nan, nan, nan],\n",
       "        [nan, nan, nan, ..., nan, nan, nan]],\n",
       "\n",
       "       [[nan, nan, nan, ..., nan, nan, nan],\n",
       "        [nan, nan, nan, ..., nan, nan, nan],\n",
       "        [nan, nan, nan, ..., nan, nan, nan],\n",
       "        ...,\n",
       "...\n",
       "        ...,\n",
       "        [35., 35., 35., ..., 35., 35., 35.],\n",
       "        [35., 35., 35., ..., 35., 35., 35.],\n",
       "        [35., 35., 35., ..., 35., 35., 35.]],\n",
       "\n",
       "       [[nan, nan, nan, ..., nan, nan, nan],\n",
       "        [nan, nan, nan, ..., nan, nan, nan],\n",
       "        [nan, nan, nan, ..., nan, nan, nan],\n",
       "        ...,\n",
       "        [35., 35., 35., ..., 35., 35., 35.],\n",
       "        [35., 35., 35., ..., 35., 35., 35.],\n",
       "        [35., 35., 35., ..., 35., 35., 35.]],\n",
       "\n",
       "       [[nan, nan, nan, ..., nan, nan, nan],\n",
       "        [nan, nan, nan, ..., nan, nan, nan],\n",
       "        [nan, nan, nan, ..., nan, nan, nan],\n",
       "        ...,\n",
       "        [nan, nan, nan, ..., nan, nan, nan],\n",
       "        [nan, nan, nan, ..., nan, nan, nan],\n",
       "        [nan, nan, nan, ..., nan, nan, nan]]])</pre></div></div></li><li class='xr-section-item'><input id='section-89979464-8ffc-43e7-b705-e81c3fa309fa' class='xr-section-summary-in' type='checkbox'  checked><label for='section-89979464-8ffc-43e7-b705-e81c3fa309fa' class='xr-section-summary' >Coordinates: <span>(6)</span></label><div class='xr-section-inline-details'></div><div class='xr-section-details'><ul class='xr-var-list'><li class='xr-var-item'><div class='xr-var-name'><span class='xr-has-index'>lat</span></div><div class='xr-var-dims'>(lat)</div><div class='xr-var-dtype'>float64</div><div class='xr-var-preview xr-preview'>-90.0 -89.06 -88.12 ... 89.06 90.0</div><input id='attrs-3e7a74b3-b63b-49c0-9a2f-ef8f4e63400a' class='xr-var-attrs-in' type='checkbox' ><label for='attrs-3e7a74b3-b63b-49c0-9a2f-ef8f4e63400a' title='Show/Hide attributes'><svg class='icon xr-icon-file-text2'><use xlink:href='#icon-file-text2'></use></svg></label><input id='data-2cf0343a-d6de-4f5d-a8a3-d22078d36b03' class='xr-var-data-in' type='checkbox'><label for='data-2cf0343a-d6de-4f5d-a8a3-d22078d36b03' title='Show/Hide data repr'><svg class='icon xr-icon-database'><use xlink:href='#icon-database'></use></svg></label><div class='xr-var-attrs'><dl class='xr-attrs'><dt><span>long_name :</span></dt><dd>latitude</dd><dt><span>units :</span></dt><dd>degrees_north</dd></dl></div><div class='xr-var-data'><pre>array([-90.      , -89.057592, -88.115183, -87.172775, -86.230366, -85.287958,\n",
       "       -84.34555 , -83.403141, -82.460733, -81.518325, -80.575916, -79.633508,\n",
       "       -78.691099, -77.748691, -76.806283, -75.863874, -74.921466, -73.979058,\n",
       "       -73.036649, -72.094241, -71.151832, -70.209424, -69.267016, -68.324607,\n",
       "       -67.382199, -66.439791, -65.497382, -64.554974, -63.612565, -62.670157,\n",
       "       -61.727749, -60.78534 , -59.842932, -58.900524, -57.958115, -57.015707,\n",
       "       -56.073298, -55.13089 , -54.188482, -53.246073, -52.303665, -51.361257,\n",
       "       -50.418848, -49.47644 , -48.534031, -47.591623, -46.649215, -45.706806,\n",
       "       -44.764398, -43.82199 , -42.879581, -41.937173, -40.994764, -40.052356,\n",
       "       -39.109948, -38.167539, -37.225131, -36.282723, -35.340314, -34.397906,\n",
       "       -33.455497, -32.513089, -31.570681, -30.628272, -29.685864, -28.743455,\n",
       "       -27.801047, -26.858639, -25.91623 , -24.973822, -24.031414, -23.089005,\n",
       "       -22.146597, -21.204188, -20.26178 , -19.319372, -18.376963, -17.434555,\n",
       "       -16.492147, -15.549738, -14.60733 , -13.664921, -12.722513, -11.780105,\n",
       "       -10.837696,  -9.895288,  -8.95288 ,  -8.010471,  -7.068063,  -6.125654,\n",
       "        -5.183246,  -4.240838,  -3.298429,  -2.356021,  -1.413613,  -0.471204,\n",
       "         0.471204,   1.413613,   2.356021,   3.298429,   4.240838,   5.183246,\n",
       "         6.125654,   7.068063,   8.010471,   8.95288 ,   9.895288,  10.837696,\n",
       "        11.780105,  12.722513,  13.664921,  14.60733 ,  15.549738,  16.492147,\n",
       "        17.434555,  18.376963,  19.319372,  20.26178 ,  21.204188,  22.146597,\n",
       "        23.089005,  24.031414,  24.973822,  25.91623 ,  26.858639,  27.801047,\n",
       "        28.743455,  29.685864,  30.628272,  31.570681,  32.513089,  33.455497,\n",
       "        34.397906,  35.340314,  36.282723,  37.225131,  38.167539,  39.109948,\n",
       "        40.052356,  40.994764,  41.937173,  42.879581,  43.82199 ,  44.764398,\n",
       "        45.706806,  46.649215,  47.591623,  48.534031,  49.47644 ,  50.418848,\n",
       "        51.361257,  52.303665,  53.246073,  54.188482,  55.13089 ,  56.073298,\n",
       "        57.015707,  57.958115,  58.900524,  59.842932,  60.78534 ,  61.727749,\n",
       "        62.670157,  63.612565,  64.554974,  65.497382,  66.439791,  67.382199,\n",
       "        68.324607,  69.267016,  70.209424,  71.151832,  72.094241,  73.036649,\n",
       "        73.979058,  74.921466,  75.863874,  76.806283,  77.748691,  78.691099,\n",
       "        79.633508,  80.575916,  81.518325,  82.460733,  83.403141,  84.34555 ,\n",
       "        85.287958,  86.230366,  87.172775,  88.115183,  89.057592,  90.      ])</pre></div></li><li class='xr-var-item'><div class='xr-var-name'><span class='xr-has-index'>lon</span></div><div class='xr-var-dims'>(lon)</div><div class='xr-var-dtype'>float64</div><div class='xr-var-preview xr-preview'>0.0 1.25 2.5 ... 356.2 357.5 358.8</div><input id='attrs-a6bd910a-bdcd-4417-8409-17a63c041368' class='xr-var-attrs-in' type='checkbox' ><label for='attrs-a6bd910a-bdcd-4417-8409-17a63c041368' title='Show/Hide attributes'><svg class='icon xr-icon-file-text2'><use xlink:href='#icon-file-text2'></use></svg></label><input id='data-f9b25390-11a5-4e68-a148-b62591f9c7f8' class='xr-var-data-in' type='checkbox'><label for='data-f9b25390-11a5-4e68-a148-b62591f9c7f8' title='Show/Hide data repr'><svg class='icon xr-icon-database'><use xlink:href='#icon-database'></use></svg></label><div class='xr-var-attrs'><dl class='xr-attrs'><dt><span>long_name :</span></dt><dd>longitude</dd><dt><span>units :</span></dt><dd>degrees_east</dd></dl></div><div class='xr-var-data'><pre>array([  0.  ,   1.25,   2.5 , ..., 356.25, 357.5 , 358.75])</pre></div></li><li class='xr-var-item'><div class='xr-var-name'><span class='xr-has-index'>time</span></div><div class='xr-var-dims'>(time)</div><div class='xr-var-dtype'>object</div><div class='xr-var-preview xr-preview'>1852-10-01 00:00:00 ... 1853-07-...</div><input id='attrs-c49f0fcb-cbd2-443a-aabb-d4890f573b67' class='xr-var-attrs-in' type='checkbox' ><label for='attrs-c49f0fcb-cbd2-443a-aabb-d4890f573b67' title='Show/Hide attributes'><svg class='icon xr-icon-file-text2'><use xlink:href='#icon-file-text2'></use></svg></label><input id='data-93486dfd-3c88-48bb-a28f-913a80509648' class='xr-var-data-in' type='checkbox'><label for='data-93486dfd-3c88-48bb-a28f-913a80509648' title='Show/Hide data repr'><svg class='icon xr-icon-database'><use xlink:href='#icon-database'></use></svg></label><div class='xr-var-attrs'><dl class='xr-attrs'><dt><span>long_name :</span></dt><dd>time</dd><dt><span>bounds :</span></dt><dd>time_bnds</dd></dl></div><div class='xr-var-data'><pre>array([cftime.DatetimeNoLeap(1852, 10, 1, 0, 0, 0, 0, has_year_zero=True),\n",
       "       cftime.DatetimeNoLeap(1852, 11, 1, 0, 0, 0, 0, has_year_zero=True),\n",
       "       cftime.DatetimeNoLeap(1852, 12, 1, 0, 0, 0, 0, has_year_zero=True),\n",
       "       cftime.DatetimeNoLeap(1853, 1, 1, 0, 0, 0, 0, has_year_zero=True),\n",
       "       cftime.DatetimeNoLeap(1853, 2, 1, 0, 0, 0, 0, has_year_zero=True),\n",
       "       cftime.DatetimeNoLeap(1853, 3, 1, 0, 0, 0, 0, has_year_zero=True),\n",
       "       cftime.DatetimeNoLeap(1853, 4, 1, 0, 0, 0, 0, has_year_zero=True),\n",
       "       cftime.DatetimeNoLeap(1853, 5, 1, 0, 0, 0, 0, has_year_zero=True),\n",
       "       cftime.DatetimeNoLeap(1853, 6, 1, 0, 0, 0, 0, has_year_zero=True),\n",
       "       cftime.DatetimeNoLeap(1853, 7, 1, 0, 0, 0, 0, has_year_zero=True)],\n",
       "      dtype=object)</pre></div></li><li class='xr-var-item'><div class='xr-var-name'><span>member_id</span></div><div class='xr-var-dims'>()</div><div class='xr-var-dtype'>&lt;U11</div><div class='xr-var-preview xr-preview'>&#x27;r2i1021p1f1&#x27;</div><input id='attrs-4876d0f3-fd36-405d-942e-92784c541fc0' class='xr-var-attrs-in' type='checkbox' disabled><label for='attrs-4876d0f3-fd36-405d-942e-92784c541fc0' title='Show/Hide attributes'><svg class='icon xr-icon-file-text2'><use xlink:href='#icon-file-text2'></use></svg></label><input id='data-6b741181-063d-404b-bff9-1dc07a535aad' class='xr-var-data-in' type='checkbox'><label for='data-6b741181-063d-404b-bff9-1dc07a535aad' title='Show/Hide data repr'><svg class='icon xr-icon-database'><use xlink:href='#icon-database'></use></svg></label><div class='xr-var-attrs'><dl class='xr-attrs'></dl></div><div class='xr-var-data'><pre>array(&#x27;r2i1021p1f1&#x27;, dtype=&#x27;&lt;U11&#x27;)</pre></div></li><li class='xr-var-item'><div class='xr-var-name'><span>quantile</span></div><div class='xr-var-dims'>()</div><div class='xr-var-dtype'>float64</div><div class='xr-var-preview xr-preview'>0.9</div><input id='attrs-58051fdc-f26a-42a0-897c-037236b2771e' class='xr-var-attrs-in' type='checkbox' disabled><label for='attrs-58051fdc-f26a-42a0-897c-037236b2771e' title='Show/Hide attributes'><svg class='icon xr-icon-file-text2'><use xlink:href='#icon-file-text2'></use></svg></label><input id='data-63128e6d-3930-4795-8cf6-d43f1714e5f9' class='xr-var-data-in' type='checkbox'><label for='data-63128e6d-3930-4795-8cf6-d43f1714e5f9' title='Show/Hide data repr'><svg class='icon xr-icon-database'><use xlink:href='#icon-database'></use></svg></label><div class='xr-var-attrs'><dl class='xr-attrs'></dl></div><div class='xr-var-data'><pre>array(0.9)</pre></div></li><li class='xr-var-item'><div class='xr-var-name'><span>month</span></div><div class='xr-var-dims'>(time)</div><div class='xr-var-dtype'>int64</div><div class='xr-var-preview xr-preview'>10 11 12 1 2 3 4 5 6 7</div><input id='attrs-1409866d-36eb-4ec5-85c7-5aafdf2dce4c' class='xr-var-attrs-in' type='checkbox' disabled><label for='attrs-1409866d-36eb-4ec5-85c7-5aafdf2dce4c' title='Show/Hide attributes'><svg class='icon xr-icon-file-text2'><use xlink:href='#icon-file-text2'></use></svg></label><input id='data-be511c15-508d-404e-b8e8-c827c64a2038' class='xr-var-data-in' type='checkbox'><label for='data-be511c15-508d-404e-b8e8-c827c64a2038' title='Show/Hide data repr'><svg class='icon xr-icon-database'><use xlink:href='#icon-database'></use></svg></label><div class='xr-var-attrs'><dl class='xr-attrs'></dl></div><div class='xr-var-data'><pre>array([10, 11, 12,  1,  2,  3,  4,  5,  6,  7])</pre></div></li></ul></div></li><li class='xr-section-item'><input id='section-8e812b0e-cf2f-4300-8465-f3441bfd7322' class='xr-section-summary-in' type='checkbox'  checked><label for='section-8e812b0e-cf2f-4300-8465-f3441bfd7322' class='xr-section-summary' >Attributes: <span>(7)</span></label><div class='xr-section-inline-details'></div><div class='xr-section-details'><dl class='xr-attrs'><dt><span>inital objects identified :</span></dt><dd>21386</dd><dt><span>final objects tracked :</span></dt><dd>1203</dd><dt><span>radius :</span></dt><dd>3</dd><dt><span>size quantile threshold :</span></dt><dd>0.75</dd><dt><span>min area :</span></dt><dd>349.0</dd><dt><span>percent area reject :</span></dt><dd>0.27032961568982916</dd><dt><span>percent area accept :</span></dt><dd>0.7296703843101708</dd></dl></div></li></ul></div></div>"
      ],
      "text/plain": [
       "<xarray.DataArray 'labels' (time: 10, lat: 192, lon: 288)>\n",
       "array([[[nan, nan, nan, ..., nan, nan, nan],\n",
       "        [nan, nan, nan, ..., nan, nan, nan],\n",
       "        [nan, nan, nan, ..., nan, nan, nan],\n",
       "        ...,\n",
       "        [nan, nan, nan, ..., nan, nan, nan],\n",
       "        [nan, nan, nan, ..., nan, nan, nan],\n",
       "        [nan, nan, nan, ..., nan, nan, nan]],\n",
       "\n",
       "       [[nan, nan, nan, ..., nan, nan, nan],\n",
       "        [nan, nan, nan, ..., nan, nan, nan],\n",
       "        [nan, nan, nan, ..., nan, nan, nan],\n",
       "        ...,\n",
       "        [nan, nan, nan, ..., nan, nan, nan],\n",
       "        [nan, nan, nan, ..., nan, nan, nan],\n",
       "        [nan, nan, nan, ..., nan, nan, nan]],\n",
       "\n",
       "       [[nan, nan, nan, ..., nan, nan, nan],\n",
       "        [nan, nan, nan, ..., nan, nan, nan],\n",
       "        [nan, nan, nan, ..., nan, nan, nan],\n",
       "        ...,\n",
       "...\n",
       "        ...,\n",
       "        [35., 35., 35., ..., 35., 35., 35.],\n",
       "        [35., 35., 35., ..., 35., 35., 35.],\n",
       "        [35., 35., 35., ..., 35., 35., 35.]],\n",
       "\n",
       "       [[nan, nan, nan, ..., nan, nan, nan],\n",
       "        [nan, nan, nan, ..., nan, nan, nan],\n",
       "        [nan, nan, nan, ..., nan, nan, nan],\n",
       "        ...,\n",
       "        [35., 35., 35., ..., 35., 35., 35.],\n",
       "        [35., 35., 35., ..., 35., 35., 35.],\n",
       "        [35., 35., 35., ..., 35., 35., 35.]],\n",
       "\n",
       "       [[nan, nan, nan, ..., nan, nan, nan],\n",
       "        [nan, nan, nan, ..., nan, nan, nan],\n",
       "        [nan, nan, nan, ..., nan, nan, nan],\n",
       "        ...,\n",
       "        [nan, nan, nan, ..., nan, nan, nan],\n",
       "        [nan, nan, nan, ..., nan, nan, nan],\n",
       "        [nan, nan, nan, ..., nan, nan, nan]]])\n",
       "Coordinates:\n",
       "  * lat        (lat) float64 -90.0 -89.06 -88.12 -87.17 ... 88.12 89.06 90.0\n",
       "  * lon        (lon) float64 0.0 1.25 2.5 3.75 5.0 ... 355.0 356.2 357.5 358.8\n",
       "  * time       (time) object 1852-10-01 00:00:00 ... 1853-07-01 00:00:00\n",
       "    member_id  <U11 'r2i1021p1f1'\n",
       "    quantile   float64 0.9\n",
       "    month      (time) int64 10 11 12 1 2 3 4 5 6 7\n",
       "Attributes:\n",
       "    inital objects identified:  21386\n",
       "    final objects tracked:      1203\n",
       "    radius:                     3\n",
       "    size quantile threshold:    0.75\n",
       "    min area:                   349.0\n",
       "    percent area reject:        0.27032961568982916\n",
       "    percent area accept:        0.7296703843101708"
      ]
     },
     "execution_count": 11,
     "metadata": {},
     "output_type": "execute_result"
    }
   ],
   "source": [
    "all_timesteps"
   ]
  },
  {
   "cell_type": "code",
   "execution_count": 18,
   "id": "9f1b6f3f-b337-4ad5-9db7-4071a8a7eb8d",
   "metadata": {},
   "outputs": [
    {
     "data": {
      "text/plain": [
       "array([[nan, nan, nan, ..., nan, nan, nan],\n",
       "       [nan, nan, nan, ..., nan, nan, nan],\n",
       "       [nan, nan, nan, ..., nan, nan, nan],\n",
       "       ...,\n",
       "       [nan, nan, nan, ..., nan, nan, nan],\n",
       "       [nan, nan, nan, ..., nan, nan, nan],\n",
       "       [nan, nan, nan, ..., nan, nan, nan]])"
      ]
     },
     "execution_count": 18,
     "metadata": {},
     "output_type": "execute_result"
    }
   ],
   "source": [
    "one_ = all_timesteps[timestep,:,:].values\n",
    "one_\n",
    "# plt.pcolor(one_); plt.axvline(288/2); plt.xticks([0,288]);plt.show()\n",
    "\n",
    "# x = np.pad(one_, pad_width=[(0,0),(144,144)], mode='constant', constant_values=100)\n",
    "# plt.pcolor(x); plt.axvline(288); plt.xticks([0,288]);plt.show()"
   ]
  },
  {
   "cell_type": "code",
   "execution_count": 68,
   "id": "78efabb9-89f1-49a6-8893-34302dd6c603",
   "metadata": {},
   "outputs": [
    {
     "name": "stdout",
     "output_type": "stream",
     "text": [
      "(4.25, 168.0, 192.5, 265.0, 176.75, 173.0)\n",
      "(-4.240837696335079, 22.14659685863874, 25.916230366492147, 75.86387434554973, 59.84293193717277, 83.40314136125654)\n"
     ]
    }
   ],
   "source": [
    "y_val = list(zip(*centroid_wrap))[0]\n",
    "x_val = list(zip(*centroid_wrap))[1]\n",
    "\n",
    "print(x)\n",
    "print(y)"
   ]
  },
  {
   "cell_type": "code",
   "execution_count": 46,
   "id": "974f120d-bfc7-4ee5-8227-e9e8df100227",
   "metadata": {},
   "outputs": [
    {
     "ename": "NameError",
     "evalue": "name 'append_east' is not defined",
     "output_type": "error",
     "traceback": [
      "\u001b[0;31m---------------------------------------------------------------------------\u001b[0m",
      "\u001b[0;31mNameError\u001b[0m                                 Traceback (most recent call last)",
      "\u001b[0;32m/glade/scratch/cassiacai/ipykernel_226084/1655174733.py\u001b[0m in \u001b[0;36m<module>\u001b[0;34m\u001b[0m\n\u001b[1;32m      1\u001b[0m \u001b[0mtimestep\u001b[0m \u001b[0;34m=\u001b[0m \u001b[0;36m2\u001b[0m\u001b[0;34m\u001b[0m\u001b[0;34m\u001b[0m\u001b[0m\n\u001b[1;32m      2\u001b[0m \u001b[0msub_labels\u001b[0m \u001b[0;34m=\u001b[0m \u001b[0m_get_labels\u001b[0m\u001b[0;34m(\u001b[0m\u001b[0mall_timesteps\u001b[0m\u001b[0;34m[\u001b[0m\u001b[0mtimestep\u001b[0m\u001b[0;34m,\u001b[0m\u001b[0;34m:\u001b[0m\u001b[0;34m,\u001b[0m\u001b[0;34m:\u001b[0m\u001b[0;34m]\u001b[0m\u001b[0;34m)\u001b[0m\u001b[0;34m\u001b[0m\u001b[0;34m\u001b[0m\u001b[0m\n\u001b[0;32m----> 3\u001b[0;31m \u001b[0msub_labels\u001b[0m \u001b[0;34m=\u001b[0m \u001b[0mxr\u001b[0m\u001b[0;34m.\u001b[0m\u001b[0mDataArray\u001b[0m\u001b[0;34m(\u001b[0m\u001b[0msub_labels\u001b[0m\u001b[0;34m,\u001b[0m \u001b[0mdims\u001b[0m\u001b[0;34m=\u001b[0m\u001b[0mappend_east\u001b[0m\u001b[0;34m.\u001b[0m\u001b[0mdims\u001b[0m\u001b[0;34m,\u001b[0m \u001b[0mcoords\u001b[0m\u001b[0;34m=\u001b[0m\u001b[0mappend_east\u001b[0m\u001b[0;34m.\u001b[0m\u001b[0mcoords\u001b[0m\u001b[0;34m)\u001b[0m\u001b[0;34m\u001b[0m\u001b[0;34m\u001b[0m\u001b[0m\n\u001b[0m\u001b[1;32m      4\u001b[0m \u001b[0msub_labels\u001b[0m \u001b[0;34m=\u001b[0m \u001b[0msub_labels\u001b[0m\u001b[0;34m.\u001b[0m\u001b[0mwhere\u001b[0m\u001b[0;34m(\u001b[0m\u001b[0msub_labels\u001b[0m\u001b[0;34m>\u001b[0m\u001b[0;36m0\u001b[0m\u001b[0;34m,\u001b[0m \u001b[0mdrop\u001b[0m\u001b[0;34m=\u001b[0m\u001b[0;32mFalse\u001b[0m\u001b[0;34m,\u001b[0m \u001b[0mother\u001b[0m\u001b[0;34m=\u001b[0m\u001b[0mnp\u001b[0m\u001b[0;34m.\u001b[0m\u001b[0mnan\u001b[0m\u001b[0;34m)\u001b[0m\u001b[0;34m\u001b[0m\u001b[0;34m\u001b[0m\u001b[0m\n\u001b[1;32m      5\u001b[0m \u001b[0;34m\u001b[0m\u001b[0m\n",
      "\u001b[0;31mNameError\u001b[0m: name 'append_east' is not defined"
     ]
    }
   ],
   "source": [
    "timestep = 2\n",
    "sub_labels = _get_labels(all_timesteps[timestep,:,:])\n",
    "sub_labels = xr.DataArray(sub_labels, dims=append_east.dims, coords=append_east.coords)\n",
    "sub_labels = sub_labels.where(sub_labels>0, drop=False, other=np.nan)\n",
    "\n",
    "centroid_wrap = _get_centroids(sub_labels)\n",
    "print(centroid_wrap)\n",
    "\n",
    "y_val = list(zip(*centroid_wrap))[0]\n",
    "x_val = list(zip(*centroid_wrap))[1]\n",
    "\n",
    "y_val_orig = y_val\n",
    "x_val_orig = [x - 180 for x in x_val]\n",
    "print(y_val_orig)\n",
    "print(x_val_orig)\n",
    "print(len(x_val_orig))\n",
    "sub_labels.plot.imshow(); plt.scatter(x_val, y_val, c='red'); plt.show()\n",
    "all_timesteps[timestep,:,:].plot.imshow(); plt.scatter(x_val_orig, y_val_orig, c='red'); plt.show()"
   ]
  },
  {
   "cell_type": "code",
   "execution_count": 49,
   "id": "3f631497-b602-4b09-8a55-baec4c171ed1",
   "metadata": {},
   "outputs": [
    {
     "name": "stdout",
     "output_type": "stream",
     "text": [
      "[1 2 3 4 5 6]\n",
      "[(-4.240837696335079, 364.0), (22.14659685863874, 527.75), (25.916230366492147, 192.5), (75.86387434554973, 265.0), (59.84293193717277, 536.5), (83.40314136125654, 532.75)]\n",
      "6\n"
     ]
    },
    {
     "data": {
      "text/plain": [
       "<matplotlib.image.AxesImage at 0x2b97f2eddac0>"
      ]
     },
     "execution_count": 49,
     "metadata": {},
     "output_type": "execute_result"
    },
    {
     "data": {
      "text/plain": [
       "<matplotlib.collections.PathCollection at 0x2b97f2eb2460>"
      ]
     },
     "execution_count": 49,
     "metadata": {},
     "output_type": "execute_result"
    },
    {
     "data": {
      "image/png": "[encoded data removed]",
      "text/plain": [
       "<Figure size 432x288 with 2 Axes>"
      ]
     },
     "metadata": {
      "needs_background": "light"
     },
     "output_type": "display_data"
    },
    {
     "data": {
      "text/plain": [
       "<matplotlib.image.AxesImage at 0x2b97f2faeac0>"
      ]
     },
     "execution_count": 49,
     "metadata": {},
     "output_type": "execute_result"
    },
    {
     "data": {
      "text/plain": [
       "<matplotlib.collections.PathCollection at 0x2b97f2ed75e0>"
      ]
     },
     "execution_count": 49,
     "metadata": {},
     "output_type": "execute_result"
    },
    {
     "data": {
      "image/png": "[encoded data removed]",
      "text/plain": [
       "<Figure size 432x288 with 2 Axes>"
      ]
     },
     "metadata": {
      "needs_background": "light"
     },
     "output_type": "display_data"
    },
    {
     "data": {
      "text/plain": [
       "<matplotlib.image.AxesImage at 0x2b97f3069520>"
      ]
     },
     "execution_count": 49,
     "metadata": {},
     "output_type": "execute_result"
    },
    {
     "data": {
      "text/plain": [
       "<matplotlib.collections.PathCollection at 0x2b97f305a220>"
      ]
     },
     "execution_count": 49,
     "metadata": {},
     "output_type": "execute_result"
    },
    {
     "data": {
      "image/png": "[encoded data removed]",
      "text/plain": [
       "<Figure size 432x288 with 2 Axes>"
      ]
     },
     "metadata": {
      "needs_background": "light"
     },
     "output_type": "display_data"
    }
   ],
   "source": [
    "sub_labels = _get_labels(append_east)\n",
    "print(np.unique(sub_labels))\n",
    "sub_labels = xr.DataArray(sub_labels, dims=append_east.dims, coords=append_east.coords)\n",
    "sub_labels = sub_labels.where(sub_labels>0, drop=False, other=np.nan)\n",
    "centroid_wrap = _get_centroids(sub_labels)\n",
    "print(centroid_wrap)\n",
    "\n",
    "y_val = list(zip(*centroid_wrap))[0]\n",
    "x_val = list(zip(*centroid_wrap))[1]\n",
    "\n",
    "y_val_orig = y_val\n",
    "x_val_orig = [x - 180 for x in x_val]\n",
    "print(len(y_val))\n",
    "\n",
    "sub_labels.plot.imshow(); plt.scatter(x_val, y_val, c='red'); plt.show()\n",
    "append_east.plot.imshow(); plt.scatter(x_val, y_val, c='red'); plt.show()\n",
    "all_timesteps[timestep,:,:].plot.imshow(); plt.scatter(x_val_orig, y_val, c='red'); plt.show()"
   ]
  },
  {
   "cell_type": "code",
   "execution_count": 48,
   "id": "0047dd0d-60b3-493e-9081-c974699f1a0a",
   "metadata": {},
   "outputs": [
    {
     "data": {
      "text/plain": [
       "<matplotlib.image.AxesImage at 0x2b97f2bf6850>"
      ]
     },
     "execution_count": 48,
     "metadata": {},
     "output_type": "execute_result"
    },
    {
     "data": {
      "text/plain": [
       "<matplotlib.image.AxesImage at 0x2b97f2dc0220>"
      ]
     },
     "execution_count": 48,
     "metadata": {},
     "output_type": "execute_result"
    },
    {
     "data": {
      "image/png": "[encoded data removed]",
      "text/plain": [
       "<Figure size 720x360 with 2 Axes>"
      ]
     },
     "metadata": {
      "needs_background": "light"
     },
     "output_type": "display_data"
    },
    {
     "data": {
      "image/png": "[encoded data removed]",
      "text/plain": [
       "<Figure size 720x360 with 2 Axes>"
      ]
     },
     "metadata": {
      "needs_background": "light"
     },
     "output_type": "display_data"
    }
   ],
   "source": [
    "for_one_mhw = SSTA_and_events.where(SSTA_and_events.labels==mhw_id, drop=False)\n",
    "mhw_when = np.argwhere(for_one_mhw.labels.max(axis=(1,2)).values > 0.)\n",
    "first_timestep = mhw_when[0][0]\n",
    "timesteps_to_choose_from = np.arange(first_timestep, first_timestep+duration)\n",
    "\n",
    "all_timesteps = for_one_mhw.labels[timesteps_to_choose_from,:,:]\n",
    "\n",
    "timestep = 2\n",
    "\n",
    "lx = all_timesteps.isel(time=timestep)\n",
    "east = lx.where(lx.lon < 180, drop=True)\n",
    "east['lon'] = np.arange(360.25, 540.25, 1.25) # this value is related to your grid resolution\n",
    "append_east = xr.concat([lx.where(lx.lon >= 180, drop=True), east], dim=\"lon\")\n",
    "\n",
    "append_east.plot.imshow(figsize=(10,5))\n",
    "all_timesteps[timestep,:,:].plot.imshow(figsize=(10,5))\n",
    "\n"
   ]
  },
  {
   "cell_type": "code",
   "execution_count": null,
   "id": "abb509ca-8b84-42f7-8b36-b56deec06b77",
   "metadata": {},
   "outputs": [],
   "source": []
  },
  {
   "cell_type": "code",
   "execution_count": 159,
   "id": "f04c96f4-e940-4456-9afd-595577155e2a",
   "metadata": {},
   "outputs": [
    {
     "name": "stdout",
     "output_type": "stream",
     "text": [
      "(192, 288)\n"
     ]
    },
    {
     "data": {
      "text/plain": [
       "<matplotlib.collections.PolyCollection at 0x2ae0fad28a60>"
      ]
     },
     "execution_count": 159,
     "metadata": {},
     "output_type": "execute_result"
    },
    {
     "data": {
      "text/plain": [
       "<matplotlib.lines.Line2D at 0x2ae0bd44c670>"
      ]
     },
     "execution_count": 159,
     "metadata": {},
     "output_type": "execute_result"
    },
    {
     "data": {
      "text/plain": [
       "([<matplotlib.axis.XTick at 0x2ae0fad06700>,\n",
       "  <matplotlib.axis.XTick at 0x2ae0fad066d0>],\n",
       " [Text(0, 0, ''), Text(0, 0, '')])"
      ]
     },
     "execution_count": 159,
     "metadata": {},
     "output_type": "execute_result"
    },
    {
     "data": {
      "image/png": "[encoded data removed]",
      "text/plain": [
       "<Figure size 432x288 with 1 Axes>"
      ]
     },
     "metadata": {
      "needs_background": "light"
     },
     "output_type": "display_data"
    },
    {
     "data": {
      "text/plain": [
       "<matplotlib.collections.PolyCollection at 0x2ae0bfe182b0>"
      ]
     },
     "execution_count": 159,
     "metadata": {},
     "output_type": "execute_result"
    },
    {
     "data": {
      "text/plain": [
       "<matplotlib.lines.Line2D at 0x2ae0b39a26a0>"
      ]
     },
     "execution_count": 159,
     "metadata": {},
     "output_type": "execute_result"
    },
    {
     "data": {
      "text/plain": [
       "([<matplotlib.axis.XTick at 0x2ae0faf0b040>,\n",
       "  <matplotlib.axis.XTick at 0x2ae0faf04fd0>],\n",
       " [Text(0, 0, ''), Text(0, 0, '')])"
      ]
     },
     "execution_count": 159,
     "metadata": {},
     "output_type": "execute_result"
    },
    {
     "data": {
      "image/png": "[encoded data removed]",
      "text/plain": [
       "<Figure size 432x288 with 1 Axes>"
      ]
     },
     "metadata": {
      "needs_background": "light"
     },
     "output_type": "display_data"
    }
   ],
   "source": [
    "one_ = all_timesteps[timestep,:,:].values\n",
    "print(one_.shape)\n",
    "plt.pcolor(one_); plt.axvline(288/2); plt.xticks([0,288]);plt.show()\n",
    "x = np.pad(one_, pad_width=[(0,0),(144,144)], mode='constant', constant_values=100)\n",
    "plt.pcolor(x); plt.axvline(288); plt.xticks([0,288]);plt.show()"
   ]
  },
  {
   "cell_type": "code",
   "execution_count": 160,
   "id": "d5eec742-f827-4c84-a4f3-31bd88ab00a9",
   "metadata": {},
   "outputs": [],
   "source": [
    "x[:,432:512] = x[:,144:224]\n",
    "x[:,144:224] = x[:,144:224]"
   ]
  },
  {
   "cell_type": "code",
   "execution_count": 161,
   "id": "3dfabff4-6a6c-4452-a1b5-9b134f438ccb",
   "metadata": {},
   "outputs": [
    {
     "data": {
      "text/plain": [
       "<matplotlib.collections.PolyCollection at 0x2ae0fccf5df0>"
      ]
     },
     "execution_count": 161,
     "metadata": {},
     "output_type": "execute_result"
    },
    {
     "data": {
      "image/png": "[encoded data removed]",
      "text/plain": [
       "<Figure size 432x288 with 1 Axes>"
      ]
     },
     "metadata": {
      "needs_background": "light"
     },
     "output_type": "display_data"
    }
   ],
   "source": [
    "plt.pcolor(x)\n",
    "# plt.axvline(435)\n",
    "# plt.axvline(145)"
   ]
  },
  {
   "cell_type": "code",
   "execution_count": 156,
   "id": "ae5d47be-ec0f-4d74-a65c-5242fd8f0504",
   "metadata": {},
   "outputs": [],
   "source": [
    "lx = all_timesteps.isel(time=timestep)\n",
    "east = lx.where(lx.lon < 180, drop=True)\n",
    "east['lon'] = np.arange(360.25, 540.25, 1.25) # this value is related to your grid resolution\n",
    "append_east = xr.concat([lx.where(lx.lon >= 180, drop=True), east], dim=\"lon\")"
   ]
  },
  {
   "cell_type": "code",
   "execution_count": 32,
   "id": "13115416-db53-4741-9d78-d403136b741e",
   "metadata": {},
   "outputs": [],
   "source": [
    "# functions\n",
    "def number_of_mhws(event_file):\n",
    "    return len(np.unique(event_file.labels)) - 1\n",
    "\n",
    "def calc_duration(event_file, mhw_id):\n",
    "    return len(event_file.where(event_file.labels==mhw_id, drop=True).time)\n",
    "\n",
    "def calc_cumulativeintensity(event_file, mhw_id):\n",
    "    for_one_mhw = event_file.where(event_file.labels==mhw_id, drop=True)\n",
    "    cumulative_intensity = np.nansum(for_one_mhw.SSTA)\n",
    "    cumulative_intensity_monthly = for_one_mhw.SSTA.sum(axis=(1,2)).values\n",
    "    return cumulative_intensity, cumulative_intensity_monthly\n",
    "\n",
    "def calc_meanintensity(event_file, mhw_id):\n",
    "    for_one_mhw = event_file.where(event_file.labels==mhw_id, drop=True)\n",
    "    mean_intensity = np.nanmean(for_one_mhw.SSTA)\n",
    "    mean_intensity_monthly = for_one_mhw.SSTA.mean(axis=(1,2)).values\n",
    "    return mean_intensity, mean_intensity_monthly\n",
    "\n",
    "def calc_maximumintensity(event_file, mhw_id):\n",
    "    for_one_mhw = event_file.where(event_file.labels==mhw_id, drop=True)\n",
    "    max_intensity = np.nanmax(for_one_mhw.SSTA)\n",
    "    max_intensity_monthly = for_one_mhw.SSTA.max(axis=(1,2)).values\n",
    "    return max_intensity, max_intensity_monthly\n",
    "\n",
    "def calc_stdintensity(event_file, mhw_id):\n",
    "    for_one_mhw = event_file.where(event_file.labels==mhw_id, drop=True)\n",
    "    std_intensity = np.nanstd(for_one_mhw.SSTA)\n",
    "    std_intensity_monthly = for_one_mhw.SSTA.std(axis=(1,2)).values\n",
    "    return std_intensity, std_intensity_monthly\n",
    "\n",
    "def calc_spatialextent(event_file, mhw_id):\n",
    "    for_one_mhw = event_file.where(event_file.labels==mhw_id, drop=True)\n",
    "    spatial_extents = []\n",
    "    coords_full = []\n",
    "    for i in range(len(for_one_mhw.time)):\n",
    "        for_onetimestep_stacked = for_one_mhw.labels[i,:,:].stack(zipcoords=['lat','lon'])\n",
    "        intermed = for_onetimestep_stacked[for_onetimestep_stacked.notnull()].zipcoords.values\n",
    "        lats = [x[0] for x in intermed]; lons = [x[1] for x in intermed]\n",
    "        coords = list(zip(lats, lons))\n",
    "        coords_full.append(coords)\n",
    "        y,x=zip(*coords)\n",
    "        dlon = [np.cos(y[c]*np.pi/180)*(111.320*1) for c in np.arange(0, len(coords))]; dlat = (110.574 *1) * np.ones(len(dlon))\n",
    "        area = np.sum(dlon*dlat)\n",
    "        spatial_extents.append(area)\n",
    "    max_spatial_extent = np.max(spatial_extents)\n",
    "    max_spatial_extent_time = np.argmax(spatial_extents)\n",
    "    mean_spatial_extent = np.mean(spatial_extents)\n",
    "    cumulative_spatial_extent = np.sum(spatial_extents)\n",
    "    return coords_full, spatial_extents, max_spatial_extent, max_spatial_extent_time, mean_spatial_extent, cumulative_spatial_extent\n",
    "\n",
    "def initialization(event_file, mhw_id):\n",
    "    for_one_mhw = event_file.where(event_file.labels==mhw_id, drop=False)\n",
    "    mhw_when = np.argwhere(for_one_mhw.labels.max(axis=(1,2)).values > 0.)\n",
    "    first_timestep = mhw_when[0][0]\n",
    "    bymonth = np.resize(np.arange(1,13),12*166)[1:-11]\n",
    "    month = bymonth[first_timestep]\n",
    "    return first_timestep, for_one_mhw.SSTA[first_timestep,:,:].values, month\n",
    "\n",
    "from skimage.measure import find_contours\n",
    "from haversine import haversine, Unit\n",
    "from scipy.interpolate import interp1d\n",
    "\n",
    "def calc_perimeter(event_file, mhw_id):\n",
    "    for_one_mhw = event_file.where(event_file.labels==mhw_id, drop=False)\n",
    "    first_timestep, first_array, month = initialization(event_file, mhw_id)\n",
    "    timesteps_to_choose_from = np.arange(first_timestep, first_timestep+duration)\n",
    "\n",
    "    convert_long_range = interp1d([0,360],[-180,180])\n",
    "    perimeter_ls = []\n",
    "    for i in timesteps_to_choose_from:\n",
    "        bw = for_one_mhw.labels[i,:,:].values > 0\n",
    "        contours = find_contours(bw)\n",
    "        distance_ls = []\n",
    "        for contour_num in range(len(contours)):\n",
    "            latitudes = for_one_mhw.lat.values[contours[contour_num][:,0].astype(int)]\n",
    "            longitudes = for_one_mhw.lon.values[contours[contour_num][:,1].astype(int)]    \n",
    "            coords = list(zip(latitudes, convert_long_range(longitudes)))\n",
    "\n",
    "            for i in range(len(coords)-1):\n",
    "                distance = haversine(coords[i], coords[i+1],Unit.KILOMETERS)\n",
    "                distance_ls.append(distance)\n",
    "            distance_ls.append(haversine(coords[len(coords)-1], coords[0],Unit.KILOMETERS))\n",
    "        perimeter = np.sum(distance_ls)\n",
    "        perimeter_ls.append(perimeter)\n",
    "    return perimeter_ls  \n",
    "\n",
    "def calc_percperimetervsarea(spatial_extents, perimeters):\n",
    "    return (np.asarray(perimeters)/np.asarray(spatial_extents))*100\n",
    "\n",
    "def convert_from_timeres_to_months(time_step):\n",
    "    bymonth = np.resize(np.arange(1,13),12*166)[1:-11]\n",
    "    month = bymonth[first_timestep]\n",
    "    return month\n",
    "\n",
    "def calc_compltodeform(coords_full, spatial_extents):\n",
    "    perc_sharedarea_ls = []\n",
    "    for i in range(len(coords_full)-1):\n",
    "        a_set = set(coords_full[i])\n",
    "        b_set = set(coords_full[i+1])\n",
    "        if a_set & b_set:\n",
    "            coords = a_set & b_set\n",
    "            y,x=zip(*coords)\n",
    "            dlon = [np.cos(y[c]*np.pi/180)*(111.320*1) for c in np.arange(0, len(coords))]; dlat = (110.574 *1) * np.ones(len(dlon))\n",
    "            sharedarea = np.sum(dlon*dlat)\n",
    "            perc_sharedarea_ls.append((sharedarea/ (spatial_extents[i] + spatial_extents[i+1]))*100)\n",
    "        else:\n",
    "            sharedareaarea = 0\n",
    "            perc_sharedarea_ls.append((sharedarea/ (spatial_extents[i] + spatial_extents[i+1]))*100)\n",
    "    return perc_sharedarea_ls\n",
    "\n",
    "def calc_deform(perc_sharedarea_ls):\n",
    "    return np.asarray(100 - np.asarray(perc_sharedarea_ls))\n",
    "\n",
    "def calc_whenlargesmall(spatial_extents):\n",
    "    when_large = (np.argmax(spatial_extents) / len(spatial_extents))*100\n",
    "    when_small = (np.argmin(spatial_extents) / len(spatial_extents))*100\n",
    "    return when_large, when_small\n",
    "\n",
    "def cross_correlation_spat(event_file, mhw_id):\n",
    "    for_one_mhw = event_file.where(event_file.labels==mhw_id, drop=False)\n",
    "    first_timestep, first_array, month = initialization(event_file, mhw_id)\n",
    "    timesteps_to_choose_from = np.arange(first_timestep, first_timestep+duration)\n",
    "    cc_image_array = np.zeros((len(timesteps_to_choose_from), 192,288))    \n",
    "\n",
    "    for i in range(len(timesteps_to_choose_from[:-1])):\n",
    "        image = for_one_mhw.SSTA[timesteps_to_choose_from[i],:,:].values\n",
    "        image = np.nan_to_num(image)\n",
    "        offset_image = for_one_mhw.SSTA[timesteps_to_choose_from[i+1],:,:].values\n",
    "        offset_image = np.nan_to_num(offset_image)\n",
    "        image_product = np.fft.fft2(image) * np.fft.fft2(offset_image).conj()\n",
    "        cc_image = np.fft.fftshift(np.fft.ifft2(image_product))\n",
    "        cc_image_array[i,:,:] = np.real(cc_image)\n",
    "    return cc_image_array\n",
    "\n",
    "from skimage.morphology import convex_hull_image\n",
    "from skimage import img_as_float\n",
    "\n",
    "def perc_imoverchull(event_file, mhw_id):\n",
    "    for_one_mhw = event_file.where(event_file.labels==mhw_id, drop=True)\n",
    "    perc_imoverchull_ls = []\n",
    "    for i in range(len(for_one_mhw.time)):\n",
    "        image = for_one_mhw.labels[i].values\n",
    "        image = [image == mhw_id][0]\n",
    "        chull = convex_hull_image(image)\n",
    "        chull_asflt = img_as_float(chull.copy())\n",
    "        image_asflt = img_as_float(image.copy())\n",
    "        perc_imoverchull = np.sum(image_asflt)/np.sum(chull_asflt)*100\n",
    "        perc_imoverchull_ls.append(perc_imoverchull)\n",
    "    return perc_imoverchull_ls"
   ]
  },
  {
   "cell_type": "code",
   "execution_count": null,
   "id": "1f414068-aca7-4cba-a4c4-6cc69eaa2a4f",
   "metadata": {},
   "outputs": [],
   "source": []
  }
 ],
 "metadata": {
  "kernelspec": {
   "display_name": "Python 3 (ipykernel)",
   "language": "python",
   "name": "python3"
  },
  "language_info": {
   "codemirror_mode": {
    "name": "ipython",
    "version": 3
   },
   "file_extension": ".py",
   "mimetype": "text/x-python",
   "name": "python",
   "nbconvert_exporter": "python",
   "pygments_lexer": "ipython3",
   "version": "3.9.12"
  }
 },
 "nbformat": 4,
 "nbformat_minor": 5
}
