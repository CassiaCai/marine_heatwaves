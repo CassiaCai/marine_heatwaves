{
 "cells": [
  {
   "cell_type": "markdown",
   "id": "dc828f09-40b6-4fd8-9a65-87731c9b64cb",
   "metadata": {},
   "source": [
    "<code> \n",
    "<strong><font size=\"+2\">Pipeline to run Ocetrac on all CESM-LE ensemble members</font></strong>\n",
    "In this Jupyter notebook, we share a pipeline to run Ocetrac on all CESM-LE ensemble members and saving the last 40 years of data. This is because this is the time period shared with the satellite period.\n",
    "</code>"
   ]
  },
  {
   "cell_type": "markdown",
   "id": "f46860d9-7b11-42b5-97b7-b88fcc043905",
   "metadata": {},
   "source": [
    "<code> Import packages </code>"
   ]
  },
  {
   "cell_type": "code",
   "execution_count": 1,
   "id": "2b43ffd5-55b7-4d9d-b13f-9f9f5f912b8a",
   "metadata": {},
   "outputs": [],
   "source": [
    "##### LOADING IN PACKAGES #--------------------------------------------------------------\n",
    "import s3fs; import xarray as xr; import numpy as np\n",
    "import pandas as pd; \n",
    "import dask.array as da\n",
    "import ocetrac\n",
    "\n",
    "import matplotlib.pyplot as plt; import cartopy.crs as ccrs\n",
    "\n",
    "import warnings; import expectexception\n",
    "warnings.filterwarnings('ignore')\n",
    "\n",
    "import netCDF4 as nc; import datetime as dt\n",
    "import scipy\n",
    "\n",
    "import intake; import pprint\n",
    "# Allow multiple lines per cell to be displayed without print (default is just last line)\n",
    "from IPython.core.interactiveshell import InteractiveShell\n",
    "InteractiveShell.ast_node_interactivity = \"all\"\n",
    "# Enable more explicit control of DataFrame display (e.g., to omit annoying line numbers)\n",
    "from IPython.display import HTML"
   ]
  },
  {
   "cell_type": "markdown",
   "id": "3fe7e90a-cc0f-4c6a-93d3-250e09f2bb70",
   "metadata": {},
   "source": [
    "<code> Loading CESM LE dataset </code>"
   ]
  },
  {
   "cell_type": "code",
   "execution_count": null,
   "id": "194f3e87-719f-40a1-a25d-d3415348484a",
   "metadata": {},
   "outputs": [],
   "source": [
    "# Open original collection description file #----------------------------------------------\n",
    "cat_url_orig = '/glade/collections/cmip/catalog/intake-esm-datastore/catalogs/glade-cesm2-le.json'\n",
    "coll_orig = intake.open_esm_datastore(cat_url_orig)"
   ]
  },
  {
   "cell_type": "code",
   "execution_count": null,
   "id": "22c852d4-d6ad-4192-84de-4c5fceb34c03",
   "metadata": {},
   "outputs": [],
   "source": []
  },
  {
   "cell_type": "code",
   "execution_count": null,
   "id": "2bdfe8e8-87e1-4ddb-b592-7069d2261289",
   "metadata": {},
   "outputs": [],
   "source": [
    "subset = coll_orig.search(component='atm',variable='SST',frequency='month_1',experiment='historical')\n",
    "member_id_list = subset.df.member_id.unique()\n",
    "print(member_id_list)"
   ]
  },
  {
   "cell_type": "code",
   "execution_count": null,
   "id": "c04d0b70-71af-4082-bb9c-a3d21e5515f4",
   "metadata": {},
   "outputs": [],
   "source": [
    "##### one at a time\n",
    "# subset = coll_orig.search(component='atm',variable='SST',frequency='month_1',experiment='historical',member_id= 'r1i1011p1f2')\n",
    "# dsets = subset.to_dataset_dict(zarr_kwargs={\"consolidated\": True}, storage_options={\"anon\": True})\n",
    "# dsets\n",
    "# ds = dsets['atm.historical.cam.h0.smbb.SST']"
   ]
  },
  {
   "cell_type": "code",
   "execution_count": null,
   "id": "ce886798-8ecf-4236-9ddc-eafa6ed11654",
   "metadata": {
    "tags": []
   },
   "outputs": [],
   "source": [
    "# for i in range(50,len(member_id_list)):\n",
    "for i in range(0,50):\n",
    "# for i in range(5):\n",
    "    subset = coll_orig.search(component='atm',variable='SST',frequency='month_1',experiment='historical',member_id= str(member_id_list[i]))\n",
    "    dsets = subset.to_dataset_dict(zarr_kwargs={\"consolidated\": True}, storage_options={\"anon\": True})\n",
    "    ds = dsets['atm.historical.cam.h0.cmip6.SST'] # before 50\n",
    "    # ds = dsets['atm.historical.cam.h0.smbb.SST'] # after 50 # Ask Liz\n",
    "    SST = ds.SST.isel(member_id=0)\n",
    "    SST.load()\n",
    "    \n",
    "    ###### DETRENDING \n",
    "    # ------------------------\n",
    "    # Would be removing ENSO and teleconnections here\n",
    "    # Discuss ways to do this\n",
    "    # ------------------------\n",
    "    # last 40 years (satellite period)\n",
    "    dyr = SST.time.dt.year + (SST.time.dt.month-0.5)/12\n",
    "    dyr = dyr[-481:] # can remove this line if you want to detrend across the entire period\n",
    "    # Our 6 coefficient model is composed of the mean, trend, annual sine and cosine harmonics, & semi-annual sine and cosine harmonics\n",
    "    model = np.array([np.ones(len(dyr))] + [dyr-np.mean(dyr)] + [np.sin(2*np.pi*dyr)] + [np.cos(2*np.pi*dyr)] + [np.sin(4*np.pi*dyr)] + [np.cos(4*np.pi*dyr)])\n",
    "    # Take the pseudo-inverse of model to 'solve' least-squares problem\n",
    "    pmodel = np.linalg.pinv(model)\n",
    "    model_da = xr.DataArray(model.T, dims=['time','coeff'], coords={'time':SST.time.values[-481:], 'coeff':np.arange(1,7,1)}) \n",
    "    pmodel_da = xr.DataArray(pmodel.T, dims=['coeff','time'], coords={'coeff':np.arange(1,7,1), 'time':SST.time.values[-481:]})\n",
    "    # resulting coefficients of the model\n",
    "    sst_mod = xr.DataArray(pmodel_da.dot(SST), dims=['coeff','lat','lon'], coords={'coeff':np.arange(1,7,1), 'lat':SST.lat.values, 'lon':SST.lon.values})\n",
    "    # Construct mean, trend, and seasonal cycle\n",
    "    mean = model_da[:,0].dot(sst_mod[0,:,:])\n",
    "    trend = model_da[:,1].dot(sst_mod[1,:,:])\n",
    "    seas = model_da[:,2:].dot(sst_mod[2:,:,:])\n",
    "    # compute anomalies by removing all  the model coefficients \n",
    "    ssta_notrend = SST-model_da.dot(sst_mod) #this is anomalies\n",
    "    detrended = ssta_notrend\n",
    "    detrended.to_netcdf('/glade/work/cassiacai/'+str(member_id_list[i])+'_detrended.nc')\n",
    "    \n",
    "    ###### THRESHOLD and FEATURES\n",
    "    if detrended.chunks:\n",
    "        detrended = detrended.chunk({'time': -1})\n",
    "    threshold = detrended.groupby('time.month').quantile(0.9,dim=('time')) \n",
    "    features_ssta = detrended.where(detrended.groupby('time.month')>=threshold, other=np.nan)\n",
    "    features_ssta = features_ssta[:,:,:].load()\n",
    "    ##### MASKING\n",
    "    full_mask_land = features_ssta\n",
    "    full_masked = full_mask_land.where(full_mask_land != 0)\n",
    "    binary_out_afterlandmask=np.isfinite(full_masked)\n",
    "    \n",
    "    newmask = np.isfinite(ds.SST[0,:,:,:][-481:])\n",
    "    \n",
    "    Tracker = ocetrac.Tracker(binary_out_afterlandmask[:,:,:], newmask, radius=3, min_size_quartile=0.75, timedim = 'time', xdim = 'lon', ydim='lat', positive=True)\n",
    "    # we define the minimum radius above as well as the minimum size quartile\n",
    "    blobs = Tracker.track()\n",
    "    blobs.attrs\n",
    "    mo = Tracker._morphological_operations()\n",
    "    blobs.to_netcdf('/glade/work/cassiacai/'+str(member_id_list[i])+'_rad3_blobs.nc')"
   ]
  },
  {
   "cell_type": "code",
   "execution_count": null,
   "id": "e7a2c1ef-a461-49c7-b63b-dc488d53ac54",
   "metadata": {},
   "outputs": [],
   "source": []
  }
 ],
 "metadata": {
  "kernelspec": {
   "display_name": "test-env",
   "language": "python",
   "name": "test-env"
  },
  "language_info": {
   "codemirror_mode": {
    "name": "ipython",
    "version": 3
   },
   "file_extension": ".py",
   "mimetype": "text/x-python",
   "name": "python",
   "nbconvert_exporter": "python",
   "pygments_lexer": "ipython3",
   "version": "3.9.7"
  }
 },
 "nbformat": 4,
 "nbformat_minor": 5
}
