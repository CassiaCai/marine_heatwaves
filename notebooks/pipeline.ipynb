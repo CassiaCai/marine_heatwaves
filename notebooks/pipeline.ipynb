{
 "cells": [
  {
   "cell_type": "markdown",
   "id": "b2aae840-4e12-459a-b9df-3beae62c6fd3",
   "metadata": {},
   "source": [
    "# Pipeline"
   ]
  },
  {
   "cell_type": "code",
   "execution_count": 1,
   "id": "37507354-459e-45ca-99cb-757e116d661e",
   "metadata": {},
   "outputs": [],
   "source": [
    "# import libraries\n",
    "import pandas as pd\n",
    "import numpy as np\n",
    "import matplotlib.pyplot as plt\n",
    "import matplotlib as mpl\n",
    "\n",
    "import sklearn as skl\n",
    "from sklearn.decomposition import PCA\n",
    "from sklearn.preprocessing import StandardScaler\n",
    "from sklearn import preprocessing\n",
    "from sklearn.linear_model import RidgeCV\n",
    "import sklearn.cluster\n",
    "from sklearn.metrics import pairwise_distances \n",
    "import scipy.spatial \n",
    "\n",
    "from sklearn.manifold import TSNE\n",
    "\n",
    "import seaborn as sns\n",
    "sns.set_theme(style=\"darkgrid\")\n",
    "\n",
    "import warnings\n",
    "warnings.filterwarnings('ignore')"
   ]
  },
  {
   "cell_type": "code",
   "execution_count": 2,
   "id": "832b1f20-88fb-4049-a56f-499495deb727",
   "metadata": {},
   "outputs": [],
   "source": [
    "from plotting_functions import plot_violinplot_of_measure"
   ]
  },
  {
   "cell_type": "code",
   "execution_count": 3,
   "id": "07138570-df13-4dd1-ae69-b19ae248cc2a",
   "metadata": {
    "tags": []
   },
   "outputs": [],
   "source": [
    "# load data\n",
    "data_path = '/glade/u/home/cassiacai/marine_heatwaves/notebooks/one_val_data.csv'\n",
    "df = pd.read_csv(data_path) # shape: (1,13)"
   ]
  },
  {
   "cell_type": "code",
   "execution_count": null,
   "id": "5baa53b6-9407-4f5d-ae35-8ffd8c11de94",
   "metadata": {},
   "outputs": [],
   "source": [
    "# cleaning\n",
    "measures = list(df.columns)\n",
    "print(measures)\n",
    "\n",
    "measure_np = np.zeros((df.shape[1],1203))\n",
    "for measure_i in range(len(measures)):\n",
    "    ls_measure = df[measures[measure_i]][0][1:-1].split(', ')\n",
    "    measure_np[measure_i] = [float(i) for i in ls_measure]\n",
    "\n",
    "# create attributes dataframe\n",
    "attributes_df = pd.DataFrame({ measures[i]: measure_np[i] for i in range(len(measures)) })\n",
    "attributes_df['small_in_lifetime'] = (attributes_df.when_small + 1) / attributes_df.duration\n",
    "attributes_df['large_in_lifetime'] = (attributes_df.when_large + 1) / attributes_df.duration\n",
    "print(attributes_df.shape) # shape: (1203, 15)"
   ]
  },
  {
   "cell_type": "markdown",
   "id": "026e6d50-c642-44b1-8e41-faac1b1ae5af",
   "metadata": {},
   "source": [
    "### Visualize the distribution of measures"
   ]
  },
  {
   "cell_type": "code",
   "execution_count": null,
   "id": "11a05d55-255f-40fa-baf8-527f4b32233c",
   "metadata": {},
   "outputs": [],
   "source": [
    "# remove heatwaves that are anomalously long\n",
    "rem_perc_999_duration = np.percentile(attributes_df['duration'], 99.5) \n",
    "attributes_df= attributes_df[(attributes_df.duration <= rem_perc_999_duration)]\n",
    "print(attributes_df.shape)\n",
    "\n",
    "attributes_df = attributes_df[(attributes_df.duration > 1)] # remove length 1 heatwaves\n",
    "\n",
    "# separate by season\n",
    "atdf_wi = attributes_df[(attributes_df.month == 12) | (attributes_df.month == 1) | (attributes_df.month == 2)] # winter 12, 1, 2\n",
    "atdf_sp = attributes_df[(attributes_df.month >= 3) & (attributes_df.month <= 5)] # spring 3, 4, 5\n",
    "atdf_su = attributes_df[(attributes_df.month >= 6) & (attributes_df.month <= 8)] # summer 6, 7, 8\n",
    "atdf_f = attributes_df[(attributes_df.month >= 9) & (attributes_df.month <= 11)] # fall 9, 10, 11"
   ]
  },
  {
   "cell_type": "code",
   "execution_count": null,
   "id": "0801a315-0825-4525-959e-9729cf531299",
   "metadata": {
    "tags": []
   },
   "outputs": [],
   "source": [
    "# # helper function to plot violin plots of all measures to visualize how the measures are distributed\n",
    "# # also in plotting_function.py\n",
    "# def plot_violinplot_of_measure(atdf_wi: pd.DataFrame, \n",
    "#                                atdf_sp: pd.DataFrame, \n",
    "#                                atdf_su: pd.DataFrame, \n",
    "#                                atdf_f: pd.DataFrame, \n",
    "#                                measure: str):\n",
    "#     '''\n",
    "#     Helper function to plot violin plot of measure by season\n",
    "    \n",
    "#     Parameters\n",
    "#     ----------\n",
    "#     atdf_wi : pd.DataFrame\n",
    "#         A dataframe of attributes that are separated by season\n",
    "#     atdf_sp : pd.DataFrame\n",
    "#         A dataframe of attributes that are separated by season\n",
    "#     atdf_su : pd.DataFrame\n",
    "#         A dataframe of attributes that are separated by season\n",
    "#     atdf_f : pd.DataFrame\n",
    "#         A dataframe of attributes that are separated by season\n",
    "#     measure : str\n",
    "#     '''\n",
    "#     data = [atdf_wi[measure], atdf_sp[measure], atdf_su[measure], atdf_f[measure]]\n",
    "#     percentiles = np.zeros((4,3)) # quartile1, medians, quartile3\n",
    "    \n",
    "#     for i in range(4):\n",
    "#         percentiles[i] = np.percentile(data[i], [25, 50, 75])\n",
    "    \n",
    "#     plt.rcParams[\"figure.figsize\"] = (10,5)\n",
    "#     plt.title(measure,fontsize=20)\n",
    "#     parts = plt.violinplot(\n",
    "#             data, showmeans=False, showmedians=False,\n",
    "#             showextrema=False)\n",
    "    \n",
    "#     for pc in parts['bodies']:\n",
    "#         pc.set_facecolor('orange')\n",
    "#         pc.set_edgecolor('black')\n",
    "#         pc.set_alpha(1)\n",
    "\n",
    "#     inds = np.arange(1, 5)\n",
    "#     plt.scatter(inds, percentiles[:,1],marker='o', color='white', s=30, zorder=3) # median\n",
    "#     plt.vlines(inds, percentiles[:,0], percentiles[:,2],color='k', linestyle='-', lw=3)\n",
    "#     plt.xticks(np.arange(1, 5), labels=['winter','spring','summer','fall'], fontsize=15)\n",
    "#     plt.yticks(fontsize=15)\n",
    "#     plt.ylabel('observed values', fontsize=15)\n",
    "#     plt.show()"
   ]
  },
  {
   "cell_type": "code",
   "execution_count": null,
   "id": "bce52750-63c9-4a9f-89a9-ade6e6d9b68f",
   "metadata": {},
   "outputs": [],
   "source": [
    "def plot_in_lifetime(dataframe):\n",
    "    atrib_df = dataframe[(dataframe.duration > 1)]\n",
    "\n",
    "    plt.rcParams[\"figure.figsize\"] = (15,5)\n",
    "    plt.subplot(1, 2, 1)\n",
    "    plt.xlim(-1, 1)\n",
    "    plt.hist(atrib_df.large_in_lifetime - atrib_df.small_in_lifetime,\n",
    "             bins=20, color='blue')\n",
    "    plt.ylabel('frequency', fontsize=15)\n",
    "\n",
    "    plt.subplot(1, 2, 2)\n",
    "    plt.ylim(0,30); plt.xlim(-1,1)\n",
    "    plt.scatter(atrib_df.large_in_lifetime - atrib_df.small_in_lifetime,\n",
    "                atrib_df.duration, alpha=0.3, c='blue')\n",
    "    plt.ylabel('duration', fontsize=15)\n",
    "    plt.show()"
   ]
  },
  {
   "cell_type": "code",
   "execution_count": null,
   "id": "2d8f472e-a58b-44e4-9265-85e62afc0062",
   "metadata": {},
   "outputs": [],
   "source": [
    "plot_in_lifetime(attributes_df)"
   ]
  },
  {
   "cell_type": "code",
   "execution_count": null,
   "id": "40e028fd-032f-4cdd-92a2-41ec2212751b",
   "metadata": {},
   "outputs": [],
   "source": [
    "plot_in_lifetime(atdf_wi)\n",
    "plot_in_lifetime(atdf_sp)\n",
    "plot_in_lifetime(atdf_su)\n",
    "plot_in_lifetime(atdf_f)"
   ]
  },
  {
   "cell_type": "code",
   "execution_count": null,
   "id": "043549db-68ee-48d9-93e9-0403ca158aa3",
   "metadata": {},
   "outputs": [],
   "source": [
    "measures = list(atdf_su.columns)\n",
    "print(len(measures))\n",
    "del measures[9:13]\n",
    "print(len(measures))"
   ]
  },
  {
   "cell_type": "code",
   "execution_count": null,
   "id": "ce2b830a-e244-484f-986f-c6fef95045a3",
   "metadata": {},
   "outputs": [],
   "source": [
    "for i in measures:\n",
    "    plot_violinplot_of_measure(atdf_wi, atdf_sp, atdf_su, atdf_f,str(i))"
   ]
  },
  {
   "cell_type": "code",
   "execution_count": null,
   "id": "6c38c153-4788-46fa-a384-7f1267f93196",
   "metadata": {},
   "outputs": [],
   "source": [
    "# make new attributes\n",
    "bymonth = np.resize(np.arange(1,13),12*167)[1:-11]\n",
    "\n",
    "attributes_df['timestep_maxspatextime'] = attributes_df['first_timestep'] + attributes_df['when_large']\n",
    "attributes_df['timestep_minspatextime'] = attributes_df['first_timestep'] + attributes_df['when_small']\n",
    "\n",
    "attributes_df['month_maxspatextime'] = np.take(bymonth, \n",
    "                                               attributes_df['timestep_maxspatextime'].values.astype(int))\n",
    "attributes_df['month_minspatextime'] = np.take(bymonth, \n",
    "                                               attributes_df['timestep_minspatextime'].values.astype(int))"
   ]
  },
  {
   "cell_type": "code",
   "execution_count": null,
   "id": "e2f5b166-94f1-4346-a09c-cf791b247169",
   "metadata": {},
   "outputs": [],
   "source": [
    "print(attributes_df.shape)\n",
    "attributes_df.head()"
   ]
  },
  {
   "cell_type": "code",
   "execution_count": null,
   "id": "b64478fd-9351-4142-9260-f877ec7033d4",
   "metadata": {},
   "outputs": [],
   "source": [
    "# # the columns 'first_timestep' and 'month' are extremely strong. We don't want to use it.\n",
    "attributes_df = attributes_df.drop(columns=['first_timestep']) \n",
    "attributes_df = attributes_df.drop(columns=['month'])\n",
    "attributes_df = attributes_df.drop(columns=['max_spatial_extent_time']) # this is redundant. It is the same as max_spatial_extent_time\n",
    "print(attributes_df.shape) # shape: (1,10)\n",
    "\n",
    "metrics = list(attributes_df.columns)"
   ]
  },
  {
   "cell_type": "code",
   "execution_count": null,
   "id": "784723e4-20ad-42fa-8fa3-67c896469e1a",
   "metadata": {},
   "outputs": [],
   "source": [
    "f, ax = plt.subplots(figsize=(22, 8))\n",
    "\n",
    "corr = attributes_df.corr()\n",
    "\n",
    "mask = np.zeros_like(corr, dtype=np.bool)\n",
    "mask[np.triu_indices_from(mask)] = True\n",
    "# Want diagonal elements as well\n",
    "mask[np.diag_indices_from(mask)] = False\n",
    "\n",
    "hm = sns.heatmap(round(corr,2), mask=mask, annot=True, ax=ax, cmap=\"coolwarm\", fmt='.2f',\n",
    "                 linewidths=.05, vmin=-1, vmax=1)\n",
    "f.subplots_adjust(top=0.93)\n",
    "t= f.suptitle('Attributes Correlation Heatmap', fontsize=14)"
   ]
  },
  {
   "cell_type": "code",
   "execution_count": null,
   "id": "62ccf989-92b7-4a48-a7d4-5b80ee4ba1d5",
   "metadata": {},
   "outputs": [],
   "source": [
    "scaler = preprocessing.MinMaxScaler() # scaling\n",
    "features_normal = scaler.fit_transform(attributes_df)"
   ]
  },
  {
   "cell_type": "code",
   "execution_count": null,
   "id": "a39e8e61-046c-43e5-b7bb-7a3f7ebc2a77",
   "metadata": {},
   "outputs": [],
   "source": [
    "N = int(features_normal.shape[0])\n",
    "X = features_normal\n",
    "\n",
    "mean_data = np.mean(X,0)\n",
    "centered_X = X - mean_data\n",
    "print(centered_X.shape)"
   ]
  },
  {
   "cell_type": "code",
   "execution_count": null,
   "id": "10402ced-fdd5-4d6f-89d7-4498df9f008b",
   "metadata": {},
   "outputs": [],
   "source": [
    "# elbow plot\n",
    "KK = np.arange(1,10)\n",
    "WSS = []\n",
    "\n",
    "for j in range(len(KK)):\n",
    "    KMM = skl.cluster.KMeans(n_clusters=KK[j], random_state=0)\n",
    "    KMM.fit(centered_X)\n",
    "    centroids = KMM.cluster_centers_\n",
    "    Y_pred = KMM.labels_\n",
    "  # compute WSS \n",
    "    wss = 0\n",
    "    for i in range(N):\n",
    "        current_cents = centroids[Y_pred[i]]\n",
    "        wss += np.linalg.norm( centered_X[i] - current_cents )**2\n",
    "    WSS.append(wss)"
   ]
  },
  {
   "cell_type": "code",
   "execution_count": null,
   "id": "cc90a611-7136-4f7b-80ff-3b88bfbb9a84",
   "metadata": {},
   "outputs": [],
   "source": [
    "plt.rcParams[\"figure.figsize\"] = (6,6)\n",
    "plt.plot(KK, WSS)\n",
    "plt.xlabel('K'); plt.ylabel('WSS(K)')\n",
    "plt.show()"
   ]
  },
  {
   "cell_type": "code",
   "execution_count": null,
   "id": "c7c0d037-73cc-4abb-8d95-13b8d2ec6950",
   "metadata": {},
   "outputs": [],
   "source": [
    "pca = PCA(n_components = 5)\n",
    "pca.fit(centered_X)\n",
    "frobenius_norm = np.sqrt(sum(pca.singular_values_**2))\n",
    "print(frobenius_norm)"
   ]
  },
  {
   "cell_type": "code",
   "execution_count": null,
   "id": "d4aafa38-c84b-4aa3-90f5-18303812c65a",
   "metadata": {},
   "outputs": [],
   "source": [
    "nuclear_norm = np.linalg.norm(pca.singular_values_) # is the sum of singular singulars\n",
    "sv_scaled = pca.singular_values_**2/(nuclear_norm**2) \n",
    "sv_scaled = pca.explained_variance_ratio_\n",
    "sv_total = np.cumsum(pca.singular_values_**2)/(nuclear_norm**2)"
   ]
  },
  {
   "cell_type": "code",
   "execution_count": null,
   "id": "2a624208-6f09-4294-ac23-dc6d60369a48",
   "metadata": {
    "tags": []
   },
   "outputs": [],
   "source": [
    "plt.rcParams[\"figure.figsize\"] = (25,6)\n",
    "\n",
    "plt.subplot(1, 4, 1)\n",
    "plt.plot(sv_scaled, 'blue') # equivalent to pca.explained_variance_ratio_\n",
    "plt.xticks(fontsize=15); plt.yticks(fontsize=15)\n",
    "plt.xlabel('PCA component', fontsize=15)\n",
    "plt.ylabel('explained variance ratio', fontsize=15)\n",
    "\n",
    "plt.subplot(1, 4, 2)\n",
    "plt.plot(sv_total, 'blue')\n",
    "plt.xticks(fontsize=15); plt.yticks(fontsize=15)\n",
    "plt.xlabel('PCA component', fontsize=15)\n",
    "plt.ylabel('cumulatiave explained variance ratio', fontsize=15)\n",
    "\n",
    "plt.subplot(1, 4, 3)\n",
    "plt.plot(sv_total[:30], 'blue')\n",
    "plt.xticks(fontsize=15); plt.yticks(fontsize=15)\n",
    "plt.xlabel('PCA component', fontsize=15)\n",
    "plt.ylabel('cumulatiave explained variance ratio', fontsize=15)\n",
    "\n",
    "plt.subplot(1, 4, 4)\n",
    "plt.plot(np.log(sv_scaled),'blue') # equivalent to np.log(pca.singular_values_)\n",
    "plt.xticks(fontsize=15); plt.yticks(fontsize=15)\n",
    "plt.xlabel('PCA component', fontsize=15)\n",
    "plt.ylabel('log(explained variance ratio)', fontsize=15)\n",
    "\n",
    "plt.show()"
   ]
  },
  {
   "cell_type": "code",
   "execution_count": null,
   "id": "236bb895-be73-4125-bd79-460714662f40",
   "metadata": {},
   "outputs": [],
   "source": [
    "def no_pca_modes(ratio):\n",
    "    pca_test = PCA(n_components=1)\n",
    "    pca_test.fit(centered_X)\n",
    "    np.sqrt(sum(pca_test.singular_values_**2))\n",
    "    i = 1\n",
    "    while np.sqrt(sum(pca_test.singular_values_**2)) < ratio*frobenius_norm:\n",
    "        i += 1\n",
    "        pca_test = PCA(n_components=i)\n",
    "        pca_test.fit(centered_X)\n",
    "    return i\n",
    "\n",
    "print('Number of PCA modes to keep to approximate X_train up to 60%: ', no_pca_modes(0.6))\n",
    "print('Number of PCA modes to keep to approximate X_train up to 80%: ',no_pca_modes(0.8))\n",
    "print('Number of PCA modes to keep to approximate X_train up to 90%: ',no_pca_modes(0.9))"
   ]
  },
  {
   "cell_type": "code",
   "execution_count": null,
   "id": "5bc76de6-2607-4a80-ae71-d5c51e0b1995",
   "metadata": {},
   "outputs": [],
   "source": [
    "transformed = pca.fit_transform(centered_X)\n",
    "transformed_df = pd.DataFrame(data = transformed, columns = ['PC1', 'PC2','PC3','PC4','PC5'])"
   ]
  },
  {
   "cell_type": "code",
   "execution_count": null,
   "id": "95a37f5c-4424-49a3-8c73-d3c02c20d98c",
   "metadata": {},
   "outputs": [],
   "source": [
    "plt.rcParams[\"figure.figsize\"] = (20,20)\n",
    "pd.plotting.scatter_matrix(transformed_df,alpha=0.4)\n",
    "plt.show()\n",
    "# why do we see histograms?"
   ]
  },
  {
   "cell_type": "code",
   "execution_count": null,
   "id": "23f9c0d6-aa93-408d-9c8a-31b6dc3570ee",
   "metadata": {},
   "outputs": [],
   "source": [
    "# number of components\n",
    "n_pcs= pca.components_.shape[0]; print(n_pcs)"
   ]
  },
  {
   "cell_type": "code",
   "execution_count": null,
   "id": "731200e5-aa60-4c33-be26-00c5058824ac",
   "metadata": {},
   "outputs": [],
   "source": [
    "plt.rcParams[\"figure.figsize\"] = (10,10)\n",
    "plt.rcParams[\"axes.edgecolor\"] = \"0.15\"\n",
    "plt.rcParams[\"axes.linewidth\"]  = 1.\n",
    "    \n",
    "plt.xlabel('Principal Component', fontsize=15)\n",
    "plt.ylabel('Attribute', fontsize=15)\n",
    "plt.xticks(np.arange(0.5, 5.5, 1),np.arange(1,n_pcs+1), fontsize=15)\n",
    "plt.yticks(np.arange(0.5,16.5,1), metrics, rotation=0, fontsize=15)\n",
    "\n",
    "levels = np.arange(0, 1.1, .1)\n",
    "cmap = plt.cm.get_cmap('Blues')\n",
    "\n",
    "plt.pcolormesh(np.abs(pca.components_).T,cmap=cmap,edgecolors='k',norm = mpl.colors.BoundaryNorm(levels, ncolors=cmap.N, clip=False))\n",
    "cb = plt.colorbar()\n",
    "cb.ax.tick_params(labelsize=15)\n",
    "plt.show()"
   ]
  },
  {
   "cell_type": "code",
   "execution_count": null,
   "id": "377ba565-1050-471f-b068-a21937252bc3",
   "metadata": {},
   "outputs": [],
   "source": [
    "attributes_df.shape"
   ]
  },
  {
   "cell_type": "code",
   "execution_count": null,
   "id": "d3b1a1b8-6cc2-4127-9d7a-c4738a5a5305",
   "metadata": {},
   "outputs": [],
   "source": [
    "K = 5\n",
    "\n",
    "KMM = skl.cluster.KMeans(n_clusters=K, random_state=0).fit(X)\n",
    "Y_pred = np.array(KMM.labels_, dtype=float) # predicted clusters by K-means\n",
    "\n",
    "print(Y_pred.shape)\n",
    "print(KMM.cluster_centers_.shape)\n",
    "print(X.shape)\n",
    "\n",
    "labels = pd.DataFrame(KMM.labels_)\n",
    "labeledattributes = pd.concat((attributes_df,labels),axis=1)\n",
    "labeledattributes = labeledattributes.rename({0:'labels'},axis=1)"
   ]
  },
  {
   "cell_type": "code",
   "execution_count": null,
   "id": "4e808cf4-8856-4e76-a0a5-b500490c641e",
   "metadata": {},
   "outputs": [],
   "source": [
    "cluster_centers = KMM.cluster_centers_.shape"
   ]
  },
  {
   "cell_type": "code",
   "execution_count": null,
   "id": "b21bc995-531c-4f11-9900-d533c3349eaf",
   "metadata": {},
   "outputs": [],
   "source": [
    "cluster_centers"
   ]
  },
  {
   "cell_type": "code",
   "execution_count": null,
   "id": "3bafe073-320b-4fb4-a1d3-59444b7c2556",
   "metadata": {},
   "outputs": [],
   "source": [
    "fig, ax = plt.subplots()\n",
    "\n",
    "plt.axhline(y=0, c='k', alpha=0.4)\n",
    "plt.axvline(x=0, c='k', alpha=0.4)\n",
    "scatter = ax.scatter(transformed_df.PC1, transformed_df.PC2,c=Y_pred, alpha=0.5, edgecolor='k', cmap='tab10')\n",
    "\n",
    "# produce a legend with the unique colors from the scatter\n",
    "legend1 = ax.legend(*scatter.legend_elements(),\n",
    "                    loc=\"upper right\", bbox_to_anchor=(1.2, 1.0), title=\"Classes\")\n",
    "ax.add_artist(legend1)\n",
    "plt.xlabel('PC1', fontsize=15); plt.ylabel('PC2', fontsize=15)\n",
    "# plt.xlim(-0.6, 1.5); plt.ylim(-0.6, 1.5)\n",
    "plt.show()"
   ]
  },
  {
   "cell_type": "code",
   "execution_count": null,
   "id": "0334e58a-3d0b-41e7-b4e4-637f7c837223",
   "metadata": {},
   "outputs": [],
   "source": [
    "sns.pairplot(labeledattributes, hue=\"labels\", diag_kind=\"hist\", palette='tab10')\n",
    "# sns.pairplot(labeledattributes,hue='labels')\n",
    "plt.show()"
   ]
  },
  {
   "cell_type": "markdown",
   "id": "cc9df3a0-e75c-46f2-bbc8-cbf6716ec948",
   "metadata": {},
   "source": [
    "## t-SNE: t-distributed stochastic neighbor embedding"
   ]
  },
  {
   "cell_type": "code",
   "execution_count": null,
   "id": "f92bb454-e49e-42ec-8dd3-229af57a7403",
   "metadata": {},
   "outputs": [],
   "source": [
    "# We want to get TSNE embedding with 2 dimensions\n",
    "n_components = 2\n",
    "tsne = TSNE(n_components)\n",
    "tsne_result = tsne.fit_transform(centered_X)\n",
    "print(tsne_result.shape)\n",
    " \n",
    "#Plot the result of our TSNE with the label color coded\n",
    "tsne_result_df = pd.DataFrame({'tsne_1': tsne_result[:,0], \n",
    "                               'tsne_2': tsne_result[:,1],\n",
    "                               'label': Y_pred})\n",
    "fig, ax = plt.subplots(1)\n",
    "sns.scatterplot(x='tsne_1', \n",
    "                y='tsne_2', \n",
    "                hue='label', \n",
    "                data=tsne_result_df, \n",
    "                ax=ax,s=120,\n",
    "                alpha=0.5, \n",
    "                palette='bright')\n",
    "lim = (tsne_result.min()-5, \n",
    "       tsne_result.max()+5)\n",
    "ax.set_xlim(lim)\n",
    "ax.set_ylim(lim)\n",
    "ax.set_aspect('equal')\n",
    "ax.legend(bbox_to_anchor=(1.05, 1), \n",
    "          loc=2, borderaxespad=0.0)\n",
    "plt.show()\n",
    "\n",
    "# what are tsne1 and tsn2 telling us?"
   ]
  },
  {
   "cell_type": "code",
   "execution_count": null,
   "id": "8bad0bba-a3f4-47b7-8d4f-0e35c54ee53f",
   "metadata": {},
   "outputs": [],
   "source": [
    "res_list_0 = [i for i in range(len(Y_pred)) if Y_pred[i] == 0.0]\n",
    "res_list_1 = [i for i in range(len(Y_pred)) if Y_pred[i] == 1.0]\n",
    "res_list_2 = [i for i in range(len(Y_pred)) if Y_pred[i] == 2.0]\n",
    "res_list_3 = [i for i in range(len(Y_pred)) if Y_pred[i] == 3.0]\n",
    "res_list_4 = [i for i in range(len(Y_pred)) if Y_pred[i] == 4.0]"
   ]
  },
  {
   "cell_type": "code",
   "execution_count": null,
   "id": "8d80b87e-6e14-4e18-846f-dd61b7a309f4",
   "metadata": {},
   "outputs": [],
   "source": [
    "group0 = attributes_df.iloc[res_list_0,:]\n",
    "group1 = attributes_df.iloc[res_list_1,:]\n",
    "group2 = attributes_df.iloc[res_list_2,:]\n",
    "group3 = attributes_df.iloc[res_list_3,:]\n",
    "group4 = attributes_df.iloc[res_list_4,:]"
   ]
  },
  {
   "cell_type": "code",
   "execution_count": null,
   "id": "1e9ded81-3641-4776-8c73-7fa9d31eb6af",
   "metadata": {},
   "outputs": [],
   "source": [
    "print(np.nanmax(centered_X[res_list_0]))\n",
    "print(np.nanmin(centered_X[res_list_0]))"
   ]
  },
  {
   "cell_type": "code",
   "execution_count": null,
   "id": "b80d1a1d-aef1-475d-81f3-825818567c4c",
   "metadata": {},
   "outputs": [],
   "source": [
    "print(np.sum(centered_X[res_list_0],axis=0))"
   ]
  },
  {
   "cell_type": "code",
   "execution_count": null,
   "id": "f4a7d8fb-492e-489a-9995-eb76c9a01203",
   "metadata": {},
   "outputs": [],
   "source": [
    "# import plotly.express as px\n",
    "# fig = px.scatter(x='tsne_1', \n",
    "#                 y='tsne_2', \n",
    "#                 c=labels, \n",
    "#                 data=tsne_result_df)\n",
    "# fig.show()"
   ]
  },
  {
   "cell_type": "code",
   "execution_count": null,
   "id": "d088ca67-68e1-4f53-804a-1a78d7fc80aa",
   "metadata": {},
   "outputs": [],
   "source": [
    "len(np.sum(centered_X[res_list_0],axis=0))"
   ]
  },
  {
   "cell_type": "code",
   "execution_count": null,
   "id": "e8a13cee-9d03-4c89-80be-8e1e57cd0f7f",
   "metadata": {},
   "outputs": [],
   "source": [
    "plt.scatter(np.arange(16), np.sum(centered_X[res_list_0],axis=0),label='1',c='red')\n",
    "plt.scatter(np.arange(16), np.sum(centered_X[res_list_1],axis=0),label='2',c='blue')\n",
    "plt.scatter(np.arange(16), np.sum(centered_X[res_list_2],axis=0),label='3',c='green')\n",
    "plt.scatter(np.arange(16), np.sum(centered_X[res_list_3],axis=0),label='4',c='orange')\n",
    "plt.scatter(np.arange(16), np.sum(centered_X[res_list_4],axis=0),label='5',c='purple')\n",
    "plt.legend()\n",
    "plt.show()\n",
    "\n",
    "plt.scatter(np.arange(16), np.mean(centered_X[res_list_0],axis=0),label='1',c='red')\n",
    "plt.scatter(np.arange(16), np.mean(centered_X[res_list_1],axis=0),label='2',c='blue')\n",
    "plt.scatter(np.arange(16), np.mean(centered_X[res_list_2],axis=0),label='3',c='green')\n",
    "plt.scatter(np.arange(16), np.mean(centered_X[res_list_3],axis=0),label='4',c='orange')\n",
    "plt.scatter(np.arange(16), np.mean(centered_X[res_list_4],axis=0),label='5',c='purple')\n",
    "plt.show()"
   ]
  },
  {
   "cell_type": "code",
   "execution_count": null,
   "id": "47541ee7-d2db-4500-ac32-9063580fbbbe",
   "metadata": {},
   "outputs": [],
   "source": [
    "fig, axs = plt.subplots(23,6, figsize=(22, 72), facecolor='w', edgecolor='k')\n",
    "\n",
    "fig.subplots_adjust(hspace = .3, wspace=.3)\n",
    "\n",
    "axs = axs.ravel()\n",
    "\n",
    "for i in range(138):\n",
    "    axs[i].bar(np.arange(11),centered_X[res_list_0][i,:])\n",
    "    axs[i].set_xlim(-0.5,11.5); axs[i].set_ylim(-0.1,0.8)\n",
    "    axs[i].set_title(str(i),fontsize=15)"
   ]
  },
  {
   "cell_type": "code",
   "execution_count": null,
   "id": "a649ac2f-04a3-49ad-bb26-c13b4af44ad3",
   "metadata": {},
   "outputs": [],
   "source": [
    "# Hierarchical Clustering (relationship) --> dendogram"
   ]
  },
  {
   "cell_type": "code",
   "execution_count": null,
   "id": "4ef55db1-cc6e-495d-b567-4f03d6bcf87e",
   "metadata": {},
   "outputs": [],
   "source": [
    "# Plot an actual picture (barplots)"
   ]
  },
  {
   "cell_type": "markdown",
   "id": "8d3b84b1-5f85-4a2a-9242-0042c44e9056",
   "metadata": {},
   "source": [
    "- https://plotly.com/python/pca-visualization/"
   ]
  }
 ],
 "metadata": {
  "kernelspec": {
   "display_name": "test-env",
   "language": "python",
   "name": "test-env"
  },
  "language_info": {
   "codemirror_mode": {
    "name": "ipython",
    "version": 3
   },
   "file_extension": ".py",
   "mimetype": "text/x-python",
   "name": "python",
   "nbconvert_exporter": "python",
   "pygments_lexer": "ipython3",
   "version": "3.9.7"
  }
 },
 "nbformat": 4,
 "nbformat_minor": 5
}
